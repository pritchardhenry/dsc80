{
 "cells": [
  {
   "cell_type": "code",
   "execution_count": 1,
   "id": "eeb8b201",
   "metadata": {
    "slideshow": {
     "slide_type": "skip"
    },
    "tags": []
   },
   "outputs": [],
   "source": [
    "import pandas as pd\n",
    "import numpy as np\n",
    "import matplotlib.pyplot as plt\n",
    "import seaborn as sns\n",
    "from matplotlib_inline.backend_inline import set_matplotlib_formats\n",
    "\n",
    "set_matplotlib_formats(\"svg\")\n",
    "sns.set_context(\"poster\")\n",
    "sns.set_style(\"whitegrid\")\n",
    "plt.rcParams[\"figure.figsize\"] = (10, 5)\n",
    "pd.set_option(\"display.max_rows\", 8)\n",
    "pd.set_option(\"display.max_columns\", 8)\n",
    "pd.set_option(\"display.precision\", 2)"
   ]
  },
  {
   "cell_type": "markdown",
   "id": "3143de48",
   "metadata": {
    "slideshow": {
     "slide_type": "slide"
    },
    "tags": []
   },
   "source": [
    "# Lecture 2 – DataFrame Fundamentals\n",
    "\n",
    "## DSC 80, Fall 2023\n",
    "\n",
    "**Pull the repo from GitHub and open lec02.ipynb, we will be coding today!**"
   ]
  },
  {
   "cell_type": "markdown",
   "id": "2a0d867d",
   "metadata": {
    "slideshow": {
     "slide_type": "slide"
    },
    "tags": []
   },
   "source": [
    "### Announcements 📣\n",
    "\n",
    "- The [Welcome Survey](https://forms.gle/8vVAFAkqfW5rQdRq6) is due **tonight at 11:59pm**.\n",
    "- Lab 1 is released, and is due **next Monday, Oct 9th at 11:59PM!**\n",
    "    - See the [Tech Support](https://dsc80.com/tech_support/#replicating-the-gradescope-environment) page for instructions and watch [this video 🎥](https://www.youtube.com/watch?v=PPKXJqu2XmY) for tips on how to set up your environment and work on assignments.\n",
    "    - Please try to set up your computer ASAP, since we have OH on Friday but not over the weekend to help debug your environment.\n",
    "- You may use a slip day, in which case the due date will be Oct 10th.\n",
    "- Discussion tomorrow will talk about **what a conda environment is**, and how to debug package import issues on your own.\n",
    "- Lecture recordings are available [here](https://podcast.ucsd.edu/watch/fa23/dsc80_a00) ."
   ]
  },
  {
   "cell_type": "markdown",
   "id": "5a4afdd4",
   "metadata": {
    "slideshow": {
     "slide_type": "slide"
    },
    "tags": []
   },
   "source": [
    "### Agenda\n",
    "\n",
    "- Whirlwind review of `numpy` and `babypandas`.\n",
    "- `pandas` DataFrame objects.\n",
    "- Subsetting dataframes\n",
    "    - `.loc`, `.iloc`, filtering/querying\n",
    "    \n",
    "Can't cover every single detail! The [`pandas` documentation](https://pandas.pydata.org/docs/user_guide/index.html#user-guide) will be your friend."
   ]
  },
  {
   "cell_type": "markdown",
   "id": "d4dc9df4",
   "metadata": {
    "slideshow": {
     "slide_type": "slide"
    }
   },
   "source": [
    "## Review: `numpy`\n",
    "\n",
    "- NumPy stands for \"numerical Python\". It is a commonly-used Python module that enables **fast** computation involving arrays and matrices.\n",
    "- `numpy`'s main object is the **array**. In `numpy`, arrays are:\n",
    "    - Homogenous – all values are of the same type.\n",
    "    - (Potentially) multi-dimensional.\n",
    "- Computation in `numpy` is fast because:\n",
    "    - Much of it is implemented in C.\n",
    "    - `numpy` arrays are stored more efficiently in memory than, say, Python lists. \n",
    "- [This site](https://cloudxlab.com/blog/numpy-pandas-introduction/) provides a good overview of `numpy` arrays.\n",
    "\n",
    "We used `numpy` in DSC 10 to work with sequences of data:"
   ]
  },
  {
   "cell_type": "code",
   "execution_count": 2,
   "id": "80a82e41",
   "metadata": {},
   "outputs": [
    {
     "data": {
      "text/plain": [
       "array([0, 1, 2, 3, 4, 5, 6, 7, 8, 9])"
      ]
     },
     "execution_count": 2,
     "metadata": {},
     "output_type": "execute_result"
    }
   ],
   "source": [
    "arr = np.arange(10)\n",
    "arr"
   ]
  },
  {
   "cell_type": "code",
   "execution_count": 3,
   "id": "de9f257f",
   "metadata": {},
   "outputs": [
    {
     "data": {
      "text/plain": [
       "array([  1,   2,   4,   8,  16,  32,  64, 128, 256, 512])"
      ]
     },
     "execution_count": 3,
     "metadata": {},
     "output_type": "execute_result"
    }
   ],
   "source": [
    "2 ** arr"
   ]
  },
  {
   "cell_type": "markdown",
   "id": "eb19cca8",
   "metadata": {
    "slideshow": {
     "slide_type": "slide"
    }
   },
   "source": [
    "### ⚠️ The dangers of `for`-loops\n",
    "\n",
    "- `for`-loops are slow when processing large datasets. **You will rarely write `for`-loops in DSC 80 (except for Lab 1 and Project 1), and may be penalized on assignments for using them when unnecessary!**\n",
    "- One of the biggest benefits of `numpy` is that it supports **vectorized** operations. \n",
    "    - If `a` and `b` are two arrays of the same length, then `a + b` is a new array of the same length containing the element-wise sum of `a` and `b`.\n",
    "- To illustrate how much faster `numpy` arithmetic is than using a `for`-loop, let's compute the squares of the numbers between 0 and 1,000,000:\n",
    "    - Using a `for`-loop.\n",
    "    - Using vectorized arithmetic, through `numpy`."
   ]
  },
  {
   "cell_type": "code",
   "execution_count": 4,
   "id": "2f0c5235",
   "metadata": {},
   "outputs": [
    {
     "name": "stdout",
     "output_type": "stream",
     "text": [
      "65 ms ± 926 µs per loop (mean ± std. dev. of 7 runs, 10 loops each)\n"
     ]
    }
   ],
   "source": [
    "%%timeit\n",
    "squares = []\n",
    "for i in range(1_000_000):\n",
    "    squares.append(i * i)"
   ]
  },
  {
   "cell_type": "code",
   "execution_count": 5,
   "id": "1dae0772",
   "metadata": {},
   "outputs": [
    {
     "name": "stdout",
     "output_type": "stream",
     "text": [
      "426 µs ± 1.97 µs per loop (mean ± std. dev. of 7 runs, 1,000 loops each)\n"
     ]
    }
   ],
   "source": [
    "%%timeit\n",
    "squares = np.arange(1_000_000) ** 2"
   ]
  },
  {
   "cell_type": "markdown",
   "id": "07b6d506",
   "metadata": {},
   "source": [
    "- Python: takes about 0.06 seconds per loop\n",
    "- `numpy`: takes about 0.0004 seconds per loop, more than 100x faster!"
   ]
  },
  {
   "cell_type": "markdown",
   "id": "018d58fd",
   "metadata": {
    "slideshow": {
     "slide_type": "slide"
    },
    "tags": []
   },
   "source": [
    "## Introduction to `pandas` 🐼"
   ]
  },
  {
   "cell_type": "markdown",
   "id": "420e9507",
   "metadata": {
    "slideshow": {
     "slide_type": "slide"
    },
    "tags": []
   },
   "source": [
    "### Baby pandas\n",
    "\n",
    "- a subset of pandas that is beginner friendly.\n",
    "<center><img src='imgs/babypanda.jpg' width=45%></center>"
   ]
  },
  {
   "cell_type": "markdown",
   "id": "8412e023",
   "metadata": {
    "slideshow": {
     "slide_type": "slide"
    },
    "tags": []
   },
   "source": [
    "### pandas\n",
    "\n",
    "- everything that you learned in babypandas will carry over.\n",
    "<center><img src='imgs/angrypanda.jpg' width=60%></center>"
   ]
  },
  {
   "cell_type": "markdown",
   "id": "a7137020",
   "metadata": {
    "slideshow": {
     "slide_type": "slide"
    },
    "tags": []
   },
   "source": [
    "### `pandas`\n",
    "\n",
    "<center><img src='imgs/pandas.png' width=200></center>\n",
    "\n",
    "- `pandas` is **the** Python library for tabular data manipulation.\n",
    "- Before `pandas` was developed, the standard data science workflow involved using multiple languages (Python, R, Java) in a single project.\n",
    "- Wes McKinney, the original developer of `pandas`, wanted a library which would allow everything to be done in Python.\n",
    "    - Python is faster to develop in than Java, and is more general-purpose than R."
   ]
  },
  {
   "cell_type": "markdown",
   "id": "d7a959a3",
   "metadata": {
    "slideshow": {
     "slide_type": "slide"
    },
    "tags": []
   },
   "source": [
    "### `pandas` data structures\n",
    "\n",
    "There are three key data structures at the core of `pandas`:\n",
    "- DataFrame: 2 dimensional tables.\n",
    "- Series: 1 dimensional array-like object, typically representing a column or row.\n",
    "- Index: sequence of column or row labels.\n",
    "\n",
    "<center><img src='imgs/example-df.png' width=600></center>"
   ]
  },
  {
   "cell_type": "markdown",
   "id": "1129f156",
   "metadata": {
    "slideshow": {
     "slide_type": "slide"
    },
    "tags": []
   },
   "source": [
    "### Importing `pandas` and related libraries\n",
    "\n",
    "`pandas` is almost always imported in conjunction with `numpy`:"
   ]
  },
  {
   "cell_type": "code",
   "execution_count": 6,
   "id": "f14fcafa-a170-4c65-8921-9ccb867684a3",
   "metadata": {},
   "outputs": [],
   "source": [
    "import pandas as pd\n",
    "import numpy as np"
   ]
  },
  {
   "cell_type": "markdown",
   "id": "8338dfa9-1a08-499f-a46e-5fdd2aa38416",
   "metadata": {
    "slideshow": {
     "slide_type": "slide"
    }
   },
   "source": [
    "### Example: Dog Breeds (woof!) 🐶\n",
    "\n",
    "Data originally from the American Kennel Club, which was made into a [neat plot](https://informationisbeautiful.net/visualizations/best-in-show-whats-the-top-data-dog/):\n",
    "\n",
    "![](https://infobeautiful4.s3.amazonaws.com/2014/11/IIB_Best-In-Show_1276x2.png)"
   ]
  },
  {
   "cell_type": "markdown",
   "id": "d89c5893-5068-412c-abf6-3f8bfbdd4e3e",
   "metadata": {
    "slideshow": {
     "slide_type": "slide"
    }
   },
   "source": [
    "### But...\n",
    "\n",
    "The data are no longer available! One website has a slightly different version: https://tmfilho.github.io/akcdata/\n",
    "\n",
    "We'll use the version that Sam saved while the data were still online."
   ]
  },
  {
   "cell_type": "code",
   "execution_count": 7,
   "id": "2b474816-f046-4086-a311-d8deda2d6a87",
   "metadata": {
    "slideshow": {
     "slide_type": ""
    },
    "tags": []
   },
   "outputs": [
    {
     "data": {
      "text/html": [
       "<div>\n",
       "<style scoped>\n",
       "    .dataframe tbody tr th:only-of-type {\n",
       "        vertical-align: middle;\n",
       "    }\n",
       "\n",
       "    .dataframe tbody tr th {\n",
       "        vertical-align: top;\n",
       "    }\n",
       "\n",
       "    .dataframe thead th {\n",
       "        text-align: right;\n",
       "    }\n",
       "</style>\n",
       "<table border=\"1\" class=\"dataframe\">\n",
       "  <thead>\n",
       "    <tr style=\"text-align: right;\">\n",
       "      <th></th>\n",
       "      <th>breed</th>\n",
       "      <th>group</th>\n",
       "      <th>datadog</th>\n",
       "      <th>popularity_all</th>\n",
       "      <th>...</th>\n",
       "      <th>megarank</th>\n",
       "      <th>size</th>\n",
       "      <th>weight</th>\n",
       "      <th>height</th>\n",
       "    </tr>\n",
       "  </thead>\n",
       "  <tbody>\n",
       "    <tr>\n",
       "      <th>0</th>\n",
       "      <td>Border Collie</td>\n",
       "      <td>herding</td>\n",
       "      <td>3.64</td>\n",
       "      <td>45</td>\n",
       "      <td>...</td>\n",
       "      <td>29.0</td>\n",
       "      <td>medium</td>\n",
       "      <td>NaN</td>\n",
       "      <td>20.0</td>\n",
       "    </tr>\n",
       "    <tr>\n",
       "      <th>1</th>\n",
       "      <td>Border Terrier</td>\n",
       "      <td>terrier</td>\n",
       "      <td>3.61</td>\n",
       "      <td>80</td>\n",
       "      <td>...</td>\n",
       "      <td>1.0</td>\n",
       "      <td>small</td>\n",
       "      <td>13.5</td>\n",
       "      <td>NaN</td>\n",
       "    </tr>\n",
       "    <tr>\n",
       "      <th>2</th>\n",
       "      <td>Brittany</td>\n",
       "      <td>sporting</td>\n",
       "      <td>3.54</td>\n",
       "      <td>30</td>\n",
       "      <td>...</td>\n",
       "      <td>11.0</td>\n",
       "      <td>medium</td>\n",
       "      <td>35.0</td>\n",
       "      <td>19.0</td>\n",
       "    </tr>\n",
       "    <tr>\n",
       "      <th>3</th>\n",
       "      <td>Cairn Terrier</td>\n",
       "      <td>terrier</td>\n",
       "      <td>3.53</td>\n",
       "      <td>59</td>\n",
       "      <td>...</td>\n",
       "      <td>2.0</td>\n",
       "      <td>small</td>\n",
       "      <td>14.0</td>\n",
       "      <td>10.0</td>\n",
       "    </tr>\n",
       "    <tr>\n",
       "      <th>...</th>\n",
       "      <td>...</td>\n",
       "      <td>...</td>\n",
       "      <td>...</td>\n",
       "      <td>...</td>\n",
       "      <td>...</td>\n",
       "      <td>...</td>\n",
       "      <td>...</td>\n",
       "      <td>...</td>\n",
       "      <td>...</td>\n",
       "    </tr>\n",
       "    <tr>\n",
       "      <th>168</th>\n",
       "      <td>Welsh Terrier</td>\n",
       "      <td>terrier</td>\n",
       "      <td>NaN</td>\n",
       "      <td>99</td>\n",
       "      <td>...</td>\n",
       "      <td>NaN</td>\n",
       "      <td>small</td>\n",
       "      <td>20.0</td>\n",
       "      <td>15.0</td>\n",
       "    </tr>\n",
       "    <tr>\n",
       "      <th>169</th>\n",
       "      <td>Wire Fox Terrier</td>\n",
       "      <td>terrier</td>\n",
       "      <td>NaN</td>\n",
       "      <td>100</td>\n",
       "      <td>...</td>\n",
       "      <td>NaN</td>\n",
       "      <td>small</td>\n",
       "      <td>17.5</td>\n",
       "      <td>15.0</td>\n",
       "    </tr>\n",
       "    <tr>\n",
       "      <th>170</th>\n",
       "      <td>Wirehaired Pointing Griffon</td>\n",
       "      <td>sporting</td>\n",
       "      <td>NaN</td>\n",
       "      <td>92</td>\n",
       "      <td>...</td>\n",
       "      <td>NaN</td>\n",
       "      <td>medium</td>\n",
       "      <td>NaN</td>\n",
       "      <td>22.0</td>\n",
       "    </tr>\n",
       "    <tr>\n",
       "      <th>171</th>\n",
       "      <td>Xoloitzcuintli</td>\n",
       "      <td>non-sporting</td>\n",
       "      <td>NaN</td>\n",
       "      <td>155</td>\n",
       "      <td>...</td>\n",
       "      <td>NaN</td>\n",
       "      <td>medium</td>\n",
       "      <td>NaN</td>\n",
       "      <td>16.5</td>\n",
       "    </tr>\n",
       "  </tbody>\n",
       "</table>\n",
       "<p>172 rows × 18 columns</p>\n",
       "</div>"
      ],
      "text/plain": [
       "                           breed         group  datadog  popularity_all  ...  \\\n",
       "0                  Border Collie       herding     3.64              45  ...   \n",
       "1                 Border Terrier       terrier     3.61              80  ...   \n",
       "2                       Brittany      sporting     3.54              30  ...   \n",
       "3                  Cairn Terrier       terrier     3.53              59  ...   \n",
       "..                           ...           ...      ...             ...  ...   \n",
       "168                Welsh Terrier       terrier      NaN              99  ...   \n",
       "169             Wire Fox Terrier       terrier      NaN             100  ...   \n",
       "170  Wirehaired Pointing Griffon      sporting      NaN              92  ...   \n",
       "171               Xoloitzcuintli  non-sporting      NaN             155  ...   \n",
       "\n",
       "     megarank    size  weight  height  \n",
       "0        29.0  medium     NaN    20.0  \n",
       "1         1.0   small    13.5     NaN  \n",
       "2        11.0  medium    35.0    19.0  \n",
       "3         2.0   small    14.0    10.0  \n",
       "..        ...     ...     ...     ...  \n",
       "168       NaN   small    20.0    15.0  \n",
       "169       NaN   small    17.5    15.0  \n",
       "170       NaN  medium     NaN    22.0  \n",
       "171       NaN  medium     NaN    16.5  \n",
       "\n",
       "[172 rows x 18 columns]"
      ]
     },
     "execution_count": 7,
     "metadata": {},
     "output_type": "execute_result"
    }
   ],
   "source": [
    "all_dogs = pd.read_csv('data/all_dogs.csv')\n",
    "all_dogs"
   ]
  },
  {
   "cell_type": "code",
   "execution_count": 8,
   "id": "3fe2d8b0-6fc5-400a-ba28-7602b8980459",
   "metadata": {
    "slideshow": {
     "slide_type": ""
    },
    "tags": []
   },
   "outputs": [
    {
     "data": {
      "text/plain": [
       "Index(['breed', 'group', 'datadog', 'popularity_all', 'popularity',\n",
       "       'lifetime_cost', 'intelligence_rank', 'longevity', 'ailments', 'price',\n",
       "       'food_cost', 'grooming', 'kids', 'megarank_kids', 'megarank', 'size',\n",
       "       'weight', 'height'],\n",
       "      dtype='object')"
      ]
     },
     "execution_count": 8,
     "metadata": {},
     "output_type": "execute_result"
    }
   ],
   "source": [
    "all_dogs.columns"
   ]
  },
  {
   "cell_type": "markdown",
   "id": "b1d8ef45-07c5-4484-aafd-f48ffe4bf6d5",
   "metadata": {
    "slideshow": {
     "slide_type": "slide"
    },
    "tags": []
   },
   "source": [
    "#### Discussion Question\n",
    "\n",
    "Let's refresh your DSC 10 knowledge! Find the most popular and least popular dog breeds using the `popularity_all` column."
   ]
  },
  {
   "cell_type": "code",
   "execution_count": 9,
   "id": "0ca01bf9-48f9-48b7-9042-2d52682ceea7",
   "metadata": {},
   "outputs": [],
   "source": [
    "# Fill in this cell"
   ]
  },
  {
   "cell_type": "markdown",
   "id": "09f320d6",
   "metadata": {
    "slideshow": {
     "slide_type": "slide"
    }
   },
   "source": [
    "### A Smaller Dogs Dataframe\n",
    "\n",
    "The `all_dogs` dataframe is a bit large, so we have a smaller version here to make it easier to show `pandas` functionality."
   ]
  },
  {
   "cell_type": "code",
   "execution_count": 10,
   "id": "9e5816af",
   "metadata": {},
   "outputs": [
    {
     "data": {
      "text/html": [
       "<div>\n",
       "<style scoped>\n",
       "    .dataframe tbody tr th:only-of-type {\n",
       "        vertical-align: middle;\n",
       "    }\n",
       "\n",
       "    .dataframe tbody tr th {\n",
       "        vertical-align: top;\n",
       "    }\n",
       "\n",
       "    .dataframe thead th {\n",
       "        text-align: right;\n",
       "    }\n",
       "</style>\n",
       "<table border=\"1\" class=\"dataframe\">\n",
       "  <thead>\n",
       "    <tr style=\"text-align: right;\">\n",
       "      <th></th>\n",
       "      <th>breed</th>\n",
       "      <th>kind</th>\n",
       "      <th>lifetime_cost</th>\n",
       "      <th>longevity</th>\n",
       "      <th>size</th>\n",
       "      <th>weight</th>\n",
       "      <th>height</th>\n",
       "    </tr>\n",
       "  </thead>\n",
       "  <tbody>\n",
       "    <tr>\n",
       "      <th>0</th>\n",
       "      <td>Brittany</td>\n",
       "      <td>sporting</td>\n",
       "      <td>22589.0</td>\n",
       "      <td>12.92</td>\n",
       "      <td>medium</td>\n",
       "      <td>35.0</td>\n",
       "      <td>19.0</td>\n",
       "    </tr>\n",
       "    <tr>\n",
       "      <th>1</th>\n",
       "      <td>Cairn Terrier</td>\n",
       "      <td>terrier</td>\n",
       "      <td>21992.0</td>\n",
       "      <td>13.84</td>\n",
       "      <td>small</td>\n",
       "      <td>14.0</td>\n",
       "      <td>10.0</td>\n",
       "    </tr>\n",
       "    <tr>\n",
       "      <th>2</th>\n",
       "      <td>English Cocker Spaniel</td>\n",
       "      <td>sporting</td>\n",
       "      <td>18993.0</td>\n",
       "      <td>11.66</td>\n",
       "      <td>medium</td>\n",
       "      <td>30.0</td>\n",
       "      <td>16.0</td>\n",
       "    </tr>\n",
       "    <tr>\n",
       "      <th>3</th>\n",
       "      <td>Cocker Spaniel</td>\n",
       "      <td>sporting</td>\n",
       "      <td>24330.0</td>\n",
       "      <td>12.50</td>\n",
       "      <td>small</td>\n",
       "      <td>25.0</td>\n",
       "      <td>14.5</td>\n",
       "    </tr>\n",
       "    <tr>\n",
       "      <th>...</th>\n",
       "      <td>...</td>\n",
       "      <td>...</td>\n",
       "      <td>...</td>\n",
       "      <td>...</td>\n",
       "      <td>...</td>\n",
       "      <td>...</td>\n",
       "      <td>...</td>\n",
       "    </tr>\n",
       "    <tr>\n",
       "      <th>39</th>\n",
       "      <td>Bloodhound</td>\n",
       "      <td>hound</td>\n",
       "      <td>13824.0</td>\n",
       "      <td>6.75</td>\n",
       "      <td>large</td>\n",
       "      <td>85.0</td>\n",
       "      <td>25.0</td>\n",
       "    </tr>\n",
       "    <tr>\n",
       "      <th>40</th>\n",
       "      <td>Bullmastiff</td>\n",
       "      <td>working</td>\n",
       "      <td>13936.0</td>\n",
       "      <td>7.57</td>\n",
       "      <td>large</td>\n",
       "      <td>115.0</td>\n",
       "      <td>25.5</td>\n",
       "    </tr>\n",
       "    <tr>\n",
       "      <th>41</th>\n",
       "      <td>Mastiff</td>\n",
       "      <td>working</td>\n",
       "      <td>13581.0</td>\n",
       "      <td>6.50</td>\n",
       "      <td>large</td>\n",
       "      <td>175.0</td>\n",
       "      <td>30.0</td>\n",
       "    </tr>\n",
       "    <tr>\n",
       "      <th>42</th>\n",
       "      <td>Saint Bernard</td>\n",
       "      <td>working</td>\n",
       "      <td>20022.0</td>\n",
       "      <td>7.78</td>\n",
       "      <td>large</td>\n",
       "      <td>155.0</td>\n",
       "      <td>26.5</td>\n",
       "    </tr>\n",
       "  </tbody>\n",
       "</table>\n",
       "<p>43 rows × 7 columns</p>\n",
       "</div>"
      ],
      "text/plain": [
       "                     breed      kind  lifetime_cost  longevity    size  \\\n",
       "0                 Brittany  sporting        22589.0      12.92  medium   \n",
       "1            Cairn Terrier   terrier        21992.0      13.84   small   \n",
       "2   English Cocker Spaniel  sporting        18993.0      11.66  medium   \n",
       "3           Cocker Spaniel  sporting        24330.0      12.50   small   \n",
       "..                     ...       ...            ...        ...     ...   \n",
       "39              Bloodhound     hound        13824.0       6.75   large   \n",
       "40             Bullmastiff   working        13936.0       7.57   large   \n",
       "41                 Mastiff   working        13581.0       6.50   large   \n",
       "42           Saint Bernard   working        20022.0       7.78   large   \n",
       "\n",
       "    weight  height  \n",
       "0     35.0    19.0  \n",
       "1     14.0    10.0  \n",
       "2     30.0    16.0  \n",
       "3     25.0    14.5  \n",
       "..     ...     ...  \n",
       "39    85.0    25.0  \n",
       "40   115.0    25.5  \n",
       "41   175.0    30.0  \n",
       "42   155.0    26.5  \n",
       "\n",
       "[43 rows x 7 columns]"
      ]
     },
     "execution_count": 10,
     "metadata": {},
     "output_type": "execute_result"
    }
   ],
   "source": [
    "dogs = pd.read_csv('data/dogs43.csv')\n",
    "dogs"
   ]
  },
  {
   "cell_type": "markdown",
   "id": "37dfa85f-ec32-4e80-96c8-44a7e4648bb5",
   "metadata": {
    "slideshow": {
     "slide_type": "slide"
    }
   },
   "source": [
    "### Review: `head`, `tail`, `shape`, `index`, `get`, `sort_values`\n",
    "\n",
    "To extract the first or last few rows of a DataFrame, use the `head` or `tail` methods."
   ]
  },
  {
   "cell_type": "code",
   "execution_count": 11,
   "id": "40b81a37-c457-43ca-97ac-ba41e6192800",
   "metadata": {},
   "outputs": [
    {
     "data": {
      "text/html": [
       "<div>\n",
       "<style scoped>\n",
       "    .dataframe tbody tr th:only-of-type {\n",
       "        vertical-align: middle;\n",
       "    }\n",
       "\n",
       "    .dataframe tbody tr th {\n",
       "        vertical-align: top;\n",
       "    }\n",
       "\n",
       "    .dataframe thead th {\n",
       "        text-align: right;\n",
       "    }\n",
       "</style>\n",
       "<table border=\"1\" class=\"dataframe\">\n",
       "  <thead>\n",
       "    <tr style=\"text-align: right;\">\n",
       "      <th></th>\n",
       "      <th>breed</th>\n",
       "      <th>kind</th>\n",
       "      <th>lifetime_cost</th>\n",
       "      <th>longevity</th>\n",
       "      <th>size</th>\n",
       "      <th>weight</th>\n",
       "      <th>height</th>\n",
       "    </tr>\n",
       "  </thead>\n",
       "  <tbody>\n",
       "    <tr>\n",
       "      <th>0</th>\n",
       "      <td>Brittany</td>\n",
       "      <td>sporting</td>\n",
       "      <td>22589.0</td>\n",
       "      <td>12.92</td>\n",
       "      <td>medium</td>\n",
       "      <td>35.0</td>\n",
       "      <td>19.0</td>\n",
       "    </tr>\n",
       "    <tr>\n",
       "      <th>1</th>\n",
       "      <td>Cairn Terrier</td>\n",
       "      <td>terrier</td>\n",
       "      <td>21992.0</td>\n",
       "      <td>13.84</td>\n",
       "      <td>small</td>\n",
       "      <td>14.0</td>\n",
       "      <td>10.0</td>\n",
       "    </tr>\n",
       "    <tr>\n",
       "      <th>2</th>\n",
       "      <td>English Cocker Spaniel</td>\n",
       "      <td>sporting</td>\n",
       "      <td>18993.0</td>\n",
       "      <td>11.66</td>\n",
       "      <td>medium</td>\n",
       "      <td>30.0</td>\n",
       "      <td>16.0</td>\n",
       "    </tr>\n",
       "  </tbody>\n",
       "</table>\n",
       "</div>"
      ],
      "text/plain": [
       "                    breed      kind  lifetime_cost  longevity    size  weight  \\\n",
       "0                Brittany  sporting        22589.0      12.92  medium    35.0   \n",
       "1           Cairn Terrier   terrier        21992.0      13.84   small    14.0   \n",
       "2  English Cocker Spaniel  sporting        18993.0      11.66  medium    30.0   \n",
       "\n",
       "   height  \n",
       "0    19.0  \n",
       "1    10.0  \n",
       "2    16.0  "
      ]
     },
     "execution_count": 11,
     "metadata": {},
     "output_type": "execute_result"
    }
   ],
   "source": [
    "dogs.head(3)"
   ]
  },
  {
   "cell_type": "code",
   "execution_count": 12,
   "id": "d78c23d2-ea08-4c39-9bfb-534705770e92",
   "metadata": {},
   "outputs": [
    {
     "data": {
      "text/html": [
       "<div>\n",
       "<style scoped>\n",
       "    .dataframe tbody tr th:only-of-type {\n",
       "        vertical-align: middle;\n",
       "    }\n",
       "\n",
       "    .dataframe tbody tr th {\n",
       "        vertical-align: top;\n",
       "    }\n",
       "\n",
       "    .dataframe thead th {\n",
       "        text-align: right;\n",
       "    }\n",
       "</style>\n",
       "<table border=\"1\" class=\"dataframe\">\n",
       "  <thead>\n",
       "    <tr style=\"text-align: right;\">\n",
       "      <th></th>\n",
       "      <th>breed</th>\n",
       "      <th>kind</th>\n",
       "      <th>lifetime_cost</th>\n",
       "      <th>longevity</th>\n",
       "      <th>size</th>\n",
       "      <th>weight</th>\n",
       "      <th>height</th>\n",
       "    </tr>\n",
       "  </thead>\n",
       "  <tbody>\n",
       "    <tr>\n",
       "      <th>41</th>\n",
       "      <td>Mastiff</td>\n",
       "      <td>working</td>\n",
       "      <td>13581.0</td>\n",
       "      <td>6.50</td>\n",
       "      <td>large</td>\n",
       "      <td>175.0</td>\n",
       "      <td>30.0</td>\n",
       "    </tr>\n",
       "    <tr>\n",
       "      <th>42</th>\n",
       "      <td>Saint Bernard</td>\n",
       "      <td>working</td>\n",
       "      <td>20022.0</td>\n",
       "      <td>7.78</td>\n",
       "      <td>large</td>\n",
       "      <td>155.0</td>\n",
       "      <td>26.5</td>\n",
       "    </tr>\n",
       "  </tbody>\n",
       "</table>\n",
       "</div>"
      ],
      "text/plain": [
       "            breed     kind  lifetime_cost  longevity   size  weight  height\n",
       "41        Mastiff  working        13581.0       6.50  large   175.0    30.0\n",
       "42  Saint Bernard  working        20022.0       7.78  large   155.0    26.5"
      ]
     },
     "execution_count": 12,
     "metadata": {},
     "output_type": "execute_result"
    }
   ],
   "source": [
    "dogs.tail(2)"
   ]
  },
  {
   "cell_type": "markdown",
   "id": "c7697d12-c931-4495-8c96-e4e0436ec6eb",
   "metadata": {
    "slideshow": {
     "slide_type": "slide"
    },
    "tags": []
   },
   "source": [
    "The `shape` attribute returns the DataFrame's number of rows and columns."
   ]
  },
  {
   "cell_type": "code",
   "execution_count": 13,
   "id": "5f544554-8a1c-4068-988c-fb8299820900",
   "metadata": {},
   "outputs": [
    {
     "data": {
      "text/plain": [
       "(43, 7)"
      ]
     },
     "execution_count": 13,
     "metadata": {},
     "output_type": "execute_result"
    }
   ],
   "source": [
    "dogs.shape"
   ]
  },
  {
   "cell_type": "code",
   "execution_count": 14,
   "id": "e06008c5-9c69-4883-99e9-bb12f99adc2d",
   "metadata": {},
   "outputs": [
    {
     "data": {
      "text/plain": [
       "0                   Brittany\n",
       "1              Cairn Terrier\n",
       "2     English Cocker Spaniel\n",
       "3             Cocker Spaniel\n",
       "               ...          \n",
       "39                Bloodhound\n",
       "40               Bullmastiff\n",
       "41                   Mastiff\n",
       "42             Saint Bernard\n",
       "Name: breed, Length: 43, dtype: object"
      ]
     },
     "execution_count": 14,
     "metadata": {},
     "output_type": "execute_result"
    }
   ],
   "source": [
    "# Index is 0, 1, 2, ..., 171\n",
    "dogs['breed']"
   ]
  },
  {
   "cell_type": "code",
   "execution_count": 15,
   "id": "2b485d34-8303-4ba0-bbbf-98bc23d2b3d5",
   "metadata": {},
   "outputs": [
    {
     "data": {
      "text/plain": [
       "RangeIndex(start=0, stop=43, step=1)"
      ]
     },
     "execution_count": 15,
     "metadata": {},
     "output_type": "execute_result"
    }
   ],
   "source": [
    "# The default index of a DataFrame is 0, 1, 2, 3, ...\n",
    "dogs.index"
   ]
  },
  {
   "cell_type": "markdown",
   "id": "62715aaa-e801-4e15-b46a-8741df56351d",
   "metadata": {
    "slideshow": {
     "slide_type": "slide"
    }
   },
   "source": [
    "We know that we can use `.get()` to select out a few columns..."
   ]
  },
  {
   "cell_type": "code",
   "execution_count": 16,
   "id": "e48a51ed-7ea4-4c3f-9355-4ffaf354df84",
   "metadata": {},
   "outputs": [
    {
     "data": {
      "text/html": [
       "<div>\n",
       "<style scoped>\n",
       "    .dataframe tbody tr th:only-of-type {\n",
       "        vertical-align: middle;\n",
       "    }\n",
       "\n",
       "    .dataframe tbody tr th {\n",
       "        vertical-align: top;\n",
       "    }\n",
       "\n",
       "    .dataframe thead th {\n",
       "        text-align: right;\n",
       "    }\n",
       "</style>\n",
       "<table border=\"1\" class=\"dataframe\">\n",
       "  <thead>\n",
       "    <tr style=\"text-align: right;\">\n",
       "      <th></th>\n",
       "      <th>breed</th>\n",
       "      <th>kind</th>\n",
       "      <th>longevity</th>\n",
       "    </tr>\n",
       "  </thead>\n",
       "  <tbody>\n",
       "    <tr>\n",
       "      <th>0</th>\n",
       "      <td>Brittany</td>\n",
       "      <td>sporting</td>\n",
       "      <td>12.92</td>\n",
       "    </tr>\n",
       "    <tr>\n",
       "      <th>1</th>\n",
       "      <td>Cairn Terrier</td>\n",
       "      <td>terrier</td>\n",
       "      <td>13.84</td>\n",
       "    </tr>\n",
       "    <tr>\n",
       "      <th>2</th>\n",
       "      <td>English Cocker Spaniel</td>\n",
       "      <td>sporting</td>\n",
       "      <td>11.66</td>\n",
       "    </tr>\n",
       "    <tr>\n",
       "      <th>3</th>\n",
       "      <td>Cocker Spaniel</td>\n",
       "      <td>sporting</td>\n",
       "      <td>12.50</td>\n",
       "    </tr>\n",
       "    <tr>\n",
       "      <th>...</th>\n",
       "      <td>...</td>\n",
       "      <td>...</td>\n",
       "      <td>...</td>\n",
       "    </tr>\n",
       "    <tr>\n",
       "      <th>39</th>\n",
       "      <td>Bloodhound</td>\n",
       "      <td>hound</td>\n",
       "      <td>6.75</td>\n",
       "    </tr>\n",
       "    <tr>\n",
       "      <th>40</th>\n",
       "      <td>Bullmastiff</td>\n",
       "      <td>working</td>\n",
       "      <td>7.57</td>\n",
       "    </tr>\n",
       "    <tr>\n",
       "      <th>41</th>\n",
       "      <td>Mastiff</td>\n",
       "      <td>working</td>\n",
       "      <td>6.50</td>\n",
       "    </tr>\n",
       "    <tr>\n",
       "      <th>42</th>\n",
       "      <td>Saint Bernard</td>\n",
       "      <td>working</td>\n",
       "      <td>7.78</td>\n",
       "    </tr>\n",
       "  </tbody>\n",
       "</table>\n",
       "<p>43 rows × 3 columns</p>\n",
       "</div>"
      ],
      "text/plain": [
       "                     breed      kind  longevity\n",
       "0                 Brittany  sporting      12.92\n",
       "1            Cairn Terrier   terrier      13.84\n",
       "2   English Cocker Spaniel  sporting      11.66\n",
       "3           Cocker Spaniel  sporting      12.50\n",
       "..                     ...       ...        ...\n",
       "39              Bloodhound     hound       6.75\n",
       "40             Bullmastiff   working       7.57\n",
       "41                 Mastiff   working       6.50\n",
       "42           Saint Bernard   working       7.78\n",
       "\n",
       "[43 rows x 3 columns]"
      ]
     },
     "execution_count": 16,
     "metadata": {},
     "output_type": "execute_result"
    }
   ],
   "source": [
    "# This is review from DSC 10 but most people don't use .get() in practice.\n",
    "# Will cover in just a few minutes...\n",
    "dogs.get(['breed', 'kind', 'longevity'])"
   ]
  },
  {
   "cell_type": "markdown",
   "id": "2585a295",
   "metadata": {
    "slideshow": {
     "slide_type": "slide"
    },
    "tags": []
   },
   "source": [
    "To sort by a column, use the `sort_values` method. Like most DataFrame and Series methods, `sort_values` returns a new DataFrame, and doesn't modify the original."
   ]
  },
  {
   "cell_type": "code",
   "execution_count": 17,
   "id": "6495fe7e",
   "metadata": {
    "slideshow": {
     "slide_type": ""
    },
    "tags": []
   },
   "outputs": [
    {
     "data": {
      "text/html": [
       "<div>\n",
       "<style scoped>\n",
       "    .dataframe tbody tr th:only-of-type {\n",
       "        vertical-align: middle;\n",
       "    }\n",
       "\n",
       "    .dataframe tbody tr th {\n",
       "        vertical-align: top;\n",
       "    }\n",
       "\n",
       "    .dataframe thead th {\n",
       "        text-align: right;\n",
       "    }\n",
       "</style>\n",
       "<table border=\"1\" class=\"dataframe\">\n",
       "  <thead>\n",
       "    <tr style=\"text-align: right;\">\n",
       "      <th></th>\n",
       "      <th>breed</th>\n",
       "      <th>kind</th>\n",
       "      <th>lifetime_cost</th>\n",
       "      <th>longevity</th>\n",
       "      <th>size</th>\n",
       "      <th>weight</th>\n",
       "      <th>height</th>\n",
       "    </tr>\n",
       "  </thead>\n",
       "  <tbody>\n",
       "    <tr>\n",
       "      <th>8</th>\n",
       "      <td>Chihuahua</td>\n",
       "      <td>toy</td>\n",
       "      <td>26250.0</td>\n",
       "      <td>16.50</td>\n",
       "      <td>small</td>\n",
       "      <td>5.5</td>\n",
       "      <td>5.0</td>\n",
       "    </tr>\n",
       "    <tr>\n",
       "      <th>12</th>\n",
       "      <td>Tibetan Spaniel</td>\n",
       "      <td>non-sporting</td>\n",
       "      <td>25549.0</td>\n",
       "      <td>14.42</td>\n",
       "      <td>small</td>\n",
       "      <td>12.0</td>\n",
       "      <td>10.0</td>\n",
       "    </tr>\n",
       "    <tr>\n",
       "      <th>6</th>\n",
       "      <td>Lhasa Apso</td>\n",
       "      <td>non-sporting</td>\n",
       "      <td>22031.0</td>\n",
       "      <td>13.92</td>\n",
       "      <td>small</td>\n",
       "      <td>15.0</td>\n",
       "      <td>10.5</td>\n",
       "    </tr>\n",
       "    <tr>\n",
       "      <th>1</th>\n",
       "      <td>Cairn Terrier</td>\n",
       "      <td>terrier</td>\n",
       "      <td>21992.0</td>\n",
       "      <td>13.84</td>\n",
       "      <td>small</td>\n",
       "      <td>14.0</td>\n",
       "      <td>10.0</td>\n",
       "    </tr>\n",
       "    <tr>\n",
       "      <th>...</th>\n",
       "      <td>...</td>\n",
       "      <td>...</td>\n",
       "      <td>...</td>\n",
       "      <td>...</td>\n",
       "      <td>...</td>\n",
       "      <td>...</td>\n",
       "      <td>...</td>\n",
       "    </tr>\n",
       "    <tr>\n",
       "      <th>42</th>\n",
       "      <td>Saint Bernard</td>\n",
       "      <td>working</td>\n",
       "      <td>20022.0</td>\n",
       "      <td>7.78</td>\n",
       "      <td>large</td>\n",
       "      <td>155.0</td>\n",
       "      <td>26.5</td>\n",
       "    </tr>\n",
       "    <tr>\n",
       "      <th>40</th>\n",
       "      <td>Bullmastiff</td>\n",
       "      <td>working</td>\n",
       "      <td>13936.0</td>\n",
       "      <td>7.57</td>\n",
       "      <td>large</td>\n",
       "      <td>115.0</td>\n",
       "      <td>25.5</td>\n",
       "    </tr>\n",
       "    <tr>\n",
       "      <th>39</th>\n",
       "      <td>Bloodhound</td>\n",
       "      <td>hound</td>\n",
       "      <td>13824.0</td>\n",
       "      <td>6.75</td>\n",
       "      <td>large</td>\n",
       "      <td>85.0</td>\n",
       "      <td>25.0</td>\n",
       "    </tr>\n",
       "    <tr>\n",
       "      <th>41</th>\n",
       "      <td>Mastiff</td>\n",
       "      <td>working</td>\n",
       "      <td>13581.0</td>\n",
       "      <td>6.50</td>\n",
       "      <td>large</td>\n",
       "      <td>175.0</td>\n",
       "      <td>30.0</td>\n",
       "    </tr>\n",
       "  </tbody>\n",
       "</table>\n",
       "<p>43 rows × 7 columns</p>\n",
       "</div>"
      ],
      "text/plain": [
       "              breed          kind  lifetime_cost  longevity   size  weight  \\\n",
       "8         Chihuahua           toy        26250.0      16.50  small     5.5   \n",
       "12  Tibetan Spaniel  non-sporting        25549.0      14.42  small    12.0   \n",
       "6        Lhasa Apso  non-sporting        22031.0      13.92  small    15.0   \n",
       "1     Cairn Terrier       terrier        21992.0      13.84  small    14.0   \n",
       "..              ...           ...            ...        ...    ...     ...   \n",
       "42    Saint Bernard       working        20022.0       7.78  large   155.0   \n",
       "40      Bullmastiff       working        13936.0       7.57  large   115.0   \n",
       "39       Bloodhound         hound        13824.0       6.75  large    85.0   \n",
       "41          Mastiff       working        13581.0       6.50  large   175.0   \n",
       "\n",
       "    height  \n",
       "8      5.0  \n",
       "12    10.0  \n",
       "6     10.5  \n",
       "1     10.0  \n",
       "..     ...  \n",
       "42    26.5  \n",
       "40    25.5  \n",
       "39    25.0  \n",
       "41    30.0  \n",
       "\n",
       "[43 rows x 7 columns]"
      ]
     },
     "execution_count": 17,
     "metadata": {},
     "output_type": "execute_result"
    }
   ],
   "source": [
    "dogs.sort_values('longevity', ascending=False)"
   ]
  },
  {
   "cell_type": "markdown",
   "id": "3e14a96f",
   "metadata": {
    "slideshow": {
     "slide_type": "slide"
    },
    "tags": []
   },
   "source": [
    "### Setting the index\n",
    "\n",
    "Think of each row's index as its **unique identifier** or **name**. Often, we like to set the index of a DataFrame to a unique identifier if we have one available. We can do so with the `set_index` method."
   ]
  },
  {
   "cell_type": "code",
   "execution_count": 18,
   "id": "febd1498",
   "metadata": {
    "slideshow": {
     "slide_type": ""
    },
    "tags": []
   },
   "outputs": [
    {
     "data": {
      "text/html": [
       "<div>\n",
       "<style scoped>\n",
       "    .dataframe tbody tr th:only-of-type {\n",
       "        vertical-align: middle;\n",
       "    }\n",
       "\n",
       "    .dataframe tbody tr th {\n",
       "        vertical-align: top;\n",
       "    }\n",
       "\n",
       "    .dataframe thead th {\n",
       "        text-align: right;\n",
       "    }\n",
       "</style>\n",
       "<table border=\"1\" class=\"dataframe\">\n",
       "  <thead>\n",
       "    <tr style=\"text-align: right;\">\n",
       "      <th></th>\n",
       "      <th>kind</th>\n",
       "      <th>lifetime_cost</th>\n",
       "      <th>longevity</th>\n",
       "      <th>size</th>\n",
       "      <th>weight</th>\n",
       "      <th>height</th>\n",
       "    </tr>\n",
       "    <tr>\n",
       "      <th>breed</th>\n",
       "      <th></th>\n",
       "      <th></th>\n",
       "      <th></th>\n",
       "      <th></th>\n",
       "      <th></th>\n",
       "      <th></th>\n",
       "    </tr>\n",
       "  </thead>\n",
       "  <tbody>\n",
       "    <tr>\n",
       "      <th>Brittany</th>\n",
       "      <td>sporting</td>\n",
       "      <td>22589.0</td>\n",
       "      <td>12.92</td>\n",
       "      <td>medium</td>\n",
       "      <td>35.0</td>\n",
       "      <td>19.0</td>\n",
       "    </tr>\n",
       "    <tr>\n",
       "      <th>Cairn Terrier</th>\n",
       "      <td>terrier</td>\n",
       "      <td>21992.0</td>\n",
       "      <td>13.84</td>\n",
       "      <td>small</td>\n",
       "      <td>14.0</td>\n",
       "      <td>10.0</td>\n",
       "    </tr>\n",
       "    <tr>\n",
       "      <th>English Cocker Spaniel</th>\n",
       "      <td>sporting</td>\n",
       "      <td>18993.0</td>\n",
       "      <td>11.66</td>\n",
       "      <td>medium</td>\n",
       "      <td>30.0</td>\n",
       "      <td>16.0</td>\n",
       "    </tr>\n",
       "    <tr>\n",
       "      <th>Cocker Spaniel</th>\n",
       "      <td>sporting</td>\n",
       "      <td>24330.0</td>\n",
       "      <td>12.50</td>\n",
       "      <td>small</td>\n",
       "      <td>25.0</td>\n",
       "      <td>14.5</td>\n",
       "    </tr>\n",
       "    <tr>\n",
       "      <th>...</th>\n",
       "      <td>...</td>\n",
       "      <td>...</td>\n",
       "      <td>...</td>\n",
       "      <td>...</td>\n",
       "      <td>...</td>\n",
       "      <td>...</td>\n",
       "    </tr>\n",
       "    <tr>\n",
       "      <th>Bloodhound</th>\n",
       "      <td>hound</td>\n",
       "      <td>13824.0</td>\n",
       "      <td>6.75</td>\n",
       "      <td>large</td>\n",
       "      <td>85.0</td>\n",
       "      <td>25.0</td>\n",
       "    </tr>\n",
       "    <tr>\n",
       "      <th>Bullmastiff</th>\n",
       "      <td>working</td>\n",
       "      <td>13936.0</td>\n",
       "      <td>7.57</td>\n",
       "      <td>large</td>\n",
       "      <td>115.0</td>\n",
       "      <td>25.5</td>\n",
       "    </tr>\n",
       "    <tr>\n",
       "      <th>Mastiff</th>\n",
       "      <td>working</td>\n",
       "      <td>13581.0</td>\n",
       "      <td>6.50</td>\n",
       "      <td>large</td>\n",
       "      <td>175.0</td>\n",
       "      <td>30.0</td>\n",
       "    </tr>\n",
       "    <tr>\n",
       "      <th>Saint Bernard</th>\n",
       "      <td>working</td>\n",
       "      <td>20022.0</td>\n",
       "      <td>7.78</td>\n",
       "      <td>large</td>\n",
       "      <td>155.0</td>\n",
       "      <td>26.5</td>\n",
       "    </tr>\n",
       "  </tbody>\n",
       "</table>\n",
       "<p>43 rows × 6 columns</p>\n",
       "</div>"
      ],
      "text/plain": [
       "                            kind  lifetime_cost  longevity    size  weight  \\\n",
       "breed                                                                        \n",
       "Brittany                sporting        22589.0      12.92  medium    35.0   \n",
       "Cairn Terrier            terrier        21992.0      13.84   small    14.0   \n",
       "English Cocker Spaniel  sporting        18993.0      11.66  medium    30.0   \n",
       "Cocker Spaniel          sporting        24330.0      12.50   small    25.0   \n",
       "...                          ...            ...        ...     ...     ...   \n",
       "Bloodhound                 hound        13824.0       6.75   large    85.0   \n",
       "Bullmastiff              working        13936.0       7.57   large   115.0   \n",
       "Mastiff                  working        13581.0       6.50   large   175.0   \n",
       "Saint Bernard            working        20022.0       7.78   large   155.0   \n",
       "\n",
       "                        height  \n",
       "breed                           \n",
       "Brittany                  19.0  \n",
       "Cairn Terrier             10.0  \n",
       "English Cocker Spaniel    16.0  \n",
       "Cocker Spaniel            14.5  \n",
       "...                        ...  \n",
       "Bloodhound                25.0  \n",
       "Bullmastiff               25.5  \n",
       "Mastiff                   30.0  \n",
       "Saint Bernard             26.5  \n",
       "\n",
       "[43 rows x 6 columns]"
      ]
     },
     "execution_count": 18,
     "metadata": {},
     "output_type": "execute_result"
    }
   ],
   "source": [
    "# By reassigning dogs, our changes will persist.\n",
    "dogs = dogs.set_index('breed')\n",
    "dogs"
   ]
  },
  {
   "cell_type": "code",
   "execution_count": 19,
   "id": "99147102",
   "metadata": {
    "slideshow": {
     "slide_type": ""
    },
    "tags": []
   },
   "outputs": [
    {
     "data": {
      "text/plain": [
       "(43, 6)"
      ]
     },
     "execution_count": 19,
     "metadata": {},
     "output_type": "execute_result"
    }
   ],
   "source": [
    "# There used to be 7 columns, but now there are only 6!\n",
    "dogs.shape"
   ]
  },
  {
   "cell_type": "markdown",
   "id": "104c7638",
   "metadata": {
    "slideshow": {
     "slide_type": "slide"
    }
   },
   "source": [
    "### 💡 Pro-tip: Displaying more rows/columns\n",
    "\n",
    "Sometimes, you just want `pandas` to display a lot of rows and columns. You can use this helper function to do that:"
   ]
  },
  {
   "cell_type": "code",
   "execution_count": 20,
   "id": "ea33e966",
   "metadata": {},
   "outputs": [],
   "source": [
    "from IPython.display import display\n",
    "def display_df(df, rows=pd.options.display.max_rows, cols=pd.options.display.max_columns):\n",
    "    \"\"\"Displays n rows and cols from df\"\"\"\n",
    "    with pd.option_context(\"display.max_rows\", rows,\n",
    "                           \"display.max_columns\", cols):\n",
    "        display(df)"
   ]
  },
  {
   "cell_type": "code",
   "execution_count": 21,
   "id": "020ff872",
   "metadata": {},
   "outputs": [
    {
     "data": {
      "text/html": [
       "<div>\n",
       "<style scoped>\n",
       "    .dataframe tbody tr th:only-of-type {\n",
       "        vertical-align: middle;\n",
       "    }\n",
       "\n",
       "    .dataframe tbody tr th {\n",
       "        vertical-align: top;\n",
       "    }\n",
       "\n",
       "    .dataframe thead th {\n",
       "        text-align: right;\n",
       "    }\n",
       "</style>\n",
       "<table border=\"1\" class=\"dataframe\">\n",
       "  <thead>\n",
       "    <tr style=\"text-align: right;\">\n",
       "      <th></th>\n",
       "      <th>kind</th>\n",
       "      <th>lifetime_cost</th>\n",
       "      <th>longevity</th>\n",
       "      <th>size</th>\n",
       "      <th>weight</th>\n",
       "      <th>height</th>\n",
       "    </tr>\n",
       "    <tr>\n",
       "      <th>breed</th>\n",
       "      <th></th>\n",
       "      <th></th>\n",
       "      <th></th>\n",
       "      <th></th>\n",
       "      <th></th>\n",
       "      <th></th>\n",
       "    </tr>\n",
       "  </thead>\n",
       "  <tbody>\n",
       "    <tr>\n",
       "      <th>Brittany</th>\n",
       "      <td>sporting</td>\n",
       "      <td>22589.0</td>\n",
       "      <td>12.92</td>\n",
       "      <td>medium</td>\n",
       "      <td>35.0</td>\n",
       "      <td>19.00</td>\n",
       "    </tr>\n",
       "    <tr>\n",
       "      <th>Cairn Terrier</th>\n",
       "      <td>terrier</td>\n",
       "      <td>21992.0</td>\n",
       "      <td>13.84</td>\n",
       "      <td>small</td>\n",
       "      <td>14.0</td>\n",
       "      <td>10.00</td>\n",
       "    </tr>\n",
       "    <tr>\n",
       "      <th>English Cocker Spaniel</th>\n",
       "      <td>sporting</td>\n",
       "      <td>18993.0</td>\n",
       "      <td>11.66</td>\n",
       "      <td>medium</td>\n",
       "      <td>30.0</td>\n",
       "      <td>16.00</td>\n",
       "    </tr>\n",
       "    <tr>\n",
       "      <th>Cocker Spaniel</th>\n",
       "      <td>sporting</td>\n",
       "      <td>24330.0</td>\n",
       "      <td>12.50</td>\n",
       "      <td>small</td>\n",
       "      <td>25.0</td>\n",
       "      <td>14.50</td>\n",
       "    </tr>\n",
       "    <tr>\n",
       "      <th>Shetland Sheepdog</th>\n",
       "      <td>herding</td>\n",
       "      <td>21006.0</td>\n",
       "      <td>12.53</td>\n",
       "      <td>small</td>\n",
       "      <td>22.0</td>\n",
       "      <td>14.50</td>\n",
       "    </tr>\n",
       "    <tr>\n",
       "      <th>Siberian Husky</th>\n",
       "      <td>working</td>\n",
       "      <td>22049.0</td>\n",
       "      <td>12.58</td>\n",
       "      <td>medium</td>\n",
       "      <td>47.5</td>\n",
       "      <td>21.75</td>\n",
       "    </tr>\n",
       "    <tr>\n",
       "      <th>Lhasa Apso</th>\n",
       "      <td>non-sporting</td>\n",
       "      <td>22031.0</td>\n",
       "      <td>13.92</td>\n",
       "      <td>small</td>\n",
       "      <td>15.0</td>\n",
       "      <td>10.50</td>\n",
       "    </tr>\n",
       "    <tr>\n",
       "      <th>Miniature Schnauzer</th>\n",
       "      <td>terrier</td>\n",
       "      <td>20087.0</td>\n",
       "      <td>11.81</td>\n",
       "      <td>small</td>\n",
       "      <td>15.5</td>\n",
       "      <td>13.00</td>\n",
       "    </tr>\n",
       "    <tr>\n",
       "      <th>Chihuahua</th>\n",
       "      <td>toy</td>\n",
       "      <td>26250.0</td>\n",
       "      <td>16.50</td>\n",
       "      <td>small</td>\n",
       "      <td>5.5</td>\n",
       "      <td>5.00</td>\n",
       "    </tr>\n",
       "    <tr>\n",
       "      <th>English Springer Spaniel</th>\n",
       "      <td>sporting</td>\n",
       "      <td>21946.0</td>\n",
       "      <td>12.54</td>\n",
       "      <td>medium</td>\n",
       "      <td>45.0</td>\n",
       "      <td>19.50</td>\n",
       "    </tr>\n",
       "    <tr>\n",
       "      <th>German Shorthaired Pointer</th>\n",
       "      <td>sporting</td>\n",
       "      <td>25842.0</td>\n",
       "      <td>11.46</td>\n",
       "      <td>large</td>\n",
       "      <td>62.5</td>\n",
       "      <td>24.00</td>\n",
       "    </tr>\n",
       "    <tr>\n",
       "      <th>Pointer</th>\n",
       "      <td>sporting</td>\n",
       "      <td>24445.0</td>\n",
       "      <td>12.42</td>\n",
       "      <td>large</td>\n",
       "      <td>59.5</td>\n",
       "      <td>25.50</td>\n",
       "    </tr>\n",
       "    <tr>\n",
       "      <th>Tibetan Spaniel</th>\n",
       "      <td>non-sporting</td>\n",
       "      <td>25549.0</td>\n",
       "      <td>14.42</td>\n",
       "      <td>small</td>\n",
       "      <td>12.0</td>\n",
       "      <td>10.00</td>\n",
       "    </tr>\n",
       "    <tr>\n",
       "      <th>Labrador Retriever</th>\n",
       "      <td>sporting</td>\n",
       "      <td>21299.0</td>\n",
       "      <td>12.04</td>\n",
       "      <td>medium</td>\n",
       "      <td>67.5</td>\n",
       "      <td>23.00</td>\n",
       "    </tr>\n",
       "    <tr>\n",
       "      <th>Maltese</th>\n",
       "      <td>toy</td>\n",
       "      <td>19084.0</td>\n",
       "      <td>12.25</td>\n",
       "      <td>small</td>\n",
       "      <td>5.0</td>\n",
       "      <td>9.00</td>\n",
       "    </tr>\n",
       "    <tr>\n",
       "      <th>Shih Tzu</th>\n",
       "      <td>toy</td>\n",
       "      <td>21152.0</td>\n",
       "      <td>13.20</td>\n",
       "      <td>small</td>\n",
       "      <td>12.5</td>\n",
       "      <td>9.75</td>\n",
       "    </tr>\n",
       "    <tr>\n",
       "      <th>Irish Setter</th>\n",
       "      <td>sporting</td>\n",
       "      <td>20323.0</td>\n",
       "      <td>11.63</td>\n",
       "      <td>large</td>\n",
       "      <td>65.0</td>\n",
       "      <td>26.00</td>\n",
       "    </tr>\n",
       "    <tr>\n",
       "      <th>Golden Retriever</th>\n",
       "      <td>sporting</td>\n",
       "      <td>21447.0</td>\n",
       "      <td>12.04</td>\n",
       "      <td>medium</td>\n",
       "      <td>60.0</td>\n",
       "      <td>22.75</td>\n",
       "    </tr>\n",
       "    <tr>\n",
       "      <th>Chesapeake Bay Retriever</th>\n",
       "      <td>sporting</td>\n",
       "      <td>16697.0</td>\n",
       "      <td>9.48</td>\n",
       "      <td>large</td>\n",
       "      <td>67.5</td>\n",
       "      <td>23.50</td>\n",
       "    </tr>\n",
       "    <tr>\n",
       "      <th>Tibetan Terrier</th>\n",
       "      <td>non-sporting</td>\n",
       "      <td>20336.0</td>\n",
       "      <td>12.31</td>\n",
       "      <td>small</td>\n",
       "      <td>24.0</td>\n",
       "      <td>15.50</td>\n",
       "    </tr>\n",
       "    <tr>\n",
       "      <th>Gordon Setter</th>\n",
       "      <td>sporting</td>\n",
       "      <td>19605.0</td>\n",
       "      <td>11.10</td>\n",
       "      <td>large</td>\n",
       "      <td>62.5</td>\n",
       "      <td>25.00</td>\n",
       "    </tr>\n",
       "    <tr>\n",
       "      <th>Pug</th>\n",
       "      <td>toy</td>\n",
       "      <td>18527.0</td>\n",
       "      <td>11.00</td>\n",
       "      <td>medium</td>\n",
       "      <td>16.0</td>\n",
       "      <td>16.00</td>\n",
       "    </tr>\n",
       "    <tr>\n",
       "      <th>Norfolk Terrier</th>\n",
       "      <td>terrier</td>\n",
       "      <td>24308.0</td>\n",
       "      <td>13.07</td>\n",
       "      <td>small</td>\n",
       "      <td>12.0</td>\n",
       "      <td>9.50</td>\n",
       "    </tr>\n",
       "    <tr>\n",
       "      <th>English Toy Spaniel</th>\n",
       "      <td>toy</td>\n",
       "      <td>17521.0</td>\n",
       "      <td>10.10</td>\n",
       "      <td>small</td>\n",
       "      <td>11.0</td>\n",
       "      <td>10.00</td>\n",
       "    </tr>\n",
       "    <tr>\n",
       "      <th>Cavalier King Charles Spaniel</th>\n",
       "      <td>toy</td>\n",
       "      <td>18639.0</td>\n",
       "      <td>11.29</td>\n",
       "      <td>small</td>\n",
       "      <td>15.5</td>\n",
       "      <td>12.50</td>\n",
       "    </tr>\n",
       "    <tr>\n",
       "      <th>Basenji</th>\n",
       "      <td>hound</td>\n",
       "      <td>22096.0</td>\n",
       "      <td>13.58</td>\n",
       "      <td>medium</td>\n",
       "      <td>23.0</td>\n",
       "      <td>16.50</td>\n",
       "    </tr>\n",
       "    <tr>\n",
       "      <th>Staffordshire Bull Terrier</th>\n",
       "      <td>terrier</td>\n",
       "      <td>21650.0</td>\n",
       "      <td>12.05</td>\n",
       "      <td>medium</td>\n",
       "      <td>31.0</td>\n",
       "      <td>15.00</td>\n",
       "    </tr>\n",
       "    <tr>\n",
       "      <th>Pembroke Welsh Corgi</th>\n",
       "      <td>herding</td>\n",
       "      <td>23978.0</td>\n",
       "      <td>12.25</td>\n",
       "      <td>small</td>\n",
       "      <td>26.0</td>\n",
       "      <td>11.00</td>\n",
       "    </tr>\n",
       "    <tr>\n",
       "      <th>Clumber Spaniel</th>\n",
       "      <td>sporting</td>\n",
       "      <td>18084.0</td>\n",
       "      <td>10.00</td>\n",
       "      <td>medium</td>\n",
       "      <td>70.0</td>\n",
       "      <td>18.50</td>\n",
       "    </tr>\n",
       "    <tr>\n",
       "      <th>Dandie Dinmont Terrier</th>\n",
       "      <td>terrier</td>\n",
       "      <td>21633.0</td>\n",
       "      <td>12.17</td>\n",
       "      <td>small</td>\n",
       "      <td>21.0</td>\n",
       "      <td>9.00</td>\n",
       "    </tr>\n",
       "    <tr>\n",
       "      <th>Giant Schnauzer</th>\n",
       "      <td>working</td>\n",
       "      <td>26686.0</td>\n",
       "      <td>10.00</td>\n",
       "      <td>large</td>\n",
       "      <td>77.5</td>\n",
       "      <td>25.50</td>\n",
       "    </tr>\n",
       "    <tr>\n",
       "      <th>Scottish Terrier</th>\n",
       "      <td>terrier</td>\n",
       "      <td>17525.0</td>\n",
       "      <td>10.69</td>\n",
       "      <td>small</td>\n",
       "      <td>20.0</td>\n",
       "      <td>10.00</td>\n",
       "    </tr>\n",
       "    <tr>\n",
       "      <th>Kerry Blue Terrier</th>\n",
       "      <td>terrier</td>\n",
       "      <td>17240.0</td>\n",
       "      <td>9.40</td>\n",
       "      <td>medium</td>\n",
       "      <td>36.5</td>\n",
       "      <td>18.50</td>\n",
       "    </tr>\n",
       "    <tr>\n",
       "      <th>Afghan Hound</th>\n",
       "      <td>hound</td>\n",
       "      <td>24077.0</td>\n",
       "      <td>11.92</td>\n",
       "      <td>large</td>\n",
       "      <td>55.0</td>\n",
       "      <td>26.00</td>\n",
       "    </tr>\n",
       "    <tr>\n",
       "      <th>Newfoundland</th>\n",
       "      <td>working</td>\n",
       "      <td>19351.0</td>\n",
       "      <td>9.32</td>\n",
       "      <td>large</td>\n",
       "      <td>125.0</td>\n",
       "      <td>27.00</td>\n",
       "    </tr>\n",
       "    <tr>\n",
       "      <th>Rhodesian Ridgeback</th>\n",
       "      <td>hound</td>\n",
       "      <td>16530.0</td>\n",
       "      <td>9.10</td>\n",
       "      <td>large</td>\n",
       "      <td>77.5</td>\n",
       "      <td>25.50</td>\n",
       "    </tr>\n",
       "    <tr>\n",
       "      <th>Borzoi</th>\n",
       "      <td>hound</td>\n",
       "      <td>16176.0</td>\n",
       "      <td>9.08</td>\n",
       "      <td>large</td>\n",
       "      <td>82.5</td>\n",
       "      <td>28.00</td>\n",
       "    </tr>\n",
       "    <tr>\n",
       "      <th>Bull Terrier</th>\n",
       "      <td>terrier</td>\n",
       "      <td>18490.0</td>\n",
       "      <td>10.21</td>\n",
       "      <td>medium</td>\n",
       "      <td>60.0</td>\n",
       "      <td>21.50</td>\n",
       "    </tr>\n",
       "    <tr>\n",
       "      <th>Alaskan Malamute</th>\n",
       "      <td>working</td>\n",
       "      <td>21986.0</td>\n",
       "      <td>10.67</td>\n",
       "      <td>large</td>\n",
       "      <td>80.0</td>\n",
       "      <td>24.00</td>\n",
       "    </tr>\n",
       "    <tr>\n",
       "      <th>Bloodhound</th>\n",
       "      <td>hound</td>\n",
       "      <td>13824.0</td>\n",
       "      <td>6.75</td>\n",
       "      <td>large</td>\n",
       "      <td>85.0</td>\n",
       "      <td>25.00</td>\n",
       "    </tr>\n",
       "    <tr>\n",
       "      <th>Bullmastiff</th>\n",
       "      <td>working</td>\n",
       "      <td>13936.0</td>\n",
       "      <td>7.57</td>\n",
       "      <td>large</td>\n",
       "      <td>115.0</td>\n",
       "      <td>25.50</td>\n",
       "    </tr>\n",
       "    <tr>\n",
       "      <th>Mastiff</th>\n",
       "      <td>working</td>\n",
       "      <td>13581.0</td>\n",
       "      <td>6.50</td>\n",
       "      <td>large</td>\n",
       "      <td>175.0</td>\n",
       "      <td>30.00</td>\n",
       "    </tr>\n",
       "    <tr>\n",
       "      <th>Saint Bernard</th>\n",
       "      <td>working</td>\n",
       "      <td>20022.0</td>\n",
       "      <td>7.78</td>\n",
       "      <td>large</td>\n",
       "      <td>155.0</td>\n",
       "      <td>26.50</td>\n",
       "    </tr>\n",
       "  </tbody>\n",
       "</table>\n",
       "</div>"
      ],
      "text/plain": [
       "                                       kind  lifetime_cost  longevity    size  \\\n",
       "breed                                                                           \n",
       "Brittany                           sporting        22589.0      12.92  medium   \n",
       "Cairn Terrier                       terrier        21992.0      13.84   small   \n",
       "English Cocker Spaniel             sporting        18993.0      11.66  medium   \n",
       "Cocker Spaniel                     sporting        24330.0      12.50   small   \n",
       "Shetland Sheepdog                   herding        21006.0      12.53   small   \n",
       "Siberian Husky                      working        22049.0      12.58  medium   \n",
       "Lhasa Apso                     non-sporting        22031.0      13.92   small   \n",
       "Miniature Schnauzer                 terrier        20087.0      11.81   small   \n",
       "Chihuahua                               toy        26250.0      16.50   small   \n",
       "English Springer Spaniel           sporting        21946.0      12.54  medium   \n",
       "German Shorthaired Pointer         sporting        25842.0      11.46   large   \n",
       "Pointer                            sporting        24445.0      12.42   large   \n",
       "Tibetan Spaniel                non-sporting        25549.0      14.42   small   \n",
       "Labrador Retriever                 sporting        21299.0      12.04  medium   \n",
       "Maltese                                 toy        19084.0      12.25   small   \n",
       "Shih Tzu                                toy        21152.0      13.20   small   \n",
       "Irish Setter                       sporting        20323.0      11.63   large   \n",
       "Golden Retriever                   sporting        21447.0      12.04  medium   \n",
       "Chesapeake Bay Retriever           sporting        16697.0       9.48   large   \n",
       "Tibetan Terrier                non-sporting        20336.0      12.31   small   \n",
       "Gordon Setter                      sporting        19605.0      11.10   large   \n",
       "Pug                                     toy        18527.0      11.00  medium   \n",
       "Norfolk Terrier                     terrier        24308.0      13.07   small   \n",
       "English Toy Spaniel                     toy        17521.0      10.10   small   \n",
       "Cavalier King Charles Spaniel           toy        18639.0      11.29   small   \n",
       "Basenji                               hound        22096.0      13.58  medium   \n",
       "Staffordshire Bull Terrier          terrier        21650.0      12.05  medium   \n",
       "Pembroke Welsh Corgi                herding        23978.0      12.25   small   \n",
       "Clumber Spaniel                    sporting        18084.0      10.00  medium   \n",
       "Dandie Dinmont Terrier              terrier        21633.0      12.17   small   \n",
       "Giant Schnauzer                     working        26686.0      10.00   large   \n",
       "Scottish Terrier                    terrier        17525.0      10.69   small   \n",
       "Kerry Blue Terrier                  terrier        17240.0       9.40  medium   \n",
       "Afghan Hound                          hound        24077.0      11.92   large   \n",
       "Newfoundland                        working        19351.0       9.32   large   \n",
       "Rhodesian Ridgeback                   hound        16530.0       9.10   large   \n",
       "Borzoi                                hound        16176.0       9.08   large   \n",
       "Bull Terrier                        terrier        18490.0      10.21  medium   \n",
       "Alaskan Malamute                    working        21986.0      10.67   large   \n",
       "Bloodhound                            hound        13824.0       6.75   large   \n",
       "Bullmastiff                         working        13936.0       7.57   large   \n",
       "Mastiff                             working        13581.0       6.50   large   \n",
       "Saint Bernard                       working        20022.0       7.78   large   \n",
       "\n",
       "                               weight  height  \n",
       "breed                                          \n",
       "Brittany                         35.0   19.00  \n",
       "Cairn Terrier                    14.0   10.00  \n",
       "English Cocker Spaniel           30.0   16.00  \n",
       "Cocker Spaniel                   25.0   14.50  \n",
       "Shetland Sheepdog                22.0   14.50  \n",
       "Siberian Husky                   47.5   21.75  \n",
       "Lhasa Apso                       15.0   10.50  \n",
       "Miniature Schnauzer              15.5   13.00  \n",
       "Chihuahua                         5.5    5.00  \n",
       "English Springer Spaniel         45.0   19.50  \n",
       "German Shorthaired Pointer       62.5   24.00  \n",
       "Pointer                          59.5   25.50  \n",
       "Tibetan Spaniel                  12.0   10.00  \n",
       "Labrador Retriever               67.5   23.00  \n",
       "Maltese                           5.0    9.00  \n",
       "Shih Tzu                         12.5    9.75  \n",
       "Irish Setter                     65.0   26.00  \n",
       "Golden Retriever                 60.0   22.75  \n",
       "Chesapeake Bay Retriever         67.5   23.50  \n",
       "Tibetan Terrier                  24.0   15.50  \n",
       "Gordon Setter                    62.5   25.00  \n",
       "Pug                              16.0   16.00  \n",
       "Norfolk Terrier                  12.0    9.50  \n",
       "English Toy Spaniel              11.0   10.00  \n",
       "Cavalier King Charles Spaniel    15.5   12.50  \n",
       "Basenji                          23.0   16.50  \n",
       "Staffordshire Bull Terrier       31.0   15.00  \n",
       "Pembroke Welsh Corgi             26.0   11.00  \n",
       "Clumber Spaniel                  70.0   18.50  \n",
       "Dandie Dinmont Terrier           21.0    9.00  \n",
       "Giant Schnauzer                  77.5   25.50  \n",
       "Scottish Terrier                 20.0   10.00  \n",
       "Kerry Blue Terrier               36.5   18.50  \n",
       "Afghan Hound                     55.0   26.00  \n",
       "Newfoundland                    125.0   27.00  \n",
       "Rhodesian Ridgeback              77.5   25.50  \n",
       "Borzoi                           82.5   28.00  \n",
       "Bull Terrier                     60.0   21.50  \n",
       "Alaskan Malamute                 80.0   24.00  \n",
       "Bloodhound                       85.0   25.00  \n",
       "Bullmastiff                     115.0   25.50  \n",
       "Mastiff                         175.0   30.00  \n",
       "Saint Bernard                   155.0   26.50  "
      ]
     },
     "metadata": {},
     "output_type": "display_data"
    }
   ],
   "source": [
    "display_df(dogs, rows=43)"
   ]
  },
  {
   "cell_type": "markdown",
   "id": "58124491",
   "metadata": {
    "slideshow": {
     "slide_type": "slide"
    },
    "tags": []
   },
   "source": [
    "## Selecting columns"
   ]
  },
  {
   "cell_type": "markdown",
   "id": "9c142aa3",
   "metadata": {
    "slideshow": {
     "slide_type": "slide"
    },
    "tags": []
   },
   "source": [
    "### Selecting columns in `babypandas` 👶🐼\n",
    "\n",
    "- In `babypandas`, you selected columns using the `.get` method.\n",
    "- `.get` also works in `pandas`, but it is not **idiomatic** – people don't usually use it."
   ]
  },
  {
   "cell_type": "code",
   "execution_count": 22,
   "id": "0b2c4566",
   "metadata": {
    "slideshow": {
     "slide_type": ""
    },
    "tags": []
   },
   "outputs": [
    {
     "data": {
      "text/html": [
       "<div>\n",
       "<style scoped>\n",
       "    .dataframe tbody tr th:only-of-type {\n",
       "        vertical-align: middle;\n",
       "    }\n",
       "\n",
       "    .dataframe tbody tr th {\n",
       "        vertical-align: top;\n",
       "    }\n",
       "\n",
       "    .dataframe thead th {\n",
       "        text-align: right;\n",
       "    }\n",
       "</style>\n",
       "<table border=\"1\" class=\"dataframe\">\n",
       "  <thead>\n",
       "    <tr style=\"text-align: right;\">\n",
       "      <th></th>\n",
       "      <th>kind</th>\n",
       "      <th>lifetime_cost</th>\n",
       "      <th>longevity</th>\n",
       "      <th>size</th>\n",
       "      <th>weight</th>\n",
       "      <th>height</th>\n",
       "    </tr>\n",
       "    <tr>\n",
       "      <th>breed</th>\n",
       "      <th></th>\n",
       "      <th></th>\n",
       "      <th></th>\n",
       "      <th></th>\n",
       "      <th></th>\n",
       "      <th></th>\n",
       "    </tr>\n",
       "  </thead>\n",
       "  <tbody>\n",
       "    <tr>\n",
       "      <th>Brittany</th>\n",
       "      <td>sporting</td>\n",
       "      <td>22589.0</td>\n",
       "      <td>12.92</td>\n",
       "      <td>medium</td>\n",
       "      <td>35.0</td>\n",
       "      <td>19.0</td>\n",
       "    </tr>\n",
       "    <tr>\n",
       "      <th>Cairn Terrier</th>\n",
       "      <td>terrier</td>\n",
       "      <td>21992.0</td>\n",
       "      <td>13.84</td>\n",
       "      <td>small</td>\n",
       "      <td>14.0</td>\n",
       "      <td>10.0</td>\n",
       "    </tr>\n",
       "    <tr>\n",
       "      <th>English Cocker Spaniel</th>\n",
       "      <td>sporting</td>\n",
       "      <td>18993.0</td>\n",
       "      <td>11.66</td>\n",
       "      <td>medium</td>\n",
       "      <td>30.0</td>\n",
       "      <td>16.0</td>\n",
       "    </tr>\n",
       "    <tr>\n",
       "      <th>Cocker Spaniel</th>\n",
       "      <td>sporting</td>\n",
       "      <td>24330.0</td>\n",
       "      <td>12.50</td>\n",
       "      <td>small</td>\n",
       "      <td>25.0</td>\n",
       "      <td>14.5</td>\n",
       "    </tr>\n",
       "    <tr>\n",
       "      <th>...</th>\n",
       "      <td>...</td>\n",
       "      <td>...</td>\n",
       "      <td>...</td>\n",
       "      <td>...</td>\n",
       "      <td>...</td>\n",
       "      <td>...</td>\n",
       "    </tr>\n",
       "    <tr>\n",
       "      <th>Bloodhound</th>\n",
       "      <td>hound</td>\n",
       "      <td>13824.0</td>\n",
       "      <td>6.75</td>\n",
       "      <td>large</td>\n",
       "      <td>85.0</td>\n",
       "      <td>25.0</td>\n",
       "    </tr>\n",
       "    <tr>\n",
       "      <th>Bullmastiff</th>\n",
       "      <td>working</td>\n",
       "      <td>13936.0</td>\n",
       "      <td>7.57</td>\n",
       "      <td>large</td>\n",
       "      <td>115.0</td>\n",
       "      <td>25.5</td>\n",
       "    </tr>\n",
       "    <tr>\n",
       "      <th>Mastiff</th>\n",
       "      <td>working</td>\n",
       "      <td>13581.0</td>\n",
       "      <td>6.50</td>\n",
       "      <td>large</td>\n",
       "      <td>175.0</td>\n",
       "      <td>30.0</td>\n",
       "    </tr>\n",
       "    <tr>\n",
       "      <th>Saint Bernard</th>\n",
       "      <td>working</td>\n",
       "      <td>20022.0</td>\n",
       "      <td>7.78</td>\n",
       "      <td>large</td>\n",
       "      <td>155.0</td>\n",
       "      <td>26.5</td>\n",
       "    </tr>\n",
       "  </tbody>\n",
       "</table>\n",
       "<p>43 rows × 6 columns</p>\n",
       "</div>"
      ],
      "text/plain": [
       "                            kind  lifetime_cost  longevity    size  weight  \\\n",
       "breed                                                                        \n",
       "Brittany                sporting        22589.0      12.92  medium    35.0   \n",
       "Cairn Terrier            terrier        21992.0      13.84   small    14.0   \n",
       "English Cocker Spaniel  sporting        18993.0      11.66  medium    30.0   \n",
       "Cocker Spaniel          sporting        24330.0      12.50   small    25.0   \n",
       "...                          ...            ...        ...     ...     ...   \n",
       "Bloodhound                 hound        13824.0       6.75   large    85.0   \n",
       "Bullmastiff              working        13936.0       7.57   large   115.0   \n",
       "Mastiff                  working        13581.0       6.50   large   175.0   \n",
       "Saint Bernard            working        20022.0       7.78   large   155.0   \n",
       "\n",
       "                        height  \n",
       "breed                           \n",
       "Brittany                  19.0  \n",
       "Cairn Terrier             10.0  \n",
       "English Cocker Spaniel    16.0  \n",
       "Cocker Spaniel            14.5  \n",
       "...                        ...  \n",
       "Bloodhound                25.0  \n",
       "Bullmastiff               25.5  \n",
       "Mastiff                   30.0  \n",
       "Saint Bernard             26.5  \n",
       "\n",
       "[43 rows x 6 columns]"
      ]
     },
     "execution_count": 22,
     "metadata": {},
     "output_type": "execute_result"
    }
   ],
   "source": [
    "dogs"
   ]
  },
  {
   "cell_type": "code",
   "execution_count": 23,
   "id": "d7b67995",
   "metadata": {
    "slideshow": {
     "slide_type": ""
    },
    "tags": []
   },
   "outputs": [
    {
     "data": {
      "text/plain": [
       "breed\n",
       "Brittany                  medium\n",
       "Cairn Terrier              small\n",
       "English Cocker Spaniel    medium\n",
       "Cocker Spaniel             small\n",
       "                           ...  \n",
       "Bloodhound                 large\n",
       "Bullmastiff                large\n",
       "Mastiff                    large\n",
       "Saint Bernard              large\n",
       "Name: size, Length: 43, dtype: object"
      ]
     },
     "execution_count": 23,
     "metadata": {},
     "output_type": "execute_result"
    }
   ],
   "source": [
    "dogs.get('size')"
   ]
  },
  {
   "cell_type": "code",
   "execution_count": 24,
   "id": "9749741a",
   "metadata": {
    "slideshow": {
     "slide_type": ""
    },
    "tags": []
   },
   "outputs": [],
   "source": [
    "# This doesn't error, but sometimes we'd like it to.\n",
    "dogs.get('size oops!')"
   ]
  },
  {
   "cell_type": "markdown",
   "id": "d2db466c",
   "metadata": {
    "slideshow": {
     "slide_type": "slide"
    },
    "tags": []
   },
   "source": [
    "### Selecting columns with `[]`\n",
    "\n",
    "* The standard way to select a column in `pandas` is by using the `[]` operator.\n",
    "* Specifying a column name returns the column as a Series.\n",
    "* Specifying a list of column names returns a DataFrame."
   ]
  },
  {
   "cell_type": "code",
   "execution_count": 25,
   "id": "e5fe2c2a",
   "metadata": {
    "slideshow": {
     "slide_type": ""
    },
    "tags": []
   },
   "outputs": [
    {
     "data": {
      "text/html": [
       "<div>\n",
       "<style scoped>\n",
       "    .dataframe tbody tr th:only-of-type {\n",
       "        vertical-align: middle;\n",
       "    }\n",
       "\n",
       "    .dataframe tbody tr th {\n",
       "        vertical-align: top;\n",
       "    }\n",
       "\n",
       "    .dataframe thead th {\n",
       "        text-align: right;\n",
       "    }\n",
       "</style>\n",
       "<table border=\"1\" class=\"dataframe\">\n",
       "  <thead>\n",
       "    <tr style=\"text-align: right;\">\n",
       "      <th></th>\n",
       "      <th>kind</th>\n",
       "      <th>lifetime_cost</th>\n",
       "      <th>longevity</th>\n",
       "      <th>size</th>\n",
       "      <th>weight</th>\n",
       "      <th>height</th>\n",
       "    </tr>\n",
       "    <tr>\n",
       "      <th>breed</th>\n",
       "      <th></th>\n",
       "      <th></th>\n",
       "      <th></th>\n",
       "      <th></th>\n",
       "      <th></th>\n",
       "      <th></th>\n",
       "    </tr>\n",
       "  </thead>\n",
       "  <tbody>\n",
       "    <tr>\n",
       "      <th>Brittany</th>\n",
       "      <td>sporting</td>\n",
       "      <td>22589.0</td>\n",
       "      <td>12.92</td>\n",
       "      <td>medium</td>\n",
       "      <td>35.0</td>\n",
       "      <td>19.0</td>\n",
       "    </tr>\n",
       "    <tr>\n",
       "      <th>Cairn Terrier</th>\n",
       "      <td>terrier</td>\n",
       "      <td>21992.0</td>\n",
       "      <td>13.84</td>\n",
       "      <td>small</td>\n",
       "      <td>14.0</td>\n",
       "      <td>10.0</td>\n",
       "    </tr>\n",
       "    <tr>\n",
       "      <th>English Cocker Spaniel</th>\n",
       "      <td>sporting</td>\n",
       "      <td>18993.0</td>\n",
       "      <td>11.66</td>\n",
       "      <td>medium</td>\n",
       "      <td>30.0</td>\n",
       "      <td>16.0</td>\n",
       "    </tr>\n",
       "    <tr>\n",
       "      <th>Cocker Spaniel</th>\n",
       "      <td>sporting</td>\n",
       "      <td>24330.0</td>\n",
       "      <td>12.50</td>\n",
       "      <td>small</td>\n",
       "      <td>25.0</td>\n",
       "      <td>14.5</td>\n",
       "    </tr>\n",
       "    <tr>\n",
       "      <th>...</th>\n",
       "      <td>...</td>\n",
       "      <td>...</td>\n",
       "      <td>...</td>\n",
       "      <td>...</td>\n",
       "      <td>...</td>\n",
       "      <td>...</td>\n",
       "    </tr>\n",
       "    <tr>\n",
       "      <th>Bloodhound</th>\n",
       "      <td>hound</td>\n",
       "      <td>13824.0</td>\n",
       "      <td>6.75</td>\n",
       "      <td>large</td>\n",
       "      <td>85.0</td>\n",
       "      <td>25.0</td>\n",
       "    </tr>\n",
       "    <tr>\n",
       "      <th>Bullmastiff</th>\n",
       "      <td>working</td>\n",
       "      <td>13936.0</td>\n",
       "      <td>7.57</td>\n",
       "      <td>large</td>\n",
       "      <td>115.0</td>\n",
       "      <td>25.5</td>\n",
       "    </tr>\n",
       "    <tr>\n",
       "      <th>Mastiff</th>\n",
       "      <td>working</td>\n",
       "      <td>13581.0</td>\n",
       "      <td>6.50</td>\n",
       "      <td>large</td>\n",
       "      <td>175.0</td>\n",
       "      <td>30.0</td>\n",
       "    </tr>\n",
       "    <tr>\n",
       "      <th>Saint Bernard</th>\n",
       "      <td>working</td>\n",
       "      <td>20022.0</td>\n",
       "      <td>7.78</td>\n",
       "      <td>large</td>\n",
       "      <td>155.0</td>\n",
       "      <td>26.5</td>\n",
       "    </tr>\n",
       "  </tbody>\n",
       "</table>\n",
       "<p>43 rows × 6 columns</p>\n",
       "</div>"
      ],
      "text/plain": [
       "                            kind  lifetime_cost  longevity    size  weight  \\\n",
       "breed                                                                        \n",
       "Brittany                sporting        22589.0      12.92  medium    35.0   \n",
       "Cairn Terrier            terrier        21992.0      13.84   small    14.0   \n",
       "English Cocker Spaniel  sporting        18993.0      11.66  medium    30.0   \n",
       "Cocker Spaniel          sporting        24330.0      12.50   small    25.0   \n",
       "...                          ...            ...        ...     ...     ...   \n",
       "Bloodhound                 hound        13824.0       6.75   large    85.0   \n",
       "Bullmastiff              working        13936.0       7.57   large   115.0   \n",
       "Mastiff                  working        13581.0       6.50   large   175.0   \n",
       "Saint Bernard            working        20022.0       7.78   large   155.0   \n",
       "\n",
       "                        height  \n",
       "breed                           \n",
       "Brittany                  19.0  \n",
       "Cairn Terrier             10.0  \n",
       "English Cocker Spaniel    16.0  \n",
       "Cocker Spaniel            14.5  \n",
       "...                        ...  \n",
       "Bloodhound                25.0  \n",
       "Bullmastiff               25.5  \n",
       "Mastiff                   30.0  \n",
       "Saint Bernard             26.5  \n",
       "\n",
       "[43 rows x 6 columns]"
      ]
     },
     "execution_count": 25,
     "metadata": {},
     "output_type": "execute_result"
    }
   ],
   "source": [
    "dogs"
   ]
  },
  {
   "cell_type": "code",
   "execution_count": 26,
   "id": "afdc913a",
   "metadata": {
    "slideshow": {
     "slide_type": ""
    },
    "tags": []
   },
   "outputs": [
    {
     "data": {
      "text/plain": [
       "breed\n",
       "Brittany                  sporting\n",
       "Cairn Terrier              terrier\n",
       "English Cocker Spaniel    sporting\n",
       "Cocker Spaniel            sporting\n",
       "                            ...   \n",
       "Bloodhound                   hound\n",
       "Bullmastiff                working\n",
       "Mastiff                    working\n",
       "Saint Bernard              working\n",
       "Name: kind, Length: 43, dtype: object"
      ]
     },
     "execution_count": 26,
     "metadata": {},
     "output_type": "execute_result"
    }
   ],
   "source": [
    "# Returns a Series.\n",
    "dogs['kind']"
   ]
  },
  {
   "cell_type": "code",
   "execution_count": 27,
   "id": "2cf38cf3",
   "metadata": {
    "slideshow": {
     "slide_type": ""
    },
    "tags": []
   },
   "outputs": [
    {
     "data": {
      "text/html": [
       "<div>\n",
       "<style scoped>\n",
       "    .dataframe tbody tr th:only-of-type {\n",
       "        vertical-align: middle;\n",
       "    }\n",
       "\n",
       "    .dataframe tbody tr th {\n",
       "        vertical-align: top;\n",
       "    }\n",
       "\n",
       "    .dataframe thead th {\n",
       "        text-align: right;\n",
       "    }\n",
       "</style>\n",
       "<table border=\"1\" class=\"dataframe\">\n",
       "  <thead>\n",
       "    <tr style=\"text-align: right;\">\n",
       "      <th></th>\n",
       "      <th>kind</th>\n",
       "      <th>size</th>\n",
       "    </tr>\n",
       "    <tr>\n",
       "      <th>breed</th>\n",
       "      <th></th>\n",
       "      <th></th>\n",
       "    </tr>\n",
       "  </thead>\n",
       "  <tbody>\n",
       "    <tr>\n",
       "      <th>Brittany</th>\n",
       "      <td>sporting</td>\n",
       "      <td>medium</td>\n",
       "    </tr>\n",
       "    <tr>\n",
       "      <th>Cairn Terrier</th>\n",
       "      <td>terrier</td>\n",
       "      <td>small</td>\n",
       "    </tr>\n",
       "    <tr>\n",
       "      <th>English Cocker Spaniel</th>\n",
       "      <td>sporting</td>\n",
       "      <td>medium</td>\n",
       "    </tr>\n",
       "    <tr>\n",
       "      <th>Cocker Spaniel</th>\n",
       "      <td>sporting</td>\n",
       "      <td>small</td>\n",
       "    </tr>\n",
       "    <tr>\n",
       "      <th>...</th>\n",
       "      <td>...</td>\n",
       "      <td>...</td>\n",
       "    </tr>\n",
       "    <tr>\n",
       "      <th>Bloodhound</th>\n",
       "      <td>hound</td>\n",
       "      <td>large</td>\n",
       "    </tr>\n",
       "    <tr>\n",
       "      <th>Bullmastiff</th>\n",
       "      <td>working</td>\n",
       "      <td>large</td>\n",
       "    </tr>\n",
       "    <tr>\n",
       "      <th>Mastiff</th>\n",
       "      <td>working</td>\n",
       "      <td>large</td>\n",
       "    </tr>\n",
       "    <tr>\n",
       "      <th>Saint Bernard</th>\n",
       "      <td>working</td>\n",
       "      <td>large</td>\n",
       "    </tr>\n",
       "  </tbody>\n",
       "</table>\n",
       "<p>43 rows × 2 columns</p>\n",
       "</div>"
      ],
      "text/plain": [
       "                            kind    size\n",
       "breed                                   \n",
       "Brittany                sporting  medium\n",
       "Cairn Terrier            terrier   small\n",
       "English Cocker Spaniel  sporting  medium\n",
       "Cocker Spaniel          sporting   small\n",
       "...                          ...     ...\n",
       "Bloodhound                 hound   large\n",
       "Bullmastiff              working   large\n",
       "Mastiff                  working   large\n",
       "Saint Bernard            working   large\n",
       "\n",
       "[43 rows x 2 columns]"
      ]
     },
     "execution_count": 27,
     "metadata": {},
     "output_type": "execute_result"
    }
   ],
   "source": [
    "# Returns a DataFrame.\n",
    "dogs[['kind', 'size']]"
   ]
  },
  {
   "cell_type": "code",
   "execution_count": 28,
   "id": "f33f6513",
   "metadata": {
    "slideshow": {
     "slide_type": ""
    },
    "tags": []
   },
   "outputs": [
    {
     "data": {
      "text/html": [
       "<div>\n",
       "<style scoped>\n",
       "    .dataframe tbody tr th:only-of-type {\n",
       "        vertical-align: middle;\n",
       "    }\n",
       "\n",
       "    .dataframe tbody tr th {\n",
       "        vertical-align: top;\n",
       "    }\n",
       "\n",
       "    .dataframe thead th {\n",
       "        text-align: right;\n",
       "    }\n",
       "</style>\n",
       "<table border=\"1\" class=\"dataframe\">\n",
       "  <thead>\n",
       "    <tr style=\"text-align: right;\">\n",
       "      <th></th>\n",
       "      <th>kind</th>\n",
       "    </tr>\n",
       "    <tr>\n",
       "      <th>breed</th>\n",
       "      <th></th>\n",
       "    </tr>\n",
       "  </thead>\n",
       "  <tbody>\n",
       "    <tr>\n",
       "      <th>Brittany</th>\n",
       "      <td>sporting</td>\n",
       "    </tr>\n",
       "    <tr>\n",
       "      <th>Cairn Terrier</th>\n",
       "      <td>terrier</td>\n",
       "    </tr>\n",
       "    <tr>\n",
       "      <th>English Cocker Spaniel</th>\n",
       "      <td>sporting</td>\n",
       "    </tr>\n",
       "    <tr>\n",
       "      <th>Cocker Spaniel</th>\n",
       "      <td>sporting</td>\n",
       "    </tr>\n",
       "    <tr>\n",
       "      <th>...</th>\n",
       "      <td>...</td>\n",
       "    </tr>\n",
       "    <tr>\n",
       "      <th>Bloodhound</th>\n",
       "      <td>hound</td>\n",
       "    </tr>\n",
       "    <tr>\n",
       "      <th>Bullmastiff</th>\n",
       "      <td>working</td>\n",
       "    </tr>\n",
       "    <tr>\n",
       "      <th>Mastiff</th>\n",
       "      <td>working</td>\n",
       "    </tr>\n",
       "    <tr>\n",
       "      <th>Saint Bernard</th>\n",
       "      <td>working</td>\n",
       "    </tr>\n",
       "  </tbody>\n",
       "</table>\n",
       "<p>43 rows × 1 columns</p>\n",
       "</div>"
      ],
      "text/plain": [
       "                            kind\n",
       "breed                           \n",
       "Brittany                sporting\n",
       "Cairn Terrier            terrier\n",
       "English Cocker Spaniel  sporting\n",
       "Cocker Spaniel          sporting\n",
       "...                          ...\n",
       "Bloodhound                 hound\n",
       "Bullmastiff              working\n",
       "Mastiff                  working\n",
       "Saint Bernard            working\n",
       "\n",
       "[43 rows x 1 columns]"
      ]
     },
     "execution_count": 28,
     "metadata": {},
     "output_type": "execute_result"
    }
   ],
   "source": [
    "# 🤔\n",
    "dogs[['kind']]"
   ]
  },
  {
   "cell_type": "code",
   "execution_count": 29,
   "id": "7d620b54",
   "metadata": {
    "slideshow": {
     "slide_type": ""
    },
    "tags": [
     "raises-exception"
    ]
   },
   "outputs": [
    {
     "ename": "KeyError",
     "evalue": "'breed'",
     "output_type": "error",
     "traceback": [
      "\u001b[0;31m---------------------------------------------------------------------------\u001b[0m",
      "\u001b[0;31mKeyError\u001b[0m                                  Traceback (most recent call last)",
      "File \u001b[0;32m~/mambaforge/envs/dsc80/lib/python3.8/site-packages/pandas/core/indexes/base.py:3361\u001b[0m, in \u001b[0;36mIndex.get_loc\u001b[0;34m(self, key, method, tolerance)\u001b[0m\n\u001b[1;32m   3360\u001b[0m \u001b[38;5;28;01mtry\u001b[39;00m:\n\u001b[0;32m-> 3361\u001b[0m     \u001b[38;5;28;01mreturn\u001b[39;00m \u001b[38;5;28;43mself\u001b[39;49m\u001b[38;5;241;43m.\u001b[39;49m\u001b[43m_engine\u001b[49m\u001b[38;5;241;43m.\u001b[39;49m\u001b[43mget_loc\u001b[49m\u001b[43m(\u001b[49m\u001b[43mcasted_key\u001b[49m\u001b[43m)\u001b[49m\n\u001b[1;32m   3362\u001b[0m \u001b[38;5;28;01mexcept\u001b[39;00m \u001b[38;5;167;01mKeyError\u001b[39;00m \u001b[38;5;28;01mas\u001b[39;00m err:\n",
      "File \u001b[0;32m~/mambaforge/envs/dsc80/lib/python3.8/site-packages/pandas/_libs/index.pyx:76\u001b[0m, in \u001b[0;36mpandas._libs.index.IndexEngine.get_loc\u001b[0;34m()\u001b[0m\n",
      "File \u001b[0;32m~/mambaforge/envs/dsc80/lib/python3.8/site-packages/pandas/_libs/index.pyx:108\u001b[0m, in \u001b[0;36mpandas._libs.index.IndexEngine.get_loc\u001b[0;34m()\u001b[0m\n",
      "File \u001b[0;32mpandas/_libs/hashtable_class_helper.pxi:5198\u001b[0m, in \u001b[0;36mpandas._libs.hashtable.PyObjectHashTable.get_item\u001b[0;34m()\u001b[0m\n",
      "File \u001b[0;32mpandas/_libs/hashtable_class_helper.pxi:5206\u001b[0m, in \u001b[0;36mpandas._libs.hashtable.PyObjectHashTable.get_item\u001b[0;34m()\u001b[0m\n",
      "\u001b[0;31mKeyError\u001b[0m: 'breed'",
      "\nThe above exception was the direct cause of the following exception:\n",
      "\u001b[0;31mKeyError\u001b[0m                                  Traceback (most recent call last)",
      "Cell \u001b[0;32mIn[29], line 2\u001b[0m\n\u001b[1;32m      1\u001b[0m \u001b[38;5;66;03m# Breeds are stored in the index, which is not a column!\u001b[39;00m\n\u001b[0;32m----> 2\u001b[0m \u001b[43mdogs\u001b[49m\u001b[43m[\u001b[49m\u001b[38;5;124;43m'\u001b[39;49m\u001b[38;5;124;43mbreed\u001b[39;49m\u001b[38;5;124;43m'\u001b[39;49m\u001b[43m]\u001b[49m\n",
      "File \u001b[0;32m~/mambaforge/envs/dsc80/lib/python3.8/site-packages/pandas/core/frame.py:3458\u001b[0m, in \u001b[0;36mDataFrame.__getitem__\u001b[0;34m(self, key)\u001b[0m\n\u001b[1;32m   3456\u001b[0m \u001b[38;5;28;01mif\u001b[39;00m \u001b[38;5;28mself\u001b[39m\u001b[38;5;241m.\u001b[39mcolumns\u001b[38;5;241m.\u001b[39mnlevels \u001b[38;5;241m>\u001b[39m \u001b[38;5;241m1\u001b[39m:\n\u001b[1;32m   3457\u001b[0m     \u001b[38;5;28;01mreturn\u001b[39;00m \u001b[38;5;28mself\u001b[39m\u001b[38;5;241m.\u001b[39m_getitem_multilevel(key)\n\u001b[0;32m-> 3458\u001b[0m indexer \u001b[38;5;241m=\u001b[39m \u001b[38;5;28;43mself\u001b[39;49m\u001b[38;5;241;43m.\u001b[39;49m\u001b[43mcolumns\u001b[49m\u001b[38;5;241;43m.\u001b[39;49m\u001b[43mget_loc\u001b[49m\u001b[43m(\u001b[49m\u001b[43mkey\u001b[49m\u001b[43m)\u001b[49m\n\u001b[1;32m   3459\u001b[0m \u001b[38;5;28;01mif\u001b[39;00m is_integer(indexer):\n\u001b[1;32m   3460\u001b[0m     indexer \u001b[38;5;241m=\u001b[39m [indexer]\n",
      "File \u001b[0;32m~/mambaforge/envs/dsc80/lib/python3.8/site-packages/pandas/core/indexes/base.py:3363\u001b[0m, in \u001b[0;36mIndex.get_loc\u001b[0;34m(self, key, method, tolerance)\u001b[0m\n\u001b[1;32m   3361\u001b[0m         \u001b[38;5;28;01mreturn\u001b[39;00m \u001b[38;5;28mself\u001b[39m\u001b[38;5;241m.\u001b[39m_engine\u001b[38;5;241m.\u001b[39mget_loc(casted_key)\n\u001b[1;32m   3362\u001b[0m     \u001b[38;5;28;01mexcept\u001b[39;00m \u001b[38;5;167;01mKeyError\u001b[39;00m \u001b[38;5;28;01mas\u001b[39;00m err:\n\u001b[0;32m-> 3363\u001b[0m         \u001b[38;5;28;01mraise\u001b[39;00m \u001b[38;5;167;01mKeyError\u001b[39;00m(key) \u001b[38;5;28;01mfrom\u001b[39;00m \u001b[38;5;21;01merr\u001b[39;00m\n\u001b[1;32m   3365\u001b[0m \u001b[38;5;28;01mif\u001b[39;00m is_scalar(key) \u001b[38;5;129;01mand\u001b[39;00m isna(key) \u001b[38;5;129;01mand\u001b[39;00m \u001b[38;5;129;01mnot\u001b[39;00m \u001b[38;5;28mself\u001b[39m\u001b[38;5;241m.\u001b[39mhasnans:\n\u001b[1;32m   3366\u001b[0m     \u001b[38;5;28;01mraise\u001b[39;00m \u001b[38;5;167;01mKeyError\u001b[39;00m(key)\n",
      "\u001b[0;31mKeyError\u001b[0m: 'breed'"
     ]
    }
   ],
   "source": [
    "# Breeds are stored in the index, which is not a column!\n",
    "dogs['breed']"
   ]
  },
  {
   "cell_type": "code",
   "execution_count": 30,
   "id": "74ce6f66",
   "metadata": {
    "slideshow": {
     "slide_type": ""
    },
    "tags": []
   },
   "outputs": [
    {
     "data": {
      "text/plain": [
       "Index(['Brittany', 'Cairn Terrier', 'English Cocker Spaniel', 'Cocker Spaniel',\n",
       "       'Shetland Sheepdog', 'Siberian Husky', 'Lhasa Apso',\n",
       "       'Miniature Schnauzer', 'Chihuahua', 'English Springer Spaniel',\n",
       "       'German Shorthaired Pointer', 'Pointer', 'Tibetan Spaniel',\n",
       "       'Labrador Retriever', 'Maltese', 'Shih Tzu', 'Irish Setter',\n",
       "       'Golden Retriever', 'Chesapeake Bay Retriever', 'Tibetan Terrier',\n",
       "       'Gordon Setter', 'Pug', 'Norfolk Terrier', 'English Toy Spaniel',\n",
       "       'Cavalier King Charles Spaniel', 'Basenji',\n",
       "       'Staffordshire Bull Terrier', 'Pembroke Welsh Corgi', 'Clumber Spaniel',\n",
       "       'Dandie Dinmont Terrier', 'Giant Schnauzer', 'Scottish Terrier',\n",
       "       'Kerry Blue Terrier', 'Afghan Hound', 'Newfoundland',\n",
       "       'Rhodesian Ridgeback', 'Borzoi', 'Bull Terrier', 'Alaskan Malamute',\n",
       "       'Bloodhound', 'Bullmastiff', 'Mastiff', 'Saint Bernard'],\n",
       "      dtype='object', name='breed')"
      ]
     },
     "execution_count": 30,
     "metadata": {},
     "output_type": "execute_result"
    }
   ],
   "source": [
    "dogs.index"
   ]
  },
  {
   "cell_type": "markdown",
   "id": "77e32b3c",
   "metadata": {
    "slideshow": {
     "slide_type": "slide"
    },
    "tags": []
   },
   "source": [
    "### Useful Series methods\n",
    "\n",
    "There are a variety of useful methods that work on Series. You can see the entire list [here](https://pandas.pydata.org/docs/reference/api/pandas.Series.html). Many methods that work on a Series will also work on DataFrames, as we'll soon see."
   ]
  },
  {
   "cell_type": "code",
   "execution_count": 31,
   "id": "501cd9eb-37c2-4669-b7bc-ebb9c5b5cadc",
   "metadata": {
    "slideshow": {
     "slide_type": ""
    },
    "tags": []
   },
   "outputs": [
    {
     "data": {
      "text/html": [
       "<div>\n",
       "<style scoped>\n",
       "    .dataframe tbody tr th:only-of-type {\n",
       "        vertical-align: middle;\n",
       "    }\n",
       "\n",
       "    .dataframe tbody tr th {\n",
       "        vertical-align: top;\n",
       "    }\n",
       "\n",
       "    .dataframe thead th {\n",
       "        text-align: right;\n",
       "    }\n",
       "</style>\n",
       "<table border=\"1\" class=\"dataframe\">\n",
       "  <thead>\n",
       "    <tr style=\"text-align: right;\">\n",
       "      <th></th>\n",
       "      <th>kind</th>\n",
       "      <th>lifetime_cost</th>\n",
       "      <th>longevity</th>\n",
       "      <th>size</th>\n",
       "      <th>weight</th>\n",
       "      <th>height</th>\n",
       "    </tr>\n",
       "    <tr>\n",
       "      <th>breed</th>\n",
       "      <th></th>\n",
       "      <th></th>\n",
       "      <th></th>\n",
       "      <th></th>\n",
       "      <th></th>\n",
       "      <th></th>\n",
       "    </tr>\n",
       "  </thead>\n",
       "  <tbody>\n",
       "    <tr>\n",
       "      <th>Brittany</th>\n",
       "      <td>sporting</td>\n",
       "      <td>22589.0</td>\n",
       "      <td>12.92</td>\n",
       "      <td>medium</td>\n",
       "      <td>35.0</td>\n",
       "      <td>19.0</td>\n",
       "    </tr>\n",
       "    <tr>\n",
       "      <th>Cairn Terrier</th>\n",
       "      <td>terrier</td>\n",
       "      <td>21992.0</td>\n",
       "      <td>13.84</td>\n",
       "      <td>small</td>\n",
       "      <td>14.0</td>\n",
       "      <td>10.0</td>\n",
       "    </tr>\n",
       "    <tr>\n",
       "      <th>English Cocker Spaniel</th>\n",
       "      <td>sporting</td>\n",
       "      <td>18993.0</td>\n",
       "      <td>11.66</td>\n",
       "      <td>medium</td>\n",
       "      <td>30.0</td>\n",
       "      <td>16.0</td>\n",
       "    </tr>\n",
       "    <tr>\n",
       "      <th>Cocker Spaniel</th>\n",
       "      <td>sporting</td>\n",
       "      <td>24330.0</td>\n",
       "      <td>12.50</td>\n",
       "      <td>small</td>\n",
       "      <td>25.0</td>\n",
       "      <td>14.5</td>\n",
       "    </tr>\n",
       "    <tr>\n",
       "      <th>...</th>\n",
       "      <td>...</td>\n",
       "      <td>...</td>\n",
       "      <td>...</td>\n",
       "      <td>...</td>\n",
       "      <td>...</td>\n",
       "      <td>...</td>\n",
       "    </tr>\n",
       "    <tr>\n",
       "      <th>Bloodhound</th>\n",
       "      <td>hound</td>\n",
       "      <td>13824.0</td>\n",
       "      <td>6.75</td>\n",
       "      <td>large</td>\n",
       "      <td>85.0</td>\n",
       "      <td>25.0</td>\n",
       "    </tr>\n",
       "    <tr>\n",
       "      <th>Bullmastiff</th>\n",
       "      <td>working</td>\n",
       "      <td>13936.0</td>\n",
       "      <td>7.57</td>\n",
       "      <td>large</td>\n",
       "      <td>115.0</td>\n",
       "      <td>25.5</td>\n",
       "    </tr>\n",
       "    <tr>\n",
       "      <th>Mastiff</th>\n",
       "      <td>working</td>\n",
       "      <td>13581.0</td>\n",
       "      <td>6.50</td>\n",
       "      <td>large</td>\n",
       "      <td>175.0</td>\n",
       "      <td>30.0</td>\n",
       "    </tr>\n",
       "    <tr>\n",
       "      <th>Saint Bernard</th>\n",
       "      <td>working</td>\n",
       "      <td>20022.0</td>\n",
       "      <td>7.78</td>\n",
       "      <td>large</td>\n",
       "      <td>155.0</td>\n",
       "      <td>26.5</td>\n",
       "    </tr>\n",
       "  </tbody>\n",
       "</table>\n",
       "<p>43 rows × 6 columns</p>\n",
       "</div>"
      ],
      "text/plain": [
       "                            kind  lifetime_cost  longevity    size  weight  \\\n",
       "breed                                                                        \n",
       "Brittany                sporting        22589.0      12.92  medium    35.0   \n",
       "Cairn Terrier            terrier        21992.0      13.84   small    14.0   \n",
       "English Cocker Spaniel  sporting        18993.0      11.66  medium    30.0   \n",
       "Cocker Spaniel          sporting        24330.0      12.50   small    25.0   \n",
       "...                          ...            ...        ...     ...     ...   \n",
       "Bloodhound                 hound        13824.0       6.75   large    85.0   \n",
       "Bullmastiff              working        13936.0       7.57   large   115.0   \n",
       "Mastiff                  working        13581.0       6.50   large   175.0   \n",
       "Saint Bernard            working        20022.0       7.78   large   155.0   \n",
       "\n",
       "                        height  \n",
       "breed                           \n",
       "Brittany                  19.0  \n",
       "Cairn Terrier             10.0  \n",
       "English Cocker Spaniel    16.0  \n",
       "Cocker Spaniel            14.5  \n",
       "...                        ...  \n",
       "Bloodhound                25.0  \n",
       "Bullmastiff               25.5  \n",
       "Mastiff                   30.0  \n",
       "Saint Bernard             26.5  \n",
       "\n",
       "[43 rows x 6 columns]"
      ]
     },
     "execution_count": 31,
     "metadata": {},
     "output_type": "execute_result"
    }
   ],
   "source": [
    "dogs"
   ]
  },
  {
   "cell_type": "code",
   "execution_count": 32,
   "id": "014e7e53",
   "metadata": {
    "slideshow": {
     "slide_type": ""
    },
    "tags": []
   },
   "outputs": [
    {
     "data": {
      "text/plain": [
       "array(['sporting', 'terrier', 'herding', 'working', 'non-sporting', 'toy',\n",
       "       'hound'], dtype=object)"
      ]
     },
     "execution_count": 32,
     "metadata": {},
     "output_type": "execute_result"
    }
   ],
   "source": [
    "# What are the unique dog kinds?\n",
    "dogs['kind'].unique()"
   ]
  },
  {
   "cell_type": "code",
   "execution_count": 33,
   "id": "660aef64",
   "metadata": {
    "slideshow": {
     "slide_type": ""
    },
    "tags": []
   },
   "outputs": [
    {
     "data": {
      "text/plain": [
       "sporting        12\n",
       "terrier          8\n",
       "working          7\n",
       "toy              6\n",
       "hound            5\n",
       "non-sporting     3\n",
       "herding          2\n",
       "Name: kind, dtype: int64"
      ]
     },
     "execution_count": 33,
     "metadata": {},
     "output_type": "execute_result"
    }
   ],
   "source": [
    "# What's the distribution of kinds?\n",
    "dogs['kind'].value_counts()"
   ]
  },
  {
   "cell_type": "code",
   "execution_count": 34,
   "id": "d0da3249",
   "metadata": {
    "slideshow": {
     "slide_type": ""
    },
    "tags": []
   },
   "outputs": [
    {
     "data": {
      "text/plain": [
       "11.340697674418605"
      ]
     },
     "execution_count": 34,
     "metadata": {},
     "output_type": "execute_result"
    }
   ],
   "source": [
    "# What's the mean of the 'longevity' column?\n",
    "dogs['longevity'].mean()"
   ]
  },
  {
   "cell_type": "code",
   "execution_count": 35,
   "id": "93c6f30c",
   "metadata": {
    "slideshow": {
     "slide_type": ""
    },
    "tags": []
   },
   "outputs": [
    {
     "data": {
      "text/plain": [
       "count     43.00\n",
       "mean      49.35\n",
       "std       39.42\n",
       "min        5.00\n",
       "25%       18.00\n",
       "50%       36.50\n",
       "75%       67.50\n",
       "max      175.00\n",
       "Name: weight, dtype: float64"
      ]
     },
     "execution_count": 35,
     "metadata": {},
     "output_type": "execute_result"
    }
   ],
   "source": [
    "# Tell me more about the 'weight' column.\n",
    "dogs['weight'].describe()"
   ]
  },
  {
   "cell_type": "code",
   "execution_count": 36,
   "id": "be6b5ebc",
   "metadata": {
    "slideshow": {
     "slide_type": ""
    },
    "tags": []
   },
   "outputs": [
    {
     "data": {
      "text/plain": [
       "breed\n",
       "Mastiff                       13581.0\n",
       "Bloodhound                    13824.0\n",
       "Bullmastiff                   13936.0\n",
       "Borzoi                        16176.0\n",
       "                               ...   \n",
       "Tibetan Spaniel               25549.0\n",
       "German Shorthaired Pointer    25842.0\n",
       "Chihuahua                     26250.0\n",
       "Giant Schnauzer               26686.0\n",
       "Name: lifetime_cost, Length: 43, dtype: float64"
      ]
     },
     "execution_count": 36,
     "metadata": {},
     "output_type": "execute_result"
    }
   ],
   "source": [
    "# Sort the 'lifetime_cost' column. Note that here we're using sort_values on a Series, not a DataFrame!\n",
    "dogs['lifetime_cost'].sort_values()"
   ]
  },
  {
   "cell_type": "markdown",
   "id": "c7bd05aa",
   "metadata": {
    "slideshow": {
     "slide_type": "slide"
    },
    "tags": []
   },
   "source": [
    "## Subsetting rows (and columns)"
   ]
  },
  {
   "cell_type": "markdown",
   "id": "35004e1e",
   "metadata": {
    "slideshow": {
     "slide_type": "slide"
    },
    "tags": []
   },
   "source": [
    "### Using `loc` to slice rows and columns using labels"
   ]
  },
  {
   "cell_type": "code",
   "execution_count": 37,
   "id": "bd7d016d",
   "metadata": {
    "slideshow": {
     "slide_type": ""
    },
    "tags": []
   },
   "outputs": [
    {
     "data": {
      "text/plain": [
       "11.0"
      ]
     },
     "execution_count": 37,
     "metadata": {},
     "output_type": "execute_result"
    }
   ],
   "source": [
    "# The first argument is the row label\n",
    "#        ↓\n",
    "dogs.loc['Pug', 'longevity']\n",
    "#                  ↑\n",
    "# The second argument is the column label"
   ]
  },
  {
   "cell_type": "markdown",
   "id": "afd8c155",
   "metadata": {
    "slideshow": {
     "slide_type": "slide"
    }
   },
   "source": [
    "### 💡 Pro-Tip: Using Pandas Tutor\n",
    "\n",
    "If you want, you can install `pandas_tutor` from pip (in your terminal):\n",
    "\n",
    "    pip install pandas_tutor\n",
    "\n",
    "Then, you can load the extension by adding:\n",
    "\n",
    "    %reload_ext pandas_tutor\n",
    "\n",
    "At the top of your notebook. After that, you can render visualizations with the `%%pandas_tutor` or `%%pt` cell magics:"
   ]
  },
  {
   "cell_type": "code",
   "execution_count": 38,
   "id": "073ab559",
   "metadata": {},
   "outputs": [
    {
     "data": {
      "text/html": [
       "\n",
       "<script type=\"text/javascript\" src=\"https://pandastutor.com/build/wsembed.bundle.2022-07-07-release.js\"></script>\n",
       "<script>\n",
       "console.log(\"initializing pandas_tutor js\")\n",
       "\n",
       "function drawWsv(viz_id, spec, options) {\n",
       "  if (typeof createWsvFromPandasTrace === 'undefined') {\n",
       "    setTimeout(() => drawWsv(viz_id, spec, options), 2000) // retry in 2 seconds\n",
       "    return\n",
       "  }\n",
       "  createWsvFromPandasTrace(viz_id, spec, options)\n",
       "}\n",
       "</script>\n"
      ],
      "text/plain": [
       "<IPython.core.display.HTML object>"
      ]
     },
     "metadata": {},
     "output_type": "display_data"
    }
   ],
   "source": [
    "# Pandas Tutor setup. You'll need to run `pip install pandas_tutor` in your terminal\n",
    "# for this cell to work, but you can also ignore the error and continue onward.\n",
    "%reload_ext pandas_tutor\n",
    "%set_pandas_tutor_options {\"maxDisplayCols\": 8, \"nohover\": True, \"projectorMode\": True}"
   ]
  },
  {
   "cell_type": "code",
   "execution_count": 39,
   "id": "9dca6131",
   "metadata": {},
   "outputs": [
    {
     "data": {
      "text/html": [
       "\n",
       "<div class=\"pt-viz\" id=\"pt-viz-0\"></div>\n",
       "<script>\n",
       "drawWsv('#pt-viz-0', \"{\\n  \\\"code\\\": \\\"dogs.loc['Pug', 'longevity']\\\\n\\\",\\n  \\\"explanation\\\": [\\n    {\\n      \\\"type\\\": \\\"Subscript\\\",\\n      \\\"code_step\\\": \\\"dogs.loc['Pug', 'longevity']\\\",\\n      \\\"fragment\\\": {\\n        \\\"start\\\": {\\n          \\\"line\\\": 0,\\n          \\\"ch\\\": 4\\n        },\\n        \\\"end\\\": {\\n          \\\"line\\\": 0,\\n          \\\"ch\\\": 28\\n        }\\n      },\\n      \\\"marks\\\": [\\n        {\\n          \\\"type\\\": \\\"map\\\",\\n          \\\"from\\\": {\\n            \\\"type\\\": \\\"cell\\\",\\n            \\\"anchor\\\": \\\"lhs\\\",\\n            \\\"row\\\": \\\"Pug\\\",\\n            \\\"column\\\": \\\"longevity\\\"\\n          },\\n          \\\"to\\\": {\\n            \\\"type\\\": \\\"scalar\\\",\\n            \\\"anchor\\\": \\\"rhs\\\"\\n          }\\n        }\\n      ],\\n      \\\"data\\\": {\\n        \\\"lhs\\\": {\\n          \\\"type\\\": \\\"DataFrame\\\",\\n          \\\"columns\\\": {\\n            \\\"names\\\": [\\n              null\\n            ],\\n            \\\"labels\\\": [\\n              \\\"kind\\\",\\n              \\\"lifetime_cost\\\",\\n              \\\"longevity\\\",\\n              \\\"size\\\",\\n              \\\"weight\\\",\\n              \\\"height\\\"\\n            ]\\n          },\\n          \\\"index\\\": {\\n            \\\"names\\\": [\\n              \\\"breed\\\"\\n            ],\\n            \\\"labels\\\": [\\n              \\\"Brittany\\\",\\n              \\\"Cairn Terrier\\\",\\n              \\\"English Cocker Spaniel\\\",\\n              \\\"Cocker Spaniel\\\",\\n              \\\"Shetland Sheepdog\\\",\\n              \\\"Siberian Husky\\\",\\n              \\\"Lhasa Apso\\\",\\n              \\\"Miniature Schnauzer\\\",\\n              \\\"Chihuahua\\\",\\n              \\\"English Springer Spaniel\\\",\\n              \\\"German Shorthaired Pointer\\\",\\n              \\\"Pointer\\\",\\n              \\\"Tibetan Spaniel\\\",\\n              \\\"Labrador Retriever\\\",\\n              \\\"Maltese\\\",\\n              \\\"Shih Tzu\\\",\\n              \\\"Irish Setter\\\",\\n              \\\"Golden Retriever\\\",\\n              \\\"Chesapeake Bay Retriever\\\",\\n              \\\"Tibetan Terrier\\\",\\n              \\\"Gordon Setter\\\",\\n              \\\"Pug\\\",\\n              \\\"Norfolk Terrier\\\",\\n              \\\"English Toy Spaniel\\\",\\n              \\\"Cavalier King Charles Spaniel\\\",\\n              \\\"Basenji\\\",\\n              \\\"Staffordshire Bull Terrier\\\",\\n              \\\"Pembroke Welsh Corgi\\\",\\n              \\\"Clumber Spaniel\\\",\\n              \\\"Dandie Dinmont Terrier\\\",\\n              \\\"Giant Schnauzer\\\",\\n              \\\"Scottish Terrier\\\",\\n              \\\"Kerry Blue Terrier\\\",\\n              \\\"Afghan Hound\\\",\\n              \\\"Newfoundland\\\",\\n              \\\"Rhodesian Ridgeback\\\",\\n              \\\"Borzoi\\\",\\n              \\\"Bull Terrier\\\",\\n              \\\"Alaskan Malamute\\\",\\n              \\\"Bloodhound\\\",\\n              \\\"Bullmastiff\\\",\\n              \\\"Mastiff\\\",\\n              \\\"Saint Bernard\\\"\\n            ]\\n          },\\n          \\\"data\\\": [\\n            [\\n              \\\"sporting\\\",\\n              22589.0,\\n              12.92,\\n              \\\"medium\\\",\\n              35.0,\\n              19.0\\n            ],\\n            [\\n              \\\"terrier\\\",\\n              21992.0,\\n              13.84,\\n              \\\"small\\\",\\n              14.0,\\n              10.0\\n            ],\\n            [\\n              \\\"sporting\\\",\\n              18993.0,\\n              11.66,\\n              \\\"medium\\\",\\n              30.0,\\n              16.0\\n            ],\\n            [\\n              \\\"sporting\\\",\\n              24330.0,\\n              12.5,\\n              \\\"small\\\",\\n              25.0,\\n              14.5\\n            ],\\n            [\\n              \\\"herding\\\",\\n              21006.0,\\n              12.53,\\n              \\\"small\\\",\\n              22.0,\\n              14.5\\n            ],\\n            [\\n              \\\"working\\\",\\n              22049.0,\\n              12.58,\\n              \\\"medium\\\",\\n              47.5,\\n              21.75\\n            ],\\n            [\\n              \\\"non-sporting\\\",\\n              22031.0,\\n              13.92,\\n              \\\"small\\\",\\n              15.0,\\n              10.5\\n            ],\\n            [\\n              \\\"terrier\\\",\\n              20087.0,\\n              11.81,\\n              \\\"small\\\",\\n              15.5,\\n              13.0\\n            ],\\n            [\\n              \\\"toy\\\",\\n              26250.0,\\n              16.5,\\n              \\\"small\\\",\\n              5.5,\\n              5.0\\n            ],\\n            [\\n              \\\"sporting\\\",\\n              21946.0,\\n              12.54,\\n              \\\"medium\\\",\\n              45.0,\\n              19.5\\n            ],\\n            [\\n              \\\"sporting\\\",\\n              25842.0,\\n              11.46,\\n              \\\"large\\\",\\n              62.5,\\n              24.0\\n            ],\\n            [\\n              \\\"sporting\\\",\\n              24445.0,\\n              12.42,\\n              \\\"large\\\",\\n              59.5,\\n              25.5\\n            ],\\n            [\\n              \\\"non-sporting\\\",\\n              25549.0,\\n              14.42,\\n              \\\"small\\\",\\n              12.0,\\n              10.0\\n            ],\\n            [\\n              \\\"sporting\\\",\\n              21299.0,\\n              12.04,\\n              \\\"medium\\\",\\n              67.5,\\n              23.0\\n            ],\\n            [\\n              \\\"toy\\\",\\n              19084.0,\\n              12.25,\\n              \\\"small\\\",\\n              5.0,\\n              9.0\\n            ],\\n            [\\n              \\\"toy\\\",\\n              21152.0,\\n              13.2,\\n              \\\"small\\\",\\n              12.5,\\n              9.75\\n            ],\\n            [\\n              \\\"sporting\\\",\\n              20323.0,\\n              11.63,\\n              \\\"large\\\",\\n              65.0,\\n              26.0\\n            ],\\n            [\\n              \\\"sporting\\\",\\n              21447.0,\\n              12.04,\\n              \\\"medium\\\",\\n              60.0,\\n              22.75\\n            ],\\n            [\\n              \\\"sporting\\\",\\n              16697.0,\\n              9.48,\\n              \\\"large\\\",\\n              67.5,\\n              23.5\\n            ],\\n            [\\n              \\\"non-sporting\\\",\\n              20336.0,\\n              12.31,\\n              \\\"small\\\",\\n              24.0,\\n              15.5\\n            ],\\n            [\\n              \\\"sporting\\\",\\n              19605.0,\\n              11.1,\\n              \\\"large\\\",\\n              62.5,\\n              25.0\\n            ],\\n            [\\n              \\\"toy\\\",\\n              18527.0,\\n              11.0,\\n              \\\"medium\\\",\\n              16.0,\\n              16.0\\n            ],\\n            [\\n              \\\"terrier\\\",\\n              24308.0,\\n              13.07,\\n              \\\"small\\\",\\n              12.0,\\n              9.5\\n            ],\\n            [\\n              \\\"toy\\\",\\n              17521.0,\\n              10.1,\\n              \\\"small\\\",\\n              11.0,\\n              10.0\\n            ],\\n            [\\n              \\\"toy\\\",\\n              18639.0,\\n              11.29,\\n              \\\"small\\\",\\n              15.5,\\n              12.5\\n            ],\\n            [\\n              \\\"hound\\\",\\n              22096.0,\\n              13.58,\\n              \\\"medium\\\",\\n              23.0,\\n              16.5\\n            ],\\n            [\\n              \\\"terrier\\\",\\n              21650.0,\\n              12.05,\\n              \\\"medium\\\",\\n              31.0,\\n              15.0\\n            ],\\n            [\\n              \\\"herding\\\",\\n              23978.0,\\n              12.25,\\n              \\\"small\\\",\\n              26.0,\\n              11.0\\n            ],\\n            [\\n              \\\"sporting\\\",\\n              18084.0,\\n              10.0,\\n              \\\"medium\\\",\\n              70.0,\\n              18.5\\n            ],\\n            [\\n              \\\"terrier\\\",\\n              21633.0,\\n              12.17,\\n              \\\"small\\\",\\n              21.0,\\n              9.0\\n            ],\\n            [\\n              \\\"working\\\",\\n              26686.0,\\n              10.0,\\n              \\\"large\\\",\\n              77.5,\\n              25.5\\n            ],\\n            [\\n              \\\"terrier\\\",\\n              17525.0,\\n              10.69,\\n              \\\"small\\\",\\n              20.0,\\n              10.0\\n            ],\\n            [\\n              \\\"terrier\\\",\\n              17240.0,\\n              9.4,\\n              \\\"medium\\\",\\n              36.5,\\n              18.5\\n            ],\\n            [\\n              \\\"hound\\\",\\n              24077.0,\\n              11.92,\\n              \\\"large\\\",\\n              55.0,\\n              26.0\\n            ],\\n            [\\n              \\\"working\\\",\\n              19351.0,\\n              9.32,\\n              \\\"large\\\",\\n              125.0,\\n              27.0\\n            ],\\n            [\\n              \\\"hound\\\",\\n              16530.0,\\n              9.1,\\n              \\\"large\\\",\\n              77.5,\\n              25.5\\n            ],\\n            [\\n              \\\"hound\\\",\\n              16176.0,\\n              9.08,\\n              \\\"large\\\",\\n              82.5,\\n              28.0\\n            ],\\n            [\\n              \\\"terrier\\\",\\n              18490.0,\\n              10.21,\\n              \\\"medium\\\",\\n              60.0,\\n              21.5\\n            ],\\n            [\\n              \\\"working\\\",\\n              21986.0,\\n              10.67,\\n              \\\"large\\\",\\n              80.0,\\n              24.0\\n            ],\\n            [\\n              \\\"hound\\\",\\n              13824.0,\\n              6.75,\\n              \\\"large\\\",\\n              85.0,\\n              25.0\\n            ],\\n            [\\n              \\\"working\\\",\\n              13936.0,\\n              7.57,\\n              \\\"large\\\",\\n              115.0,\\n              25.5\\n            ],\\n            [\\n              \\\"working\\\",\\n              13581.0,\\n              6.5,\\n              \\\"large\\\",\\n              175.0,\\n              30.0\\n            ],\\n            [\\n              \\\"working\\\",\\n              20022.0,\\n              7.78,\\n              \\\"large\\\",\\n              155.0,\\n              26.5\\n            ]\\n          ]\\n        },\\n        \\\"rhs\\\": {\\n          \\\"type\\\": \\\"Scalar\\\",\\n          \\\"py_type\\\": \\\"<class 'numpy.float64'>\\\",\\n          \\\"data\\\": \\\"11.0\\\"\\n        }\\n      }\\n    }\\n  ]\\n}\", {\"nohover\": true, \"maxDisplayRows\": 7, \"maxDisplayCols\": 8, \"colorPalette\": [\"#e41a1c\", \"#377eb8\", \"#4daf4a\", \"#984ea3\", \"#ff7f00\", \"#a65628\", \"#f781bf\", \"#999999\"]});\n",
       "</script>\n"
      ],
      "text/plain": [
       "<IPython.core.display.HTML object>"
      ]
     },
     "metadata": {},
     "output_type": "display_data"
    }
   ],
   "source": [
    "%%pt\n",
    "dogs.loc['Pug', 'longevity']"
   ]
  },
  {
   "cell_type": "markdown",
   "id": "680f7e18-e49b-4763-a227-35503e029024",
   "metadata": {
    "slideshow": {
     "slide_type": "slide"
    },
    "tags": []
   },
   "source": [
    "### `.loc` is flexible\n",
    "\n",
    "`.loc` will expand dimensions whenever an argument is a sequence:"
   ]
  },
  {
   "cell_type": "code",
   "execution_count": 40,
   "id": "f88a77de-8073-4d46-8f0a-53fe0bdd6774",
   "metadata": {
    "slideshow": {
     "slide_type": ""
    },
    "tags": []
   },
   "outputs": [
    {
     "data": {
      "text/html": [
       "<div>\n",
       "<style scoped>\n",
       "    .dataframe tbody tr th:only-of-type {\n",
       "        vertical-align: middle;\n",
       "    }\n",
       "\n",
       "    .dataframe tbody tr th {\n",
       "        vertical-align: top;\n",
       "    }\n",
       "\n",
       "    .dataframe thead th {\n",
       "        text-align: right;\n",
       "    }\n",
       "</style>\n",
       "<table border=\"1\" class=\"dataframe\">\n",
       "  <thead>\n",
       "    <tr style=\"text-align: right;\">\n",
       "      <th></th>\n",
       "      <th>kind</th>\n",
       "      <th>size</th>\n",
       "    </tr>\n",
       "    <tr>\n",
       "      <th>breed</th>\n",
       "      <th></th>\n",
       "      <th></th>\n",
       "    </tr>\n",
       "  </thead>\n",
       "  <tbody>\n",
       "    <tr>\n",
       "      <th>Pug</th>\n",
       "      <td>toy</td>\n",
       "      <td>medium</td>\n",
       "    </tr>\n",
       "    <tr>\n",
       "      <th>Labrador Retriever</th>\n",
       "      <td>sporting</td>\n",
       "      <td>medium</td>\n",
       "    </tr>\n",
       "  </tbody>\n",
       "</table>\n",
       "</div>"
      ],
      "text/plain": [
       "                        kind    size\n",
       "breed                               \n",
       "Pug                      toy  medium\n",
       "Labrador Retriever  sporting  medium"
      ]
     },
     "execution_count": 40,
     "metadata": {},
     "output_type": "execute_result"
    }
   ],
   "source": [
    "dogs.loc[['Pug', 'Labrador Retriever'], ['kind', 'size']]"
   ]
  },
  {
   "cell_type": "code",
   "execution_count": 41,
   "id": "33b823df-bf41-42e7-b0e8-f9f98a0ff59b",
   "metadata": {
    "slideshow": {
     "slide_type": ""
    },
    "tags": []
   },
   "outputs": [
    {
     "data": {
      "text/html": [
       "<div>\n",
       "<style scoped>\n",
       "    .dataframe tbody tr th:only-of-type {\n",
       "        vertical-align: middle;\n",
       "    }\n",
       "\n",
       "    .dataframe tbody tr th {\n",
       "        vertical-align: top;\n",
       "    }\n",
       "\n",
       "    .dataframe thead th {\n",
       "        text-align: right;\n",
       "    }\n",
       "</style>\n",
       "<table border=\"1\" class=\"dataframe\">\n",
       "  <thead>\n",
       "    <tr style=\"text-align: right;\">\n",
       "      <th></th>\n",
       "      <th>kind</th>\n",
       "      <th>lifetime_cost</th>\n",
       "      <th>longevity</th>\n",
       "      <th>size</th>\n",
       "      <th>weight</th>\n",
       "      <th>height</th>\n",
       "    </tr>\n",
       "    <tr>\n",
       "      <th>breed</th>\n",
       "      <th></th>\n",
       "      <th></th>\n",
       "      <th></th>\n",
       "      <th></th>\n",
       "      <th></th>\n",
       "      <th></th>\n",
       "    </tr>\n",
       "  </thead>\n",
       "  <tbody>\n",
       "    <tr>\n",
       "      <th>Pug</th>\n",
       "      <td>toy</td>\n",
       "      <td>18527.0</td>\n",
       "      <td>11.00</td>\n",
       "      <td>medium</td>\n",
       "      <td>16.0</td>\n",
       "      <td>16.0</td>\n",
       "    </tr>\n",
       "    <tr>\n",
       "      <th>Labrador Retriever</th>\n",
       "      <td>sporting</td>\n",
       "      <td>21299.0</td>\n",
       "      <td>12.04</td>\n",
       "      <td>medium</td>\n",
       "      <td>67.5</td>\n",
       "      <td>23.0</td>\n",
       "    </tr>\n",
       "  </tbody>\n",
       "</table>\n",
       "</div>"
      ],
      "text/plain": [
       "                        kind  lifetime_cost  longevity    size  weight  height\n",
       "breed                                                                         \n",
       "Pug                      toy        18527.0      11.00  medium    16.0    16.0\n",
       "Labrador Retriever  sporting        21299.0      12.04  medium    67.5    23.0"
      ]
     },
     "execution_count": 41,
     "metadata": {},
     "output_type": "execute_result"
    }
   ],
   "source": [
    "dogs.loc[['Pug', 'Labrador Retriever'], :]"
   ]
  },
  {
   "cell_type": "code",
   "execution_count": 42,
   "id": "2a9bb163-6cf1-42a2-994f-71b5dbd8567f",
   "metadata": {
    "slideshow": {
     "slide_type": ""
    },
    "tags": []
   },
   "outputs": [
    {
     "data": {
      "text/html": [
       "<div>\n",
       "<style scoped>\n",
       "    .dataframe tbody tr th:only-of-type {\n",
       "        vertical-align: middle;\n",
       "    }\n",
       "\n",
       "    .dataframe tbody tr th {\n",
       "        vertical-align: top;\n",
       "    }\n",
       "\n",
       "    .dataframe thead th {\n",
       "        text-align: right;\n",
       "    }\n",
       "</style>\n",
       "<table border=\"1\" class=\"dataframe\">\n",
       "  <thead>\n",
       "    <tr style=\"text-align: right;\">\n",
       "      <th></th>\n",
       "      <th>kind</th>\n",
       "      <th>lifetime_cost</th>\n",
       "      <th>longevity</th>\n",
       "      <th>size</th>\n",
       "      <th>weight</th>\n",
       "      <th>height</th>\n",
       "    </tr>\n",
       "    <tr>\n",
       "      <th>breed</th>\n",
       "      <th></th>\n",
       "      <th></th>\n",
       "      <th></th>\n",
       "      <th></th>\n",
       "      <th></th>\n",
       "      <th></th>\n",
       "    </tr>\n",
       "  </thead>\n",
       "  <tbody>\n",
       "    <tr>\n",
       "      <th>Pug</th>\n",
       "      <td>toy</td>\n",
       "      <td>18527.0</td>\n",
       "      <td>11.00</td>\n",
       "      <td>medium</td>\n",
       "      <td>16.0</td>\n",
       "      <td>16.0</td>\n",
       "    </tr>\n",
       "    <tr>\n",
       "      <th>Labrador Retriever</th>\n",
       "      <td>sporting</td>\n",
       "      <td>21299.0</td>\n",
       "      <td>12.04</td>\n",
       "      <td>medium</td>\n",
       "      <td>67.5</td>\n",
       "      <td>23.0</td>\n",
       "    </tr>\n",
       "  </tbody>\n",
       "</table>\n",
       "</div>"
      ],
      "text/plain": [
       "                        kind  lifetime_cost  longevity    size  weight  height\n",
       "breed                                                                         \n",
       "Pug                      toy        18527.0      11.00  medium    16.0    16.0\n",
       "Labrador Retriever  sporting        21299.0      12.04  medium    67.5    23.0"
      ]
     },
     "execution_count": 42,
     "metadata": {},
     "output_type": "execute_result"
    }
   ],
   "source": [
    "# Shortcut for line above\n",
    "dogs.loc[['Pug', 'Labrador Retriever']]"
   ]
  },
  {
   "cell_type": "markdown",
   "id": "e5adb344",
   "metadata": {
    "slideshow": {
     "slide_type": "slide"
    },
    "tags": []
   },
   "source": [
    "### Review: Filtering (aka Querying)\n",
    "\n",
    "- Filtering is the act of selecting rows in a DataFrame that satisfy certain condition(s).\n",
    "- Comparisons with arrays (Series) result in Boolean arrays (Series).\n",
    "- We can use comparisons along with the `loc` operator to **filter** a DataFrame.\n"
   ]
  },
  {
   "cell_type": "code",
   "execution_count": 43,
   "id": "fe2f73f5",
   "metadata": {
    "slideshow": {
     "slide_type": ""
    },
    "tags": []
   },
   "outputs": [
    {
     "data": {
      "text/html": [
       "<div>\n",
       "<style scoped>\n",
       "    .dataframe tbody tr th:only-of-type {\n",
       "        vertical-align: middle;\n",
       "    }\n",
       "\n",
       "    .dataframe tbody tr th {\n",
       "        vertical-align: top;\n",
       "    }\n",
       "\n",
       "    .dataframe thead th {\n",
       "        text-align: right;\n",
       "    }\n",
       "</style>\n",
       "<table border=\"1\" class=\"dataframe\">\n",
       "  <thead>\n",
       "    <tr style=\"text-align: right;\">\n",
       "      <th></th>\n",
       "      <th>kind</th>\n",
       "      <th>lifetime_cost</th>\n",
       "      <th>longevity</th>\n",
       "      <th>size</th>\n",
       "      <th>weight</th>\n",
       "      <th>height</th>\n",
       "    </tr>\n",
       "    <tr>\n",
       "      <th>breed</th>\n",
       "      <th></th>\n",
       "      <th></th>\n",
       "      <th></th>\n",
       "      <th></th>\n",
       "      <th></th>\n",
       "      <th></th>\n",
       "    </tr>\n",
       "  </thead>\n",
       "  <tbody>\n",
       "    <tr>\n",
       "      <th>Brittany</th>\n",
       "      <td>sporting</td>\n",
       "      <td>22589.0</td>\n",
       "      <td>12.92</td>\n",
       "      <td>medium</td>\n",
       "      <td>35.0</td>\n",
       "      <td>19.0</td>\n",
       "    </tr>\n",
       "    <tr>\n",
       "      <th>Cairn Terrier</th>\n",
       "      <td>terrier</td>\n",
       "      <td>21992.0</td>\n",
       "      <td>13.84</td>\n",
       "      <td>small</td>\n",
       "      <td>14.0</td>\n",
       "      <td>10.0</td>\n",
       "    </tr>\n",
       "    <tr>\n",
       "      <th>English Cocker Spaniel</th>\n",
       "      <td>sporting</td>\n",
       "      <td>18993.0</td>\n",
       "      <td>11.66</td>\n",
       "      <td>medium</td>\n",
       "      <td>30.0</td>\n",
       "      <td>16.0</td>\n",
       "    </tr>\n",
       "    <tr>\n",
       "      <th>Cocker Spaniel</th>\n",
       "      <td>sporting</td>\n",
       "      <td>24330.0</td>\n",
       "      <td>12.50</td>\n",
       "      <td>small</td>\n",
       "      <td>25.0</td>\n",
       "      <td>14.5</td>\n",
       "    </tr>\n",
       "    <tr>\n",
       "      <th>...</th>\n",
       "      <td>...</td>\n",
       "      <td>...</td>\n",
       "      <td>...</td>\n",
       "      <td>...</td>\n",
       "      <td>...</td>\n",
       "      <td>...</td>\n",
       "    </tr>\n",
       "    <tr>\n",
       "      <th>Bloodhound</th>\n",
       "      <td>hound</td>\n",
       "      <td>13824.0</td>\n",
       "      <td>6.75</td>\n",
       "      <td>large</td>\n",
       "      <td>85.0</td>\n",
       "      <td>25.0</td>\n",
       "    </tr>\n",
       "    <tr>\n",
       "      <th>Bullmastiff</th>\n",
       "      <td>working</td>\n",
       "      <td>13936.0</td>\n",
       "      <td>7.57</td>\n",
       "      <td>large</td>\n",
       "      <td>115.0</td>\n",
       "      <td>25.5</td>\n",
       "    </tr>\n",
       "    <tr>\n",
       "      <th>Mastiff</th>\n",
       "      <td>working</td>\n",
       "      <td>13581.0</td>\n",
       "      <td>6.50</td>\n",
       "      <td>large</td>\n",
       "      <td>175.0</td>\n",
       "      <td>30.0</td>\n",
       "    </tr>\n",
       "    <tr>\n",
       "      <th>Saint Bernard</th>\n",
       "      <td>working</td>\n",
       "      <td>20022.0</td>\n",
       "      <td>7.78</td>\n",
       "      <td>large</td>\n",
       "      <td>155.0</td>\n",
       "      <td>26.5</td>\n",
       "    </tr>\n",
       "  </tbody>\n",
       "</table>\n",
       "<p>43 rows × 6 columns</p>\n",
       "</div>"
      ],
      "text/plain": [
       "                            kind  lifetime_cost  longevity    size  weight  \\\n",
       "breed                                                                        \n",
       "Brittany                sporting        22589.0      12.92  medium    35.0   \n",
       "Cairn Terrier            terrier        21992.0      13.84   small    14.0   \n",
       "English Cocker Spaniel  sporting        18993.0      11.66  medium    30.0   \n",
       "Cocker Spaniel          sporting        24330.0      12.50   small    25.0   \n",
       "...                          ...            ...        ...     ...     ...   \n",
       "Bloodhound                 hound        13824.0       6.75   large    85.0   \n",
       "Bullmastiff              working        13936.0       7.57   large   115.0   \n",
       "Mastiff                  working        13581.0       6.50   large   175.0   \n",
       "Saint Bernard            working        20022.0       7.78   large   155.0   \n",
       "\n",
       "                        height  \n",
       "breed                           \n",
       "Brittany                  19.0  \n",
       "Cairn Terrier             10.0  \n",
       "English Cocker Spaniel    16.0  \n",
       "Cocker Spaniel            14.5  \n",
       "...                        ...  \n",
       "Bloodhound                25.0  \n",
       "Bullmastiff               25.5  \n",
       "Mastiff                   30.0  \n",
       "Saint Bernard             26.5  \n",
       "\n",
       "[43 rows x 6 columns]"
      ]
     },
     "execution_count": 43,
     "metadata": {},
     "output_type": "execute_result"
    }
   ],
   "source": [
    "dogs"
   ]
  },
  {
   "cell_type": "code",
   "execution_count": 44,
   "id": "7535d099",
   "metadata": {
    "slideshow": {
     "slide_type": ""
    },
    "tags": []
   },
   "outputs": [
    {
     "data": {
      "text/html": [
       "<div>\n",
       "<style scoped>\n",
       "    .dataframe tbody tr th:only-of-type {\n",
       "        vertical-align: middle;\n",
       "    }\n",
       "\n",
       "    .dataframe tbody tr th {\n",
       "        vertical-align: top;\n",
       "    }\n",
       "\n",
       "    .dataframe thead th {\n",
       "        text-align: right;\n",
       "    }\n",
       "</style>\n",
       "<table border=\"1\" class=\"dataframe\">\n",
       "  <thead>\n",
       "    <tr style=\"text-align: right;\">\n",
       "      <th></th>\n",
       "      <th>kind</th>\n",
       "      <th>lifetime_cost</th>\n",
       "      <th>longevity</th>\n",
       "      <th>size</th>\n",
       "      <th>weight</th>\n",
       "      <th>height</th>\n",
       "    </tr>\n",
       "    <tr>\n",
       "      <th>breed</th>\n",
       "      <th></th>\n",
       "      <th></th>\n",
       "      <th></th>\n",
       "      <th></th>\n",
       "      <th></th>\n",
       "      <th></th>\n",
       "    </tr>\n",
       "  </thead>\n",
       "  <tbody>\n",
       "    <tr>\n",
       "      <th>Chihuahua</th>\n",
       "      <td>toy</td>\n",
       "      <td>26250.0</td>\n",
       "      <td>16.50</td>\n",
       "      <td>small</td>\n",
       "      <td>5.5</td>\n",
       "      <td>5.0</td>\n",
       "    </tr>\n",
       "    <tr>\n",
       "      <th>Maltese</th>\n",
       "      <td>toy</td>\n",
       "      <td>19084.0</td>\n",
       "      <td>12.25</td>\n",
       "      <td>small</td>\n",
       "      <td>5.0</td>\n",
       "      <td>9.0</td>\n",
       "    </tr>\n",
       "  </tbody>\n",
       "</table>\n",
       "</div>"
      ],
      "text/plain": [
       "          kind  lifetime_cost  longevity   size  weight  height\n",
       "breed                                                          \n",
       "Chihuahua  toy        26250.0      16.50  small     5.5     5.0\n",
       "Maltese    toy        19084.0      12.25  small     5.0     9.0"
      ]
     },
     "execution_count": 44,
     "metadata": {},
     "output_type": "execute_result"
    }
   ],
   "source": [
    "dogs.loc[dogs['weight'] < 10]"
   ]
  },
  {
   "cell_type": "code",
   "execution_count": 45,
   "id": "40805c1e-7e16-4196-92ac-be89ef31d878",
   "metadata": {
    "slideshow": {
     "slide_type": ""
    },
    "tags": []
   },
   "outputs": [
    {
     "data": {
      "text/html": [
       "<div>\n",
       "<style scoped>\n",
       "    .dataframe tbody tr th:only-of-type {\n",
       "        vertical-align: middle;\n",
       "    }\n",
       "\n",
       "    .dataframe tbody tr th {\n",
       "        vertical-align: top;\n",
       "    }\n",
       "\n",
       "    .dataframe thead th {\n",
       "        text-align: right;\n",
       "    }\n",
       "</style>\n",
       "<table border=\"1\" class=\"dataframe\">\n",
       "  <thead>\n",
       "    <tr style=\"text-align: right;\">\n",
       "      <th></th>\n",
       "      <th>kind</th>\n",
       "      <th>lifetime_cost</th>\n",
       "      <th>longevity</th>\n",
       "      <th>size</th>\n",
       "      <th>weight</th>\n",
       "      <th>height</th>\n",
       "    </tr>\n",
       "    <tr>\n",
       "      <th>breed</th>\n",
       "      <th></th>\n",
       "      <th></th>\n",
       "      <th></th>\n",
       "      <th></th>\n",
       "      <th></th>\n",
       "      <th></th>\n",
       "    </tr>\n",
       "  </thead>\n",
       "  <tbody>\n",
       "    <tr>\n",
       "      <th>English Cocker Spaniel</th>\n",
       "      <td>sporting</td>\n",
       "      <td>18993.0</td>\n",
       "      <td>11.66</td>\n",
       "      <td>medium</td>\n",
       "      <td>30.0</td>\n",
       "      <td>16.0</td>\n",
       "    </tr>\n",
       "    <tr>\n",
       "      <th>Cocker Spaniel</th>\n",
       "      <td>sporting</td>\n",
       "      <td>24330.0</td>\n",
       "      <td>12.50</td>\n",
       "      <td>small</td>\n",
       "      <td>25.0</td>\n",
       "      <td>14.5</td>\n",
       "    </tr>\n",
       "    <tr>\n",
       "      <th>English Springer Spaniel</th>\n",
       "      <td>sporting</td>\n",
       "      <td>21946.0</td>\n",
       "      <td>12.54</td>\n",
       "      <td>medium</td>\n",
       "      <td>45.0</td>\n",
       "      <td>19.5</td>\n",
       "    </tr>\n",
       "    <tr>\n",
       "      <th>Tibetan Spaniel</th>\n",
       "      <td>non-sporting</td>\n",
       "      <td>25549.0</td>\n",
       "      <td>14.42</td>\n",
       "      <td>small</td>\n",
       "      <td>12.0</td>\n",
       "      <td>10.0</td>\n",
       "    </tr>\n",
       "    <tr>\n",
       "      <th>English Toy Spaniel</th>\n",
       "      <td>toy</td>\n",
       "      <td>17521.0</td>\n",
       "      <td>10.10</td>\n",
       "      <td>small</td>\n",
       "      <td>11.0</td>\n",
       "      <td>10.0</td>\n",
       "    </tr>\n",
       "    <tr>\n",
       "      <th>Cavalier King Charles Spaniel</th>\n",
       "      <td>toy</td>\n",
       "      <td>18639.0</td>\n",
       "      <td>11.29</td>\n",
       "      <td>small</td>\n",
       "      <td>15.5</td>\n",
       "      <td>12.5</td>\n",
       "    </tr>\n",
       "    <tr>\n",
       "      <th>Clumber Spaniel</th>\n",
       "      <td>sporting</td>\n",
       "      <td>18084.0</td>\n",
       "      <td>10.00</td>\n",
       "      <td>medium</td>\n",
       "      <td>70.0</td>\n",
       "      <td>18.5</td>\n",
       "    </tr>\n",
       "  </tbody>\n",
       "</table>\n",
       "</div>"
      ],
      "text/plain": [
       "                                       kind  lifetime_cost  longevity    size  \\\n",
       "breed                                                                           \n",
       "English Cocker Spaniel             sporting        18993.0      11.66  medium   \n",
       "Cocker Spaniel                     sporting        24330.0      12.50   small   \n",
       "English Springer Spaniel           sporting        21946.0      12.54  medium   \n",
       "Tibetan Spaniel                non-sporting        25549.0      14.42   small   \n",
       "English Toy Spaniel                     toy        17521.0      10.10   small   \n",
       "Cavalier King Charles Spaniel           toy        18639.0      11.29   small   \n",
       "Clumber Spaniel                    sporting        18084.0      10.00  medium   \n",
       "\n",
       "                               weight  height  \n",
       "breed                                          \n",
       "English Cocker Spaniel           30.0    16.0  \n",
       "Cocker Spaniel                   25.0    14.5  \n",
       "English Springer Spaniel         45.0    19.5  \n",
       "Tibetan Spaniel                  12.0    10.0  \n",
       "English Toy Spaniel              11.0    10.0  \n",
       "Cavalier King Charles Spaniel    15.5    12.5  \n",
       "Clumber Spaniel                  70.0    18.5  "
      ]
     },
     "execution_count": 45,
     "metadata": {},
     "output_type": "execute_result"
    }
   ],
   "source": [
    "dogs.loc[dogs.index.str.contains('Spaniel')]"
   ]
  },
  {
   "cell_type": "code",
   "execution_count": 46,
   "id": "9318edf4",
   "metadata": {
    "slideshow": {
     "slide_type": ""
    },
    "tags": []
   },
   "outputs": [
    {
     "data": {
      "text/html": [
       "<div>\n",
       "<style scoped>\n",
       "    .dataframe tbody tr th:only-of-type {\n",
       "        vertical-align: middle;\n",
       "    }\n",
       "\n",
       "    .dataframe tbody tr th {\n",
       "        vertical-align: top;\n",
       "    }\n",
       "\n",
       "    .dataframe thead th {\n",
       "        text-align: right;\n",
       "    }\n",
       "</style>\n",
       "<table border=\"1\" class=\"dataframe\">\n",
       "  <thead>\n",
       "    <tr style=\"text-align: right;\">\n",
       "      <th></th>\n",
       "      <th>kind</th>\n",
       "      <th>lifetime_cost</th>\n",
       "      <th>longevity</th>\n",
       "      <th>size</th>\n",
       "      <th>weight</th>\n",
       "      <th>height</th>\n",
       "    </tr>\n",
       "    <tr>\n",
       "      <th>breed</th>\n",
       "      <th></th>\n",
       "      <th></th>\n",
       "      <th></th>\n",
       "      <th></th>\n",
       "      <th></th>\n",
       "      <th></th>\n",
       "    </tr>\n",
       "  </thead>\n",
       "  <tbody>\n",
       "    <tr>\n",
       "      <th>English Cocker Spaniel</th>\n",
       "      <td>sporting</td>\n",
       "      <td>18993.0</td>\n",
       "      <td>11.66</td>\n",
       "      <td>medium</td>\n",
       "      <td>30.0</td>\n",
       "      <td>16.0</td>\n",
       "    </tr>\n",
       "    <tr>\n",
       "      <th>Cocker Spaniel</th>\n",
       "      <td>sporting</td>\n",
       "      <td>24330.0</td>\n",
       "      <td>12.50</td>\n",
       "      <td>small</td>\n",
       "      <td>25.0</td>\n",
       "      <td>14.5</td>\n",
       "    </tr>\n",
       "    <tr>\n",
       "      <th>English Springer Spaniel</th>\n",
       "      <td>sporting</td>\n",
       "      <td>21946.0</td>\n",
       "      <td>12.54</td>\n",
       "      <td>medium</td>\n",
       "      <td>45.0</td>\n",
       "      <td>19.5</td>\n",
       "    </tr>\n",
       "    <tr>\n",
       "      <th>Tibetan Spaniel</th>\n",
       "      <td>non-sporting</td>\n",
       "      <td>25549.0</td>\n",
       "      <td>14.42</td>\n",
       "      <td>small</td>\n",
       "      <td>12.0</td>\n",
       "      <td>10.0</td>\n",
       "    </tr>\n",
       "    <tr>\n",
       "      <th>English Toy Spaniel</th>\n",
       "      <td>toy</td>\n",
       "      <td>17521.0</td>\n",
       "      <td>10.10</td>\n",
       "      <td>small</td>\n",
       "      <td>11.0</td>\n",
       "      <td>10.0</td>\n",
       "    </tr>\n",
       "    <tr>\n",
       "      <th>Cavalier King Charles Spaniel</th>\n",
       "      <td>toy</td>\n",
       "      <td>18639.0</td>\n",
       "      <td>11.29</td>\n",
       "      <td>small</td>\n",
       "      <td>15.5</td>\n",
       "      <td>12.5</td>\n",
       "    </tr>\n",
       "    <tr>\n",
       "      <th>Clumber Spaniel</th>\n",
       "      <td>sporting</td>\n",
       "      <td>18084.0</td>\n",
       "      <td>10.00</td>\n",
       "      <td>medium</td>\n",
       "      <td>70.0</td>\n",
       "      <td>18.5</td>\n",
       "    </tr>\n",
       "  </tbody>\n",
       "</table>\n",
       "</div>"
      ],
      "text/plain": [
       "                                       kind  lifetime_cost  longevity    size  \\\n",
       "breed                                                                           \n",
       "English Cocker Spaniel             sporting        18993.0      11.66  medium   \n",
       "Cocker Spaniel                     sporting        24330.0      12.50   small   \n",
       "English Springer Spaniel           sporting        21946.0      12.54  medium   \n",
       "Tibetan Spaniel                non-sporting        25549.0      14.42   small   \n",
       "English Toy Spaniel                     toy        17521.0      10.10   small   \n",
       "Cavalier King Charles Spaniel           toy        18639.0      11.29   small   \n",
       "Clumber Spaniel                    sporting        18084.0      10.00  medium   \n",
       "\n",
       "                               weight  height  \n",
       "breed                                          \n",
       "English Cocker Spaniel           30.0    16.0  \n",
       "Cocker Spaniel                   25.0    14.5  \n",
       "English Springer Spaniel         45.0    19.5  \n",
       "Tibetan Spaniel                  12.0    10.0  \n",
       "English Toy Spaniel              11.0    10.0  \n",
       "Cavalier King Charles Spaniel    15.5    12.5  \n",
       "Clumber Spaniel                  70.0    18.5  "
      ]
     },
     "execution_count": 46,
     "metadata": {},
     "output_type": "execute_result"
    }
   ],
   "source": [
    "# Because filtering is so common, there's a shortcut:\n",
    "dogs[dogs.index.str.contains('Spaniel')]"
   ]
  },
  {
   "cell_type": "markdown",
   "id": "a3161a69",
   "metadata": {
    "slideshow": {
     "slide_type": "slide"
    },
    "tags": []
   },
   "source": [
    "Note that because we set the index to `'breed'` earlier, we can select rows based on dog breeds without having to query."
   ]
  },
  {
   "cell_type": "code",
   "execution_count": 47,
   "id": "6ad44407",
   "metadata": {},
   "outputs": [
    {
     "data": {
      "text/html": [
       "<div>\n",
       "<style scoped>\n",
       "    .dataframe tbody tr th:only-of-type {\n",
       "        vertical-align: middle;\n",
       "    }\n",
       "\n",
       "    .dataframe tbody tr th {\n",
       "        vertical-align: top;\n",
       "    }\n",
       "\n",
       "    .dataframe thead th {\n",
       "        text-align: right;\n",
       "    }\n",
       "</style>\n",
       "<table border=\"1\" class=\"dataframe\">\n",
       "  <thead>\n",
       "    <tr style=\"text-align: right;\">\n",
       "      <th></th>\n",
       "      <th>kind</th>\n",
       "      <th>lifetime_cost</th>\n",
       "      <th>longevity</th>\n",
       "      <th>size</th>\n",
       "      <th>weight</th>\n",
       "      <th>height</th>\n",
       "    </tr>\n",
       "    <tr>\n",
       "      <th>breed</th>\n",
       "      <th></th>\n",
       "      <th></th>\n",
       "      <th></th>\n",
       "      <th></th>\n",
       "      <th></th>\n",
       "      <th></th>\n",
       "    </tr>\n",
       "  </thead>\n",
       "  <tbody>\n",
       "    <tr>\n",
       "      <th>Brittany</th>\n",
       "      <td>sporting</td>\n",
       "      <td>22589.0</td>\n",
       "      <td>12.92</td>\n",
       "      <td>medium</td>\n",
       "      <td>35.0</td>\n",
       "      <td>19.0</td>\n",
       "    </tr>\n",
       "    <tr>\n",
       "      <th>Cairn Terrier</th>\n",
       "      <td>terrier</td>\n",
       "      <td>21992.0</td>\n",
       "      <td>13.84</td>\n",
       "      <td>small</td>\n",
       "      <td>14.0</td>\n",
       "      <td>10.0</td>\n",
       "    </tr>\n",
       "    <tr>\n",
       "      <th>English Cocker Spaniel</th>\n",
       "      <td>sporting</td>\n",
       "      <td>18993.0</td>\n",
       "      <td>11.66</td>\n",
       "      <td>medium</td>\n",
       "      <td>30.0</td>\n",
       "      <td>16.0</td>\n",
       "    </tr>\n",
       "    <tr>\n",
       "      <th>Cocker Spaniel</th>\n",
       "      <td>sporting</td>\n",
       "      <td>24330.0</td>\n",
       "      <td>12.50</td>\n",
       "      <td>small</td>\n",
       "      <td>25.0</td>\n",
       "      <td>14.5</td>\n",
       "    </tr>\n",
       "    <tr>\n",
       "      <th>...</th>\n",
       "      <td>...</td>\n",
       "      <td>...</td>\n",
       "      <td>...</td>\n",
       "      <td>...</td>\n",
       "      <td>...</td>\n",
       "      <td>...</td>\n",
       "    </tr>\n",
       "    <tr>\n",
       "      <th>Bloodhound</th>\n",
       "      <td>hound</td>\n",
       "      <td>13824.0</td>\n",
       "      <td>6.75</td>\n",
       "      <td>large</td>\n",
       "      <td>85.0</td>\n",
       "      <td>25.0</td>\n",
       "    </tr>\n",
       "    <tr>\n",
       "      <th>Bullmastiff</th>\n",
       "      <td>working</td>\n",
       "      <td>13936.0</td>\n",
       "      <td>7.57</td>\n",
       "      <td>large</td>\n",
       "      <td>115.0</td>\n",
       "      <td>25.5</td>\n",
       "    </tr>\n",
       "    <tr>\n",
       "      <th>Mastiff</th>\n",
       "      <td>working</td>\n",
       "      <td>13581.0</td>\n",
       "      <td>6.50</td>\n",
       "      <td>large</td>\n",
       "      <td>175.0</td>\n",
       "      <td>30.0</td>\n",
       "    </tr>\n",
       "    <tr>\n",
       "      <th>Saint Bernard</th>\n",
       "      <td>working</td>\n",
       "      <td>20022.0</td>\n",
       "      <td>7.78</td>\n",
       "      <td>large</td>\n",
       "      <td>155.0</td>\n",
       "      <td>26.5</td>\n",
       "    </tr>\n",
       "  </tbody>\n",
       "</table>\n",
       "<p>43 rows × 6 columns</p>\n",
       "</div>"
      ],
      "text/plain": [
       "                            kind  lifetime_cost  longevity    size  weight  \\\n",
       "breed                                                                        \n",
       "Brittany                sporting        22589.0      12.92  medium    35.0   \n",
       "Cairn Terrier            terrier        21992.0      13.84   small    14.0   \n",
       "English Cocker Spaniel  sporting        18993.0      11.66  medium    30.0   \n",
       "Cocker Spaniel          sporting        24330.0      12.50   small    25.0   \n",
       "...                          ...            ...        ...     ...     ...   \n",
       "Bloodhound                 hound        13824.0       6.75   large    85.0   \n",
       "Bullmastiff              working        13936.0       7.57   large   115.0   \n",
       "Mastiff                  working        13581.0       6.50   large   175.0   \n",
       "Saint Bernard            working        20022.0       7.78   large   155.0   \n",
       "\n",
       "                        height  \n",
       "breed                           \n",
       "Brittany                  19.0  \n",
       "Cairn Terrier             10.0  \n",
       "English Cocker Spaniel    16.0  \n",
       "Cocker Spaniel            14.5  \n",
       "...                        ...  \n",
       "Bloodhound                25.0  \n",
       "Bullmastiff               25.5  \n",
       "Mastiff                   30.0  \n",
       "Saint Bernard             26.5  \n",
       "\n",
       "[43 rows x 6 columns]"
      ]
     },
     "execution_count": 47,
     "metadata": {},
     "output_type": "execute_result"
    }
   ],
   "source": [
    "dogs"
   ]
  },
  {
   "cell_type": "code",
   "execution_count": 48,
   "id": "436fa37d",
   "metadata": {
    "slideshow": {
     "slide_type": ""
    },
    "tags": []
   },
   "outputs": [
    {
     "data": {
      "text/plain": [
       "kind                 toy\n",
       "lifetime_cost    19084.0\n",
       "longevity          12.25\n",
       "size               small\n",
       "weight               5.0\n",
       "height               9.0\n",
       "Name: Maltese, dtype: object"
      ]
     },
     "execution_count": 48,
     "metadata": {},
     "output_type": "execute_result"
    }
   ],
   "source": [
    "# Series!\n",
    "dogs.loc['Maltese']"
   ]
  },
  {
   "cell_type": "markdown",
   "id": "46e8bf7a",
   "metadata": {
    "slideshow": {
     "slide_type": ""
    },
    "tags": []
   },
   "source": [
    "If `'breed'` was instead a column, then we'd need to query to access information about a particular school."
   ]
  },
  {
   "cell_type": "code",
   "execution_count": 49,
   "id": "b461d5f8",
   "metadata": {
    "slideshow": {
     "slide_type": ""
    },
    "tags": []
   },
   "outputs": [
    {
     "data": {
      "text/html": [
       "<div>\n",
       "<style scoped>\n",
       "    .dataframe tbody tr th:only-of-type {\n",
       "        vertical-align: middle;\n",
       "    }\n",
       "\n",
       "    .dataframe tbody tr th {\n",
       "        vertical-align: top;\n",
       "    }\n",
       "\n",
       "    .dataframe thead th {\n",
       "        text-align: right;\n",
       "    }\n",
       "</style>\n",
       "<table border=\"1\" class=\"dataframe\">\n",
       "  <thead>\n",
       "    <tr style=\"text-align: right;\">\n",
       "      <th></th>\n",
       "      <th>breed</th>\n",
       "      <th>kind</th>\n",
       "      <th>lifetime_cost</th>\n",
       "      <th>longevity</th>\n",
       "      <th>size</th>\n",
       "      <th>weight</th>\n",
       "      <th>height</th>\n",
       "    </tr>\n",
       "  </thead>\n",
       "  <tbody>\n",
       "    <tr>\n",
       "      <th>0</th>\n",
       "      <td>Brittany</td>\n",
       "      <td>sporting</td>\n",
       "      <td>22589.0</td>\n",
       "      <td>12.92</td>\n",
       "      <td>medium</td>\n",
       "      <td>35.0</td>\n",
       "      <td>19.0</td>\n",
       "    </tr>\n",
       "    <tr>\n",
       "      <th>1</th>\n",
       "      <td>Cairn Terrier</td>\n",
       "      <td>terrier</td>\n",
       "      <td>21992.0</td>\n",
       "      <td>13.84</td>\n",
       "      <td>small</td>\n",
       "      <td>14.0</td>\n",
       "      <td>10.0</td>\n",
       "    </tr>\n",
       "    <tr>\n",
       "      <th>2</th>\n",
       "      <td>English Cocker Spaniel</td>\n",
       "      <td>sporting</td>\n",
       "      <td>18993.0</td>\n",
       "      <td>11.66</td>\n",
       "      <td>medium</td>\n",
       "      <td>30.0</td>\n",
       "      <td>16.0</td>\n",
       "    </tr>\n",
       "    <tr>\n",
       "      <th>3</th>\n",
       "      <td>Cocker Spaniel</td>\n",
       "      <td>sporting</td>\n",
       "      <td>24330.0</td>\n",
       "      <td>12.50</td>\n",
       "      <td>small</td>\n",
       "      <td>25.0</td>\n",
       "      <td>14.5</td>\n",
       "    </tr>\n",
       "    <tr>\n",
       "      <th>...</th>\n",
       "      <td>...</td>\n",
       "      <td>...</td>\n",
       "      <td>...</td>\n",
       "      <td>...</td>\n",
       "      <td>...</td>\n",
       "      <td>...</td>\n",
       "      <td>...</td>\n",
       "    </tr>\n",
       "    <tr>\n",
       "      <th>39</th>\n",
       "      <td>Bloodhound</td>\n",
       "      <td>hound</td>\n",
       "      <td>13824.0</td>\n",
       "      <td>6.75</td>\n",
       "      <td>large</td>\n",
       "      <td>85.0</td>\n",
       "      <td>25.0</td>\n",
       "    </tr>\n",
       "    <tr>\n",
       "      <th>40</th>\n",
       "      <td>Bullmastiff</td>\n",
       "      <td>working</td>\n",
       "      <td>13936.0</td>\n",
       "      <td>7.57</td>\n",
       "      <td>large</td>\n",
       "      <td>115.0</td>\n",
       "      <td>25.5</td>\n",
       "    </tr>\n",
       "    <tr>\n",
       "      <th>41</th>\n",
       "      <td>Mastiff</td>\n",
       "      <td>working</td>\n",
       "      <td>13581.0</td>\n",
       "      <td>6.50</td>\n",
       "      <td>large</td>\n",
       "      <td>175.0</td>\n",
       "      <td>30.0</td>\n",
       "    </tr>\n",
       "    <tr>\n",
       "      <th>42</th>\n",
       "      <td>Saint Bernard</td>\n",
       "      <td>working</td>\n",
       "      <td>20022.0</td>\n",
       "      <td>7.78</td>\n",
       "      <td>large</td>\n",
       "      <td>155.0</td>\n",
       "      <td>26.5</td>\n",
       "    </tr>\n",
       "  </tbody>\n",
       "</table>\n",
       "<p>43 rows × 7 columns</p>\n",
       "</div>"
      ],
      "text/plain": [
       "                     breed      kind  lifetime_cost  longevity    size  \\\n",
       "0                 Brittany  sporting        22589.0      12.92  medium   \n",
       "1            Cairn Terrier   terrier        21992.0      13.84   small   \n",
       "2   English Cocker Spaniel  sporting        18993.0      11.66  medium   \n",
       "3           Cocker Spaniel  sporting        24330.0      12.50   small   \n",
       "..                     ...       ...            ...        ...     ...   \n",
       "39              Bloodhound     hound        13824.0       6.75   large   \n",
       "40             Bullmastiff   working        13936.0       7.57   large   \n",
       "41                 Mastiff   working        13581.0       6.50   large   \n",
       "42           Saint Bernard   working        20022.0       7.78   large   \n",
       "\n",
       "    weight  height  \n",
       "0     35.0    19.0  \n",
       "1     14.0    10.0  \n",
       "2     30.0    16.0  \n",
       "3     25.0    14.5  \n",
       "..     ...     ...  \n",
       "39    85.0    25.0  \n",
       "40   115.0    25.5  \n",
       "41   175.0    30.0  \n",
       "42   155.0    26.5  \n",
       "\n",
       "[43 rows x 7 columns]"
      ]
     },
     "execution_count": 49,
     "metadata": {},
     "output_type": "execute_result"
    }
   ],
   "source": [
    "dogs_reset = dogs.reset_index()\n",
    "dogs_reset"
   ]
  },
  {
   "cell_type": "code",
   "execution_count": 50,
   "id": "2d0518f1",
   "metadata": {
    "slideshow": {
     "slide_type": ""
    },
    "tags": []
   },
   "outputs": [
    {
     "data": {
      "text/html": [
       "<div>\n",
       "<style scoped>\n",
       "    .dataframe tbody tr th:only-of-type {\n",
       "        vertical-align: middle;\n",
       "    }\n",
       "\n",
       "    .dataframe tbody tr th {\n",
       "        vertical-align: top;\n",
       "    }\n",
       "\n",
       "    .dataframe thead th {\n",
       "        text-align: right;\n",
       "    }\n",
       "</style>\n",
       "<table border=\"1\" class=\"dataframe\">\n",
       "  <thead>\n",
       "    <tr style=\"text-align: right;\">\n",
       "      <th></th>\n",
       "      <th>breed</th>\n",
       "      <th>kind</th>\n",
       "      <th>lifetime_cost</th>\n",
       "      <th>longevity</th>\n",
       "      <th>size</th>\n",
       "      <th>weight</th>\n",
       "      <th>height</th>\n",
       "    </tr>\n",
       "  </thead>\n",
       "  <tbody>\n",
       "    <tr>\n",
       "      <th>14</th>\n",
       "      <td>Maltese</td>\n",
       "      <td>toy</td>\n",
       "      <td>19084.0</td>\n",
       "      <td>12.25</td>\n",
       "      <td>small</td>\n",
       "      <td>5.0</td>\n",
       "      <td>9.0</td>\n",
       "    </tr>\n",
       "  </tbody>\n",
       "</table>\n",
       "</div>"
      ],
      "text/plain": [
       "      breed kind  lifetime_cost  longevity   size  weight  height\n",
       "14  Maltese  toy        19084.0      12.25  small     5.0     9.0"
      ]
     },
     "execution_count": 50,
     "metadata": {},
     "output_type": "execute_result"
    }
   ],
   "source": [
    "# DataFrame!\n",
    "dogs_reset[dogs_reset['breed'] == 'Maltese']"
   ]
  },
  {
   "cell_type": "markdown",
   "id": "632b8d8f-c1a8-4b0a-b9f0-2404fc1ca7a4",
   "metadata": {
    "slideshow": {
     "slide_type": ""
    },
    "tags": []
   },
   "source": [
    "### Filtering with Multiple Conditions\n",
    "\n",
    "Remember, you need parentheses around each condition. Also, you must use `&` and `|` instead of the `and` and `or` keywords. `pandas` makes weird decisions sometimes!"
   ]
  },
  {
   "cell_type": "code",
   "execution_count": 51,
   "id": "32c7311f-5c9e-45a0-9600-619e944ca9fb",
   "metadata": {
    "slideshow": {
     "slide_type": ""
    },
    "tags": []
   },
   "outputs": [
    {
     "data": {
      "text/html": [
       "<div>\n",
       "<style scoped>\n",
       "    .dataframe tbody tr th:only-of-type {\n",
       "        vertical-align: middle;\n",
       "    }\n",
       "\n",
       "    .dataframe tbody tr th {\n",
       "        vertical-align: top;\n",
       "    }\n",
       "\n",
       "    .dataframe thead th {\n",
       "        text-align: right;\n",
       "    }\n",
       "</style>\n",
       "<table border=\"1\" class=\"dataframe\">\n",
       "  <thead>\n",
       "    <tr style=\"text-align: right;\">\n",
       "      <th></th>\n",
       "      <th>kind</th>\n",
       "      <th>lifetime_cost</th>\n",
       "      <th>longevity</th>\n",
       "      <th>size</th>\n",
       "      <th>weight</th>\n",
       "      <th>height</th>\n",
       "    </tr>\n",
       "    <tr>\n",
       "      <th>breed</th>\n",
       "      <th></th>\n",
       "      <th></th>\n",
       "      <th></th>\n",
       "      <th></th>\n",
       "      <th></th>\n",
       "      <th></th>\n",
       "    </tr>\n",
       "  </thead>\n",
       "  <tbody>\n",
       "    <tr>\n",
       "      <th>Cairn Terrier</th>\n",
       "      <td>terrier</td>\n",
       "      <td>21992.0</td>\n",
       "      <td>13.84</td>\n",
       "      <td>small</td>\n",
       "      <td>14.0</td>\n",
       "      <td>10.0</td>\n",
       "    </tr>\n",
       "    <tr>\n",
       "      <th>Miniature Schnauzer</th>\n",
       "      <td>terrier</td>\n",
       "      <td>20087.0</td>\n",
       "      <td>11.81</td>\n",
       "      <td>small</td>\n",
       "      <td>15.5</td>\n",
       "      <td>13.0</td>\n",
       "    </tr>\n",
       "    <tr>\n",
       "      <th>Norfolk Terrier</th>\n",
       "      <td>terrier</td>\n",
       "      <td>24308.0</td>\n",
       "      <td>13.07</td>\n",
       "      <td>small</td>\n",
       "      <td>12.0</td>\n",
       "      <td>9.5</td>\n",
       "    </tr>\n",
       "  </tbody>\n",
       "</table>\n",
       "</div>"
      ],
      "text/plain": [
       "                        kind  lifetime_cost  longevity   size  weight  height\n",
       "breed                                                                        \n",
       "Cairn Terrier        terrier        21992.0      13.84  small    14.0    10.0\n",
       "Miniature Schnauzer  terrier        20087.0      11.81  small    15.5    13.0\n",
       "Norfolk Terrier      terrier        24308.0      13.07  small    12.0     9.5"
      ]
     },
     "execution_count": 51,
     "metadata": {},
     "output_type": "execute_result"
    }
   ],
   "source": [
    "dogs[(dogs['weight'] < 20) & (dogs['kind'] == 'terrier')]"
   ]
  },
  {
   "cell_type": "markdown",
   "id": "4c6feca9-68f0-41c6-8648-bedfe04599ca",
   "metadata": {
    "slideshow": {
     "slide_type": ""
    },
    "tags": []
   },
   "source": [
    "### 💡 Pro-Tip: Using `.query` (optional)\n",
    "\n",
    "`.query` is a convenient way to filter, since you don't need parentheses and you can use the `and` and `or` keywords. We'll use it during lecture, but you won't need to use it yourself unless you'd like to. (It won't be used in our exams.)"
   ]
  },
  {
   "cell_type": "code",
   "execution_count": 52,
   "id": "56f7e9f3-f16f-41e4-9360-e69e48eaeb53",
   "metadata": {
    "slideshow": {
     "slide_type": ""
    },
    "tags": []
   },
   "outputs": [
    {
     "data": {
      "text/html": [
       "<div>\n",
       "<style scoped>\n",
       "    .dataframe tbody tr th:only-of-type {\n",
       "        vertical-align: middle;\n",
       "    }\n",
       "\n",
       "    .dataframe tbody tr th {\n",
       "        vertical-align: top;\n",
       "    }\n",
       "\n",
       "    .dataframe thead th {\n",
       "        text-align: right;\n",
       "    }\n",
       "</style>\n",
       "<table border=\"1\" class=\"dataframe\">\n",
       "  <thead>\n",
       "    <tr style=\"text-align: right;\">\n",
       "      <th></th>\n",
       "      <th>kind</th>\n",
       "      <th>lifetime_cost</th>\n",
       "      <th>longevity</th>\n",
       "      <th>size</th>\n",
       "      <th>weight</th>\n",
       "      <th>height</th>\n",
       "    </tr>\n",
       "    <tr>\n",
       "      <th>breed</th>\n",
       "      <th></th>\n",
       "      <th></th>\n",
       "      <th></th>\n",
       "      <th></th>\n",
       "      <th></th>\n",
       "      <th></th>\n",
       "    </tr>\n",
       "  </thead>\n",
       "  <tbody>\n",
       "    <tr>\n",
       "      <th>Cairn Terrier</th>\n",
       "      <td>terrier</td>\n",
       "      <td>21992.0</td>\n",
       "      <td>13.84</td>\n",
       "      <td>small</td>\n",
       "      <td>14.0</td>\n",
       "      <td>10.0</td>\n",
       "    </tr>\n",
       "    <tr>\n",
       "      <th>Miniature Schnauzer</th>\n",
       "      <td>terrier</td>\n",
       "      <td>20087.0</td>\n",
       "      <td>11.81</td>\n",
       "      <td>small</td>\n",
       "      <td>15.5</td>\n",
       "      <td>13.0</td>\n",
       "    </tr>\n",
       "    <tr>\n",
       "      <th>Norfolk Terrier</th>\n",
       "      <td>terrier</td>\n",
       "      <td>24308.0</td>\n",
       "      <td>13.07</td>\n",
       "      <td>small</td>\n",
       "      <td>12.0</td>\n",
       "      <td>9.5</td>\n",
       "    </tr>\n",
       "  </tbody>\n",
       "</table>\n",
       "</div>"
      ],
      "text/plain": [
       "                        kind  lifetime_cost  longevity   size  weight  height\n",
       "breed                                                                        \n",
       "Cairn Terrier        terrier        21992.0      13.84  small    14.0    10.0\n",
       "Miniature Schnauzer  terrier        20087.0      11.81  small    15.5    13.0\n",
       "Norfolk Terrier      terrier        24308.0      13.07  small    12.0     9.5"
      ]
     },
     "execution_count": 52,
     "metadata": {},
     "output_type": "execute_result"
    }
   ],
   "source": [
    "dogs.query('weight < 20 and kind == \"terrier\"')"
   ]
  },
  {
   "cell_type": "code",
   "execution_count": 53,
   "id": "72d9521a-a71c-4b54-900c-50169fb447de",
   "metadata": {
    "slideshow": {
     "slide_type": ""
    },
    "tags": []
   },
   "outputs": [
    {
     "data": {
      "text/html": [
       "<div>\n",
       "<style scoped>\n",
       "    .dataframe tbody tr th:only-of-type {\n",
       "        vertical-align: middle;\n",
       "    }\n",
       "\n",
       "    .dataframe tbody tr th {\n",
       "        vertical-align: top;\n",
       "    }\n",
       "\n",
       "    .dataframe thead th {\n",
       "        text-align: right;\n",
       "    }\n",
       "</style>\n",
       "<table border=\"1\" class=\"dataframe\">\n",
       "  <thead>\n",
       "    <tr style=\"text-align: right;\">\n",
       "      <th></th>\n",
       "      <th>kind</th>\n",
       "      <th>lifetime_cost</th>\n",
       "      <th>longevity</th>\n",
       "      <th>size</th>\n",
       "      <th>weight</th>\n",
       "      <th>height</th>\n",
       "    </tr>\n",
       "    <tr>\n",
       "      <th>breed</th>\n",
       "      <th></th>\n",
       "      <th></th>\n",
       "      <th></th>\n",
       "      <th></th>\n",
       "      <th></th>\n",
       "      <th></th>\n",
       "    </tr>\n",
       "  </thead>\n",
       "  <tbody>\n",
       "    <tr>\n",
       "      <th>English Cocker Spaniel</th>\n",
       "      <td>sporting</td>\n",
       "      <td>18993.0</td>\n",
       "      <td>11.66</td>\n",
       "      <td>medium</td>\n",
       "      <td>30.0</td>\n",
       "      <td>16.0</td>\n",
       "    </tr>\n",
       "    <tr>\n",
       "      <th>Chesapeake Bay Retriever</th>\n",
       "      <td>sporting</td>\n",
       "      <td>16697.0</td>\n",
       "      <td>9.48</td>\n",
       "      <td>large</td>\n",
       "      <td>67.5</td>\n",
       "      <td>23.5</td>\n",
       "    </tr>\n",
       "    <tr>\n",
       "      <th>Gordon Setter</th>\n",
       "      <td>sporting</td>\n",
       "      <td>19605.0</td>\n",
       "      <td>11.10</td>\n",
       "      <td>large</td>\n",
       "      <td>62.5</td>\n",
       "      <td>25.0</td>\n",
       "    </tr>\n",
       "    <tr>\n",
       "      <th>Clumber Spaniel</th>\n",
       "      <td>sporting</td>\n",
       "      <td>18084.0</td>\n",
       "      <td>10.00</td>\n",
       "      <td>medium</td>\n",
       "      <td>70.0</td>\n",
       "      <td>18.5</td>\n",
       "    </tr>\n",
       "    <tr>\n",
       "      <th>Scottish Terrier</th>\n",
       "      <td>terrier</td>\n",
       "      <td>17525.0</td>\n",
       "      <td>10.69</td>\n",
       "      <td>small</td>\n",
       "      <td>20.0</td>\n",
       "      <td>10.0</td>\n",
       "    </tr>\n",
       "    <tr>\n",
       "      <th>Kerry Blue Terrier</th>\n",
       "      <td>terrier</td>\n",
       "      <td>17240.0</td>\n",
       "      <td>9.40</td>\n",
       "      <td>medium</td>\n",
       "      <td>36.5</td>\n",
       "      <td>18.5</td>\n",
       "    </tr>\n",
       "    <tr>\n",
       "      <th>Bull Terrier</th>\n",
       "      <td>terrier</td>\n",
       "      <td>18490.0</td>\n",
       "      <td>10.21</td>\n",
       "      <td>medium</td>\n",
       "      <td>60.0</td>\n",
       "      <td>21.5</td>\n",
       "    </tr>\n",
       "  </tbody>\n",
       "</table>\n",
       "</div>"
      ],
      "text/plain": [
       "                              kind  lifetime_cost  longevity    size  weight  \\\n",
       "breed                                                                          \n",
       "English Cocker Spaniel    sporting        18993.0      11.66  medium    30.0   \n",
       "Chesapeake Bay Retriever  sporting        16697.0       9.48   large    67.5   \n",
       "Gordon Setter             sporting        19605.0      11.10   large    62.5   \n",
       "Clumber Spaniel           sporting        18084.0      10.00  medium    70.0   \n",
       "Scottish Terrier           terrier        17525.0      10.69   small    20.0   \n",
       "Kerry Blue Terrier         terrier        17240.0       9.40  medium    36.5   \n",
       "Bull Terrier               terrier        18490.0      10.21  medium    60.0   \n",
       "\n",
       "                          height  \n",
       "breed                             \n",
       "English Cocker Spaniel      16.0  \n",
       "Chesapeake Bay Retriever    23.5  \n",
       "Gordon Setter               25.0  \n",
       "Clumber Spaniel             18.5  \n",
       "Scottish Terrier            10.0  \n",
       "Kerry Blue Terrier          18.5  \n",
       "Bull Terrier                21.5  "
      ]
     },
     "execution_count": 53,
     "metadata": {},
     "output_type": "execute_result"
    }
   ],
   "source": [
    "dogs.query('kind in [\"sporting\", \"terrier\"] and lifetime_cost < 20000')"
   ]
  },
  {
   "cell_type": "markdown",
   "id": "4e1a3a89",
   "metadata": {
    "slideshow": {
     "slide_type": "slide"
    },
    "tags": []
   },
   "source": [
    "### Don't forget `iloc`!\n",
    "\n",
    "- `iloc` stands for \"integer location\".\n",
    "- `iloc` is like `loc`, but it selects rows and columns based off of integer positions only."
   ]
  },
  {
   "cell_type": "code",
   "execution_count": 54,
   "id": "2e3b6051",
   "metadata": {
    "slideshow": {
     "slide_type": ""
    },
    "tags": []
   },
   "outputs": [
    {
     "data": {
      "text/html": [
       "<div>\n",
       "<style scoped>\n",
       "    .dataframe tbody tr th:only-of-type {\n",
       "        vertical-align: middle;\n",
       "    }\n",
       "\n",
       "    .dataframe tbody tr th {\n",
       "        vertical-align: top;\n",
       "    }\n",
       "\n",
       "    .dataframe thead th {\n",
       "        text-align: right;\n",
       "    }\n",
       "</style>\n",
       "<table border=\"1\" class=\"dataframe\">\n",
       "  <thead>\n",
       "    <tr style=\"text-align: right;\">\n",
       "      <th></th>\n",
       "      <th>kind</th>\n",
       "      <th>lifetime_cost</th>\n",
       "      <th>longevity</th>\n",
       "      <th>size</th>\n",
       "      <th>weight</th>\n",
       "      <th>height</th>\n",
       "    </tr>\n",
       "    <tr>\n",
       "      <th>breed</th>\n",
       "      <th></th>\n",
       "      <th></th>\n",
       "      <th></th>\n",
       "      <th></th>\n",
       "      <th></th>\n",
       "      <th></th>\n",
       "    </tr>\n",
       "  </thead>\n",
       "  <tbody>\n",
       "    <tr>\n",
       "      <th>Brittany</th>\n",
       "      <td>sporting</td>\n",
       "      <td>22589.0</td>\n",
       "      <td>12.92</td>\n",
       "      <td>medium</td>\n",
       "      <td>35.0</td>\n",
       "      <td>19.0</td>\n",
       "    </tr>\n",
       "    <tr>\n",
       "      <th>Cairn Terrier</th>\n",
       "      <td>terrier</td>\n",
       "      <td>21992.0</td>\n",
       "      <td>13.84</td>\n",
       "      <td>small</td>\n",
       "      <td>14.0</td>\n",
       "      <td>10.0</td>\n",
       "    </tr>\n",
       "    <tr>\n",
       "      <th>English Cocker Spaniel</th>\n",
       "      <td>sporting</td>\n",
       "      <td>18993.0</td>\n",
       "      <td>11.66</td>\n",
       "      <td>medium</td>\n",
       "      <td>30.0</td>\n",
       "      <td>16.0</td>\n",
       "    </tr>\n",
       "    <tr>\n",
       "      <th>Cocker Spaniel</th>\n",
       "      <td>sporting</td>\n",
       "      <td>24330.0</td>\n",
       "      <td>12.50</td>\n",
       "      <td>small</td>\n",
       "      <td>25.0</td>\n",
       "      <td>14.5</td>\n",
       "    </tr>\n",
       "    <tr>\n",
       "      <th>...</th>\n",
       "      <td>...</td>\n",
       "      <td>...</td>\n",
       "      <td>...</td>\n",
       "      <td>...</td>\n",
       "      <td>...</td>\n",
       "      <td>...</td>\n",
       "    </tr>\n",
       "    <tr>\n",
       "      <th>Bloodhound</th>\n",
       "      <td>hound</td>\n",
       "      <td>13824.0</td>\n",
       "      <td>6.75</td>\n",
       "      <td>large</td>\n",
       "      <td>85.0</td>\n",
       "      <td>25.0</td>\n",
       "    </tr>\n",
       "    <tr>\n",
       "      <th>Bullmastiff</th>\n",
       "      <td>working</td>\n",
       "      <td>13936.0</td>\n",
       "      <td>7.57</td>\n",
       "      <td>large</td>\n",
       "      <td>115.0</td>\n",
       "      <td>25.5</td>\n",
       "    </tr>\n",
       "    <tr>\n",
       "      <th>Mastiff</th>\n",
       "      <td>working</td>\n",
       "      <td>13581.0</td>\n",
       "      <td>6.50</td>\n",
       "      <td>large</td>\n",
       "      <td>175.0</td>\n",
       "      <td>30.0</td>\n",
       "    </tr>\n",
       "    <tr>\n",
       "      <th>Saint Bernard</th>\n",
       "      <td>working</td>\n",
       "      <td>20022.0</td>\n",
       "      <td>7.78</td>\n",
       "      <td>large</td>\n",
       "      <td>155.0</td>\n",
       "      <td>26.5</td>\n",
       "    </tr>\n",
       "  </tbody>\n",
       "</table>\n",
       "<p>43 rows × 6 columns</p>\n",
       "</div>"
      ],
      "text/plain": [
       "                            kind  lifetime_cost  longevity    size  weight  \\\n",
       "breed                                                                        \n",
       "Brittany                sporting        22589.0      12.92  medium    35.0   \n",
       "Cairn Terrier            terrier        21992.0      13.84   small    14.0   \n",
       "English Cocker Spaniel  sporting        18993.0      11.66  medium    30.0   \n",
       "Cocker Spaniel          sporting        24330.0      12.50   small    25.0   \n",
       "...                          ...            ...        ...     ...     ...   \n",
       "Bloodhound                 hound        13824.0       6.75   large    85.0   \n",
       "Bullmastiff              working        13936.0       7.57   large   115.0   \n",
       "Mastiff                  working        13581.0       6.50   large   175.0   \n",
       "Saint Bernard            working        20022.0       7.78   large   155.0   \n",
       "\n",
       "                        height  \n",
       "breed                           \n",
       "Brittany                  19.0  \n",
       "Cairn Terrier             10.0  \n",
       "English Cocker Spaniel    16.0  \n",
       "Cocker Spaniel            14.5  \n",
       "...                        ...  \n",
       "Bloodhound                25.0  \n",
       "Bullmastiff               25.5  \n",
       "Mastiff                   30.0  \n",
       "Saint Bernard             26.5  \n",
       "\n",
       "[43 rows x 6 columns]"
      ]
     },
     "execution_count": 54,
     "metadata": {},
     "output_type": "execute_result"
    }
   ],
   "source": [
    "dogs"
   ]
  },
  {
   "cell_type": "code",
   "execution_count": 55,
   "id": "dd494f9f",
   "metadata": {
    "slideshow": {
     "slide_type": ""
    },
    "tags": []
   },
   "outputs": [
    {
     "data": {
      "text/html": [
       "<div>\n",
       "<style scoped>\n",
       "    .dataframe tbody tr th:only-of-type {\n",
       "        vertical-align: middle;\n",
       "    }\n",
       "\n",
       "    .dataframe tbody tr th {\n",
       "        vertical-align: top;\n",
       "    }\n",
       "\n",
       "    .dataframe thead th {\n",
       "        text-align: right;\n",
       "    }\n",
       "</style>\n",
       "<table border=\"1\" class=\"dataframe\">\n",
       "  <thead>\n",
       "    <tr style=\"text-align: right;\">\n",
       "      <th></th>\n",
       "      <th>kind</th>\n",
       "      <th>lifetime_cost</th>\n",
       "      <th>longevity</th>\n",
       "      <th>size</th>\n",
       "      <th>weight</th>\n",
       "    </tr>\n",
       "    <tr>\n",
       "      <th>breed</th>\n",
       "      <th></th>\n",
       "      <th></th>\n",
       "      <th></th>\n",
       "      <th></th>\n",
       "      <th></th>\n",
       "    </tr>\n",
       "  </thead>\n",
       "  <tbody>\n",
       "    <tr>\n",
       "      <th>Cocker Spaniel</th>\n",
       "      <td>sporting</td>\n",
       "      <td>24330.0</td>\n",
       "      <td>12.50</td>\n",
       "      <td>small</td>\n",
       "      <td>25.0</td>\n",
       "    </tr>\n",
       "    <tr>\n",
       "      <th>Shetland Sheepdog</th>\n",
       "      <td>herding</td>\n",
       "      <td>21006.0</td>\n",
       "      <td>12.53</td>\n",
       "      <td>small</td>\n",
       "      <td>22.0</td>\n",
       "    </tr>\n",
       "    <tr>\n",
       "      <th>Siberian Husky</th>\n",
       "      <td>working</td>\n",
       "      <td>22049.0</td>\n",
       "      <td>12.58</td>\n",
       "      <td>medium</td>\n",
       "      <td>47.5</td>\n",
       "    </tr>\n",
       "    <tr>\n",
       "      <th>Lhasa Apso</th>\n",
       "      <td>non-sporting</td>\n",
       "      <td>22031.0</td>\n",
       "      <td>13.92</td>\n",
       "      <td>small</td>\n",
       "      <td>15.0</td>\n",
       "    </tr>\n",
       "  </tbody>\n",
       "</table>\n",
       "</div>"
      ],
      "text/plain": [
       "                           kind  lifetime_cost  longevity    size  weight\n",
       "breed                                                                    \n",
       "Cocker Spaniel         sporting        24330.0      12.50   small    25.0\n",
       "Shetland Sheepdog       herding        21006.0      12.53   small    22.0\n",
       "Siberian Husky          working        22049.0      12.58  medium    47.5\n",
       "Lhasa Apso         non-sporting        22031.0      13.92   small    15.0"
      ]
     },
     "execution_count": 55,
     "metadata": {},
     "output_type": "execute_result"
    }
   ],
   "source": [
    "dogs.iloc[3:7, :-1]"
   ]
  },
  {
   "cell_type": "markdown",
   "id": "53425cfc",
   "metadata": {
    "slideshow": {
     "slide_type": ""
    },
    "tags": []
   },
   "source": [
    "`iloc` is often most useful when we sort first. For instance, to find the weight of the longest-living dog breed in the dataset:"
   ]
  },
  {
   "cell_type": "code",
   "execution_count": 56,
   "id": "d5c69f04-1e70-4f0c-a355-a4642019efe0",
   "metadata": {
    "slideshow": {
     "slide_type": ""
    },
    "tags": []
   },
   "outputs": [
    {
     "data": {
      "text/plain": [
       "5.5"
      ]
     },
     "execution_count": 56,
     "metadata": {},
     "output_type": "execute_result"
    }
   ],
   "source": [
    "dogs.sort_values('longevity', ascending=False)['weight'].iloc[0]"
   ]
  },
  {
   "cell_type": "code",
   "execution_count": 57,
   "id": "1878d0e5",
   "metadata": {
    "slideshow": {
     "slide_type": ""
    },
    "tags": []
   },
   "outputs": [
    {
     "data": {
      "text/plain": [
       "'Chihuahua'"
      ]
     },
     "execution_count": 57,
     "metadata": {},
     "output_type": "execute_result"
    }
   ],
   "source": [
    "# Finding the breed involves sorting, but not iloc.\n",
    "dogs.sort_values('longevity', ascending=False).index[0]"
   ]
  },
  {
   "cell_type": "markdown",
   "id": "0e0f6afd",
   "metadata": {
    "slideshow": {
     "slide_type": "slide"
    },
    "tags": []
   },
   "source": [
    "### More Practice\n",
    "\n",
    "Consider the DataFrame below."
   ]
  },
  {
   "cell_type": "code",
   "execution_count": 58,
   "id": "84d1dd06",
   "metadata": {
    "slideshow": {
     "slide_type": ""
    },
    "tags": []
   },
   "outputs": [
    {
     "data": {
      "text/html": [
       "<div>\n",
       "<style scoped>\n",
       "    .dataframe tbody tr th:only-of-type {\n",
       "        vertical-align: middle;\n",
       "    }\n",
       "\n",
       "    .dataframe tbody tr th {\n",
       "        vertical-align: top;\n",
       "    }\n",
       "\n",
       "    .dataframe thead th {\n",
       "        text-align: right;\n",
       "    }\n",
       "</style>\n",
       "<table border=\"1\" class=\"dataframe\">\n",
       "  <thead>\n",
       "    <tr style=\"text-align: right;\">\n",
       "      <th></th>\n",
       "      <th>1</th>\n",
       "      <th>1</th>\n",
       "    </tr>\n",
       "  </thead>\n",
       "  <tbody>\n",
       "    <tr>\n",
       "      <th>0</th>\n",
       "      <td>fee</td>\n",
       "      <td>fo</td>\n",
       "    </tr>\n",
       "    <tr>\n",
       "      <th>1</th>\n",
       "      <td>fi</td>\n",
       "      <td>fum</td>\n",
       "    </tr>\n",
       "  </tbody>\n",
       "</table>\n",
       "</div>"
      ],
      "text/plain": [
       "     1    1\n",
       "0  fee   fo\n",
       "1   fi  fum"
      ]
     },
     "execution_count": 58,
     "metadata": {},
     "output_type": "execute_result"
    }
   ],
   "source": [
    "jack = pd.DataFrame({1: ['fee', 'fi'], \n",
    "                     '1': ['fo', 'fum']})\n",
    "jack"
   ]
  },
  {
   "cell_type": "markdown",
   "id": "420f47d8",
   "metadata": {
    "slideshow": {
     "slide_type": ""
    },
    "tags": []
   },
   "source": [
    "For each of the following pieces of code, predict what the output will be. Then, uncomment the line of code and see for yourself. We may not be able to cover these all in class; if so, make sure to try them on your own. [Here's a Pandas Tutor link](https://pandastutor.com/vis.html#code=import%20pandas%20as%20pd%0A%0Ajack%20%3D%20pd.DataFrame%28%7B1%3A%20%5B'fee',%20'fi'%5D,%20%0A%20%20%20%20%20%20%20%20%20%20%20%20%20%20%20%20%20%20%20%20%20'1'%3A%20%5B'fo',%20'fum'%5D%7D%29%0Ajack%5B1%5D&d=2023-10-05&lang=py&v=v1) to visualize these!"
   ]
  },
  {
   "cell_type": "code",
   "execution_count": 59,
   "id": "660fa42d",
   "metadata": {
    "slideshow": {
     "slide_type": ""
    },
    "tags": []
   },
   "outputs": [],
   "source": [
    "# jack[1]"
   ]
  },
  {
   "cell_type": "code",
   "execution_count": 60,
   "id": "ac5ad541",
   "metadata": {
    "slideshow": {
     "slide_type": ""
    },
    "tags": []
   },
   "outputs": [],
   "source": [
    "# jack[[1]]"
   ]
  },
  {
   "cell_type": "code",
   "execution_count": 61,
   "id": "0c1f7c00",
   "metadata": {
    "slideshow": {
     "slide_type": ""
    },
    "tags": []
   },
   "outputs": [],
   "source": [
    "# jack['1']"
   ]
  },
  {
   "cell_type": "code",
   "execution_count": 62,
   "id": "24a90b6b",
   "metadata": {
    "slideshow": {
     "slide_type": ""
    },
    "tags": []
   },
   "outputs": [],
   "source": [
    "# jack[[1, 1]]"
   ]
  },
  {
   "cell_type": "code",
   "execution_count": 63,
   "id": "bda6e0f9",
   "metadata": {
    "slideshow": {
     "slide_type": ""
    },
    "tags": []
   },
   "outputs": [],
   "source": [
    "# jack.loc[1]"
   ]
  },
  {
   "cell_type": "code",
   "execution_count": 64,
   "id": "bb96863b",
   "metadata": {
    "slideshow": {
     "slide_type": ""
    },
    "tags": []
   },
   "outputs": [],
   "source": [
    "# jack.loc[jack[1] == 'fo']"
   ]
  },
  {
   "cell_type": "code",
   "execution_count": 65,
   "id": "b83cc118",
   "metadata": {
    "slideshow": {
     "slide_type": ""
    },
    "tags": []
   },
   "outputs": [],
   "source": [
    "# jack[1, ['1', 1]]"
   ]
  },
  {
   "cell_type": "code",
   "execution_count": 66,
   "id": "4a157e2f",
   "metadata": {
    "slideshow": {
     "slide_type": ""
    },
    "tags": []
   },
   "outputs": [],
   "source": [
    "# jack.loc[1,1]"
   ]
  },
  {
   "cell_type": "markdown",
   "id": "2eaeba51-a0c3-4ed7-b762-2d1bcae3162a",
   "metadata": {
    "slideshow": {
     "slide_type": "slide"
    },
    "tags": []
   },
   "source": [
    "## Adding and modifying columns"
   ]
  },
  {
   "cell_type": "markdown",
   "id": "48b0b604-3923-4d8d-a2ee-72c756f61fda",
   "metadata": {
    "slideshow": {
     "slide_type": "slide"
    },
    "tags": []
   },
   "source": [
    "### Adding and modifying columns, using a copy\n",
    "\n",
    "- To add a new column to a DataFrame, use the `assign` method.\n",
    "    - To change the values in a column, add a new column with the same name as the existing column.\n",
    "- Like most `pandas` methods, `assign` returns a new DataFrame.\n",
    "    - **Pro** ✅: This doesn't inadvertently change any existing variables.\n",
    "    - **Con** ❌: It is not very space efficient, as it creates a new copy each time it is called."
   ]
  },
  {
   "cell_type": "code",
   "execution_count": 67,
   "id": "c965145f-ae2a-4e19-a1c5-ca828c479883",
   "metadata": {
    "slideshow": {
     "slide_type": ""
    },
    "tags": []
   },
   "outputs": [
    {
     "data": {
      "text/html": [
       "<div>\n",
       "<style scoped>\n",
       "    .dataframe tbody tr th:only-of-type {\n",
       "        vertical-align: middle;\n",
       "    }\n",
       "\n",
       "    .dataframe tbody tr th {\n",
       "        vertical-align: top;\n",
       "    }\n",
       "\n",
       "    .dataframe thead th {\n",
       "        text-align: right;\n",
       "    }\n",
       "</style>\n",
       "<table border=\"1\" class=\"dataframe\">\n",
       "  <thead>\n",
       "    <tr style=\"text-align: right;\">\n",
       "      <th></th>\n",
       "      <th>kind</th>\n",
       "      <th>lifetime_cost</th>\n",
       "      <th>longevity</th>\n",
       "      <th>size</th>\n",
       "      <th>weight</th>\n",
       "      <th>height</th>\n",
       "      <th>cost_per_year</th>\n",
       "    </tr>\n",
       "    <tr>\n",
       "      <th>breed</th>\n",
       "      <th></th>\n",
       "      <th></th>\n",
       "      <th></th>\n",
       "      <th></th>\n",
       "      <th></th>\n",
       "      <th></th>\n",
       "      <th></th>\n",
       "    </tr>\n",
       "  </thead>\n",
       "  <tbody>\n",
       "    <tr>\n",
       "      <th>Brittany</th>\n",
       "      <td>sporting</td>\n",
       "      <td>22589.0</td>\n",
       "      <td>12.92</td>\n",
       "      <td>medium</td>\n",
       "      <td>35.0</td>\n",
       "      <td>19.0</td>\n",
       "      <td>1748.37</td>\n",
       "    </tr>\n",
       "    <tr>\n",
       "      <th>Cairn Terrier</th>\n",
       "      <td>terrier</td>\n",
       "      <td>21992.0</td>\n",
       "      <td>13.84</td>\n",
       "      <td>small</td>\n",
       "      <td>14.0</td>\n",
       "      <td>10.0</td>\n",
       "      <td>1589.02</td>\n",
       "    </tr>\n",
       "    <tr>\n",
       "      <th>English Cocker Spaniel</th>\n",
       "      <td>sporting</td>\n",
       "      <td>18993.0</td>\n",
       "      <td>11.66</td>\n",
       "      <td>medium</td>\n",
       "      <td>30.0</td>\n",
       "      <td>16.0</td>\n",
       "      <td>1628.90</td>\n",
       "    </tr>\n",
       "    <tr>\n",
       "      <th>Cocker Spaniel</th>\n",
       "      <td>sporting</td>\n",
       "      <td>24330.0</td>\n",
       "      <td>12.50</td>\n",
       "      <td>small</td>\n",
       "      <td>25.0</td>\n",
       "      <td>14.5</td>\n",
       "      <td>1946.40</td>\n",
       "    </tr>\n",
       "    <tr>\n",
       "      <th>...</th>\n",
       "      <td>...</td>\n",
       "      <td>...</td>\n",
       "      <td>...</td>\n",
       "      <td>...</td>\n",
       "      <td>...</td>\n",
       "      <td>...</td>\n",
       "      <td>...</td>\n",
       "    </tr>\n",
       "    <tr>\n",
       "      <th>Bloodhound</th>\n",
       "      <td>hound</td>\n",
       "      <td>13824.0</td>\n",
       "      <td>6.75</td>\n",
       "      <td>large</td>\n",
       "      <td>85.0</td>\n",
       "      <td>25.0</td>\n",
       "      <td>2048.00</td>\n",
       "    </tr>\n",
       "    <tr>\n",
       "      <th>Bullmastiff</th>\n",
       "      <td>working</td>\n",
       "      <td>13936.0</td>\n",
       "      <td>7.57</td>\n",
       "      <td>large</td>\n",
       "      <td>115.0</td>\n",
       "      <td>25.5</td>\n",
       "      <td>1840.95</td>\n",
       "    </tr>\n",
       "    <tr>\n",
       "      <th>Mastiff</th>\n",
       "      <td>working</td>\n",
       "      <td>13581.0</td>\n",
       "      <td>6.50</td>\n",
       "      <td>large</td>\n",
       "      <td>175.0</td>\n",
       "      <td>30.0</td>\n",
       "      <td>2089.38</td>\n",
       "    </tr>\n",
       "    <tr>\n",
       "      <th>Saint Bernard</th>\n",
       "      <td>working</td>\n",
       "      <td>20022.0</td>\n",
       "      <td>7.78</td>\n",
       "      <td>large</td>\n",
       "      <td>155.0</td>\n",
       "      <td>26.5</td>\n",
       "      <td>2573.52</td>\n",
       "    </tr>\n",
       "  </tbody>\n",
       "</table>\n",
       "<p>43 rows × 7 columns</p>\n",
       "</div>"
      ],
      "text/plain": [
       "                            kind  lifetime_cost  longevity    size  weight  \\\n",
       "breed                                                                        \n",
       "Brittany                sporting        22589.0      12.92  medium    35.0   \n",
       "Cairn Terrier            terrier        21992.0      13.84   small    14.0   \n",
       "English Cocker Spaniel  sporting        18993.0      11.66  medium    30.0   \n",
       "Cocker Spaniel          sporting        24330.0      12.50   small    25.0   \n",
       "...                          ...            ...        ...     ...     ...   \n",
       "Bloodhound                 hound        13824.0       6.75   large    85.0   \n",
       "Bullmastiff              working        13936.0       7.57   large   115.0   \n",
       "Mastiff                  working        13581.0       6.50   large   175.0   \n",
       "Saint Bernard            working        20022.0       7.78   large   155.0   \n",
       "\n",
       "                        height  cost_per_year  \n",
       "breed                                          \n",
       "Brittany                  19.0        1748.37  \n",
       "Cairn Terrier             10.0        1589.02  \n",
       "English Cocker Spaniel    16.0        1628.90  \n",
       "Cocker Spaniel            14.5        1946.40  \n",
       "...                        ...            ...  \n",
       "Bloodhound                25.0        2048.00  \n",
       "Bullmastiff               25.5        1840.95  \n",
       "Mastiff                   30.0        2089.38  \n",
       "Saint Bernard             26.5        2573.52  \n",
       "\n",
       "[43 rows x 7 columns]"
      ]
     },
     "execution_count": 67,
     "metadata": {},
     "output_type": "execute_result"
    }
   ],
   "source": [
    "dogs.assign(cost_per_year=dogs['lifetime_cost'] / dogs['longevity'])"
   ]
  },
  {
   "cell_type": "code",
   "execution_count": 68,
   "id": "b6967445",
   "metadata": {},
   "outputs": [
    {
     "data": {
      "text/html": [
       "<div>\n",
       "<style scoped>\n",
       "    .dataframe tbody tr th:only-of-type {\n",
       "        vertical-align: middle;\n",
       "    }\n",
       "\n",
       "    .dataframe tbody tr th {\n",
       "        vertical-align: top;\n",
       "    }\n",
       "\n",
       "    .dataframe thead th {\n",
       "        text-align: right;\n",
       "    }\n",
       "</style>\n",
       "<table border=\"1\" class=\"dataframe\">\n",
       "  <thead>\n",
       "    <tr style=\"text-align: right;\">\n",
       "      <th></th>\n",
       "      <th>kind</th>\n",
       "      <th>lifetime_cost</th>\n",
       "      <th>longevity</th>\n",
       "      <th>size</th>\n",
       "      <th>weight</th>\n",
       "      <th>height</th>\n",
       "    </tr>\n",
       "    <tr>\n",
       "      <th>breed</th>\n",
       "      <th></th>\n",
       "      <th></th>\n",
       "      <th></th>\n",
       "      <th></th>\n",
       "      <th></th>\n",
       "      <th></th>\n",
       "    </tr>\n",
       "  </thead>\n",
       "  <tbody>\n",
       "    <tr>\n",
       "      <th>Brittany</th>\n",
       "      <td>sporting</td>\n",
       "      <td>22589.0</td>\n",
       "      <td>12.92</td>\n",
       "      <td>medium</td>\n",
       "      <td>35.0</td>\n",
       "      <td>19.0</td>\n",
       "    </tr>\n",
       "    <tr>\n",
       "      <th>Cairn Terrier</th>\n",
       "      <td>terrier</td>\n",
       "      <td>21992.0</td>\n",
       "      <td>13.84</td>\n",
       "      <td>small</td>\n",
       "      <td>14.0</td>\n",
       "      <td>10.0</td>\n",
       "    </tr>\n",
       "    <tr>\n",
       "      <th>English Cocker Spaniel</th>\n",
       "      <td>sporting</td>\n",
       "      <td>18993.0</td>\n",
       "      <td>11.66</td>\n",
       "      <td>medium</td>\n",
       "      <td>30.0</td>\n",
       "      <td>16.0</td>\n",
       "    </tr>\n",
       "    <tr>\n",
       "      <th>Cocker Spaniel</th>\n",
       "      <td>sporting</td>\n",
       "      <td>24330.0</td>\n",
       "      <td>12.50</td>\n",
       "      <td>small</td>\n",
       "      <td>25.0</td>\n",
       "      <td>14.5</td>\n",
       "    </tr>\n",
       "    <tr>\n",
       "      <th>...</th>\n",
       "      <td>...</td>\n",
       "      <td>...</td>\n",
       "      <td>...</td>\n",
       "      <td>...</td>\n",
       "      <td>...</td>\n",
       "      <td>...</td>\n",
       "    </tr>\n",
       "    <tr>\n",
       "      <th>Bloodhound</th>\n",
       "      <td>hound</td>\n",
       "      <td>13824.0</td>\n",
       "      <td>6.75</td>\n",
       "      <td>large</td>\n",
       "      <td>85.0</td>\n",
       "      <td>25.0</td>\n",
       "    </tr>\n",
       "    <tr>\n",
       "      <th>Bullmastiff</th>\n",
       "      <td>working</td>\n",
       "      <td>13936.0</td>\n",
       "      <td>7.57</td>\n",
       "      <td>large</td>\n",
       "      <td>115.0</td>\n",
       "      <td>25.5</td>\n",
       "    </tr>\n",
       "    <tr>\n",
       "      <th>Mastiff</th>\n",
       "      <td>working</td>\n",
       "      <td>13581.0</td>\n",
       "      <td>6.50</td>\n",
       "      <td>large</td>\n",
       "      <td>175.0</td>\n",
       "      <td>30.0</td>\n",
       "    </tr>\n",
       "    <tr>\n",
       "      <th>Saint Bernard</th>\n",
       "      <td>working</td>\n",
       "      <td>20022.0</td>\n",
       "      <td>7.78</td>\n",
       "      <td>large</td>\n",
       "      <td>155.0</td>\n",
       "      <td>26.5</td>\n",
       "    </tr>\n",
       "  </tbody>\n",
       "</table>\n",
       "<p>43 rows × 6 columns</p>\n",
       "</div>"
      ],
      "text/plain": [
       "                            kind  lifetime_cost  longevity    size  weight  \\\n",
       "breed                                                                        \n",
       "Brittany                sporting        22589.0      12.92  medium    35.0   \n",
       "Cairn Terrier            terrier        21992.0      13.84   small    14.0   \n",
       "English Cocker Spaniel  sporting        18993.0      11.66  medium    30.0   \n",
       "Cocker Spaniel          sporting        24330.0      12.50   small    25.0   \n",
       "...                          ...            ...        ...     ...     ...   \n",
       "Bloodhound                 hound        13824.0       6.75   large    85.0   \n",
       "Bullmastiff              working        13936.0       7.57   large   115.0   \n",
       "Mastiff                  working        13581.0       6.50   large   175.0   \n",
       "Saint Bernard            working        20022.0       7.78   large   155.0   \n",
       "\n",
       "                        height  \n",
       "breed                           \n",
       "Brittany                  19.0  \n",
       "Cairn Terrier             10.0  \n",
       "English Cocker Spaniel    16.0  \n",
       "Cocker Spaniel            14.5  \n",
       "...                        ...  \n",
       "Bloodhound                25.0  \n",
       "Bullmastiff               25.5  \n",
       "Mastiff                   30.0  \n",
       "Saint Bernard             26.5  \n",
       "\n",
       "[43 rows x 6 columns]"
      ]
     },
     "execution_count": 68,
     "metadata": {},
     "output_type": "execute_result"
    }
   ],
   "source": [
    "dogs"
   ]
  },
  {
   "cell_type": "markdown",
   "id": "5e4fc26b",
   "metadata": {
    "slideshow": {
     "slide_type": "slide"
    }
   },
   "source": [
    "### 💡 Pro-Tip: Method chaining\n",
    "\n",
    "I recommend chaining methods together instead of writing one long line:"
   ]
  },
  {
   "cell_type": "code",
   "execution_count": 69,
   "id": "9e83ee9b",
   "metadata": {},
   "outputs": [
    {
     "data": {
      "text/html": [
       "<div>\n",
       "<style scoped>\n",
       "    .dataframe tbody tr th:only-of-type {\n",
       "        vertical-align: middle;\n",
       "    }\n",
       "\n",
       "    .dataframe tbody tr th {\n",
       "        vertical-align: top;\n",
       "    }\n",
       "\n",
       "    .dataframe thead th {\n",
       "        text-align: right;\n",
       "    }\n",
       "</style>\n",
       "<table border=\"1\" class=\"dataframe\">\n",
       "  <thead>\n",
       "    <tr style=\"text-align: right;\">\n",
       "      <th></th>\n",
       "      <th>kind</th>\n",
       "      <th>lifetime_cost</th>\n",
       "      <th>longevity</th>\n",
       "      <th>size</th>\n",
       "      <th>weight</th>\n",
       "      <th>height</th>\n",
       "      <th>cost_per_year</th>\n",
       "    </tr>\n",
       "    <tr>\n",
       "      <th>breed</th>\n",
       "      <th></th>\n",
       "      <th></th>\n",
       "      <th></th>\n",
       "      <th></th>\n",
       "      <th></th>\n",
       "      <th></th>\n",
       "      <th></th>\n",
       "    </tr>\n",
       "  </thead>\n",
       "  <tbody>\n",
       "    <tr>\n",
       "      <th>Maltese</th>\n",
       "      <td>toy</td>\n",
       "      <td>19084.0</td>\n",
       "      <td>12.25</td>\n",
       "      <td>small</td>\n",
       "      <td>5.0</td>\n",
       "      <td>9.00</td>\n",
       "      <td>1557.88</td>\n",
       "    </tr>\n",
       "    <tr>\n",
       "      <th>Lhasa Apso</th>\n",
       "      <td>non-sporting</td>\n",
       "      <td>22031.0</td>\n",
       "      <td>13.92</td>\n",
       "      <td>small</td>\n",
       "      <td>15.0</td>\n",
       "      <td>10.50</td>\n",
       "      <td>1582.69</td>\n",
       "    </tr>\n",
       "    <tr>\n",
       "      <th>Cairn Terrier</th>\n",
       "      <td>terrier</td>\n",
       "      <td>21992.0</td>\n",
       "      <td>13.84</td>\n",
       "      <td>small</td>\n",
       "      <td>14.0</td>\n",
       "      <td>10.00</td>\n",
       "      <td>1589.02</td>\n",
       "    </tr>\n",
       "    <tr>\n",
       "      <th>Chihuahua</th>\n",
       "      <td>toy</td>\n",
       "      <td>26250.0</td>\n",
       "      <td>16.50</td>\n",
       "      <td>small</td>\n",
       "      <td>5.5</td>\n",
       "      <td>5.00</td>\n",
       "      <td>1590.91</td>\n",
       "    </tr>\n",
       "    <tr>\n",
       "      <th>Shih Tzu</th>\n",
       "      <td>toy</td>\n",
       "      <td>21152.0</td>\n",
       "      <td>13.20</td>\n",
       "      <td>small</td>\n",
       "      <td>12.5</td>\n",
       "      <td>9.75</td>\n",
       "      <td>1602.42</td>\n",
       "    </tr>\n",
       "  </tbody>\n",
       "</table>\n",
       "</div>"
      ],
      "text/plain": [
       "                       kind  lifetime_cost  longevity   size  weight  height  \\\n",
       "breed                                                                          \n",
       "Maltese                 toy        19084.0      12.25  small     5.0    9.00   \n",
       "Lhasa Apso     non-sporting        22031.0      13.92  small    15.0   10.50   \n",
       "Cairn Terrier       terrier        21992.0      13.84  small    14.0   10.00   \n",
       "Chihuahua               toy        26250.0      16.50  small     5.5    5.00   \n",
       "Shih Tzu                toy        21152.0      13.20  small    12.5    9.75   \n",
       "\n",
       "               cost_per_year  \n",
       "breed                         \n",
       "Maltese              1557.88  \n",
       "Lhasa Apso           1582.69  \n",
       "Cairn Terrier        1589.02  \n",
       "Chihuahua            1590.91  \n",
       "Shih Tzu             1602.42  "
      ]
     },
     "execution_count": 69,
     "metadata": {},
     "output_type": "execute_result"
    }
   ],
   "source": [
    "(dogs\n",
    " .assign(cost_per_year=dogs['lifetime_cost'] / dogs['longevity'])\n",
    " .sort_values('cost_per_year')\n",
    " .iloc[:5]\n",
    ")"
   ]
  },
  {
   "cell_type": "markdown",
   "id": "4d26fe50",
   "metadata": {
    "slideshow": {
     "slide_type": "slide"
    }
   },
   "source": [
    "### 💡 Pro-Tip: `assign` for column names with special characters\n",
    "\n",
    "You can also use `assign` when the desired column name has spaces (and other special characters) by unpacking a dict:"
   ]
  },
  {
   "cell_type": "code",
   "execution_count": 70,
   "id": "b992959a",
   "metadata": {},
   "outputs": [
    {
     "data": {
      "text/html": [
       "<div>\n",
       "<style scoped>\n",
       "    .dataframe tbody tr th:only-of-type {\n",
       "        vertical-align: middle;\n",
       "    }\n",
       "\n",
       "    .dataframe tbody tr th {\n",
       "        vertical-align: top;\n",
       "    }\n",
       "\n",
       "    .dataframe thead th {\n",
       "        text-align: right;\n",
       "    }\n",
       "</style>\n",
       "<table border=\"1\" class=\"dataframe\">\n",
       "  <thead>\n",
       "    <tr style=\"text-align: right;\">\n",
       "      <th></th>\n",
       "      <th>kind</th>\n",
       "      <th>lifetime_cost</th>\n",
       "      <th>longevity</th>\n",
       "      <th>size</th>\n",
       "      <th>weight</th>\n",
       "      <th>height</th>\n",
       "      <th>Cost per year 💵</th>\n",
       "    </tr>\n",
       "    <tr>\n",
       "      <th>breed</th>\n",
       "      <th></th>\n",
       "      <th></th>\n",
       "      <th></th>\n",
       "      <th></th>\n",
       "      <th></th>\n",
       "      <th></th>\n",
       "      <th></th>\n",
       "    </tr>\n",
       "  </thead>\n",
       "  <tbody>\n",
       "    <tr>\n",
       "      <th>Brittany</th>\n",
       "      <td>sporting</td>\n",
       "      <td>22589.0</td>\n",
       "      <td>12.92</td>\n",
       "      <td>medium</td>\n",
       "      <td>35.0</td>\n",
       "      <td>19.0</td>\n",
       "      <td>1748.37</td>\n",
       "    </tr>\n",
       "    <tr>\n",
       "      <th>Cairn Terrier</th>\n",
       "      <td>terrier</td>\n",
       "      <td>21992.0</td>\n",
       "      <td>13.84</td>\n",
       "      <td>small</td>\n",
       "      <td>14.0</td>\n",
       "      <td>10.0</td>\n",
       "      <td>1589.02</td>\n",
       "    </tr>\n",
       "    <tr>\n",
       "      <th>English Cocker Spaniel</th>\n",
       "      <td>sporting</td>\n",
       "      <td>18993.0</td>\n",
       "      <td>11.66</td>\n",
       "      <td>medium</td>\n",
       "      <td>30.0</td>\n",
       "      <td>16.0</td>\n",
       "      <td>1628.90</td>\n",
       "    </tr>\n",
       "    <tr>\n",
       "      <th>Cocker Spaniel</th>\n",
       "      <td>sporting</td>\n",
       "      <td>24330.0</td>\n",
       "      <td>12.50</td>\n",
       "      <td>small</td>\n",
       "      <td>25.0</td>\n",
       "      <td>14.5</td>\n",
       "      <td>1946.40</td>\n",
       "    </tr>\n",
       "    <tr>\n",
       "      <th>...</th>\n",
       "      <td>...</td>\n",
       "      <td>...</td>\n",
       "      <td>...</td>\n",
       "      <td>...</td>\n",
       "      <td>...</td>\n",
       "      <td>...</td>\n",
       "      <td>...</td>\n",
       "    </tr>\n",
       "    <tr>\n",
       "      <th>Bloodhound</th>\n",
       "      <td>hound</td>\n",
       "      <td>13824.0</td>\n",
       "      <td>6.75</td>\n",
       "      <td>large</td>\n",
       "      <td>85.0</td>\n",
       "      <td>25.0</td>\n",
       "      <td>2048.00</td>\n",
       "    </tr>\n",
       "    <tr>\n",
       "      <th>Bullmastiff</th>\n",
       "      <td>working</td>\n",
       "      <td>13936.0</td>\n",
       "      <td>7.57</td>\n",
       "      <td>large</td>\n",
       "      <td>115.0</td>\n",
       "      <td>25.5</td>\n",
       "      <td>1840.95</td>\n",
       "    </tr>\n",
       "    <tr>\n",
       "      <th>Mastiff</th>\n",
       "      <td>working</td>\n",
       "      <td>13581.0</td>\n",
       "      <td>6.50</td>\n",
       "      <td>large</td>\n",
       "      <td>175.0</td>\n",
       "      <td>30.0</td>\n",
       "      <td>2089.38</td>\n",
       "    </tr>\n",
       "    <tr>\n",
       "      <th>Saint Bernard</th>\n",
       "      <td>working</td>\n",
       "      <td>20022.0</td>\n",
       "      <td>7.78</td>\n",
       "      <td>large</td>\n",
       "      <td>155.0</td>\n",
       "      <td>26.5</td>\n",
       "      <td>2573.52</td>\n",
       "    </tr>\n",
       "  </tbody>\n",
       "</table>\n",
       "<p>43 rows × 7 columns</p>\n",
       "</div>"
      ],
      "text/plain": [
       "                            kind  lifetime_cost  longevity    size  weight  \\\n",
       "breed                                                                        \n",
       "Brittany                sporting        22589.0      12.92  medium    35.0   \n",
       "Cairn Terrier            terrier        21992.0      13.84   small    14.0   \n",
       "English Cocker Spaniel  sporting        18993.0      11.66  medium    30.0   \n",
       "Cocker Spaniel          sporting        24330.0      12.50   small    25.0   \n",
       "...                          ...            ...        ...     ...     ...   \n",
       "Bloodhound                 hound        13824.0       6.75   large    85.0   \n",
       "Bullmastiff              working        13936.0       7.57   large   115.0   \n",
       "Mastiff                  working        13581.0       6.50   large   175.0   \n",
       "Saint Bernard            working        20022.0       7.78   large   155.0   \n",
       "\n",
       "                        height  Cost per year 💵  \n",
       "breed                                            \n",
       "Brittany                  19.0          1748.37  \n",
       "Cairn Terrier             10.0          1589.02  \n",
       "English Cocker Spaniel    16.0          1628.90  \n",
       "Cocker Spaniel            14.5          1946.40  \n",
       "...                        ...              ...  \n",
       "Bloodhound                25.0          2048.00  \n",
       "Bullmastiff               25.5          1840.95  \n",
       "Mastiff                   30.0          2089.38  \n",
       "Saint Bernard             26.5          2573.52  \n",
       "\n",
       "[43 rows x 7 columns]"
      ]
     },
     "execution_count": 70,
     "metadata": {},
     "output_type": "execute_result"
    }
   ],
   "source": [
    "(dogs\n",
    " .assign(**{'Cost per year 💵': dogs['lifetime_cost'] / dogs['longevity']})\n",
    ")"
   ]
  },
  {
   "cell_type": "markdown",
   "id": "cb6fa478",
   "metadata": {
    "slideshow": {
     "slide_type": "slide"
    }
   },
   "source": [
    "### Adding and modifying columns, in-place\n",
    "\n",
    "* You can assign a new column to a DataFrame **in-place** using `[]`.\n",
    "    - This works like dictionary assignment.\n",
    "    - This **modifies** the underlying DataFrame, unlike `assign`, which returns a new DataFrame.\n",
    "* This is the more \"common\" way of adding/modifying columns. \n",
    "    - ⚠️ Warning: Exercise caution when using this approach, since this approach changes the values of existing variables."
   ]
  },
  {
   "cell_type": "code",
   "execution_count": 71,
   "id": "f598df4c",
   "metadata": {},
   "outputs": [
    {
     "data": {
      "text/html": [
       "<div>\n",
       "<style scoped>\n",
       "    .dataframe tbody tr th:only-of-type {\n",
       "        vertical-align: middle;\n",
       "    }\n",
       "\n",
       "    .dataframe tbody tr th {\n",
       "        vertical-align: top;\n",
       "    }\n",
       "\n",
       "    .dataframe thead th {\n",
       "        text-align: right;\n",
       "    }\n",
       "</style>\n",
       "<table border=\"1\" class=\"dataframe\">\n",
       "  <thead>\n",
       "    <tr style=\"text-align: right;\">\n",
       "      <th></th>\n",
       "      <th>kind</th>\n",
       "      <th>lifetime_cost</th>\n",
       "      <th>longevity</th>\n",
       "      <th>size</th>\n",
       "      <th>weight</th>\n",
       "      <th>height</th>\n",
       "    </tr>\n",
       "    <tr>\n",
       "      <th>breed</th>\n",
       "      <th></th>\n",
       "      <th></th>\n",
       "      <th></th>\n",
       "      <th></th>\n",
       "      <th></th>\n",
       "      <th></th>\n",
       "    </tr>\n",
       "  </thead>\n",
       "  <tbody>\n",
       "    <tr>\n",
       "      <th>Brittany</th>\n",
       "      <td>sporting</td>\n",
       "      <td>22589.0</td>\n",
       "      <td>12.92</td>\n",
       "      <td>medium</td>\n",
       "      <td>35.0</td>\n",
       "      <td>19.0</td>\n",
       "    </tr>\n",
       "    <tr>\n",
       "      <th>Cairn Terrier</th>\n",
       "      <td>terrier</td>\n",
       "      <td>21992.0</td>\n",
       "      <td>13.84</td>\n",
       "      <td>small</td>\n",
       "      <td>14.0</td>\n",
       "      <td>10.0</td>\n",
       "    </tr>\n",
       "  </tbody>\n",
       "</table>\n",
       "</div>"
      ],
      "text/plain": [
       "                   kind  lifetime_cost  longevity    size  weight  height\n",
       "breed                                                                    \n",
       "Brittany       sporting        22589.0      12.92  medium    35.0    19.0\n",
       "Cairn Terrier   terrier        21992.0      13.84   small    14.0    10.0"
      ]
     },
     "execution_count": 71,
     "metadata": {},
     "output_type": "execute_result"
    }
   ],
   "source": [
    "# By default, .copy() returns a deep copy of the object it is called on,\n",
    "# meaning that if you change the copy the original remains unmodified.\n",
    "dogs_copy = dogs.copy()\n",
    "dogs_copy.head(2)"
   ]
  },
  {
   "cell_type": "code",
   "execution_count": 72,
   "id": "ba1f0726",
   "metadata": {},
   "outputs": [
    {
     "data": {
      "text/html": [
       "<div>\n",
       "<style scoped>\n",
       "    .dataframe tbody tr th:only-of-type {\n",
       "        vertical-align: middle;\n",
       "    }\n",
       "\n",
       "    .dataframe tbody tr th {\n",
       "        vertical-align: top;\n",
       "    }\n",
       "\n",
       "    .dataframe thead th {\n",
       "        text-align: right;\n",
       "    }\n",
       "</style>\n",
       "<table border=\"1\" class=\"dataframe\">\n",
       "  <thead>\n",
       "    <tr style=\"text-align: right;\">\n",
       "      <th></th>\n",
       "      <th>kind</th>\n",
       "      <th>lifetime_cost</th>\n",
       "      <th>longevity</th>\n",
       "      <th>size</th>\n",
       "      <th>weight</th>\n",
       "      <th>height</th>\n",
       "      <th>cost_per_year</th>\n",
       "    </tr>\n",
       "    <tr>\n",
       "      <th>breed</th>\n",
       "      <th></th>\n",
       "      <th></th>\n",
       "      <th></th>\n",
       "      <th></th>\n",
       "      <th></th>\n",
       "      <th></th>\n",
       "      <th></th>\n",
       "    </tr>\n",
       "  </thead>\n",
       "  <tbody>\n",
       "    <tr>\n",
       "      <th>Brittany</th>\n",
       "      <td>sporting</td>\n",
       "      <td>22589.0</td>\n",
       "      <td>12.92</td>\n",
       "      <td>medium</td>\n",
       "      <td>35.0</td>\n",
       "      <td>19.0</td>\n",
       "      <td>1748.37</td>\n",
       "    </tr>\n",
       "    <tr>\n",
       "      <th>Cairn Terrier</th>\n",
       "      <td>terrier</td>\n",
       "      <td>21992.0</td>\n",
       "      <td>13.84</td>\n",
       "      <td>small</td>\n",
       "      <td>14.0</td>\n",
       "      <td>10.0</td>\n",
       "      <td>1589.02</td>\n",
       "    </tr>\n",
       "    <tr>\n",
       "      <th>English Cocker Spaniel</th>\n",
       "      <td>sporting</td>\n",
       "      <td>18993.0</td>\n",
       "      <td>11.66</td>\n",
       "      <td>medium</td>\n",
       "      <td>30.0</td>\n",
       "      <td>16.0</td>\n",
       "      <td>1628.90</td>\n",
       "    </tr>\n",
       "    <tr>\n",
       "      <th>Cocker Spaniel</th>\n",
       "      <td>sporting</td>\n",
       "      <td>24330.0</td>\n",
       "      <td>12.50</td>\n",
       "      <td>small</td>\n",
       "      <td>25.0</td>\n",
       "      <td>14.5</td>\n",
       "      <td>1946.40</td>\n",
       "    </tr>\n",
       "    <tr>\n",
       "      <th>...</th>\n",
       "      <td>...</td>\n",
       "      <td>...</td>\n",
       "      <td>...</td>\n",
       "      <td>...</td>\n",
       "      <td>...</td>\n",
       "      <td>...</td>\n",
       "      <td>...</td>\n",
       "    </tr>\n",
       "    <tr>\n",
       "      <th>Bloodhound</th>\n",
       "      <td>hound</td>\n",
       "      <td>13824.0</td>\n",
       "      <td>6.75</td>\n",
       "      <td>large</td>\n",
       "      <td>85.0</td>\n",
       "      <td>25.0</td>\n",
       "      <td>2048.00</td>\n",
       "    </tr>\n",
       "    <tr>\n",
       "      <th>Bullmastiff</th>\n",
       "      <td>working</td>\n",
       "      <td>13936.0</td>\n",
       "      <td>7.57</td>\n",
       "      <td>large</td>\n",
       "      <td>115.0</td>\n",
       "      <td>25.5</td>\n",
       "      <td>1840.95</td>\n",
       "    </tr>\n",
       "    <tr>\n",
       "      <th>Mastiff</th>\n",
       "      <td>working</td>\n",
       "      <td>13581.0</td>\n",
       "      <td>6.50</td>\n",
       "      <td>large</td>\n",
       "      <td>175.0</td>\n",
       "      <td>30.0</td>\n",
       "      <td>2089.38</td>\n",
       "    </tr>\n",
       "    <tr>\n",
       "      <th>Saint Bernard</th>\n",
       "      <td>working</td>\n",
       "      <td>20022.0</td>\n",
       "      <td>7.78</td>\n",
       "      <td>large</td>\n",
       "      <td>155.0</td>\n",
       "      <td>26.5</td>\n",
       "      <td>2573.52</td>\n",
       "    </tr>\n",
       "  </tbody>\n",
       "</table>\n",
       "<p>43 rows × 7 columns</p>\n",
       "</div>"
      ],
      "text/plain": [
       "                            kind  lifetime_cost  longevity    size  weight  \\\n",
       "breed                                                                        \n",
       "Brittany                sporting        22589.0      12.92  medium    35.0   \n",
       "Cairn Terrier            terrier        21992.0      13.84   small    14.0   \n",
       "English Cocker Spaniel  sporting        18993.0      11.66  medium    30.0   \n",
       "Cocker Spaniel          sporting        24330.0      12.50   small    25.0   \n",
       "...                          ...            ...        ...     ...     ...   \n",
       "Bloodhound                 hound        13824.0       6.75   large    85.0   \n",
       "Bullmastiff              working        13936.0       7.57   large   115.0   \n",
       "Mastiff                  working        13581.0       6.50   large   175.0   \n",
       "Saint Bernard            working        20022.0       7.78   large   155.0   \n",
       "\n",
       "                        height  cost_per_year  \n",
       "breed                                          \n",
       "Brittany                  19.0        1748.37  \n",
       "Cairn Terrier             10.0        1589.02  \n",
       "English Cocker Spaniel    16.0        1628.90  \n",
       "Cocker Spaniel            14.5        1946.40  \n",
       "...                        ...            ...  \n",
       "Bloodhound                25.0        2048.00  \n",
       "Bullmastiff               25.5        1840.95  \n",
       "Mastiff                   30.0        2089.38  \n",
       "Saint Bernard             26.5        2573.52  \n",
       "\n",
       "[43 rows x 7 columns]"
      ]
     },
     "execution_count": 72,
     "metadata": {},
     "output_type": "execute_result"
    }
   ],
   "source": [
    "dogs_copy['cost_per_year'] = dogs_copy['lifetime_cost'] / dogs_copy['longevity']\n",
    "dogs_copy"
   ]
  },
  {
   "cell_type": "markdown",
   "id": "2b5d2ac1",
   "metadata": {
    "slideshow": {
     "slide_type": "fragment"
    }
   },
   "source": [
    "Note that we never reassigned `dogs` in the cell above – that is, we never wrote `dogs_copy = ...` – though it was still modified."
   ]
  },
  {
   "cell_type": "markdown",
   "id": "76a86690",
   "metadata": {
    "slideshow": {
     "slide_type": "slide"
    }
   },
   "source": [
    "### Mutability\n",
    "\n",
    "DataFrames, like lists, arrays, and dictionaries, are **mutable**. As you learned in DSC 20, this means that they can be modified after being created. \n",
    "\n",
    "Not only does this explain the behavior on the previous slide, but it also explains the following:"
   ]
  },
  {
   "cell_type": "code",
   "execution_count": 73,
   "id": "d7054cd8",
   "metadata": {},
   "outputs": [
    {
     "data": {
      "text/html": [
       "<div>\n",
       "<style scoped>\n",
       "    .dataframe tbody tr th:only-of-type {\n",
       "        vertical-align: middle;\n",
       "    }\n",
       "\n",
       "    .dataframe tbody tr th {\n",
       "        vertical-align: top;\n",
       "    }\n",
       "\n",
       "    .dataframe thead th {\n",
       "        text-align: right;\n",
       "    }\n",
       "</style>\n",
       "<table border=\"1\" class=\"dataframe\">\n",
       "  <thead>\n",
       "    <tr style=\"text-align: right;\">\n",
       "      <th></th>\n",
       "      <th>kind</th>\n",
       "      <th>lifetime_cost</th>\n",
       "      <th>longevity</th>\n",
       "      <th>size</th>\n",
       "      <th>weight</th>\n",
       "      <th>height</th>\n",
       "      <th>cost_per_year</th>\n",
       "    </tr>\n",
       "    <tr>\n",
       "      <th>breed</th>\n",
       "      <th></th>\n",
       "      <th></th>\n",
       "      <th></th>\n",
       "      <th></th>\n",
       "      <th></th>\n",
       "      <th></th>\n",
       "      <th></th>\n",
       "    </tr>\n",
       "  </thead>\n",
       "  <tbody>\n",
       "    <tr>\n",
       "      <th>Brittany</th>\n",
       "      <td>sporting</td>\n",
       "      <td>22589.0</td>\n",
       "      <td>12.92</td>\n",
       "      <td>medium</td>\n",
       "      <td>35.0</td>\n",
       "      <td>19.0</td>\n",
       "      <td>1748.37</td>\n",
       "    </tr>\n",
       "    <tr>\n",
       "      <th>Cairn Terrier</th>\n",
       "      <td>terrier</td>\n",
       "      <td>21992.0</td>\n",
       "      <td>13.84</td>\n",
       "      <td>small</td>\n",
       "      <td>14.0</td>\n",
       "      <td>10.0</td>\n",
       "      <td>1589.02</td>\n",
       "    </tr>\n",
       "  </tbody>\n",
       "</table>\n",
       "</div>"
      ],
      "text/plain": [
       "                   kind  lifetime_cost  longevity    size  weight  height  \\\n",
       "breed                                                                       \n",
       "Brittany       sporting        22589.0      12.92  medium    35.0    19.0   \n",
       "Cairn Terrier   terrier        21992.0      13.84   small    14.0    10.0   \n",
       "\n",
       "               cost_per_year  \n",
       "breed                         \n",
       "Brittany             1748.37  \n",
       "Cairn Terrier        1589.02  "
      ]
     },
     "execution_count": 73,
     "metadata": {},
     "output_type": "execute_result"
    }
   ],
   "source": [
    "dogs_copy.head(2)"
   ]
  },
  {
   "cell_type": "code",
   "execution_count": 74,
   "id": "fe506f4a",
   "metadata": {},
   "outputs": [],
   "source": [
    "def cost_in_thousands():\n",
    "    dogs_copy['lifetime_cost'] = dogs_copy['lifetime_cost'] / 1000"
   ]
  },
  {
   "cell_type": "code",
   "execution_count": 75,
   "id": "eb1be3f8",
   "metadata": {},
   "outputs": [],
   "source": [
    "# What happens when we run this twice?\n",
    "cost_in_thousands()"
   ]
  },
  {
   "cell_type": "code",
   "execution_count": 76,
   "id": "b3b53db2",
   "metadata": {},
   "outputs": [
    {
     "data": {
      "text/html": [
       "<div>\n",
       "<style scoped>\n",
       "    .dataframe tbody tr th:only-of-type {\n",
       "        vertical-align: middle;\n",
       "    }\n",
       "\n",
       "    .dataframe tbody tr th {\n",
       "        vertical-align: top;\n",
       "    }\n",
       "\n",
       "    .dataframe thead th {\n",
       "        text-align: right;\n",
       "    }\n",
       "</style>\n",
       "<table border=\"1\" class=\"dataframe\">\n",
       "  <thead>\n",
       "    <tr style=\"text-align: right;\">\n",
       "      <th></th>\n",
       "      <th>kind</th>\n",
       "      <th>lifetime_cost</th>\n",
       "      <th>longevity</th>\n",
       "      <th>size</th>\n",
       "      <th>weight</th>\n",
       "      <th>height</th>\n",
       "      <th>cost_per_year</th>\n",
       "    </tr>\n",
       "    <tr>\n",
       "      <th>breed</th>\n",
       "      <th></th>\n",
       "      <th></th>\n",
       "      <th></th>\n",
       "      <th></th>\n",
       "      <th></th>\n",
       "      <th></th>\n",
       "      <th></th>\n",
       "    </tr>\n",
       "  </thead>\n",
       "  <tbody>\n",
       "    <tr>\n",
       "      <th>Brittany</th>\n",
       "      <td>sporting</td>\n",
       "      <td>22.59</td>\n",
       "      <td>12.92</td>\n",
       "      <td>medium</td>\n",
       "      <td>35.0</td>\n",
       "      <td>19.0</td>\n",
       "      <td>1748.37</td>\n",
       "    </tr>\n",
       "    <tr>\n",
       "      <th>Cairn Terrier</th>\n",
       "      <td>terrier</td>\n",
       "      <td>21.99</td>\n",
       "      <td>13.84</td>\n",
       "      <td>small</td>\n",
       "      <td>14.0</td>\n",
       "      <td>10.0</td>\n",
       "      <td>1589.02</td>\n",
       "    </tr>\n",
       "    <tr>\n",
       "      <th>English Cocker Spaniel</th>\n",
       "      <td>sporting</td>\n",
       "      <td>18.99</td>\n",
       "      <td>11.66</td>\n",
       "      <td>medium</td>\n",
       "      <td>30.0</td>\n",
       "      <td>16.0</td>\n",
       "      <td>1628.90</td>\n",
       "    </tr>\n",
       "    <tr>\n",
       "      <th>Cocker Spaniel</th>\n",
       "      <td>sporting</td>\n",
       "      <td>24.33</td>\n",
       "      <td>12.50</td>\n",
       "      <td>small</td>\n",
       "      <td>25.0</td>\n",
       "      <td>14.5</td>\n",
       "      <td>1946.40</td>\n",
       "    </tr>\n",
       "    <tr>\n",
       "      <th>...</th>\n",
       "      <td>...</td>\n",
       "      <td>...</td>\n",
       "      <td>...</td>\n",
       "      <td>...</td>\n",
       "      <td>...</td>\n",
       "      <td>...</td>\n",
       "      <td>...</td>\n",
       "    </tr>\n",
       "    <tr>\n",
       "      <th>Bloodhound</th>\n",
       "      <td>hound</td>\n",
       "      <td>13.82</td>\n",
       "      <td>6.75</td>\n",
       "      <td>large</td>\n",
       "      <td>85.0</td>\n",
       "      <td>25.0</td>\n",
       "      <td>2048.00</td>\n",
       "    </tr>\n",
       "    <tr>\n",
       "      <th>Bullmastiff</th>\n",
       "      <td>working</td>\n",
       "      <td>13.94</td>\n",
       "      <td>7.57</td>\n",
       "      <td>large</td>\n",
       "      <td>115.0</td>\n",
       "      <td>25.5</td>\n",
       "      <td>1840.95</td>\n",
       "    </tr>\n",
       "    <tr>\n",
       "      <th>Mastiff</th>\n",
       "      <td>working</td>\n",
       "      <td>13.58</td>\n",
       "      <td>6.50</td>\n",
       "      <td>large</td>\n",
       "      <td>175.0</td>\n",
       "      <td>30.0</td>\n",
       "      <td>2089.38</td>\n",
       "    </tr>\n",
       "    <tr>\n",
       "      <th>Saint Bernard</th>\n",
       "      <td>working</td>\n",
       "      <td>20.02</td>\n",
       "      <td>7.78</td>\n",
       "      <td>large</td>\n",
       "      <td>155.0</td>\n",
       "      <td>26.5</td>\n",
       "      <td>2573.52</td>\n",
       "    </tr>\n",
       "  </tbody>\n",
       "</table>\n",
       "<p>43 rows × 7 columns</p>\n",
       "</div>"
      ],
      "text/plain": [
       "                            kind  lifetime_cost  longevity    size  weight  \\\n",
       "breed                                                                        \n",
       "Brittany                sporting          22.59      12.92  medium    35.0   \n",
       "Cairn Terrier            terrier          21.99      13.84   small    14.0   \n",
       "English Cocker Spaniel  sporting          18.99      11.66  medium    30.0   \n",
       "Cocker Spaniel          sporting          24.33      12.50   small    25.0   \n",
       "...                          ...            ...        ...     ...     ...   \n",
       "Bloodhound                 hound          13.82       6.75   large    85.0   \n",
       "Bullmastiff              working          13.94       7.57   large   115.0   \n",
       "Mastiff                  working          13.58       6.50   large   175.0   \n",
       "Saint Bernard            working          20.02       7.78   large   155.0   \n",
       "\n",
       "                        height  cost_per_year  \n",
       "breed                                          \n",
       "Brittany                  19.0        1748.37  \n",
       "Cairn Terrier             10.0        1589.02  \n",
       "English Cocker Spaniel    16.0        1628.90  \n",
       "Cocker Spaniel            14.5        1946.40  \n",
       "...                        ...            ...  \n",
       "Bloodhound                25.0        2048.00  \n",
       "Bullmastiff               25.5        1840.95  \n",
       "Mastiff                   30.0        2089.38  \n",
       "Saint Bernard             26.5        2573.52  \n",
       "\n",
       "[43 rows x 7 columns]"
      ]
     },
     "execution_count": 76,
     "metadata": {},
     "output_type": "execute_result"
    }
   ],
   "source": [
    "dogs_copy"
   ]
  },
  {
   "cell_type": "markdown",
   "id": "b6cbd332",
   "metadata": {
    "slideshow": {
     "slide_type": "slide"
    }
   },
   "source": [
    "### ⚠️ Avoid mutation when possible\n",
    "\n",
    "Note that `dogs` was modified, even though we didn't reassign it! These unintended consequences can **influence the behavior of test cases on labs and projects**, among other things! \n",
    "\n",
    "To avoid this, it's a good idea to avoid mutation when possible. If you must use mutation, include `df = df.copy()` as the first line in functions that take DataFrames as input.\n",
    "\n",
    "Also, some methods let you use the `inplace=True` argument to mutate the original. **Don't use this argument, since future `pandas` releases plan to remove it.**"
   ]
  },
  {
   "cell_type": "markdown",
   "id": "8a69d1e7",
   "metadata": {
    "slideshow": {
     "slide_type": "slide"
    }
   },
   "source": [
    "### Replacing values\n",
    "\n",
    "Instead of mutation, we recommend using `replace`, which returns a copy of the original dataframe:"
   ]
  },
  {
   "cell_type": "code",
   "execution_count": 77,
   "id": "028846b5",
   "metadata": {},
   "outputs": [
    {
     "data": {
      "text/html": [
       "<div>\n",
       "<style scoped>\n",
       "    .dataframe tbody tr th:only-of-type {\n",
       "        vertical-align: middle;\n",
       "    }\n",
       "\n",
       "    .dataframe tbody tr th {\n",
       "        vertical-align: top;\n",
       "    }\n",
       "\n",
       "    .dataframe thead th {\n",
       "        text-align: right;\n",
       "    }\n",
       "</style>\n",
       "<table border=\"1\" class=\"dataframe\">\n",
       "  <thead>\n",
       "    <tr style=\"text-align: right;\">\n",
       "      <th></th>\n",
       "      <th>kind</th>\n",
       "      <th>lifetime_cost</th>\n",
       "      <th>longevity</th>\n",
       "      <th>size</th>\n",
       "      <th>weight</th>\n",
       "      <th>height</th>\n",
       "    </tr>\n",
       "    <tr>\n",
       "      <th>breed</th>\n",
       "      <th></th>\n",
       "      <th></th>\n",
       "      <th></th>\n",
       "      <th></th>\n",
       "      <th></th>\n",
       "      <th></th>\n",
       "    </tr>\n",
       "  </thead>\n",
       "  <tbody>\n",
       "    <tr>\n",
       "      <th>Brittany</th>\n",
       "      <td>Sam's favorites</td>\n",
       "      <td>22589.0</td>\n",
       "      <td>12.92</td>\n",
       "      <td>medium</td>\n",
       "      <td>35.0</td>\n",
       "      <td>19.0</td>\n",
       "    </tr>\n",
       "    <tr>\n",
       "      <th>Cairn Terrier</th>\n",
       "      <td>terrier</td>\n",
       "      <td>21992.0</td>\n",
       "      <td>13.84</td>\n",
       "      <td>small</td>\n",
       "      <td>14.0</td>\n",
       "      <td>10.0</td>\n",
       "    </tr>\n",
       "    <tr>\n",
       "      <th>English Cocker Spaniel</th>\n",
       "      <td>Sam's favorites</td>\n",
       "      <td>18993.0</td>\n",
       "      <td>11.66</td>\n",
       "      <td>medium</td>\n",
       "      <td>30.0</td>\n",
       "      <td>16.0</td>\n",
       "    </tr>\n",
       "    <tr>\n",
       "      <th>Cocker Spaniel</th>\n",
       "      <td>Sam's favorites</td>\n",
       "      <td>24330.0</td>\n",
       "      <td>12.50</td>\n",
       "      <td>small</td>\n",
       "      <td>25.0</td>\n",
       "      <td>14.5</td>\n",
       "    </tr>\n",
       "    <tr>\n",
       "      <th>...</th>\n",
       "      <td>...</td>\n",
       "      <td>...</td>\n",
       "      <td>...</td>\n",
       "      <td>...</td>\n",
       "      <td>...</td>\n",
       "      <td>...</td>\n",
       "    </tr>\n",
       "    <tr>\n",
       "      <th>Bloodhound</th>\n",
       "      <td>hound</td>\n",
       "      <td>13824.0</td>\n",
       "      <td>6.75</td>\n",
       "      <td>large</td>\n",
       "      <td>85.0</td>\n",
       "      <td>25.0</td>\n",
       "    </tr>\n",
       "    <tr>\n",
       "      <th>Bullmastiff</th>\n",
       "      <td>working</td>\n",
       "      <td>13936.0</td>\n",
       "      <td>7.57</td>\n",
       "      <td>large</td>\n",
       "      <td>115.0</td>\n",
       "      <td>25.5</td>\n",
       "    </tr>\n",
       "    <tr>\n",
       "      <th>Mastiff</th>\n",
       "      <td>working</td>\n",
       "      <td>13581.0</td>\n",
       "      <td>6.50</td>\n",
       "      <td>large</td>\n",
       "      <td>175.0</td>\n",
       "      <td>30.0</td>\n",
       "    </tr>\n",
       "    <tr>\n",
       "      <th>Saint Bernard</th>\n",
       "      <td>working</td>\n",
       "      <td>20022.0</td>\n",
       "      <td>7.78</td>\n",
       "      <td>large</td>\n",
       "      <td>155.0</td>\n",
       "      <td>26.5</td>\n",
       "    </tr>\n",
       "  </tbody>\n",
       "</table>\n",
       "<p>43 rows × 6 columns</p>\n",
       "</div>"
      ],
      "text/plain": [
       "                                   kind  lifetime_cost  longevity    size  \\\n",
       "breed                                                                       \n",
       "Brittany                Sam's favorites        22589.0      12.92  medium   \n",
       "Cairn Terrier                   terrier        21992.0      13.84   small   \n",
       "English Cocker Spaniel  Sam's favorites        18993.0      11.66  medium   \n",
       "Cocker Spaniel          Sam's favorites        24330.0      12.50   small   \n",
       "...                                 ...            ...        ...     ...   \n",
       "Bloodhound                        hound        13824.0       6.75   large   \n",
       "Bullmastiff                     working        13936.0       7.57   large   \n",
       "Mastiff                         working        13581.0       6.50   large   \n",
       "Saint Bernard                   working        20022.0       7.78   large   \n",
       "\n",
       "                        weight  height  \n",
       "breed                                   \n",
       "Brittany                  35.0    19.0  \n",
       "Cairn Terrier             14.0    10.0  \n",
       "English Cocker Spaniel    30.0    16.0  \n",
       "Cocker Spaniel            25.0    14.5  \n",
       "...                        ...     ...  \n",
       "Bloodhound                85.0    25.0  \n",
       "Bullmastiff              115.0    25.5  \n",
       "Mastiff                  175.0    30.0  \n",
       "Saint Bernard            155.0    26.5  \n",
       "\n",
       "[43 rows x 6 columns]"
      ]
     },
     "execution_count": 77,
     "metadata": {},
     "output_type": "execute_result"
    }
   ],
   "source": [
    "dogs.replace({'kind': {'sporting': \"Sam's favorites\"}})"
   ]
  },
  {
   "cell_type": "markdown",
   "id": "8acc897f",
   "metadata": {
    "slideshow": {
     "slide_type": "slide"
    }
   },
   "source": [
    "## Axes"
   ]
  },
  {
   "cell_type": "markdown",
   "id": "fffa5177",
   "metadata": {
    "slideshow": {
     "slide_type": "slide"
    }
   },
   "source": [
    "### Axes\n",
    "\n",
    "- The rows and columns of a DataFrame are both stored as Series.\n",
    "- The **axis** specifies the direction of a \"slice\" of a DataFrame.\n",
    "\n",
    "<center><img src='imgs/axis.png' width=30%></center>\n",
    "\n",
    "- Axis 0 refers to the index (rows).\n",
    "- Axis 1 refers to the columns."
   ]
  },
  {
   "cell_type": "markdown",
   "id": "608d22e8",
   "metadata": {
    "slideshow": {
     "slide_type": "slide"
    }
   },
   "source": [
    "### DataFrame methods with `axis`\n",
    "\n",
    "Consider the DataFrame `A` defined below using a dictionary."
   ]
  },
  {
   "cell_type": "code",
   "execution_count": 78,
   "id": "16489f0e",
   "metadata": {},
   "outputs": [
    {
     "data": {
      "text/html": [
       "<div>\n",
       "<style scoped>\n",
       "    .dataframe tbody tr th:only-of-type {\n",
       "        vertical-align: middle;\n",
       "    }\n",
       "\n",
       "    .dataframe tbody tr th {\n",
       "        vertical-align: top;\n",
       "    }\n",
       "\n",
       "    .dataframe thead th {\n",
       "        text-align: right;\n",
       "    }\n",
       "</style>\n",
       "<table border=\"1\" class=\"dataframe\">\n",
       "  <thead>\n",
       "    <tr style=\"text-align: right;\">\n",
       "      <th></th>\n",
       "      <th>A</th>\n",
       "      <th>B</th>\n",
       "      <th>C</th>\n",
       "    </tr>\n",
       "  </thead>\n",
       "  <tbody>\n",
       "    <tr>\n",
       "      <th>0</th>\n",
       "      <td>1</td>\n",
       "      <td>2</td>\n",
       "      <td>3</td>\n",
       "    </tr>\n",
       "    <tr>\n",
       "      <th>1</th>\n",
       "      <td>4</td>\n",
       "      <td>5</td>\n",
       "      <td>6</td>\n",
       "    </tr>\n",
       "  </tbody>\n",
       "</table>\n",
       "</div>"
      ],
      "text/plain": [
       "   A  B  C\n",
       "0  1  2  3\n",
       "1  4  5  6"
      ]
     },
     "execution_count": 78,
     "metadata": {},
     "output_type": "execute_result"
    }
   ],
   "source": [
    "A = pd.DataFrame({\n",
    "    'A': [1, 4],\n",
    "    'B': [2, 5],\n",
    "    'C': [3, 6],\n",
    "})\n",
    "A"
   ]
  },
  {
   "cell_type": "markdown",
   "id": "83c0183f",
   "metadata": {},
   "source": [
    "If we specify `axis=0`, `A.sum` will \"compress\" along axis 0, and keep the column labels intact."
   ]
  },
  {
   "cell_type": "code",
   "execution_count": 79,
   "id": "7245b1b8",
   "metadata": {},
   "outputs": [
    {
     "data": {
      "text/plain": [
       "0     6\n",
       "1    15\n",
       "dtype: int64"
      ]
     },
     "execution_count": 79,
     "metadata": {},
     "output_type": "execute_result"
    }
   ],
   "source": [
    "A.sum(axis=1)"
   ]
  },
  {
   "cell_type": "code",
   "execution_count": 80,
   "id": "44bee1c0",
   "metadata": {},
   "outputs": [
    {
     "data": {
      "text/plain": [
       "A    5\n",
       "B    7\n",
       "C    9\n",
       "dtype: int64"
      ]
     },
     "execution_count": 80,
     "metadata": {},
     "output_type": "execute_result"
    }
   ],
   "source": [
    "A.sum(0)"
   ]
  },
  {
   "cell_type": "markdown",
   "id": "e4bb82bc",
   "metadata": {},
   "source": [
    "If we specify `axis=1`, `A.sum` will \"compress\" along axis 1, and keep the row labels (index) intact."
   ]
  },
  {
   "cell_type": "code",
   "execution_count": 81,
   "id": "aecaac0f",
   "metadata": {},
   "outputs": [
    {
     "data": {
      "text/plain": [
       "0     6\n",
       "1    15\n",
       "dtype: int64"
      ]
     },
     "execution_count": 81,
     "metadata": {},
     "output_type": "execute_result"
    }
   ],
   "source": [
    "A.sum(axis=1)"
   ]
  },
  {
   "cell_type": "markdown",
   "id": "8d54b1bb",
   "metadata": {
    "slideshow": {
     "slide_type": "slide"
    }
   },
   "source": [
    "<center><img src='imgs/axis-sum.png' width=600></center>"
   ]
  },
  {
   "cell_type": "markdown",
   "id": "963d2b00",
   "metadata": {
    "slideshow": {
     "slide_type": "fragment"
    }
   },
   "source": [
    "What's the default axis?"
   ]
  },
  {
   "cell_type": "code",
   "execution_count": 82,
   "id": "b0ee56c0",
   "metadata": {},
   "outputs": [
    {
     "data": {
      "text/html": [
       "<div>\n",
       "<style scoped>\n",
       "    .dataframe tbody tr th:only-of-type {\n",
       "        vertical-align: middle;\n",
       "    }\n",
       "\n",
       "    .dataframe tbody tr th {\n",
       "        vertical-align: top;\n",
       "    }\n",
       "\n",
       "    .dataframe thead th {\n",
       "        text-align: right;\n",
       "    }\n",
       "</style>\n",
       "<table border=\"1\" class=\"dataframe\">\n",
       "  <thead>\n",
       "    <tr style=\"text-align: right;\">\n",
       "      <th></th>\n",
       "      <th>A</th>\n",
       "      <th>B</th>\n",
       "      <th>C</th>\n",
       "    </tr>\n",
       "  </thead>\n",
       "  <tbody>\n",
       "    <tr>\n",
       "      <th>0</th>\n",
       "      <td>1</td>\n",
       "      <td>2</td>\n",
       "      <td>3</td>\n",
       "    </tr>\n",
       "    <tr>\n",
       "      <th>1</th>\n",
       "      <td>4</td>\n",
       "      <td>5</td>\n",
       "      <td>6</td>\n",
       "    </tr>\n",
       "  </tbody>\n",
       "</table>\n",
       "</div>"
      ],
      "text/plain": [
       "   A  B  C\n",
       "0  1  2  3\n",
       "1  4  5  6"
      ]
     },
     "execution_count": 82,
     "metadata": {},
     "output_type": "execute_result"
    }
   ],
   "source": [
    "A"
   ]
  },
  {
   "cell_type": "code",
   "execution_count": 83,
   "id": "783666c3",
   "metadata": {},
   "outputs": [
    {
     "data": {
      "text/plain": [
       "A    5\n",
       "B    7\n",
       "C    9\n",
       "dtype: int64"
      ]
     },
     "execution_count": 83,
     "metadata": {},
     "output_type": "execute_result"
    }
   ],
   "source": [
    "A.sum()"
   ]
  },
  {
   "cell_type": "markdown",
   "id": "1e91a09c",
   "metadata": {
    "slideshow": {
     "slide_type": "slide"
    }
   },
   "source": [
    "### DataFrame methods with `axis`\n",
    "\n",
    "- In addition to `sum`, many other Series methods work on DataFrames.\n",
    "- In such cases, the DataFrame method usually applies the Series method to every row or column.\n",
    "- Many of these methods accept an `axis` argument; the default is usually `axis=0`."
   ]
  },
  {
   "cell_type": "code",
   "execution_count": 84,
   "id": "89854475",
   "metadata": {},
   "outputs": [
    {
     "data": {
      "text/plain": [
       "kind             working\n",
       "lifetime_cost    26686.0\n",
       "longevity           16.5\n",
       "size               small\n",
       "weight             175.0\n",
       "height              30.0\n",
       "dtype: object"
      ]
     },
     "execution_count": 84,
     "metadata": {},
     "output_type": "execute_result"
    }
   ],
   "source": [
    "# Max element in each column\n",
    "dogs.max()"
   ]
  },
  {
   "cell_type": "code",
   "execution_count": 85,
   "id": "9a6231eb",
   "metadata": {},
   "outputs": [
    {
     "data": {
      "text/plain": [
       "kind              7\n",
       "lifetime_cost    43\n",
       "longevity        40\n",
       "size              3\n",
       "weight           37\n",
       "height           30\n",
       "dtype: int64"
      ]
     },
     "execution_count": 85,
     "metadata": {},
     "output_type": "execute_result"
    }
   ],
   "source": [
    "# The number of unique values in each column.\n",
    "dogs.nunique()"
   ]
  },
  {
   "cell_type": "code",
   "execution_count": 86,
   "id": "942d387e",
   "metadata": {},
   "outputs": [
    {
     "data": {
      "text/html": [
       "<div>\n",
       "<style scoped>\n",
       "    .dataframe tbody tr th:only-of-type {\n",
       "        vertical-align: middle;\n",
       "    }\n",
       "\n",
       "    .dataframe tbody tr th {\n",
       "        vertical-align: top;\n",
       "    }\n",
       "\n",
       "    .dataframe thead th {\n",
       "        text-align: right;\n",
       "    }\n",
       "</style>\n",
       "<table border=\"1\" class=\"dataframe\">\n",
       "  <thead>\n",
       "    <tr style=\"text-align: right;\">\n",
       "      <th></th>\n",
       "      <th>lifetime_cost</th>\n",
       "      <th>longevity</th>\n",
       "      <th>weight</th>\n",
       "      <th>height</th>\n",
       "    </tr>\n",
       "  </thead>\n",
       "  <tbody>\n",
       "    <tr>\n",
       "      <th>count</th>\n",
       "      <td>43.00</td>\n",
       "      <td>43.00</td>\n",
       "      <td>43.00</td>\n",
       "      <td>43.00</td>\n",
       "    </tr>\n",
       "    <tr>\n",
       "      <th>mean</th>\n",
       "      <td>20532.84</td>\n",
       "      <td>11.34</td>\n",
       "      <td>49.35</td>\n",
       "      <td>18.34</td>\n",
       "    </tr>\n",
       "    <tr>\n",
       "      <th>std</th>\n",
       "      <td>3290.78</td>\n",
       "      <td>2.05</td>\n",
       "      <td>39.42</td>\n",
       "      <td>6.83</td>\n",
       "    </tr>\n",
       "    <tr>\n",
       "      <th>min</th>\n",
       "      <td>13581.00</td>\n",
       "      <td>6.50</td>\n",
       "      <td>5.00</td>\n",
       "      <td>5.00</td>\n",
       "    </tr>\n",
       "    <tr>\n",
       "      <th>25%</th>\n",
       "      <td>18508.50</td>\n",
       "      <td>10.05</td>\n",
       "      <td>18.00</td>\n",
       "      <td>11.75</td>\n",
       "    </tr>\n",
       "    <tr>\n",
       "      <th>50%</th>\n",
       "      <td>21006.00</td>\n",
       "      <td>11.81</td>\n",
       "      <td>36.50</td>\n",
       "      <td>18.50</td>\n",
       "    </tr>\n",
       "    <tr>\n",
       "      <th>75%</th>\n",
       "      <td>22072.50</td>\n",
       "      <td>12.52</td>\n",
       "      <td>67.50</td>\n",
       "      <td>25.00</td>\n",
       "    </tr>\n",
       "    <tr>\n",
       "      <th>max</th>\n",
       "      <td>26686.00</td>\n",
       "      <td>16.50</td>\n",
       "      <td>175.00</td>\n",
       "      <td>30.00</td>\n",
       "    </tr>\n",
       "  </tbody>\n",
       "</table>\n",
       "</div>"
      ],
      "text/plain": [
       "       lifetime_cost  longevity  weight  height\n",
       "count          43.00      43.00   43.00   43.00\n",
       "mean        20532.84      11.34   49.35   18.34\n",
       "std          3290.78       2.05   39.42    6.83\n",
       "min         13581.00       6.50    5.00    5.00\n",
       "25%         18508.50      10.05   18.00   11.75\n",
       "50%         21006.00      11.81   36.50   18.50\n",
       "75%         22072.50      12.52   67.50   25.00\n",
       "max         26686.00      16.50  175.00   30.00"
      ]
     },
     "execution_count": 86,
     "metadata": {},
     "output_type": "execute_result"
    }
   ],
   "source": [
    "# describe doesn't accept an axis argument; it works on every numeric column in the DataFrame it is called on.\n",
    "dogs.describe()"
   ]
  },
  {
   "cell_type": "markdown",
   "id": "5549d72e",
   "metadata": {
    "slideshow": {
     "slide_type": "slide"
    }
   },
   "source": [
    "## `pandas` and `numpy`"
   ]
  },
  {
   "cell_type": "markdown",
   "id": "099f532e",
   "metadata": {
    "slideshow": {
     "slide_type": "slide"
    }
   },
   "source": [
    "<center><img src='imgs/python-stack.png' width=60%></center>"
   ]
  },
  {
   "cell_type": "markdown",
   "id": "4d5900bf",
   "metadata": {
    "slideshow": {
     "slide_type": "slide"
    }
   },
   "source": [
    "### `pandas` is built upon `numpy`\n",
    "\n",
    "- A Series in `pandas` is a `numpy` array with an index.\n",
    "- A DataFrame is like a dictionary of columns, each of which is a `numpy` array.\n",
    "- Many operations in `pandas` are fast because they use `numpy`'s implementations.\n",
    "- If you need access the array underlying a DataFrame or Series, use the `to_numpy` method."
   ]
  },
  {
   "cell_type": "code",
   "execution_count": 87,
   "id": "91195593",
   "metadata": {},
   "outputs": [
    {
     "data": {
      "text/plain": [
       "breed\n",
       "Brittany                  22589.0\n",
       "Cairn Terrier             21992.0\n",
       "English Cocker Spaniel    18993.0\n",
       "Cocker Spaniel            24330.0\n",
       "                           ...   \n",
       "Bloodhound                13824.0\n",
       "Bullmastiff               13936.0\n",
       "Mastiff                   13581.0\n",
       "Saint Bernard             20022.0\n",
       "Name: lifetime_cost, Length: 43, dtype: float64"
      ]
     },
     "execution_count": 87,
     "metadata": {},
     "output_type": "execute_result"
    }
   ],
   "source": [
    "dogs['lifetime_cost']"
   ]
  },
  {
   "cell_type": "markdown",
   "id": "8e1c6a1f",
   "metadata": {
    "slideshow": {
     "slide_type": "slide"
    }
   },
   "source": [
    "### `pandas` data types\n",
    "\n",
    "- Each Series (column) has a `numpy` data type, which refers to the type of the values stored within. Access it using the `dtypes` attribute.\n",
    "- A column's data type determines which operations can be applied to it.\n",
    "- `pandas` tries to guess the correct data types for a given DataFrame, and is often wrong.\n",
    "    - This can lead to incorrect calculations and poor memory/time performance.\n",
    "- As a result, you will often need to explicitly convert between data types."
   ]
  },
  {
   "cell_type": "code",
   "execution_count": 88,
   "id": "dd039187",
   "metadata": {},
   "outputs": [
    {
     "data": {
      "text/plain": [
       "kind              object\n",
       "lifetime_cost    float64\n",
       "longevity        float64\n",
       "size              object\n",
       "weight           float64\n",
       "height           float64\n",
       "dtype: object"
      ]
     },
     "execution_count": 88,
     "metadata": {},
     "output_type": "execute_result"
    }
   ],
   "source": [
    "dogs.dtypes"
   ]
  },
  {
   "cell_type": "markdown",
   "id": "c2484929",
   "metadata": {
    "slideshow": {
     "slide_type": "slide"
    }
   },
   "source": [
    "### `pandas` data types\n",
    "\n",
    "Notice that Python `str` types are `object` types in `numpy` and `pandas`.\n",
    "\n",
    "|Pandas dtype|Python type|NumPy type|SQL type|Usage|\n",
    "|---|---|---|---|---|\n",
    "|int64|int|int_, int8,...,int64, uint8,...,uint64|INT, BIGINT| Integer numbers|\n",
    "|float64|float|float_, float16, float32, float64|FLOAT| Floating point numbers|\n",
    "|bool|bool|bool_|BOOL|True/False values|\n",
    "|datetime64 or Timestamp|datetime.datetime|datetime64|DATETIME|Date and time values|\n",
    "|timedelta64 or Timedelta|datetime.timedelta|timedelta64|NA|Differences between two datetimes|\n",
    "|category|NA|NA|ENUM|Finite list of text values|\n",
    "|object|str|string, unicode|NA|Text|\n",
    "|object|NA|object|NA|Mixed types|"
   ]
  },
  {
   "cell_type": "markdown",
   "id": "93ca8db1",
   "metadata": {},
   "source": [
    "[This article](https://www.dataquest.io/blog/pandas-big-data/) details how `pandas` stores different data types under the hood.\n",
    "\n",
    "[This article](https://mortada.net/can-integer-operations-overflow-in-python.html#Can-integers-overflow-in-python?) explains how `numpy`/`pandas` `int64` operations differ from vanilla `int` operations."
   ]
  },
  {
   "cell_type": "markdown",
   "id": "fea361cc",
   "metadata": {
    "slideshow": {
     "slide_type": "slide"
    }
   },
   "source": [
    "### Type conversion\n",
    "\n",
    "You can change the data type of a Series using the `.astype` Series method.\n",
    "\n",
    "For instance, we can change the data type of the `'lifetime_cost'` column in `dogs` to be `int64`:"
   ]
  },
  {
   "cell_type": "code",
   "execution_count": 89,
   "id": "4309975a",
   "metadata": {},
   "outputs": [
    {
     "data": {
      "text/html": [
       "<div>\n",
       "<style scoped>\n",
       "    .dataframe tbody tr th:only-of-type {\n",
       "        vertical-align: middle;\n",
       "    }\n",
       "\n",
       "    .dataframe tbody tr th {\n",
       "        vertical-align: top;\n",
       "    }\n",
       "\n",
       "    .dataframe thead th {\n",
       "        text-align: right;\n",
       "    }\n",
       "</style>\n",
       "<table border=\"1\" class=\"dataframe\">\n",
       "  <thead>\n",
       "    <tr style=\"text-align: right;\">\n",
       "      <th></th>\n",
       "      <th>kind</th>\n",
       "      <th>lifetime_cost</th>\n",
       "      <th>longevity</th>\n",
       "      <th>size</th>\n",
       "      <th>weight</th>\n",
       "      <th>height</th>\n",
       "    </tr>\n",
       "    <tr>\n",
       "      <th>breed</th>\n",
       "      <th></th>\n",
       "      <th></th>\n",
       "      <th></th>\n",
       "      <th></th>\n",
       "      <th></th>\n",
       "      <th></th>\n",
       "    </tr>\n",
       "  </thead>\n",
       "  <tbody>\n",
       "    <tr>\n",
       "      <th>Brittany</th>\n",
       "      <td>sporting</td>\n",
       "      <td>22589.0</td>\n",
       "      <td>12.92</td>\n",
       "      <td>medium</td>\n",
       "      <td>35.0</td>\n",
       "      <td>19.0</td>\n",
       "    </tr>\n",
       "    <tr>\n",
       "      <th>Cairn Terrier</th>\n",
       "      <td>terrier</td>\n",
       "      <td>21992.0</td>\n",
       "      <td>13.84</td>\n",
       "      <td>small</td>\n",
       "      <td>14.0</td>\n",
       "      <td>10.0</td>\n",
       "    </tr>\n",
       "    <tr>\n",
       "      <th>English Cocker Spaniel</th>\n",
       "      <td>sporting</td>\n",
       "      <td>18993.0</td>\n",
       "      <td>11.66</td>\n",
       "      <td>medium</td>\n",
       "      <td>30.0</td>\n",
       "      <td>16.0</td>\n",
       "    </tr>\n",
       "    <tr>\n",
       "      <th>Cocker Spaniel</th>\n",
       "      <td>sporting</td>\n",
       "      <td>24330.0</td>\n",
       "      <td>12.50</td>\n",
       "      <td>small</td>\n",
       "      <td>25.0</td>\n",
       "      <td>14.5</td>\n",
       "    </tr>\n",
       "    <tr>\n",
       "      <th>Shetland Sheepdog</th>\n",
       "      <td>herding</td>\n",
       "      <td>21006.0</td>\n",
       "      <td>12.53</td>\n",
       "      <td>small</td>\n",
       "      <td>22.0</td>\n",
       "      <td>14.5</td>\n",
       "    </tr>\n",
       "  </tbody>\n",
       "</table>\n",
       "</div>"
      ],
      "text/plain": [
       "                            kind  lifetime_cost  longevity    size  weight  \\\n",
       "breed                                                                        \n",
       "Brittany                sporting        22589.0      12.92  medium    35.0   \n",
       "Cairn Terrier            terrier        21992.0      13.84   small    14.0   \n",
       "English Cocker Spaniel  sporting        18993.0      11.66  medium    30.0   \n",
       "Cocker Spaniel          sporting        24330.0      12.50   small    25.0   \n",
       "Shetland Sheepdog        herding        21006.0      12.53   small    22.0   \n",
       "\n",
       "                        height  \n",
       "breed                           \n",
       "Brittany                  19.0  \n",
       "Cairn Terrier             10.0  \n",
       "English Cocker Spaniel    16.0  \n",
       "Cocker Spaniel            14.5  \n",
       "Shetland Sheepdog         14.5  "
      ]
     },
     "execution_count": 89,
     "metadata": {},
     "output_type": "execute_result"
    }
   ],
   "source": [
    "dogs.head()"
   ]
  },
  {
   "cell_type": "code",
   "execution_count": 90,
   "id": "22c66798",
   "metadata": {},
   "outputs": [
    {
     "data": {
      "text/plain": [
       "kind              object\n",
       "lifetime_cost    float64\n",
       "longevity        float64\n",
       "size              object\n",
       "weight           float64\n",
       "height           float64\n",
       "dtype: object"
      ]
     },
     "execution_count": 90,
     "metadata": {},
     "output_type": "execute_result"
    }
   ],
   "source": [
    "dogs.dtypes"
   ]
  },
  {
   "cell_type": "code",
   "execution_count": 91,
   "id": "1581d5ea",
   "metadata": {},
   "outputs": [
    {
     "data": {
      "text/plain": [
       "breed\n",
       "Brittany                  22589\n",
       "Cairn Terrier             21992\n",
       "English Cocker Spaniel    18993\n",
       "Cocker Spaniel            24330\n",
       "                          ...  \n",
       "Bloodhound                13824\n",
       "Bullmastiff               13936\n",
       "Mastiff                   13581\n",
       "Saint Bernard             20022\n",
       "Name: lifetime_cost, Length: 43, dtype: int64"
      ]
     },
     "execution_count": 91,
     "metadata": {},
     "output_type": "execute_result"
    }
   ],
   "source": [
    "dogs['lifetime_cost'].astype(np.int64)"
   ]
  },
  {
   "cell_type": "markdown",
   "id": "e0c9de4e",
   "metadata": {
    "slideshow": {
     "slide_type": "slide"
    }
   },
   "source": [
    "### 💡 Pro-Tip: Setting dtypes in `read_csv`\n",
    "\n",
    "Usually, we prefer to set the correct dtypes in `read_csv`, since it can help `pandas` load in files more quickly:"
   ]
  },
  {
   "cell_type": "code",
   "execution_count": 92,
   "id": "986d34c2",
   "metadata": {},
   "outputs": [
    {
     "data": {
      "text/html": [
       "<div>\n",
       "<style scoped>\n",
       "    .dataframe tbody tr th:only-of-type {\n",
       "        vertical-align: middle;\n",
       "    }\n",
       "\n",
       "    .dataframe tbody tr th {\n",
       "        vertical-align: top;\n",
       "    }\n",
       "\n",
       "    .dataframe thead th {\n",
       "        text-align: right;\n",
       "    }\n",
       "</style>\n",
       "<table border=\"1\" class=\"dataframe\">\n",
       "  <thead>\n",
       "    <tr style=\"text-align: right;\">\n",
       "      <th></th>\n",
       "      <th>breed</th>\n",
       "      <th>kind</th>\n",
       "      <th>lifetime_cost</th>\n",
       "      <th>longevity</th>\n",
       "      <th>size</th>\n",
       "      <th>weight</th>\n",
       "      <th>height</th>\n",
       "    </tr>\n",
       "  </thead>\n",
       "  <tbody>\n",
       "    <tr>\n",
       "      <th>0</th>\n",
       "      <td>Brittany</td>\n",
       "      <td>sporting</td>\n",
       "      <td>22589</td>\n",
       "      <td>12.92</td>\n",
       "      <td>medium</td>\n",
       "      <td>35.0</td>\n",
       "      <td>19.0</td>\n",
       "    </tr>\n",
       "    <tr>\n",
       "      <th>1</th>\n",
       "      <td>Cairn Terrier</td>\n",
       "      <td>terrier</td>\n",
       "      <td>21992</td>\n",
       "      <td>13.84</td>\n",
       "      <td>small</td>\n",
       "      <td>14.0</td>\n",
       "      <td>10.0</td>\n",
       "    </tr>\n",
       "    <tr>\n",
       "      <th>2</th>\n",
       "      <td>English Cocker Spaniel</td>\n",
       "      <td>sporting</td>\n",
       "      <td>18993</td>\n",
       "      <td>11.66</td>\n",
       "      <td>medium</td>\n",
       "      <td>30.0</td>\n",
       "      <td>16.0</td>\n",
       "    </tr>\n",
       "    <tr>\n",
       "      <th>3</th>\n",
       "      <td>Cocker Spaniel</td>\n",
       "      <td>sporting</td>\n",
       "      <td>24330</td>\n",
       "      <td>12.50</td>\n",
       "      <td>small</td>\n",
       "      <td>25.0</td>\n",
       "      <td>14.5</td>\n",
       "    </tr>\n",
       "    <tr>\n",
       "      <th>...</th>\n",
       "      <td>...</td>\n",
       "      <td>...</td>\n",
       "      <td>...</td>\n",
       "      <td>...</td>\n",
       "      <td>...</td>\n",
       "      <td>...</td>\n",
       "      <td>...</td>\n",
       "    </tr>\n",
       "    <tr>\n",
       "      <th>39</th>\n",
       "      <td>Bloodhound</td>\n",
       "      <td>hound</td>\n",
       "      <td>13824</td>\n",
       "      <td>6.75</td>\n",
       "      <td>large</td>\n",
       "      <td>85.0</td>\n",
       "      <td>25.0</td>\n",
       "    </tr>\n",
       "    <tr>\n",
       "      <th>40</th>\n",
       "      <td>Bullmastiff</td>\n",
       "      <td>working</td>\n",
       "      <td>13936</td>\n",
       "      <td>7.57</td>\n",
       "      <td>large</td>\n",
       "      <td>115.0</td>\n",
       "      <td>25.5</td>\n",
       "    </tr>\n",
       "    <tr>\n",
       "      <th>41</th>\n",
       "      <td>Mastiff</td>\n",
       "      <td>working</td>\n",
       "      <td>13581</td>\n",
       "      <td>6.50</td>\n",
       "      <td>large</td>\n",
       "      <td>175.0</td>\n",
       "      <td>30.0</td>\n",
       "    </tr>\n",
       "    <tr>\n",
       "      <th>42</th>\n",
       "      <td>Saint Bernard</td>\n",
       "      <td>working</td>\n",
       "      <td>20022</td>\n",
       "      <td>7.78</td>\n",
       "      <td>large</td>\n",
       "      <td>155.0</td>\n",
       "      <td>26.5</td>\n",
       "    </tr>\n",
       "  </tbody>\n",
       "</table>\n",
       "<p>43 rows × 7 columns</p>\n",
       "</div>"
      ],
      "text/plain": [
       "                     breed      kind  lifetime_cost  longevity    size  \\\n",
       "0                 Brittany  sporting          22589      12.92  medium   \n",
       "1            Cairn Terrier   terrier          21992      13.84   small   \n",
       "2   English Cocker Spaniel  sporting          18993      11.66  medium   \n",
       "3           Cocker Spaniel  sporting          24330      12.50   small   \n",
       "..                     ...       ...            ...        ...     ...   \n",
       "39              Bloodhound     hound          13824       6.75   large   \n",
       "40             Bullmastiff   working          13936       7.57   large   \n",
       "41                 Mastiff   working          13581       6.50   large   \n",
       "42           Saint Bernard   working          20022       7.78   large   \n",
       "\n",
       "    weight  height  \n",
       "0     35.0    19.0  \n",
       "1     14.0    10.0  \n",
       "2     30.0    16.0  \n",
       "3     25.0    14.5  \n",
       "..     ...     ...  \n",
       "39    85.0    25.0  \n",
       "40   115.0    25.5  \n",
       "41   175.0    30.0  \n",
       "42   155.0    26.5  \n",
       "\n",
       "[43 rows x 7 columns]"
      ]
     },
     "execution_count": 92,
     "metadata": {},
     "output_type": "execute_result"
    }
   ],
   "source": [
    "dogs = pd.read_csv('data/dogs43.csv', dtype={'lifetime_cost': int})\n",
    "dogs"
   ]
  },
  {
   "cell_type": "code",
   "execution_count": 93,
   "id": "d8ae92f0",
   "metadata": {},
   "outputs": [
    {
     "data": {
      "text/plain": [
       "breed             object\n",
       "kind              object\n",
       "lifetime_cost      int64\n",
       "longevity        float64\n",
       "size              object\n",
       "weight           float64\n",
       "height           float64\n",
       "dtype: object"
      ]
     },
     "execution_count": 93,
     "metadata": {},
     "output_type": "execute_result"
    }
   ],
   "source": [
    "dogs.dtypes"
   ]
  },
  {
   "cell_type": "markdown",
   "id": "d52afb2d",
   "metadata": {},
   "source": [
    "## Putting it all together\n",
    "\n",
    "Talk to your neighbor about a dog breed that you personally like or know the name of. Then, try to find a few other dog breeds that are similar in weight to yours in `all_dogs`. Which similar breeds have the lowest and highest `lifetime_cost`? `intelligence_rank`? Are there any similar breeds that you haven't heard of before?\n",
    "\n",
    "As a bonus, look up these dog breeds on the [AKC website](https://www.akc.org/) to see how they look!"
   ]
  },
  {
   "cell_type": "code",
   "execution_count": 97,
   "id": "60807fe7",
   "metadata": {},
   "outputs": [
    {
     "data": {
      "text/html": [
       "<div>\n",
       "<style scoped>\n",
       "    .dataframe tbody tr th:only-of-type {\n",
       "        vertical-align: middle;\n",
       "    }\n",
       "\n",
       "    .dataframe tbody tr th {\n",
       "        vertical-align: top;\n",
       "    }\n",
       "\n",
       "    .dataframe thead th {\n",
       "        text-align: right;\n",
       "    }\n",
       "</style>\n",
       "<table border=\"1\" class=\"dataframe\">\n",
       "  <thead>\n",
       "    <tr style=\"text-align: right;\">\n",
       "      <th></th>\n",
       "      <th>breed</th>\n",
       "      <th>group</th>\n",
       "      <th>datadog</th>\n",
       "      <th>popularity_all</th>\n",
       "      <th>...</th>\n",
       "      <th>megarank</th>\n",
       "      <th>size</th>\n",
       "      <th>weight</th>\n",
       "      <th>height</th>\n",
       "    </tr>\n",
       "  </thead>\n",
       "  <tbody>\n",
       "    <tr>\n",
       "      <th>0</th>\n",
       "      <td>Border Collie</td>\n",
       "      <td>herding</td>\n",
       "      <td>3.64</td>\n",
       "      <td>45</td>\n",
       "      <td>...</td>\n",
       "      <td>29.0</td>\n",
       "      <td>medium</td>\n",
       "      <td>NaN</td>\n",
       "      <td>20.0</td>\n",
       "    </tr>\n",
       "    <tr>\n",
       "      <th>1</th>\n",
       "      <td>Border Terrier</td>\n",
       "      <td>terrier</td>\n",
       "      <td>3.61</td>\n",
       "      <td>80</td>\n",
       "      <td>...</td>\n",
       "      <td>1.0</td>\n",
       "      <td>small</td>\n",
       "      <td>13.5</td>\n",
       "      <td>NaN</td>\n",
       "    </tr>\n",
       "    <tr>\n",
       "      <th>2</th>\n",
       "      <td>Brittany</td>\n",
       "      <td>sporting</td>\n",
       "      <td>3.54</td>\n",
       "      <td>30</td>\n",
       "      <td>...</td>\n",
       "      <td>11.0</td>\n",
       "      <td>medium</td>\n",
       "      <td>35.0</td>\n",
       "      <td>19.0</td>\n",
       "    </tr>\n",
       "    <tr>\n",
       "      <th>3</th>\n",
       "      <td>Cairn Terrier</td>\n",
       "      <td>terrier</td>\n",
       "      <td>3.53</td>\n",
       "      <td>59</td>\n",
       "      <td>...</td>\n",
       "      <td>2.0</td>\n",
       "      <td>small</td>\n",
       "      <td>14.0</td>\n",
       "      <td>10.0</td>\n",
       "    </tr>\n",
       "    <tr>\n",
       "      <th>...</th>\n",
       "      <td>...</td>\n",
       "      <td>...</td>\n",
       "      <td>...</td>\n",
       "      <td>...</td>\n",
       "      <td>...</td>\n",
       "      <td>...</td>\n",
       "      <td>...</td>\n",
       "      <td>...</td>\n",
       "      <td>...</td>\n",
       "    </tr>\n",
       "    <tr>\n",
       "      <th>168</th>\n",
       "      <td>Welsh Terrier</td>\n",
       "      <td>terrier</td>\n",
       "      <td>NaN</td>\n",
       "      <td>99</td>\n",
       "      <td>...</td>\n",
       "      <td>NaN</td>\n",
       "      <td>small</td>\n",
       "      <td>20.0</td>\n",
       "      <td>15.0</td>\n",
       "    </tr>\n",
       "    <tr>\n",
       "      <th>169</th>\n",
       "      <td>Wire Fox Terrier</td>\n",
       "      <td>terrier</td>\n",
       "      <td>NaN</td>\n",
       "      <td>100</td>\n",
       "      <td>...</td>\n",
       "      <td>NaN</td>\n",
       "      <td>small</td>\n",
       "      <td>17.5</td>\n",
       "      <td>15.0</td>\n",
       "    </tr>\n",
       "    <tr>\n",
       "      <th>170</th>\n",
       "      <td>Wirehaired Pointing Griffon</td>\n",
       "      <td>sporting</td>\n",
       "      <td>NaN</td>\n",
       "      <td>92</td>\n",
       "      <td>...</td>\n",
       "      <td>NaN</td>\n",
       "      <td>medium</td>\n",
       "      <td>NaN</td>\n",
       "      <td>22.0</td>\n",
       "    </tr>\n",
       "    <tr>\n",
       "      <th>171</th>\n",
       "      <td>Xoloitzcuintli</td>\n",
       "      <td>non-sporting</td>\n",
       "      <td>NaN</td>\n",
       "      <td>155</td>\n",
       "      <td>...</td>\n",
       "      <td>NaN</td>\n",
       "      <td>medium</td>\n",
       "      <td>NaN</td>\n",
       "      <td>16.5</td>\n",
       "    </tr>\n",
       "  </tbody>\n",
       "</table>\n",
       "<p>172 rows × 18 columns</p>\n",
       "</div>"
      ],
      "text/plain": [
       "                           breed         group  datadog  popularity_all  ...  \\\n",
       "0                  Border Collie       herding     3.64              45  ...   \n",
       "1                 Border Terrier       terrier     3.61              80  ...   \n",
       "2                       Brittany      sporting     3.54              30  ...   \n",
       "3                  Cairn Terrier       terrier     3.53              59  ...   \n",
       "..                           ...           ...      ...             ...  ...   \n",
       "168                Welsh Terrier       terrier      NaN              99  ...   \n",
       "169             Wire Fox Terrier       terrier      NaN             100  ...   \n",
       "170  Wirehaired Pointing Griffon      sporting      NaN              92  ...   \n",
       "171               Xoloitzcuintli  non-sporting      NaN             155  ...   \n",
       "\n",
       "     megarank    size  weight  height  \n",
       "0        29.0  medium     NaN    20.0  \n",
       "1         1.0   small    13.5     NaN  \n",
       "2        11.0  medium    35.0    19.0  \n",
       "3         2.0   small    14.0    10.0  \n",
       "..        ...     ...     ...     ...  \n",
       "168       NaN   small    20.0    15.0  \n",
       "169       NaN   small    17.5    15.0  \n",
       "170       NaN  medium     NaN    22.0  \n",
       "171       NaN  medium     NaN    16.5  \n",
       "\n",
       "[172 rows x 18 columns]"
      ]
     },
     "execution_count": 97,
     "metadata": {},
     "output_type": "execute_result"
    }
   ],
   "source": [
    "all_dogs"
   ]
  },
  {
   "cell_type": "markdown",
   "id": "78158504",
   "metadata": {
    "slideshow": {
     "slide_type": "slide"
    },
    "tags": []
   },
   "source": [
    "## Summary, next time"
   ]
  },
  {
   "cell_type": "markdown",
   "id": "b89b6ab7",
   "metadata": {
    "slideshow": {
     "slide_type": "slide"
    },
    "tags": []
   },
   "source": [
    "### Summary\n",
    "\n",
    "- `pandas` is **the** library for tabular data manipulation in Python.\n",
    "- There are three key data structures in `pandas`: DataFrame, Series, and Index.\n",
    "- Refer to the lecture notebook and the [`pandas` documentation](https://pandas.pydata.org/docs/user_guide/index.html#user-guide) for tips.\n",
    "- `pandas` relies heavily on `numpy`. An understanding of how data types work in both will allow you to write more efficient and bug-free code.\n",
    "- Series and DataFrames share many methods (refer to the [`pandas` documentation](https://pandas.pydata.org/docs/user_guide/index.html#user-guide) for more details).\n",
    "- Most `pandas` methods return copies of Series/DataFrames. Be careful when using techniques that modify values in-place.\n",
    "- Next time: `groupby` and data granularity."
   ]
  }
 ],
 "metadata": {
  
  "kernelspec": {
   "display_name": "Python 3 (ipykernel)",
   "language": "python",
   "name": "python3"
  },
  "language_info": {
   "codemirror_mode": {
    "name": "ipython",
    "version": 3
   },
   "file_extension": ".py",
   "mimetype": "text/x-python",
   "name": "python",
   "nbconvert_exporter": "python",
   "pygments_lexer": "ipython3",
   "version": "3.8.18"
  },
  "livereveal": {
   "scroll": true
  },
  "rise": {
   "transition": "none"
  }
 },
 "nbformat": 4,
 "nbformat_minor": 5
}
