{
 "cells": [
  {
   "cell_type": "code",
   "execution_count": null,
   "id": "8c8a44b8",
   "metadata": {
    "slideshow": {
     "slide_type": "skip"
    }
   },
   "outputs": [],
   "source": [
    "import pandas as pd\n",
    "import numpy as np\n",
    "import matplotlib.pyplot as plt\n",
    "import seaborn as sns\n",
    "from matplotlib_inline.backend_inline import set_matplotlib_formats\n",
    "from IPython.display import display, IFrame\n",
    "\n",
    "set_matplotlib_formats(\"svg\")\n",
    "sns.set_context(\"poster\")\n",
    "sns.set_style(\"whitegrid\")\n",
    "plt.rcParams[\"figure.figsize\"] = (10, 5)\n",
    "pd.set_option(\"display.max_rows\", 8)\n",
    "pd.set_option(\"display.max_columns\", 8)\n",
    "pd.set_option(\"display.precision\", 2)"
   ]
  },
  {
   "cell_type": "markdown",
   "id": "ce9e66d9",
   "metadata": {
    "slideshow": {
     "slide_type": "slide"
    }
   },
   "source": [
    "# Lecture 5 – Exploring and Cleaning Data\n",
    "\n",
    "## DSC 80, Fall 2023"
   ]
  },
  {
   "cell_type": "markdown",
   "id": "22824200",
   "metadata": {
    "slideshow": {
     "slide_type": "slide"
    }
   },
   "source": [
    "## 📣 Announcements 📣\n",
    "\n",
    "- Project 1 due Wed!\n",
    "- Lab 3 out, due on Mon"
   ]
  },
  {
   "cell_type": "markdown",
   "id": "bd851d5b",
   "metadata": {
    "slideshow": {
     "slide_type": "slide"
    }
   },
   "source": [
    "## 📆 Agenda\n",
    "\n",
    "- [ ] Introduce dataset\n",
    "- [ ] Introduce `plotly`\n",
    "- [ ] Statistical vs. computational data types\n",
    "- [ ] Data cleaning\n",
    "    - [ ] Data quality checks\n",
    "    - [ ] Missing data\n",
    "    - [ ] Transformations and timestamps\n",
    "    - [ ] Modifying structure\n",
    "- [ ] Investigating student-submitted questions"
   ]
  },
  {
   "cell_type": "markdown",
   "id": "32f5d3b4",
   "metadata": {
    "slideshow": {
     "slide_type": "slide"
    }
   },
   "source": [
    "## San Diego Food Safety\n",
    "\n",
    "> In the last three years, one third of San Diego County restaurants have had at least one major food safety violation.\n",
    "\n",
    "https://inewsource.org/2023/02/09/san-diego-restaurants-food-safety-violations/\n",
    "\n",
    "(https://archive.ph/gz8BL)"
   ]
  },
  {
   "cell_type": "markdown",
   "id": "353a6782",
   "metadata": {
    "slideshow": {
     "slide_type": "slide"
    }
   },
   "source": [
    "### 99% Of San Diego Restaurants Earn ‘A' Grades, Bringing Usefulness of System Into Question\n",
    "\n",
    "> Food held at unsafe temperatures. Employees not washing their hands. Dirty countertops. Vermin in the kitchen. An expired restaurant permit.\n",
    "> \n",
    "> Restaurant inspectors for San Diego County found these violations during a routine health inspection of a diner in La Mesa in November 2016. Despite the violations, the restaurant was awarded a score of 90 out of 100, the lowest possible score to achieve an ‘A’ grade.\n",
    "\n",
    "https://www.nbcsandiego.com/news/local/99-of-san-diego-restaurants-earn-a-grades-bringing-usefulness-of-system-into-question/25381/\n",
    "\n",
    "(https://archive.ph/yB6RU)"
   ]
  },
  {
   "cell_type": "markdown",
   "id": "4ac10042",
   "metadata": {
    "slideshow": {
     "slide_type": "slide"
    }
   },
   "source": [
    "### The Data\n",
    "\n",
    "https://www.sandiegocounty.gov/content/sdc/deh/fhd/ffis/intro.html.html\n",
    "\n",
    "- Had to download the data as JSON, then process into dataframes (will cover in future weeks!)\n",
    "- Downloaded the 1000 restaurants closest to UCSD.\n"
   ]
  },
  {
   "cell_type": "code",
   "execution_count": null,
   "id": "4497b903",
   "metadata": {},
   "outputs": [],
   "source": [
    "rest = pd.read_csv('data/restaurants.csv')\n",
    "insp = pd.read_csv('data/inspections.csv')\n",
    "viol = pd.read_csv('data/violations.csv')"
   ]
  },
  {
   "cell_type": "markdown",
   "id": "c0c4cb57",
   "metadata": {
    "slideshow": {
     "slide_type": "slide"
    }
   },
   "source": [
    "### Understanding the Data\n",
    "\n",
    "![](imgs/ds-lifecycle.svg)"
   ]
  },
  {
   "cell_type": "markdown",
   "id": "f828d1e3",
   "metadata": {
    "slideshow": {
     "slide_type": "slide"
    }
   },
   "source": [
    "### Aside: Working with files\n",
    "\n",
    "- So far, all data came in CSV files that loaded without problem.\n",
    "- But many different formats and possible issues in loading in data!\n",
    "- See [Chapter 8 of Learning DS](https://learningds.org/ch/08/files_intro.html) for more."
   ]
  },
  {
   "cell_type": "markdown",
   "id": "57983d32",
   "metadata": {
    "slideshow": {
     "slide_type": "slide"
    }
   },
   "source": [
    "### You Try: Looking at the Data\n",
    "\n",
    "- The articles said that one third of restaurants had at least one major safety violation.\n",
    "- Which dataframes and columns seem most useful to verify this?"
   ]
  },
  {
   "cell_type": "code",
   "execution_count": null,
   "id": "ce9c1393",
   "metadata": {},
   "outputs": [],
   "source": [
    "# Fill me in"
   ]
  },
  {
   "cell_type": "markdown",
   "id": "60f270da",
   "metadata": {
    "slideshow": {
     "slide_type": "slide"
    }
   },
   "source": [
    "## Using `plotly` for Data Visualization\n",
    "\n",
    "I've used `plotly` before in class, but let's talk about it now.\n",
    "\n",
    "- Library for interactive data visualizations\n",
    "- Install with `conda install plotly`\n",
    "    - Discussion this week: why use `conda install` instead of `pip install`?"
   ]
  },
  {
   "cell_type": "markdown",
   "id": "1b3d9f3d",
   "metadata": {
    "slideshow": {
     "slide_type": "slide"
    }
   },
   "source": [
    "### `plotly.express` Syntax\n",
    "\n",
    "`plotly` is very flexible but can be verbose. We use `plotly.express` to make plots quickly.\n",
    "\n",
    "- Docs: https://plotly.com/python/plotly-express\n"
   ]
  },
  {
   "cell_type": "code",
   "execution_count": null,
   "id": "fd943f33",
   "metadata": {},
   "outputs": [],
   "source": [
    "# Will include this at the top of each notebook from now on.\n",
    "import plotly.express as px\n",
    "\n",
    "# DSC 80 preferred styles, but not necessary\n",
    "import plotly.graph_objects as go\n",
    "import plotly.io as pio\n",
    "pio.templates[\"dsc80\"] = go.layout.Template(\n",
    "    layout=dict(\n",
    "        margin=dict(l=30, r=30, t=30, b=30),\n",
    "        autosize=True,\n",
    "        width=600,\n",
    "        height=400,\n",
    "        xaxis=dict(showgrid=True),\n",
    "        yaxis=dict(showgrid=True),\n",
    "        title=dict(x=0.5, xanchor=\"center\"),\n",
    "    )\n",
    ")\n",
    "pio.templates.default = \"simple_white+dsc80\""
   ]
  },
  {
   "cell_type": "code",
   "execution_count": null,
   "id": "e74310df",
   "metadata": {},
   "outputs": [],
   "source": [
    "fig = px.histogram(insp['score'])\n",
    "fig"
   ]
  },
  {
   "cell_type": "code",
   "execution_count": null,
   "id": "ace9f95d",
   "metadata": {},
   "outputs": [],
   "source": [
    "scores = (\n",
    "    insp[['grade', 'score']]\n",
    "    .dropna()\n",
    "    .groupby('grade')\n",
    "    .mean()\n",
    "    .reset_index()\n",
    ")\n",
    "px.bar(scores, x='grade', y='score')"
   ]
  },
  {
   "cell_type": "markdown",
   "id": "c16546d9",
   "metadata": {},
   "source": [
    "## Feature Types"
   ]
  },
  {
   "cell_type": "markdown",
   "id": "0b41ad00",
   "metadata": {
    "slideshow": {
     "slide_type": "slide"
    }
   },
   "source": [
    "### Different Kinds of data\n",
    "\n",
    "<center><img src='imgs/data-types.png' width=90%></center>"
   ]
  },
  {
   "cell_type": "markdown",
   "id": "7d7696f2",
   "metadata": {
    "slideshow": {
     "slide_type": "slide"
    }
   },
   "source": [
    "### Discussion Question\n",
    "\n",
    "Determine the kind of each of the following variables:\n",
    "\n",
    "- `insp['score']`\n",
    "- `insp['grade']`\n",
    "- `viol['violation_accela']`\n",
    "- `viol['major_violation']`\n",
    "- `rest['business_id']`\n",
    "- `rest['opened_date']`"
   ]
  },
  {
   "cell_type": "markdown",
   "id": "c32888d7",
   "metadata": {
    "slideshow": {
     "slide_type": "slide"
    }
   },
   "source": [
    "### Feature types vs. data types\n",
    "\n",
    "- The data type `pandas` uses is not the same as the \"data type\" we talked about just now!\n",
    "    - Difference between feature type vs. computational data type.\n",
    "- Take care when the two don't match up very well!"
   ]
  },
  {
   "cell_type": "code",
   "execution_count": null,
   "id": "39dab3be",
   "metadata": {},
   "outputs": [],
   "source": [
    "# pandas stores as int, but actually nominal\n",
    "rest['business_id']"
   ]
  },
  {
   "cell_type": "code",
   "execution_count": null,
   "id": "7586f76d",
   "metadata": {},
   "outputs": [],
   "source": [
    "# pandas stores as string, but actually numeric\n",
    "rest['opened_date']"
   ]
  },
  {
   "cell_type": "markdown",
   "id": "31d7f482",
   "metadata": {
    "slideshow": {
     "slide_type": "slide"
    }
   },
   "source": [
    "## Data Cleaning: Quality Checks\n",
    "\n",
    "We often start an analysis by checking the quality of the data.\n",
    "\n",
    "- Scope: Do the data match your understanding of the population? \n",
    "- Measurements and values: Are the values reasonable?\n",
    "- Relationships: Are related features in agreement?\n",
    "- Analysis: Which features might be useful in a future analysis? "
   ]
  },
  {
   "cell_type": "markdown",
   "id": "6fdeb3ef",
   "metadata": {
    "slideshow": {
     "slide_type": "slide"
    }
   },
   "source": [
    "### Scope"
   ]
  },
  {
   "cell_type": "code",
   "execution_count": null,
   "id": "4ef21b6b",
   "metadata": {},
   "outputs": [],
   "source": [
    "rest.head(2)"
   ]
  },
  {
   "cell_type": "markdown",
   "id": "e1df0230",
   "metadata": {},
   "source": [
    "### Measurements and Values"
   ]
  },
  {
   "cell_type": "code",
   "execution_count": null,
   "id": "dce83dff",
   "metadata": {},
   "outputs": [],
   "source": [
    "insp['grade'].value_counts()"
   ]
  },
  {
   "cell_type": "code",
   "execution_count": null,
   "id": "a3206cb6",
   "metadata": {},
   "outputs": [],
   "source": [
    "insp.info()"
   ]
  },
  {
   "cell_type": "code",
   "execution_count": null,
   "id": "c6228b7f",
   "metadata": {},
   "outputs": [],
   "source": [
    "(rest[rest.duplicated(subset=['address'])]\n",
    " .sort_values('address')\n",
    ")"
   ]
  },
  {
   "cell_type": "markdown",
   "id": "f773936b",
   "metadata": {},
   "source": [
    "### Relationships"
   ]
  },
  {
   "cell_type": "code",
   "execution_count": null,
   "id": "e4895b26",
   "metadata": {},
   "outputs": [],
   "source": [
    "# Useful to check whether ZIP codes match!\n",
    "rest[['address', 'zip']]"
   ]
  },
  {
   "cell_type": "code",
   "execution_count": null,
   "id": "48fd4ed0",
   "metadata": {},
   "outputs": [],
   "source": [
    "insp[['score', 'grade']]"
   ]
  },
  {
   "cell_type": "markdown",
   "id": "baa7a3c2",
   "metadata": {
    "slideshow": {
     "slide_type": "slide"
    }
   },
   "source": [
    "### Analysis\n",
    "\n",
    "- Most interested in:\n",
    "    - `rest` df: `business_id`, `name`, `address`, `opened_date` from `rest`\n",
    "    - `insp` df: `business_id`, `inspection_id`, `score`, `grade`, `completed_date`, `status`\n",
    "    - `viol` df: `inspection_id`, `violation`, `major_violation`, `violation_text`, `violation_accela`\n",
    "- Also, let's rename a few columns to make them easier to work with."
   ]
  },
  {
   "cell_type": "markdown",
   "id": "26694343",
   "metadata": {
    "slideshow": {
     "slide_type": "slide"
    }
   },
   "source": [
    "### 💡 Pro-Tip: Using `pipe`\n",
    "\n",
    "When we manipulate dataframes, we prefer to define individual functions for each step, then use `df.pipe` to chain them all together.\n",
    "\n",
    "- In practice, we would add functions one by one to the top of a notebook, then `pipe` them all.\n",
    "- For today, will keep re-running `pipe` to show data cleaning process."
   ]
  },
  {
   "cell_type": "code",
   "execution_count": null,
   "id": "49cbc16e",
   "metadata": {},
   "outputs": [],
   "source": [
    "def subset_rest(rest):\n",
    "    return rest[['business_id', 'name', 'address', 'opened_date']]\n",
    "\n",
    "rest = (\n",
    "    pd.read_csv('data/restaurants.csv')\n",
    "    .pipe(subset_rest)\n",
    ")"
   ]
  },
  {
   "cell_type": "code",
   "execution_count": null,
   "id": "4a9e07d4",
   "metadata": {},
   "outputs": [],
   "source": [
    "def subset_insp(insp):\n",
    "    return (\n",
    "        insp[['business_id', 'inspection_id', 'score', 'grade', 'completed_date', 'status']]\n",
    "        .rename(columns={'completed_date': 'date'})\n",
    "    )\n",
    "\n",
    "insp = (\n",
    "    pd.read_csv('data/inspections.csv')\n",
    "    .pipe(subset_insp)\n",
    ")"
   ]
  },
  {
   "cell_type": "code",
   "execution_count": null,
   "id": "b5be8c9d",
   "metadata": {},
   "outputs": [],
   "source": [
    "def subset_viol(viol):\n",
    "    return (\n",
    "        viol[['inspection_id', 'violation', 'major_violation', 'violation_accela']]\n",
    "        .rename(columns={'violation': 'kind',\n",
    "                         'major_violation': 'is_major',\n",
    "                         'violation_accela': 'violation'})\n",
    "    )\n",
    "\n",
    "viol = (\n",
    "    pd.read_csv('data/violations.csv')\n",
    "    .pipe(subset_viol)\n",
    ")"
   ]
  },
  {
   "cell_type": "markdown",
   "id": "4e1fd7f8",
   "metadata": {
    "slideshow": {
     "slide_type": "slide"
    }
   },
   "source": [
    "### Joining the Restaurant Data\n",
    "\n",
    "Let's join all three dataframes together so that we have all the data in one dataframe:"
   ]
  },
  {
   "cell_type": "code",
   "execution_count": null,
   "id": "e31ca1bc",
   "metadata": {},
   "outputs": [],
   "source": [
    "def merge_all_restaurant_data():\n",
    "    return (\n",
    "        rest\n",
    "        .merge(insp, on='business_id', how='left')\n",
    "        .merge(viol, on='inspection_id', how='left')\n",
    "    )\n",
    "\n",
    "df = merge_all_restaurant_data()\n",
    "df"
   ]
  },
  {
   "cell_type": "markdown",
   "id": "7007e6ac",
   "metadata": {
    "slideshow": {
     "slide_type": "slide"
    }
   },
   "source": [
    "## Data Cleaning: Looking for Missing Values\n",
    "\n",
    "Next, it's important to check for missing values, as they can have a big effect on your analysis."
   ]
  },
  {
   "cell_type": "code",
   "execution_count": null,
   "id": "d8190fca",
   "metadata": {},
   "outputs": [],
   "source": [
    "insp[['score', 'grade']]"
   ]
  },
  {
   "cell_type": "code",
   "execution_count": null,
   "id": "08fdee4d",
   "metadata": {},
   "outputs": [],
   "source": [
    "df[df['inspection_id'].isna()]"
   ]
  },
  {
   "cell_type": "code",
   "execution_count": null,
   "id": "96398117",
   "metadata": {},
   "outputs": [],
   "source": [
    "df.query('score == 0')"
   ]
  },
  {
   "cell_type": "markdown",
   "id": "afddb353",
   "metadata": {},
   "source": [
    "Many ways of handling missing values which we'll go into soon, but you must check to see how many you have!"
   ]
  },
  {
   "cell_type": "markdown",
   "id": "7ce00205",
   "metadata": {
    "slideshow": {
     "slide_type": "slide"
    }
   },
   "source": [
    "## Data Cleaning: Transformations and Timestamps\n",
    "\n",
    "It's often useful to look at ways of transforming your data to make it easier to work with, for example:\n",
    "\n",
    "- Type conversions (changing the string `\"$2.99\"` to the number `2.99`).\n",
    "- Converting units (feet to meters)\n",
    "- Extraction (Getting `'vermin'` out of `'Vermin Violation Recorded on 10/10/2023'`).\n",
    "\n",
    "Most commonly, we'll parse dates into `pd.Timestamp` objects."
   ]
  },
  {
   "cell_type": "code",
   "execution_count": null,
   "id": "3adaa896",
   "metadata": {},
   "outputs": [],
   "source": [
    "# This magical string tells Python what format the date is in.\n",
    "# For more info: https://docs.python.org/3/library/datetime.html#strftime-and-strptime-behavior\n",
    "date_format = '%Y-%m-%d'\n",
    "\n",
    "pd.to_datetime(insp['date'], format=date_format)"
   ]
  },
  {
   "cell_type": "code",
   "execution_count": null,
   "id": "e54dee4d",
   "metadata": {
    "slideshow": {
     "slide_type": "slide"
    }
   },
   "outputs": [],
   "source": [
    "# Another advantage of defining functions is that we can reuse this function\n",
    "# for the opened_date column in `rest` if we wanted to\n",
    "def parse_dates(insp, col):\n",
    "    date_format = '%Y-%m-%d'\n",
    "    dates = pd.to_datetime(insp[col], format=date_format)\n",
    "    return insp.assign(**{col: dates})\n",
    "\n",
    "insp = (\n",
    "    pd.read_csv('data/inspections.csv')\n",
    "    .pipe(subset_insp)\n",
    "    .pipe(parse_dates, 'date')\n",
    ")\n",
    "\n",
    "# Should also remake df, since it depends on insp\n",
    "df = merge_all_restaurant_data()"
   ]
  },
  {
   "cell_type": "code",
   "execution_count": null,
   "id": "8f62bf1d",
   "metadata": {},
   "outputs": [],
   "source": [
    "insp['date']"
   ]
  },
  {
   "cell_type": "markdown",
   "id": "dbb9739b",
   "metadata": {},
   "source": [
    "### Working with Timestamps\n",
    "\n",
    "- We often want to adjust granularity of timestamps to see overall trends, or seasonality.\n",
    "- Use the `resample` method in `pandas`.\n",
    "- https://pandas.pydata.org/pandas-docs/stable/user_guide/timeseries.html#dateoffset-objects"
   ]
  },
  {
   "cell_type": "code",
   "execution_count": null,
   "id": "02d55148",
   "metadata": {},
   "outputs": [],
   "source": [
    "(insp.resample('2W', on='date')\n",
    " .size()\n",
    " .plot()\n",
    ");"
   ]
  },
  {
   "cell_type": "markdown",
   "id": "622796b4",
   "metadata": {
    "slideshow": {
     "slide_type": "slide"
    }
   },
   "source": [
    "### The `.dt` accessor\n",
    "\n",
    "- Like with Series of strings, `pandas` has a `.dt` accessor for properties of Timestamps.\n",
    "- https://pandas.pydata.org/docs/user_guide/basics.html#basics-dt-accessors"
   ]
  },
  {
   "cell_type": "code",
   "execution_count": null,
   "id": "14818dc0",
   "metadata": {
    "slideshow": {
     "slide_type": ""
    }
   },
   "outputs": [],
   "source": [
    "insp['date'].dt.day"
   ]
  },
  {
   "cell_type": "code",
   "execution_count": null,
   "id": "71848903",
   "metadata": {
    "slideshow": {
     "slide_type": ""
    }
   },
   "outputs": [],
   "source": [
    "insp['date'].dt.dayofweek"
   ]
  },
  {
   "cell_type": "code",
   "execution_count": null,
   "id": "6b6ae178",
   "metadata": {
    "slideshow": {
     "slide_type": ""
    }
   },
   "outputs": [],
   "source": [
    "dow_counts = (\n",
    "    insp.assign(dow=insp['date'].dt.dayofweek)\n",
    "    .groupby('dow')\n",
    "    .size()\n",
    ")\n",
    "px.bar(dow_counts)"
   ]
  },
  {
   "cell_type": "markdown",
   "id": "df7ddb97",
   "metadata": {
    "slideshow": {
     "slide_type": "slide"
    }
   },
   "source": [
    "## Data Cleaning: Modifying Structure\n",
    "\n",
    "We often reshape the dataframe's structure to make it more convenient for analysis. For example, we can:\n",
    "\n",
    "- Simplify structure by removing columns or taking a set of rows for a particular period of time or geographic area.\n",
    "    - Already did this!\n",
    "- Adjust granularity by aggregating rows together.\n",
    "- Reshape structure, most commonly by using `df.melt()` to un-pivot a dataframe."
   ]
  },
  {
   "cell_type": "markdown",
   "id": "4a6e99cf",
   "metadata": {
    "slideshow": {
     "slide_type": "slide"
    }
   },
   "source": [
    "### Using `melt`\n",
    "\n",
    "- `melt()` is common enough that we'll give it a special mention.\n",
    "- Often encounter pivot tables (esp from government data), which we call *wide* data, and we want to reshape into *long* form:\n",
    "\n",
    "<center><img src='imgs/wide-vs-long.svg' width=40%></center>\n",
    "\n",
    "- With long-form data, we can group by both year and month. Hard to do that with the wide-form data!\n",
    "- Long-form data is also called *tidy* data."
   ]
  },
  {
   "cell_type": "markdown",
   "id": "a694dc36",
   "metadata": {
    "slideshow": {
     "slide_type": "slide"
    }
   },
   "source": [
    "## Student-Submitted Questions\n",
    "\n",
    "- Come up with a question or two that you want to answer with the data.\n",
    "    - E.g. \"What are the most common violations around UCSD?\"\n",
    "- I will (attempt to) answer them live and explain as we go!\n",
    "- Will go until no more questions or we run out of time.\n",
    "- https://wall.sli.do/event/g2dESFa2co9kwmUwqfuCNL?section=e82e38eb-254e-4eb9-9de3-341347c52119"
   ]
  },
  {
   "cell_type": "markdown",
   "id": "72848334",
   "metadata": {},
   "source": [
    "### Fill this in with student questions\n",
    "\n",
    "..."
   ]
  },
  {
   "cell_type": "markdown",
   "id": "a3b25459",
   "metadata": {
    "slideshow": {
     "slide_type": "slide"
    }
   },
   "source": [
    "### Example question: What are the most common violations?"
   ]
  },
  {
   "cell_type": "code",
   "execution_count": null,
   "id": "398f1439",
   "metadata": {},
   "outputs": [],
   "source": [
    "fig = px.bar(\n",
    "    viol['kind'].value_counts().sort_values(),\n",
    "    orientation='h'\n",
    ")\n",
    "fig.update_layout(width=1000, height=800)"
   ]
  },
  {
   "cell_type": "markdown",
   "id": "02dd620d",
   "metadata": {},
   "source": [
    "## Takeaways\n",
    "\n",
    "- Data cleaning is a necessary starting step in data analysis. 4 main things to watch out for:\n",
    "    - Quality checks\n",
    "    - Missing values\n",
    "    - Transformations and timestamps\n",
    "    - Modifying structure"
   ]
  }
 ],
 "metadata": {
  "kernelspec": {
   "display_name": "Python 3 (ipykernel)",
   "language": "python",
   "name": "python3"
  },
  "language_info": {
   "codemirror_mode": {
    "name": "ipython",
    "version": 3
   },
   "file_extension": ".py",
   "mimetype": "text/x-python",
   "name": "python",
   "nbconvert_exporter": "python",
   "pygments_lexer": "ipython3",
   "version": "3.8.18"
  }
 },
 "nbformat": 4,
 "nbformat_minor": 5
}
