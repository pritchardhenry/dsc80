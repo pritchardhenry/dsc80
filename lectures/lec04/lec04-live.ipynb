{
 "cells": [
  {
   "cell_type": "code",
   "execution_count": 2,
   "id": "8c8a44b8",
   "metadata": {
    "slideshow": {
     "slide_type": "skip"
    }
   },
   "outputs": [
    {
     "data": {
      "text/html": [
       "\n",
       "<script type=\"text/javascript\" src=\"https://pandastutor.com/build/wsembed.bundle.2022-07-07-release.js\"></script>\n",
       "<script>\n",
       "console.log(\"initializing pandas_tutor js\")\n",
       "\n",
       "function drawWsv(viz_id, spec, options) {\n",
       "  if (typeof createWsvFromPandasTrace === 'undefined') {\n",
       "    setTimeout(() => drawWsv(viz_id, spec, options), 2000) // retry in 2 seconds\n",
       "    return\n",
       "  }\n",
       "  createWsvFromPandasTrace(viz_id, spec, options)\n",
       "}\n",
       "</script>\n"
      ],
      "text/plain": [
       "<IPython.core.display.HTML object>"
      ]
     },
     "metadata": {},
     "output_type": "display_data"
    }
   ],
   "source": [
    "import pandas as pd\n",
    "import numpy as np\n",
    "import matplotlib.pyplot as plt\n",
    "import seaborn as sns\n",
    "from matplotlib_inline.backend_inline import set_matplotlib_formats\n",
    "from IPython.display import display, IFrame\n",
    "\n",
    "# Pandas Tutor setup\n",
    "%reload_ext pandas_tutor\n",
    "%set_pandas_tutor_options {\"maxDisplayCols\": 8, \"nohover\": True, \"projectorMode\": True}\n",
    "\n",
    "set_matplotlib_formats(\"svg\")\n",
    "sns.set_context(\"poster\")\n",
    "sns.set_style(\"whitegrid\")\n",
    "plt.rcParams[\"figure.figsize\"] = (10, 5)\n",
    "pd.set_option(\"display.max_rows\", 8)\n",
    "pd.set_option(\"display.max_columns\", 8)\n",
    "pd.set_option(\"display.precision\", 2)\n",
    "\n",
    "def show_paradox_slides():\n",
    "    src = 'https://docs.google.com/presentation/d/e/2PACX-1vSbFSaxaYZ0NcgrgqZLvjhkjX-5MQzAITWAsEFZHnix3j1c0qN8Vd1rogTAQP7F7Nf5r-JWExnGey7h/embed?start=false'\n",
    "    width = 960\n",
    "    height = 569\n",
    "    display(IFrame(src, width, height))"
   ]
  },
  {
   "cell_type": "markdown",
   "id": "ce9e66d9",
   "metadata": {
    "slideshow": {
     "slide_type": "slide"
    }
   },
   "source": [
    "# Lecture 4 – Simpson's Paradox, Joining, Transforming\n",
    "\n",
    "## DSC 80, Fall 2023"
   ]
  },
  {
   "cell_type": "markdown",
   "id": "22824200",
   "metadata": {
    "slideshow": {
     "slide_type": "slide"
    }
   },
   "source": [
    "## 📣 Announcements 📣\n",
    "\n",
    "- Good job going to the right lecture room!\n",
    "    - Discussion in Center 115.\n",
    "- 20 extra seats opened, everyone on waitlist should get in tomorrow!\n",
    "- Lab 2 due Monday.\n",
    "- Project 1 due next Wed."
   ]
  },
  {
   "cell_type": "markdown",
   "id": "c6571560",
   "metadata": {
    "slideshow": {
     "slide_type": "slide"
    }
   },
   "source": [
    "## Clarification about `for` loops\n",
    "\n",
    "- We've said that `for` loops are bad, and we should avoid them.\n",
    "    - Then you had to use them a lot for Lab 1 and Project 1, what gives?\n",
    "- Usually, using a `for` loop to iterate through individual values of a dataframe is slow.\n",
    "    - Prefer to use filtering, grouping, etc.\n",
    "    - But `for` loops are still the best way to iterate over Python values (e.g. a dictionary).\n",
    "- **On assignments, we won't take off points for using `for` loops unless explicitly stated in the question.**"
   ]
  },
  {
   "cell_type": "markdown",
   "id": "8508a69b",
   "metadata": {
    "slideshow": {
     "slide_type": "slide"
    }
   },
   "source": [
    "## Review: Distributions"
   ]
  },
  {
   "cell_type": "code",
   "execution_count": 3,
   "id": "0831a426",
   "metadata": {},
   "outputs": [],
   "source": [
    "penguins = sns.load_dataset('penguins').dropna()"
   ]
  },
  {
   "cell_type": "markdown",
   "id": "244a4c6f",
   "metadata": {
    "slideshow": {
     "slide_type": "slide"
    }
   },
   "source": [
    "### Joint distribution\n",
    "\n",
    "When using `aggfunc='count'`, a pivot table describes the **joint distribution** of two categorical variables. This is also called a **contingency table**."
   ]
  },
  {
   "cell_type": "code",
   "execution_count": 4,
   "id": "657cb701",
   "metadata": {},
   "outputs": [
    {
     "data": {
      "text/html": [
       "<div>\n",
       "<style scoped>\n",
       "    .dataframe tbody tr th:only-of-type {\n",
       "        vertical-align: middle;\n",
       "    }\n",
       "\n",
       "    .dataframe tbody tr th {\n",
       "        vertical-align: top;\n",
       "    }\n",
       "\n",
       "    .dataframe thead th {\n",
       "        text-align: right;\n",
       "    }\n",
       "</style>\n",
       "<table border=\"1\" class=\"dataframe\">\n",
       "  <thead>\n",
       "    <tr style=\"text-align: right;\">\n",
       "      <th>sex</th>\n",
       "      <th>Female</th>\n",
       "      <th>Male</th>\n",
       "    </tr>\n",
       "    <tr>\n",
       "      <th>species</th>\n",
       "      <th></th>\n",
       "      <th></th>\n",
       "    </tr>\n",
       "  </thead>\n",
       "  <tbody>\n",
       "    <tr>\n",
       "      <th>Adelie</th>\n",
       "      <td>73</td>\n",
       "      <td>73</td>\n",
       "    </tr>\n",
       "    <tr>\n",
       "      <th>Chinstrap</th>\n",
       "      <td>34</td>\n",
       "      <td>34</td>\n",
       "    </tr>\n",
       "    <tr>\n",
       "      <th>Gentoo</th>\n",
       "      <td>58</td>\n",
       "      <td>61</td>\n",
       "    </tr>\n",
       "  </tbody>\n",
       "</table>\n",
       "</div>"
      ],
      "text/plain": [
       "sex        Female  Male\n",
       "species                \n",
       "Adelie         73    73\n",
       "Chinstrap      34    34\n",
       "Gentoo         58    61"
      ]
     },
     "execution_count": 4,
     "metadata": {},
     "output_type": "execute_result"
    }
   ],
   "source": [
    "counts = penguins.pivot_table(\n",
    "    index='species', \n",
    "    columns='sex', \n",
    "    values='body_mass_g', \n",
    "    aggfunc='count', \n",
    "    fill_value=0\n",
    ")\n",
    "counts"
   ]
  },
  {
   "cell_type": "markdown",
   "id": "24d57747",
   "metadata": {
    "slideshow": {
     "slide_type": "slide"
    }
   },
   "source": [
    "### Discussion question:\n",
    "\n",
    "Suppose we draw one penguin from `penguins` at random. Compute the following probabilities:\n",
    "\n",
    "1. P(Adelie | Female)\n",
    "1. P(Female | Adelie)\n",
    "1. P(Male)\n",
    "1. P(Chinstrap ⋂ Male)"
   ]
  },
  {
   "cell_type": "code",
   "execution_count": 5,
   "id": "562be8d0",
   "metadata": {},
   "outputs": [
    {
     "data": {
      "text/html": [
       "<div>\n",
       "<style scoped>\n",
       "    .dataframe tbody tr th:only-of-type {\n",
       "        vertical-align: middle;\n",
       "    }\n",
       "\n",
       "    .dataframe tbody tr th {\n",
       "        vertical-align: top;\n",
       "    }\n",
       "\n",
       "    .dataframe thead th {\n",
       "        text-align: right;\n",
       "    }\n",
       "</style>\n",
       "<table border=\"1\" class=\"dataframe\">\n",
       "  <thead>\n",
       "    <tr style=\"text-align: right;\">\n",
       "      <th>sex</th>\n",
       "      <th>Female</th>\n",
       "      <th>Male</th>\n",
       "    </tr>\n",
       "    <tr>\n",
       "      <th>species</th>\n",
       "      <th></th>\n",
       "      <th></th>\n",
       "    </tr>\n",
       "  </thead>\n",
       "  <tbody>\n",
       "    <tr>\n",
       "      <th>Adelie</th>\n",
       "      <td>73</td>\n",
       "      <td>73</td>\n",
       "    </tr>\n",
       "    <tr>\n",
       "      <th>Chinstrap</th>\n",
       "      <td>34</td>\n",
       "      <td>34</td>\n",
       "    </tr>\n",
       "    <tr>\n",
       "      <th>Gentoo</th>\n",
       "      <td>58</td>\n",
       "      <td>61</td>\n",
       "    </tr>\n",
       "  </tbody>\n",
       "</table>\n",
       "</div>"
      ],
      "text/plain": [
       "sex        Female  Male\n",
       "species                \n",
       "Adelie         73    73\n",
       "Chinstrap      34    34\n",
       "Gentoo         58    61"
      ]
     },
     "execution_count": 5,
     "metadata": {},
     "output_type": "execute_result"
    }
   ],
   "source": [
    "counts"
   ]
  },
  {
   "cell_type": "code",
   "execution_count": 9,
   "id": "7bda4de9",
   "metadata": {},
   "outputs": [
    {
     "data": {
      "text/plain": [
       "0.1021021021021021"
      ]
     },
     "execution_count": 9,
     "metadata": {},
     "output_type": "execute_result"
    }
   ],
   "source": [
    "# Compute your answers here\n",
    "# 1\n",
    "73 / (73 + 34 + 58)\n",
    "73 / (73 + 73)\n",
    "(73 + 34 + 61) / (73 + 34 + 61 + 73 + 34 + 58)\n",
    "34 / (73 + 34 + 61 + 73 + 34 + 58)"
   ]
  },
  {
   "cell_type": "markdown",
   "id": "4ee6c875",
   "metadata": {
    "slideshow": {
     "slide_type": "slide"
    }
   },
   "source": [
    "## Simpson's paradox\n",
    "\n",
    "<center><img src=\"imgs/simpsons.png\" width=50%></center>"
   ]
  },
  {
   "cell_type": "markdown",
   "id": "a8a330c7",
   "metadata": {
    "slideshow": {
     "slide_type": "slide"
    }
   },
   "source": [
    "### Example: Grades\n",
    "\n",
    "- Two students, Lisa and Bart, just finished freshman year. They both took a different number of classes in Fall, Winter, and Spring.\n",
    "\n",
    "- Each quarter, Lisa had a higher GPA than Bart.\n",
    "\n",
    "- But Bart has a higher overall GPA.\n",
    "\n",
    "- How is this possible? 🤔"
   ]
  },
  {
   "cell_type": "markdown",
   "id": "ef31642c",
   "metadata": {
    "slideshow": {
     "slide_type": "slide"
    }
   },
   "source": [
    "Run this cell to create DataFrames that contain each students' grades."
   ]
  },
  {
   "cell_type": "code",
   "execution_count": 10,
   "id": "f859a42e",
   "metadata": {},
   "outputs": [],
   "source": [
    "lisa = pd.DataFrame([[20, 46], [18, 54], [5, 20]],\n",
    "    columns=['Units', 'Grade Points Earned'], \n",
    "    index=['Fall', 'Winter', 'Spring'],\n",
    ")\n",
    "\n",
    "bart = pd.DataFrame([[5, 10], [5, 13.5], [22, 81.4]],\n",
    "    columns=['Units', 'Grade Points Earned'], \n",
    "    index=['Fall', 'Winter', 'Spring'],\n",
    ")"
   ]
  },
  {
   "cell_type": "markdown",
   "id": "778dc50b",
   "metadata": {
    "slideshow": {
     "slide_type": "slide"
    }
   },
   "source": [
    "### Quarter-specific vs. overall GPAs\n",
    "\n",
    "**Note:** The number of \"grade points\" earned for a course is\n",
    "\n",
    "$$\\text{number of units} \\cdot \\text{grade (out of 4)}$$\n",
    "\n",
    "For instance, an A- in a 4 unit course earns $3.7 \\cdot 4 = 14.8$ grade points."
   ]
  },
  {
   "cell_type": "code",
   "execution_count": 11,
   "id": "f87166f7",
   "metadata": {},
   "outputs": [
    {
     "data": {
      "text/html": [
       "<div>\n",
       "<style scoped>\n",
       "    .dataframe tbody tr th:only-of-type {\n",
       "        vertical-align: middle;\n",
       "    }\n",
       "\n",
       "    .dataframe tbody tr th {\n",
       "        vertical-align: top;\n",
       "    }\n",
       "\n",
       "    .dataframe thead th {\n",
       "        text-align: right;\n",
       "    }\n",
       "</style>\n",
       "<table border=\"1\" class=\"dataframe\">\n",
       "  <thead>\n",
       "    <tr style=\"text-align: right;\">\n",
       "      <th></th>\n",
       "      <th>Units</th>\n",
       "      <th>Grade Points Earned</th>\n",
       "    </tr>\n",
       "  </thead>\n",
       "  <tbody>\n",
       "    <tr>\n",
       "      <th>Fall</th>\n",
       "      <td>20</td>\n",
       "      <td>46</td>\n",
       "    </tr>\n",
       "    <tr>\n",
       "      <th>Winter</th>\n",
       "      <td>18</td>\n",
       "      <td>54</td>\n",
       "    </tr>\n",
       "    <tr>\n",
       "      <th>Spring</th>\n",
       "      <td>5</td>\n",
       "      <td>20</td>\n",
       "    </tr>\n",
       "  </tbody>\n",
       "</table>\n",
       "</div>"
      ],
      "text/plain": [
       "        Units  Grade Points Earned\n",
       "Fall       20                   46\n",
       "Winter     18                   54\n",
       "Spring      5                   20"
      ]
     },
     "execution_count": 11,
     "metadata": {},
     "output_type": "execute_result"
    }
   ],
   "source": [
    "lisa"
   ]
  },
  {
   "cell_type": "code",
   "execution_count": 12,
   "id": "78a11ed3",
   "metadata": {},
   "outputs": [
    {
     "data": {
      "text/html": [
       "<div>\n",
       "<style scoped>\n",
       "    .dataframe tbody tr th:only-of-type {\n",
       "        vertical-align: middle;\n",
       "    }\n",
       "\n",
       "    .dataframe tbody tr th {\n",
       "        vertical-align: top;\n",
       "    }\n",
       "\n",
       "    .dataframe thead th {\n",
       "        text-align: right;\n",
       "    }\n",
       "</style>\n",
       "<table border=\"1\" class=\"dataframe\">\n",
       "  <thead>\n",
       "    <tr style=\"text-align: right;\">\n",
       "      <th></th>\n",
       "      <th>Units</th>\n",
       "      <th>Grade Points Earned</th>\n",
       "    </tr>\n",
       "  </thead>\n",
       "  <tbody>\n",
       "    <tr>\n",
       "      <th>Fall</th>\n",
       "      <td>5</td>\n",
       "      <td>10.0</td>\n",
       "    </tr>\n",
       "    <tr>\n",
       "      <th>Winter</th>\n",
       "      <td>5</td>\n",
       "      <td>13.5</td>\n",
       "    </tr>\n",
       "    <tr>\n",
       "      <th>Spring</th>\n",
       "      <td>22</td>\n",
       "      <td>81.4</td>\n",
       "    </tr>\n",
       "  </tbody>\n",
       "</table>\n",
       "</div>"
      ],
      "text/plain": [
       "        Units  Grade Points Earned\n",
       "Fall        5                 10.0\n",
       "Winter      5                 13.5\n",
       "Spring     22                 81.4"
      ]
     },
     "execution_count": 12,
     "metadata": {},
     "output_type": "execute_result"
    }
   ],
   "source": [
    "bart"
   ]
  },
  {
   "cell_type": "markdown",
   "id": "b9d1793e",
   "metadata": {
    "slideshow": {
     "slide_type": "fragment"
    }
   },
   "source": [
    "Lisa had a higher GPA in all three quarters:"
   ]
  },
  {
   "cell_type": "code",
   "execution_count": 13,
   "id": "f4e9fd96",
   "metadata": {},
   "outputs": [
    {
     "data": {
      "text/html": [
       "<div>\n",
       "<style scoped>\n",
       "    .dataframe tbody tr th:only-of-type {\n",
       "        vertical-align: middle;\n",
       "    }\n",
       "\n",
       "    .dataframe tbody tr th {\n",
       "        vertical-align: top;\n",
       "    }\n",
       "\n",
       "    .dataframe thead th {\n",
       "        text-align: right;\n",
       "    }\n",
       "</style>\n",
       "<table border=\"1\" class=\"dataframe\">\n",
       "  <thead>\n",
       "    <tr style=\"text-align: right;\">\n",
       "      <th></th>\n",
       "      <th>Lisa's Quarter GPA</th>\n",
       "      <th>Bart's Quarter GPA</th>\n",
       "    </tr>\n",
       "  </thead>\n",
       "  <tbody>\n",
       "    <tr>\n",
       "      <th>Fall</th>\n",
       "      <td>2.3</td>\n",
       "      <td>2.0</td>\n",
       "    </tr>\n",
       "    <tr>\n",
       "      <th>Winter</th>\n",
       "      <td>3.0</td>\n",
       "      <td>2.7</td>\n",
       "    </tr>\n",
       "    <tr>\n",
       "      <th>Spring</th>\n",
       "      <td>4.0</td>\n",
       "      <td>3.7</td>\n",
       "    </tr>\n",
       "  </tbody>\n",
       "</table>\n",
       "</div>"
      ],
      "text/plain": [
       "        Lisa's Quarter GPA  Bart's Quarter GPA\n",
       "Fall                   2.3                 2.0\n",
       "Winter                 3.0                 2.7\n",
       "Spring                 4.0                 3.7"
      ]
     },
     "execution_count": 13,
     "metadata": {},
     "output_type": "execute_result"
    }
   ],
   "source": [
    "quarterly_gpas = pd.DataFrame({\n",
    "    \"Lisa's Quarter GPA\": lisa['Grade Points Earned'] / lisa['Units'],\n",
    "    \"Bart's Quarter GPA\": bart['Grade Points Earned'] / bart['Units'],\n",
    "})\n",
    "\n",
    "quarterly_gpas"
   ]
  },
  {
   "cell_type": "markdown",
   "id": "67e78254",
   "metadata": {
    "slideshow": {
     "slide_type": "fragment"
    }
   },
   "source": [
    "But Lisa's overall GPA was less than Bart's overall GPA:"
   ]
  },
  {
   "cell_type": "code",
   "execution_count": 14,
   "id": "4cab9968",
   "metadata": {},
   "outputs": [
    {
     "data": {
      "text/plain": [
       "2.7906976744186047"
      ]
     },
     "execution_count": 14,
     "metadata": {},
     "output_type": "execute_result"
    }
   ],
   "source": [
    "tot = lisa.sum()\n",
    "tot['Grade Points Earned'] / tot['Units']"
   ]
  },
  {
   "cell_type": "code",
   "execution_count": 15,
   "id": "4f61bc0a",
   "metadata": {},
   "outputs": [
    {
     "data": {
      "text/plain": [
       "3.278125"
      ]
     },
     "execution_count": 15,
     "metadata": {},
     "output_type": "execute_result"
    }
   ],
   "source": [
    "tot = bart.sum()\n",
    "tot['Grade Points Earned'] / tot['Units']"
   ]
  },
  {
   "cell_type": "markdown",
   "id": "91f345d5",
   "metadata": {
    "slideshow": {
     "slide_type": "slide"
    }
   },
   "source": [
    "### What happened?"
   ]
  },
  {
   "cell_type": "code",
   "execution_count": 16,
   "id": "c1296389",
   "metadata": {},
   "outputs": [
    {
     "data": {
      "text/html": [
       "<div>\n",
       "<style scoped>\n",
       "    .dataframe tbody tr th:only-of-type {\n",
       "        vertical-align: middle;\n",
       "    }\n",
       "\n",
       "    .dataframe tbody tr th {\n",
       "        vertical-align: top;\n",
       "    }\n",
       "\n",
       "    .dataframe thead th {\n",
       "        text-align: right;\n",
       "    }\n",
       "</style>\n",
       "<table border=\"1\" class=\"dataframe\">\n",
       "  <thead>\n",
       "    <tr style=\"text-align: right;\">\n",
       "      <th></th>\n",
       "      <th>Lisa's Quarter GPA</th>\n",
       "      <th>Lisa_units</th>\n",
       "      <th>Bart's Quarter GPA</th>\n",
       "      <th>Bart_units</th>\n",
       "    </tr>\n",
       "  </thead>\n",
       "  <tbody>\n",
       "    <tr>\n",
       "      <th>Fall</th>\n",
       "      <td>2.3</td>\n",
       "      <td>20</td>\n",
       "      <td>2.0</td>\n",
       "      <td>5</td>\n",
       "    </tr>\n",
       "    <tr>\n",
       "      <th>Winter</th>\n",
       "      <td>3.0</td>\n",
       "      <td>18</td>\n",
       "      <td>2.7</td>\n",
       "      <td>5</td>\n",
       "    </tr>\n",
       "    <tr>\n",
       "      <th>Spring</th>\n",
       "      <td>4.0</td>\n",
       "      <td>5</td>\n",
       "      <td>3.7</td>\n",
       "      <td>22</td>\n",
       "    </tr>\n",
       "  </tbody>\n",
       "</table>\n",
       "</div>"
      ],
      "text/plain": [
       "        Lisa's Quarter GPA  Lisa_units  Bart's Quarter GPA  Bart_units\n",
       "Fall                   2.3          20                 2.0           5\n",
       "Winter                 3.0          18                 2.7           5\n",
       "Spring                 4.0           5                 3.7          22"
      ]
     },
     "execution_count": 16,
     "metadata": {},
     "output_type": "execute_result"
    }
   ],
   "source": [
    "(quarterly_gpas\n",
    " .assign(Lisa_units=lisa['Units'],\n",
    "         Bart_units=bart['Units']) \n",
    " .iloc[:, [0, 2, 1, 3]]\n",
    ")"
   ]
  },
  {
   "cell_type": "markdown",
   "id": "9097e730",
   "metadata": {
    "slideshow": {
     "slide_type": "fragment"
    }
   },
   "source": [
    "- When Lisa and Bart both performed poorly, Lisa took more units than Bart. **This brought down 📉 Lisa's overall average.**\n",
    "\n",
    "- When Lisa and Bart both performed well, Bart took more units than Annie. **This brought up 📈 Bart's overall average.**"
   ]
  },
  {
   "cell_type": "markdown",
   "id": "2fd844c7",
   "metadata": {
    "slideshow": {
     "slide_type": "slide"
    }
   },
   "source": [
    "### Simpson's paradox\n",
    "\n",
    "- Simpson's paradox occurs when **grouped data and ungrouped data show opposing trends**.\n",
    "    - It is named after Edward H. Simpson, not Lisa or Bart Simpson.\n",
    "\n",
    "- It is **purely arithmetic** – it is a consequence of weighted averages.\n",
    "\n",
    "- It often happens because there is a hidden factor (i.e. a **confounder**) within the data that influences results.\n",
    "\n",
    "- **Question:** What is the \"correct\" way to summarize your data? What if you had to act on these results?"
   ]
  },
  {
   "cell_type": "markdown",
   "id": "4f62c363",
   "metadata": {
    "slideshow": {
     "slide_type": "slide"
    }
   },
   "source": [
    "### Example: How Berkeley was _almost_ sued for gender discrimination (1973)\n",
    "\n",
    "What do you notice?\n",
    "\n",
    "<center><img src='imgs/berkeley.png' width=70%></center>"
   ]
  },
  {
   "cell_type": "code",
   "execution_count": 17,
   "id": "d0da5b55",
   "metadata": {
    "scrolled": false,
    "slideshow": {
     "slide_type": "slide"
    }
   },
   "outputs": [
    {
     "data": {
      "text/html": [
       "\n",
       "        <iframe\n",
       "            width=\"960\"\n",
       "            height=\"569\"\n",
       "            src=\"https://docs.google.com/presentation/d/e/2PACX-1vSbFSaxaYZ0NcgrgqZLvjhkjX-5MQzAITWAsEFZHnix3j1c0qN8Vd1rogTAQP7F7Nf5r-JWExnGey7h/embed?start=false\"\n",
       "            frameborder=\"0\"\n",
       "            allowfullscreen\n",
       "            \n",
       "        ></iframe>\n",
       "        "
      ],
      "text/plain": [
       "<IPython.lib.display.IFrame at 0x7fcc418dd760>"
      ]
     },
     "metadata": {},
     "output_type": "display_data"
    }
   ],
   "source": [
    "show_paradox_slides()"
   ]
  },
  {
   "cell_type": "markdown",
   "id": "0e443b86",
   "metadata": {
    "slideshow": {
     "slide_type": "slide"
    }
   },
   "source": [
    "### What happened?\n",
    "\n",
    "- The overall acceptance rate for women (30%) was lower than it was for men (45%).\n",
    "\n",
    "- However, most departments (A, B, D, F) had a higher acceptance rate for women.\n",
    "\n",
    "\n",
    "- Department A had a 62% acceptance rate for men and an 82% acceptance rate for women!\n",
    "    - 31% of men applied to Department A.\n",
    "    - 6% of women applied to Department A.\n",
    "\n",
    "- Department F had a 6% acceptance rate for men and a 7% acceptance rate for women!\n",
    "    - 14% of men applied to Department F.\n",
    "    - 19% of women applied to Department F.\n",
    "\n",
    "- **Conclusion:** Women tended to apply to departments with a lower acceptance rate; the data don't support the hypothesis that there was major gender discrimination against women."
   ]
  },
  {
   "cell_type": "markdown",
   "id": "06dd1143",
   "metadata": {
    "slideshow": {
     "slide_type": "slide"
    }
   },
   "source": [
    "### Caution!\n",
    "\n",
    "This doesn't mean that admissions are free from gender discrimination! \n",
    "\n",
    "From [Moss-Racusin et al., 2012, PNAS](https://www.pnas.org/doi/10.1073/pnas.1211286109) (cited 2600+ times):\n",
    "\n",
    "> In a randomized double-blind study (n = 127), **science faculty** from research-intensive universities **rated the application materials of a student—who was randomly assigned either a male or female** name—for a laboratory manager position. Faculty **participants rated the male applicant as significantly more competent and hireable than the (identical) female applicant**. These participants also selected a higher starting salary and offered more career mentoring to the male applicant. The gender of the faculty participants did not affect responses, such that female and male faculty were equally likely to exhibit bias against the female student."
   ]
  },
  {
   "cell_type": "markdown",
   "id": "c062e680",
   "metadata": {
    "slideshow": {
     "slide_type": "slide"
    }
   },
   "source": [
    "### But then...\n",
    "\n",
    "From [Williams and Ceci, 2015, PNAS](https://www.pnas.org/doi/10.1073/pnas.1418878112):\n",
    "\n",
    "> Here we report five hiring experiments in which faculty evaluated hypothetical female and male applicants, using systematically varied profiles disguising identical scholarship, for assistant professorships in biology, engineering, economics, and psychology. Contrary to prevailing assumptions, **men and women faculty members from all four fields preferred female applicants 2:1 over identically qualified males** with matching lifestyles (single, married, divorced), with the exception of male economists, who showed no gender preference."
   ]
  },
  {
   "cell_type": "markdown",
   "id": "6ca45cbb",
   "metadata": {
    "slideshow": {
     "slide_type": "slide"
    }
   },
   "source": [
    "### Do these conflict?\n",
    "\n",
    "Not necessarily. One explanation, from William and Ceci:\n",
    "\n",
    "> Instead, past studies have used ratings of students’ hirability for a range of posts that do not include tenure-track jobs, such as managing laboratories or performing math assignments for a company. However, hiring tenure-track faculty differs from hiring lower-level staff: it entails selecting among highly accomplished candidates, all of whom have completed Ph.D.s and amassed publications and strong letters of support. **Hiring bias may occur when applicants’ records are ambiguous, as was true in studies of hiring bias for lower-level staff posts, but such bias may not occur when records are clearly strong**, as is the case with tenure-track hiring."
   ]
  },
  {
   "cell_type": "markdown",
   "id": "805d73d6",
   "metadata": {
    "slideshow": {
     "slide_type": "slide"
    }
   },
   "source": [
    "### Do these conflict?\n",
    "\n",
    "From Witteman, et al, 2019, in *The Lancet*:\n",
    "\n",
    "> Thus, evidence of scientists favouring women comes exclusively from hypothetical scenarios, whereas evidence of scientists favouring men comes from hypothetical scenarios and real behaviour. This **might reflect academics' growing awareness of the social desirability of achieving gender balance, while real academic behaviour might not yet put such ideals into action**."
   ]
  },
  {
   "cell_type": "markdown",
   "id": "0de1b64a",
   "metadata": {
    "slideshow": {
     "slide_type": "slide"
    }
   },
   "source": [
    "### Example: Restaurant reviews and phone types\n",
    "\n",
    "* You are deciding whether to eat at Dirty Birds or The Loft.\n",
    "\n",
    "* Suppose Yelp shows ratings aggregated by phone type (Android vs. iPhone).\n",
    "\n",
    "|Phone Type|Stars for Dirty Birds|Stars for The Loft|\n",
    "|---|---|---|\n",
    "|Android|4.24|4.0|\n",
    "|iPhone|2.99|2.79|\n",
    "|**All**|**3.32**|**3.37**|\n",
    "\n",
    "\n",
    "* **Question**: Should you choose Dirty Birds or The Loft? \n",
    "* **Answer**: The type of phone you use likely has nothing to do with your taste in food – pick the restaurant that is rated higher overall.\n",
    "* Remember, Simpson's paradox is merely a property of weighted averages!"
   ]
  },
  {
   "cell_type": "markdown",
   "id": "edc6d3f5",
   "metadata": {
    "slideshow": {
     "slide_type": "slide"
    }
   },
   "source": [
    "### Rule of thumb 👍\n",
    "\n",
    "- Let $(X, Y)$ be a pair of variables of interest. Simpson's paradox happens when the association between $X$ and $Y$ reverses when we condition on $Z$, a third variable.\n",
    "- If $Z$ has a **causal** connection to both $X$ and $Y$, we should condition on $Z$ and use deaggregated data.\n",
    "- If not, we shouldn't condition on $Z$ and use the aggregated data instead.\n",
    "- Berkeley gender discrimination: $X$ is gender, $Y$ is acceptance rate. $Z$ is the department.\n",
    "    - $Z$ has a plausible causal effect on both $X$ and $Y$, so we should condition on $Z$.\n",
    "- Yelp ratings: $X$ is the restaurant, $Y$ is the average stars. $Z$ is the phone type.\n",
    "    - $Z$ doesn't plausibly cause $X$ to change, so we should not condition on $Z$."
   ]
  },
  {
   "cell_type": "markdown",
   "id": "1e2e46f5",
   "metadata": {
    "slideshow": {
     "slide_type": "slide"
    }
   },
   "source": [
    "### Takeaways\n",
    "\n",
    "Be skeptical of...\n",
    "\n",
    "- Aggregate statistics.\n",
    "- People misusing statistics to \"prove\" that discrimination doesn't exist.\n",
    "- Drawing conclusions from individual publications ($p$-hacking, publication bias, narrow focus, etc.).\n",
    "- Everything!\n",
    "\n",
    "**We need to apply domain knowledge and human judgement calls to decide what to do when Simpson's paradox is present.**"
   ]
  },
  {
   "cell_type": "markdown",
   "id": "0bda3331",
   "metadata": {
    "slideshow": {
     "slide_type": "slide"
    }
   },
   "source": [
    "### Really?\n",
    "\n",
    "To handle Simpson's paradox with rigor, we need some ideas from causal inference which we don't have time to cover in DSC 80. This video has a good example of how to approach Simpson's paradox using a minimal amount of causal inference, if you're curious (not required for DSC 80)."
   ]
  },
  {
   "cell_type": "code",
   "execution_count": 18,
   "id": "ecce9e2a",
   "metadata": {},
   "outputs": [
    {
     "data": {
      "text/html": [
       "\n",
       "        <iframe\n",
       "            width=\"560\"\n",
       "            height=\"315\"\n",
       "            src=\"https://www.youtube-nocookie.com/embed/zeuW1Z2EtLs?si=l2Dl7P-5RCq3ODpo\"\n",
       "            frameborder=\"0\"\n",
       "            allowfullscreen\n",
       "            \n",
       "        ></iframe>\n",
       "        "
      ],
      "text/plain": [
       "<IPython.lib.display.IFrame at 0x7fcc418dd6d0>"
      ]
     },
     "execution_count": 18,
     "metadata": {},
     "output_type": "execute_result"
    }
   ],
   "source": [
    "IFrame('https://www.youtube-nocookie.com/embed/zeuW1Z2EtLs?si=l2Dl7P-5RCq3ODpo',\n",
    "       width=560, height=315)"
   ]
  },
  {
   "cell_type": "markdown",
   "id": "25547cfa",
   "metadata": {
    "slideshow": {
     "slide_type": "slide"
    }
   },
   "source": [
    "### Further reading\n",
    "\n",
    "- [Gender Bias in Admission Statistics?](https://www.cantorsparadise.com/gender-bias-in-admission-statistics-eaabca650810)\n",
    "    - Contains a **great** visualization, but seems to be paywalled now.\n",
    "- [What is Simpson's Paradox?](https://statisticsbyjim.com/basics/simpsons-paradox/) \n",
    "- [Understanding Simpson's Paradox](https://ftp.cs.ucla.edu/pub/stat_ser/r414.pdf): Requires more statistics background, gives rigorous understanding of when to use aggregated vs. unaggregated data."
   ]
  },
  {
   "cell_type": "markdown",
   "id": "f1c62543",
   "metadata": {
    "slideshow": {
     "slide_type": "slide"
    }
   },
   "source": [
    "## Merging"
   ]
  },
  {
   "cell_type": "markdown",
   "id": "62dc96cb",
   "metadata": {
    "slideshow": {
     "slide_type": "slide"
    }
   },
   "source": [
    "### Motivating Example: Name categories\n",
    "\n",
    "NYT article about baby names (https://archive.is/NpORG) says that certain categories of names are becoming more popular. For example:\n",
    "\n",
    "1. Forbidden names like Lucifer, Lilith, Kali, and Danger.\n",
    "1. Evangelical names like Amen, Savior, Canaan, and Creed.\n",
    "1. Mythological names\n",
    "1. etc.\n",
    "\n",
    "And also, baby boomer names are becoming less popular.\n",
    "\n",
    "Let's see if we can verify these claims using data!"
   ]
  },
  {
   "cell_type": "code",
   "execution_count": 19,
   "id": "a289d145",
   "metadata": {},
   "outputs": [
    {
     "data": {
      "text/html": [
       "<div>\n",
       "<style scoped>\n",
       "    .dataframe tbody tr th:only-of-type {\n",
       "        vertical-align: middle;\n",
       "    }\n",
       "\n",
       "    .dataframe tbody tr th {\n",
       "        vertical-align: top;\n",
       "    }\n",
       "\n",
       "    .dataframe thead th {\n",
       "        text-align: right;\n",
       "    }\n",
       "</style>\n",
       "<table border=\"1\" class=\"dataframe\">\n",
       "  <thead>\n",
       "    <tr style=\"text-align: right;\">\n",
       "      <th></th>\n",
       "      <th>Name</th>\n",
       "      <th>Sex</th>\n",
       "      <th>Count</th>\n",
       "      <th>Year</th>\n",
       "    </tr>\n",
       "  </thead>\n",
       "  <tbody>\n",
       "    <tr>\n",
       "      <th>0</th>\n",
       "      <td>Liam</td>\n",
       "      <td>M</td>\n",
       "      <td>20456</td>\n",
       "      <td>2022</td>\n",
       "    </tr>\n",
       "    <tr>\n",
       "      <th>1</th>\n",
       "      <td>Noah</td>\n",
       "      <td>M</td>\n",
       "      <td>18621</td>\n",
       "      <td>2022</td>\n",
       "    </tr>\n",
       "    <tr>\n",
       "      <th>2</th>\n",
       "      <td>Olivia</td>\n",
       "      <td>F</td>\n",
       "      <td>16573</td>\n",
       "      <td>2022</td>\n",
       "    </tr>\n",
       "    <tr>\n",
       "      <th>3</th>\n",
       "      <td>Oliver</td>\n",
       "      <td>M</td>\n",
       "      <td>15076</td>\n",
       "      <td>2022</td>\n",
       "    </tr>\n",
       "    <tr>\n",
       "      <th>...</th>\n",
       "      <td>...</td>\n",
       "      <td>...</td>\n",
       "      <td>...</td>\n",
       "      <td>...</td>\n",
       "    </tr>\n",
       "    <tr>\n",
       "      <th>2085154</th>\n",
       "      <td>Worthy</td>\n",
       "      <td>M</td>\n",
       "      <td>5</td>\n",
       "      <td>1880</td>\n",
       "    </tr>\n",
       "    <tr>\n",
       "      <th>2085155</th>\n",
       "      <td>Wright</td>\n",
       "      <td>M</td>\n",
       "      <td>5</td>\n",
       "      <td>1880</td>\n",
       "    </tr>\n",
       "    <tr>\n",
       "      <th>2085156</th>\n",
       "      <td>York</td>\n",
       "      <td>M</td>\n",
       "      <td>5</td>\n",
       "      <td>1880</td>\n",
       "    </tr>\n",
       "    <tr>\n",
       "      <th>2085157</th>\n",
       "      <td>Zachariah</td>\n",
       "      <td>M</td>\n",
       "      <td>5</td>\n",
       "      <td>1880</td>\n",
       "    </tr>\n",
       "  </tbody>\n",
       "</table>\n",
       "<p>2085158 rows × 4 columns</p>\n",
       "</div>"
      ],
      "text/plain": [
       "              Name Sex  Count  Year\n",
       "0             Liam   M  20456  2022\n",
       "1             Noah   M  18621  2022\n",
       "2           Olivia   F  16573  2022\n",
       "3           Oliver   M  15076  2022\n",
       "...            ...  ..    ...   ...\n",
       "2085154     Worthy   M      5  1880\n",
       "2085155     Wright   M      5  1880\n",
       "2085156       York   M      5  1880\n",
       "2085157  Zachariah   M      5  1880\n",
       "\n",
       "[2085158 rows x 4 columns]"
      ]
     },
     "execution_count": 19,
     "metadata": {},
     "output_type": "execute_result"
    }
   ],
   "source": [
    "baby = pd.read_csv('data/baby.csv')\n",
    "baby"
   ]
  },
  {
   "cell_type": "code",
   "execution_count": 20,
   "id": "49aaf28f",
   "metadata": {},
   "outputs": [
    {
     "data": {
      "text/html": [
       "<div>\n",
       "<style scoped>\n",
       "    .dataframe tbody tr th:only-of-type {\n",
       "        vertical-align: middle;\n",
       "    }\n",
       "\n",
       "    .dataframe tbody tr th {\n",
       "        vertical-align: top;\n",
       "    }\n",
       "\n",
       "    .dataframe thead th {\n",
       "        text-align: right;\n",
       "    }\n",
       "</style>\n",
       "<table border=\"1\" class=\"dataframe\">\n",
       "  <thead>\n",
       "    <tr style=\"text-align: right;\">\n",
       "      <th></th>\n",
       "      <th>nyt_name</th>\n",
       "      <th>category</th>\n",
       "    </tr>\n",
       "  </thead>\n",
       "  <tbody>\n",
       "    <tr>\n",
       "      <th>0</th>\n",
       "      <td>Lucifer</td>\n",
       "      <td>forbidden</td>\n",
       "    </tr>\n",
       "    <tr>\n",
       "      <th>1</th>\n",
       "      <td>Lilith</td>\n",
       "      <td>forbidden</td>\n",
       "    </tr>\n",
       "    <tr>\n",
       "      <th>2</th>\n",
       "      <td>Danger</td>\n",
       "      <td>forbidden</td>\n",
       "    </tr>\n",
       "    <tr>\n",
       "      <th>3</th>\n",
       "      <td>Amen</td>\n",
       "      <td>evangelical</td>\n",
       "    </tr>\n",
       "    <tr>\n",
       "      <th>...</th>\n",
       "      <td>...</td>\n",
       "      <td>...</td>\n",
       "    </tr>\n",
       "    <tr>\n",
       "      <th>19</th>\n",
       "      <td>Amethyst</td>\n",
       "      <td>mineral</td>\n",
       "    </tr>\n",
       "    <tr>\n",
       "      <th>20</th>\n",
       "      <td>Venus</td>\n",
       "      <td>celestial</td>\n",
       "    </tr>\n",
       "    <tr>\n",
       "      <th>21</th>\n",
       "      <td>Celestia</td>\n",
       "      <td>celestial</td>\n",
       "    </tr>\n",
       "    <tr>\n",
       "      <th>22</th>\n",
       "      <td>Skye</td>\n",
       "      <td>celestial</td>\n",
       "    </tr>\n",
       "  </tbody>\n",
       "</table>\n",
       "<p>23 rows × 2 columns</p>\n",
       "</div>"
      ],
      "text/plain": [
       "    nyt_name     category\n",
       "0    Lucifer    forbidden\n",
       "1     Lilith    forbidden\n",
       "2     Danger    forbidden\n",
       "3       Amen  evangelical\n",
       "..       ...          ...\n",
       "19  Amethyst      mineral\n",
       "20     Venus    celestial\n",
       "21  Celestia    celestial\n",
       "22      Skye    celestial\n",
       "\n",
       "[23 rows x 2 columns]"
      ]
     },
     "execution_count": 20,
     "metadata": {},
     "output_type": "execute_result"
    }
   ],
   "source": [
    "nyt = pd.read_csv('data/nyt_names.csv')\n",
    "nyt"
   ]
  },
  {
   "cell_type": "markdown",
   "id": "efe49a7d",
   "metadata": {
    "slideshow": {
     "slide_type": "slide"
    }
   },
   "source": [
    "### Joining\n",
    "\n",
    "- We want to link rows together whenever the names match up.\n",
    "- This is a **join** (SQL term), i.e. a **merge** (`pandas` term).\n",
    "- A join is appropriate when we have two sources of information **about the same individuals** that is **linked by a common column(s)**.\n",
    "- The common column(s) are called the **join key**.\n",
    "\n",
    "Let's demonstrate on a small subset of `baby` and `nyt`."
   ]
  },
  {
   "cell_type": "code",
   "execution_count": 21,
   "id": "44b1c882",
   "metadata": {},
   "outputs": [],
   "source": [
    "nyt_small = nyt.iloc[[11, 12, 14]].reset_index(drop=True)\n",
    "\n",
    "names_to_keep = ['Julius', 'Karen', 'Noah']\n",
    "baby_small = (baby\n",
    " .query(\"Year == 2020 and Name in @names_to_keep\")\n",
    " .reset_index(drop=True)\n",
    ")"
   ]
  },
  {
   "cell_type": "code",
   "execution_count": 22,
   "id": "f8128525",
   "metadata": {},
   "outputs": [
    {
     "data": {
      "text/html": [
       "<div>\n",
       "<style scoped>\n",
       "    .dataframe tbody tr th:only-of-type {\n",
       "        vertical-align: middle;\n",
       "    }\n",
       "\n",
       "    .dataframe tbody tr th {\n",
       "        vertical-align: top;\n",
       "    }\n",
       "\n",
       "    .dataframe thead th {\n",
       "        text-align: right;\n",
       "    }\n",
       "</style>\n",
       "<table border=\"1\" class=\"dataframe\">\n",
       "  <thead>\n",
       "    <tr style=\"text-align: right;\">\n",
       "      <th></th>\n",
       "      <th>nyt_name</th>\n",
       "      <th>category</th>\n",
       "    </tr>\n",
       "  </thead>\n",
       "  <tbody>\n",
       "    <tr>\n",
       "      <th>0</th>\n",
       "      <td>Karen</td>\n",
       "      <td>boomer</td>\n",
       "    </tr>\n",
       "    <tr>\n",
       "      <th>1</th>\n",
       "      <td>Julius</td>\n",
       "      <td>mythology</td>\n",
       "    </tr>\n",
       "    <tr>\n",
       "      <th>2</th>\n",
       "      <td>Freya</td>\n",
       "      <td>mythology</td>\n",
       "    </tr>\n",
       "  </tbody>\n",
       "</table>\n",
       "</div>"
      ],
      "text/plain": [
       "  nyt_name   category\n",
       "0    Karen     boomer\n",
       "1   Julius  mythology\n",
       "2    Freya  mythology"
      ]
     },
     "execution_count": 22,
     "metadata": {},
     "output_type": "execute_result"
    }
   ],
   "source": [
    "nyt_small"
   ]
  },
  {
   "cell_type": "code",
   "execution_count": 23,
   "id": "cc227580",
   "metadata": {},
   "outputs": [
    {
     "data": {
      "text/html": [
       "<div>\n",
       "<style scoped>\n",
       "    .dataframe tbody tr th:only-of-type {\n",
       "        vertical-align: middle;\n",
       "    }\n",
       "\n",
       "    .dataframe tbody tr th {\n",
       "        vertical-align: top;\n",
       "    }\n",
       "\n",
       "    .dataframe thead th {\n",
       "        text-align: right;\n",
       "    }\n",
       "</style>\n",
       "<table border=\"1\" class=\"dataframe\">\n",
       "  <thead>\n",
       "    <tr style=\"text-align: right;\">\n",
       "      <th></th>\n",
       "      <th>Name</th>\n",
       "      <th>Sex</th>\n",
       "      <th>Count</th>\n",
       "      <th>Year</th>\n",
       "    </tr>\n",
       "  </thead>\n",
       "  <tbody>\n",
       "    <tr>\n",
       "      <th>0</th>\n",
       "      <td>Noah</td>\n",
       "      <td>M</td>\n",
       "      <td>18407</td>\n",
       "      <td>2020</td>\n",
       "    </tr>\n",
       "    <tr>\n",
       "      <th>1</th>\n",
       "      <td>Julius</td>\n",
       "      <td>M</td>\n",
       "      <td>966</td>\n",
       "      <td>2020</td>\n",
       "    </tr>\n",
       "    <tr>\n",
       "      <th>2</th>\n",
       "      <td>Karen</td>\n",
       "      <td>F</td>\n",
       "      <td>330</td>\n",
       "      <td>2020</td>\n",
       "    </tr>\n",
       "    <tr>\n",
       "      <th>3</th>\n",
       "      <td>Noah</td>\n",
       "      <td>F</td>\n",
       "      <td>306</td>\n",
       "      <td>2020</td>\n",
       "    </tr>\n",
       "    <tr>\n",
       "      <th>4</th>\n",
       "      <td>Karen</td>\n",
       "      <td>M</td>\n",
       "      <td>6</td>\n",
       "      <td>2020</td>\n",
       "    </tr>\n",
       "  </tbody>\n",
       "</table>\n",
       "</div>"
      ],
      "text/plain": [
       "     Name Sex  Count  Year\n",
       "0    Noah   M  18407  2020\n",
       "1  Julius   M    966  2020\n",
       "2   Karen   F    330  2020\n",
       "3    Noah   F    306  2020\n",
       "4   Karen   M      6  2020"
      ]
     },
     "execution_count": 23,
     "metadata": {},
     "output_type": "execute_result"
    }
   ],
   "source": [
    "baby_small"
   ]
  },
  {
   "cell_type": "markdown",
   "id": "506c3300",
   "metadata": {},
   "source": [
    "### Let's do a join!"
   ]
  },
  {
   "cell_type": "code",
   "execution_count": 26,
   "id": "50cda8d6",
   "metadata": {},
   "outputs": [
    {
     "data": {
      "text/html": [
       "\n",
       "<div class=\"pt-viz\" id=\"pt-viz-0\"></div>\n",
       "<script>\n",
       "drawWsv('#pt-viz-0', \"{\\n  \\\"code\\\": \\\"baby_small.merge(nyt_small, left_on='Name', right_on='nyt_name')\\\\n\\\",\\n  \\\"explanation\\\": [\\n    {\\n      \\\"type\\\": \\\"MergeCall\\\",\\n      \\\"code_step\\\": \\\"baby_small.merge(nyt_small, left_on='Name', right_on='nyt_name')\\\",\\n      \\\"fragment\\\": {\\n        \\\"start\\\": {\\n          \\\"line\\\": 0,\\n          \\\"ch\\\": 10\\n        },\\n        \\\"end\\\": {\\n          \\\"line\\\": 0,\\n          \\\"ch\\\": 64\\n        }\\n      },\\n      \\\"marks\\\": [\\n        {\\n          \\\"type\\\": \\\"using\\\",\\n          \\\"pos\\\": {\\n            \\\"type\\\": \\\"axis\\\",\\n            \\\"anchor\\\": \\\"lhs\\\",\\n            \\\"select\\\": \\\"column\\\",\\n            \\\"label\\\": \\\"Name\\\"\\n          }\\n        },\\n        {\\n          \\\"type\\\": \\\"using\\\",\\n          \\\"pos\\\": {\\n            \\\"type\\\": \\\"axis\\\",\\n            \\\"anchor\\\": \\\"lhs2\\\",\\n            \\\"select\\\": \\\"column\\\",\\n            \\\"label\\\": \\\"nyt_name\\\"\\n          }\\n        },\\n        {\\n          \\\"type\\\": \\\"using\\\",\\n          \\\"pos\\\": {\\n            \\\"type\\\": \\\"axis\\\",\\n            \\\"anchor\\\": \\\"rhs\\\",\\n            \\\"select\\\": \\\"column\\\",\\n            \\\"label\\\": \\\"Name\\\"\\n          }\\n        },\\n        {\\n          \\\"type\\\": \\\"using\\\",\\n          \\\"pos\\\": {\\n            \\\"type\\\": \\\"axis\\\",\\n            \\\"anchor\\\": \\\"rhs\\\",\\n            \\\"select\\\": \\\"column\\\",\\n            \\\"label\\\": \\\"nyt_name\\\"\\n          }\\n        },\\n        {\\n          \\\"type\\\": \\\"drop\\\",\\n          \\\"pos\\\": {\\n            \\\"type\\\": \\\"axis\\\",\\n            \\\"anchor\\\": \\\"lhs\\\",\\n            \\\"select\\\": \\\"row\\\",\\n            \\\"label\\\": 0\\n          }\\n        },\\n        {\\n          \\\"type\\\": \\\"drop\\\",\\n          \\\"pos\\\": {\\n            \\\"type\\\": \\\"axis\\\",\\n            \\\"anchor\\\": \\\"lhs\\\",\\n            \\\"select\\\": \\\"row\\\",\\n            \\\"label\\\": 3\\n          }\\n        },\\n        {\\n          \\\"type\\\": \\\"drop\\\",\\n          \\\"pos\\\": {\\n            \\\"type\\\": \\\"axis\\\",\\n            \\\"anchor\\\": \\\"lhs2\\\",\\n            \\\"select\\\": \\\"row\\\",\\n            \\\"label\\\": 2\\n          }\\n        },\\n        {\\n          \\\"type\\\": \\\"map_set\\\",\\n          \\\"maps\\\": [\\n            {\\n              \\\"type\\\": \\\"map\\\",\\n              \\\"from\\\": {\\n                \\\"type\\\": \\\"axis\\\",\\n                \\\"anchor\\\": \\\"lhs\\\",\\n                \\\"select\\\": \\\"row\\\",\\n                \\\"label\\\": 1\\n              },\\n              \\\"to\\\": {\\n                \\\"type\\\": \\\"axis\\\",\\n                \\\"anchor\\\": \\\"rhs\\\",\\n                \\\"select\\\": \\\"row\\\",\\n                \\\"label\\\": 0\\n              }\\n            },\\n            {\\n              \\\"type\\\": \\\"map\\\",\\n              \\\"from\\\": {\\n                \\\"type\\\": \\\"axis\\\",\\n                \\\"anchor\\\": \\\"lhs2\\\",\\n                \\\"select\\\": \\\"row\\\",\\n                \\\"label\\\": 1\\n              },\\n              \\\"to\\\": {\\n                \\\"type\\\": \\\"axis\\\",\\n                \\\"anchor\\\": \\\"rhs\\\",\\n                \\\"select\\\": \\\"row\\\",\\n                \\\"label\\\": 0\\n              }\\n            }\\n          ]\\n        },\\n        {\\n          \\\"type\\\": \\\"map_set\\\",\\n          \\\"maps\\\": [\\n            {\\n              \\\"type\\\": \\\"map\\\",\\n              \\\"from\\\": {\\n                \\\"type\\\": \\\"axis\\\",\\n                \\\"anchor\\\": \\\"lhs\\\",\\n                \\\"select\\\": \\\"row\\\",\\n                \\\"label\\\": 2\\n              },\\n              \\\"to\\\": {\\n                \\\"type\\\": \\\"axis\\\",\\n                \\\"anchor\\\": \\\"rhs\\\",\\n                \\\"select\\\": \\\"row\\\",\\n                \\\"label\\\": 1\\n              }\\n            },\\n            {\\n              \\\"type\\\": \\\"map\\\",\\n              \\\"from\\\": {\\n                \\\"type\\\": \\\"axis\\\",\\n                \\\"anchor\\\": \\\"lhs2\\\",\\n                \\\"select\\\": \\\"row\\\",\\n                \\\"label\\\": 0\\n              },\\n              \\\"to\\\": {\\n                \\\"type\\\": \\\"axis\\\",\\n                \\\"anchor\\\": \\\"rhs\\\",\\n                \\\"select\\\": \\\"row\\\",\\n                \\\"label\\\": 1\\n              }\\n            },\\n            {\\n              \\\"type\\\": \\\"map\\\",\\n              \\\"from\\\": {\\n                \\\"type\\\": \\\"axis\\\",\\n                \\\"anchor\\\": \\\"lhs\\\",\\n                \\\"select\\\": \\\"row\\\",\\n                \\\"label\\\": 4\\n              },\\n              \\\"to\\\": {\\n                \\\"type\\\": \\\"axis\\\",\\n                \\\"anchor\\\": \\\"rhs\\\",\\n                \\\"select\\\": \\\"row\\\",\\n                \\\"label\\\": 2\\n              }\\n            },\\n            {\\n              \\\"type\\\": \\\"map\\\",\\n              \\\"from\\\": {\\n                \\\"type\\\": \\\"axis\\\",\\n                \\\"anchor\\\": \\\"lhs2\\\",\\n                \\\"select\\\": \\\"row\\\",\\n                \\\"label\\\": 0\\n              },\\n              \\\"to\\\": {\\n                \\\"type\\\": \\\"axis\\\",\\n                \\\"anchor\\\": \\\"rhs\\\",\\n                \\\"select\\\": \\\"row\\\",\\n                \\\"label\\\": 2\\n              }\\n            }\\n          ]\\n        }\\n      ],\\n      \\\"data\\\": {\\n        \\\"lhs\\\": {\\n          \\\"type\\\": \\\"DataFrame\\\",\\n          \\\"columns\\\": {\\n            \\\"names\\\": [\\n              null\\n            ],\\n            \\\"labels\\\": [\\n              \\\"Name\\\",\\n              \\\"Sex\\\",\\n              \\\"Count\\\",\\n              \\\"Year\\\"\\n            ]\\n          },\\n          \\\"index\\\": {\\n            \\\"names\\\": [\\n              null\\n            ],\\n            \\\"labels\\\": [\\n              0,\\n              1,\\n              2,\\n              3,\\n              4\\n            ]\\n          },\\n          \\\"data\\\": [\\n            [\\n              \\\"Noah\\\",\\n              \\\"M\\\",\\n              18407,\\n              2020\\n            ],\\n            [\\n              \\\"Julius\\\",\\n              \\\"M\\\",\\n              966,\\n              2020\\n            ],\\n            [\\n              \\\"Karen\\\",\\n              \\\"F\\\",\\n              330,\\n              2020\\n            ],\\n            [\\n              \\\"Noah\\\",\\n              \\\"F\\\",\\n              306,\\n              2020\\n            ],\\n            [\\n              \\\"Karen\\\",\\n              \\\"M\\\",\\n              6,\\n              2020\\n            ]\\n          ]\\n        },\\n        \\\"lhs2\\\": {\\n          \\\"type\\\": \\\"DataFrame\\\",\\n          \\\"columns\\\": {\\n            \\\"names\\\": [\\n              null\\n            ],\\n            \\\"labels\\\": [\\n              \\\"nyt_name\\\",\\n              \\\"category\\\"\\n            ]\\n          },\\n          \\\"index\\\": {\\n            \\\"names\\\": [\\n              null\\n            ],\\n            \\\"labels\\\": [\\n              0,\\n              1,\\n              2\\n            ]\\n          },\\n          \\\"data\\\": [\\n            [\\n              \\\"Karen\\\",\\n              \\\"boomer\\\"\\n            ],\\n            [\\n              \\\"Julius\\\",\\n              \\\"mythology\\\"\\n            ],\\n            [\\n              \\\"Freya\\\",\\n              \\\"mythology\\\"\\n            ]\\n          ]\\n        },\\n        \\\"rhs\\\": {\\n          \\\"type\\\": \\\"DataFrame\\\",\\n          \\\"columns\\\": {\\n            \\\"names\\\": [\\n              null\\n            ],\\n            \\\"labels\\\": [\\n              \\\"Name\\\",\\n              \\\"Sex\\\",\\n              \\\"Count\\\",\\n              \\\"Year\\\",\\n              \\\"nyt_name\\\",\\n              \\\"category\\\"\\n            ]\\n          },\\n          \\\"index\\\": {\\n            \\\"names\\\": [\\n              null\\n            ],\\n            \\\"labels\\\": [\\n              0,\\n              1,\\n              2\\n            ]\\n          },\\n          \\\"data\\\": [\\n            [\\n              \\\"Julius\\\",\\n              \\\"M\\\",\\n              966,\\n              2020,\\n              \\\"Julius\\\",\\n              \\\"mythology\\\"\\n            ],\\n            [\\n              \\\"Karen\\\",\\n              \\\"F\\\",\\n              330,\\n              2020,\\n              \\\"Karen\\\",\\n              \\\"boomer\\\"\\n            ],\\n            [\\n              \\\"Karen\\\",\\n              \\\"M\\\",\\n              6,\\n              2020,\\n              \\\"Karen\\\",\\n              \\\"boomer\\\"\\n            ]\\n          ]\\n        }\\n      }\\n    }\\n  ]\\n}\", {\"nohover\": true, \"maxDisplayRows\": 7, \"maxDisplayCols\": 8, \"colorPalette\": [\"#e41a1c\", \"#377eb8\", \"#4daf4a\", \"#984ea3\", \"#ff7f00\", \"#a65628\", \"#f781bf\", \"#999999\"]});\n",
       "</script>\n"
      ],
      "text/plain": [
       "<IPython.core.display.HTML object>"
      ]
     },
     "metadata": {},
     "output_type": "display_data"
    }
   ],
   "source": [
    "%%pt\n",
    "baby_small.merge(nyt_small, left_on='Name', right_on='nyt_name')"
   ]
  },
  {
   "cell_type": "markdown",
   "id": "e43c4eaa",
   "metadata": {
    "slideshow": {
     "slide_type": "slide"
    }
   },
   "source": [
    "### The `merge` method\n",
    "\n",
    "- The `merge` DataFrame method joins two tables by columns or indexes.\n",
    "    - \"Merge\" is just the `pandas` word for \"join\".\n",
    "\n",
    "\n",
    "- When using the `merge` method, the DataFrame before `.merge` is the \"left\" DataFrame, and the DataFrame passed into `.merge` is the \"right\" DataFrame.\n",
    "    - In `baby_small.merge(nyt_small)`, `baby_small` is considered the \"left\" DataFrame and `nyt_small` is the \"right\" DataFrame; the columns from the left DataFrame appear to the left of the columns from right DataFrame.\n",
    "\n",
    "\n",
    "- By default:\n",
    "    - If join keys are not specified, all shared columns between the two DataFrames are used.\n",
    "    - The \"type\" of join performed is an inner join."
   ]
  },
  {
   "cell_type": "markdown",
   "id": "31ac2b87",
   "metadata": {
    "slideshow": {
     "slide_type": "slide"
    }
   },
   "source": [
    "### Join types: inner joins\n",
    "\n",
    "- Note that `'Noah'` and `'Freya'` do not appear in the merged DataFrame.\n",
    "- This is because there is:\n",
    "    - no `'Noah'` in the right DataFrame, and\n",
    "    - no `'Freya'` in the left DataFrame.\n",
    "- The default type of join that `merge` performs is an **inner join**, which keeps the **intersection** of the join keys.\n",
    "\n",
    "\n",
    "<center><img src='imgs/image_0.png' width=20%></center>"
   ]
  },
  {
   "cell_type": "markdown",
   "id": "bc3f811b",
   "metadata": {
    "slideshow": {
     "slide_type": "slide"
    }
   },
   "source": [
    "### Different join types\n",
    "\n",
    "We can change the type of join performed by changing the `how` argument in `merge`. Let's experiment!"
   ]
  },
  {
   "cell_type": "code",
   "execution_count": 32,
   "id": "b9d35f0b",
   "metadata": {},
   "outputs": [
    {
     "data": {
      "text/html": [
       "\n",
       "<div class=\"pt-viz\" id=\"pt-viz-3\"></div>\n",
       "<script>\n",
       "drawWsv('#pt-viz-3', \"{\\n  \\\"code\\\": \\\"baby_small.merge(nyt_small, left_on='Name', right_on='nyt_name',\\\\n                 how='outer')\\\\n\\\",\\n  \\\"explanation\\\": [\\n    {\\n      \\\"type\\\": \\\"MergeCall\\\",\\n      \\\"code_step\\\": \\\"baby_small.merge(nyt_small, left_on='Name', right_on='nyt_name',\\\\n                 how='outer')\\\",\\n      \\\"fragment\\\": {\\n        \\\"start\\\": {\\n          \\\"line\\\": 0,\\n          \\\"ch\\\": 10\\n        },\\n        \\\"end\\\": {\\n          \\\"line\\\": 1,\\n          \\\"ch\\\": 29\\n        }\\n      },\\n      \\\"marks\\\": [\\n        {\\n          \\\"type\\\": \\\"using\\\",\\n          \\\"pos\\\": {\\n            \\\"type\\\": \\\"axis\\\",\\n            \\\"anchor\\\": \\\"lhs\\\",\\n            \\\"select\\\": \\\"column\\\",\\n            \\\"label\\\": \\\"Name\\\"\\n          }\\n        },\\n        {\\n          \\\"type\\\": \\\"using\\\",\\n          \\\"pos\\\": {\\n            \\\"type\\\": \\\"axis\\\",\\n            \\\"anchor\\\": \\\"lhs2\\\",\\n            \\\"select\\\": \\\"column\\\",\\n            \\\"label\\\": \\\"nyt_name\\\"\\n          }\\n        },\\n        {\\n          \\\"type\\\": \\\"using\\\",\\n          \\\"pos\\\": {\\n            \\\"type\\\": \\\"axis\\\",\\n            \\\"anchor\\\": \\\"rhs\\\",\\n            \\\"select\\\": \\\"column\\\",\\n            \\\"label\\\": \\\"Name\\\"\\n          }\\n        },\\n        {\\n          \\\"type\\\": \\\"using\\\",\\n          \\\"pos\\\": {\\n            \\\"type\\\": \\\"axis\\\",\\n            \\\"anchor\\\": \\\"rhs\\\",\\n            \\\"select\\\": \\\"column\\\",\\n            \\\"label\\\": \\\"nyt_name\\\"\\n          }\\n        },\\n        {\\n          \\\"type\\\": \\\"map_set\\\",\\n          \\\"maps\\\": [\\n            {\\n              \\\"type\\\": \\\"map\\\",\\n              \\\"from\\\": {\\n                \\\"type\\\": \\\"axis\\\",\\n                \\\"anchor\\\": \\\"lhs2\\\",\\n                \\\"select\\\": \\\"row\\\",\\n                \\\"label\\\": 2\\n              },\\n              \\\"to\\\": {\\n                \\\"type\\\": \\\"axis\\\",\\n                \\\"anchor\\\": \\\"rhs\\\",\\n                \\\"select\\\": \\\"row\\\",\\n                \\\"label\\\": 5\\n              }\\n            }\\n          ]\\n        },\\n        {\\n          \\\"type\\\": \\\"map_set\\\",\\n          \\\"maps\\\": [\\n            {\\n              \\\"type\\\": \\\"map\\\",\\n              \\\"from\\\": {\\n                \\\"type\\\": \\\"axis\\\",\\n                \\\"anchor\\\": \\\"lhs\\\",\\n                \\\"select\\\": \\\"row\\\",\\n                \\\"label\\\": 1\\n              },\\n              \\\"to\\\": {\\n                \\\"type\\\": \\\"axis\\\",\\n                \\\"anchor\\\": \\\"rhs\\\",\\n                \\\"select\\\": \\\"row\\\",\\n                \\\"label\\\": 2\\n              }\\n            },\\n            {\\n              \\\"type\\\": \\\"map\\\",\\n              \\\"from\\\": {\\n                \\\"type\\\": \\\"axis\\\",\\n                \\\"anchor\\\": \\\"lhs2\\\",\\n                \\\"select\\\": \\\"row\\\",\\n                \\\"label\\\": 1\\n              },\\n              \\\"to\\\": {\\n                \\\"type\\\": \\\"axis\\\",\\n                \\\"anchor\\\": \\\"rhs\\\",\\n                \\\"select\\\": \\\"row\\\",\\n                \\\"label\\\": 2\\n              }\\n            }\\n          ]\\n        },\\n        {\\n          \\\"type\\\": \\\"map_set\\\",\\n          \\\"maps\\\": [\\n            {\\n              \\\"type\\\": \\\"map\\\",\\n              \\\"from\\\": {\\n                \\\"type\\\": \\\"axis\\\",\\n                \\\"anchor\\\": \\\"lhs\\\",\\n                \\\"select\\\": \\\"row\\\",\\n                \\\"label\\\": 2\\n              },\\n              \\\"to\\\": {\\n                \\\"type\\\": \\\"axis\\\",\\n                \\\"anchor\\\": \\\"rhs\\\",\\n                \\\"select\\\": \\\"row\\\",\\n                \\\"label\\\": 3\\n              }\\n            },\\n            {\\n              \\\"type\\\": \\\"map\\\",\\n              \\\"from\\\": {\\n                \\\"type\\\": \\\"axis\\\",\\n                \\\"anchor\\\": \\\"lhs2\\\",\\n                \\\"select\\\": \\\"row\\\",\\n                \\\"label\\\": 0\\n              },\\n              \\\"to\\\": {\\n                \\\"type\\\": \\\"axis\\\",\\n                \\\"anchor\\\": \\\"rhs\\\",\\n                \\\"select\\\": \\\"row\\\",\\n                \\\"label\\\": 3\\n              }\\n            },\\n            {\\n              \\\"type\\\": \\\"map\\\",\\n              \\\"from\\\": {\\n                \\\"type\\\": \\\"axis\\\",\\n                \\\"anchor\\\": \\\"lhs\\\",\\n                \\\"select\\\": \\\"row\\\",\\n                \\\"label\\\": 4\\n              },\\n              \\\"to\\\": {\\n                \\\"type\\\": \\\"axis\\\",\\n                \\\"anchor\\\": \\\"rhs\\\",\\n                \\\"select\\\": \\\"row\\\",\\n                \\\"label\\\": 4\\n              }\\n            },\\n            {\\n              \\\"type\\\": \\\"map\\\",\\n              \\\"from\\\": {\\n                \\\"type\\\": \\\"axis\\\",\\n                \\\"anchor\\\": \\\"lhs2\\\",\\n                \\\"select\\\": \\\"row\\\",\\n                \\\"label\\\": 0\\n              },\\n              \\\"to\\\": {\\n                \\\"type\\\": \\\"axis\\\",\\n                \\\"anchor\\\": \\\"rhs\\\",\\n                \\\"select\\\": \\\"row\\\",\\n                \\\"label\\\": 4\\n              }\\n            }\\n          ]\\n        },\\n        {\\n          \\\"type\\\": \\\"map_set\\\",\\n          \\\"maps\\\": [\\n            {\\n              \\\"type\\\": \\\"map\\\",\\n              \\\"from\\\": {\\n                \\\"type\\\": \\\"axis\\\",\\n                \\\"anchor\\\": \\\"lhs\\\",\\n                \\\"select\\\": \\\"row\\\",\\n                \\\"label\\\": 0\\n              },\\n              \\\"to\\\": {\\n                \\\"type\\\": \\\"axis\\\",\\n                \\\"anchor\\\": \\\"rhs\\\",\\n                \\\"select\\\": \\\"row\\\",\\n                \\\"label\\\": 0\\n              }\\n            },\\n            {\\n              \\\"type\\\": \\\"map\\\",\\n              \\\"from\\\": {\\n                \\\"type\\\": \\\"axis\\\",\\n                \\\"anchor\\\": \\\"lhs\\\",\\n                \\\"select\\\": \\\"row\\\",\\n                \\\"label\\\": 3\\n              },\\n              \\\"to\\\": {\\n                \\\"type\\\": \\\"axis\\\",\\n                \\\"anchor\\\": \\\"rhs\\\",\\n                \\\"select\\\": \\\"row\\\",\\n                \\\"label\\\": 1\\n              }\\n            }\\n          ]\\n        }\\n      ],\\n      \\\"data\\\": {\\n        \\\"lhs\\\": {\\n          \\\"type\\\": \\\"DataFrame\\\",\\n          \\\"columns\\\": {\\n            \\\"names\\\": [\\n              null\\n            ],\\n            \\\"labels\\\": [\\n              \\\"Name\\\",\\n              \\\"Sex\\\",\\n              \\\"Count\\\",\\n              \\\"Year\\\"\\n            ]\\n          },\\n          \\\"index\\\": {\\n            \\\"names\\\": [\\n              null\\n            ],\\n            \\\"labels\\\": [\\n              0,\\n              1,\\n              2,\\n              3,\\n              4\\n            ]\\n          },\\n          \\\"data\\\": [\\n            [\\n              \\\"Noah\\\",\\n              \\\"M\\\",\\n              18407,\\n              2020\\n            ],\\n            [\\n              \\\"Julius\\\",\\n              \\\"M\\\",\\n              966,\\n              2020\\n            ],\\n            [\\n              \\\"Karen\\\",\\n              \\\"F\\\",\\n              330,\\n              2020\\n            ],\\n            [\\n              \\\"Noah\\\",\\n              \\\"F\\\",\\n              306,\\n              2020\\n            ],\\n            [\\n              \\\"Karen\\\",\\n              \\\"M\\\",\\n              6,\\n              2020\\n            ]\\n          ]\\n        },\\n        \\\"lhs2\\\": {\\n          \\\"type\\\": \\\"DataFrame\\\",\\n          \\\"columns\\\": {\\n            \\\"names\\\": [\\n              null\\n            ],\\n            \\\"labels\\\": [\\n              \\\"nyt_name\\\",\\n              \\\"category\\\"\\n            ]\\n          },\\n          \\\"index\\\": {\\n            \\\"names\\\": [\\n              null\\n            ],\\n            \\\"labels\\\": [\\n              0,\\n              1,\\n              2\\n            ]\\n          },\\n          \\\"data\\\": [\\n            [\\n              \\\"Karen\\\",\\n              \\\"boomer\\\"\\n            ],\\n            [\\n              \\\"Julius\\\",\\n              \\\"mythology\\\"\\n            ],\\n            [\\n              \\\"Freya\\\",\\n              \\\"mythology\\\"\\n            ]\\n          ]\\n        },\\n        \\\"rhs\\\": {\\n          \\\"type\\\": \\\"DataFrame\\\",\\n          \\\"columns\\\": {\\n            \\\"names\\\": [\\n              null\\n            ],\\n            \\\"labels\\\": [\\n              \\\"Name\\\",\\n              \\\"Sex\\\",\\n              \\\"Count\\\",\\n              \\\"Year\\\",\\n              \\\"nyt_name\\\",\\n              \\\"category\\\"\\n            ]\\n          },\\n          \\\"index\\\": {\\n            \\\"names\\\": [\\n              null\\n            ],\\n            \\\"labels\\\": [\\n              0,\\n              1,\\n              2,\\n              3,\\n              4,\\n              5\\n            ]\\n          },\\n          \\\"data\\\": [\\n            [\\n              \\\"Noah\\\",\\n              \\\"M\\\",\\n              18407.0,\\n              2020.0,\\n              null,\\n              null\\n            ],\\n            [\\n              \\\"Noah\\\",\\n              \\\"F\\\",\\n              306.0,\\n              2020.0,\\n              null,\\n              null\\n            ],\\n            [\\n              \\\"Julius\\\",\\n              \\\"M\\\",\\n              966.0,\\n              2020.0,\\n              \\\"Julius\\\",\\n              \\\"mythology\\\"\\n            ],\\n            [\\n              \\\"Karen\\\",\\n              \\\"F\\\",\\n              330.0,\\n              2020.0,\\n              \\\"Karen\\\",\\n              \\\"boomer\\\"\\n            ],\\n            [\\n              \\\"Karen\\\",\\n              \\\"M\\\",\\n              6.0,\\n              2020.0,\\n              \\\"Karen\\\",\\n              \\\"boomer\\\"\\n            ],\\n            [\\n              null,\\n              null,\\n              null,\\n              null,\\n              \\\"Freya\\\",\\n              \\\"mythology\\\"\\n            ]\\n          ]\\n        }\\n      }\\n    }\\n  ]\\n}\", {\"nohover\": true, \"maxDisplayRows\": 7, \"maxDisplayCols\": 8, \"colorPalette\": [\"#e41a1c\", \"#377eb8\", \"#4daf4a\", \"#984ea3\", \"#ff7f00\", \"#a65628\", \"#f781bf\", \"#999999\"]});\n",
       "</script>\n"
      ],
      "text/plain": [
       "<IPython.core.display.HTML object>"
      ]
     },
     "metadata": {},
     "output_type": "display_data"
    }
   ],
   "source": [
    "%%pt\n",
    "baby_small.merge(nyt_small, left_on='Name', right_on='nyt_name',\n",
    "                 how='outer')"
   ]
  },
  {
   "cell_type": "code",
   "execution_count": null,
   "id": "8cbd586f",
   "metadata": {},
   "outputs": [],
   "source": []
  },
  {
   "cell_type": "markdown",
   "id": "dac15f23",
   "metadata": {
    "slideshow": {
     "slide_type": "slide"
    }
   },
   "source": [
    "### Different join types handle mismatches differently\n",
    "\n",
    "There are four types of joins.\n",
    "\n",
    "* **Inner:** keep **only** matching keys (intersection).\n",
    "* **Outer:** keeps **all** keys in both DataFrames (union).\n",
    "* **Left:** keep all keys in the left DataFrame, whether or not they are in the right DataFrame.\n",
    "* **Right:** keep all keys in the right DataFrame, whether or not they are in the left DataFrame.\n",
    "    * Note that `a.merge(b, how='left')` contains the same information as `b.merge(a, how='right')`, just in a different order.\n",
    "\n",
    "<center><img src='imgs/image_1.png' width=30%></center>"
   ]
  },
  {
   "cell_type": "markdown",
   "id": "959ef06c",
   "metadata": {
    "slideshow": {
     "slide_type": "slide"
    }
   },
   "source": [
    "### Notes on the `merge` method\n",
    "\n",
    "- `.merge` is flexible, you can merge using a combination of columns, or the index of the dataframe.\n",
    "-  If the two dataframes have the same column names, `pandas` will add `_x` and `_y` to the duplicated column names to avoid having columns with the same name (change with the `suffixes` argument).\n",
    "- There is, in fact, a `.join` method, but it's actually a wrapper around `.merge` with fewer options."
   ]
  },
  {
   "cell_type": "markdown",
   "id": "7c9059bc",
   "metadata": {
    "slideshow": {
     "slide_type": "slide"
    }
   },
   "source": [
    "## Many-to-one & many-to-many joins"
   ]
  },
  {
   "cell_type": "markdown",
   "id": "fa7eae26",
   "metadata": {
    "slideshow": {
     "slide_type": "slide"
    }
   },
   "source": [
    "### One-to-one joins\n",
    "\n",
    "- So far in this lecture, the joins we have worked with are called **one-to-one** joins.\n",
    "- Neither the left DataFrame nor the right DataFrame contained any duplicates in the join key.\n",
    "- What if there are duplicated join keys, in one or both of the DataFrames we are merging?"
   ]
  },
  {
   "cell_type": "code",
   "execution_count": 33,
   "id": "38e5378a",
   "metadata": {
    "slideshow": {
     "slide_type": "slide"
    }
   },
   "outputs": [],
   "source": [
    "# Run this cell to set up the next example.\n",
    "\n",
    "profs = pd.DataFrame(\n",
    "[['Sam', 'UCB', 5],\n",
    " ['Sam', 'UCSD', 5],\n",
    " ['Janine', 'UCSD', 8],\n",
    " ['Marina', 'UIC', 7],\n",
    " ['Justin', 'OSU', 5],\n",
    " ['Soohyun', 'UCSD', 2],\n",
    " ['Suraj', 'UCB', 2]],\n",
    "    columns=['Name', 'School', 'Years']\n",
    ")\n",
    "\n",
    "schools = pd.DataFrame({\n",
    "    'Abr': ['UCSD', 'UCLA', 'UCB', 'UIC'],\n",
    "    'Full': ['University of California San Diego', 'University of California, Los Angeles', 'University of California, Berkeley', 'University of Illinois Chicago']\n",
    "})\n",
    "\n",
    "programs = pd.DataFrame({\n",
    "    'uni': ['UCSD', 'UCSD', 'UCSD', 'UCB', 'OSU', 'OSU'],\n",
    "    'dept': ['Math', 'HDSI', 'COGS', 'CS', 'Math', 'CS'],\n",
    "    'grad_students': [205, 54, 281, 439, 304, 193]\n",
    "})"
   ]
  },
  {
   "cell_type": "markdown",
   "id": "4801c5d8",
   "metadata": {
    "slideshow": {
     "slide_type": "slide"
    }
   },
   "source": [
    "### Many-to-one joins\n",
    "\n",
    "- Many-to-one joins are joins where **one** of the DataFrames contains duplicate values in the join key. \n",
    "- The resulting DataFrame will preserve those duplicate entries as appropriate. "
   ]
  },
  {
   "cell_type": "code",
   "execution_count": 34,
   "id": "e7e7d4ab",
   "metadata": {},
   "outputs": [
    {
     "data": {
      "text/html": [
       "<div>\n",
       "<style scoped>\n",
       "    .dataframe tbody tr th:only-of-type {\n",
       "        vertical-align: middle;\n",
       "    }\n",
       "\n",
       "    .dataframe tbody tr th {\n",
       "        vertical-align: top;\n",
       "    }\n",
       "\n",
       "    .dataframe thead th {\n",
       "        text-align: right;\n",
       "    }\n",
       "</style>\n",
       "<table border=\"1\" class=\"dataframe\">\n",
       "  <thead>\n",
       "    <tr style=\"text-align: right;\">\n",
       "      <th></th>\n",
       "      <th>Name</th>\n",
       "      <th>School</th>\n",
       "      <th>Years</th>\n",
       "    </tr>\n",
       "  </thead>\n",
       "  <tbody>\n",
       "    <tr>\n",
       "      <th>0</th>\n",
       "      <td>Sam</td>\n",
       "      <td>UCB</td>\n",
       "      <td>5</td>\n",
       "    </tr>\n",
       "    <tr>\n",
       "      <th>1</th>\n",
       "      <td>Sam</td>\n",
       "      <td>UCSD</td>\n",
       "      <td>5</td>\n",
       "    </tr>\n",
       "    <tr>\n",
       "      <th>2</th>\n",
       "      <td>Janine</td>\n",
       "      <td>UCSD</td>\n",
       "      <td>8</td>\n",
       "    </tr>\n",
       "    <tr>\n",
       "      <th>3</th>\n",
       "      <td>Marina</td>\n",
       "      <td>UIC</td>\n",
       "      <td>7</td>\n",
       "    </tr>\n",
       "    <tr>\n",
       "      <th>4</th>\n",
       "      <td>Justin</td>\n",
       "      <td>OSU</td>\n",
       "      <td>5</td>\n",
       "    </tr>\n",
       "    <tr>\n",
       "      <th>5</th>\n",
       "      <td>Soohyun</td>\n",
       "      <td>UCSD</td>\n",
       "      <td>2</td>\n",
       "    </tr>\n",
       "    <tr>\n",
       "      <th>6</th>\n",
       "      <td>Suraj</td>\n",
       "      <td>UCB</td>\n",
       "      <td>2</td>\n",
       "    </tr>\n",
       "  </tbody>\n",
       "</table>\n",
       "</div>"
      ],
      "text/plain": [
       "      Name School  Years\n",
       "0      Sam    UCB      5\n",
       "1      Sam   UCSD      5\n",
       "2   Janine   UCSD      8\n",
       "3   Marina    UIC      7\n",
       "4   Justin    OSU      5\n",
       "5  Soohyun   UCSD      2\n",
       "6    Suraj    UCB      2"
      ]
     },
     "execution_count": 34,
     "metadata": {},
     "output_type": "execute_result"
    }
   ],
   "source": [
    "profs"
   ]
  },
  {
   "cell_type": "code",
   "execution_count": 35,
   "id": "492a7e97",
   "metadata": {},
   "outputs": [
    {
     "data": {
      "text/html": [
       "<div>\n",
       "<style scoped>\n",
       "    .dataframe tbody tr th:only-of-type {\n",
       "        vertical-align: middle;\n",
       "    }\n",
       "\n",
       "    .dataframe tbody tr th {\n",
       "        vertical-align: top;\n",
       "    }\n",
       "\n",
       "    .dataframe thead th {\n",
       "        text-align: right;\n",
       "    }\n",
       "</style>\n",
       "<table border=\"1\" class=\"dataframe\">\n",
       "  <thead>\n",
       "    <tr style=\"text-align: right;\">\n",
       "      <th></th>\n",
       "      <th>Abr</th>\n",
       "      <th>Full</th>\n",
       "    </tr>\n",
       "  </thead>\n",
       "  <tbody>\n",
       "    <tr>\n",
       "      <th>0</th>\n",
       "      <td>UCSD</td>\n",
       "      <td>University of California San Diego</td>\n",
       "    </tr>\n",
       "    <tr>\n",
       "      <th>1</th>\n",
       "      <td>UCLA</td>\n",
       "      <td>University of California, Los Angeles</td>\n",
       "    </tr>\n",
       "    <tr>\n",
       "      <th>2</th>\n",
       "      <td>UCB</td>\n",
       "      <td>University of California, Berkeley</td>\n",
       "    </tr>\n",
       "    <tr>\n",
       "      <th>3</th>\n",
       "      <td>UIC</td>\n",
       "      <td>University of Illinois Chicago</td>\n",
       "    </tr>\n",
       "  </tbody>\n",
       "</table>\n",
       "</div>"
      ],
      "text/plain": [
       "    Abr                                   Full\n",
       "0  UCSD     University of California San Diego\n",
       "1  UCLA  University of California, Los Angeles\n",
       "2   UCB     University of California, Berkeley\n",
       "3   UIC         University of Illinois Chicago"
      ]
     },
     "execution_count": 35,
     "metadata": {},
     "output_type": "execute_result"
    }
   ],
   "source": [
    "schools"
   ]
  },
  {
   "cell_type": "markdown",
   "id": "9bac6107",
   "metadata": {},
   "source": [
    "Note that when merging `profs` and `schools`, the information from `schools` is duplicated.\n",
    "- `'University of California, San Diego'` appears three times.\n",
    "- `'University of California, Berkeley'` appears twice."
   ]
  },
  {
   "cell_type": "code",
   "execution_count": 36,
   "id": "23a18661",
   "metadata": {},
   "outputs": [
    {
     "data": {
      "text/html": [
       "<div>\n",
       "<style scoped>\n",
       "    .dataframe tbody tr th:only-of-type {\n",
       "        vertical-align: middle;\n",
       "    }\n",
       "\n",
       "    .dataframe tbody tr th {\n",
       "        vertical-align: top;\n",
       "    }\n",
       "\n",
       "    .dataframe thead th {\n",
       "        text-align: right;\n",
       "    }\n",
       "</style>\n",
       "<table border=\"1\" class=\"dataframe\">\n",
       "  <thead>\n",
       "    <tr style=\"text-align: right;\">\n",
       "      <th></th>\n",
       "      <th>Name</th>\n",
       "      <th>School</th>\n",
       "      <th>Years</th>\n",
       "      <th>Abr</th>\n",
       "      <th>Full</th>\n",
       "    </tr>\n",
       "  </thead>\n",
       "  <tbody>\n",
       "    <tr>\n",
       "      <th>0</th>\n",
       "      <td>Sam</td>\n",
       "      <td>UCB</td>\n",
       "      <td>5</td>\n",
       "      <td>UCB</td>\n",
       "      <td>University of California, Berkeley</td>\n",
       "    </tr>\n",
       "    <tr>\n",
       "      <th>1</th>\n",
       "      <td>Suraj</td>\n",
       "      <td>UCB</td>\n",
       "      <td>2</td>\n",
       "      <td>UCB</td>\n",
       "      <td>University of California, Berkeley</td>\n",
       "    </tr>\n",
       "    <tr>\n",
       "      <th>2</th>\n",
       "      <td>Sam</td>\n",
       "      <td>UCSD</td>\n",
       "      <td>5</td>\n",
       "      <td>UCSD</td>\n",
       "      <td>University of California San Diego</td>\n",
       "    </tr>\n",
       "    <tr>\n",
       "      <th>3</th>\n",
       "      <td>Janine</td>\n",
       "      <td>UCSD</td>\n",
       "      <td>8</td>\n",
       "      <td>UCSD</td>\n",
       "      <td>University of California San Diego</td>\n",
       "    </tr>\n",
       "    <tr>\n",
       "      <th>4</th>\n",
       "      <td>Soohyun</td>\n",
       "      <td>UCSD</td>\n",
       "      <td>2</td>\n",
       "      <td>UCSD</td>\n",
       "      <td>University of California San Diego</td>\n",
       "    </tr>\n",
       "    <tr>\n",
       "      <th>5</th>\n",
       "      <td>Marina</td>\n",
       "      <td>UIC</td>\n",
       "      <td>7</td>\n",
       "      <td>UIC</td>\n",
       "      <td>University of Illinois Chicago</td>\n",
       "    </tr>\n",
       "  </tbody>\n",
       "</table>\n",
       "</div>"
      ],
      "text/plain": [
       "      Name School  Years   Abr                                Full\n",
       "0      Sam    UCB      5   UCB  University of California, Berkeley\n",
       "1    Suraj    UCB      2   UCB  University of California, Berkeley\n",
       "2      Sam   UCSD      5  UCSD  University of California San Diego\n",
       "3   Janine   UCSD      8  UCSD  University of California San Diego\n",
       "4  Soohyun   UCSD      2  UCSD  University of California San Diego\n",
       "5   Marina    UIC      7   UIC      University of Illinois Chicago"
      ]
     },
     "execution_count": 36,
     "metadata": {},
     "output_type": "execute_result"
    }
   ],
   "source": [
    "profs.merge(schools, left_on='School', right_on='Abr')"
   ]
  },
  {
   "cell_type": "markdown",
   "id": "7f6c7090",
   "metadata": {
    "slideshow": {
     "slide_type": "slide"
    }
   },
   "source": [
    "### Many-to-many joins\n",
    "\n",
    "Many-to-many joins are joins where both DataFrames have duplicate values in the join key."
   ]
  },
  {
   "cell_type": "code",
   "execution_count": 37,
   "id": "3942476b",
   "metadata": {},
   "outputs": [
    {
     "data": {
      "text/html": [
       "<div>\n",
       "<style scoped>\n",
       "    .dataframe tbody tr th:only-of-type {\n",
       "        vertical-align: middle;\n",
       "    }\n",
       "\n",
       "    .dataframe tbody tr th {\n",
       "        vertical-align: top;\n",
       "    }\n",
       "\n",
       "    .dataframe thead th {\n",
       "        text-align: right;\n",
       "    }\n",
       "</style>\n",
       "<table border=\"1\" class=\"dataframe\">\n",
       "  <thead>\n",
       "    <tr style=\"text-align: right;\">\n",
       "      <th></th>\n",
       "      <th>Name</th>\n",
       "      <th>School</th>\n",
       "      <th>Years</th>\n",
       "    </tr>\n",
       "  </thead>\n",
       "  <tbody>\n",
       "    <tr>\n",
       "      <th>0</th>\n",
       "      <td>Sam</td>\n",
       "      <td>UCB</td>\n",
       "      <td>5</td>\n",
       "    </tr>\n",
       "    <tr>\n",
       "      <th>1</th>\n",
       "      <td>Sam</td>\n",
       "      <td>UCSD</td>\n",
       "      <td>5</td>\n",
       "    </tr>\n",
       "    <tr>\n",
       "      <th>2</th>\n",
       "      <td>Janine</td>\n",
       "      <td>UCSD</td>\n",
       "      <td>8</td>\n",
       "    </tr>\n",
       "    <tr>\n",
       "      <th>3</th>\n",
       "      <td>Marina</td>\n",
       "      <td>UIC</td>\n",
       "      <td>7</td>\n",
       "    </tr>\n",
       "    <tr>\n",
       "      <th>4</th>\n",
       "      <td>Justin</td>\n",
       "      <td>OSU</td>\n",
       "      <td>5</td>\n",
       "    </tr>\n",
       "    <tr>\n",
       "      <th>5</th>\n",
       "      <td>Soohyun</td>\n",
       "      <td>UCSD</td>\n",
       "      <td>2</td>\n",
       "    </tr>\n",
       "    <tr>\n",
       "      <th>6</th>\n",
       "      <td>Suraj</td>\n",
       "      <td>UCB</td>\n",
       "      <td>2</td>\n",
       "    </tr>\n",
       "  </tbody>\n",
       "</table>\n",
       "</div>"
      ],
      "text/plain": [
       "      Name School  Years\n",
       "0      Sam    UCB      5\n",
       "1      Sam   UCSD      5\n",
       "2   Janine   UCSD      8\n",
       "3   Marina    UIC      7\n",
       "4   Justin    OSU      5\n",
       "5  Soohyun   UCSD      2\n",
       "6    Suraj    UCB      2"
      ]
     },
     "execution_count": 37,
     "metadata": {},
     "output_type": "execute_result"
    }
   ],
   "source": [
    "profs"
   ]
  },
  {
   "cell_type": "code",
   "execution_count": 38,
   "id": "900ec97c",
   "metadata": {},
   "outputs": [
    {
     "data": {
      "text/html": [
       "<div>\n",
       "<style scoped>\n",
       "    .dataframe tbody tr th:only-of-type {\n",
       "        vertical-align: middle;\n",
       "    }\n",
       "\n",
       "    .dataframe tbody tr th {\n",
       "        vertical-align: top;\n",
       "    }\n",
       "\n",
       "    .dataframe thead th {\n",
       "        text-align: right;\n",
       "    }\n",
       "</style>\n",
       "<table border=\"1\" class=\"dataframe\">\n",
       "  <thead>\n",
       "    <tr style=\"text-align: right;\">\n",
       "      <th></th>\n",
       "      <th>uni</th>\n",
       "      <th>dept</th>\n",
       "      <th>grad_students</th>\n",
       "    </tr>\n",
       "  </thead>\n",
       "  <tbody>\n",
       "    <tr>\n",
       "      <th>0</th>\n",
       "      <td>UCSD</td>\n",
       "      <td>Math</td>\n",
       "      <td>205</td>\n",
       "    </tr>\n",
       "    <tr>\n",
       "      <th>1</th>\n",
       "      <td>UCSD</td>\n",
       "      <td>HDSI</td>\n",
       "      <td>54</td>\n",
       "    </tr>\n",
       "    <tr>\n",
       "      <th>2</th>\n",
       "      <td>UCSD</td>\n",
       "      <td>COGS</td>\n",
       "      <td>281</td>\n",
       "    </tr>\n",
       "    <tr>\n",
       "      <th>3</th>\n",
       "      <td>UCB</td>\n",
       "      <td>CS</td>\n",
       "      <td>439</td>\n",
       "    </tr>\n",
       "    <tr>\n",
       "      <th>4</th>\n",
       "      <td>OSU</td>\n",
       "      <td>Math</td>\n",
       "      <td>304</td>\n",
       "    </tr>\n",
       "    <tr>\n",
       "      <th>5</th>\n",
       "      <td>OSU</td>\n",
       "      <td>CS</td>\n",
       "      <td>193</td>\n",
       "    </tr>\n",
       "  </tbody>\n",
       "</table>\n",
       "</div>"
      ],
      "text/plain": [
       "    uni  dept  grad_students\n",
       "0  UCSD  Math            205\n",
       "1  UCSD  HDSI             54\n",
       "2  UCSD  COGS            281\n",
       "3   UCB    CS            439\n",
       "4   OSU  Math            304\n",
       "5   OSU    CS            193"
      ]
     },
     "execution_count": 38,
     "metadata": {},
     "output_type": "execute_result"
    }
   ],
   "source": [
    "programs"
   ]
  },
  {
   "cell_type": "markdown",
   "id": "8cd14679",
   "metadata": {
    "slideshow": {
     "slide_type": ""
    }
   },
   "source": [
    "Before running the following cell, try predicting the number of rows in the output."
   ]
  },
  {
   "cell_type": "code",
   "execution_count": 39,
   "id": "aa4fb512",
   "metadata": {},
   "outputs": [
    {
     "data": {
      "text/html": [
       "\n",
       "<div class=\"pt-viz\" id=\"pt-viz-4\"></div>\n",
       "<script>\n",
       "drawWsv('#pt-viz-4', \"{\\n  \\\"code\\\": \\\"profs.merge(programs, left_on='School', right_on='uni')\\\\n\\\",\\n  \\\"explanation\\\": [\\n    {\\n      \\\"type\\\": \\\"MergeCall\\\",\\n      \\\"code_step\\\": \\\"profs.merge(programs, left_on='School', right_on='uni')\\\",\\n      \\\"fragment\\\": {\\n        \\\"start\\\": {\\n          \\\"line\\\": 0,\\n          \\\"ch\\\": 5\\n        },\\n        \\\"end\\\": {\\n          \\\"line\\\": 0,\\n          \\\"ch\\\": 55\\n        }\\n      },\\n      \\\"marks\\\": [\\n        {\\n          \\\"type\\\": \\\"using\\\",\\n          \\\"pos\\\": {\\n            \\\"type\\\": \\\"axis\\\",\\n            \\\"anchor\\\": \\\"lhs\\\",\\n            \\\"select\\\": \\\"column\\\",\\n            \\\"label\\\": \\\"School\\\"\\n          }\\n        },\\n        {\\n          \\\"type\\\": \\\"using\\\",\\n          \\\"pos\\\": {\\n            \\\"type\\\": \\\"axis\\\",\\n            \\\"anchor\\\": \\\"lhs2\\\",\\n            \\\"select\\\": \\\"column\\\",\\n            \\\"label\\\": \\\"uni\\\"\\n          }\\n        },\\n        {\\n          \\\"type\\\": \\\"using\\\",\\n          \\\"pos\\\": {\\n            \\\"type\\\": \\\"axis\\\",\\n            \\\"anchor\\\": \\\"rhs\\\",\\n            \\\"select\\\": \\\"column\\\",\\n            \\\"label\\\": \\\"School\\\"\\n          }\\n        },\\n        {\\n          \\\"type\\\": \\\"using\\\",\\n          \\\"pos\\\": {\\n            \\\"type\\\": \\\"axis\\\",\\n            \\\"anchor\\\": \\\"rhs\\\",\\n            \\\"select\\\": \\\"column\\\",\\n            \\\"label\\\": \\\"uni\\\"\\n          }\\n        },\\n        {\\n          \\\"type\\\": \\\"drop\\\",\\n          \\\"pos\\\": {\\n            \\\"type\\\": \\\"axis\\\",\\n            \\\"anchor\\\": \\\"lhs\\\",\\n            \\\"select\\\": \\\"row\\\",\\n            \\\"label\\\": 3\\n          }\\n        },\\n        {\\n          \\\"type\\\": \\\"map_set\\\",\\n          \\\"maps\\\": [\\n            {\\n              \\\"type\\\": \\\"map\\\",\\n              \\\"from\\\": {\\n                \\\"type\\\": \\\"axis\\\",\\n                \\\"anchor\\\": \\\"lhs\\\",\\n                \\\"select\\\": \\\"row\\\",\\n                \\\"label\\\": 4\\n              },\\n              \\\"to\\\": {\\n                \\\"type\\\": \\\"axis\\\",\\n                \\\"anchor\\\": \\\"rhs\\\",\\n                \\\"select\\\": \\\"row\\\",\\n                \\\"label\\\": 11\\n              }\\n            },\\n            {\\n              \\\"type\\\": \\\"map\\\",\\n              \\\"from\\\": {\\n                \\\"type\\\": \\\"axis\\\",\\n                \\\"anchor\\\": \\\"lhs2\\\",\\n                \\\"select\\\": \\\"row\\\",\\n                \\\"label\\\": 4\\n              },\\n              \\\"to\\\": {\\n                \\\"type\\\": \\\"axis\\\",\\n                \\\"anchor\\\": \\\"rhs\\\",\\n                \\\"select\\\": \\\"row\\\",\\n                \\\"label\\\": 11\\n              }\\n            },\\n            {\\n              \\\"type\\\": \\\"map\\\",\\n              \\\"from\\\": {\\n                \\\"type\\\": \\\"axis\\\",\\n                \\\"anchor\\\": \\\"lhs\\\",\\n                \\\"select\\\": \\\"row\\\",\\n                \\\"label\\\": 4\\n              },\\n              \\\"to\\\": {\\n                \\\"type\\\": \\\"axis\\\",\\n                \\\"anchor\\\": \\\"rhs\\\",\\n                \\\"select\\\": \\\"row\\\",\\n                \\\"label\\\": 12\\n              }\\n            },\\n            {\\n              \\\"type\\\": \\\"map\\\",\\n              \\\"from\\\": {\\n                \\\"type\\\": \\\"axis\\\",\\n                \\\"anchor\\\": \\\"lhs2\\\",\\n                \\\"select\\\": \\\"row\\\",\\n                \\\"label\\\": 5\\n              },\\n              \\\"to\\\": {\\n                \\\"type\\\": \\\"axis\\\",\\n                \\\"anchor\\\": \\\"rhs\\\",\\n                \\\"select\\\": \\\"row\\\",\\n                \\\"label\\\": 12\\n              }\\n            }\\n          ]\\n        },\\n        {\\n          \\\"type\\\": \\\"map_set\\\",\\n          \\\"maps\\\": [\\n            {\\n              \\\"type\\\": \\\"map\\\",\\n              \\\"from\\\": {\\n                \\\"type\\\": \\\"axis\\\",\\n                \\\"anchor\\\": \\\"lhs\\\",\\n                \\\"select\\\": \\\"row\\\",\\n                \\\"label\\\": 0\\n              },\\n              \\\"to\\\": {\\n                \\\"type\\\": \\\"axis\\\",\\n                \\\"anchor\\\": \\\"rhs\\\",\\n                \\\"select\\\": \\\"row\\\",\\n                \\\"label\\\": 0\\n              }\\n            },\\n            {\\n              \\\"type\\\": \\\"map\\\",\\n              \\\"from\\\": {\\n                \\\"type\\\": \\\"axis\\\",\\n                \\\"anchor\\\": \\\"lhs2\\\",\\n                \\\"select\\\": \\\"row\\\",\\n                \\\"label\\\": 3\\n              },\\n              \\\"to\\\": {\\n                \\\"type\\\": \\\"axis\\\",\\n                \\\"anchor\\\": \\\"rhs\\\",\\n                \\\"select\\\": \\\"row\\\",\\n                \\\"label\\\": 0\\n              }\\n            },\\n            {\\n              \\\"type\\\": \\\"map\\\",\\n              \\\"from\\\": {\\n                \\\"type\\\": \\\"axis\\\",\\n                \\\"anchor\\\": \\\"lhs\\\",\\n                \\\"select\\\": \\\"row\\\",\\n                \\\"label\\\": 6\\n              },\\n              \\\"to\\\": {\\n                \\\"type\\\": \\\"axis\\\",\\n                \\\"anchor\\\": \\\"rhs\\\",\\n                \\\"select\\\": \\\"row\\\",\\n                \\\"label\\\": 1\\n              }\\n            },\\n            {\\n              \\\"type\\\": \\\"map\\\",\\n              \\\"from\\\": {\\n                \\\"type\\\": \\\"axis\\\",\\n                \\\"anchor\\\": \\\"lhs2\\\",\\n                \\\"select\\\": \\\"row\\\",\\n                \\\"label\\\": 3\\n              },\\n              \\\"to\\\": {\\n                \\\"type\\\": \\\"axis\\\",\\n                \\\"anchor\\\": \\\"rhs\\\",\\n                \\\"select\\\": \\\"row\\\",\\n                \\\"label\\\": 1\\n              }\\n            }\\n          ]\\n        },\\n        {\\n          \\\"type\\\": \\\"map_set\\\",\\n          \\\"maps\\\": [\\n            {\\n              \\\"type\\\": \\\"map\\\",\\n              \\\"from\\\": {\\n                \\\"type\\\": \\\"axis\\\",\\n                \\\"anchor\\\": \\\"lhs\\\",\\n                \\\"select\\\": \\\"row\\\",\\n                \\\"label\\\": 1\\n              },\\n              \\\"to\\\": {\\n                \\\"type\\\": \\\"axis\\\",\\n                \\\"anchor\\\": \\\"rhs\\\",\\n                \\\"select\\\": \\\"row\\\",\\n                \\\"label\\\": 2\\n              }\\n            },\\n            {\\n              \\\"type\\\": \\\"map\\\",\\n              \\\"from\\\": {\\n                \\\"type\\\": \\\"axis\\\",\\n                \\\"anchor\\\": \\\"lhs2\\\",\\n                \\\"select\\\": \\\"row\\\",\\n                \\\"label\\\": 0\\n              },\\n              \\\"to\\\": {\\n                \\\"type\\\": \\\"axis\\\",\\n                \\\"anchor\\\": \\\"rhs\\\",\\n                \\\"select\\\": \\\"row\\\",\\n                \\\"label\\\": 2\\n              }\\n            },\\n            {\\n              \\\"type\\\": \\\"map\\\",\\n              \\\"from\\\": {\\n                \\\"type\\\": \\\"axis\\\",\\n                \\\"anchor\\\": \\\"lhs\\\",\\n                \\\"select\\\": \\\"row\\\",\\n                \\\"label\\\": 1\\n              },\\n              \\\"to\\\": {\\n                \\\"type\\\": \\\"axis\\\",\\n                \\\"anchor\\\": \\\"rhs\\\",\\n                \\\"select\\\": \\\"row\\\",\\n                \\\"label\\\": 3\\n              }\\n            },\\n            {\\n              \\\"type\\\": \\\"map\\\",\\n              \\\"from\\\": {\\n                \\\"type\\\": \\\"axis\\\",\\n                \\\"anchor\\\": \\\"lhs2\\\",\\n                \\\"select\\\": \\\"row\\\",\\n                \\\"label\\\": 1\\n              },\\n              \\\"to\\\": {\\n                \\\"type\\\": \\\"axis\\\",\\n                \\\"anchor\\\": \\\"rhs\\\",\\n                \\\"select\\\": \\\"row\\\",\\n                \\\"label\\\": 3\\n              }\\n            },\\n            {\\n              \\\"type\\\": \\\"map\\\",\\n              \\\"from\\\": {\\n                \\\"type\\\": \\\"axis\\\",\\n                \\\"anchor\\\": \\\"lhs\\\",\\n                \\\"select\\\": \\\"row\\\",\\n                \\\"label\\\": 1\\n              },\\n              \\\"to\\\": {\\n                \\\"type\\\": \\\"axis\\\",\\n                \\\"anchor\\\": \\\"rhs\\\",\\n                \\\"select\\\": \\\"row\\\",\\n                \\\"label\\\": 4\\n              }\\n            },\\n            {\\n              \\\"type\\\": \\\"map\\\",\\n              \\\"from\\\": {\\n                \\\"type\\\": \\\"axis\\\",\\n                \\\"anchor\\\": \\\"lhs2\\\",\\n                \\\"select\\\": \\\"row\\\",\\n                \\\"label\\\": 2\\n              },\\n              \\\"to\\\": {\\n                \\\"type\\\": \\\"axis\\\",\\n                \\\"anchor\\\": \\\"rhs\\\",\\n                \\\"select\\\": \\\"row\\\",\\n                \\\"label\\\": 4\\n              }\\n            },\\n            {\\n              \\\"type\\\": \\\"map\\\",\\n              \\\"from\\\": {\\n                \\\"type\\\": \\\"axis\\\",\\n                \\\"anchor\\\": \\\"lhs\\\",\\n                \\\"select\\\": \\\"row\\\",\\n                \\\"label\\\": 2\\n              },\\n              \\\"to\\\": {\\n                \\\"type\\\": \\\"axis\\\",\\n                \\\"anchor\\\": \\\"rhs\\\",\\n                \\\"select\\\": \\\"row\\\",\\n                \\\"label\\\": 5\\n              }\\n            },\\n            {\\n              \\\"type\\\": \\\"map\\\",\\n              \\\"from\\\": {\\n                \\\"type\\\": \\\"axis\\\",\\n                \\\"anchor\\\": \\\"lhs2\\\",\\n                \\\"select\\\": \\\"row\\\",\\n                \\\"label\\\": 0\\n              },\\n              \\\"to\\\": {\\n                \\\"type\\\": \\\"axis\\\",\\n                \\\"anchor\\\": \\\"rhs\\\",\\n                \\\"select\\\": \\\"row\\\",\\n                \\\"label\\\": 5\\n              }\\n            },\\n            {\\n              \\\"type\\\": \\\"map\\\",\\n              \\\"from\\\": {\\n                \\\"type\\\": \\\"axis\\\",\\n                \\\"anchor\\\": \\\"lhs\\\",\\n                \\\"select\\\": \\\"row\\\",\\n                \\\"label\\\": 2\\n              },\\n              \\\"to\\\": {\\n                \\\"type\\\": \\\"axis\\\",\\n                \\\"anchor\\\": \\\"rhs\\\",\\n                \\\"select\\\": \\\"row\\\",\\n                \\\"label\\\": 6\\n              }\\n            },\\n            {\\n              \\\"type\\\": \\\"map\\\",\\n              \\\"from\\\": {\\n                \\\"type\\\": \\\"axis\\\",\\n                \\\"anchor\\\": \\\"lhs2\\\",\\n                \\\"select\\\": \\\"row\\\",\\n                \\\"label\\\": 1\\n              },\\n              \\\"to\\\": {\\n                \\\"type\\\": \\\"axis\\\",\\n                \\\"anchor\\\": \\\"rhs\\\",\\n                \\\"select\\\": \\\"row\\\",\\n                \\\"label\\\": 6\\n              }\\n            },\\n            {\\n              \\\"type\\\": \\\"map\\\",\\n              \\\"from\\\": {\\n                \\\"type\\\": \\\"axis\\\",\\n                \\\"anchor\\\": \\\"lhs\\\",\\n                \\\"select\\\": \\\"row\\\",\\n                \\\"label\\\": 2\\n              },\\n              \\\"to\\\": {\\n                \\\"type\\\": \\\"axis\\\",\\n                \\\"anchor\\\": \\\"rhs\\\",\\n                \\\"select\\\": \\\"row\\\",\\n                \\\"label\\\": 7\\n              }\\n            },\\n            {\\n              \\\"type\\\": \\\"map\\\",\\n              \\\"from\\\": {\\n                \\\"type\\\": \\\"axis\\\",\\n                \\\"anchor\\\": \\\"lhs2\\\",\\n                \\\"select\\\": \\\"row\\\",\\n                \\\"label\\\": 2\\n              },\\n              \\\"to\\\": {\\n                \\\"type\\\": \\\"axis\\\",\\n                \\\"anchor\\\": \\\"rhs\\\",\\n                \\\"select\\\": \\\"row\\\",\\n                \\\"label\\\": 7\\n              }\\n            },\\n            {\\n              \\\"type\\\": \\\"map\\\",\\n              \\\"from\\\": {\\n                \\\"type\\\": \\\"axis\\\",\\n                \\\"anchor\\\": \\\"lhs\\\",\\n                \\\"select\\\": \\\"row\\\",\\n                \\\"label\\\": 5\\n              },\\n              \\\"to\\\": {\\n                \\\"type\\\": \\\"axis\\\",\\n                \\\"anchor\\\": \\\"rhs\\\",\\n                \\\"select\\\": \\\"row\\\",\\n                \\\"label\\\": 8\\n              }\\n            },\\n            {\\n              \\\"type\\\": \\\"map\\\",\\n              \\\"from\\\": {\\n                \\\"type\\\": \\\"axis\\\",\\n                \\\"anchor\\\": \\\"lhs2\\\",\\n                \\\"select\\\": \\\"row\\\",\\n                \\\"label\\\": 0\\n              },\\n              \\\"to\\\": {\\n                \\\"type\\\": \\\"axis\\\",\\n                \\\"anchor\\\": \\\"rhs\\\",\\n                \\\"select\\\": \\\"row\\\",\\n                \\\"label\\\": 8\\n              }\\n            },\\n            {\\n              \\\"type\\\": \\\"map\\\",\\n              \\\"from\\\": {\\n                \\\"type\\\": \\\"axis\\\",\\n                \\\"anchor\\\": \\\"lhs\\\",\\n                \\\"select\\\": \\\"row\\\",\\n                \\\"label\\\": 5\\n              },\\n              \\\"to\\\": {\\n                \\\"type\\\": \\\"axis\\\",\\n                \\\"anchor\\\": \\\"rhs\\\",\\n                \\\"select\\\": \\\"row\\\",\\n                \\\"label\\\": 9\\n              }\\n            },\\n            {\\n              \\\"type\\\": \\\"map\\\",\\n              \\\"from\\\": {\\n                \\\"type\\\": \\\"axis\\\",\\n                \\\"anchor\\\": \\\"lhs2\\\",\\n                \\\"select\\\": \\\"row\\\",\\n                \\\"label\\\": 1\\n              },\\n              \\\"to\\\": {\\n                \\\"type\\\": \\\"axis\\\",\\n                \\\"anchor\\\": \\\"rhs\\\",\\n                \\\"select\\\": \\\"row\\\",\\n                \\\"label\\\": 9\\n              }\\n            },\\n            {\\n              \\\"type\\\": \\\"map\\\",\\n              \\\"from\\\": {\\n                \\\"type\\\": \\\"axis\\\",\\n                \\\"anchor\\\": \\\"lhs\\\",\\n                \\\"select\\\": \\\"row\\\",\\n                \\\"label\\\": 5\\n              },\\n              \\\"to\\\": {\\n                \\\"type\\\": \\\"axis\\\",\\n                \\\"anchor\\\": \\\"rhs\\\",\\n                \\\"select\\\": \\\"row\\\",\\n                \\\"label\\\": 10\\n              }\\n            },\\n            {\\n              \\\"type\\\": \\\"map\\\",\\n              \\\"from\\\": {\\n                \\\"type\\\": \\\"axis\\\",\\n                \\\"anchor\\\": \\\"lhs2\\\",\\n                \\\"select\\\": \\\"row\\\",\\n                \\\"label\\\": 2\\n              },\\n              \\\"to\\\": {\\n                \\\"type\\\": \\\"axis\\\",\\n                \\\"anchor\\\": \\\"rhs\\\",\\n                \\\"select\\\": \\\"row\\\",\\n                \\\"label\\\": 10\\n              }\\n            }\\n          ]\\n        }\\n      ],\\n      \\\"data\\\": {\\n        \\\"lhs\\\": {\\n          \\\"type\\\": \\\"DataFrame\\\",\\n          \\\"columns\\\": {\\n            \\\"names\\\": [\\n              null\\n            ],\\n            \\\"labels\\\": [\\n              \\\"Name\\\",\\n              \\\"School\\\",\\n              \\\"Years\\\"\\n            ]\\n          },\\n          \\\"index\\\": {\\n            \\\"names\\\": [\\n              null\\n            ],\\n            \\\"labels\\\": [\\n              0,\\n              1,\\n              2,\\n              3,\\n              4,\\n              5,\\n              6\\n            ]\\n          },\\n          \\\"data\\\": [\\n            [\\n              \\\"Sam\\\",\\n              \\\"UCB\\\",\\n              5\\n            ],\\n            [\\n              \\\"Sam\\\",\\n              \\\"UCSD\\\",\\n              5\\n            ],\\n            [\\n              \\\"Janine\\\",\\n              \\\"UCSD\\\",\\n              8\\n            ],\\n            [\\n              \\\"Marina\\\",\\n              \\\"UIC\\\",\\n              7\\n            ],\\n            [\\n              \\\"Justin\\\",\\n              \\\"OSU\\\",\\n              5\\n            ],\\n            [\\n              \\\"Soohyun\\\",\\n              \\\"UCSD\\\",\\n              2\\n            ],\\n            [\\n              \\\"Suraj\\\",\\n              \\\"UCB\\\",\\n              2\\n            ]\\n          ]\\n        },\\n        \\\"lhs2\\\": {\\n          \\\"type\\\": \\\"DataFrame\\\",\\n          \\\"columns\\\": {\\n            \\\"names\\\": [\\n              null\\n            ],\\n            \\\"labels\\\": [\\n              \\\"uni\\\",\\n              \\\"dept\\\",\\n              \\\"grad_students\\\"\\n            ]\\n          },\\n          \\\"index\\\": {\\n            \\\"names\\\": [\\n              null\\n            ],\\n            \\\"labels\\\": [\\n              0,\\n              1,\\n              2,\\n              3,\\n              4,\\n              5\\n            ]\\n          },\\n          \\\"data\\\": [\\n            [\\n              \\\"UCSD\\\",\\n              \\\"Math\\\",\\n              205\\n            ],\\n            [\\n              \\\"UCSD\\\",\\n              \\\"HDSI\\\",\\n              54\\n            ],\\n            [\\n              \\\"UCSD\\\",\\n              \\\"COGS\\\",\\n              281\\n            ],\\n            [\\n              \\\"UCB\\\",\\n              \\\"CS\\\",\\n              439\\n            ],\\n            [\\n              \\\"OSU\\\",\\n              \\\"Math\\\",\\n              304\\n            ],\\n            [\\n              \\\"OSU\\\",\\n              \\\"CS\\\",\\n              193\\n            ]\\n          ]\\n        },\\n        \\\"rhs\\\": {\\n          \\\"type\\\": \\\"DataFrame\\\",\\n          \\\"columns\\\": {\\n            \\\"names\\\": [\\n              null\\n            ],\\n            \\\"labels\\\": [\\n              \\\"Name\\\",\\n              \\\"School\\\",\\n              \\\"Years\\\",\\n              \\\"uni\\\",\\n              \\\"dept\\\",\\n              \\\"grad_students\\\"\\n            ]\\n          },\\n          \\\"index\\\": {\\n            \\\"names\\\": [\\n              null\\n            ],\\n            \\\"labels\\\": [\\n              0,\\n              1,\\n              2,\\n              3,\\n              4,\\n              5,\\n              6,\\n              7,\\n              8,\\n              9,\\n              10,\\n              11,\\n              12\\n            ]\\n          },\\n          \\\"data\\\": [\\n            [\\n              \\\"Sam\\\",\\n              \\\"UCB\\\",\\n              5,\\n              \\\"UCB\\\",\\n              \\\"CS\\\",\\n              439\\n            ],\\n            [\\n              \\\"Suraj\\\",\\n              \\\"UCB\\\",\\n              2,\\n              \\\"UCB\\\",\\n              \\\"CS\\\",\\n              439\\n            ],\\n            [\\n              \\\"Sam\\\",\\n              \\\"UCSD\\\",\\n              5,\\n              \\\"UCSD\\\",\\n              \\\"Math\\\",\\n              205\\n            ],\\n            [\\n              \\\"Sam\\\",\\n              \\\"UCSD\\\",\\n              5,\\n              \\\"UCSD\\\",\\n              \\\"HDSI\\\",\\n              54\\n            ],\\n            [\\n              \\\"Sam\\\",\\n              \\\"UCSD\\\",\\n              5,\\n              \\\"UCSD\\\",\\n              \\\"COGS\\\",\\n              281\\n            ],\\n            [\\n              \\\"Janine\\\",\\n              \\\"UCSD\\\",\\n              8,\\n              \\\"UCSD\\\",\\n              \\\"Math\\\",\\n              205\\n            ],\\n            [\\n              \\\"Janine\\\",\\n              \\\"UCSD\\\",\\n              8,\\n              \\\"UCSD\\\",\\n              \\\"HDSI\\\",\\n              54\\n            ],\\n            [\\n              \\\"Janine\\\",\\n              \\\"UCSD\\\",\\n              8,\\n              \\\"UCSD\\\",\\n              \\\"COGS\\\",\\n              281\\n            ],\\n            [\\n              \\\"Soohyun\\\",\\n              \\\"UCSD\\\",\\n              2,\\n              \\\"UCSD\\\",\\n              \\\"Math\\\",\\n              205\\n            ],\\n            [\\n              \\\"Soohyun\\\",\\n              \\\"UCSD\\\",\\n              2,\\n              \\\"UCSD\\\",\\n              \\\"HDSI\\\",\\n              54\\n            ],\\n            [\\n              \\\"Soohyun\\\",\\n              \\\"UCSD\\\",\\n              2,\\n              \\\"UCSD\\\",\\n              \\\"COGS\\\",\\n              281\\n            ],\\n            [\\n              \\\"Justin\\\",\\n              \\\"OSU\\\",\\n              5,\\n              \\\"OSU\\\",\\n              \\\"Math\\\",\\n              304\\n            ],\\n            [\\n              \\\"Justin\\\",\\n              \\\"OSU\\\",\\n              5,\\n              \\\"OSU\\\",\\n              \\\"CS\\\",\\n              193\\n            ]\\n          ]\\n        }\\n      }\\n    }\\n  ]\\n}\", {\"nohover\": true, \"maxDisplayRows\": 7, \"maxDisplayCols\": 8, \"colorPalette\": [\"#e41a1c\", \"#377eb8\", \"#4daf4a\", \"#984ea3\", \"#ff7f00\", \"#a65628\", \"#f781bf\", \"#999999\"]});\n",
       "</script>\n"
      ],
      "text/plain": [
       "<IPython.core.display.HTML object>"
      ]
     },
     "metadata": {},
     "output_type": "display_data"
    }
   ],
   "source": [
    "%%pt\n",
    "profs.merge(programs, left_on='School', right_on='uni')"
   ]
  },
  {
   "cell_type": "markdown",
   "id": "3f6525c8",
   "metadata": {},
   "source": [
    "- `merge` stitched together every UCSD row in `profs` with every UCSD row in `programs`. \n",
    "- Since there were 3 UCSD rows in `profs` and 3 in `programs`, there are $3 \\cdot 3 = 9$ UCSD rows in the output. The same applies for all other schools."
   ]
  },
  {
   "cell_type": "markdown",
   "id": "d41a23da",
   "metadata": {
    "slideshow": {
     "slide_type": "slide"
    }
   },
   "source": [
    "## Returning back to our original question\n",
    "\n",
    "Let's find the popularity of baby name categories over time."
   ]
  },
  {
   "cell_type": "code",
   "execution_count": 45,
   "id": "5634e560",
   "metadata": {},
   "outputs": [
    {
     "data": {
      "text/html": [
       "<div>\n",
       "<style scoped>\n",
       "    .dataframe tbody tr th:only-of-type {\n",
       "        vertical-align: middle;\n",
       "    }\n",
       "\n",
       "    .dataframe tbody tr th {\n",
       "        vertical-align: top;\n",
       "    }\n",
       "\n",
       "    .dataframe thead th {\n",
       "        text-align: right;\n",
       "    }\n",
       "</style>\n",
       "<table border=\"1\" class=\"dataframe\">\n",
       "  <thead>\n",
       "    <tr style=\"text-align: right;\">\n",
       "      <th></th>\n",
       "      <th>category</th>\n",
       "      <th>Year</th>\n",
       "      <th>Count</th>\n",
       "    </tr>\n",
       "  </thead>\n",
       "  <tbody>\n",
       "    <tr>\n",
       "      <th>0</th>\n",
       "      <td>boomer</td>\n",
       "      <td>1880</td>\n",
       "      <td>292</td>\n",
       "    </tr>\n",
       "    <tr>\n",
       "      <th>1</th>\n",
       "      <td>boomer</td>\n",
       "      <td>1881</td>\n",
       "      <td>298</td>\n",
       "    </tr>\n",
       "    <tr>\n",
       "      <th>2</th>\n",
       "      <td>boomer</td>\n",
       "      <td>1882</td>\n",
       "      <td>326</td>\n",
       "    </tr>\n",
       "    <tr>\n",
       "      <th>3</th>\n",
       "      <td>boomer</td>\n",
       "      <td>1883</td>\n",
       "      <td>322</td>\n",
       "    </tr>\n",
       "    <tr>\n",
       "      <th>...</th>\n",
       "      <td>...</td>\n",
       "      <td>...</td>\n",
       "      <td>...</td>\n",
       "    </tr>\n",
       "    <tr>\n",
       "      <th>658</th>\n",
       "      <td>mythology</td>\n",
       "      <td>2019</td>\n",
       "      <td>3330</td>\n",
       "    </tr>\n",
       "    <tr>\n",
       "      <th>659</th>\n",
       "      <td>mythology</td>\n",
       "      <td>2020</td>\n",
       "      <td>3516</td>\n",
       "    </tr>\n",
       "    <tr>\n",
       "      <th>660</th>\n",
       "      <td>mythology</td>\n",
       "      <td>2021</td>\n",
       "      <td>3895</td>\n",
       "    </tr>\n",
       "    <tr>\n",
       "      <th>661</th>\n",
       "      <td>mythology</td>\n",
       "      <td>2022</td>\n",
       "      <td>4049</td>\n",
       "    </tr>\n",
       "  </tbody>\n",
       "</table>\n",
       "<p>662 rows × 3 columns</p>\n",
       "</div>"
      ],
      "text/plain": [
       "      category  Year  Count\n",
       "0       boomer  1880    292\n",
       "1       boomer  1881    298\n",
       "2       boomer  1882    326\n",
       "3       boomer  1883    322\n",
       "..         ...   ...    ...\n",
       "658  mythology  2019   3330\n",
       "659  mythology  2020   3516\n",
       "660  mythology  2021   3895\n",
       "661  mythology  2022   4049\n",
       "\n",
       "[662 rows x 3 columns]"
      ]
     },
     "execution_count": 45,
     "metadata": {},
     "output_type": "execute_result"
    }
   ],
   "source": [
    "cate_counts = (baby\n",
    " .merge(nyt, left_on='Name', right_on='nyt_name')\n",
    " .groupby(['category', 'Year'])\n",
    " ['Count']\n",
    " .sum()\n",
    " .reset_index()\n",
    ")\n",
    "cate_counts"
   ]
  },
  {
   "cell_type": "code",
   "execution_count": 48,
   "id": "e0c02854",
   "metadata": {},
   "outputs": [
    {
     "data": {
      "application/vnd.plotly.v1+json": {
       "config": {
        "plotlyServerURL": "https://plot.ly"
       },
       "data": [
        {
         "hovertemplate": "category=boomer<br>Year=%{x}<br>Count=%{y}<extra></extra>",
         "legendgroup": "",
         "line": {
          "color": "#636efa",
          "dash": "solid"
         },
         "marker": {
          "symbol": "circle"
         },
         "mode": "lines",
         "name": "",
         "orientation": "v",
         "showlegend": false,
         "type": "scatter",
         "x": [
          1880,
          1881,
          1882,
          1883,
          1884,
          1885,
          1886,
          1887,
          1888,
          1889,
          1890,
          1891,
          1892,
          1893,
          1894,
          1895,
          1896,
          1897,
          1898,
          1899,
          1900,
          1901,
          1902,
          1903,
          1904,
          1905,
          1906,
          1907,
          1908,
          1909,
          1910,
          1911,
          1912,
          1913,
          1914,
          1915,
          1916,
          1917,
          1918,
          1919,
          1920,
          1921,
          1922,
          1923,
          1924,
          1925,
          1926,
          1927,
          1928,
          1929,
          1930,
          1931,
          1932,
          1933,
          1934,
          1935,
          1936,
          1937,
          1938,
          1939,
          1940,
          1941,
          1942,
          1943,
          1944,
          1945,
          1946,
          1947,
          1948,
          1949,
          1950,
          1951,
          1952,
          1953,
          1954,
          1955,
          1956,
          1957,
          1958,
          1959,
          1960,
          1961,
          1962,
          1963,
          1964,
          1965,
          1966,
          1967,
          1968,
          1969,
          1970,
          1971,
          1972,
          1973,
          1974,
          1975,
          1976,
          1977,
          1978,
          1979,
          1980,
          1981,
          1982,
          1983,
          1984,
          1985,
          1986,
          1987,
          1988,
          1989,
          1990,
          1991,
          1992,
          1993,
          1994,
          1995,
          1996,
          1997,
          1998,
          1999,
          2000,
          2001,
          2002,
          2003,
          2004,
          2005,
          2006,
          2007,
          2008,
          2009,
          2010,
          2011,
          2012,
          2013,
          2014,
          2015,
          2016,
          2017,
          2018,
          2019,
          2020,
          2021,
          2022
         ],
         "xaxis": "x4",
         "y": [
          292,
          298,
          326,
          322,
          335,
          312,
          342,
          344,
          375,
          372,
          377,
          383,
          384,
          368,
          379,
          402,
          364,
          351,
          396,
          367,
          435,
          363,
          342,
          322,
          351,
          353,
          356,
          392,
          376,
          406,
          430,
          499,
          599,
          582,
          760,
          937,
          983,
          981,
          1108,
          993,
          1127,
          1212,
          1293,
          1414,
          1730,
          2117,
          2670,
          3409,
          4069,
          5098,
          6560,
          7270,
          8405,
          8491,
          9890,
          10908,
          11849,
          12893,
          15840,
          17723,
          21195,
          26642,
          33989,
          38162,
          38090,
          40328,
          54232,
          60599,
          64633,
          66485,
          68551,
          75155,
          77944,
          82811,
          90052,
          93369,
          102101,
          106883,
          107529,
          103938,
          98586,
          92820,
          89643,
          82413,
          75540,
          70106,
          58360,
          51548,
          45926,
          41994,
          38653,
          33954,
          26729,
          22950,
          21164,
          19403,
          17418,
          16691,
          14931,
          14112,
          13127,
          12019,
          11289,
          9971,
          9227,
          8296,
          7663,
          7075,
          6671,
          6698,
          6420,
          5873,
          5761,
          5470,
          4860,
          4389,
          4465,
          4090,
          3786,
          3722,
          3703,
          3586,
          3567,
          3547,
          3364,
          3106,
          3149,
          3232,
          2813,
          2316,
          2157,
          1841,
          1597,
          1437,
          1316,
          1286,
          1266,
          1168,
          1001,
          969,
          885,
          705,
          645
         ],
         "yaxis": "y4"
        },
        {
         "hovertemplate": "category=celestial<br>Year=%{x}<br>Count=%{y}<extra></extra>",
         "legendgroup": "",
         "line": {
          "color": "#636efa",
          "dash": "solid"
         },
         "marker": {
          "symbol": "circle"
         },
         "mode": "lines",
         "name": "",
         "orientation": "v",
         "showlegend": false,
         "type": "scatter",
         "x": [
          1880,
          1882,
          1883,
          1884,
          1886,
          1887,
          1888,
          1889,
          1890,
          1891,
          1892,
          1893,
          1894,
          1895,
          1896,
          1897,
          1898,
          1899,
          1900,
          1901,
          1902,
          1903,
          1904,
          1905,
          1906,
          1907,
          1908,
          1909,
          1910,
          1911,
          1912,
          1913,
          1914,
          1915,
          1916,
          1917,
          1918,
          1919,
          1920,
          1921,
          1922,
          1923,
          1924,
          1925,
          1926,
          1927,
          1928,
          1929,
          1930,
          1931,
          1932,
          1933,
          1934,
          1935,
          1936,
          1937,
          1938,
          1939,
          1940,
          1941,
          1942,
          1943,
          1944,
          1945,
          1946,
          1947,
          1948,
          1949,
          1950,
          1951,
          1952,
          1953,
          1954,
          1955,
          1956,
          1957,
          1958,
          1959,
          1960,
          1961,
          1962,
          1963,
          1964,
          1965,
          1966,
          1967,
          1968,
          1969,
          1970,
          1971,
          1972,
          1973,
          1974,
          1975,
          1976,
          1977,
          1978,
          1979,
          1980,
          1981,
          1982,
          1983,
          1984,
          1985,
          1986,
          1987,
          1988,
          1989,
          1990,
          1991,
          1992,
          1993,
          1994,
          1995,
          1996,
          1997,
          1998,
          1999,
          2000,
          2001,
          2002,
          2003,
          2004,
          2005,
          2006,
          2007,
          2008,
          2009,
          2010,
          2011,
          2012,
          2013,
          2014,
          2015,
          2016,
          2017,
          2018,
          2019,
          2020,
          2021,
          2022
         ],
         "xaxis": "x5",
         "y": [
          6,
          5,
          8,
          9,
          13,
          11,
          7,
          14,
          7,
          16,
          5,
          6,
          13,
          22,
          22,
          20,
          21,
          15,
          25,
          12,
          26,
          15,
          22,
          20,
          14,
          24,
          17,
          20,
          22,
          27,
          30,
          39,
          38,
          72,
          79,
          55,
          67,
          63,
          54,
          67,
          53,
          65,
          48,
          46,
          35,
          39,
          45,
          28,
          41,
          35,
          29,
          27,
          29,
          14,
          21,
          22,
          12,
          21,
          16,
          18,
          21,
          23,
          15,
          23,
          29,
          35,
          26,
          49,
          55,
          35,
          56,
          50,
          73,
          104,
          152,
          130,
          131,
          301,
          180,
          228,
          182,
          215,
          193,
          177,
          181,
          223,
          159,
          161,
          213,
          274,
          289,
          303,
          315,
          306,
          324,
          330,
          329,
          358,
          346,
          305,
          319,
          249,
          208,
          208,
          227,
          359,
          336,
          369,
          400,
          391,
          400,
          418,
          418,
          473,
          526,
          709,
          675,
          641,
          748,
          740,
          793,
          857,
          874,
          892,
          865,
          828,
          800,
          798,
          792,
          752,
          850,
          859,
          1019,
          996,
          974,
          936,
          940,
          953,
          873,
          964,
          1033
         ],
         "yaxis": "y5"
        },
        {
         "hovertemplate": "category=evangelical<br>Year=%{x}<br>Count=%{y}<extra></extra>",
         "legendgroup": "",
         "line": {
          "color": "#636efa",
          "dash": "solid"
         },
         "marker": {
          "symbol": "circle"
         },
         "mode": "lines",
         "name": "",
         "orientation": "v",
         "showlegend": false,
         "type": "scatter",
         "x": [
          1880,
          1883,
          1884,
          1887,
          1888,
          1891,
          1892,
          1894,
          1896,
          1897,
          1904,
          1907,
          1908,
          1910,
          1911,
          1912,
          1913,
          1914,
          1915,
          1916,
          1917,
          1918,
          1919,
          1920,
          1921,
          1922,
          1923,
          1924,
          1925,
          1926,
          1927,
          1928,
          1929,
          1930,
          1931,
          1932,
          1933,
          1934,
          1935,
          1936,
          1937,
          1938,
          1939,
          1940,
          1941,
          1942,
          1943,
          1944,
          1945,
          1946,
          1947,
          1948,
          1949,
          1950,
          1951,
          1952,
          1953,
          1954,
          1955,
          1957,
          1958,
          1959,
          1960,
          1961,
          1962,
          1964,
          1965,
          1966,
          1968,
          1969,
          1970,
          1971,
          1972,
          1973,
          1974,
          1975,
          1976,
          1977,
          1978,
          1979,
          1980,
          1981,
          1982,
          1983,
          1984,
          1985,
          1986,
          1987,
          1988,
          1989,
          1990,
          1991,
          1992,
          1993,
          1994,
          1995,
          1996,
          1997,
          1998,
          1999,
          2000,
          2001,
          2002,
          2003,
          2004,
          2005,
          2006,
          2007,
          2008,
          2009,
          2010,
          2011,
          2012,
          2013,
          2014,
          2015,
          2016,
          2017,
          2018,
          2019,
          2020,
          2021,
          2022
         ],
         "xaxis": "x6",
         "y": [
          7,
          7,
          8,
          6,
          5,
          11,
          8,
          6,
          10,
          14,
          6,
          5,
          6,
          12,
          6,
          5,
          11,
          22,
          41,
          38,
          34,
          38,
          35,
          42,
          42,
          41,
          35,
          37,
          33,
          32,
          28,
          33,
          17,
          21,
          23,
          17,
          21,
          29,
          24,
          17,
          21,
          15,
          22,
          20,
          23,
          21,
          21,
          13,
          16,
          12,
          26,
          20,
          22,
          22,
          11,
          21,
          24,
          19,
          19,
          27,
          15,
          17,
          15,
          17,
          9,
          7,
          6,
          10,
          10,
          22,
          10,
          13,
          8,
          26,
          30,
          23,
          23,
          51,
          31,
          29,
          39,
          26,
          24,
          51,
          41,
          39,
          22,
          52,
          48,
          48,
          73,
          71,
          70,
          93,
          86,
          86,
          111,
          119,
          154,
          156,
          182,
          232,
          198,
          237,
          246,
          246,
          284,
          269,
          294,
          350,
          362,
          332,
          422,
          417,
          461,
          626,
          844,
          821,
          944,
          1066,
          1207,
          1513,
          1756
         ],
         "yaxis": "y6"
        },
        {
         "hovertemplate": "category=forbidden<br>Year=%{x}<br>Count=%{y}<extra></extra>",
         "legendgroup": "",
         "line": {
          "color": "#636efa",
          "dash": "solid"
         },
         "marker": {
          "symbol": "circle"
         },
         "mode": "lines",
         "name": "",
         "orientation": "v",
         "showlegend": false,
         "type": "scatter",
         "x": [
          1913,
          1914,
          1915,
          1917,
          1918,
          1919,
          1920,
          1921,
          1922,
          1930,
          1942,
          1963,
          1964,
          1966,
          1967,
          1970,
          1971,
          1973,
          1974,
          1975,
          1978,
          1985,
          1987,
          1989,
          1990,
          1991,
          1992,
          1993,
          1994,
          1995,
          1996,
          1997,
          1998,
          1999,
          2000,
          2001,
          2002,
          2003,
          2004,
          2005,
          2006,
          2007,
          2008,
          2009,
          2010,
          2011,
          2012,
          2013,
          2014,
          2015,
          2016,
          2017,
          2018,
          2019,
          2020,
          2021,
          2022
         ],
         "xaxis": "x",
         "y": [
          6,
          5,
          6,
          5,
          7,
          6,
          9,
          8,
          6,
          9,
          5,
          6,
          5,
          8,
          7,
          8,
          9,
          6,
          5,
          6,
          7,
          7,
          5,
          5,
          7,
          10,
          13,
          9,
          9,
          15,
          12,
          29,
          63,
          89,
          89,
          98,
          109,
          121,
          115,
          130,
          141,
          165,
          187,
          235,
          265,
          290,
          341,
          337,
          471,
          529,
          606,
          669,
          627,
          828,
          1068,
          1236,
          1231
         ],
         "yaxis": "y"
        },
        {
         "hovertemplate": "category=mineral<br>Year=%{x}<br>Count=%{y}<extra></extra>",
         "legendgroup": "",
         "line": {
          "color": "#636efa",
          "dash": "solid"
         },
         "marker": {
          "symbol": "circle"
         },
         "mode": "lines",
         "name": "",
         "orientation": "v",
         "showlegend": false,
         "type": "scatter",
         "x": [
          1918,
          1967,
          1968,
          1969,
          1971,
          1973,
          1974,
          1975,
          1976,
          1977,
          1978,
          1979,
          1980,
          1981,
          1982,
          1983,
          1984,
          1985,
          1986,
          1987,
          1988,
          1989,
          1990,
          1991,
          1992,
          1993,
          1994,
          1995,
          1996,
          1997,
          1998,
          1999,
          2000,
          2001,
          2002,
          2003,
          2004,
          2005,
          2006,
          2007,
          2008,
          2009,
          2010,
          2011,
          2012,
          2013,
          2014,
          2015,
          2016,
          2017,
          2018,
          2019,
          2020,
          2021,
          2022
         ],
         "xaxis": "x2",
         "y": [
          5,
          5,
          6,
          5,
          5,
          10,
          9,
          17,
          15,
          15,
          14,
          15,
          22,
          21,
          33,
          18,
          37,
          37,
          37,
          30,
          51,
          72,
          91,
          82,
          109,
          118,
          112,
          112,
          116,
          132,
          127,
          117,
          128,
          128,
          133,
          134,
          133,
          109,
          136,
          126,
          99,
          146,
          143,
          137,
          187,
          166,
          232,
          285,
          392,
          435,
          499,
          605,
          744,
          1152,
          1324
         ],
         "yaxis": "y2"
        },
        {
         "hovertemplate": "category=mythology<br>Year=%{x}<br>Count=%{y}<extra></extra>",
         "legendgroup": "",
         "line": {
          "color": "#636efa",
          "dash": "solid"
         },
         "marker": {
          "symbol": "circle"
         },
         "mode": "lines",
         "name": "",
         "orientation": "v",
         "showlegend": false,
         "type": "scatter",
         "x": [
          1880,
          1881,
          1882,
          1883,
          1884,
          1885,
          1886,
          1887,
          1888,
          1889,
          1890,
          1891,
          1892,
          1893,
          1894,
          1895,
          1896,
          1897,
          1898,
          1899,
          1900,
          1901,
          1902,
          1903,
          1904,
          1905,
          1906,
          1907,
          1908,
          1909,
          1910,
          1911,
          1912,
          1913,
          1914,
          1915,
          1916,
          1917,
          1918,
          1919,
          1920,
          1921,
          1922,
          1923,
          1924,
          1925,
          1926,
          1927,
          1928,
          1929,
          1930,
          1931,
          1932,
          1933,
          1934,
          1935,
          1936,
          1937,
          1938,
          1939,
          1940,
          1941,
          1942,
          1943,
          1944,
          1945,
          1946,
          1947,
          1948,
          1949,
          1950,
          1951,
          1952,
          1953,
          1954,
          1955,
          1956,
          1957,
          1958,
          1959,
          1960,
          1961,
          1962,
          1963,
          1964,
          1965,
          1966,
          1967,
          1968,
          1969,
          1970,
          1971,
          1972,
          1973,
          1974,
          1975,
          1976,
          1977,
          1978,
          1979,
          1980,
          1981,
          1982,
          1983,
          1984,
          1985,
          1986,
          1987,
          1988,
          1989,
          1990,
          1991,
          1992,
          1993,
          1994,
          1995,
          1996,
          1997,
          1998,
          1999,
          2000,
          2001,
          2002,
          2003,
          2004,
          2005,
          2006,
          2007,
          2008,
          2009,
          2010,
          2011,
          2012,
          2013,
          2014,
          2015,
          2016,
          2017,
          2018,
          2019,
          2020,
          2021,
          2022
         ],
         "xaxis": "x3",
         "y": [
          160,
          138,
          180,
          170,
          168,
          157,
          173,
          169,
          212,
          165,
          166,
          161,
          198,
          203,
          178,
          171,
          174,
          159,
          181,
          161,
          206,
          168,
          159,
          173,
          189,
          190,
          190,
          231,
          268,
          269,
          355,
          368,
          766,
          846,
          1064,
          1379,
          1383,
          1408,
          1438,
          1331,
          1339,
          1346,
          1297,
          1211,
          1144,
          1104,
          1058,
          935,
          880,
          864,
          831,
          733,
          723,
          559,
          584,
          574,
          548,
          570,
          560,
          545,
          602,
          596,
          601,
          639,
          570,
          497,
          565,
          624,
          567,
          566,
          524,
          524,
          489,
          566,
          607,
          621,
          525,
          607,
          507,
          525,
          513,
          448,
          450,
          510,
          511,
          467,
          440,
          410,
          391,
          405,
          405,
          424,
          386,
          370,
          386,
          366,
          387,
          486,
          494,
          529,
          562,
          578,
          593,
          623,
          569,
          546,
          509,
          569,
          575,
          596,
          666,
          625,
          606,
          508,
          476,
          522,
          532,
          584,
          573,
          589,
          663,
          816,
          867,
          899,
          973,
          1124,
          1377,
          1514,
          1563,
          1457,
          1404,
          1443,
          1467,
          1670,
          2147,
          2490,
          2673,
          2799,
          2947,
          3330,
          3516,
          3895,
          4049
         ],
         "yaxis": "y3"
        }
       ],
       "layout": {
        "annotations": [
         {
          "font": {},
          "showarrow": false,
          "text": "category=forbidden",
          "x": 0.15999999999999998,
          "xanchor": "center",
          "xref": "paper",
          "y": 0.425,
          "yanchor": "bottom",
          "yref": "paper"
         },
         {
          "font": {},
          "showarrow": false,
          "text": "category=mineral",
          "x": 0.49999999999999994,
          "xanchor": "center",
          "xref": "paper",
          "y": 0.425,
          "yanchor": "bottom",
          "yref": "paper"
         },
         {
          "font": {},
          "showarrow": false,
          "text": "category=mythology",
          "x": 0.8399999999999999,
          "xanchor": "center",
          "xref": "paper",
          "y": 0.425,
          "yanchor": "bottom",
          "yref": "paper"
         },
         {
          "font": {},
          "showarrow": false,
          "text": "category=boomer",
          "x": 0.15999999999999998,
          "xanchor": "center",
          "xref": "paper",
          "y": 1,
          "yanchor": "bottom",
          "yref": "paper"
         },
         {
          "font": {},
          "showarrow": false,
          "text": "category=celestial",
          "x": 0.49999999999999994,
          "xanchor": "center",
          "xref": "paper",
          "y": 1,
          "yanchor": "bottom",
          "yref": "paper"
         },
         {
          "font": {},
          "showarrow": false,
          "text": "category=evangelical",
          "x": 0.8399999999999999,
          "xanchor": "center",
          "xref": "paper",
          "y": 1,
          "yanchor": "bottom",
          "yref": "paper"
         }
        ],
        "height": 800,
        "legend": {
         "tracegroupgap": 0
        },
        "margin": {
         "t": 60
        },
        "template": {
         "data": {
          "bar": [
           {
            "error_x": {
             "color": "#2a3f5f"
            },
            "error_y": {
             "color": "#2a3f5f"
            },
            "marker": {
             "line": {
              "color": "#E5ECF6",
              "width": 0.5
             },
             "pattern": {
              "fillmode": "overlay",
              "size": 10,
              "solidity": 0.2
             }
            },
            "type": "bar"
           }
          ],
          "barpolar": [
           {
            "marker": {
             "line": {
              "color": "#E5ECF6",
              "width": 0.5
             },
             "pattern": {
              "fillmode": "overlay",
              "size": 10,
              "solidity": 0.2
             }
            },
            "type": "barpolar"
           }
          ],
          "carpet": [
           {
            "aaxis": {
             "endlinecolor": "#2a3f5f",
             "gridcolor": "white",
             "linecolor": "white",
             "minorgridcolor": "white",
             "startlinecolor": "#2a3f5f"
            },
            "baxis": {
             "endlinecolor": "#2a3f5f",
             "gridcolor": "white",
             "linecolor": "white",
             "minorgridcolor": "white",
             "startlinecolor": "#2a3f5f"
            },
            "type": "carpet"
           }
          ],
          "choropleth": [
           {
            "colorbar": {
             "outlinewidth": 0,
             "ticks": ""
            },
            "type": "choropleth"
           }
          ],
          "contour": [
           {
            "colorbar": {
             "outlinewidth": 0,
             "ticks": ""
            },
            "colorscale": [
             [
              0,
              "#0d0887"
             ],
             [
              0.1111111111111111,
              "#46039f"
             ],
             [
              0.2222222222222222,
              "#7201a8"
             ],
             [
              0.3333333333333333,
              "#9c179e"
             ],
             [
              0.4444444444444444,
              "#bd3786"
             ],
             [
              0.5555555555555556,
              "#d8576b"
             ],
             [
              0.6666666666666666,
              "#ed7953"
             ],
             [
              0.7777777777777778,
              "#fb9f3a"
             ],
             [
              0.8888888888888888,
              "#fdca26"
             ],
             [
              1,
              "#f0f921"
             ]
            ],
            "type": "contour"
           }
          ],
          "contourcarpet": [
           {
            "colorbar": {
             "outlinewidth": 0,
             "ticks": ""
            },
            "type": "contourcarpet"
           }
          ],
          "heatmap": [
           {
            "colorbar": {
             "outlinewidth": 0,
             "ticks": ""
            },
            "colorscale": [
             [
              0,
              "#0d0887"
             ],
             [
              0.1111111111111111,
              "#46039f"
             ],
             [
              0.2222222222222222,
              "#7201a8"
             ],
             [
              0.3333333333333333,
              "#9c179e"
             ],
             [
              0.4444444444444444,
              "#bd3786"
             ],
             [
              0.5555555555555556,
              "#d8576b"
             ],
             [
              0.6666666666666666,
              "#ed7953"
             ],
             [
              0.7777777777777778,
              "#fb9f3a"
             ],
             [
              0.8888888888888888,
              "#fdca26"
             ],
             [
              1,
              "#f0f921"
             ]
            ],
            "type": "heatmap"
           }
          ],
          "heatmapgl": [
           {
            "colorbar": {
             "outlinewidth": 0,
             "ticks": ""
            },
            "colorscale": [
             [
              0,
              "#0d0887"
             ],
             [
              0.1111111111111111,
              "#46039f"
             ],
             [
              0.2222222222222222,
              "#7201a8"
             ],
             [
              0.3333333333333333,
              "#9c179e"
             ],
             [
              0.4444444444444444,
              "#bd3786"
             ],
             [
              0.5555555555555556,
              "#d8576b"
             ],
             [
              0.6666666666666666,
              "#ed7953"
             ],
             [
              0.7777777777777778,
              "#fb9f3a"
             ],
             [
              0.8888888888888888,
              "#fdca26"
             ],
             [
              1,
              "#f0f921"
             ]
            ],
            "type": "heatmapgl"
           }
          ],
          "histogram": [
           {
            "marker": {
             "pattern": {
              "fillmode": "overlay",
              "size": 10,
              "solidity": 0.2
             }
            },
            "type": "histogram"
           }
          ],
          "histogram2d": [
           {
            "colorbar": {
             "outlinewidth": 0,
             "ticks": ""
            },
            "colorscale": [
             [
              0,
              "#0d0887"
             ],
             [
              0.1111111111111111,
              "#46039f"
             ],
             [
              0.2222222222222222,
              "#7201a8"
             ],
             [
              0.3333333333333333,
              "#9c179e"
             ],
             [
              0.4444444444444444,
              "#bd3786"
             ],
             [
              0.5555555555555556,
              "#d8576b"
             ],
             [
              0.6666666666666666,
              "#ed7953"
             ],
             [
              0.7777777777777778,
              "#fb9f3a"
             ],
             [
              0.8888888888888888,
              "#fdca26"
             ],
             [
              1,
              "#f0f921"
             ]
            ],
            "type": "histogram2d"
           }
          ],
          "histogram2dcontour": [
           {
            "colorbar": {
             "outlinewidth": 0,
             "ticks": ""
            },
            "colorscale": [
             [
              0,
              "#0d0887"
             ],
             [
              0.1111111111111111,
              "#46039f"
             ],
             [
              0.2222222222222222,
              "#7201a8"
             ],
             [
              0.3333333333333333,
              "#9c179e"
             ],
             [
              0.4444444444444444,
              "#bd3786"
             ],
             [
              0.5555555555555556,
              "#d8576b"
             ],
             [
              0.6666666666666666,
              "#ed7953"
             ],
             [
              0.7777777777777778,
              "#fb9f3a"
             ],
             [
              0.8888888888888888,
              "#fdca26"
             ],
             [
              1,
              "#f0f921"
             ]
            ],
            "type": "histogram2dcontour"
           }
          ],
          "mesh3d": [
           {
            "colorbar": {
             "outlinewidth": 0,
             "ticks": ""
            },
            "type": "mesh3d"
           }
          ],
          "parcoords": [
           {
            "line": {
             "colorbar": {
              "outlinewidth": 0,
              "ticks": ""
             }
            },
            "type": "parcoords"
           }
          ],
          "pie": [
           {
            "automargin": true,
            "type": "pie"
           }
          ],
          "scatter": [
           {
            "fillpattern": {
             "fillmode": "overlay",
             "size": 10,
             "solidity": 0.2
            },
            "type": "scatter"
           }
          ],
          "scatter3d": [
           {
            "line": {
             "colorbar": {
              "outlinewidth": 0,
              "ticks": ""
             }
            },
            "marker": {
             "colorbar": {
              "outlinewidth": 0,
              "ticks": ""
             }
            },
            "type": "scatter3d"
           }
          ],
          "scattercarpet": [
           {
            "marker": {
             "colorbar": {
              "outlinewidth": 0,
              "ticks": ""
             }
            },
            "type": "scattercarpet"
           }
          ],
          "scattergeo": [
           {
            "marker": {
             "colorbar": {
              "outlinewidth": 0,
              "ticks": ""
             }
            },
            "type": "scattergeo"
           }
          ],
          "scattergl": [
           {
            "marker": {
             "colorbar": {
              "outlinewidth": 0,
              "ticks": ""
             }
            },
            "type": "scattergl"
           }
          ],
          "scattermapbox": [
           {
            "marker": {
             "colorbar": {
              "outlinewidth": 0,
              "ticks": ""
             }
            },
            "type": "scattermapbox"
           }
          ],
          "scatterpolar": [
           {
            "marker": {
             "colorbar": {
              "outlinewidth": 0,
              "ticks": ""
             }
            },
            "type": "scatterpolar"
           }
          ],
          "scatterpolargl": [
           {
            "marker": {
             "colorbar": {
              "outlinewidth": 0,
              "ticks": ""
             }
            },
            "type": "scatterpolargl"
           }
          ],
          "scatterternary": [
           {
            "marker": {
             "colorbar": {
              "outlinewidth": 0,
              "ticks": ""
             }
            },
            "type": "scatterternary"
           }
          ],
          "surface": [
           {
            "colorbar": {
             "outlinewidth": 0,
             "ticks": ""
            },
            "colorscale": [
             [
              0,
              "#0d0887"
             ],
             [
              0.1111111111111111,
              "#46039f"
             ],
             [
              0.2222222222222222,
              "#7201a8"
             ],
             [
              0.3333333333333333,
              "#9c179e"
             ],
             [
              0.4444444444444444,
              "#bd3786"
             ],
             [
              0.5555555555555556,
              "#d8576b"
             ],
             [
              0.6666666666666666,
              "#ed7953"
             ],
             [
              0.7777777777777778,
              "#fb9f3a"
             ],
             [
              0.8888888888888888,
              "#fdca26"
             ],
             [
              1,
              "#f0f921"
             ]
            ],
            "type": "surface"
           }
          ],
          "table": [
           {
            "cells": {
             "fill": {
              "color": "#EBF0F8"
             },
             "line": {
              "color": "white"
             }
            },
            "header": {
             "fill": {
              "color": "#C8D4E3"
             },
             "line": {
              "color": "white"
             }
            },
            "type": "table"
           }
          ]
         },
         "layout": {
          "annotationdefaults": {
           "arrowcolor": "#2a3f5f",
           "arrowhead": 0,
           "arrowwidth": 1
          },
          "autotypenumbers": "strict",
          "coloraxis": {
           "colorbar": {
            "outlinewidth": 0,
            "ticks": ""
           }
          },
          "colorscale": {
           "diverging": [
            [
             0,
             "#8e0152"
            ],
            [
             0.1,
             "#c51b7d"
            ],
            [
             0.2,
             "#de77ae"
            ],
            [
             0.3,
             "#f1b6da"
            ],
            [
             0.4,
             "#fde0ef"
            ],
            [
             0.5,
             "#f7f7f7"
            ],
            [
             0.6,
             "#e6f5d0"
            ],
            [
             0.7,
             "#b8e186"
            ],
            [
             0.8,
             "#7fbc41"
            ],
            [
             0.9,
             "#4d9221"
            ],
            [
             1,
             "#276419"
            ]
           ],
           "sequential": [
            [
             0,
             "#0d0887"
            ],
            [
             0.1111111111111111,
             "#46039f"
            ],
            [
             0.2222222222222222,
             "#7201a8"
            ],
            [
             0.3333333333333333,
             "#9c179e"
            ],
            [
             0.4444444444444444,
             "#bd3786"
            ],
            [
             0.5555555555555556,
             "#d8576b"
            ],
            [
             0.6666666666666666,
             "#ed7953"
            ],
            [
             0.7777777777777778,
             "#fb9f3a"
            ],
            [
             0.8888888888888888,
             "#fdca26"
            ],
            [
             1,
             "#f0f921"
            ]
           ],
           "sequentialminus": [
            [
             0,
             "#0d0887"
            ],
            [
             0.1111111111111111,
             "#46039f"
            ],
            [
             0.2222222222222222,
             "#7201a8"
            ],
            [
             0.3333333333333333,
             "#9c179e"
            ],
            [
             0.4444444444444444,
             "#bd3786"
            ],
            [
             0.5555555555555556,
             "#d8576b"
            ],
            [
             0.6666666666666666,
             "#ed7953"
            ],
            [
             0.7777777777777778,
             "#fb9f3a"
            ],
            [
             0.8888888888888888,
             "#fdca26"
            ],
            [
             1,
             "#f0f921"
            ]
           ]
          },
          "colorway": [
           "#636efa",
           "#EF553B",
           "#00cc96",
           "#ab63fa",
           "#FFA15A",
           "#19d3f3",
           "#FF6692",
           "#B6E880",
           "#FF97FF",
           "#FECB52"
          ],
          "font": {
           "color": "#2a3f5f"
          },
          "geo": {
           "bgcolor": "white",
           "lakecolor": "white",
           "landcolor": "#E5ECF6",
           "showlakes": true,
           "showland": true,
           "subunitcolor": "white"
          },
          "hoverlabel": {
           "align": "left"
          },
          "hovermode": "closest",
          "mapbox": {
           "style": "light"
          },
          "paper_bgcolor": "white",
          "plot_bgcolor": "#E5ECF6",
          "polar": {
           "angularaxis": {
            "gridcolor": "white",
            "linecolor": "white",
            "ticks": ""
           },
           "bgcolor": "#E5ECF6",
           "radialaxis": {
            "gridcolor": "white",
            "linecolor": "white",
            "ticks": ""
           }
          },
          "scene": {
           "xaxis": {
            "backgroundcolor": "#E5ECF6",
            "gridcolor": "white",
            "gridwidth": 2,
            "linecolor": "white",
            "showbackground": true,
            "ticks": "",
            "zerolinecolor": "white"
           },
           "yaxis": {
            "backgroundcolor": "#E5ECF6",
            "gridcolor": "white",
            "gridwidth": 2,
            "linecolor": "white",
            "showbackground": true,
            "ticks": "",
            "zerolinecolor": "white"
           },
           "zaxis": {
            "backgroundcolor": "#E5ECF6",
            "gridcolor": "white",
            "gridwidth": 2,
            "linecolor": "white",
            "showbackground": true,
            "ticks": "",
            "zerolinecolor": "white"
           }
          },
          "shapedefaults": {
           "line": {
            "color": "#2a3f5f"
           }
          },
          "ternary": {
           "aaxis": {
            "gridcolor": "white",
            "linecolor": "white",
            "ticks": ""
           },
           "baxis": {
            "gridcolor": "white",
            "linecolor": "white",
            "ticks": ""
           },
           "bgcolor": "#E5ECF6",
           "caxis": {
            "gridcolor": "white",
            "linecolor": "white",
            "ticks": ""
           }
          },
          "title": {
           "x": 0.05
          },
          "xaxis": {
           "automargin": true,
           "gridcolor": "white",
           "linecolor": "white",
           "ticks": "",
           "title": {
            "standoff": 15
           },
           "zerolinecolor": "white",
           "zerolinewidth": 2
          },
          "yaxis": {
           "automargin": true,
           "gridcolor": "white",
           "linecolor": "white",
           "ticks": "",
           "title": {
            "standoff": 15
           },
           "zerolinecolor": "white",
           "zerolinewidth": 2
          }
         }
        },
        "width": 1200,
        "xaxis": {
         "anchor": "y",
         "domain": [
          0,
          0.31999999999999995
         ],
         "title": {
          "text": "Year"
         }
        },
        "xaxis2": {
         "anchor": "y2",
         "domain": [
          0.33999999999999997,
          0.6599999999999999
         ],
         "matches": "x",
         "title": {
          "text": "Year"
         }
        },
        "xaxis3": {
         "anchor": "y3",
         "domain": [
          0.6799999999999999,
          0.9999999999999999
         ],
         "matches": "x",
         "title": {
          "text": "Year"
         }
        },
        "xaxis4": {
         "anchor": "y4",
         "domain": [
          0,
          0.31999999999999995
         ],
         "matches": "x",
         "showticklabels": false
        },
        "xaxis5": {
         "anchor": "y5",
         "domain": [
          0.33999999999999997,
          0.6599999999999999
         ],
         "matches": "x",
         "showticklabels": false
        },
        "xaxis6": {
         "anchor": "y6",
         "domain": [
          0.6799999999999999,
          0.9999999999999999
         ],
         "matches": "x",
         "showticklabels": false
        },
        "yaxis": {
         "anchor": "x",
         "domain": [
          0,
          0.425
         ],
         "showticklabels": false,
         "title": {
          "text": "Count"
         }
        },
        "yaxis2": {
         "anchor": "x2",
         "domain": [
          0,
          0.425
         ],
         "showticklabels": false
        },
        "yaxis3": {
         "anchor": "x3",
         "domain": [
          0,
          0.425
         ],
         "showticklabels": false
        },
        "yaxis4": {
         "anchor": "x4",
         "domain": [
          0.575,
          1
         ],
         "showticklabels": false,
         "title": {
          "text": "Count"
         }
        },
        "yaxis5": {
         "anchor": "x5",
         "domain": [
          0.575,
          1
         ],
         "showticklabels": false
        },
        "yaxis6": {
         "anchor": "x6",
         "domain": [
          0.575,
          1
         ],
         "showticklabels": false
        }
       }
      },
      "text/html": [
       "<div>                            <div id=\"6bda1e11-e9f0-4abf-9f13-b05a0e1dd507\" class=\"plotly-graph-div\" style=\"height:800px; width:1200px;\"></div>            <script type=\"text/javascript\">                require([\"plotly\"], function(Plotly) {                    window.PLOTLYENV=window.PLOTLYENV || {};                                    if (document.getElementById(\"6bda1e11-e9f0-4abf-9f13-b05a0e1dd507\")) {                    Plotly.newPlot(                        \"6bda1e11-e9f0-4abf-9f13-b05a0e1dd507\",                        [{\"hovertemplate\":\"category=boomer\\u003cbr\\u003eYear=%{x}\\u003cbr\\u003eCount=%{y}\\u003cextra\\u003e\\u003c\\u002fextra\\u003e\",\"legendgroup\":\"\",\"line\":{\"color\":\"#636efa\",\"dash\":\"solid\"},\"marker\":{\"symbol\":\"circle\"},\"mode\":\"lines\",\"name\":\"\",\"orientation\":\"v\",\"showlegend\":false,\"x\":[1880,1881,1882,1883,1884,1885,1886,1887,1888,1889,1890,1891,1892,1893,1894,1895,1896,1897,1898,1899,1900,1901,1902,1903,1904,1905,1906,1907,1908,1909,1910,1911,1912,1913,1914,1915,1916,1917,1918,1919,1920,1921,1922,1923,1924,1925,1926,1927,1928,1929,1930,1931,1932,1933,1934,1935,1936,1937,1938,1939,1940,1941,1942,1943,1944,1945,1946,1947,1948,1949,1950,1951,1952,1953,1954,1955,1956,1957,1958,1959,1960,1961,1962,1963,1964,1965,1966,1967,1968,1969,1970,1971,1972,1973,1974,1975,1976,1977,1978,1979,1980,1981,1982,1983,1984,1985,1986,1987,1988,1989,1990,1991,1992,1993,1994,1995,1996,1997,1998,1999,2000,2001,2002,2003,2004,2005,2006,2007,2008,2009,2010,2011,2012,2013,2014,2015,2016,2017,2018,2019,2020,2021,2022],\"xaxis\":\"x4\",\"y\":[292,298,326,322,335,312,342,344,375,372,377,383,384,368,379,402,364,351,396,367,435,363,342,322,351,353,356,392,376,406,430,499,599,582,760,937,983,981,1108,993,1127,1212,1293,1414,1730,2117,2670,3409,4069,5098,6560,7270,8405,8491,9890,10908,11849,12893,15840,17723,21195,26642,33989,38162,38090,40328,54232,60599,64633,66485,68551,75155,77944,82811,90052,93369,102101,106883,107529,103938,98586,92820,89643,82413,75540,70106,58360,51548,45926,41994,38653,33954,26729,22950,21164,19403,17418,16691,14931,14112,13127,12019,11289,9971,9227,8296,7663,7075,6671,6698,6420,5873,5761,5470,4860,4389,4465,4090,3786,3722,3703,3586,3567,3547,3364,3106,3149,3232,2813,2316,2157,1841,1597,1437,1316,1286,1266,1168,1001,969,885,705,645],\"yaxis\":\"y4\",\"type\":\"scatter\"},{\"hovertemplate\":\"category=celestial\\u003cbr\\u003eYear=%{x}\\u003cbr\\u003eCount=%{y}\\u003cextra\\u003e\\u003c\\u002fextra\\u003e\",\"legendgroup\":\"\",\"line\":{\"color\":\"#636efa\",\"dash\":\"solid\"},\"marker\":{\"symbol\":\"circle\"},\"mode\":\"lines\",\"name\":\"\",\"orientation\":\"v\",\"showlegend\":false,\"x\":[1880,1882,1883,1884,1886,1887,1888,1889,1890,1891,1892,1893,1894,1895,1896,1897,1898,1899,1900,1901,1902,1903,1904,1905,1906,1907,1908,1909,1910,1911,1912,1913,1914,1915,1916,1917,1918,1919,1920,1921,1922,1923,1924,1925,1926,1927,1928,1929,1930,1931,1932,1933,1934,1935,1936,1937,1938,1939,1940,1941,1942,1943,1944,1945,1946,1947,1948,1949,1950,1951,1952,1953,1954,1955,1956,1957,1958,1959,1960,1961,1962,1963,1964,1965,1966,1967,1968,1969,1970,1971,1972,1973,1974,1975,1976,1977,1978,1979,1980,1981,1982,1983,1984,1985,1986,1987,1988,1989,1990,1991,1992,1993,1994,1995,1996,1997,1998,1999,2000,2001,2002,2003,2004,2005,2006,2007,2008,2009,2010,2011,2012,2013,2014,2015,2016,2017,2018,2019,2020,2021,2022],\"xaxis\":\"x5\",\"y\":[6,5,8,9,13,11,7,14,7,16,5,6,13,22,22,20,21,15,25,12,26,15,22,20,14,24,17,20,22,27,30,39,38,72,79,55,67,63,54,67,53,65,48,46,35,39,45,28,41,35,29,27,29,14,21,22,12,21,16,18,21,23,15,23,29,35,26,49,55,35,56,50,73,104,152,130,131,301,180,228,182,215,193,177,181,223,159,161,213,274,289,303,315,306,324,330,329,358,346,305,319,249,208,208,227,359,336,369,400,391,400,418,418,473,526,709,675,641,748,740,793,857,874,892,865,828,800,798,792,752,850,859,1019,996,974,936,940,953,873,964,1033],\"yaxis\":\"y5\",\"type\":\"scatter\"},{\"hovertemplate\":\"category=evangelical\\u003cbr\\u003eYear=%{x}\\u003cbr\\u003eCount=%{y}\\u003cextra\\u003e\\u003c\\u002fextra\\u003e\",\"legendgroup\":\"\",\"line\":{\"color\":\"#636efa\",\"dash\":\"solid\"},\"marker\":{\"symbol\":\"circle\"},\"mode\":\"lines\",\"name\":\"\",\"orientation\":\"v\",\"showlegend\":false,\"x\":[1880,1883,1884,1887,1888,1891,1892,1894,1896,1897,1904,1907,1908,1910,1911,1912,1913,1914,1915,1916,1917,1918,1919,1920,1921,1922,1923,1924,1925,1926,1927,1928,1929,1930,1931,1932,1933,1934,1935,1936,1937,1938,1939,1940,1941,1942,1943,1944,1945,1946,1947,1948,1949,1950,1951,1952,1953,1954,1955,1957,1958,1959,1960,1961,1962,1964,1965,1966,1968,1969,1970,1971,1972,1973,1974,1975,1976,1977,1978,1979,1980,1981,1982,1983,1984,1985,1986,1987,1988,1989,1990,1991,1992,1993,1994,1995,1996,1997,1998,1999,2000,2001,2002,2003,2004,2005,2006,2007,2008,2009,2010,2011,2012,2013,2014,2015,2016,2017,2018,2019,2020,2021,2022],\"xaxis\":\"x6\",\"y\":[7,7,8,6,5,11,8,6,10,14,6,5,6,12,6,5,11,22,41,38,34,38,35,42,42,41,35,37,33,32,28,33,17,21,23,17,21,29,24,17,21,15,22,20,23,21,21,13,16,12,26,20,22,22,11,21,24,19,19,27,15,17,15,17,9,7,6,10,10,22,10,13,8,26,30,23,23,51,31,29,39,26,24,51,41,39,22,52,48,48,73,71,70,93,86,86,111,119,154,156,182,232,198,237,246,246,284,269,294,350,362,332,422,417,461,626,844,821,944,1066,1207,1513,1756],\"yaxis\":\"y6\",\"type\":\"scatter\"},{\"hovertemplate\":\"category=forbidden\\u003cbr\\u003eYear=%{x}\\u003cbr\\u003eCount=%{y}\\u003cextra\\u003e\\u003c\\u002fextra\\u003e\",\"legendgroup\":\"\",\"line\":{\"color\":\"#636efa\",\"dash\":\"solid\"},\"marker\":{\"symbol\":\"circle\"},\"mode\":\"lines\",\"name\":\"\",\"orientation\":\"v\",\"showlegend\":false,\"x\":[1913,1914,1915,1917,1918,1919,1920,1921,1922,1930,1942,1963,1964,1966,1967,1970,1971,1973,1974,1975,1978,1985,1987,1989,1990,1991,1992,1993,1994,1995,1996,1997,1998,1999,2000,2001,2002,2003,2004,2005,2006,2007,2008,2009,2010,2011,2012,2013,2014,2015,2016,2017,2018,2019,2020,2021,2022],\"xaxis\":\"x\",\"y\":[6,5,6,5,7,6,9,8,6,9,5,6,5,8,7,8,9,6,5,6,7,7,5,5,7,10,13,9,9,15,12,29,63,89,89,98,109,121,115,130,141,165,187,235,265,290,341,337,471,529,606,669,627,828,1068,1236,1231],\"yaxis\":\"y\",\"type\":\"scatter\"},{\"hovertemplate\":\"category=mineral\\u003cbr\\u003eYear=%{x}\\u003cbr\\u003eCount=%{y}\\u003cextra\\u003e\\u003c\\u002fextra\\u003e\",\"legendgroup\":\"\",\"line\":{\"color\":\"#636efa\",\"dash\":\"solid\"},\"marker\":{\"symbol\":\"circle\"},\"mode\":\"lines\",\"name\":\"\",\"orientation\":\"v\",\"showlegend\":false,\"x\":[1918,1967,1968,1969,1971,1973,1974,1975,1976,1977,1978,1979,1980,1981,1982,1983,1984,1985,1986,1987,1988,1989,1990,1991,1992,1993,1994,1995,1996,1997,1998,1999,2000,2001,2002,2003,2004,2005,2006,2007,2008,2009,2010,2011,2012,2013,2014,2015,2016,2017,2018,2019,2020,2021,2022],\"xaxis\":\"x2\",\"y\":[5,5,6,5,5,10,9,17,15,15,14,15,22,21,33,18,37,37,37,30,51,72,91,82,109,118,112,112,116,132,127,117,128,128,133,134,133,109,136,126,99,146,143,137,187,166,232,285,392,435,499,605,744,1152,1324],\"yaxis\":\"y2\",\"type\":\"scatter\"},{\"hovertemplate\":\"category=mythology\\u003cbr\\u003eYear=%{x}\\u003cbr\\u003eCount=%{y}\\u003cextra\\u003e\\u003c\\u002fextra\\u003e\",\"legendgroup\":\"\",\"line\":{\"color\":\"#636efa\",\"dash\":\"solid\"},\"marker\":{\"symbol\":\"circle\"},\"mode\":\"lines\",\"name\":\"\",\"orientation\":\"v\",\"showlegend\":false,\"x\":[1880,1881,1882,1883,1884,1885,1886,1887,1888,1889,1890,1891,1892,1893,1894,1895,1896,1897,1898,1899,1900,1901,1902,1903,1904,1905,1906,1907,1908,1909,1910,1911,1912,1913,1914,1915,1916,1917,1918,1919,1920,1921,1922,1923,1924,1925,1926,1927,1928,1929,1930,1931,1932,1933,1934,1935,1936,1937,1938,1939,1940,1941,1942,1943,1944,1945,1946,1947,1948,1949,1950,1951,1952,1953,1954,1955,1956,1957,1958,1959,1960,1961,1962,1963,1964,1965,1966,1967,1968,1969,1970,1971,1972,1973,1974,1975,1976,1977,1978,1979,1980,1981,1982,1983,1984,1985,1986,1987,1988,1989,1990,1991,1992,1993,1994,1995,1996,1997,1998,1999,2000,2001,2002,2003,2004,2005,2006,2007,2008,2009,2010,2011,2012,2013,2014,2015,2016,2017,2018,2019,2020,2021,2022],\"xaxis\":\"x3\",\"y\":[160,138,180,170,168,157,173,169,212,165,166,161,198,203,178,171,174,159,181,161,206,168,159,173,189,190,190,231,268,269,355,368,766,846,1064,1379,1383,1408,1438,1331,1339,1346,1297,1211,1144,1104,1058,935,880,864,831,733,723,559,584,574,548,570,560,545,602,596,601,639,570,497,565,624,567,566,524,524,489,566,607,621,525,607,507,525,513,448,450,510,511,467,440,410,391,405,405,424,386,370,386,366,387,486,494,529,562,578,593,623,569,546,509,569,575,596,666,625,606,508,476,522,532,584,573,589,663,816,867,899,973,1124,1377,1514,1563,1457,1404,1443,1467,1670,2147,2490,2673,2799,2947,3330,3516,3895,4049],\"yaxis\":\"y3\",\"type\":\"scatter\"}],                        {\"template\":{\"data\":{\"histogram2dcontour\":[{\"type\":\"histogram2dcontour\",\"colorbar\":{\"outlinewidth\":0,\"ticks\":\"\"},\"colorscale\":[[0.0,\"#0d0887\"],[0.1111111111111111,\"#46039f\"],[0.2222222222222222,\"#7201a8\"],[0.3333333333333333,\"#9c179e\"],[0.4444444444444444,\"#bd3786\"],[0.5555555555555556,\"#d8576b\"],[0.6666666666666666,\"#ed7953\"],[0.7777777777777778,\"#fb9f3a\"],[0.8888888888888888,\"#fdca26\"],[1.0,\"#f0f921\"]]}],\"choropleth\":[{\"type\":\"choropleth\",\"colorbar\":{\"outlinewidth\":0,\"ticks\":\"\"}}],\"histogram2d\":[{\"type\":\"histogram2d\",\"colorbar\":{\"outlinewidth\":0,\"ticks\":\"\"},\"colorscale\":[[0.0,\"#0d0887\"],[0.1111111111111111,\"#46039f\"],[0.2222222222222222,\"#7201a8\"],[0.3333333333333333,\"#9c179e\"],[0.4444444444444444,\"#bd3786\"],[0.5555555555555556,\"#d8576b\"],[0.6666666666666666,\"#ed7953\"],[0.7777777777777778,\"#fb9f3a\"],[0.8888888888888888,\"#fdca26\"],[1.0,\"#f0f921\"]]}],\"heatmap\":[{\"type\":\"heatmap\",\"colorbar\":{\"outlinewidth\":0,\"ticks\":\"\"},\"colorscale\":[[0.0,\"#0d0887\"],[0.1111111111111111,\"#46039f\"],[0.2222222222222222,\"#7201a8\"],[0.3333333333333333,\"#9c179e\"],[0.4444444444444444,\"#bd3786\"],[0.5555555555555556,\"#d8576b\"],[0.6666666666666666,\"#ed7953\"],[0.7777777777777778,\"#fb9f3a\"],[0.8888888888888888,\"#fdca26\"],[1.0,\"#f0f921\"]]}],\"heatmapgl\":[{\"type\":\"heatmapgl\",\"colorbar\":{\"outlinewidth\":0,\"ticks\":\"\"},\"colorscale\":[[0.0,\"#0d0887\"],[0.1111111111111111,\"#46039f\"],[0.2222222222222222,\"#7201a8\"],[0.3333333333333333,\"#9c179e\"],[0.4444444444444444,\"#bd3786\"],[0.5555555555555556,\"#d8576b\"],[0.6666666666666666,\"#ed7953\"],[0.7777777777777778,\"#fb9f3a\"],[0.8888888888888888,\"#fdca26\"],[1.0,\"#f0f921\"]]}],\"contourcarpet\":[{\"type\":\"contourcarpet\",\"colorbar\":{\"outlinewidth\":0,\"ticks\":\"\"}}],\"contour\":[{\"type\":\"contour\",\"colorbar\":{\"outlinewidth\":0,\"ticks\":\"\"},\"colorscale\":[[0.0,\"#0d0887\"],[0.1111111111111111,\"#46039f\"],[0.2222222222222222,\"#7201a8\"],[0.3333333333333333,\"#9c179e\"],[0.4444444444444444,\"#bd3786\"],[0.5555555555555556,\"#d8576b\"],[0.6666666666666666,\"#ed7953\"],[0.7777777777777778,\"#fb9f3a\"],[0.8888888888888888,\"#fdca26\"],[1.0,\"#f0f921\"]]}],\"surface\":[{\"type\":\"surface\",\"colorbar\":{\"outlinewidth\":0,\"ticks\":\"\"},\"colorscale\":[[0.0,\"#0d0887\"],[0.1111111111111111,\"#46039f\"],[0.2222222222222222,\"#7201a8\"],[0.3333333333333333,\"#9c179e\"],[0.4444444444444444,\"#bd3786\"],[0.5555555555555556,\"#d8576b\"],[0.6666666666666666,\"#ed7953\"],[0.7777777777777778,\"#fb9f3a\"],[0.8888888888888888,\"#fdca26\"],[1.0,\"#f0f921\"]]}],\"mesh3d\":[{\"type\":\"mesh3d\",\"colorbar\":{\"outlinewidth\":0,\"ticks\":\"\"}}],\"scatter\":[{\"fillpattern\":{\"fillmode\":\"overlay\",\"size\":10,\"solidity\":0.2},\"type\":\"scatter\"}],\"parcoords\":[{\"type\":\"parcoords\",\"line\":{\"colorbar\":{\"outlinewidth\":0,\"ticks\":\"\"}}}],\"scatterpolargl\":[{\"type\":\"scatterpolargl\",\"marker\":{\"colorbar\":{\"outlinewidth\":0,\"ticks\":\"\"}}}],\"bar\":[{\"error_x\":{\"color\":\"#2a3f5f\"},\"error_y\":{\"color\":\"#2a3f5f\"},\"marker\":{\"line\":{\"color\":\"#E5ECF6\",\"width\":0.5},\"pattern\":{\"fillmode\":\"overlay\",\"size\":10,\"solidity\":0.2}},\"type\":\"bar\"}],\"scattergeo\":[{\"type\":\"scattergeo\",\"marker\":{\"colorbar\":{\"outlinewidth\":0,\"ticks\":\"\"}}}],\"scatterpolar\":[{\"type\":\"scatterpolar\",\"marker\":{\"colorbar\":{\"outlinewidth\":0,\"ticks\":\"\"}}}],\"histogram\":[{\"marker\":{\"pattern\":{\"fillmode\":\"overlay\",\"size\":10,\"solidity\":0.2}},\"type\":\"histogram\"}],\"scattergl\":[{\"type\":\"scattergl\",\"marker\":{\"colorbar\":{\"outlinewidth\":0,\"ticks\":\"\"}}}],\"scatter3d\":[{\"type\":\"scatter3d\",\"line\":{\"colorbar\":{\"outlinewidth\":0,\"ticks\":\"\"}},\"marker\":{\"colorbar\":{\"outlinewidth\":0,\"ticks\":\"\"}}}],\"scattermapbox\":[{\"type\":\"scattermapbox\",\"marker\":{\"colorbar\":{\"outlinewidth\":0,\"ticks\":\"\"}}}],\"scatterternary\":[{\"type\":\"scatterternary\",\"marker\":{\"colorbar\":{\"outlinewidth\":0,\"ticks\":\"\"}}}],\"scattercarpet\":[{\"type\":\"scattercarpet\",\"marker\":{\"colorbar\":{\"outlinewidth\":0,\"ticks\":\"\"}}}],\"carpet\":[{\"aaxis\":{\"endlinecolor\":\"#2a3f5f\",\"gridcolor\":\"white\",\"linecolor\":\"white\",\"minorgridcolor\":\"white\",\"startlinecolor\":\"#2a3f5f\"},\"baxis\":{\"endlinecolor\":\"#2a3f5f\",\"gridcolor\":\"white\",\"linecolor\":\"white\",\"minorgridcolor\":\"white\",\"startlinecolor\":\"#2a3f5f\"},\"type\":\"carpet\"}],\"table\":[{\"cells\":{\"fill\":{\"color\":\"#EBF0F8\"},\"line\":{\"color\":\"white\"}},\"header\":{\"fill\":{\"color\":\"#C8D4E3\"},\"line\":{\"color\":\"white\"}},\"type\":\"table\"}],\"barpolar\":[{\"marker\":{\"line\":{\"color\":\"#E5ECF6\",\"width\":0.5},\"pattern\":{\"fillmode\":\"overlay\",\"size\":10,\"solidity\":0.2}},\"type\":\"barpolar\"}],\"pie\":[{\"automargin\":true,\"type\":\"pie\"}]},\"layout\":{\"autotypenumbers\":\"strict\",\"colorway\":[\"#636efa\",\"#EF553B\",\"#00cc96\",\"#ab63fa\",\"#FFA15A\",\"#19d3f3\",\"#FF6692\",\"#B6E880\",\"#FF97FF\",\"#FECB52\"],\"font\":{\"color\":\"#2a3f5f\"},\"hovermode\":\"closest\",\"hoverlabel\":{\"align\":\"left\"},\"paper_bgcolor\":\"white\",\"plot_bgcolor\":\"#E5ECF6\",\"polar\":{\"bgcolor\":\"#E5ECF6\",\"angularaxis\":{\"gridcolor\":\"white\",\"linecolor\":\"white\",\"ticks\":\"\"},\"radialaxis\":{\"gridcolor\":\"white\",\"linecolor\":\"white\",\"ticks\":\"\"}},\"ternary\":{\"bgcolor\":\"#E5ECF6\",\"aaxis\":{\"gridcolor\":\"white\",\"linecolor\":\"white\",\"ticks\":\"\"},\"baxis\":{\"gridcolor\":\"white\",\"linecolor\":\"white\",\"ticks\":\"\"},\"caxis\":{\"gridcolor\":\"white\",\"linecolor\":\"white\",\"ticks\":\"\"}},\"coloraxis\":{\"colorbar\":{\"outlinewidth\":0,\"ticks\":\"\"}},\"colorscale\":{\"sequential\":[[0.0,\"#0d0887\"],[0.1111111111111111,\"#46039f\"],[0.2222222222222222,\"#7201a8\"],[0.3333333333333333,\"#9c179e\"],[0.4444444444444444,\"#bd3786\"],[0.5555555555555556,\"#d8576b\"],[0.6666666666666666,\"#ed7953\"],[0.7777777777777778,\"#fb9f3a\"],[0.8888888888888888,\"#fdca26\"],[1.0,\"#f0f921\"]],\"sequentialminus\":[[0.0,\"#0d0887\"],[0.1111111111111111,\"#46039f\"],[0.2222222222222222,\"#7201a8\"],[0.3333333333333333,\"#9c179e\"],[0.4444444444444444,\"#bd3786\"],[0.5555555555555556,\"#d8576b\"],[0.6666666666666666,\"#ed7953\"],[0.7777777777777778,\"#fb9f3a\"],[0.8888888888888888,\"#fdca26\"],[1.0,\"#f0f921\"]],\"diverging\":[[0,\"#8e0152\"],[0.1,\"#c51b7d\"],[0.2,\"#de77ae\"],[0.3,\"#f1b6da\"],[0.4,\"#fde0ef\"],[0.5,\"#f7f7f7\"],[0.6,\"#e6f5d0\"],[0.7,\"#b8e186\"],[0.8,\"#7fbc41\"],[0.9,\"#4d9221\"],[1,\"#276419\"]]},\"xaxis\":{\"gridcolor\":\"white\",\"linecolor\":\"white\",\"ticks\":\"\",\"title\":{\"standoff\":15},\"zerolinecolor\":\"white\",\"automargin\":true,\"zerolinewidth\":2},\"yaxis\":{\"gridcolor\":\"white\",\"linecolor\":\"white\",\"ticks\":\"\",\"title\":{\"standoff\":15},\"zerolinecolor\":\"white\",\"automargin\":true,\"zerolinewidth\":2},\"scene\":{\"xaxis\":{\"backgroundcolor\":\"#E5ECF6\",\"gridcolor\":\"white\",\"linecolor\":\"white\",\"showbackground\":true,\"ticks\":\"\",\"zerolinecolor\":\"white\",\"gridwidth\":2},\"yaxis\":{\"backgroundcolor\":\"#E5ECF6\",\"gridcolor\":\"white\",\"linecolor\":\"white\",\"showbackground\":true,\"ticks\":\"\",\"zerolinecolor\":\"white\",\"gridwidth\":2},\"zaxis\":{\"backgroundcolor\":\"#E5ECF6\",\"gridcolor\":\"white\",\"linecolor\":\"white\",\"showbackground\":true,\"ticks\":\"\",\"zerolinecolor\":\"white\",\"gridwidth\":2}},\"shapedefaults\":{\"line\":{\"color\":\"#2a3f5f\"}},\"annotationdefaults\":{\"arrowcolor\":\"#2a3f5f\",\"arrowhead\":0,\"arrowwidth\":1},\"geo\":{\"bgcolor\":\"white\",\"landcolor\":\"#E5ECF6\",\"subunitcolor\":\"white\",\"showland\":true,\"showlakes\":true,\"lakecolor\":\"white\"},\"title\":{\"x\":0.05},\"mapbox\":{\"style\":\"light\"}}},\"xaxis\":{\"anchor\":\"y\",\"domain\":[0.0,0.31999999999999995],\"title\":{\"text\":\"Year\"}},\"yaxis\":{\"anchor\":\"x\",\"domain\":[0.0,0.425],\"title\":{\"text\":\"Count\"},\"showticklabels\":false},\"xaxis2\":{\"anchor\":\"y2\",\"domain\":[0.33999999999999997,0.6599999999999999],\"matches\":\"x\",\"title\":{\"text\":\"Year\"}},\"yaxis2\":{\"anchor\":\"x2\",\"domain\":[0.0,0.425],\"showticklabels\":false},\"xaxis3\":{\"anchor\":\"y3\",\"domain\":[0.6799999999999999,0.9999999999999999],\"matches\":\"x\",\"title\":{\"text\":\"Year\"}},\"yaxis3\":{\"anchor\":\"x3\",\"domain\":[0.0,0.425],\"showticklabels\":false},\"xaxis4\":{\"anchor\":\"y4\",\"domain\":[0.0,0.31999999999999995],\"matches\":\"x\",\"showticklabels\":false},\"yaxis4\":{\"anchor\":\"x4\",\"domain\":[0.575,1.0],\"title\":{\"text\":\"Count\"},\"showticklabels\":false},\"xaxis5\":{\"anchor\":\"y5\",\"domain\":[0.33999999999999997,0.6599999999999999],\"matches\":\"x\",\"showticklabels\":false},\"yaxis5\":{\"anchor\":\"x5\",\"domain\":[0.575,1.0],\"showticklabels\":false},\"xaxis6\":{\"anchor\":\"y6\",\"domain\":[0.6799999999999999,0.9999999999999999],\"matches\":\"x\",\"showticklabels\":false},\"yaxis6\":{\"anchor\":\"x6\",\"domain\":[0.575,1.0],\"showticklabels\":false},\"annotations\":[{\"font\":{},\"showarrow\":false,\"text\":\"category=forbidden\",\"x\":0.15999999999999998,\"xanchor\":\"center\",\"xref\":\"paper\",\"y\":0.425,\"yanchor\":\"bottom\",\"yref\":\"paper\"},{\"font\":{},\"showarrow\":false,\"text\":\"category=mineral\",\"x\":0.49999999999999994,\"xanchor\":\"center\",\"xref\":\"paper\",\"y\":0.425,\"yanchor\":\"bottom\",\"yref\":\"paper\"},{\"font\":{},\"showarrow\":false,\"text\":\"category=mythology\",\"x\":0.8399999999999999,\"xanchor\":\"center\",\"xref\":\"paper\",\"y\":0.425,\"yanchor\":\"bottom\",\"yref\":\"paper\"},{\"font\":{},\"showarrow\":false,\"text\":\"category=boomer\",\"x\":0.15999999999999998,\"xanchor\":\"center\",\"xref\":\"paper\",\"y\":1.0,\"yanchor\":\"bottom\",\"yref\":\"paper\"},{\"font\":{},\"showarrow\":false,\"text\":\"category=celestial\",\"x\":0.49999999999999994,\"xanchor\":\"center\",\"xref\":\"paper\",\"y\":1.0,\"yanchor\":\"bottom\",\"yref\":\"paper\"},{\"font\":{},\"showarrow\":false,\"text\":\"category=evangelical\",\"x\":0.8399999999999999,\"xanchor\":\"center\",\"xref\":\"paper\",\"y\":1.0,\"yanchor\":\"bottom\",\"yref\":\"paper\"}],\"legend\":{\"tracegroupgap\":0},\"margin\":{\"t\":60},\"height\":800,\"width\":1200},                        {\"responsive\": true}                    ).then(function(){\n",
       "                            \n",
       "var gd = document.getElementById('6bda1e11-e9f0-4abf-9f13-b05a0e1dd507');\n",
       "var x = new MutationObserver(function (mutations, observer) {{\n",
       "        var display = window.getComputedStyle(gd).display;\n",
       "        if (!display || display === 'none') {{\n",
       "            console.log([gd, 'removed!']);\n",
       "            Plotly.purge(gd);\n",
       "            observer.disconnect();\n",
       "        }}\n",
       "}});\n",
       "\n",
       "// Listen for the removal of the full notebook cells\n",
       "var notebookContainer = gd.closest('#notebook-container');\n",
       "if (notebookContainer) {{\n",
       "    x.observe(notebookContainer, {childList: true});\n",
       "}}\n",
       "\n",
       "// Listen for the clearing of the current output cell\n",
       "var outputEl = gd.closest('.output');\n",
       "if (outputEl) {{\n",
       "    x.observe(outputEl, {childList: true});\n",
       "}}\n",
       "\n",
       "                        })                };                });            </script>        </div>"
      ]
     },
     "metadata": {},
     "output_type": "display_data"
    }
   ],
   "source": [
    "# We'll talk about plotting code soon!\n",
    "import plotly.express as px\n",
    "fig = px.line(cate_counts, x='Year', y='Count',\n",
    "              facet_col='category', facet_col_wrap=3,\n",
    "              facet_row_spacing=0.15,\n",
    "              width=1200, height=800)\n",
    "fig.update_yaxes(matches=None, showticklabels=False)"
   ]
  },
  {
   "cell_type": "markdown",
   "id": "7ab1a22d",
   "metadata": {
    "slideshow": {
     "slide_type": "slide"
    }
   },
   "source": [
    "## Transforming\n",
    "\n",
    "<img src=\"imgs/consonants.png\" width=500 />"
   ]
  },
  {
   "cell_type": "code",
   "execution_count": 49,
   "id": "27b40e8e",
   "metadata": {},
   "outputs": [
    {
     "data": {
      "text/html": [
       "<div>\n",
       "<style scoped>\n",
       "    .dataframe tbody tr th:only-of-type {\n",
       "        vertical-align: middle;\n",
       "    }\n",
       "\n",
       "    .dataframe tbody tr th {\n",
       "        vertical-align: top;\n",
       "    }\n",
       "\n",
       "    .dataframe thead th {\n",
       "        text-align: right;\n",
       "    }\n",
       "</style>\n",
       "<table border=\"1\" class=\"dataframe\">\n",
       "  <thead>\n",
       "    <tr style=\"text-align: right;\">\n",
       "      <th></th>\n",
       "      <th>Name</th>\n",
       "      <th>Sex</th>\n",
       "      <th>Count</th>\n",
       "      <th>Year</th>\n",
       "    </tr>\n",
       "  </thead>\n",
       "  <tbody>\n",
       "    <tr>\n",
       "      <th>0</th>\n",
       "      <td>Liam</td>\n",
       "      <td>M</td>\n",
       "      <td>20456</td>\n",
       "      <td>2022</td>\n",
       "    </tr>\n",
       "    <tr>\n",
       "      <th>1</th>\n",
       "      <td>Noah</td>\n",
       "      <td>M</td>\n",
       "      <td>18621</td>\n",
       "      <td>2022</td>\n",
       "    </tr>\n",
       "    <tr>\n",
       "      <th>2</th>\n",
       "      <td>Olivia</td>\n",
       "      <td>F</td>\n",
       "      <td>16573</td>\n",
       "      <td>2022</td>\n",
       "    </tr>\n",
       "    <tr>\n",
       "      <th>3</th>\n",
       "      <td>Oliver</td>\n",
       "      <td>M</td>\n",
       "      <td>15076</td>\n",
       "      <td>2022</td>\n",
       "    </tr>\n",
       "    <tr>\n",
       "      <th>...</th>\n",
       "      <td>...</td>\n",
       "      <td>...</td>\n",
       "      <td>...</td>\n",
       "      <td>...</td>\n",
       "    </tr>\n",
       "    <tr>\n",
       "      <th>2085154</th>\n",
       "      <td>Worthy</td>\n",
       "      <td>M</td>\n",
       "      <td>5</td>\n",
       "      <td>1880</td>\n",
       "    </tr>\n",
       "    <tr>\n",
       "      <th>2085155</th>\n",
       "      <td>Wright</td>\n",
       "      <td>M</td>\n",
       "      <td>5</td>\n",
       "      <td>1880</td>\n",
       "    </tr>\n",
       "    <tr>\n",
       "      <th>2085156</th>\n",
       "      <td>York</td>\n",
       "      <td>M</td>\n",
       "      <td>5</td>\n",
       "      <td>1880</td>\n",
       "    </tr>\n",
       "    <tr>\n",
       "      <th>2085157</th>\n",
       "      <td>Zachariah</td>\n",
       "      <td>M</td>\n",
       "      <td>5</td>\n",
       "      <td>1880</td>\n",
       "    </tr>\n",
       "  </tbody>\n",
       "</table>\n",
       "<p>2085158 rows × 4 columns</p>\n",
       "</div>"
      ],
      "text/plain": [
       "              Name Sex  Count  Year\n",
       "0             Liam   M  20456  2022\n",
       "1             Noah   M  18621  2022\n",
       "2           Olivia   F  16573  2022\n",
       "3           Oliver   M  15076  2022\n",
       "...            ...  ..    ...   ...\n",
       "2085154     Worthy   M      5  1880\n",
       "2085155     Wright   M      5  1880\n",
       "2085156       York   M      5  1880\n",
       "2085157  Zachariah   M      5  1880\n",
       "\n",
       "[2085158 rows x 4 columns]"
      ]
     },
     "execution_count": 49,
     "metadata": {},
     "output_type": "execute_result"
    }
   ],
   "source": [
    "baby"
   ]
  },
  {
   "cell_type": "markdown",
   "id": "c9f4e164",
   "metadata": {
    "slideshow": {
     "slide_type": "slide"
    }
   },
   "source": [
    "### Transforming values\n",
    "\n",
    "The most flexible method is `apply`: takes in a function that receives a single value as input, returns a single value."
   ]
  },
  {
   "cell_type": "code",
   "execution_count": 51,
   "id": "e8d0d6d7",
   "metadata": {},
   "outputs": [
    {
     "data": {
      "text/html": [
       "<div>\n",
       "<style scoped>\n",
       "    .dataframe tbody tr th:only-of-type {\n",
       "        vertical-align: middle;\n",
       "    }\n",
       "\n",
       "    .dataframe tbody tr th {\n",
       "        vertical-align: top;\n",
       "    }\n",
       "\n",
       "    .dataframe thead th {\n",
       "        text-align: right;\n",
       "    }\n",
       "</style>\n",
       "<table border=\"1\" class=\"dataframe\">\n",
       "  <thead>\n",
       "    <tr style=\"text-align: right;\">\n",
       "      <th></th>\n",
       "      <th>Name</th>\n",
       "      <th>Sex</th>\n",
       "      <th>Count</th>\n",
       "      <th>Year</th>\n",
       "    </tr>\n",
       "  </thead>\n",
       "  <tbody>\n",
       "    <tr>\n",
       "      <th>0</th>\n",
       "      <td>Liam</td>\n",
       "      <td>M</td>\n",
       "      <td>20456</td>\n",
       "      <td>2022</td>\n",
       "    </tr>\n",
       "    <tr>\n",
       "      <th>1</th>\n",
       "      <td>Noah</td>\n",
       "      <td>M</td>\n",
       "      <td>18621</td>\n",
       "      <td>2022</td>\n",
       "    </tr>\n",
       "    <tr>\n",
       "      <th>2</th>\n",
       "      <td>Olivia</td>\n",
       "      <td>F</td>\n",
       "      <td>16573</td>\n",
       "      <td>2022</td>\n",
       "    </tr>\n",
       "    <tr>\n",
       "      <th>3</th>\n",
       "      <td>Oliver</td>\n",
       "      <td>M</td>\n",
       "      <td>15076</td>\n",
       "      <td>2022</td>\n",
       "    </tr>\n",
       "    <tr>\n",
       "      <th>...</th>\n",
       "      <td>...</td>\n",
       "      <td>...</td>\n",
       "      <td>...</td>\n",
       "      <td>...</td>\n",
       "    </tr>\n",
       "    <tr>\n",
       "      <th>2085154</th>\n",
       "      <td>Worthy</td>\n",
       "      <td>M</td>\n",
       "      <td>5</td>\n",
       "      <td>1880</td>\n",
       "    </tr>\n",
       "    <tr>\n",
       "      <th>2085155</th>\n",
       "      <td>Wright</td>\n",
       "      <td>M</td>\n",
       "      <td>5</td>\n",
       "      <td>1880</td>\n",
       "    </tr>\n",
       "    <tr>\n",
       "      <th>2085156</th>\n",
       "      <td>York</td>\n",
       "      <td>M</td>\n",
       "      <td>5</td>\n",
       "      <td>1880</td>\n",
       "    </tr>\n",
       "    <tr>\n",
       "      <th>2085157</th>\n",
       "      <td>Zachariah</td>\n",
       "      <td>M</td>\n",
       "      <td>5</td>\n",
       "      <td>1880</td>\n",
       "    </tr>\n",
       "  </tbody>\n",
       "</table>\n",
       "<p>2085158 rows × 4 columns</p>\n",
       "</div>"
      ],
      "text/plain": [
       "              Name Sex  Count  Year\n",
       "0             Liam   M  20456  2022\n",
       "1             Noah   M  18621  2022\n",
       "2           Olivia   F  16573  2022\n",
       "3           Oliver   M  15076  2022\n",
       "...            ...  ..    ...   ...\n",
       "2085154     Worthy   M      5  1880\n",
       "2085155     Wright   M      5  1880\n",
       "2085156       York   M      5  1880\n",
       "2085157  Zachariah   M      5  1880\n",
       "\n",
       "[2085158 rows x 4 columns]"
      ]
     },
     "execution_count": 51,
     "metadata": {},
     "output_type": "execute_result"
    }
   ],
   "source": [
    "baby"
   ]
  },
  {
   "cell_type": "code",
   "execution_count": 50,
   "id": "5fbb9817",
   "metadata": {},
   "outputs": [
    {
     "data": {
      "text/plain": [
       "0          2\n",
       "1          2\n",
       "2          4\n",
       "3          3\n",
       "          ..\n",
       "2085154    1\n",
       "2085155    1\n",
       "2085156    1\n",
       "2085157    4\n",
       "Name: Name, Length: 2085158, dtype: int64"
      ]
     },
     "execution_count": 50,
     "metadata": {},
     "output_type": "execute_result"
    }
   ],
   "source": [
    "def number_of_vowels(string):\n",
    "    return sum(c in 'aeiou' for c in string.lower())\n",
    "\n",
    "baby['Name'].apply(number_of_vowels)"
   ]
  },
  {
   "cell_type": "code",
   "execution_count": 52,
   "id": "c312f6b8",
   "metadata": {
    "slideshow": {
     "slide_type": ""
    }
   },
   "outputs": [
    {
     "data": {
      "text/plain": [
       "0          4\n",
       "1          4\n",
       "2          6\n",
       "3          6\n",
       "          ..\n",
       "2085154    6\n",
       "2085155    6\n",
       "2085156    4\n",
       "2085157    9\n",
       "Name: Name, Length: 2085158, dtype: int64"
      ]
     },
     "execution_count": 52,
     "metadata": {},
     "output_type": "execute_result"
    }
   ],
   "source": [
    "# Builtin functions work\n",
    "baby['Name'].apply(len)"
   ]
  },
  {
   "cell_type": "markdown",
   "id": "fd90efe0",
   "metadata": {
    "slideshow": {
     "slide_type": "slide"
    }
   },
   "source": [
    "### Looking at \"L\" names"
   ]
  },
  {
   "cell_type": "code",
   "execution_count": 61,
   "id": "2b1baddf",
   "metadata": {},
   "outputs": [
    {
     "data": {
      "text/plain": [
       "<AxesSubplot:xlabel='Year'>"
      ]
     },
     "execution_count": 61,
     "metadata": {},
     "output_type": "execute_result"
    },
    {
     "data": {
      "image/svg+xml": [
       "<?xml version=\"1.0\" encoding=\"utf-8\" standalone=\"no\"?>\n",
       "<!DOCTYPE svg PUBLIC \"-//W3C//DTD SVG 1.1//EN\"\n",
       "  \"http://www.w3.org/Graphics/SVG/1.1/DTD/svg11.dtd\">\n",
       "<svg xmlns:xlink=\"http://www.w3.org/1999/xlink\" width=\"661.304375pt\" height=\"359.436908pt\" viewBox=\"0 0 661.304375 359.436908\" xmlns=\"http://www.w3.org/2000/svg\" version=\"1.1\">\n",
       " <metadata>\n",
       "  <rdf:RDF xmlns:dc=\"http://purl.org/dc/elements/1.1/\" xmlns:cc=\"http://creativecommons.org/ns#\" xmlns:rdf=\"http://www.w3.org/1999/02/22-rdf-syntax-ns#\">\n",
       "   <cc:Work>\n",
       "    <dc:type rdf:resource=\"http://purl.org/dc/dcmitype/StillImage\"/>\n",
       "    <dc:date>2023-10-12T16:31:07.569876</dc:date>\n",
       "    <dc:format>image/svg+xml</dc:format>\n",
       "    <dc:creator>\n",
       "     <cc:Agent>\n",
       "      <dc:title>Matplotlib v3.5.1, https://matplotlib.org/</dc:title>\n",
       "     </cc:Agent>\n",
       "    </dc:creator>\n",
       "   </cc:Work>\n",
       "  </rdf:RDF>\n",
       " </metadata>\n",
       " <defs>\n",
       "  <style type=\"text/css\">*{stroke-linejoin: round; stroke-linecap: butt}</style>\n",
       " </defs>\n",
       " <g id=\"figure_1\">\n",
       "  <g id=\"patch_1\">\n",
       "   <path d=\"M 0 359.436908 \n",
       "L 661.304375 359.436908 \n",
       "L 661.304375 0 \n",
       "L 0 0 \n",
       "z\n",
       "\" style=\"fill: #ffffff\"/>\n",
       "  </g>\n",
       "  <g id=\"axes_1\">\n",
       "   <g id=\"patch_2\">\n",
       "    <path d=\"M 96.104375 290.66847 \n",
       "L 654.104375 290.66847 \n",
       "L 654.104375 13.46847 \n",
       "L 96.104375 13.46847 \n",
       "z\n",
       "\" style=\"fill: #ffffff\"/>\n",
       "   </g>\n",
       "   <g id=\"matplotlib.axis_1\">\n",
       "    <g id=\"xtick_1\">\n",
       "     <g id=\"line2d_1\">\n",
       "      <path d=\"M 121.468011 290.66847 \n",
       "L 121.468011 13.46847 \n",
       "\" clip-path=\"url(#p1bf0650a60)\" style=\"fill: none; stroke: #cccccc; stroke-width: 2; stroke-linecap: round\"/>\n",
       "     </g>\n",
       "     <g id=\"text_1\">\n",
       "      <!-- 1880 -->\n",
       "      <g style=\"fill: #262626\" transform=\"translate(96.999886 321.915658)scale(0.22 -0.22)\">\n",
       "       <defs>\n",
       "        <path id=\"ArialMT-31\" d=\"M 2384 0 \n",
       "L 1822 0 \n",
       "L 1822 3584 \n",
       "Q 1619 3391 1289 3197 \n",
       "Q 959 3003 697 2906 \n",
       "L 697 3450 \n",
       "Q 1169 3672 1522 3987 \n",
       "Q 1875 4303 2022 4600 \n",
       "L 2384 4600 \n",
       "L 2384 0 \n",
       "z\n",
       "\" transform=\"scale(0.015625)\"/>\n",
       "        <path id=\"ArialMT-38\" d=\"M 1131 2484 \n",
       "Q 781 2613 612 2850 \n",
       "Q 444 3088 444 3419 \n",
       "Q 444 3919 803 4259 \n",
       "Q 1163 4600 1759 4600 \n",
       "Q 2359 4600 2725 4251 \n",
       "Q 3091 3903 3091 3403 \n",
       "Q 3091 3084 2923 2848 \n",
       "Q 2756 2613 2416 2484 \n",
       "Q 2838 2347 3058 2040 \n",
       "Q 3278 1734 3278 1309 \n",
       "Q 3278 722 2862 322 \n",
       "Q 2447 -78 1769 -78 \n",
       "Q 1091 -78 675 323 \n",
       "Q 259 725 259 1325 \n",
       "Q 259 1772 486 2073 \n",
       "Q 713 2375 1131 2484 \n",
       "z\n",
       "M 1019 3438 \n",
       "Q 1019 3113 1228 2906 \n",
       "Q 1438 2700 1772 2700 \n",
       "Q 2097 2700 2305 2904 \n",
       "Q 2513 3109 2513 3406 \n",
       "Q 2513 3716 2298 3927 \n",
       "Q 2084 4138 1766 4138 \n",
       "Q 1444 4138 1231 3931 \n",
       "Q 1019 3725 1019 3438 \n",
       "z\n",
       "M 838 1322 \n",
       "Q 838 1081 952 856 \n",
       "Q 1066 631 1291 507 \n",
       "Q 1516 384 1775 384 \n",
       "Q 2178 384 2440 643 \n",
       "Q 2703 903 2703 1303 \n",
       "Q 2703 1709 2433 1975 \n",
       "Q 2163 2241 1756 2241 \n",
       "Q 1359 2241 1098 1978 \n",
       "Q 838 1716 838 1322 \n",
       "z\n",
       "\" transform=\"scale(0.015625)\"/>\n",
       "        <path id=\"ArialMT-30\" d=\"M 266 2259 \n",
       "Q 266 3072 433 3567 \n",
       "Q 600 4063 929 4331 \n",
       "Q 1259 4600 1759 4600 \n",
       "Q 2128 4600 2406 4451 \n",
       "Q 2684 4303 2865 4023 \n",
       "Q 3047 3744 3150 3342 \n",
       "Q 3253 2941 3253 2259 \n",
       "Q 3253 1453 3087 958 \n",
       "Q 2922 463 2592 192 \n",
       "Q 2263 -78 1759 -78 \n",
       "Q 1097 -78 719 397 \n",
       "Q 266 969 266 2259 \n",
       "z\n",
       "M 844 2259 \n",
       "Q 844 1131 1108 757 \n",
       "Q 1372 384 1759 384 \n",
       "Q 2147 384 2411 759 \n",
       "Q 2675 1134 2675 2259 \n",
       "Q 2675 3391 2411 3762 \n",
       "Q 2147 4134 1753 4134 \n",
       "Q 1366 4134 1134 3806 \n",
       "Q 844 3388 844 2259 \n",
       "z\n",
       "\" transform=\"scale(0.015625)\"/>\n",
       "       </defs>\n",
       "       <use xlink:href=\"#ArialMT-31\"/>\n",
       "       <use xlink:href=\"#ArialMT-38\" x=\"55.615234\"/>\n",
       "       <use xlink:href=\"#ArialMT-38\" x=\"111.230469\"/>\n",
       "       <use xlink:href=\"#ArialMT-30\" x=\"166.845703\"/>\n",
       "      </g>\n",
       "     </g>\n",
       "    </g>\n",
       "    <g id=\"xtick_2\">\n",
       "     <g id=\"line2d_2\">\n",
       "      <path d=\"M 192.914874 290.66847 \n",
       "L 192.914874 13.46847 \n",
       "\" clip-path=\"url(#p1bf0650a60)\" style=\"fill: none; stroke: #cccccc; stroke-width: 2; stroke-linecap: round\"/>\n",
       "     </g>\n",
       "     <g id=\"text_2\">\n",
       "      <!-- 1900 -->\n",
       "      <g style=\"fill: #262626\" transform=\"translate(168.446749 321.915658)scale(0.22 -0.22)\">\n",
       "       <defs>\n",
       "        <path id=\"ArialMT-39\" d=\"M 350 1059 \n",
       "L 891 1109 \n",
       "Q 959 728 1153 556 \n",
       "Q 1347 384 1650 384 \n",
       "Q 1909 384 2104 503 \n",
       "Q 2300 622 2425 820 \n",
       "Q 2550 1019 2634 1356 \n",
       "Q 2719 1694 2719 2044 \n",
       "Q 2719 2081 2716 2156 \n",
       "Q 2547 1888 2255 1720 \n",
       "Q 1963 1553 1622 1553 \n",
       "Q 1053 1553 659 1965 \n",
       "Q 266 2378 266 3053 \n",
       "Q 266 3750 677 4175 \n",
       "Q 1088 4600 1706 4600 \n",
       "Q 2153 4600 2523 4359 \n",
       "Q 2894 4119 3086 3673 \n",
       "Q 3278 3228 3278 2384 \n",
       "Q 3278 1506 3087 986 \n",
       "Q 2897 466 2520 194 \n",
       "Q 2144 -78 1638 -78 \n",
       "Q 1100 -78 759 220 \n",
       "Q 419 519 350 1059 \n",
       "z\n",
       "M 2653 3081 \n",
       "Q 2653 3566 2395 3850 \n",
       "Q 2138 4134 1775 4134 \n",
       "Q 1400 4134 1122 3828 \n",
       "Q 844 3522 844 3034 \n",
       "Q 844 2597 1108 2323 \n",
       "Q 1372 2050 1759 2050 \n",
       "Q 2150 2050 2401 2323 \n",
       "Q 2653 2597 2653 3081 \n",
       "z\n",
       "\" transform=\"scale(0.015625)\"/>\n",
       "       </defs>\n",
       "       <use xlink:href=\"#ArialMT-31\"/>\n",
       "       <use xlink:href=\"#ArialMT-39\" x=\"55.615234\"/>\n",
       "       <use xlink:href=\"#ArialMT-30\" x=\"111.230469\"/>\n",
       "       <use xlink:href=\"#ArialMT-30\" x=\"166.845703\"/>\n",
       "      </g>\n",
       "     </g>\n",
       "    </g>\n",
       "    <g id=\"xtick_3\">\n",
       "     <g id=\"line2d_3\">\n",
       "      <path d=\"M 264.361737 290.66847 \n",
       "L 264.361737 13.46847 \n",
       "\" clip-path=\"url(#p1bf0650a60)\" style=\"fill: none; stroke: #cccccc; stroke-width: 2; stroke-linecap: round\"/>\n",
       "     </g>\n",
       "     <g id=\"text_3\">\n",
       "      <!-- 1920 -->\n",
       "      <g style=\"fill: #262626\" transform=\"translate(239.893612 321.915658)scale(0.22 -0.22)\">\n",
       "       <defs>\n",
       "        <path id=\"ArialMT-32\" d=\"M 3222 541 \n",
       "L 3222 0 \n",
       "L 194 0 \n",
       "Q 188 203 259 391 \n",
       "Q 375 700 629 1000 \n",
       "Q 884 1300 1366 1694 \n",
       "Q 2113 2306 2375 2664 \n",
       "Q 2638 3022 2638 3341 \n",
       "Q 2638 3675 2398 3904 \n",
       "Q 2159 4134 1775 4134 \n",
       "Q 1369 4134 1125 3890 \n",
       "Q 881 3647 878 3216 \n",
       "L 300 3275 \n",
       "Q 359 3922 746 4261 \n",
       "Q 1134 4600 1788 4600 \n",
       "Q 2447 4600 2831 4234 \n",
       "Q 3216 3869 3216 3328 \n",
       "Q 3216 3053 3103 2787 \n",
       "Q 2991 2522 2730 2228 \n",
       "Q 2469 1934 1863 1422 \n",
       "Q 1356 997 1212 845 \n",
       "Q 1069 694 975 541 \n",
       "L 3222 541 \n",
       "z\n",
       "\" transform=\"scale(0.015625)\"/>\n",
       "       </defs>\n",
       "       <use xlink:href=\"#ArialMT-31\"/>\n",
       "       <use xlink:href=\"#ArialMT-39\" x=\"55.615234\"/>\n",
       "       <use xlink:href=\"#ArialMT-32\" x=\"111.230469\"/>\n",
       "       <use xlink:href=\"#ArialMT-30\" x=\"166.845703\"/>\n",
       "      </g>\n",
       "     </g>\n",
       "    </g>\n",
       "    <g id=\"xtick_4\">\n",
       "     <g id=\"line2d_4\">\n",
       "      <path d=\"M 335.8086 290.66847 \n",
       "L 335.8086 13.46847 \n",
       "\" clip-path=\"url(#p1bf0650a60)\" style=\"fill: none; stroke: #cccccc; stroke-width: 2; stroke-linecap: round\"/>\n",
       "     </g>\n",
       "     <g id=\"text_4\">\n",
       "      <!-- 1940 -->\n",
       "      <g style=\"fill: #262626\" transform=\"translate(311.340475 321.915658)scale(0.22 -0.22)\">\n",
       "       <defs>\n",
       "        <path id=\"ArialMT-34\" d=\"M 2069 0 \n",
       "L 2069 1097 \n",
       "L 81 1097 \n",
       "L 81 1613 \n",
       "L 2172 4581 \n",
       "L 2631 4581 \n",
       "L 2631 1613 \n",
       "L 3250 1613 \n",
       "L 3250 1097 \n",
       "L 2631 1097 \n",
       "L 2631 0 \n",
       "L 2069 0 \n",
       "z\n",
       "M 2069 1613 \n",
       "L 2069 3678 \n",
       "L 634 1613 \n",
       "L 2069 1613 \n",
       "z\n",
       "\" transform=\"scale(0.015625)\"/>\n",
       "       </defs>\n",
       "       <use xlink:href=\"#ArialMT-31\"/>\n",
       "       <use xlink:href=\"#ArialMT-39\" x=\"55.615234\"/>\n",
       "       <use xlink:href=\"#ArialMT-34\" x=\"111.230469\"/>\n",
       "       <use xlink:href=\"#ArialMT-30\" x=\"166.845703\"/>\n",
       "      </g>\n",
       "     </g>\n",
       "    </g>\n",
       "    <g id=\"xtick_5\">\n",
       "     <g id=\"line2d_5\">\n",
       "      <path d=\"M 407.255463 290.66847 \n",
       "L 407.255463 13.46847 \n",
       "\" clip-path=\"url(#p1bf0650a60)\" style=\"fill: none; stroke: #cccccc; stroke-width: 2; stroke-linecap: round\"/>\n",
       "     </g>\n",
       "     <g id=\"text_5\">\n",
       "      <!-- 1960 -->\n",
       "      <g style=\"fill: #262626\" transform=\"translate(382.787338 321.915658)scale(0.22 -0.22)\">\n",
       "       <defs>\n",
       "        <path id=\"ArialMT-36\" d=\"M 3184 3459 \n",
       "L 2625 3416 \n",
       "Q 2550 3747 2413 3897 \n",
       "Q 2184 4138 1850 4138 \n",
       "Q 1581 4138 1378 3988 \n",
       "Q 1113 3794 959 3422 \n",
       "Q 806 3050 800 2363 \n",
       "Q 1003 2672 1297 2822 \n",
       "Q 1591 2972 1913 2972 \n",
       "Q 2475 2972 2870 2558 \n",
       "Q 3266 2144 3266 1488 \n",
       "Q 3266 1056 3080 686 \n",
       "Q 2894 316 2569 119 \n",
       "Q 2244 -78 1831 -78 \n",
       "Q 1128 -78 684 439 \n",
       "Q 241 956 241 2144 \n",
       "Q 241 3472 731 4075 \n",
       "Q 1159 4600 1884 4600 \n",
       "Q 2425 4600 2770 4297 \n",
       "Q 3116 3994 3184 3459 \n",
       "z\n",
       "M 888 1484 \n",
       "Q 888 1194 1011 928 \n",
       "Q 1134 663 1356 523 \n",
       "Q 1578 384 1822 384 \n",
       "Q 2178 384 2434 671 \n",
       "Q 2691 959 2691 1453 \n",
       "Q 2691 1928 2437 2201 \n",
       "Q 2184 2475 1800 2475 \n",
       "Q 1419 2475 1153 2201 \n",
       "Q 888 1928 888 1484 \n",
       "z\n",
       "\" transform=\"scale(0.015625)\"/>\n",
       "       </defs>\n",
       "       <use xlink:href=\"#ArialMT-31\"/>\n",
       "       <use xlink:href=\"#ArialMT-39\" x=\"55.615234\"/>\n",
       "       <use xlink:href=\"#ArialMT-36\" x=\"111.230469\"/>\n",
       "       <use xlink:href=\"#ArialMT-30\" x=\"166.845703\"/>\n",
       "      </g>\n",
       "     </g>\n",
       "    </g>\n",
       "    <g id=\"xtick_6\">\n",
       "     <g id=\"line2d_6\">\n",
       "      <path d=\"M 478.702326 290.66847 \n",
       "L 478.702326 13.46847 \n",
       "\" clip-path=\"url(#p1bf0650a60)\" style=\"fill: none; stroke: #cccccc; stroke-width: 2; stroke-linecap: round\"/>\n",
       "     </g>\n",
       "     <g id=\"text_6\">\n",
       "      <!-- 1980 -->\n",
       "      <g style=\"fill: #262626\" transform=\"translate(454.234201 321.915658)scale(0.22 -0.22)\">\n",
       "       <use xlink:href=\"#ArialMT-31\"/>\n",
       "       <use xlink:href=\"#ArialMT-39\" x=\"55.615234\"/>\n",
       "       <use xlink:href=\"#ArialMT-38\" x=\"111.230469\"/>\n",
       "       <use xlink:href=\"#ArialMT-30\" x=\"166.845703\"/>\n",
       "      </g>\n",
       "     </g>\n",
       "    </g>\n",
       "    <g id=\"xtick_7\">\n",
       "     <g id=\"line2d_7\">\n",
       "      <path d=\"M 550.149189 290.66847 \n",
       "L 550.149189 13.46847 \n",
       "\" clip-path=\"url(#p1bf0650a60)\" style=\"fill: none; stroke: #cccccc; stroke-width: 2; stroke-linecap: round\"/>\n",
       "     </g>\n",
       "     <g id=\"text_7\">\n",
       "      <!-- 2000 -->\n",
       "      <g style=\"fill: #262626\" transform=\"translate(525.681064 321.915658)scale(0.22 -0.22)\">\n",
       "       <use xlink:href=\"#ArialMT-32\"/>\n",
       "       <use xlink:href=\"#ArialMT-30\" x=\"55.615234\"/>\n",
       "       <use xlink:href=\"#ArialMT-30\" x=\"111.230469\"/>\n",
       "       <use xlink:href=\"#ArialMT-30\" x=\"166.845703\"/>\n",
       "      </g>\n",
       "     </g>\n",
       "    </g>\n",
       "    <g id=\"xtick_8\">\n",
       "     <g id=\"line2d_8\">\n",
       "      <path d=\"M 621.596052 290.66847 \n",
       "L 621.596052 13.46847 \n",
       "\" clip-path=\"url(#p1bf0650a60)\" style=\"fill: none; stroke: #cccccc; stroke-width: 2; stroke-linecap: round\"/>\n",
       "     </g>\n",
       "     <g id=\"text_8\">\n",
       "      <!-- 2020 -->\n",
       "      <g style=\"fill: #262626\" transform=\"translate(597.127927 321.915658)scale(0.22 -0.22)\">\n",
       "       <use xlink:href=\"#ArialMT-32\"/>\n",
       "       <use xlink:href=\"#ArialMT-30\" x=\"55.615234\"/>\n",
       "       <use xlink:href=\"#ArialMT-32\" x=\"111.230469\"/>\n",
       "       <use xlink:href=\"#ArialMT-30\" x=\"166.845703\"/>\n",
       "      </g>\n",
       "     </g>\n",
       "    </g>\n",
       "    <g id=\"text_9\">\n",
       "     <!-- Year -->\n",
       "     <g style=\"fill: #262626\" transform=\"translate(350.853125 347.466908)scale(0.24 -0.24)\">\n",
       "      <defs>\n",
       "       <path id=\"ArialMT-59\" d=\"M 1784 0 \n",
       "L 1784 1941 \n",
       "L 19 4581 \n",
       "L 756 4581 \n",
       "L 1659 3200 \n",
       "Q 1909 2813 2125 2425 \n",
       "Q 2331 2784 2625 3234 \n",
       "L 3513 4581 \n",
       "L 4219 4581 \n",
       "L 2391 1941 \n",
       "L 2391 0 \n",
       "L 1784 0 \n",
       "z\n",
       "\" transform=\"scale(0.015625)\"/>\n",
       "       <path id=\"ArialMT-65\" d=\"M 2694 1069 \n",
       "L 3275 997 \n",
       "Q 3138 488 2766 206 \n",
       "Q 2394 -75 1816 -75 \n",
       "Q 1088 -75 661 373 \n",
       "Q 234 822 234 1631 \n",
       "Q 234 2469 665 2931 \n",
       "Q 1097 3394 1784 3394 \n",
       "Q 2450 3394 2872 2941 \n",
       "Q 3294 2488 3294 1666 \n",
       "Q 3294 1616 3291 1516 \n",
       "L 816 1516 \n",
       "Q 847 969 1125 678 \n",
       "Q 1403 388 1819 388 \n",
       "Q 2128 388 2347 550 \n",
       "Q 2566 713 2694 1069 \n",
       "z\n",
       "M 847 1978 \n",
       "L 2700 1978 \n",
       "Q 2663 2397 2488 2606 \n",
       "Q 2219 2931 1791 2931 \n",
       "Q 1403 2931 1139 2672 \n",
       "Q 875 2413 847 1978 \n",
       "z\n",
       "\" transform=\"scale(0.015625)\"/>\n",
       "       <path id=\"ArialMT-61\" d=\"M 2588 409 \n",
       "Q 2275 144 1986 34 \n",
       "Q 1697 -75 1366 -75 \n",
       "Q 819 -75 525 192 \n",
       "Q 231 459 231 875 \n",
       "Q 231 1119 342 1320 \n",
       "Q 453 1522 633 1644 \n",
       "Q 813 1766 1038 1828 \n",
       "Q 1203 1872 1538 1913 \n",
       "Q 2219 1994 2541 2106 \n",
       "Q 2544 2222 2544 2253 \n",
       "Q 2544 2597 2384 2738 \n",
       "Q 2169 2928 1744 2928 \n",
       "Q 1347 2928 1158 2789 \n",
       "Q 969 2650 878 2297 \n",
       "L 328 2372 \n",
       "Q 403 2725 575 2942 \n",
       "Q 747 3159 1072 3276 \n",
       "Q 1397 3394 1825 3394 \n",
       "Q 2250 3394 2515 3294 \n",
       "Q 2781 3194 2906 3042 \n",
       "Q 3031 2891 3081 2659 \n",
       "Q 3109 2516 3109 2141 \n",
       "L 3109 1391 \n",
       "Q 3109 606 3145 398 \n",
       "Q 3181 191 3288 0 \n",
       "L 2700 0 \n",
       "Q 2613 175 2588 409 \n",
       "z\n",
       "M 2541 1666 \n",
       "Q 2234 1541 1622 1453 \n",
       "Q 1275 1403 1131 1340 \n",
       "Q 988 1278 909 1158 \n",
       "Q 831 1038 831 891 \n",
       "Q 831 666 1001 516 \n",
       "Q 1172 366 1500 366 \n",
       "Q 1825 366 2078 508 \n",
       "Q 2331 650 2450 897 \n",
       "Q 2541 1088 2541 1459 \n",
       "L 2541 1666 \n",
       "z\n",
       "\" transform=\"scale(0.015625)\"/>\n",
       "       <path id=\"ArialMT-72\" d=\"M 416 0 \n",
       "L 416 3319 \n",
       "L 922 3319 \n",
       "L 922 2816 \n",
       "Q 1116 3169 1280 3281 \n",
       "Q 1444 3394 1641 3394 \n",
       "Q 1925 3394 2219 3213 \n",
       "L 2025 2691 \n",
       "Q 1819 2813 1613 2813 \n",
       "Q 1428 2813 1281 2702 \n",
       "Q 1134 2591 1072 2394 \n",
       "Q 978 2094 978 1738 \n",
       "L 978 0 \n",
       "L 416 0 \n",
       "z\n",
       "\" transform=\"scale(0.015625)\"/>\n",
       "      </defs>\n",
       "      <use xlink:href=\"#ArialMT-59\"/>\n",
       "      <use xlink:href=\"#ArialMT-65\" x=\"57.574219\"/>\n",
       "      <use xlink:href=\"#ArialMT-61\" x=\"113.189453\"/>\n",
       "      <use xlink:href=\"#ArialMT-72\" x=\"168.804688\"/>\n",
       "     </g>\n",
       "    </g>\n",
       "   </g>\n",
       "   <g id=\"matplotlib.axis_2\">\n",
       "    <g id=\"ytick_1\">\n",
       "     <g id=\"line2d_9\">\n",
       "      <path d=\"M 96.104375 279.458252 \n",
       "L 654.104375 279.458252 \n",
       "\" clip-path=\"url(#p1bf0650a60)\" style=\"fill: none; stroke: #cccccc; stroke-width: 2; stroke-linecap: round\"/>\n",
       "     </g>\n",
       "     <g id=\"text_10\">\n",
       "      <!-- 0 -->\n",
       "      <g style=\"fill: #262626\" transform=\"translate(68.370313 287.331846)scale(0.22 -0.22)\">\n",
       "       <use xlink:href=\"#ArialMT-30\"/>\n",
       "      </g>\n",
       "     </g>\n",
       "    </g>\n",
       "    <g id=\"ytick_2\">\n",
       "     <g id=\"line2d_10\">\n",
       "      <path d=\"M 96.104375 191.330033 \n",
       "L 654.104375 191.330033 \n",
       "\" clip-path=\"url(#p1bf0650a60)\" style=\"fill: none; stroke: #cccccc; stroke-width: 2; stroke-linecap: round\"/>\n",
       "     </g>\n",
       "     <g id=\"text_11\">\n",
       "      <!-- 100000 -->\n",
       "      <g style=\"fill: #262626\" transform=\"translate(7.2 199.203627)scale(0.22 -0.22)\">\n",
       "       <use xlink:href=\"#ArialMT-31\"/>\n",
       "       <use xlink:href=\"#ArialMT-30\" x=\"55.615234\"/>\n",
       "       <use xlink:href=\"#ArialMT-30\" x=\"111.230469\"/>\n",
       "       <use xlink:href=\"#ArialMT-30\" x=\"166.845703\"/>\n",
       "       <use xlink:href=\"#ArialMT-30\" x=\"222.460938\"/>\n",
       "       <use xlink:href=\"#ArialMT-30\" x=\"278.076172\"/>\n",
       "      </g>\n",
       "     </g>\n",
       "    </g>\n",
       "    <g id=\"ytick_3\">\n",
       "     <g id=\"line2d_11\">\n",
       "      <path d=\"M 96.104375 103.201813 \n",
       "L 654.104375 103.201813 \n",
       "\" clip-path=\"url(#p1bf0650a60)\" style=\"fill: none; stroke: #cccccc; stroke-width: 2; stroke-linecap: round\"/>\n",
       "     </g>\n",
       "     <g id=\"text_12\">\n",
       "      <!-- 200000 -->\n",
       "      <g style=\"fill: #262626\" transform=\"translate(7.2 111.075407)scale(0.22 -0.22)\">\n",
       "       <use xlink:href=\"#ArialMT-32\"/>\n",
       "       <use xlink:href=\"#ArialMT-30\" x=\"55.615234\"/>\n",
       "       <use xlink:href=\"#ArialMT-30\" x=\"111.230469\"/>\n",
       "       <use xlink:href=\"#ArialMT-30\" x=\"166.845703\"/>\n",
       "       <use xlink:href=\"#ArialMT-30\" x=\"222.460938\"/>\n",
       "       <use xlink:href=\"#ArialMT-30\" x=\"278.076172\"/>\n",
       "      </g>\n",
       "     </g>\n",
       "    </g>\n",
       "    <g id=\"ytick_4\">\n",
       "     <g id=\"line2d_12\">\n",
       "      <path d=\"M 96.104375 15.073594 \n",
       "L 654.104375 15.073594 \n",
       "\" clip-path=\"url(#p1bf0650a60)\" style=\"fill: none; stroke: #cccccc; stroke-width: 2; stroke-linecap: round\"/>\n",
       "     </g>\n",
       "     <g id=\"text_13\">\n",
       "      <!-- 300000 -->\n",
       "      <g style=\"fill: #262626\" transform=\"translate(7.2 22.947187)scale(0.22 -0.22)\">\n",
       "       <defs>\n",
       "        <path id=\"ArialMT-33\" d=\"M 269 1209 \n",
       "L 831 1284 \n",
       "Q 928 806 1161 595 \n",
       "Q 1394 384 1728 384 \n",
       "Q 2125 384 2398 659 \n",
       "Q 2672 934 2672 1341 \n",
       "Q 2672 1728 2419 1979 \n",
       "Q 2166 2231 1775 2231 \n",
       "Q 1616 2231 1378 2169 \n",
       "L 1441 2663 \n",
       "Q 1497 2656 1531 2656 \n",
       "Q 1891 2656 2178 2843 \n",
       "Q 2466 3031 2466 3422 \n",
       "Q 2466 3731 2256 3934 \n",
       "Q 2047 4138 1716 4138 \n",
       "Q 1388 4138 1169 3931 \n",
       "Q 950 3725 888 3313 \n",
       "L 325 3413 \n",
       "Q 428 3978 793 4289 \n",
       "Q 1159 4600 1703 4600 \n",
       "Q 2078 4600 2393 4439 \n",
       "Q 2709 4278 2876 4000 \n",
       "Q 3044 3722 3044 3409 \n",
       "Q 3044 3113 2884 2869 \n",
       "Q 2725 2625 2413 2481 \n",
       "Q 2819 2388 3044 2092 \n",
       "Q 3269 1797 3269 1353 \n",
       "Q 3269 753 2831 336 \n",
       "Q 2394 -81 1725 -81 \n",
       "Q 1122 -81 723 278 \n",
       "Q 325 638 269 1209 \n",
       "z\n",
       "\" transform=\"scale(0.015625)\"/>\n",
       "       </defs>\n",
       "       <use xlink:href=\"#ArialMT-33\"/>\n",
       "       <use xlink:href=\"#ArialMT-30\" x=\"55.615234\"/>\n",
       "       <use xlink:href=\"#ArialMT-30\" x=\"111.230469\"/>\n",
       "       <use xlink:href=\"#ArialMT-30\" x=\"166.845703\"/>\n",
       "       <use xlink:href=\"#ArialMT-30\" x=\"222.460938\"/>\n",
       "       <use xlink:href=\"#ArialMT-30\" x=\"278.076172\"/>\n",
       "      </g>\n",
       "     </g>\n",
       "    </g>\n",
       "   </g>\n",
       "   <g id=\"line2d_13\">\n",
       "    <path d=\"M 121.468011 278.030575 \n",
       "L 125.040355 278.06847 \n",
       "L 128.612698 277.823474 \n",
       "L 132.185041 277.825237 \n",
       "L 139.329727 277.50445 \n",
       "L 146.474413 277.314093 \n",
       "L 150.046757 276.994187 \n",
       "L 153.6191 277.018863 \n",
       "L 157.191443 276.906059 \n",
       "L 160.763786 277.069096 \n",
       "L 164.336129 276.665469 \n",
       "L 171.480815 276.729803 \n",
       "L 175.053159 276.670757 \n",
       "L 178.625502 276.424879 \n",
       "L 182.197845 276.627574 \n",
       "L 185.770188 276.41166 \n",
       "L 189.342531 276.696314 \n",
       "L 192.914874 275.805338 \n",
       "L 196.487218 276.661063 \n",
       "L 200.059561 276.244216 \n",
       "L 203.631904 276.19839 \n",
       "L 217.921276 275.232504 \n",
       "L 225.065963 274.449044 \n",
       "L 228.638306 273.788964 \n",
       "L 232.210649 273.254026 \n",
       "L 235.782992 269.709509 \n",
       "L 239.355335 268.317083 \n",
       "L 242.927678 264.581328 \n",
       "L 246.500022 260.422557 \n",
       "L 250.072365 259.444334 \n",
       "L 253.644708 258.752527 \n",
       "L 257.217051 257.315156 \n",
       "L 260.789394 257.782236 \n",
       "L 264.361737 255.456532 \n",
       "L 267.934081 254.215687 \n",
       "L 271.506424 254.525017 \n",
       "L 275.078767 254.257107 \n",
       "L 278.65111 253.636684 \n",
       "L 282.223453 254.706561 \n",
       "L 285.795796 255.598418 \n",
       "L 289.368139 255.122526 \n",
       "L 292.940483 255.868972 \n",
       "L 296.512826 256.821638 \n",
       "L 300.085169 255.549066 \n",
       "L 303.657512 256.289344 \n",
       "L 307.229855 255.708579 \n",
       "L 310.802198 255.911273 \n",
       "L 314.374541 254.220974 \n",
       "L 317.946885 252.885832 \n",
       "L 321.519228 251.095066 \n",
       "L 325.091571 248.442407 \n",
       "L 328.663914 244.197271 \n",
       "L 332.236257 241.877736 \n",
       "L 335.8086 237.980706 \n",
       "L 339.380944 230.494214 \n",
       "L 342.953287 218.470881 \n",
       "L 346.52563 213.101228 \n",
       "L 350.097973 214.065351 \n",
       "L 353.670316 213.265147 \n",
       "L 357.242659 194.734426 \n",
       "L 360.815002 180.634792 \n",
       "L 364.387346 179.043197 \n",
       "L 367.959689 169.843492 \n",
       "L 371.532032 164.059637 \n",
       "L 375.104375 149.145698 \n",
       "L 378.676718 140.487982 \n",
       "L 382.249061 138.535942 \n",
       "L 385.821404 125.891305 \n",
       "L 389.393748 113.748117 \n",
       "L 392.966091 90.897351 \n",
       "L 396.538434 77.750384 \n",
       "L 400.110777 72.479435 \n",
       "L 403.68312 69.263636 \n",
       "L 407.255463 62.037122 \n",
       "L 410.827806 65.779927 \n",
       "L 414.40015 63.281492 \n",
       "L 417.972493 62.851427 \n",
       "L 421.544836 64.557589 \n",
       "L 425.117179 67.642077 \n",
       "L 428.689522 76.605598 \n",
       "L 432.261865 82.74461 \n",
       "L 435.834209 82.351558 \n",
       "L 439.406552 79.247682 \n",
       "L 442.978895 71.118735 \n",
       "L 446.551238 87.814626 \n",
       "L 450.123581 105.95582 \n",
       "L 453.695924 116.849349 \n",
       "L 457.268267 119.251725 \n",
       "L 460.840611 125.239156 \n",
       "L 464.412954 128.230228 \n",
       "L 467.985297 105.790139 \n",
       "L 471.55764 106.655558 \n",
       "L 475.129983 105.471996 \n",
       "L 478.702326 100.201929 \n",
       "L 482.274669 100.662839 \n",
       "L 485.847013 92.160229 \n",
       "L 489.419356 93.231868 \n",
       "L 492.991699 90.636492 \n",
       "L 496.564042 76.470762 \n",
       "L 500.136385 69.569441 \n",
       "L 503.708728 60.486065 \n",
       "L 507.281072 49.853396 \n",
       "L 510.853415 30.615005 \n",
       "L 514.425758 26.06847 \n",
       "L 517.998101 29.328333 \n",
       "L 521.570444 31.596754 \n",
       "L 525.142787 38.149968 \n",
       "L 528.71513 42.796969 \n",
       "L 535.859817 54.889923 \n",
       "L 539.43216 64.925965 \n",
       "L 543.004503 62.816175 \n",
       "L 546.576846 63.168688 \n",
       "L 550.149189 61.12147 \n",
       "L 553.721532 68.287175 \n",
       "L 557.293876 68.404386 \n",
       "L 564.438562 63.063816 \n",
       "L 568.010905 65.91917 \n",
       "L 571.583248 60.449933 \n",
       "L 575.155591 59.393275 \n",
       "L 578.727935 58.66093 \n",
       "L 582.300278 67.292208 \n",
       "L 585.872621 76.683151 \n",
       "L 589.444964 81.574267 \n",
       "L 593.017307 86.001829 \n",
       "L 596.58965 89.415035 \n",
       "L 600.161993 88.954124 \n",
       "L 603.734337 93.516522 \n",
       "L 607.30668 101.605811 \n",
       "L 610.879023 107.154364 \n",
       "L 614.451366 109.141655 \n",
       "L 618.023709 109.910133 \n",
       "L 621.596052 114.975743 \n",
       "L 625.168395 117.675111 \n",
       "L 628.740739 119.632439 \n",
       "L 628.740739 119.632439 \n",
       "\" clip-path=\"url(#p1bf0650a60)\" style=\"fill: none; stroke: #1f77b4; stroke-width: 3; stroke-linecap: round\"/>\n",
       "   </g>\n",
       "   <g id=\"patch_3\">\n",
       "    <path d=\"M 96.104375 290.66847 \n",
       "L 96.104375 13.46847 \n",
       "\" style=\"fill: none; stroke: #cccccc; stroke-width: 2.5; stroke-linejoin: miter; stroke-linecap: square\"/>\n",
       "   </g>\n",
       "   <g id=\"patch_4\">\n",
       "    <path d=\"M 654.104375 290.66847 \n",
       "L 654.104375 13.46847 \n",
       "\" style=\"fill: none; stroke: #cccccc; stroke-width: 2.5; stroke-linejoin: miter; stroke-linecap: square\"/>\n",
       "   </g>\n",
       "   <g id=\"patch_5\">\n",
       "    <path d=\"M 96.104375 290.66847 \n",
       "L 654.104375 290.66847 \n",
       "\" style=\"fill: none; stroke: #cccccc; stroke-width: 2.5; stroke-linejoin: miter; stroke-linecap: square\"/>\n",
       "   </g>\n",
       "   <g id=\"patch_6\">\n",
       "    <path d=\"M 96.104375 13.46847 \n",
       "L 654.104375 13.46847 \n",
       "\" style=\"fill: none; stroke: #cccccc; stroke-width: 2.5; stroke-linejoin: miter; stroke-linecap: square\"/>\n",
       "   </g>\n",
       "  </g>\n",
       " </g>\n",
       " <defs>\n",
       "  <clipPath id=\"p1bf0650a60\">\n",
       "   <rect x=\"96.104375\" y=\"13.46847\" width=\"558\" height=\"277.2\"/>\n",
       "  </clipPath>\n",
       " </defs>\n",
       "</svg>\n"
      ],
      "text/plain": [
       "<Figure size 1000x500 with 1 Axes>"
      ]
     },
     "metadata": {},
     "output_type": "display_data"
    }
   ],
   "source": [
    "def first_letter(string):\n",
    "    return string[0]\n",
    "\n",
    "(baby\n",
    " .assign(first=baby['Name'].apply(first_letter))\n",
    " .query('first == \"K\"')\n",
    " .groupby('Year')\n",
    " ['Count']\n",
    " .sum()\n",
    " .plot()\n",
    ")"
   ]
  },
  {
   "cell_type": "markdown",
   "id": "8cf9d5ff",
   "metadata": {
    "slideshow": {
     "slide_type": "slide"
    }
   },
   "source": [
    "### The Price of `.apply`\n",
    "\n",
    "Actually, `.apply` runs really slowly!"
   ]
  },
  {
   "cell_type": "code",
   "execution_count": 62,
   "id": "1c33f247",
   "metadata": {},
   "outputs": [
    {
     "name": "stdout",
     "output_type": "stream",
     "text": [
      "138 ms ± 711 µs per loop (mean ± std. dev. of 7 runs, 10 loops each)\n"
     ]
    }
   ],
   "source": [
    "%%timeit\n",
    "baby['Name'].apply(first_letter)"
   ]
  },
  {
   "cell_type": "code",
   "execution_count": 63,
   "id": "ca728c25",
   "metadata": {},
   "outputs": [
    {
     "name": "stdout",
     "output_type": "stream",
     "text": [
      "172 ms ± 2.45 ms per loop (mean ± std. dev. of 7 runs, 10 loops each)\n"
     ]
    }
   ],
   "source": [
    "%%timeit\n",
    "res = []\n",
    "for name in baby['Name']:\n",
    "    res.append(name[0])"
   ]
  },
  {
   "cell_type": "markdown",
   "id": "61d427da",
   "metadata": {
    "slideshow": {
     "slide_type": "fragment"
    }
   },
   "source": [
    "**Internally, `.apply` actually just runs a `for` loop.**\n",
    "\n",
    "- So for arthimetic operations, definitely prefer working on Series objects directly!"
   ]
  },
  {
   "cell_type": "markdown",
   "id": "0711f73f",
   "metadata": {
    "slideshow": {
     "slide_type": "slide"
    }
   },
   "source": [
    "### The Price of `.apply`"
   ]
  },
  {
   "cell_type": "code",
   "execution_count": 64,
   "id": "2d7be085",
   "metadata": {},
   "outputs": [
    {
     "name": "stdout",
     "output_type": "stream",
     "text": [
      "4.81 ms ± 70.9 µs per loop (mean ± std. dev. of 7 runs, 100 loops each)\n"
     ]
    }
   ],
   "source": [
    "%%timeit\n",
    "baby['Year'] // 10 * 10"
   ]
  },
  {
   "cell_type": "code",
   "execution_count": 65,
   "id": "2a8d70e4",
   "metadata": {},
   "outputs": [
    {
     "name": "stdout",
     "output_type": "stream",
     "text": [
      "434 ms ± 12.3 ms per loop (mean ± std. dev. of 7 runs, 1 loop each)\n"
     ]
    }
   ],
   "source": [
    "%%timeit\n",
    "baby['Year'].apply(lambda y: y // 10 * 10)"
   ]
  },
  {
   "cell_type": "markdown",
   "id": "d899c183",
   "metadata": {
    "slideshow": {
     "slide_type": "fragment"
    }
   },
   "source": [
    "**100x slower!**"
   ]
  },
  {
   "cell_type": "markdown",
   "id": "11ecd169",
   "metadata": {
    "slideshow": {
     "slide_type": "slide"
    }
   },
   "source": [
    "### The `.str` accessor\n",
    "\n",
    "For string operations, `pandas` provides a convenient `str` accessor."
   ]
  },
  {
   "cell_type": "code",
   "execution_count": 71,
   "id": "1afd53f2",
   "metadata": {},
   "outputs": [
    {
     "data": {
      "text/plain": [
       "0          4\n",
       "1          4\n",
       "2          6\n",
       "3          6\n",
       "          ..\n",
       "2085154    6\n",
       "2085155    6\n",
       "2085156    4\n",
       "2085157    9\n",
       "Name: Name, Length: 2085158, dtype: int64"
      ]
     },
     "execution_count": 71,
     "metadata": {},
     "output_type": "execute_result"
    }
   ],
   "source": [
    "# Equivalent to:\n",
    "# baby['Name'].apply(first_letter)\n",
    "baby['Name'].str.len()"
   ]
  },
  {
   "cell_type": "code",
   "execution_count": null,
   "id": "da1661a3",
   "metadata": {},
   "outputs": [],
   "source": [
    "..."
   ]
  },
  {
   "cell_type": "markdown",
   "id": "deeec907",
   "metadata": {
    "slideshow": {
     "slide_type": "fragment"
    }
   },
   "source": [
    "- Very convenient, but **runs even slower than `.apply`!**\n",
    "- Even though it's slow, we use `.str` anyway because it makes life easier."
   ]
  },
  {
   "cell_type": "markdown",
   "id": "297a14ad",
   "metadata": {
    "slideshow": {
     "slide_type": "slide"
    }
   },
   "source": [
    "## Other Data Representations\n",
    "\n",
    "- In DSC 80, we work with dataframes in `pandas`.\n",
    "    - When we say `pandas` `DataFrame`, we're talking about the `pandas` API for its `DataFrame` objects.\n",
    "    - When we say \"dataframe\", we're referring to a general way to represent data (rows, columns, labels for both rows and columns)\n",
    "- Of course, many other way to work with data tables! R has a dataframe, SQL databases, spreadsheets, even matrices from linear algebra.\n",
    "    - When you learn SQL in DSC 100, you'll find many similaries (e.g. slicing columns, filtering rows, grouping, joining, etc.)\n",
    "    - **Relational algebra** captures common data operations between many data table systems.\n",
    "- Why use dataframes over something else?"
   ]
  },
  {
   "cell_type": "markdown",
   "id": "c0b9f113",
   "metadata": {
    "slideshow": {
     "slide_type": "slide"
    }
   },
   "source": [
    "### Dataframes vs. Spreadsheets\n",
    "\n",
    "- Dataframes gives us a data lineage: the code records down data changes. Not so in spreadsheets!\n",
    "- Using a general-purpose programming language gives us the ability to handle much larger datasets, and we can using distributed computing systems to handle massive datasets."
   ]
  },
  {
   "cell_type": "markdown",
   "id": "7598d6d8",
   "metadata": {
    "slideshow": {
     "slide_type": "slide"
    }
   },
   "source": [
    "### Dataframes vs. Matrices\n",
    "\n",
    "\\begin{split}\n",
    "\\begin{aligned}\n",
    "\\mathbf{X} = \\begin{bmatrix}\n",
    "1 & 0 \\\\\n",
    "0 & 4 \\\\\n",
    "0 & 0 \\\\\n",
    "\\end{bmatrix}\n",
    "\\end{aligned}\n",
    "\\end{split}\n",
    "\n",
    "- Matrices are mathematical objects. Can only hold numbers, but have many useful properties (see the entire branch of linear algebra).\n",
    "- Often, we process data from a dataframe into matrix format for machine learning models. Will see this process later in DSC 80."
   ]
  },
  {
   "cell_type": "markdown",
   "id": "5e418f72",
   "metadata": {
    "slideshow": {
     "slide_type": "slide"
    }
   },
   "source": [
    "### Dataframes vs. Relations\n",
    "\n",
    "- Relations are the data representation for relational database systems (e.g. MySQL, PostgreSQL, etc.)\n",
    "- Will learn all about these in DSC 100.\n",
    "- Database systems are much better than dataframes at storing many data tables and handling concurrency (many people reading and writing data at the same time).\n",
    "- Common workflow: load a subset of data in from a database system into `pandas`, then make plot.\n",
    "- Or: load and clean data in `pandas`, then store in database system for others to use."
   ]
  },
  {
   "cell_type": "markdown",
   "id": "c5c29102",
   "metadata": {
    "slideshow": {
     "slide_type": "slide"
    }
   },
   "source": [
    "## Takeaways\n",
    "\n",
    "- Neither CS nor Statistics can tell us how to automatically resolve Simpson's paradox! Domain knowledge is important.\n",
    "- We've covered main dataframe manipulations: subsetting, aggregating, joining, and transforming.\n",
    "- Next time: applying what we know to real-world, messy data!"
   ]
  }
 ],
 "metadata": {
  "kernelspec": {
   "display_name": "Python 3 (ipykernel)",
   "language": "python",
   "name": "python3"
  },
  "language_info": {
   "codemirror_mode": {
    "name": "ipython",
    "version": 3
   },
   "file_extension": ".py",
   "mimetype": "text/x-python",
   "name": "python",
   "nbconvert_exporter": "python",
   "pygments_lexer": "ipython3",
   "version": "3.8.18"
  }
 },
 "nbformat": 4,
 "nbformat_minor": 5
}
