{
 "cells": [
  {
   "cell_type": "code",
   "execution_count": 1,
   "id": "40077d4e",
   "metadata": {
    "editable": true,
    "slideshow": {
     "slide_type": "skip"
    },
    "tags": []
   },
   "outputs": [],
   "source": [
    "import pandas as pd\n",
    "import numpy as np\n",
    "import matplotlib.pyplot as plt\n",
    "import seaborn as sns\n",
    "from matplotlib_inline.backend_inline import set_matplotlib_formats\n",
    "\n",
    "set_matplotlib_formats(\"svg\")\n",
    "sns.set_context(\"poster\")\n",
    "sns.set_style(\"whitegrid\")\n",
    "plt.rcParams[\"figure.figsize\"] = (10, 5)\n",
    "pd.set_option(\"display.max_rows\", 7)\n",
    "pd.set_option(\"display.max_columns\", 8)\n",
    "pd.set_option(\"display.precision\", 2)"
   ]
  },
  {
   "cell_type": "markdown",
   "id": "3143de48",
   "metadata": {
    "editable": true,
    "slideshow": {
     "slide_type": "slide"
    },
    "tags": []
   },
   "source": [
    "# Lecture 1 – Introduction\n",
    "\n",
    "## DSC 80, Fall 2023"
   ]
  },
  {
   "cell_type": "markdown",
   "id": "61dfa21e",
   "metadata": {
    "editable": true,
    "slideshow": {
     "slide_type": "slide"
    },
    "tags": []
   },
   "source": [
    "<center><h2>Welcome to DSC 80! 🎉</h2></center>"
   ]
  },
  {
   "cell_type": "markdown",
   "id": "07213ce0",
   "metadata": {
    "editable": true,
    "slideshow": {
     "slide_type": "slide"
    },
    "tags": []
   },
   "source": [
    "### Agenda\n",
    "\n",
    "- Who are we?\n",
    "- What does a data scientist do?\n",
    "- What is this course about, and how will it run?\n",
    "- The data science lifecycle.\n",
    "- A fun example."
   ]
  },
  {
   "cell_type": "markdown",
   "id": "be426149",
   "metadata": {
    "editable": true,
    "slideshow": {
     "slide_type": "slide"
    },
    "tags": []
   },
   "source": [
    "### About the instructor\n",
    "\n",
    "#### Prof. Sam Lau\n",
    "\n",
    "<img src='imgs/sam.jpg' width=15%>\n",
    "\n",
    "- Assistant Teaching Professor, HDSI, UCSD\n",
    "- Personal: https://www.samlau.me/\n",
    "\n",
    "I design curriculum and invent tools for teaching programming and data science.\n",
    "\n",
    "Bio: Ph.D. UCSD (2023), M.S. UC Berkeley (2018), B.S. UC Berkeley (2017).\n",
    "\n",
    "- My first quarter as a professor at UCSD 🎉\n",
    "- Pandas Tutor visualizes `pandas` code 📊: https://pandastutor.com/\n",
    "- *Learning Data Science*, a free textbook on data science 📚: https://learningds.org\n",
    "- Outside the classroom 👨‍🏫: cooking, eating out, woodworking\n"
   ]
  },
  {
   "cell_type": "markdown",
   "id": "9d79a093",
   "metadata": {
    "editable": true,
    "slideshow": {
     "slide_type": "slide"
    },
    "tags": []
   },
   "source": [
    "### Course staff\n",
    "\n",
    "In addition to the instructor, we have **2 TAs** and **7 Tutors**, who are here to help you in discussion, office hours, and on Ed:\n",
    "\n",
    "**TAs:**\n",
    "\n",
    "Giorgia Nicolaou, Dylan Stockard\n",
    "\n",
    "**Tutors:**\n",
    "\n",
    "Gabriel Cha, Doris Gao, Alan (Zelong) Wang, Sunan Xu, Tiffany Yu, Luran (Lauren) Zhang"
   ]
  },
  {
   "cell_type": "markdown",
   "id": "1f67c73a",
   "metadata": {
    "editable": true,
    "slideshow": {
     "slide_type": "-"
    },
    "tags": []
   },
   "source": [
    "Learn more about them at [dsc80.com/staff](https://dsc80.com/staff)."
   ]
  },
  {
   "cell_type": "markdown",
   "id": "edf518ca",
   "metadata": {
    "editable": true,
    "slideshow": {
     "slide_type": "slide"
    },
    "tags": []
   },
   "source": [
    "## What is data science? 🤔"
   ]
  },
  {
   "cell_type": "markdown",
   "id": "d2145c39",
   "metadata": {
    "editable": true,
    "slideshow": {
     "slide_type": "slide"
    },
    "tags": []
   },
   "source": [
    "### What is data science?\n",
    "\n",
    "<br>\n",
    "\n",
    "<center><img src='imgs/what-is-data-science.png' width=60%></center>\n",
    "\n",
    "Everyone seems to have their own definition of what data science is!"
   ]
  },
  {
   "cell_type": "markdown",
   "id": "81d88189",
   "metadata": {
    "editable": true,
    "slideshow": {
     "slide_type": "slide"
    },
    "tags": []
   },
   "source": [
    "### The DSC 10 approach\n",
    "\n",
    "In DSC 10, we told you that data science is about **drawing useful conclusions from data using computation**. \n",
    "\n",
    "In DSC 10, you:"
   ]
  },
  {
   "cell_type": "markdown",
   "id": "755ea4ea",
   "metadata": {
    "editable": true,
    "slideshow": {
     "slide_type": "fragment"
    },
    "tags": []
   },
   "source": [
    "- Used Python to **explore** and **visualize** data."
   ]
  },
  {
   "cell_type": "markdown",
   "id": "b6c51e83",
   "metadata": {
    "editable": true,
    "slideshow": {
     "slide_type": "fragment"
    },
    "tags": []
   },
   "source": [
    "- Used **simulation** to make **inferences** about a population, given just a sample."
   ]
  },
  {
   "cell_type": "markdown",
   "id": "258b5000",
   "metadata": {
    "editable": true,
    "slideshow": {
     "slide_type": "fragment"
    },
    "tags": []
   },
   "source": [
    "- Made **predictions** about the future given data from the past."
   ]
  },
  {
   "cell_type": "markdown",
   "id": "efabcfc5",
   "metadata": {
    "editable": true,
    "slideshow": {
     "slide_type": "fragment"
    },
    "tags": []
   },
   "source": [
    "Let's look at a few more definitions of data science."
   ]
  },
  {
   "cell_type": "markdown",
   "id": "1efb892b",
   "metadata": {
    "editable": true,
    "slideshow": {
     "slide_type": "slide"
    },
    "tags": []
   },
   "source": [
    "### What is data science?\n",
    "\n",
    "<center><img src=\"imgs/image_0.png\"></center>\n",
    "\n",
    "In 2010, Drew Conway published his famous [Data Science Venn Diagram](http://drewconway.com/zia/2013/3/26/the-data-science-venn-diagram)."
   ]
  },
  {
   "cell_type": "markdown",
   "id": "8d0b484f",
   "metadata": {
    "editable": true,
    "slideshow": {
     "slide_type": "slide"
    },
    "tags": []
   },
   "source": [
    "### What is data science?\n",
    "\n",
    "There isn't agreement on which \"Venn Diagram\" is correct!\n",
    "\n",
    "<center><img src=\"imgs/image_1.png\" width=500></center>\n",
    "\n",
    "- **Why not?** The field is new and rapidly developing.\n",
    "- Make sure you're solid on the fundamentals, then find a niche that you enjoy.\n",
    "- Read Kolassa, [Battle of the Data Science Venn Diagrams](http://www.prooffreader.com/2016/09/battle-of-data-science-venn-diagrams.html)."
   ]
  },
  {
   "cell_type": "markdown",
   "id": "dd48a8ec",
   "metadata": {
    "editable": true,
    "slideshow": {
     "slide_type": "slide"
    },
    "tags": []
   },
   "source": [
    "### What does a _data scientist_ do?\n",
    "\n",
    "The chart below is taken from the [2016 Data Science Salary Survey](https://www.oreilly.com/radar/2016-data-science-salary-survey-results/), administered by O'Reilly. They asked respondents what they spend their time doing on a daily basis. What do you notice? <br>\n",
    "\n",
    "<center><img src='imgs/survey.png' width=40%></center>"
   ]
  },
  {
   "cell_type": "markdown",
   "id": "e164e0c6",
   "metadata": {
    "editable": true,
    "slideshow": {
     "slide_type": "slide"
    },
    "tags": []
   },
   "source": [
    "The chart below is taken from the followup [2021 Data/AI Salary Survey](https://www.oreilly.com/radar/2021-data-ai-salary-survey/), also administered by O'Reilly. They asked respondents:\n",
    "\n",
    "> What technologies will have the biggest effect on compensation in the coming year?\n",
    "\n",
    "<center><img src='imgs/2021-most-relevant-skill.png' width=45%></center>"
   ]
  },
  {
   "cell_type": "markdown",
   "id": "5146c163",
   "metadata": {
    "editable": true,
    "slideshow": {
     "slide_type": "slide"
    },
    "tags": []
   },
   "source": [
    "### What does a _data scientist_ do?\n",
    "\n",
    "My take: in DSC 80, and in the DSC major more broadly, we are training you to **ask and answer questions using data**."
   ]
  },
  {
   "cell_type": "markdown",
   "id": "dd1a883b",
   "metadata": {
    "editable": true,
    "slideshow": {
     "slide_type": "fragment"
    },
    "tags": []
   },
   "source": [
    "As you take more courses, we're training you to answer questions whose answers are **ambiguous** – this uncertainly is what makes data science challenging!"
   ]
  },
  {
   "cell_type": "markdown",
   "id": "9d2f8d88",
   "metadata": {
    "editable": true,
    "slideshow": {
     "slide_type": "fragment"
    },
    "tags": []
   },
   "source": [
    "Let's look at some examples of data science in practice."
   ]
  },
  {
   "cell_type": "markdown",
   "id": "86af436e",
   "metadata": {
    "editable": true,
    "slideshow": {
     "slide_type": "slide"
    },
    "tags": []
   },
   "source": [
    "### Do people care about climate change?\n",
    "\n",
    "From [How Americans Think About Climate Change, in Six Maps](https://www.nytimes.com/interactive/2017/03/21/climate/how-americans-think-about-climate-change-in-six-maps.html?amp=&smid=fb-nytimes)\n",
    "\n",
    "<center><img src='imgs/nyt-climate-legend.png' width=45%></center>\n",
    "<center><img src='imgs/nyt-climate-harm.png' width=100%></center>"
   ]
  },
  {
   "cell_type": "markdown",
   "id": "0999754a-0033-44e2-8244-5fdaa037aebc",
   "metadata": {
    "editable": true,
    "slideshow": {
     "slide_type": "slide"
    },
    "tags": []
   },
   "source": [
    "### Do people care about climate change?\n",
    "\n",
    "<center><img src='imgs/nyt-climate-legend.png' width=45%></center>\n",
    "<center><img src='imgs/nyt-climate-personal.png' width=100%></center>"
   ]
  },
  {
   "cell_type": "markdown",
   "id": "4cd37733",
   "metadata": {
    "editable": true,
    "slideshow": {
     "slide_type": "slide"
    },
    "tags": []
   },
   "source": [
    "### Data science involves _people_ 🧍\n",
    "\n",
    "The decisions that we make as data scientists have the potential to impact the livelihoods of other people.\n",
    "\n",
    "- Flu case forecasting.\n",
    "- Admissions and hiring.\n",
    "- Hyper-personalized ad recommendations."
   ]
  },
  {
   "cell_type": "markdown",
   "id": "dfdae8ce",
   "metadata": {
    "editable": true,
    "slideshow": {
     "slide_type": "slide"
    },
    "tags": []
   },
   "source": [
    "### What this course is about:\n",
    "\n",
    "- Good data analysis is not:\n",
    "    - A simple application of a statistics formula.\n",
    "    - A simple application of computer programs.\n",
    "\n",
    "- There are many tools out there for data science, but they are merely tools. **They don’t do any of the important thinking – that's where you come in!**"
   ]
  },
  {
   "cell_type": "markdown",
   "id": "0c22fafe",
   "metadata": {
    "editable": true,
    "slideshow": {
     "slide_type": "slide"
    },
    "tags": []
   },
   "source": [
    "## Course content"
   ]
  },
  {
   "cell_type": "markdown",
   "id": "f6020d91",
   "metadata": {
    "editable": true,
    "slideshow": {
     "slide_type": "slide"
    },
    "tags": []
   },
   "source": [
    "### Course goals\n",
    "\n",
    "**DSC 80 teaches you to *think* like a data scientist.**\n",
    "\n",
    "In this course, you will...\n",
    "\n",
    "* Practice translating potentially vague questions into quantitative questions about measurable observations.\n",
    "* Learn to reason about \"black-box\" processes (e.g. complicated models).\n",
    "* Understand computational and statistical implications of working with data.\n",
    "* Learn to use real data tools (and rely on documentation).\n",
    "* Get a taste of the \"life of a data scientist.\""
   ]
  },
  {
   "cell_type": "markdown",
   "id": "ac5a59be",
   "metadata": {
    "editable": true,
    "slideshow": {
     "slide_type": "slide"
    },
    "tags": []
   },
   "source": [
    "### Course outcomes\n",
    "\n",
    "After this course, you will...\n",
    "\n",
    "* Be prepared for internships and data science \"take home\" interviews!\n",
    "* Be ready to create your own portfolio of personal projects.\n",
    "* Have the background and maturity to succeed in the upper-division."
   ]
  },
  {
   "cell_type": "markdown",
   "id": "aa976b95",
   "metadata": {
    "editable": true,
    "slideshow": {
     "slide_type": "slide"
    },
    "tags": []
   },
   "source": [
    "### Topics\n",
    "\n",
    "- Week 1: From `babypandas` to `pandas`\n",
    "- Week 2: DataFrames\n",
    "- Week 3: Working with messy data, hypothesis testing\n",
    "- Week 4: Missing values\n",
    "- Week 5: HTML, **Midterm Exam**\n",
    "- Week 6: Web data\n",
    "- Week 7: Text data, modeling\n",
    "- Week 8: Feature engineering, `sklearn` basics\n",
    "- Week 9: `sklearn` pipelines and model evaluation\n",
    "- Week 10: Classifier evaluation, fairness\n",
    "- Week 11: **Final Exam**"
   ]
  },
  {
   "cell_type": "markdown",
   "id": "ee4d0050",
   "metadata": {
    "editable": true,
    "slideshow": {
     "slide_type": "slide"
    },
    "tags": []
   },
   "source": [
    "## Course logistics"
   ]
  },
  {
   "cell_type": "markdown",
   "id": "21ceed47-24a8-4f32-83c4-e2ab92dbb5ca",
   "metadata": {
    "editable": true,
    "slideshow": {
     "slide_type": "slide"
    },
    "tags": []
   },
   "source": [
    "### Enrollment\n",
    "\n",
    "146 enrolled, 17 on waitlist.\n",
    "\n",
    "I can't help waitlisted people! But if you stick around, typically 5-10% of people drop course within first two weeks."
   ]
  },
  {
   "cell_type": "markdown",
   "id": "601ddc20",
   "metadata": {
    "editable": true,
    "slideshow": {
     "slide_type": "slide"
    },
    "tags": []
   },
   "source": [
    "### Course website\n",
    "\n",
    "The course website is your one-stop-shop for all things related to the course.\n",
    "\n",
    "<br>\n",
    "\n",
    "<center><h3><a href=\"https://dsc80.com\">dsc80.com</a></h3></center>\n",
    "\n",
    "<br>\n",
    "\n",
    "Make sure to **read the [syllabus](https://dsc80.com/syllabus)**!"
   ]
  },
  {
   "cell_type": "markdown",
   "id": "c261d793",
   "metadata": {
    "editable": true,
    "slideshow": {
     "slide_type": "slide"
    },
    "tags": []
   },
   "source": [
    "### Getting set up\n",
    "\n",
    "- **Ed**: Q&A forum. Must be active here, since this is where all announcements will be made.\n",
    "- **Gradescope**: Where you will submit all assignments for autograding, and where all of your grades will live.\n",
    "- **Canvas**: no.\n",
    "\n",
    "In addition, you must fill out our [Welcome Survey](https://forms.gle/1pBQK2WxKL9gdwPj8)."
   ]
  },
  {
   "cell_type": "markdown",
   "id": "dae66a40",
   "metadata": {
    "editable": true,
    "slideshow": {
     "slide_type": "slide"
    },
    "tags": []
   },
   "source": [
    "### Accessing course content on GitHub\n",
    "\n",
    "You will access all course content by pulling the course GitHub repository:\n",
    "\n",
    "<br>\n",
    "\n",
    "<center><p><b><a href=\"https://github.com/dsc-courses/dsc80-2023-fa/\">github.com/dsc-courses/dsc80-2023-fa</a></b></p></center>\n",
    "\n",
    "<br>\n",
    "\n",
    "We will post HTML versions of lecture notebooks on the course website, but otherwise you must `git pull` from this repository to access all course materials (including blank copies of assignments)."
   ]
  },
  {
   "cell_type": "markdown",
   "id": "a7dcec94",
   "metadata": {
    "editable": true,
    "slideshow": {
     "slide_type": "slide"
    },
    "tags": []
   },
   "source": [
    "### Environment setup\n",
    "\n",
    "- You have two choices:\n",
    "    - Set up your own Python environment (**strongly recommended**).\n",
    "    - Use DataHub.\n",
    "- Either way, follow the instructions on the [Tech Support](https://dsc80.com/tech_support) page of the course website.\n",
    "- Once you set up your environment, you will pull the course repo every time a new assignment comes out.\n",
    "- **Note:** You will submit your work to Gradescope directly, without using Git.\n",
    "- Will post a demo video with Lab 1."
   ]
  },
  {
   "cell_type": "markdown",
   "id": "32e15386",
   "metadata": {
    "editable": true,
    "slideshow": {
     "slide_type": "slide"
    },
    "tags": []
   },
   "source": [
    "### Assignments\n",
    "\n",
    "In this course, you will learn by doing!\n",
    "\n",
    "- **Labs (30%)**: 9 total. Due weekly on Mondays\n",
    "- **Projects (35% + 5% checkpoints)**: 5 total. Due on Wednesdays, and usually have a \"checkpoint.\"\n",
    "\n",
    "In DSC 80, assignments will usually consist of both a Jupyter Notebook and a `.py` file. You will write your code in the `.py` file; the Jupyter Notebook will contain problem descriptions and test cases. Lab 1 will explain the workflow."
   ]
  },
  {
   "cell_type": "markdown",
   "id": "3d428dc1",
   "metadata": {
    "editable": true,
    "slideshow": {
     "slide_type": "slide"
    },
    "tags": []
   },
   "source": [
    "### Discussions and lab reflections\n",
    "\n",
    "In order to have you reflect on your lab work, we will offer extra credit each week if you do all 3 of the following:\n",
    "\n",
    "1. Submit the lab.\n",
    "2. Attend discussion in-person (Fridays 10-10:50AM in Center Hall 212), where discuss solutions to the most recent lab.\n",
    "3. Submit a lab reflection form to Gradescope by Saturday.\n",
    "\n",
    "Each week you do all 3, you'll earn 0.25% of extra credit – this could total 2%.\n",
    "\n",
    "**This scheme starts this week**. Discussion will be podcasted."
   ]
  },
  {
   "cell_type": "markdown",
   "id": "599177f8",
   "metadata": {
    "editable": true,
    "slideshow": {
     "slide_type": "slide"
    },
    "tags": []
   },
   "source": [
    "### Exams\n",
    "\n",
    "- **Midterm Exam (10%)**: Thursday, Nov 2, in-person during lecture.\n",
    "- **Final Exam (20%)**: Monday, Dec 11, 3-6PM, in-person (location TBD).\n",
    "- Your final exam score can **redeem** your midterm score (see Syllabus for details).\n",
    "- Let us know on the [Exam Accommodations Form](https://docs.google.com/forms/d/e/1FAIpQLSfotknNxeXnzCt1IHdgYAwHwAToaJ84jRpUpSJDGSBgg-Sifw/viewform?usp=sharing) if you have a conflict."
   ]
  },
  {
   "cell_type": "markdown",
   "id": "6fc5d28a",
   "metadata": {
    "editable": true,
    "slideshow": {
     "slide_type": "slide"
    },
    "tags": []
   },
   "source": [
    "### A typical week in DSC 80\n",
    "\n",
    "<center><img src='imgs/schedule.png' width=100%></center>\n"
   ]
  },
  {
   "cell_type": "markdown",
   "id": "534f5fcc",
   "metadata": {
    "editable": true,
    "slideshow": {
     "slide_type": "slide"
    },
    "tags": []
   },
   "source": [
    "### Resources\n",
    "\n",
    "- Your main resource will be lecture notebooks.\n",
    "- Most lectures also have supplemental readings that come from our course textbook, [Learning Data Science](https://learningds.org/intro.html).\n",
    "\n",
    "<img alt=\"Front cover of textbook\" src=\"imgs/book-cover.png\" width=\"300\">"
   ]
  },
  {
   "cell_type": "markdown",
   "id": "6fb3de2a-5ea0-4550-955d-c4188b436264",
   "metadata": {
    "editable": true,
    "slideshow": {
     "slide_type": "slide"
    },
    "tags": []
   },
   "source": [
    "### Using Other People's Code\n",
    "\n",
    "- Lots of code available online --- Stack Overflow, documentation, ChatGPT, etc.\n",
    "- **Use it all!** I trust that you're here to learn.\n",
    "- (Just don't copy off a friend.)"
   ]
  },
  {
   "cell_type": "markdown",
   "id": "b2c18d41",
   "metadata": {
    "editable": true,
    "slideshow": {
     "slide_type": "slide"
    },
    "tags": []
   },
   "source": [
    "### Support 🫂\n",
    "\n",
    "It is no secret that this course requires **a lot** of work - becoming fluent with working with data is hard!\n",
    "\n",
    "- You will learn how to solve problems **independently** – documentation and the internet will be your friends.\n",
    "- Learning how to effectively check your work and debug is extremely useful.\n",
    "- Learning to stick with a problem (*tenacity*) is a very valuable skill; but don't be afraid to ask for help."
   ]
  },
  {
   "cell_type": "markdown",
   "id": "e5edbdb6",
   "metadata": {
    "editable": true,
    "slideshow": {
     "slide_type": "fragment"
    },
    "tags": []
   },
   "source": [
    "Once you've tried to solve problems on your own, we're glad to help.\n",
    "\n",
    "- **Office hours** are offered – most are in-person, but a few are remote. See the [Calendar 📆](https://dsc80.com/office_hours) for details.\n",
    "- **Ed** is your friend too. Make your conceptual questions public, and make your debugging questions private."
   ]
  },
  {
   "cell_type": "markdown",
   "id": "5ecb31ac",
   "metadata": {
    "editable": true,
    "slideshow": {
     "slide_type": "slide"
    },
    "tags": []
   },
   "source": [
    "<center><img src=\"imgs/cape.png\" width=75%></center>\n",
    "\n",
    "<center>You'll have to work a lot, but we'll make the time spent worth it.</center>"
   ]
  },
  {
   "cell_type": "markdown",
   "id": "e3bb2a04",
   "metadata": {
    "editable": true,
    "slideshow": {
     "slide_type": "slide"
    },
    "tags": []
   },
   "source": [
    "## The data science lifecycle 🚴"
   ]
  },
  {
   "cell_type": "markdown",
   "id": "afd51458",
   "metadata": {
    "editable": true,
    "slideshow": {
     "slide_type": "slide"
    },
    "tags": []
   },
   "source": [
    "### The scientific method\n",
    "\n",
    "You learned about the scientific method in elementary school. "
   ]
  },
  {
   "cell_type": "markdown",
   "id": "621c38e0",
   "metadata": {
    "editable": true,
    "slideshow": {
     "slide_type": "fragment"
    },
    "tags": []
   },
   "source": [
    "<center><img src=\"imgs/image_3.png\" width=500></center>"
   ]
  },
  {
   "cell_type": "markdown",
   "id": "56ee9fdd",
   "metadata": {
    "editable": true,
    "slideshow": {
     "slide_type": "fragment"
    },
    "tags": []
   },
   "source": [
    "However, it hides a lot of complexity.\n",
    "- Where did the hypothesis come from?\n",
    "- What data are you modeling? Is the data sufficient?\n",
    "- Under which conditions are the conclusions valid?"
   ]
  },
  {
   "cell_type": "markdown",
   "id": "1a45f8c4",
   "metadata": {
    "editable": true,
    "slideshow": {
     "slide_type": "slide"
    },
    "tags": []
   },
   "source": [
    "### The data science lifecycle\n",
    "\n",
    "<center><img src=\"imgs/ds-lifecycle.svg\" width=\"60%\"></center>"
   ]
  },
  {
   "cell_type": "markdown",
   "id": "1bb7af57",
   "metadata": {
    "editable": true,
    "slideshow": {
     "slide_type": "fragment"
    },
    "tags": []
   },
   "source": [
    "**All steps lead to more questions!** We'll refer back to the data science lifecycle repeatedly throughout the quarter."
   ]
  },
  {
   "cell_type": "markdown",
   "id": "7bd138d9",
   "metadata": {
    "editable": true,
    "slideshow": {
     "slide_type": "slide"
    },
    "tags": []
   },
   "source": [
    "## Example: What's in a name?"
   ]
  },
  {
   "cell_type": "markdown",
   "id": "ca637d08",
   "metadata": {
    "editable": true,
    "slideshow": {
     "slide_type": "slide"
    },
    "tags": []
   },
   "source": [
    "**Lilith, Lilibet … Lucifer? How Baby Names Went to ‘L’**\n",
    "\n",
    "https://www.nytimes.com/2021/06/12/style/lilibet-popular-baby-names.html?amp=&smid=fb-nytimes"
   ]
  },
  {
   "cell_type": "markdown",
   "id": "b6334a22",
   "metadata": {
    "editable": true,
    "slideshow": {
     "slide_type": "fragment"
    },
    "tags": []
   },
   "source": [
    "**Goal**: See if claims are true, based on the data."
   ]
  },
  {
   "cell_type": "markdown",
   "id": "3158f04f-9416-4062-9b7a-ab975721667b",
   "metadata": {
    "editable": true,
    "slideshow": {
     "slide_type": "slide"
    },
    "tags": []
   },
   "source": [
    "### The Data"
   ]
  },
  {
   "cell_type": "code",
   "execution_count": 8,
   "id": "ba6829c9-5ece-42ca-a5f2-3d7065ec19b2",
   "metadata": {
    "editable": true,
    "slideshow": {
     "slide_type": ""
    },
    "tags": []
   },
   "outputs": [
    {
     "data": {
      "text/plain": [
       "Ellipsis"
      ]
     },
     "execution_count": 8,
     "metadata": {},
     "output_type": "execute_result"
    }
   ],
   "source": [
    "baby = ...\n",
    "baby"
   ]
  },
  {
   "cell_type": "code",
   "execution_count": 9,
   "id": "cd8092c9-2c68-4c12-9fa5-9cffdc65c2a1",
   "metadata": {
    "editable": true,
    "slideshow": {
     "slide_type": "slide"
    },
    "tags": []
   },
   "outputs": [
    {
     "data": {
      "text/plain": [
       "Ellipsis"
      ]
     },
     "execution_count": 9,
     "metadata": {},
     "output_type": "execute_result"
    }
   ],
   "source": [
    "..."
   ]
  },
  {
   "cell_type": "markdown",
   "id": "ebdfa572-488e-4276-acde-32c831754f6f",
   "metadata": {
    "editable": true,
    "slideshow": {
     "slide_type": "slide"
    },
    "tags": []
   },
   "source": [
    "### \"'L' has to be like the consonant of the decade.\""
   ]
  },
  {
   "cell_type": "code",
   "execution_count": 10,
   "id": "9228ce94-b4e6-4683-873d-5dda36d51b8a",
   "metadata": {
    "editable": true,
    "slideshow": {
     "slide_type": ""
    },
    "tags": []
   },
   "outputs": [
    {
     "data": {
      "text/plain": [
       "Ellipsis"
      ]
     },
     "execution_count": 10,
     "metadata": {},
     "output_type": "execute_result"
    }
   ],
   "source": [
    "..."
   ]
  },
  {
   "cell_type": "markdown",
   "id": "b1bf7d1b-6ed3-4c6a-b210-481e1bcdd334",
   "metadata": {
    "editable": true,
    "slideshow": {
     "slide_type": "slide"
    },
    "tags": []
   },
   "source": [
    "### What about individual names?"
   ]
  },
  {
   "cell_type": "code",
   "execution_count": 11,
   "id": "1e7a27b0-acf5-4586-9bc5-2690801c1295",
   "metadata": {
    "editable": true,
    "slideshow": {
     "slide_type": ""
    },
    "tags": []
   },
   "outputs": [
    {
     "data": {
      "text/plain": [
       "Ellipsis"
      ]
     },
     "execution_count": 11,
     "metadata": {},
     "output_type": "execute_result"
    }
   ],
   "source": [
    "..."
   ]
  },
  {
   "cell_type": "code",
   "execution_count": 12,
   "id": "96327f69-4dd6-4c5a-b3b8-f6304449ddf2",
   "metadata": {
    "editable": true,
    "slideshow": {
     "slide_type": "slide"
    },
    "tags": []
   },
   "outputs": [
    {
     "data": {
      "text/plain": [
       "Ellipsis"
      ]
     },
     "execution_count": 12,
     "metadata": {},
     "output_type": "execute_result"
    }
   ],
   "source": [
    "..."
   ]
  },
  {
   "cell_type": "markdown",
   "id": "ba78b9a5-217a-4f9f-adba-ddce281480bf",
   "metadata": {
    "editable": true,
    "slideshow": {
     "slide_type": "slide"
    },
    "tags": []
   },
   "source": [
    "### Things that are due\n",
    "\n",
    "- **OSD / Exam Conflict requests due tonight**\n",
    "- **Welcome survey due Thursday**\n",
    "- **Lab 1 released, due Monday!**"
   ]
  },
  {
   "cell_type": "markdown",
   "id": "4170226a",
   "metadata": {
    "editable": true,
    "slideshow": {
     "slide_type": "fragment"
    },
    "tags": []
   },
   "source": [
    "### Next time\n",
    "\n",
    "- A deep dive into `pandas`."
   ]
  }
 ],
 "metadata": {
  "kernelspec": {
   "display_name": "Python 3 (ipykernel)",
   "language": "python",
   "name": "python3"
  },
  "language_info": {
   "codemirror_mode": {
    "name": "ipython",
    "version": 3
   },
   "file_extension": ".py",
   "mimetype": "text/x-python",
   "name": "python",
   "nbconvert_exporter": "python",
   "pygments_lexer": "ipython3",
   "version": "3.9.16"
  },
  "livereveal": {
   "scroll": true
  },
  "rise": {
   "transition": "none"
  }
 },
 "nbformat": 4,
 "nbformat_minor": 5
}
