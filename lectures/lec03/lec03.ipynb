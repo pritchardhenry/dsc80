{
 "cells": [
  {
   "cell_type": "code",
   "execution_count": 1,
   "id": "8c8a44b8",
   "metadata": {
    "slideshow": {
     "slide_type": "skip"
    }
   },
   "outputs": [
    {
     "data": {
      "text/html": [
       "\n",
       "<script type=\"text/javascript\" src=\"https://pandastutor.com/build/wsembed.bundle.2022-07-07-release.js\"></script>\n",
       "<script>\n",
       "console.log(\"initializing pandas_tutor js\")\n",
       "\n",
       "function drawWsv(viz_id, spec, options) {\n",
       "  if (typeof createWsvFromPandasTrace === 'undefined') {\n",
       "    setTimeout(() => drawWsv(viz_id, spec, options), 2000) // retry in 2 seconds\n",
       "    return\n",
       "  }\n",
       "  createWsvFromPandasTrace(viz_id, spec, options)\n",
       "}\n",
       "</script>\n"
      ],
      "text/plain": [
       "<IPython.core.display.HTML object>"
      ]
     },
     "metadata": {},
     "output_type": "display_data"
    }
   ],
   "source": [
    "import pandas as pd\n",
    "import numpy as np\n",
    "import matplotlib.pyplot as plt\n",
    "import seaborn as sns\n",
    "from matplotlib_inline.backend_inline import set_matplotlib_formats\n",
    "from IPython.display import display, IFrame\n",
    "\n",
    "# Pandas Tutor setup\n",
    "%reload_ext pandas_tutor\n",
    "%set_pandas_tutor_options {\"maxDisplayCols\": 8, \"nohover\": True, \"projectorMode\": True}\n",
    "\n",
    "set_matplotlib_formats(\"svg\")\n",
    "sns.set_context(\"poster\")\n",
    "sns.set_style(\"whitegrid\")\n",
    "plt.rcParams[\"figure.figsize\"] = (10, 5)\n",
    "pd.set_option(\"display.max_rows\", 8)\n",
    "pd.set_option(\"display.max_columns\", 8)\n",
    "pd.set_option(\"display.precision\", 2)\n",
    "\n",
    "def show_paradox_slides():\n",
    "    src = 'https://docs.google.com/presentation/d/e/2PACX-1vSbFSaxaYZ0NcgrgqZLvjhkjX-5MQzAITWAsEFZHnix3j1c0qN8Vd1rogTAQP7F7Nf5r-JWExnGey7h/embed?start=false'\n",
    "    width = 960\n",
    "    height = 569\n",
    "    display(IFrame(src, width, height))"
   ]
  },
  {
   "cell_type": "markdown",
   "id": "ce9e66d9",
   "metadata": {
    "slideshow": {
     "slide_type": "slide"
    }
   },
   "source": [
    "# Lecture 3 – Aggregating, Simpson's paradox\n",
    "\n",
    "## DSC 80, Fall 2023\n",
    "\n",
    "### Agenda\n",
    "\n",
    "- Data granularity.\n",
    "- Grouping using `.groupby()` and `.resample()`.\n",
    "- Pivot tables using `.pivot_table()`.\n",
    "- Conditional probabilities\n",
    "- Simpson's paradox"
   ]
  },
  {
   "cell_type": "markdown",
   "id": "22824200",
   "metadata": {
    "slideshow": {
     "slide_type": "slide"
    }
   },
   "source": [
    "## 📣 Announcements 📣\n",
    "\n",
    "- Good job turning in Lab 1!\n",
    "- Lab 2 out, due Monday.\n",
    "- Project 1 checkpoint due tomorrow.\n",
    "    - Project 1 due next Wed."
   ]
  },
  {
   "cell_type": "markdown",
   "id": "e65a8331",
   "metadata": {
    "slideshow": {
     "slide_type": "slide"
    }
   },
   "source": [
    "## Data granularity"
   ]
  },
  {
   "cell_type": "markdown",
   "id": "1108c767",
   "metadata": {
    "slideshow": {
     "slide_type": "slide"
    }
   },
   "source": [
    "### Granularity\n",
    "\n",
    "- **Granularity** refers to what each observation in a dataset represents.\n",
    "    - Fine: small details.\n",
    "    - Coarse: bigger picture.\n",
    "- Most commonly, rows in a DataFrame correspond to observations, and columns correspond to attributes. Data formatted in this way is called [tidy data](https://r4ds.had.co.nz/tidy-data.html)."
   ]
  },
  {
   "cell_type": "markdown",
   "id": "6856a340",
   "metadata": {
    "slideshow": {
     "slide_type": "slide"
    }
   },
   "source": [
    "### Example: Baby Names\n",
    "\n",
    "What is a single observation in the baby names data?"
   ]
  },
  {
   "cell_type": "code",
   "execution_count": 2,
   "id": "13cf8475",
   "metadata": {},
   "outputs": [
    {
     "data": {
      "text/html": [
       "<div>\n",
       "<style scoped>\n",
       "    .dataframe tbody tr th:only-of-type {\n",
       "        vertical-align: middle;\n",
       "    }\n",
       "\n",
       "    .dataframe tbody tr th {\n",
       "        vertical-align: top;\n",
       "    }\n",
       "\n",
       "    .dataframe thead th {\n",
       "        text-align: right;\n",
       "    }\n",
       "</style>\n",
       "<table border=\"1\" class=\"dataframe\">\n",
       "  <thead>\n",
       "    <tr style=\"text-align: right;\">\n",
       "      <th></th>\n",
       "      <th>Name</th>\n",
       "      <th>Sex</th>\n",
       "      <th>Count</th>\n",
       "      <th>Year</th>\n",
       "    </tr>\n",
       "  </thead>\n",
       "  <tbody>\n",
       "    <tr>\n",
       "      <th>0</th>\n",
       "      <td>Liam</td>\n",
       "      <td>M</td>\n",
       "      <td>20456</td>\n",
       "      <td>2022</td>\n",
       "    </tr>\n",
       "    <tr>\n",
       "      <th>1</th>\n",
       "      <td>Noah</td>\n",
       "      <td>M</td>\n",
       "      <td>18621</td>\n",
       "      <td>2022</td>\n",
       "    </tr>\n",
       "    <tr>\n",
       "      <th>2</th>\n",
       "      <td>Olivia</td>\n",
       "      <td>F</td>\n",
       "      <td>16573</td>\n",
       "      <td>2022</td>\n",
       "    </tr>\n",
       "    <tr>\n",
       "      <th>3</th>\n",
       "      <td>Oliver</td>\n",
       "      <td>M</td>\n",
       "      <td>15076</td>\n",
       "      <td>2022</td>\n",
       "    </tr>\n",
       "    <tr>\n",
       "      <th>...</th>\n",
       "      <td>...</td>\n",
       "      <td>...</td>\n",
       "      <td>...</td>\n",
       "      <td>...</td>\n",
       "    </tr>\n",
       "    <tr>\n",
       "      <th>2085154</th>\n",
       "      <td>Worthy</td>\n",
       "      <td>M</td>\n",
       "      <td>5</td>\n",
       "      <td>1880</td>\n",
       "    </tr>\n",
       "    <tr>\n",
       "      <th>2085155</th>\n",
       "      <td>Wright</td>\n",
       "      <td>M</td>\n",
       "      <td>5</td>\n",
       "      <td>1880</td>\n",
       "    </tr>\n",
       "    <tr>\n",
       "      <th>2085156</th>\n",
       "      <td>York</td>\n",
       "      <td>M</td>\n",
       "      <td>5</td>\n",
       "      <td>1880</td>\n",
       "    </tr>\n",
       "    <tr>\n",
       "      <th>2085157</th>\n",
       "      <td>Zachariah</td>\n",
       "      <td>M</td>\n",
       "      <td>5</td>\n",
       "      <td>1880</td>\n",
       "    </tr>\n",
       "  </tbody>\n",
       "</table>\n",
       "<p>2085158 rows × 4 columns</p>\n",
       "</div>"
      ],
      "text/plain": [
       "              Name Sex  Count  Year\n",
       "0             Liam   M  20456  2022\n",
       "1             Noah   M  18621  2022\n",
       "2           Olivia   F  16573  2022\n",
       "3           Oliver   M  15076  2022\n",
       "...            ...  ..    ...   ...\n",
       "2085154     Worthy   M      5  1880\n",
       "2085155     Wright   M      5  1880\n",
       "2085156       York   M      5  1880\n",
       "2085157  Zachariah   M      5  1880\n",
       "\n",
       "[2085158 rows x 4 columns]"
      ]
     },
     "execution_count": 2,
     "metadata": {},
     "output_type": "execute_result"
    }
   ],
   "source": [
    "baby = pd.read_csv('data/baby.csv')\n",
    "baby"
   ]
  },
  {
   "cell_type": "markdown",
   "id": "b8d636d7",
   "metadata": {
    "slideshow": {
     "slide_type": "slide"
    }
   },
   "source": [
    "### Example: CO2 readings\n",
    "\n",
    "What is a single observation in this dataset of CO2 readings?"
   ]
  },
  {
   "cell_type": "code",
   "execution_count": 3,
   "id": "4e150e42",
   "metadata": {},
   "outputs": [
    {
     "data": {
      "text/html": [
       "<div>\n",
       "<style scoped>\n",
       "    .dataframe tbody tr th:only-of-type {\n",
       "        vertical-align: middle;\n",
       "    }\n",
       "\n",
       "    .dataframe tbody tr th {\n",
       "        vertical-align: top;\n",
       "    }\n",
       "\n",
       "    .dataframe thead th {\n",
       "        text-align: right;\n",
       "    }\n",
       "</style>\n",
       "<table border=\"1\" class=\"dataframe\">\n",
       "  <thead>\n",
       "    <tr style=\"text-align: right;\">\n",
       "      <th></th>\n",
       "      <th>Yr</th>\n",
       "      <th>Mo</th>\n",
       "      <th>DecDate</th>\n",
       "      <th>co2</th>\n",
       "    </tr>\n",
       "  </thead>\n",
       "  <tbody>\n",
       "    <tr>\n",
       "      <th>0</th>\n",
       "      <td>1958</td>\n",
       "      <td>3</td>\n",
       "      <td>1958.21</td>\n",
       "      <td>315.71</td>\n",
       "    </tr>\n",
       "    <tr>\n",
       "      <th>1</th>\n",
       "      <td>1958</td>\n",
       "      <td>4</td>\n",
       "      <td>1958.29</td>\n",
       "      <td>317.45</td>\n",
       "    </tr>\n",
       "    <tr>\n",
       "      <th>2</th>\n",
       "      <td>1958</td>\n",
       "      <td>5</td>\n",
       "      <td>1958.38</td>\n",
       "      <td>317.50</td>\n",
       "    </tr>\n",
       "    <tr>\n",
       "      <th>3</th>\n",
       "      <td>1958</td>\n",
       "      <td>6</td>\n",
       "      <td>1958.46</td>\n",
       "      <td>317.10</td>\n",
       "    </tr>\n",
       "    <tr>\n",
       "      <th>...</th>\n",
       "      <td>...</td>\n",
       "      <td>...</td>\n",
       "      <td>...</td>\n",
       "      <td>...</td>\n",
       "    </tr>\n",
       "    <tr>\n",
       "      <th>734</th>\n",
       "      <td>2019</td>\n",
       "      <td>5</td>\n",
       "      <td>2019.38</td>\n",
       "      <td>414.66</td>\n",
       "    </tr>\n",
       "    <tr>\n",
       "      <th>735</th>\n",
       "      <td>2019</td>\n",
       "      <td>6</td>\n",
       "      <td>2019.46</td>\n",
       "      <td>413.92</td>\n",
       "    </tr>\n",
       "    <tr>\n",
       "      <th>736</th>\n",
       "      <td>2019</td>\n",
       "      <td>7</td>\n",
       "      <td>2019.54</td>\n",
       "      <td>411.77</td>\n",
       "    </tr>\n",
       "    <tr>\n",
       "      <th>737</th>\n",
       "      <td>2019</td>\n",
       "      <td>8</td>\n",
       "      <td>2019.62</td>\n",
       "      <td>409.95</td>\n",
       "    </tr>\n",
       "  </tbody>\n",
       "</table>\n",
       "<p>738 rows × 4 columns</p>\n",
       "</div>"
      ],
      "text/plain": [
       "       Yr  Mo  DecDate     co2\n",
       "0    1958   3  1958.21  315.71\n",
       "1    1958   4  1958.29  317.45\n",
       "2    1958   5  1958.38  317.50\n",
       "3    1958   6  1958.46  317.10\n",
       "..    ...  ..      ...     ...\n",
       "734  2019   5  2019.38  414.66\n",
       "735  2019   6  2019.46  413.92\n",
       "736  2019   7  2019.54  411.77\n",
       "737  2019   8  2019.62  409.95\n",
       "\n",
       "[738 rows x 4 columns]"
      ]
     },
     "execution_count": 3,
     "metadata": {},
     "output_type": "execute_result"
    }
   ],
   "source": [
    "# Don't about this code, we'll cover it when we talk about data cleaning\n",
    "co2 = pd.read_csv('data/co2_mm_mlo.txt', \n",
    "                  header=None, skiprows=72, sep='\\s+',\n",
    "                  names=['Yr', 'Mo', 'DecDate', 'Avg', 'co2', 'Trend', 'days'],\n",
    "                  usecols=['Yr', 'Mo', 'DecDate', 'co2'])\n",
    "co2"
   ]
  },
  {
   "cell_type": "markdown",
   "id": "6847efd9",
   "metadata": {
    "slideshow": {
     "slide_type": "slide"
    }
   },
   "source": [
    "### Example: CO2 readings by month"
   ]
  },
  {
   "cell_type": "code",
   "execution_count": 4,
   "id": "7d6ccbf7",
   "metadata": {},
   "outputs": [
    {
     "data": {
      "image/svg+xml": [
       "<?xml version=\"1.0\" encoding=\"utf-8\" standalone=\"no\"?>\n",
       "<!DOCTYPE svg PUBLIC \"-//W3C//DTD SVG 1.1//EN\"\n",
       "  \"http://www.w3.org/Graphics/SVG/1.1/DTD/svg11.dtd\">\n",
       "<svg xmlns:xlink=\"http://www.w3.org/1999/xlink\" width=\"652.752733pt\" height=\"353.168437pt\" viewBox=\"0 0 652.752733 353.168437\" xmlns=\"http://www.w3.org/2000/svg\" version=\"1.1\">\n",
       " <metadata>\n",
       "  <rdf:RDF xmlns:dc=\"http://purl.org/dc/elements/1.1/\" xmlns:cc=\"http://creativecommons.org/ns#\" xmlns:rdf=\"http://www.w3.org/1999/02/22-rdf-syntax-ns#\">\n",
       "   <cc:Work>\n",
       "    <dc:type rdf:resource=\"http://purl.org/dc/dcmitype/StillImage\"/>\n",
       "    <dc:date>2023-10-09T19:50:46.324618</dc:date>\n",
       "    <dc:format>image/svg+xml</dc:format>\n",
       "    <dc:creator>\n",
       "     <cc:Agent>\n",
       "      <dc:title>Matplotlib v3.5.1, https://matplotlib.org/</dc:title>\n",
       "     </cc:Agent>\n",
       "    </dc:creator>\n",
       "   </cc:Work>\n",
       "  </rdf:RDF>\n",
       " </metadata>\n",
       " <defs>\n",
       "  <style type=\"text/css\">*{stroke-linejoin: round; stroke-linecap: butt}</style>\n",
       " </defs>\n",
       " <g id=\"figure_1\">\n",
       "  <g id=\"patch_1\">\n",
       "   <path d=\"M 0 353.168437 \n",
       "L 652.752733 353.168437 \n",
       "L 652.752733 0 \n",
       "L 0 0 \n",
       "z\n",
       "\" style=\"fill: #ffffff\"/>\n",
       "  </g>\n",
       "  <g id=\"axes_1\">\n",
       "   <g id=\"patch_2\">\n",
       "    <path d=\"M 85.350938 284.4 \n",
       "L 643.350937 284.4 \n",
       "L 643.350937 7.2 \n",
       "L 85.350938 7.2 \n",
       "z\n",
       "\" style=\"fill: #ffffff\"/>\n",
       "   </g>\n",
       "   <g id=\"matplotlib.axis_1\">\n",
       "    <g id=\"xtick_1\">\n",
       "     <g id=\"line2d_1\">\n",
       "      <path d=\"M 125.515569 284.4 \n",
       "L 125.515569 7.2 \n",
       "\" clip-path=\"url(#p1a8bdf4f6a)\" style=\"fill: none; stroke: #cccccc; stroke-width: 2; stroke-linecap: round\"/>\n",
       "     </g>\n",
       "     <g id=\"text_1\">\n",
       "      <!-- 1960 -->\n",
       "      <g style=\"fill: #262626\" transform=\"translate(101.047444 315.647187)scale(0.22 -0.22)\">\n",
       "       <defs>\n",
       "        <path id=\"ArialMT-31\" d=\"M 2384 0 \n",
       "L 1822 0 \n",
       "L 1822 3584 \n",
       "Q 1619 3391 1289 3197 \n",
       "Q 959 3003 697 2906 \n",
       "L 697 3450 \n",
       "Q 1169 3672 1522 3987 \n",
       "Q 1875 4303 2022 4600 \n",
       "L 2384 4600 \n",
       "L 2384 0 \n",
       "z\n",
       "\" transform=\"scale(0.015625)\"/>\n",
       "        <path id=\"ArialMT-39\" d=\"M 350 1059 \n",
       "L 891 1109 \n",
       "Q 959 728 1153 556 \n",
       "Q 1347 384 1650 384 \n",
       "Q 1909 384 2104 503 \n",
       "Q 2300 622 2425 820 \n",
       "Q 2550 1019 2634 1356 \n",
       "Q 2719 1694 2719 2044 \n",
       "Q 2719 2081 2716 2156 \n",
       "Q 2547 1888 2255 1720 \n",
       "Q 1963 1553 1622 1553 \n",
       "Q 1053 1553 659 1965 \n",
       "Q 266 2378 266 3053 \n",
       "Q 266 3750 677 4175 \n",
       "Q 1088 4600 1706 4600 \n",
       "Q 2153 4600 2523 4359 \n",
       "Q 2894 4119 3086 3673 \n",
       "Q 3278 3228 3278 2384 \n",
       "Q 3278 1506 3087 986 \n",
       "Q 2897 466 2520 194 \n",
       "Q 2144 -78 1638 -78 \n",
       "Q 1100 -78 759 220 \n",
       "Q 419 519 350 1059 \n",
       "z\n",
       "M 2653 3081 \n",
       "Q 2653 3566 2395 3850 \n",
       "Q 2138 4134 1775 4134 \n",
       "Q 1400 4134 1122 3828 \n",
       "Q 844 3522 844 3034 \n",
       "Q 844 2597 1108 2323 \n",
       "Q 1372 2050 1759 2050 \n",
       "Q 2150 2050 2401 2323 \n",
       "Q 2653 2597 2653 3081 \n",
       "z\n",
       "\" transform=\"scale(0.015625)\"/>\n",
       "        <path id=\"ArialMT-36\" d=\"M 3184 3459 \n",
       "L 2625 3416 \n",
       "Q 2550 3747 2413 3897 \n",
       "Q 2184 4138 1850 4138 \n",
       "Q 1581 4138 1378 3988 \n",
       "Q 1113 3794 959 3422 \n",
       "Q 806 3050 800 2363 \n",
       "Q 1003 2672 1297 2822 \n",
       "Q 1591 2972 1913 2972 \n",
       "Q 2475 2972 2870 2558 \n",
       "Q 3266 2144 3266 1488 \n",
       "Q 3266 1056 3080 686 \n",
       "Q 2894 316 2569 119 \n",
       "Q 2244 -78 1831 -78 \n",
       "Q 1128 -78 684 439 \n",
       "Q 241 956 241 2144 \n",
       "Q 241 3472 731 4075 \n",
       "Q 1159 4600 1884 4600 \n",
       "Q 2425 4600 2770 4297 \n",
       "Q 3116 3994 3184 3459 \n",
       "z\n",
       "M 888 1484 \n",
       "Q 888 1194 1011 928 \n",
       "Q 1134 663 1356 523 \n",
       "Q 1578 384 1822 384 \n",
       "Q 2178 384 2434 671 \n",
       "Q 2691 959 2691 1453 \n",
       "Q 2691 1928 2437 2201 \n",
       "Q 2184 2475 1800 2475 \n",
       "Q 1419 2475 1153 2201 \n",
       "Q 888 1928 888 1484 \n",
       "z\n",
       "\" transform=\"scale(0.015625)\"/>\n",
       "        <path id=\"ArialMT-30\" d=\"M 266 2259 \n",
       "Q 266 3072 433 3567 \n",
       "Q 600 4063 929 4331 \n",
       "Q 1259 4600 1759 4600 \n",
       "Q 2128 4600 2406 4451 \n",
       "Q 2684 4303 2865 4023 \n",
       "Q 3047 3744 3150 3342 \n",
       "Q 3253 2941 3253 2259 \n",
       "Q 3253 1453 3087 958 \n",
       "Q 2922 463 2592 192 \n",
       "Q 2263 -78 1759 -78 \n",
       "Q 1097 -78 719 397 \n",
       "Q 266 969 266 2259 \n",
       "z\n",
       "M 844 2259 \n",
       "Q 844 1131 1108 757 \n",
       "Q 1372 384 1759 384 \n",
       "Q 2147 384 2411 759 \n",
       "Q 2675 1134 2675 2259 \n",
       "Q 2675 3391 2411 3762 \n",
       "Q 2147 4134 1753 4134 \n",
       "Q 1366 4134 1134 3806 \n",
       "Q 844 3388 844 2259 \n",
       "z\n",
       "\" transform=\"scale(0.015625)\"/>\n",
       "       </defs>\n",
       "       <use xlink:href=\"#ArialMT-31\"/>\n",
       "       <use xlink:href=\"#ArialMT-39\" x=\"55.615234\"/>\n",
       "       <use xlink:href=\"#ArialMT-36\" x=\"111.230469\"/>\n",
       "       <use xlink:href=\"#ArialMT-30\" x=\"166.845703\"/>\n",
       "      </g>\n",
       "     </g>\n",
       "    </g>\n",
       "    <g id=\"xtick_2\">\n",
       "     <g id=\"line2d_2\">\n",
       "      <path d=\"M 208.110409 284.4 \n",
       "L 208.110409 7.2 \n",
       "\" clip-path=\"url(#p1a8bdf4f6a)\" style=\"fill: none; stroke: #cccccc; stroke-width: 2; stroke-linecap: round\"/>\n",
       "     </g>\n",
       "     <g id=\"text_2\">\n",
       "      <!-- 1970 -->\n",
       "      <g style=\"fill: #262626\" transform=\"translate(183.642284 315.647187)scale(0.22 -0.22)\">\n",
       "       <defs>\n",
       "        <path id=\"ArialMT-37\" d=\"M 303 3981 \n",
       "L 303 4522 \n",
       "L 3269 4522 \n",
       "L 3269 4084 \n",
       "Q 2831 3619 2401 2847 \n",
       "Q 1972 2075 1738 1259 \n",
       "Q 1569 684 1522 0 \n",
       "L 944 0 \n",
       "Q 953 541 1156 1306 \n",
       "Q 1359 2072 1739 2783 \n",
       "Q 2119 3494 2547 3981 \n",
       "L 303 3981 \n",
       "z\n",
       "\" transform=\"scale(0.015625)\"/>\n",
       "       </defs>\n",
       "       <use xlink:href=\"#ArialMT-31\"/>\n",
       "       <use xlink:href=\"#ArialMT-39\" x=\"55.615234\"/>\n",
       "       <use xlink:href=\"#ArialMT-37\" x=\"111.230469\"/>\n",
       "       <use xlink:href=\"#ArialMT-30\" x=\"166.845703\"/>\n",
       "      </g>\n",
       "     </g>\n",
       "    </g>\n",
       "    <g id=\"xtick_3\">\n",
       "     <g id=\"line2d_3\">\n",
       "      <path d=\"M 290.705249 284.4 \n",
       "L 290.705249 7.2 \n",
       "\" clip-path=\"url(#p1a8bdf4f6a)\" style=\"fill: none; stroke: #cccccc; stroke-width: 2; stroke-linecap: round\"/>\n",
       "     </g>\n",
       "     <g id=\"text_3\">\n",
       "      <!-- 1980 -->\n",
       "      <g style=\"fill: #262626\" transform=\"translate(266.237124 315.647187)scale(0.22 -0.22)\">\n",
       "       <defs>\n",
       "        <path id=\"ArialMT-38\" d=\"M 1131 2484 \n",
       "Q 781 2613 612 2850 \n",
       "Q 444 3088 444 3419 \n",
       "Q 444 3919 803 4259 \n",
       "Q 1163 4600 1759 4600 \n",
       "Q 2359 4600 2725 4251 \n",
       "Q 3091 3903 3091 3403 \n",
       "Q 3091 3084 2923 2848 \n",
       "Q 2756 2613 2416 2484 \n",
       "Q 2838 2347 3058 2040 \n",
       "Q 3278 1734 3278 1309 \n",
       "Q 3278 722 2862 322 \n",
       "Q 2447 -78 1769 -78 \n",
       "Q 1091 -78 675 323 \n",
       "Q 259 725 259 1325 \n",
       "Q 259 1772 486 2073 \n",
       "Q 713 2375 1131 2484 \n",
       "z\n",
       "M 1019 3438 \n",
       "Q 1019 3113 1228 2906 \n",
       "Q 1438 2700 1772 2700 \n",
       "Q 2097 2700 2305 2904 \n",
       "Q 2513 3109 2513 3406 \n",
       "Q 2513 3716 2298 3927 \n",
       "Q 2084 4138 1766 4138 \n",
       "Q 1444 4138 1231 3931 \n",
       "Q 1019 3725 1019 3438 \n",
       "z\n",
       "M 838 1322 \n",
       "Q 838 1081 952 856 \n",
       "Q 1066 631 1291 507 \n",
       "Q 1516 384 1775 384 \n",
       "Q 2178 384 2440 643 \n",
       "Q 2703 903 2703 1303 \n",
       "Q 2703 1709 2433 1975 \n",
       "Q 2163 2241 1756 2241 \n",
       "Q 1359 2241 1098 1978 \n",
       "Q 838 1716 838 1322 \n",
       "z\n",
       "\" transform=\"scale(0.015625)\"/>\n",
       "       </defs>\n",
       "       <use xlink:href=\"#ArialMT-31\"/>\n",
       "       <use xlink:href=\"#ArialMT-39\" x=\"55.615234\"/>\n",
       "       <use xlink:href=\"#ArialMT-38\" x=\"111.230469\"/>\n",
       "       <use xlink:href=\"#ArialMT-30\" x=\"166.845703\"/>\n",
       "      </g>\n",
       "     </g>\n",
       "    </g>\n",
       "    <g id=\"xtick_4\">\n",
       "     <g id=\"line2d_4\">\n",
       "      <path d=\"M 373.300088 284.4 \n",
       "L 373.300088 7.2 \n",
       "\" clip-path=\"url(#p1a8bdf4f6a)\" style=\"fill: none; stroke: #cccccc; stroke-width: 2; stroke-linecap: round\"/>\n",
       "     </g>\n",
       "     <g id=\"text_4\">\n",
       "      <!-- 1990 -->\n",
       "      <g style=\"fill: #262626\" transform=\"translate(348.831963 315.647187)scale(0.22 -0.22)\">\n",
       "       <use xlink:href=\"#ArialMT-31\"/>\n",
       "       <use xlink:href=\"#ArialMT-39\" x=\"55.615234\"/>\n",
       "       <use xlink:href=\"#ArialMT-39\" x=\"111.230469\"/>\n",
       "       <use xlink:href=\"#ArialMT-30\" x=\"166.845703\"/>\n",
       "      </g>\n",
       "     </g>\n",
       "    </g>\n",
       "    <g id=\"xtick_5\">\n",
       "     <g id=\"line2d_5\">\n",
       "      <path d=\"M 455.894928 284.4 \n",
       "L 455.894928 7.2 \n",
       "\" clip-path=\"url(#p1a8bdf4f6a)\" style=\"fill: none; stroke: #cccccc; stroke-width: 2; stroke-linecap: round\"/>\n",
       "     </g>\n",
       "     <g id=\"text_5\">\n",
       "      <!-- 2000 -->\n",
       "      <g style=\"fill: #262626\" transform=\"translate(431.426803 315.647187)scale(0.22 -0.22)\">\n",
       "       <defs>\n",
       "        <path id=\"ArialMT-32\" d=\"M 3222 541 \n",
       "L 3222 0 \n",
       "L 194 0 \n",
       "Q 188 203 259 391 \n",
       "Q 375 700 629 1000 \n",
       "Q 884 1300 1366 1694 \n",
       "Q 2113 2306 2375 2664 \n",
       "Q 2638 3022 2638 3341 \n",
       "Q 2638 3675 2398 3904 \n",
       "Q 2159 4134 1775 4134 \n",
       "Q 1369 4134 1125 3890 \n",
       "Q 881 3647 878 3216 \n",
       "L 300 3275 \n",
       "Q 359 3922 746 4261 \n",
       "Q 1134 4600 1788 4600 \n",
       "Q 2447 4600 2831 4234 \n",
       "Q 3216 3869 3216 3328 \n",
       "Q 3216 3053 3103 2787 \n",
       "Q 2991 2522 2730 2228 \n",
       "Q 2469 1934 1863 1422 \n",
       "Q 1356 997 1212 845 \n",
       "Q 1069 694 975 541 \n",
       "L 3222 541 \n",
       "z\n",
       "\" transform=\"scale(0.015625)\"/>\n",
       "       </defs>\n",
       "       <use xlink:href=\"#ArialMT-32\"/>\n",
       "       <use xlink:href=\"#ArialMT-30\" x=\"55.615234\"/>\n",
       "       <use xlink:href=\"#ArialMT-30\" x=\"111.230469\"/>\n",
       "       <use xlink:href=\"#ArialMT-30\" x=\"166.845703\"/>\n",
       "      </g>\n",
       "     </g>\n",
       "    </g>\n",
       "    <g id=\"xtick_6\">\n",
       "     <g id=\"line2d_6\">\n",
       "      <path d=\"M 538.489768 284.4 \n",
       "L 538.489768 7.2 \n",
       "\" clip-path=\"url(#p1a8bdf4f6a)\" style=\"fill: none; stroke: #cccccc; stroke-width: 2; stroke-linecap: round\"/>\n",
       "     </g>\n",
       "     <g id=\"text_6\">\n",
       "      <!-- 2010 -->\n",
       "      <g style=\"fill: #262626\" transform=\"translate(514.021643 315.647187)scale(0.22 -0.22)\">\n",
       "       <use xlink:href=\"#ArialMT-32\"/>\n",
       "       <use xlink:href=\"#ArialMT-30\" x=\"55.615234\"/>\n",
       "       <use xlink:href=\"#ArialMT-31\" x=\"111.230469\"/>\n",
       "       <use xlink:href=\"#ArialMT-30\" x=\"166.845703\"/>\n",
       "      </g>\n",
       "     </g>\n",
       "    </g>\n",
       "    <g id=\"xtick_7\">\n",
       "     <g id=\"line2d_7\">\n",
       "      <path d=\"M 621.084608 284.4 \n",
       "L 621.084608 7.2 \n",
       "\" clip-path=\"url(#p1a8bdf4f6a)\" style=\"fill: none; stroke: #cccccc; stroke-width: 2; stroke-linecap: round\"/>\n",
       "     </g>\n",
       "     <g id=\"text_7\">\n",
       "      <!-- 2020 -->\n",
       "      <g style=\"fill: #262626\" transform=\"translate(596.616483 315.647187)scale(0.22 -0.22)\">\n",
       "       <use xlink:href=\"#ArialMT-32\"/>\n",
       "       <use xlink:href=\"#ArialMT-30\" x=\"55.615234\"/>\n",
       "       <use xlink:href=\"#ArialMT-32\" x=\"111.230469\"/>\n",
       "       <use xlink:href=\"#ArialMT-30\" x=\"166.845703\"/>\n",
       "      </g>\n",
       "     </g>\n",
       "    </g>\n",
       "    <g id=\"text_8\">\n",
       "     <!-- DecDate -->\n",
       "     <g style=\"fill: #262626\" transform=\"translate(317.665312 341.198437)scale(0.24 -0.24)\">\n",
       "      <defs>\n",
       "       <path id=\"ArialMT-44\" d=\"M 494 0 \n",
       "L 494 4581 \n",
       "L 2072 4581 \n",
       "Q 2606 4581 2888 4516 \n",
       "Q 3281 4425 3559 4188 \n",
       "Q 3922 3881 4101 3404 \n",
       "Q 4281 2928 4281 2316 \n",
       "Q 4281 1794 4159 1391 \n",
       "Q 4038 988 3847 723 \n",
       "Q 3656 459 3429 307 \n",
       "Q 3203 156 2883 78 \n",
       "Q 2563 0 2147 0 \n",
       "L 494 0 \n",
       "z\n",
       "M 1100 541 \n",
       "L 2078 541 \n",
       "Q 2531 541 2789 625 \n",
       "Q 3047 709 3200 863 \n",
       "Q 3416 1078 3536 1442 \n",
       "Q 3656 1806 3656 2325 \n",
       "Q 3656 3044 3420 3430 \n",
       "Q 3184 3816 2847 3947 \n",
       "Q 2603 4041 2063 4041 \n",
       "L 1100 4041 \n",
       "L 1100 541 \n",
       "z\n",
       "\" transform=\"scale(0.015625)\"/>\n",
       "       <path id=\"ArialMT-65\" d=\"M 2694 1069 \n",
       "L 3275 997 \n",
       "Q 3138 488 2766 206 \n",
       "Q 2394 -75 1816 -75 \n",
       "Q 1088 -75 661 373 \n",
       "Q 234 822 234 1631 \n",
       "Q 234 2469 665 2931 \n",
       "Q 1097 3394 1784 3394 \n",
       "Q 2450 3394 2872 2941 \n",
       "Q 3294 2488 3294 1666 \n",
       "Q 3294 1616 3291 1516 \n",
       "L 816 1516 \n",
       "Q 847 969 1125 678 \n",
       "Q 1403 388 1819 388 \n",
       "Q 2128 388 2347 550 \n",
       "Q 2566 713 2694 1069 \n",
       "z\n",
       "M 847 1978 \n",
       "L 2700 1978 \n",
       "Q 2663 2397 2488 2606 \n",
       "Q 2219 2931 1791 2931 \n",
       "Q 1403 2931 1139 2672 \n",
       "Q 875 2413 847 1978 \n",
       "z\n",
       "\" transform=\"scale(0.015625)\"/>\n",
       "       <path id=\"ArialMT-63\" d=\"M 2588 1216 \n",
       "L 3141 1144 \n",
       "Q 3050 572 2676 248 \n",
       "Q 2303 -75 1759 -75 \n",
       "Q 1078 -75 664 370 \n",
       "Q 250 816 250 1647 \n",
       "Q 250 2184 428 2587 \n",
       "Q 606 2991 970 3192 \n",
       "Q 1334 3394 1763 3394 \n",
       "Q 2303 3394 2647 3120 \n",
       "Q 2991 2847 3088 2344 \n",
       "L 2541 2259 \n",
       "Q 2463 2594 2264 2762 \n",
       "Q 2066 2931 1784 2931 \n",
       "Q 1359 2931 1093 2626 \n",
       "Q 828 2322 828 1663 \n",
       "Q 828 994 1084 691 \n",
       "Q 1341 388 1753 388 \n",
       "Q 2084 388 2306 591 \n",
       "Q 2528 794 2588 1216 \n",
       "z\n",
       "\" transform=\"scale(0.015625)\"/>\n",
       "       <path id=\"ArialMT-61\" d=\"M 2588 409 \n",
       "Q 2275 144 1986 34 \n",
       "Q 1697 -75 1366 -75 \n",
       "Q 819 -75 525 192 \n",
       "Q 231 459 231 875 \n",
       "Q 231 1119 342 1320 \n",
       "Q 453 1522 633 1644 \n",
       "Q 813 1766 1038 1828 \n",
       "Q 1203 1872 1538 1913 \n",
       "Q 2219 1994 2541 2106 \n",
       "Q 2544 2222 2544 2253 \n",
       "Q 2544 2597 2384 2738 \n",
       "Q 2169 2928 1744 2928 \n",
       "Q 1347 2928 1158 2789 \n",
       "Q 969 2650 878 2297 \n",
       "L 328 2372 \n",
       "Q 403 2725 575 2942 \n",
       "Q 747 3159 1072 3276 \n",
       "Q 1397 3394 1825 3394 \n",
       "Q 2250 3394 2515 3294 \n",
       "Q 2781 3194 2906 3042 \n",
       "Q 3031 2891 3081 2659 \n",
       "Q 3109 2516 3109 2141 \n",
       "L 3109 1391 \n",
       "Q 3109 606 3145 398 \n",
       "Q 3181 191 3288 0 \n",
       "L 2700 0 \n",
       "Q 2613 175 2588 409 \n",
       "z\n",
       "M 2541 1666 \n",
       "Q 2234 1541 1622 1453 \n",
       "Q 1275 1403 1131 1340 \n",
       "Q 988 1278 909 1158 \n",
       "Q 831 1038 831 891 \n",
       "Q 831 666 1001 516 \n",
       "Q 1172 366 1500 366 \n",
       "Q 1825 366 2078 508 \n",
       "Q 2331 650 2450 897 \n",
       "Q 2541 1088 2541 1459 \n",
       "L 2541 1666 \n",
       "z\n",
       "\" transform=\"scale(0.015625)\"/>\n",
       "       <path id=\"ArialMT-74\" d=\"M 1650 503 \n",
       "L 1731 6 \n",
       "Q 1494 -44 1306 -44 \n",
       "Q 1000 -44 831 53 \n",
       "Q 663 150 594 308 \n",
       "Q 525 466 525 972 \n",
       "L 525 2881 \n",
       "L 113 2881 \n",
       "L 113 3319 \n",
       "L 525 3319 \n",
       "L 525 4141 \n",
       "L 1084 4478 \n",
       "L 1084 3319 \n",
       "L 1650 3319 \n",
       "L 1650 2881 \n",
       "L 1084 2881 \n",
       "L 1084 941 \n",
       "Q 1084 700 1114 631 \n",
       "Q 1144 563 1211 522 \n",
       "Q 1278 481 1403 481 \n",
       "Q 1497 481 1650 503 \n",
       "z\n",
       "\" transform=\"scale(0.015625)\"/>\n",
       "      </defs>\n",
       "      <use xlink:href=\"#ArialMT-44\"/>\n",
       "      <use xlink:href=\"#ArialMT-65\" x=\"72.216797\"/>\n",
       "      <use xlink:href=\"#ArialMT-63\" x=\"127.832031\"/>\n",
       "      <use xlink:href=\"#ArialMT-44\" x=\"177.832031\"/>\n",
       "      <use xlink:href=\"#ArialMT-61\" x=\"250.048828\"/>\n",
       "      <use xlink:href=\"#ArialMT-74\" x=\"305.664062\"/>\n",
       "      <use xlink:href=\"#ArialMT-65\" x=\"333.447266\"/>\n",
       "     </g>\n",
       "    </g>\n",
       "   </g>\n",
       "   <g id=\"matplotlib.axis_2\">\n",
       "    <g id=\"ytick_1\">\n",
       "     <g id=\"line2d_8\">\n",
       "      <path d=\"M 85.350938 253.665882 \n",
       "L 643.350937 253.665882 \n",
       "\" clip-path=\"url(#p1a8bdf4f6a)\" style=\"fill: none; stroke: #cccccc; stroke-width: 2; stroke-linecap: round\"/>\n",
       "     </g>\n",
       "     <g id=\"text_9\">\n",
       "      <!-- 320 -->\n",
       "      <g style=\"fill: #262626\" transform=\"translate(33.14875 261.539476)scale(0.22 -0.22)\">\n",
       "       <defs>\n",
       "        <path id=\"ArialMT-33\" d=\"M 269 1209 \n",
       "L 831 1284 \n",
       "Q 928 806 1161 595 \n",
       "Q 1394 384 1728 384 \n",
       "Q 2125 384 2398 659 \n",
       "Q 2672 934 2672 1341 \n",
       "Q 2672 1728 2419 1979 \n",
       "Q 2166 2231 1775 2231 \n",
       "Q 1616 2231 1378 2169 \n",
       "L 1441 2663 \n",
       "Q 1497 2656 1531 2656 \n",
       "Q 1891 2656 2178 2843 \n",
       "Q 2466 3031 2466 3422 \n",
       "Q 2466 3731 2256 3934 \n",
       "Q 2047 4138 1716 4138 \n",
       "Q 1388 4138 1169 3931 \n",
       "Q 950 3725 888 3313 \n",
       "L 325 3413 \n",
       "Q 428 3978 793 4289 \n",
       "Q 1159 4600 1703 4600 \n",
       "Q 2078 4600 2393 4439 \n",
       "Q 2709 4278 2876 4000 \n",
       "Q 3044 3722 3044 3409 \n",
       "Q 3044 3113 2884 2869 \n",
       "Q 2725 2625 2413 2481 \n",
       "Q 2819 2388 3044 2092 \n",
       "Q 3269 1797 3269 1353 \n",
       "Q 3269 753 2831 336 \n",
       "Q 2394 -81 1725 -81 \n",
       "Q 1122 -81 723 278 \n",
       "Q 325 638 269 1209 \n",
       "z\n",
       "\" transform=\"scale(0.015625)\"/>\n",
       "       </defs>\n",
       "       <use xlink:href=\"#ArialMT-33\"/>\n",
       "       <use xlink:href=\"#ArialMT-32\" x=\"55.615234\"/>\n",
       "       <use xlink:href=\"#ArialMT-30\" x=\"111.230469\"/>\n",
       "      </g>\n",
       "     </g>\n",
       "    </g>\n",
       "    <g id=\"ytick_2\">\n",
       "     <g id=\"line2d_9\">\n",
       "      <path d=\"M 85.350938 204.254118 \n",
       "L 643.350937 204.254118 \n",
       "\" clip-path=\"url(#p1a8bdf4f6a)\" style=\"fill: none; stroke: #cccccc; stroke-width: 2; stroke-linecap: round\"/>\n",
       "     </g>\n",
       "     <g id=\"text_10\">\n",
       "      <!-- 340 -->\n",
       "      <g style=\"fill: #262626\" transform=\"translate(33.14875 212.127711)scale(0.22 -0.22)\">\n",
       "       <defs>\n",
       "        <path id=\"ArialMT-34\" d=\"M 2069 0 \n",
       "L 2069 1097 \n",
       "L 81 1097 \n",
       "L 81 1613 \n",
       "L 2172 4581 \n",
       "L 2631 4581 \n",
       "L 2631 1613 \n",
       "L 3250 1613 \n",
       "L 3250 1097 \n",
       "L 2631 1097 \n",
       "L 2631 0 \n",
       "L 2069 0 \n",
       "z\n",
       "M 2069 1613 \n",
       "L 2069 3678 \n",
       "L 634 1613 \n",
       "L 2069 1613 \n",
       "z\n",
       "\" transform=\"scale(0.015625)\"/>\n",
       "       </defs>\n",
       "       <use xlink:href=\"#ArialMT-33\"/>\n",
       "       <use xlink:href=\"#ArialMT-34\" x=\"55.615234\"/>\n",
       "       <use xlink:href=\"#ArialMT-30\" x=\"111.230469\"/>\n",
       "      </g>\n",
       "     </g>\n",
       "    </g>\n",
       "    <g id=\"ytick_3\">\n",
       "     <g id=\"line2d_10\">\n",
       "      <path d=\"M 85.350938 154.842353 \n",
       "L 643.350937 154.842353 \n",
       "\" clip-path=\"url(#p1a8bdf4f6a)\" style=\"fill: none; stroke: #cccccc; stroke-width: 2; stroke-linecap: round\"/>\n",
       "     </g>\n",
       "     <g id=\"text_11\">\n",
       "      <!-- 360 -->\n",
       "      <g style=\"fill: #262626\" transform=\"translate(33.14875 162.715947)scale(0.22 -0.22)\">\n",
       "       <use xlink:href=\"#ArialMT-33\"/>\n",
       "       <use xlink:href=\"#ArialMT-36\" x=\"55.615234\"/>\n",
       "       <use xlink:href=\"#ArialMT-30\" x=\"111.230469\"/>\n",
       "      </g>\n",
       "     </g>\n",
       "    </g>\n",
       "    <g id=\"ytick_4\">\n",
       "     <g id=\"line2d_11\">\n",
       "      <path d=\"M 85.350938 105.430588 \n",
       "L 643.350937 105.430588 \n",
       "\" clip-path=\"url(#p1a8bdf4f6a)\" style=\"fill: none; stroke: #cccccc; stroke-width: 2; stroke-linecap: round\"/>\n",
       "     </g>\n",
       "     <g id=\"text_12\">\n",
       "      <!-- 380 -->\n",
       "      <g style=\"fill: #262626\" transform=\"translate(33.14875 113.304182)scale(0.22 -0.22)\">\n",
       "       <use xlink:href=\"#ArialMT-33\"/>\n",
       "       <use xlink:href=\"#ArialMT-38\" x=\"55.615234\"/>\n",
       "       <use xlink:href=\"#ArialMT-30\" x=\"111.230469\"/>\n",
       "      </g>\n",
       "     </g>\n",
       "    </g>\n",
       "    <g id=\"ytick_5\">\n",
       "     <g id=\"line2d_12\">\n",
       "      <path d=\"M 85.350938 56.018824 \n",
       "L 643.350937 56.018824 \n",
       "\" clip-path=\"url(#p1a8bdf4f6a)\" style=\"fill: none; stroke: #cccccc; stroke-width: 2; stroke-linecap: round\"/>\n",
       "     </g>\n",
       "     <g id=\"text_13\">\n",
       "      <!-- 400 -->\n",
       "      <g style=\"fill: #262626\" transform=\"translate(33.14875 63.892417)scale(0.22 -0.22)\">\n",
       "       <use xlink:href=\"#ArialMT-34\"/>\n",
       "       <use xlink:href=\"#ArialMT-30\" x=\"55.615234\"/>\n",
       "       <use xlink:href=\"#ArialMT-30\" x=\"111.230469\"/>\n",
       "      </g>\n",
       "     </g>\n",
       "    </g>\n",
       "    <g id=\"text_14\">\n",
       "     <!-- co2 -->\n",
       "     <g style=\"fill: #262626\" transform=\"translate(24.37875 165.14625)rotate(-90)scale(0.24 -0.24)\">\n",
       "      <defs>\n",
       "       <path id=\"ArialMT-6f\" d=\"M 213 1659 \n",
       "Q 213 2581 725 3025 \n",
       "Q 1153 3394 1769 3394 \n",
       "Q 2453 3394 2887 2945 \n",
       "Q 3322 2497 3322 1706 \n",
       "Q 3322 1066 3130 698 \n",
       "Q 2938 331 2570 128 \n",
       "Q 2203 -75 1769 -75 \n",
       "Q 1072 -75 642 372 \n",
       "Q 213 819 213 1659 \n",
       "z\n",
       "M 791 1659 \n",
       "Q 791 1022 1069 705 \n",
       "Q 1347 388 1769 388 \n",
       "Q 2188 388 2466 706 \n",
       "Q 2744 1025 2744 1678 \n",
       "Q 2744 2294 2464 2611 \n",
       "Q 2184 2928 1769 2928 \n",
       "Q 1347 2928 1069 2612 \n",
       "Q 791 2297 791 1659 \n",
       "z\n",
       "\" transform=\"scale(0.015625)\"/>\n",
       "      </defs>\n",
       "      <use xlink:href=\"#ArialMT-63\"/>\n",
       "      <use xlink:href=\"#ArialMT-6f\" x=\"50\"/>\n",
       "      <use xlink:href=\"#ArialMT-32\" x=\"105.615234\"/>\n",
       "     </g>\n",
       "    </g>\n",
       "   </g>\n",
       "   <g id=\"line2d_13\">\n",
       "    <path d=\"M 110.714574 264.264706 \n",
       "L 111.408371 259.965882 \n",
       "L 112.093908 259.842353 \n",
       "L 112.779445 260.830588 \n",
       "L 113.473242 263.894118 \n",
       "L 114.158779 266.191765 \n",
       "L 114.844316 270.465882 \n",
       "L 115.538113 271.8 \n",
       "L 116.22365 270.144706 \n",
       "L 116.909187 266.834118 \n",
       "L 117.602983 264.487059 \n",
       "L 118.288521 262.609412 \n",
       "L 118.974058 261.794118 \n",
       "L 119.667854 259.298824 \n",
       "L 120.353392 257.890588 \n",
       "L 121.038929 258.236471 \n",
       "L 122.418263 266.512941 \n",
       "L 123.1038 268.884706 \n",
       "L 123.797596 270.317647 \n",
       "L 124.483134 266.512941 \n",
       "L 125.862467 262.485882 \n",
       "L 127.233542 259.644706 \n",
       "L 127.927338 256.087059 \n",
       "L 128.612876 253.591765 \n",
       "L 129.298413 254.678824 \n",
       "L 129.992209 258.162353 \n",
       "L 130.677747 263.770588 \n",
       "L 131.363284 268.094118 \n",
       "L 132.05708 268.909412 \n",
       "L 133.428155 263.078824 \n",
       "L 134.807489 259.348235 \n",
       "L 136.186822 254.950588 \n",
       "L 136.87236 252.232941 \n",
       "L 137.557897 254.234118 \n",
       "L 138.251693 257.198824 \n",
       "L 139.622768 266.512941 \n",
       "L 140.316564 265.08 \n",
       "L 141.002102 263.301176 \n",
       "L 142.381435 258.755294 \n",
       "L 143.066973 257.223529 \n",
       "L 144.446306 252.109412 \n",
       "L 145.131844 251.170588 \n",
       "L 145.817381 252.307059 \n",
       "L 146.511177 254.703529 \n",
       "L 147.196715 260.089412 \n",
       "L 147.882252 262.905882 \n",
       "L 148.576048 264.981176 \n",
       "L 149.261586 261.843529 \n",
       "L 150.640919 256.778824 \n",
       "L 151.326457 255.938824 \n",
       "L 152.011994 254.011765 \n",
       "L 152.70579 250.231765 \n",
       "L 153.391328 248.107059 \n",
       "L 154.076865 250.034118 \n",
       "L 156.141736 263.029412 \n",
       "L 156.835532 263.572941 \n",
       "L 158.900403 254.728235 \n",
       "L 159.585941 253.492941 \n",
       "L 160.271478 251.862353 \n",
       "L 160.965274 249.292941 \n",
       "L 161.650812 248.107059 \n",
       "L 162.336349 248.996471 \n",
       "L 163.030145 252.578824 \n",
       "L 164.40122 261.818824 \n",
       "L 165.095016 261.596471 \n",
       "L 166.466091 256.852941 \n",
       "L 167.159887 255.049412 \n",
       "L 167.845425 252.578824 \n",
       "L 168.530962 251.467059 \n",
       "L 169.224758 248.403529 \n",
       "L 169.910296 248.329412 \n",
       "L 170.595833 249.045882 \n",
       "L 171.289629 250.231765 \n",
       "L 171.975167 256.605882 \n",
       "L 172.660704 259.076471 \n",
       "L 173.3545 260.336471 \n",
       "L 174.040037 256.457647 \n",
       "L 174.725575 255.098824 \n",
       "L 175.419371 252.134118 \n",
       "L 176.104908 249.737647 \n",
       "L 176.790446 247.761176 \n",
       "L 177.484242 244.104706 \n",
       "L 178.169779 243.758824 \n",
       "L 178.855317 244.401176 \n",
       "L 179.549113 247.761176 \n",
       "L 180.920188 257.025882 \n",
       "L 181.613984 258.36 \n",
       "L 182.299521 254.184706 \n",
       "L 182.985059 250.997647 \n",
       "L 183.678855 248.551765 \n",
       "L 184.364392 247.489412 \n",
       "L 185.04993 246.155294 \n",
       "L 185.743726 242.745882 \n",
       "L 186.429263 241.312941 \n",
       "L 187.114801 243.561176 \n",
       "L 189.179672 255.370588 \n",
       "L 189.873468 255.370588 \n",
       "L 191.244543 248.823529 \n",
       "L 192.623876 245.883529 \n",
       "L 193.309414 244.055294 \n",
       "L 194.00321 241.263529 \n",
       "L 194.688747 239.904706 \n",
       "L 195.374285 240.423529 \n",
       "L 196.068081 243.437647 \n",
       "L 196.753618 248.650588 \n",
       "L 197.439156 252.652941 \n",
       "L 198.132952 253.048235 \n",
       "L 198.818489 250.429412 \n",
       "L 199.504027 246.649412 \n",
       "L 200.197823 243.783529 \n",
       "L 200.88336 242.745882 \n",
       "L 201.568898 239.731765 \n",
       "L 202.262694 237.211765 \n",
       "L 202.948231 235.531765 \n",
       "L 203.633769 236.964706 \n",
       "L 204.327565 239.138824 \n",
       "L 205.013102 244.598824 \n",
       "L 205.69864 247.785882 \n",
       "L 206.392436 249.268235 \n",
       "L 207.077973 246.624706 \n",
       "L 207.763511 243.511765 \n",
       "L 209.828382 236.692941 \n",
       "L 210.522178 233.58 \n",
       "L 211.207715 233.728235 \n",
       "L 211.893253 234.741176 \n",
       "L 212.587049 237.977647 \n",
       "L 213.958124 246.007059 \n",
       "L 214.65192 245.858824 \n",
       "L 215.337457 243.832941 \n",
       "L 216.716791 238.422353 \n",
       "L 218.781662 234.444706 \n",
       "L 219.467199 231.628235 \n",
       "L 220.152737 232.492941 \n",
       "L 220.846533 235.531765 \n",
       "L 222.217608 245.364706 \n",
       "L 222.911404 244.845882 \n",
       "L 224.282479 238.817647 \n",
       "L 225.661812 234.815294 \n",
       "L 226.34735 234.518824 \n",
       "L 227.041146 229.651765 \n",
       "L 227.726683 228.787059 \n",
       "L 229.106017 233.777647 \n",
       "L 229.791554 238.051765 \n",
       "L 230.477091 241.485882 \n",
       "L 231.170888 241.164706 \n",
       "L 231.856425 237.607059 \n",
       "L 233.921296 230.047059 \n",
       "L 234.606833 228.218824 \n",
       "L 235.30063 225.254118 \n",
       "L 235.986167 222.832941 \n",
       "L 236.671704 223.845882 \n",
       "L 237.365501 226.810588 \n",
       "L 238.736575 235.111765 \n",
       "L 239.430372 235.927059 \n",
       "L 240.115909 233.505882 \n",
       "L 240.801446 232.32 \n",
       "L 241.495243 230.565882 \n",
       "L 242.18078 227.205882 \n",
       "L 242.866317 225.303529 \n",
       "L 243.560114 222.412941 \n",
       "L 244.245651 221.078824 \n",
       "L 245.624985 226.316471 \n",
       "L 246.996059 235.581176 \n",
       "L 247.689856 235.68 \n",
       "L 248.375393 233.16 \n",
       "L 249.754727 227.156471 \n",
       "L 250.440264 225.352941 \n",
       "L 251.125801 224.265882 \n",
       "L 251.819598 221.128235 \n",
       "L 252.505135 219.225882 \n",
       "L 253.190672 220.436471 \n",
       "L 253.884469 224.068235 \n",
       "L 254.570006 229.083529 \n",
       "L 255.255543 232.665882 \n",
       "L 255.94934 233.061176 \n",
       "L 256.634877 230.516471 \n",
       "L 257.320414 227.502353 \n",
       "L 258.014211 225.031765 \n",
       "L 258.699748 222.165882 \n",
       "L 259.385285 220.263529 \n",
       "L 260.079082 217.496471 \n",
       "L 260.764619 217.175294 \n",
       "L 261.450156 219.077647 \n",
       "L 262.143953 221.4 \n",
       "L 262.82949 227.28 \n",
       "L 263.515027 231.554118 \n",
       "L 264.208824 232.048235 \n",
       "L 265.579898 224.957647 \n",
       "L 266.273695 222.388235 \n",
       "L 266.959232 221.227059 \n",
       "L 267.644769 216.730588 \n",
       "L 268.338566 213.815294 \n",
       "L 269.024103 211.838824 \n",
       "L 269.70964 213.716471 \n",
       "L 270.403437 216.903529 \n",
       "L 271.088974 222.635294 \n",
       "L 271.774511 225.772941 \n",
       "L 272.468308 225.822353 \n",
       "L 273.839382 220.065882 \n",
       "L 274.533179 216.730588 \n",
       "L 275.218716 215.989412 \n",
       "L 275.904253 212.505882 \n",
       "L 276.59805 209.961176 \n",
       "L 277.283587 209.121176 \n",
       "L 277.969124 209.170588 \n",
       "L 278.662921 213.123529 \n",
       "L 280.033995 223.104706 \n",
       "L 280.727792 223.005882 \n",
       "L 282.098866 216.854118 \n",
       "L 282.792663 213.790588 \n",
       "L 283.4782 212.431765 \n",
       "L 284.163737 208.528235 \n",
       "L 284.857534 206.848235 \n",
       "L 285.543071 206.205882 \n",
       "L 286.228608 206.082353 \n",
       "L 288.293479 219.127059 \n",
       "L 288.987276 218.608235 \n",
       "L 289.672813 215.841176 \n",
       "L 290.35835 212.135294 \n",
       "L 291.052147 209.442353 \n",
       "L 291.737684 208.355294 \n",
       "L 292.423221 204.229412 \n",
       "L 293.117018 201.956471 \n",
       "L 293.802555 200.597647 \n",
       "L 294.488092 200.968235 \n",
       "L 295.867426 209.936471 \n",
       "L 296.552963 213.667059 \n",
       "L 297.24676 213.765882 \n",
       "L 298.617834 208.404706 \n",
       "L 299.311631 206.008235 \n",
       "L 300.682705 200.276471 \n",
       "L 301.376502 198.003529 \n",
       "L 302.062039 196.768235 \n",
       "L 302.747576 197.978824 \n",
       "L 303.441373 202.327059 \n",
       "L 304.12691 208.108235 \n",
       "L 304.812447 211.789412 \n",
       "L 305.506244 211.468235 \n",
       "L 306.877318 204.550588 \n",
       "L 307.571115 201.882353 \n",
       "L 308.256652 199.98 \n",
       "L 309.635986 194.445882 \n",
       "L 310.321523 192.815294 \n",
       "L 311.00706 194.890588 \n",
       "L 311.700857 198.522353 \n",
       "L 312.386394 204.031765 \n",
       "L 313.071931 208.503529 \n",
       "L 313.765728 208.478824 \n",
       "L 315.136802 202.030588 \n",
       "L 315.830599 200.103529 \n",
       "L 316.516136 197.089412 \n",
       "L 317.201673 196.027059 \n",
       "L 317.89547 191.283529 \n",
       "L 318.581007 189.356471 \n",
       "L 319.266544 190.344706 \n",
       "L 319.960341 193.902353 \n",
       "L 321.331415 203.389412 \n",
       "L 322.025212 203.315294 \n",
       "L 322.710749 200.325882 \n",
       "L 323.396286 196.718824 \n",
       "L 324.090083 194.124706 \n",
       "L 325.461157 190.616471 \n",
       "L 326.154954 187.355294 \n",
       "L 326.840491 185.403529 \n",
       "L 327.526028 187.009412 \n",
       "L 328.219825 190.591765 \n",
       "L 329.590899 200.795294 \n",
       "L 330.284696 200.128235 \n",
       "L 331.65577 192.642353 \n",
       "L 332.349567 191.382353 \n",
       "L 333.035104 189.035294 \n",
       "L 333.720641 185.131765 \n",
       "L 334.414438 183.649412 \n",
       "L 335.099975 181.870588 \n",
       "L 335.785512 183.550588 \n",
       "L 337.850383 196.175294 \n",
       "L 338.54418 196.521176 \n",
       "L 339.915254 189.727059 \n",
       "L 341.980125 184.464706 \n",
       "L 342.673922 180.116471 \n",
       "L 343.359459 178.609412 \n",
       "L 344.044996 179.721176 \n",
       "L 344.738793 184.094118 \n",
       "L 345.42433 189.232941 \n",
       "L 346.109867 191.357647 \n",
       "L 346.803664 193.111765 \n",
       "L 348.174738 186.441176 \n",
       "L 348.868535 183.204706 \n",
       "L 349.554072 182.685882 \n",
       "L 350.239609 180.215294 \n",
       "L 350.933406 176.311765 \n",
       "L 351.618943 174.384706 \n",
       "L 352.30448 175.768235 \n",
       "L 352.998277 179.276471 \n",
       "L 353.683814 184.291765 \n",
       "L 354.369351 188.145882 \n",
       "L 355.063148 187.972941 \n",
       "L 356.434222 181.623529 \n",
       "L 357.813556 175.496471 \n",
       "L 358.499093 173.618824 \n",
       "L 359.19289 170.431765 \n",
       "L 359.878427 169.147059 \n",
       "L 360.563964 170.357647 \n",
       "L 361.257761 172.902353 \n",
       "L 361.943298 178.56 \n",
       "L 362.628835 182.216471 \n",
       "L 363.322632 181.697647 \n",
       "L 364.693706 176.064706 \n",
       "L 365.387503 172.358824 \n",
       "L 366.07304 171.469412 \n",
       "L 366.758577 169.764706 \n",
       "L 367.452374 165.614118 \n",
       "L 368.137911 165.070588 \n",
       "L 368.823448 166.281176 \n",
       "L 369.517245 169.690588 \n",
       "L 370.202782 175.076471 \n",
       "L 370.888319 179.424706 \n",
       "L 371.582116 178.930588 \n",
       "L 374.332524 167.096471 \n",
       "L 375.711858 163.934118 \n",
       "L 376.397395 161.463529 \n",
       "L 377.082932 163.884706 \n",
       "L 377.776729 167.590588 \n",
       "L 379.147803 176.311765 \n",
       "L 379.8416 175.545882 \n",
       "L 381.212674 168.850588 \n",
       "L 381.906471 167.590588 \n",
       "L 382.592008 165.391765 \n",
       "L 383.971342 158.152941 \n",
       "L 384.656879 156.991765 \n",
       "L 385.342416 159.462353 \n",
       "L 386.036213 164.255294 \n",
       "L 386.72175 170.036471 \n",
       "L 387.407287 173.989412 \n",
       "L 388.101084 173.742353 \n",
       "L 389.472158 166.898824 \n",
       "L 390.165955 164.107059 \n",
       "L 391.537029 160.129412 \n",
       "L 392.230826 157.090588 \n",
       "L 392.916363 155.855294 \n",
       "L 393.6019 156.497647 \n",
       "L 394.981234 167.343529 \n",
       "L 395.666771 172.235294 \n",
       "L 396.360568 171.345882 \n",
       "L 397.046105 168.875294 \n",
       "L 398.425439 162.254118 \n",
       "L 399.110976 161.488235 \n",
       "L 399.796513 158.622353 \n",
       "L 401.175847 154.372941 \n",
       "L 401.861384 156.028235 \n",
       "L 402.555181 161.438824 \n",
       "L 403.926255 169.591765 \n",
       "L 404.620052 169.369412 \n",
       "L 405.991126 162.476471 \n",
       "L 406.684923 159.190588 \n",
       "L 407.37046 157.510588 \n",
       "L 408.749794 151.803529 \n",
       "L 409.435331 150.765882 \n",
       "L 410.120868 152.841176 \n",
       "L 410.814665 156.374118 \n",
       "L 412.185739 165.391765 \n",
       "L 412.879536 164.527059 \n",
       "L 414.25061 157.362353 \n",
       "L 416.315481 150.321176 \n",
       "L 417.009278 146.689412 \n",
       "L 417.694815 145.725882 \n",
       "L 418.380352 146.961176 \n",
       "L 419.074149 150.790588 \n",
       "L 419.759686 157.016471 \n",
       "L 420.445223 159.363529 \n",
       "L 421.13902 159.808235 \n",
       "L 422.510094 153.162353 \n",
       "L 423.889428 146.837647 \n",
       "L 424.574965 144.54 \n",
       "L 425.268762 143.551765 \n",
       "L 425.954299 142.168235 \n",
       "L 426.639836 142.687059 \n",
       "L 427.333633 146.071765 \n",
       "L 428.704707 155.978824 \n",
       "L 429.398504 155.88 \n",
       "L 430.769578 149.308235 \n",
       "L 432.148912 144.885882 \n",
       "L 432.834449 143.7 \n",
       "L 433.528246 139.154118 \n",
       "L 434.213783 138.437647 \n",
       "L 434.89932 141.031765 \n",
       "L 435.593117 144.194118 \n",
       "L 436.964191 154.125882 \n",
       "L 437.657988 152.816471 \n",
       "L 439.029062 144.021176 \n",
       "L 439.722859 141.822353 \n",
       "L 440.408396 140.068235 \n",
       "L 441.78773 133.447059 \n",
       "L 442.473267 131.569412 \n",
       "L 443.158804 132.631765 \n",
       "L 443.8526 135.522353 \n",
       "L 445.223675 144.910588 \n",
       "L 445.917471 143.971765 \n",
       "L 446.603009 141.204706 \n",
       "L 447.288546 137.227059 \n",
       "L 448.66788 132.434118 \n",
       "L 449.353417 130.927059 \n",
       "L 450.047213 127.690588 \n",
       "L 450.732751 127.764706 \n",
       "L 451.418288 129.395294 \n",
       "L 452.112084 131.495294 \n",
       "L 452.797622 137.795294 \n",
       "L 453.483159 142.958824 \n",
       "L 454.176955 141.575294 \n",
       "L 456.241826 131.890588 \n",
       "L 456.927364 131.272941 \n",
       "L 458.306697 125.64 \n",
       "L 458.992235 126.232941 \n",
       "L 459.677772 125.936471 \n",
       "L 461.057106 134.756471 \n",
       "L 461.742643 137.548235 \n",
       "L 462.436439 137.474118 \n",
       "L 463.807514 130.951765 \n",
       "L 466.566181 121.810588 \n",
       "L 467.251719 120.624706 \n",
       "L 467.937256 122.181176 \n",
       "L 470.002127 134.632941 \n",
       "L 470.695923 133.965882 \n",
       "L 472.760794 123.885882 \n",
       "L 473.446332 122.230588 \n",
       "L 474.825665 117.734118 \n",
       "L 475.511203 115.905882 \n",
       "L 476.19674 116.498824 \n",
       "L 476.890536 120.229412 \n",
       "L 477.576074 125.565882 \n",
       "L 478.261611 128.283529 \n",
       "L 478.955407 128.777647 \n",
       "L 480.326482 120.772941 \n",
       "L 481.020278 118.08 \n",
       "L 482.391353 114.201176 \n",
       "L 483.085149 111.038824 \n",
       "L 483.770687 108.889412 \n",
       "L 484.456224 109.68 \n",
       "L 485.15002 113.583529 \n",
       "L 485.835558 119.315294 \n",
       "L 486.521095 122.304706 \n",
       "L 487.214891 122.354118 \n",
       "L 488.585966 115.337647 \n",
       "L 490.650837 108.197647 \n",
       "L 491.344633 104.565882 \n",
       "L 492.030171 103.898824 \n",
       "L 492.715708 106.196471 \n",
       "L 493.409504 111.681176 \n",
       "L 494.095042 115.288235 \n",
       "L 494.780579 119.636471 \n",
       "L 495.474375 119.117647 \n",
       "L 496.159913 114.917647 \n",
       "L 496.84545 111.582353 \n",
       "L 497.539246 109.235294 \n",
       "L 498.224784 106.097647 \n",
       "L 498.910321 103.528235 \n",
       "L 499.604117 99.772941 \n",
       "L 500.289654 99.377647 \n",
       "L 500.975192 99.970588 \n",
       "L 501.668988 103.602353 \n",
       "L 503.040063 113.583529 \n",
       "L 503.733859 112.842353 \n",
       "L 504.419396 109.507059 \n",
       "L 505.104934 105.158824 \n",
       "L 505.79873 102.021176 \n",
       "L 506.484267 100.02 \n",
       "L 507.169805 98.834118 \n",
       "L 507.863601 94.041176 \n",
       "L 508.549138 93.003529 \n",
       "L 509.234676 95.424706 \n",
       "L 509.928472 99.352941 \n",
       "L 510.614009 104.417647 \n",
       "L 511.299547 108.271765 \n",
       "L 511.993343 107.58 \n",
       "L 512.67888 105.06 \n",
       "L 513.364418 100.934118 \n",
       "L 514.743751 95.795294 \n",
       "L 515.429289 94.115294 \n",
       "L 516.123085 89.371765 \n",
       "L 516.808622 89.223529 \n",
       "L 517.49416 90.36 \n",
       "L 518.187956 94.312941 \n",
       "L 518.873493 100.514118 \n",
       "L 519.559031 103.034118 \n",
       "L 520.252827 102.663529 \n",
       "L 521.623902 95.671765 \n",
       "L 522.317698 91.792941 \n",
       "L 523.003235 91.051765 \n",
       "L 523.688773 90.532941 \n",
       "L 525.068106 84.331765 \n",
       "L 525.753644 86.258824 \n",
       "L 526.44744 89.717647 \n",
       "L 527.132977 95.325882 \n",
       "L 527.818515 97.574118 \n",
       "L 528.512311 98.043529 \n",
       "L 529.883386 91.694118 \n",
       "L 530.577182 88.284706 \n",
       "L 531.262719 86.950588 \n",
       "L 531.948257 83.64 \n",
       "L 532.642053 81.836471 \n",
       "L 533.32759 80.378824 \n",
       "L 534.013128 82.009412 \n",
       "L 534.706924 85.591765 \n",
       "L 535.392461 90.335294 \n",
       "L 536.077999 93.72 \n",
       "L 536.771795 94.485882 \n",
       "L 538.14287 87.098824 \n",
       "L 538.836666 83.911765 \n",
       "L 539.522203 80.230588 \n",
       "L 540.207741 77.834118 \n",
       "L 540.901537 74.647059 \n",
       "L 541.587074 73.312941 \n",
       "L 542.272612 75.412941 \n",
       "L 543.651945 84.801176 \n",
       "L 544.337483 88.507059 \n",
       "L 545.031279 87.543529 \n",
       "L 545.716816 84.010588 \n",
       "L 546.402354 81.243529 \n",
       "L 547.09615 77.438824 \n",
       "L 547.781687 76.129412 \n",
       "L 549.846558 70.372941 \n",
       "L 550.532096 71.484706 \n",
       "L 551.225892 74.523529 \n",
       "L 551.911429 80.403529 \n",
       "L 552.596967 82.997647 \n",
       "L 553.290763 83.195294 \n",
       "L 553.9763 80.032941 \n",
       "L 554.661838 76.129412 \n",
       "L 555.355634 73.016471 \n",
       "L 556.041171 71.188235 \n",
       "L 556.726708 69.854118 \n",
       "L 557.420505 65.456471 \n",
       "L 558.106042 64.072941 \n",
       "L 558.791579 66.617647 \n",
       "L 559.485376 69.952941 \n",
       "L 560.170913 74.82 \n",
       "L 560.85645 77.982353 \n",
       "L 561.550247 78.130588 \n",
       "L 562.235784 73.362353 \n",
       "L 563.615118 67.012941 \n",
       "L 564.300655 63.924706 \n",
       "L 564.986192 62.368235 \n",
       "L 565.679989 59.947059 \n",
       "L 566.365526 56.562353 \n",
       "L 567.74486 62.64 \n",
       "L 568.430397 67.877647 \n",
       "L 569.115934 72.201176 \n",
       "L 569.809731 71.583529 \n",
       "L 571.180805 63.825882 \n",
       "L 571.874602 61.330588 \n",
       "L 572.560139 60.935294 \n",
       "L 573.939473 52.609412 \n",
       "L 574.62501 51.621176 \n",
       "L 575.310547 52.930588 \n",
       "L 576.689881 63.356471 \n",
       "L 577.375418 67.432941 \n",
       "L 578.069215 65.827059 \n",
       "L 578.754752 62.738824 \n",
       "L 579.440289 58.711765 \n",
       "L 580.134086 56.068235 \n",
       "L 580.819623 55.327059 \n",
       "L 581.50516 52.214118 \n",
       "L 582.198957 47.915294 \n",
       "L 582.884494 46.235294 \n",
       "L 583.570031 49.101176 \n",
       "L 584.263828 52.782353 \n",
       "L 584.949365 58.662353 \n",
       "L 585.634902 61.874118 \n",
       "L 586.328699 60.243529 \n",
       "L 587.699773 51.448235 \n",
       "L 588.39357 49.694118 \n",
       "L 589.079107 45.84 \n",
       "L 589.764644 43.987059 \n",
       "L 590.458441 37.612941 \n",
       "L 591.143978 36.945882 \n",
       "L 591.829515 39.144706 \n",
       "L 593.208849 50.410588 \n",
       "L 593.894386 53.424706 \n",
       "L 594.588183 52.090588 \n",
       "L 595.27372 47.248235 \n",
       "L 595.959257 45.024706 \n",
       "L 596.653054 40.775294 \n",
       "L 597.338591 40.058824 \n",
       "L 598.024128 38.181176 \n",
       "L 598.717925 33.684706 \n",
       "L 599.403462 32.078824 \n",
       "L 600.088999 34.08 \n",
       "L 602.15387 47.692941 \n",
       "L 602.847667 47.050588 \n",
       "L 604.912538 36.352941 \n",
       "L 605.598075 35.463529 \n",
       "L 606.283612 32.770588 \n",
       "L 606.977409 30.72 \n",
       "L 607.662946 28.249412 \n",
       "L 608.348483 29.361176 \n",
       "L 609.727817 38.749412 \n",
       "L 610.413354 42.405882 \n",
       "L 611.107151 41.195294 \n",
       "L 611.792688 36.204706 \n",
       "L 612.478225 33.610588 \n",
       "L 613.172022 29.262353 \n",
       "L 613.857559 26.989412 \n",
       "L 614.543096 26.445882 \n",
       "L 615.92243 19.8 \n",
       "L 616.607967 21.628235 \n",
       "L 617.987301 31.436471 \n",
       "L 617.987301 31.436471 \n",
       "\" clip-path=\"url(#p1a8bdf4f6a)\" style=\"fill: none; stroke: #1f77b4; stroke-width: 3; stroke-linecap: round\"/>\n",
       "   </g>\n",
       "   <g id=\"patch_3\">\n",
       "    <path d=\"M 85.350938 284.4 \n",
       "L 85.350938 7.2 \n",
       "\" style=\"fill: none; stroke: #cccccc; stroke-width: 2.5; stroke-linejoin: miter; stroke-linecap: square\"/>\n",
       "   </g>\n",
       "   <g id=\"patch_4\">\n",
       "    <path d=\"M 643.350937 284.4 \n",
       "L 643.350937 7.2 \n",
       "\" style=\"fill: none; stroke: #cccccc; stroke-width: 2.5; stroke-linejoin: miter; stroke-linecap: square\"/>\n",
       "   </g>\n",
       "   <g id=\"patch_5\">\n",
       "    <path d=\"M 85.350937 284.4 \n",
       "L 643.350937 284.4 \n",
       "\" style=\"fill: none; stroke: #cccccc; stroke-width: 2.5; stroke-linejoin: miter; stroke-linecap: square\"/>\n",
       "   </g>\n",
       "   <g id=\"patch_6\">\n",
       "    <path d=\"M 85.350937 7.2 \n",
       "L 643.350937 7.2 \n",
       "\" style=\"fill: none; stroke: #cccccc; stroke-width: 2.5; stroke-linejoin: miter; stroke-linecap: square\"/>\n",
       "   </g>\n",
       "  </g>\n",
       " </g>\n",
       " <defs>\n",
       "  <clipPath id=\"p1a8bdf4f6a\">\n",
       "   <rect x=\"85.350938\" y=\"7.2\" width=\"558\" height=\"277.2\"/>\n",
       "  </clipPath>\n",
       " </defs>\n",
       "</svg>\n"
      ],
      "text/plain": [
       "<Figure size 1000x500 with 1 Axes>"
      ]
     },
     "metadata": {},
     "output_type": "display_data"
    }
   ],
   "source": [
    "# Don't worry about understanding this code for now\n",
    "sns.lineplot(data=co2, x='DecDate', y='co2');"
   ]
  },
  {
   "cell_type": "markdown",
   "id": "f52e5de1",
   "metadata": {
    "slideshow": {
     "slide_type": "slide"
    }
   },
   "source": [
    "### Collecting data\n",
    "\n",
    "- If you can control how your dataset is created, you should opt for **finer granularity**, i.e. for more detail.\n",
    "- You can easily remove detail, but it's difficult to add detail if it is not already present in the dataset.\n",
    "- Tradeoff: obtaining fine-grained data can take more time/money."
   ]
  },
  {
   "cell_type": "markdown",
   "id": "6cce9b4d",
   "metadata": {
    "slideshow": {
     "slide_type": "slide"
    }
   },
   "source": [
    "### Manipulating granularity\n",
    "\n",
    "- We'll now explore how to change the level of granularity present in our dataset.\n",
    "    - While it may seem like we are \"losing information,\" removing detail can help us understand bigger-picture trends in our data."
   ]
  },
  {
   "cell_type": "markdown",
   "id": "860cdec9",
   "metadata": {
    "slideshow": {
     "slide_type": "slide"
    }
   },
   "source": [
    "### Example: Penguins\n",
    "\n",
    "<center><img src=\"imgs/lter_penguins.png\" width=60%>\n",
    "<i><a href=\"https://github.com/allisonhorst/palmerpenguins/blob/main/README.md\">Artwork by @allison_horst</a></i>\n",
    "\n",
    "</center>\n",
    "\n",
    "The dataset we'll work with for the rest of the lecture involves various measurements taken of three species of penguins in Antarctica."
   ]
  },
  {
   "cell_type": "code",
   "execution_count": 5,
   "id": "9961f647",
   "metadata": {
    "slideshow": {
     "slide_type": "slide"
    }
   },
   "outputs": [
    {
     "data": {
      "text/html": [
       "<div>\n",
       "<style scoped>\n",
       "    .dataframe tbody tr th:only-of-type {\n",
       "        vertical-align: middle;\n",
       "    }\n",
       "\n",
       "    .dataframe tbody tr th {\n",
       "        vertical-align: top;\n",
       "    }\n",
       "\n",
       "    .dataframe thead th {\n",
       "        text-align: right;\n",
       "    }\n",
       "</style>\n",
       "<table border=\"1\" class=\"dataframe\">\n",
       "  <thead>\n",
       "    <tr style=\"text-align: right;\">\n",
       "      <th></th>\n",
       "      <th>species</th>\n",
       "      <th>island</th>\n",
       "      <th>bill_length_mm</th>\n",
       "      <th>bill_depth_mm</th>\n",
       "      <th>flipper_length_mm</th>\n",
       "      <th>body_mass_g</th>\n",
       "      <th>sex</th>\n",
       "    </tr>\n",
       "  </thead>\n",
       "  <tbody>\n",
       "    <tr>\n",
       "      <th>0</th>\n",
       "      <td>Adelie</td>\n",
       "      <td>Torgersen</td>\n",
       "      <td>39.1</td>\n",
       "      <td>18.7</td>\n",
       "      <td>181.0</td>\n",
       "      <td>3750.0</td>\n",
       "      <td>Male</td>\n",
       "    </tr>\n",
       "    <tr>\n",
       "      <th>1</th>\n",
       "      <td>Adelie</td>\n",
       "      <td>Torgersen</td>\n",
       "      <td>39.5</td>\n",
       "      <td>17.4</td>\n",
       "      <td>186.0</td>\n",
       "      <td>3800.0</td>\n",
       "      <td>Female</td>\n",
       "    </tr>\n",
       "    <tr>\n",
       "      <th>2</th>\n",
       "      <td>Adelie</td>\n",
       "      <td>Torgersen</td>\n",
       "      <td>40.3</td>\n",
       "      <td>18.0</td>\n",
       "      <td>195.0</td>\n",
       "      <td>3250.0</td>\n",
       "      <td>Female</td>\n",
       "    </tr>\n",
       "    <tr>\n",
       "      <th>4</th>\n",
       "      <td>Adelie</td>\n",
       "      <td>Torgersen</td>\n",
       "      <td>36.7</td>\n",
       "      <td>19.3</td>\n",
       "      <td>193.0</td>\n",
       "      <td>3450.0</td>\n",
       "      <td>Female</td>\n",
       "    </tr>\n",
       "    <tr>\n",
       "      <th>...</th>\n",
       "      <td>...</td>\n",
       "      <td>...</td>\n",
       "      <td>...</td>\n",
       "      <td>...</td>\n",
       "      <td>...</td>\n",
       "      <td>...</td>\n",
       "      <td>...</td>\n",
       "    </tr>\n",
       "    <tr>\n",
       "      <th>340</th>\n",
       "      <td>Gentoo</td>\n",
       "      <td>Biscoe</td>\n",
       "      <td>46.8</td>\n",
       "      <td>14.3</td>\n",
       "      <td>215.0</td>\n",
       "      <td>4850.0</td>\n",
       "      <td>Female</td>\n",
       "    </tr>\n",
       "    <tr>\n",
       "      <th>341</th>\n",
       "      <td>Gentoo</td>\n",
       "      <td>Biscoe</td>\n",
       "      <td>50.4</td>\n",
       "      <td>15.7</td>\n",
       "      <td>222.0</td>\n",
       "      <td>5750.0</td>\n",
       "      <td>Male</td>\n",
       "    </tr>\n",
       "    <tr>\n",
       "      <th>342</th>\n",
       "      <td>Gentoo</td>\n",
       "      <td>Biscoe</td>\n",
       "      <td>45.2</td>\n",
       "      <td>14.8</td>\n",
       "      <td>212.0</td>\n",
       "      <td>5200.0</td>\n",
       "      <td>Female</td>\n",
       "    </tr>\n",
       "    <tr>\n",
       "      <th>343</th>\n",
       "      <td>Gentoo</td>\n",
       "      <td>Biscoe</td>\n",
       "      <td>49.9</td>\n",
       "      <td>16.1</td>\n",
       "      <td>213.0</td>\n",
       "      <td>5400.0</td>\n",
       "      <td>Male</td>\n",
       "    </tr>\n",
       "  </tbody>\n",
       "</table>\n",
       "<p>333 rows × 7 columns</p>\n",
       "</div>"
      ],
      "text/plain": [
       "    species     island  bill_length_mm  bill_depth_mm  flipper_length_mm  \\\n",
       "0    Adelie  Torgersen            39.1           18.7              181.0   \n",
       "1    Adelie  Torgersen            39.5           17.4              186.0   \n",
       "2    Adelie  Torgersen            40.3           18.0              195.0   \n",
       "4    Adelie  Torgersen            36.7           19.3              193.0   \n",
       "..      ...        ...             ...            ...                ...   \n",
       "340  Gentoo     Biscoe            46.8           14.3              215.0   \n",
       "341  Gentoo     Biscoe            50.4           15.7              222.0   \n",
       "342  Gentoo     Biscoe            45.2           14.8              212.0   \n",
       "343  Gentoo     Biscoe            49.9           16.1              213.0   \n",
       "\n",
       "     body_mass_g     sex  \n",
       "0         3750.0    Male  \n",
       "1         3800.0  Female  \n",
       "2         3250.0  Female  \n",
       "4         3450.0  Female  \n",
       "..           ...     ...  \n",
       "340       4850.0  Female  \n",
       "341       5750.0    Male  \n",
       "342       5200.0  Female  \n",
       "343       5400.0    Male  \n",
       "\n",
       "[333 rows x 7 columns]"
      ]
     },
     "execution_count": 5,
     "metadata": {},
     "output_type": "execute_result"
    }
   ],
   "source": [
    "import seaborn as sns\n",
    "penguins = sns.load_dataset('penguins').dropna()\n",
    "penguins"
   ]
  },
  {
   "cell_type": "code",
   "execution_count": 6,
   "id": "5a8faa1f",
   "metadata": {
    "slideshow": {
     "slide_type": "slide"
    }
   },
   "outputs": [
    {
     "data": {
      "text/plain": [
       "Adelie       146\n",
       "Gentoo       119\n",
       "Chinstrap     68\n",
       "Name: species, dtype: int64"
      ]
     },
     "execution_count": 6,
     "metadata": {},
     "output_type": "execute_result"
    }
   ],
   "source": [
    "# What is the distribution of different 'species' in this dataset?\n",
    "penguins['species'].value_counts()"
   ]
  },
  {
   "cell_type": "code",
   "execution_count": 7,
   "id": "45aba6dd",
   "metadata": {
    "slideshow": {
     "slide_type": "-"
    }
   },
   "outputs": [
    {
     "data": {
      "text/plain": [
       "Biscoe       163\n",
       "Dream        123\n",
       "Torgersen     47\n",
       "Name: island, dtype: int64"
      ]
     },
     "execution_count": 7,
     "metadata": {},
     "output_type": "execute_result"
    }
   ],
   "source": [
    "# Overall, what is the distribution of different islands?\n",
    "penguins['island'].value_counts()"
   ]
  },
  {
   "cell_type": "markdown",
   "id": "0b96b960",
   "metadata": {
    "slideshow": {
     "slide_type": "slide"
    }
   },
   "source": [
    "### Video: Palmer Penguins"
   ]
  },
  {
   "cell_type": "code",
   "execution_count": 8,
   "id": "cc1fbbaf",
   "metadata": {
    "slideshow": {
     "slide_type": ""
    }
   },
   "outputs": [
    {
     "data": {
      "text/html": [
       "\n",
       "        <iframe\n",
       "            width=\"560\"\n",
       "            height=\"315\"\n",
       "            src=\"https://www.youtube-nocookie.com/embed/CCrNAHXUstU?si=-DntSyUNp5Kwitjm&amp;start=11\"\n",
       "            frameborder=\"0\"\n",
       "            allowfullscreen\n",
       "            \n",
       "        ></iframe>\n",
       "        "
      ],
      "text/plain": [
       "<IPython.lib.display.IFrame at 0x7fb8f14bd8b0>"
      ]
     },
     "execution_count": 8,
     "metadata": {},
     "output_type": "execute_result"
    }
   ],
   "source": [
    "IFrame('https://www.youtube-nocookie.com/embed/CCrNAHXUstU?si=-DntSyUNp5Kwitjm&amp;start=11',\n",
    "       width=560, height=315)"
   ]
  },
  {
   "cell_type": "markdown",
   "id": "f5e419eb",
   "metadata": {
    "slideshow": {
     "slide_type": "slide"
    }
   },
   "source": [
    "### Aggregating: Basics\n",
    "\n",
    "We know how to find the mean body mass for all the penguins:"
   ]
  },
  {
   "cell_type": "code",
   "execution_count": 9,
   "id": "accb653d",
   "metadata": {},
   "outputs": [
    {
     "data": {
      "text/plain": [
       "4207.057057057057"
      ]
     },
     "execution_count": 9,
     "metadata": {},
     "output_type": "execute_result"
    }
   ],
   "source": [
    "penguins['body_mass_g'].mean()"
   ]
  },
  {
   "cell_type": "markdown",
   "id": "1aa359b8",
   "metadata": {
    "slideshow": {
     "slide_type": "slide"
    }
   },
   "source": [
    "### 💡 Pro-Tip: Using f-strings\n",
    "\n",
    "[Python f-strings](https://docs.python.org/3/tutorial/inputoutput.html#formatted-string-literals) give an easy way to print variables nicely:"
   ]
  },
  {
   "cell_type": "code",
   "execution_count": 10,
   "id": "b14efb49",
   "metadata": {},
   "outputs": [
    {
     "name": "stdout",
     "output_type": "stream",
     "text": [
      "Mean penguin mass: 4207.06 grams\n"
     ]
    }
   ],
   "source": [
    "mean_body_mass = penguins['body_mass_g'].mean()\n",
    "print(f'Mean penguin mass: {mean_body_mass:.2f} grams')"
   ]
  },
  {
   "cell_type": "markdown",
   "id": "416c5f13",
   "metadata": {
    "slideshow": {
     "slide_type": "slide"
    }
   },
   "source": [
    "### Aggregating: Basics\n",
    "\n",
    "But what about the mean for each type of penguin?"
   ]
  },
  {
   "cell_type": "code",
   "execution_count": 11,
   "id": "0b05bbe8",
   "metadata": {},
   "outputs": [
    {
     "data": {
      "text/plain": [
       "4207.057057057057"
      ]
     },
     "execution_count": 11,
     "metadata": {},
     "output_type": "execute_result"
    }
   ],
   "source": [
    "penguins['body_mass_g'].mean()"
   ]
  },
  {
   "cell_type": "markdown",
   "id": "60a2b631",
   "metadata": {
    "slideshow": {
     "slide_type": "slide"
    }
   },
   "source": [
    "### Naive approach: looping through unique values"
   ]
  },
  {
   "cell_type": "code",
   "execution_count": 12,
   "id": "50496266",
   "metadata": {},
   "outputs": [
    {
     "data": {
      "text/plain": [
       "Adelie       3706.16\n",
       "Chinstrap    3733.09\n",
       "Gentoo       5092.44\n",
       "dtype: float64"
      ]
     },
     "execution_count": 12,
     "metadata": {},
     "output_type": "execute_result"
    }
   ],
   "source": [
    "species_map = pd.Series([], dtype=float)\n",
    "\n",
    "for species in penguins['species'].unique():\n",
    "    species_only = penguins.loc[penguins['species'] == species]\n",
    "    species_map.loc[species] = species_only['body_mass_g'].mean()\n",
    "    \n",
    "species_map"
   ]
  },
  {
   "cell_type": "markdown",
   "id": "960159cd",
   "metadata": {
    "slideshow": {
     "slide_type": "fragment"
    }
   },
   "source": [
    "- For each unique `'species'`, we make a pass through the entire dataset.\n",
    "    - The asymptotic runtime of this procedure is $\\Theta(ns)$, where $n$ is the number of rows and $s$ is the number of unique species.\n",
    "\n",
    "- While there are other loop-based solutions that only involve a single pass over the DataFrame, we'd like to avoid Python loops entirely, as they're slow."
   ]
  },
  {
   "cell_type": "markdown",
   "id": "f5698fac",
   "metadata": {
    "slideshow": {
     "slide_type": "slide"
    }
   },
   "source": [
    "## Grouping"
   ]
  },
  {
   "cell_type": "code",
   "execution_count": 13,
   "id": "59a1739d",
   "metadata": {},
   "outputs": [
    {
     "data": {
      "text/plain": [
       "species\n",
       "Adelie       3706.16\n",
       "Chinstrap    3733.09\n",
       "Gentoo       5092.44\n",
       "Name: body_mass_g, dtype: float64"
      ]
     },
     "execution_count": 13,
     "metadata": {},
     "output_type": "execute_result"
    }
   ],
   "source": [
    "# Before:\n",
    "penguins['body_mass_g'].mean()\n",
    "\n",
    "# After:\n",
    "penguins.groupby('species')['body_mass_g'].mean()"
   ]
  },
  {
   "cell_type": "markdown",
   "id": "ad80eded",
   "metadata": {
    "slideshow": {
     "slide_type": "fragment"
    }
   },
   "source": [
    "Somehow, the `groupby` method computes what we're looking for in just one line. How?"
   ]
  },
  {
   "cell_type": "code",
   "execution_count": 14,
   "id": "41eec08b",
   "metadata": {
    "slideshow": {
     "slide_type": "slide"
    }
   },
   "outputs": [
    {
     "data": {
      "text/html": [
       "\n",
       "<div class=\"pt-viz\" id=\"pt-viz-0\"></div>\n",
       "<script>\n",
       "drawWsv('#pt-viz-0', \"{\\n  \\\"code\\\": \\\"\\\\npenguins.groupby('species')['body_mass_g'].mean()\\\\n\\\",\\n  \\\"explanation\\\": [\\n    {\\n      \\\"type\\\": \\\"GroupByCall\\\",\\n      \\\"code_step\\\": \\\"penguins.groupby('species')['body_mass_g'].mean()\\\",\\n      \\\"fragment\\\": {\\n        \\\"start\\\": {\\n          \\\"line\\\": 0,\\n          \\\"ch\\\": 8\\n        },\\n        \\\"end\\\": {\\n          \\\"line\\\": 0,\\n          \\\"ch\\\": 27\\n        }\\n      },\\n      \\\"marks\\\": [\\n        {\\n          \\\"type\\\": \\\"using\\\",\\n          \\\"pos\\\": {\\n            \\\"type\\\": \\\"axis\\\",\\n            \\\"anchor\\\": \\\"lhs\\\",\\n            \\\"select\\\": \\\"column\\\",\\n            \\\"label\\\": \\\"species\\\"\\n          }\\n        }\\n      ],\\n      \\\"data\\\": {\\n        \\\"lhs\\\": {\\n          \\\"type\\\": \\\"DataFrame\\\",\\n          \\\"columns\\\": {\\n            \\\"names\\\": [\\n              null\\n            ],\\n            \\\"labels\\\": [\\n              \\\"species\\\",\\n              \\\"island\\\",\\n              \\\"bill_length_mm\\\",\\n              \\\"bill_depth_mm\\\",\\n              \\\"flipper_length_mm\\\",\\n              \\\"body_mass_g\\\",\\n              \\\"sex\\\"\\n            ]\\n          },\\n          \\\"index\\\": {\\n            \\\"names\\\": [\\n              null\\n            ],\\n            \\\"labels\\\": [\\n              0,\\n              1,\\n              2,\\n              4,\\n              5,\\n              6,\\n              7,\\n              12,\\n              13,\\n              14,\\n              15,\\n              16,\\n              17,\\n              18,\\n              19,\\n              20,\\n              21,\\n              22,\\n              23,\\n              24,\\n              25,\\n              26,\\n              27,\\n              28,\\n              29,\\n              30,\\n              31,\\n              32,\\n              33,\\n              34,\\n              35,\\n              36,\\n              37,\\n              38,\\n              39,\\n              40,\\n              41,\\n              42,\\n              43,\\n              44,\\n              45,\\n              46,\\n              48,\\n              49,\\n              50,\\n              51,\\n              52,\\n              53,\\n              54,\\n              55,\\n              56,\\n              57,\\n              58,\\n              59,\\n              60,\\n              61,\\n              62,\\n              63,\\n              64,\\n              65,\\n              66,\\n              67,\\n              68,\\n              69,\\n              70,\\n              71,\\n              72,\\n              73,\\n              74,\\n              75,\\n              76,\\n              77,\\n              78,\\n              79,\\n              80,\\n              81,\\n              82,\\n              83,\\n              84,\\n              85,\\n              86,\\n              87,\\n              88,\\n              89,\\n              90,\\n              91,\\n              92,\\n              93,\\n              94,\\n              95,\\n              96,\\n              97,\\n              98,\\n              99,\\n              100,\\n              101,\\n              102,\\n              103,\\n              104,\\n              105,\\n              106,\\n              107,\\n              108,\\n              109,\\n              110,\\n              111,\\n              112,\\n              113,\\n              114,\\n              115,\\n              116,\\n              117,\\n              118,\\n              119,\\n              120,\\n              121,\\n              122,\\n              123,\\n              124,\\n              125,\\n              126,\\n              127,\\n              128,\\n              129,\\n              130,\\n              131,\\n              132,\\n              133,\\n              134,\\n              135,\\n              136,\\n              137,\\n              138,\\n              139,\\n              140,\\n              141,\\n              142,\\n              143,\\n              144,\\n              145,\\n              146,\\n              147,\\n              148,\\n              149,\\n              150,\\n              151,\\n              152,\\n              153,\\n              154,\\n              155,\\n              156,\\n              157,\\n              158,\\n              159,\\n              160,\\n              161,\\n              162,\\n              163,\\n              164,\\n              165,\\n              166,\\n              167,\\n              168,\\n              169,\\n              170,\\n              171,\\n              172,\\n              173,\\n              174,\\n              175,\\n              176,\\n              177,\\n              178,\\n              179,\\n              180,\\n              181,\\n              182,\\n              183,\\n              184,\\n              185,\\n              186,\\n              187,\\n              188,\\n              189,\\n              190,\\n              191,\\n              192,\\n              193,\\n              194,\\n              195,\\n              196,\\n              197,\\n              198,\\n              199,\\n              200,\\n              201,\\n              202,\\n              203,\\n              204,\\n              205,\\n              206,\\n              207,\\n              208,\\n              209,\\n              210,\\n              211,\\n              212,\\n              213,\\n              214,\\n              215,\\n              216,\\n              217,\\n              218,\\n              219,\\n              220,\\n              221,\\n              222,\\n              223,\\n              224,\\n              225,\\n              226,\\n              227,\\n              228,\\n              229,\\n              230,\\n              231,\\n              232,\\n              233,\\n              234,\\n              235,\\n              236,\\n              237,\\n              238,\\n              239,\\n              240,\\n              241,\\n              242,\\n              243,\\n              244,\\n              245,\\n              247,\\n              248,\\n              249,\\n              250,\\n              251,\\n              252,\\n              253,\\n              254,\\n              255,\\n              256,\\n              257,\\n              258,\\n              259,\\n              260,\\n              261,\\n              262,\\n              263,\\n              264,\\n              265,\\n              266,\\n              267,\\n              268,\\n              269,\\n              270,\\n              271,\\n              272,\\n              273,\\n              274,\\n              275,\\n              276,\\n              277,\\n              278,\\n              279,\\n              280,\\n              281,\\n              282,\\n              283,\\n              284,\\n              285,\\n              287,\\n              288,\\n              289,\\n              290,\\n              291,\\n              292,\\n              293,\\n              294,\\n              295,\\n              296,\\n              297,\\n              298,\\n              299,\\n              300,\\n              301,\\n              302,\\n              303,\\n              304,\\n              305,\\n              306,\\n              307,\\n              308,\\n              309,\\n              310,\\n              311,\\n              312,\\n              313,\\n              314,\\n              315,\\n              316,\\n              317,\\n              318,\\n              319,\\n              320,\\n              321,\\n              322,\\n              323,\\n              325,\\n              326,\\n              327,\\n              328,\\n              329,\\n              330,\\n              331,\\n              332,\\n              333,\\n              334,\\n              335,\\n              337,\\n              338,\\n              340,\\n              341,\\n              342,\\n              343\\n            ]\\n          },\\n          \\\"data\\\": [\\n            [\\n              \\\"Adelie\\\",\\n              \\\"Torgersen\\\",\\n              39.1,\\n              18.7,\\n              181.0,\\n              3750.0,\\n              \\\"Male\\\"\\n            ],\\n            [\\n              \\\"Adelie\\\",\\n              \\\"Torgersen\\\",\\n              39.5,\\n              17.4,\\n              186.0,\\n              3800.0,\\n              \\\"Female\\\"\\n            ],\\n            [\\n              \\\"Adelie\\\",\\n              \\\"Torgersen\\\",\\n              40.3,\\n              18.0,\\n              195.0,\\n              3250.0,\\n              \\\"Female\\\"\\n            ],\\n            [\\n              \\\"Adelie\\\",\\n              \\\"Torgersen\\\",\\n              36.7,\\n              19.3,\\n              193.0,\\n              3450.0,\\n              \\\"Female\\\"\\n            ],\\n            [\\n              \\\"Adelie\\\",\\n              \\\"Torgersen\\\",\\n              39.3,\\n              20.6,\\n              190.0,\\n              3650.0,\\n              \\\"Male\\\"\\n            ],\\n            [\\n              \\\"Adelie\\\",\\n              \\\"Torgersen\\\",\\n              38.9,\\n              17.8,\\n              181.0,\\n              3625.0,\\n              \\\"Female\\\"\\n            ],\\n            [\\n              \\\"Adelie\\\",\\n              \\\"Torgersen\\\",\\n              39.2,\\n              19.6,\\n              195.0,\\n              4675.0,\\n              \\\"Male\\\"\\n            ],\\n            [\\n              \\\"Adelie\\\",\\n              \\\"Torgersen\\\",\\n              41.1,\\n              17.6,\\n              182.0,\\n              3200.0,\\n              \\\"Female\\\"\\n            ],\\n            [\\n              \\\"Adelie\\\",\\n              \\\"Torgersen\\\",\\n              38.6,\\n              21.2,\\n              191.0,\\n              3800.0,\\n              \\\"Male\\\"\\n            ],\\n            [\\n              \\\"Adelie\\\",\\n              \\\"Torgersen\\\",\\n              34.6,\\n              21.1,\\n              198.0,\\n              4400.0,\\n              \\\"Male\\\"\\n            ],\\n            [\\n              \\\"Adelie\\\",\\n              \\\"Torgersen\\\",\\n              36.6,\\n              17.8,\\n              185.0,\\n              3700.0,\\n              \\\"Female\\\"\\n            ],\\n            [\\n              \\\"Adelie\\\",\\n              \\\"Torgersen\\\",\\n              38.7,\\n              19.0,\\n              195.0,\\n              3450.0,\\n              \\\"Female\\\"\\n            ],\\n            [\\n              \\\"Adelie\\\",\\n              \\\"Torgersen\\\",\\n              42.5,\\n              20.7,\\n              197.0,\\n              4500.0,\\n              \\\"Male\\\"\\n            ],\\n            [\\n              \\\"Adelie\\\",\\n              \\\"Torgersen\\\",\\n              34.4,\\n              18.4,\\n              184.0,\\n              3325.0,\\n              \\\"Female\\\"\\n            ],\\n            [\\n              \\\"Adelie\\\",\\n              \\\"Torgersen\\\",\\n              46.0,\\n              21.5,\\n              194.0,\\n              4200.0,\\n              \\\"Male\\\"\\n            ],\\n            [\\n              \\\"Adelie\\\",\\n              \\\"Biscoe\\\",\\n              37.8,\\n              18.3,\\n              174.0,\\n              3400.0,\\n              \\\"Female\\\"\\n            ],\\n            [\\n              \\\"Adelie\\\",\\n              \\\"Biscoe\\\",\\n              37.7,\\n              18.7,\\n              180.0,\\n              3600.0,\\n              \\\"Male\\\"\\n            ],\\n            [\\n              \\\"Adelie\\\",\\n              \\\"Biscoe\\\",\\n              35.9,\\n              19.2,\\n              189.0,\\n              3800.0,\\n              \\\"Female\\\"\\n            ],\\n            [\\n              \\\"Adelie\\\",\\n              \\\"Biscoe\\\",\\n              38.2,\\n              18.1,\\n              185.0,\\n              3950.0,\\n              \\\"Male\\\"\\n            ],\\n            [\\n              \\\"Adelie\\\",\\n              \\\"Biscoe\\\",\\n              38.8,\\n              17.2,\\n              180.0,\\n              3800.0,\\n              \\\"Male\\\"\\n            ],\\n            [\\n              \\\"Adelie\\\",\\n              \\\"Biscoe\\\",\\n              35.3,\\n              18.9,\\n              187.0,\\n              3800.0,\\n              \\\"Female\\\"\\n            ],\\n            [\\n              \\\"Adelie\\\",\\n              \\\"Biscoe\\\",\\n              40.6,\\n              18.6,\\n              183.0,\\n              3550.0,\\n              \\\"Male\\\"\\n            ],\\n            [\\n              \\\"Adelie\\\",\\n              \\\"Biscoe\\\",\\n              40.5,\\n              17.9,\\n              187.0,\\n              3200.0,\\n              \\\"Female\\\"\\n            ],\\n            [\\n              \\\"Adelie\\\",\\n              \\\"Biscoe\\\",\\n              37.9,\\n              18.6,\\n              172.0,\\n              3150.0,\\n              \\\"Female\\\"\\n            ],\\n            [\\n              \\\"Adelie\\\",\\n              \\\"Biscoe\\\",\\n              40.5,\\n              18.9,\\n              180.0,\\n              3950.0,\\n              \\\"Male\\\"\\n            ],\\n            [\\n              \\\"Adelie\\\",\\n              \\\"Dream\\\",\\n              39.5,\\n              16.7,\\n              178.0,\\n              3250.0,\\n              \\\"Female\\\"\\n            ],\\n            [\\n              \\\"Adelie\\\",\\n              \\\"Dream\\\",\\n              37.2,\\n              18.1,\\n              178.0,\\n              3900.0,\\n              \\\"Male\\\"\\n            ],\\n            [\\n              \\\"Adelie\\\",\\n              \\\"Dream\\\",\\n              39.5,\\n              17.8,\\n              188.0,\\n              3300.0,\\n              \\\"Female\\\"\\n            ],\\n            [\\n              \\\"Adelie\\\",\\n              \\\"Dream\\\",\\n              40.9,\\n              18.9,\\n              184.0,\\n              3900.0,\\n              \\\"Male\\\"\\n            ],\\n            [\\n              \\\"Adelie\\\",\\n              \\\"Dream\\\",\\n              36.4,\\n              17.0,\\n              195.0,\\n              3325.0,\\n              \\\"Female\\\"\\n            ],\\n            [\\n              \\\"Adelie\\\",\\n              \\\"Dream\\\",\\n              39.2,\\n              21.1,\\n              196.0,\\n              4150.0,\\n              \\\"Male\\\"\\n            ],\\n            [\\n              \\\"Adelie\\\",\\n              \\\"Dream\\\",\\n              38.8,\\n              20.0,\\n              190.0,\\n              3950.0,\\n              \\\"Male\\\"\\n            ],\\n            [\\n              \\\"Adelie\\\",\\n              \\\"Dream\\\",\\n              42.2,\\n              18.5,\\n              180.0,\\n              3550.0,\\n              \\\"Female\\\"\\n            ],\\n            [\\n              \\\"Adelie\\\",\\n              \\\"Dream\\\",\\n              37.6,\\n              19.3,\\n              181.0,\\n              3300.0,\\n              \\\"Female\\\"\\n            ],\\n            [\\n              \\\"Adelie\\\",\\n              \\\"Dream\\\",\\n              39.8,\\n              19.1,\\n              184.0,\\n              4650.0,\\n              \\\"Male\\\"\\n            ],\\n            [\\n              \\\"Adelie\\\",\\n              \\\"Dream\\\",\\n              36.5,\\n              18.0,\\n              182.0,\\n              3150.0,\\n              \\\"Female\\\"\\n            ],\\n            [\\n              \\\"Adelie\\\",\\n              \\\"Dream\\\",\\n              40.8,\\n              18.4,\\n              195.0,\\n              3900.0,\\n              \\\"Male\\\"\\n            ],\\n            [\\n              \\\"Adelie\\\",\\n              \\\"Dream\\\",\\n              36.0,\\n              18.5,\\n              186.0,\\n              3100.0,\\n              \\\"Female\\\"\\n            ],\\n            [\\n              \\\"Adelie\\\",\\n              \\\"Dream\\\",\\n              44.1,\\n              19.7,\\n              196.0,\\n              4400.0,\\n              \\\"Male\\\"\\n            ],\\n            [\\n              \\\"Adelie\\\",\\n              \\\"Dream\\\",\\n              37.0,\\n              16.9,\\n              185.0,\\n              3000.0,\\n              \\\"Female\\\"\\n            ],\\n            [\\n              \\\"Adelie\\\",\\n              \\\"Dream\\\",\\n              39.6,\\n              18.8,\\n              190.0,\\n              4600.0,\\n              \\\"Male\\\"\\n            ],\\n            [\\n              \\\"Adelie\\\",\\n              \\\"Dream\\\",\\n              41.1,\\n              19.0,\\n              182.0,\\n              3425.0,\\n              \\\"Male\\\"\\n            ],\\n            [\\n              \\\"Adelie\\\",\\n              \\\"Dream\\\",\\n              36.0,\\n              17.9,\\n              190.0,\\n              3450.0,\\n              \\\"Female\\\"\\n            ],\\n            [\\n              \\\"Adelie\\\",\\n              \\\"Dream\\\",\\n              42.3,\\n              21.2,\\n              191.0,\\n              4150.0,\\n              \\\"Male\\\"\\n            ],\\n            [\\n              \\\"Adelie\\\",\\n              \\\"Biscoe\\\",\\n              39.6,\\n              17.7,\\n              186.0,\\n              3500.0,\\n              \\\"Female\\\"\\n            ],\\n            [\\n              \\\"Adelie\\\",\\n              \\\"Biscoe\\\",\\n              40.1,\\n              18.9,\\n              188.0,\\n              4300.0,\\n              \\\"Male\\\"\\n            ],\\n            [\\n              \\\"Adelie\\\",\\n              \\\"Biscoe\\\",\\n              35.0,\\n              17.9,\\n              190.0,\\n              3450.0,\\n              \\\"Female\\\"\\n            ],\\n            [\\n              \\\"Adelie\\\",\\n              \\\"Biscoe\\\",\\n              42.0,\\n              19.5,\\n              200.0,\\n              4050.0,\\n              \\\"Male\\\"\\n            ],\\n            [\\n              \\\"Adelie\\\",\\n              \\\"Biscoe\\\",\\n              34.5,\\n              18.1,\\n              187.0,\\n              2900.0,\\n              \\\"Female\\\"\\n            ],\\n            [\\n              \\\"Adelie\\\",\\n              \\\"Biscoe\\\",\\n              41.4,\\n              18.6,\\n              191.0,\\n              3700.0,\\n              \\\"Male\\\"\\n            ],\\n            [\\n              \\\"Adelie\\\",\\n              \\\"Biscoe\\\",\\n              39.0,\\n              17.5,\\n              186.0,\\n              3550.0,\\n              \\\"Female\\\"\\n            ],\\n            [\\n              \\\"Adelie\\\",\\n              \\\"Biscoe\\\",\\n              40.6,\\n              18.8,\\n              193.0,\\n              3800.0,\\n              \\\"Male\\\"\\n            ],\\n            [\\n              \\\"Adelie\\\",\\n              \\\"Biscoe\\\",\\n              36.5,\\n              16.6,\\n              181.0,\\n              2850.0,\\n              \\\"Female\\\"\\n            ],\\n            [\\n              \\\"Adelie\\\",\\n              \\\"Biscoe\\\",\\n              37.6,\\n              19.1,\\n              194.0,\\n              3750.0,\\n              \\\"Male\\\"\\n            ],\\n            [\\n              \\\"Adelie\\\",\\n              \\\"Biscoe\\\",\\n              35.7,\\n              16.9,\\n              185.0,\\n              3150.0,\\n              \\\"Female\\\"\\n            ],\\n            [\\n              \\\"Adelie\\\",\\n              \\\"Biscoe\\\",\\n              41.3,\\n              21.1,\\n              195.0,\\n              4400.0,\\n              \\\"Male\\\"\\n            ],\\n            [\\n              \\\"Adelie\\\",\\n              \\\"Biscoe\\\",\\n              37.6,\\n              17.0,\\n              185.0,\\n              3600.0,\\n              \\\"Female\\\"\\n            ],\\n            [\\n              \\\"Adelie\\\",\\n              \\\"Biscoe\\\",\\n              41.1,\\n              18.2,\\n              192.0,\\n              4050.0,\\n              \\\"Male\\\"\\n            ],\\n            [\\n              \\\"Adelie\\\",\\n              \\\"Biscoe\\\",\\n              36.4,\\n              17.1,\\n              184.0,\\n              2850.0,\\n              \\\"Female\\\"\\n            ],\\n            [\\n              \\\"Adelie\\\",\\n              \\\"Biscoe\\\",\\n              41.6,\\n              18.0,\\n              192.0,\\n              3950.0,\\n              \\\"Male\\\"\\n            ],\\n            [\\n              \\\"Adelie\\\",\\n              \\\"Biscoe\\\",\\n              35.5,\\n              16.2,\\n              195.0,\\n              3350.0,\\n              \\\"Female\\\"\\n            ],\\n            [\\n              \\\"Adelie\\\",\\n              \\\"Biscoe\\\",\\n              41.1,\\n              19.1,\\n              188.0,\\n              4100.0,\\n              \\\"Male\\\"\\n            ],\\n            [\\n              \\\"Adelie\\\",\\n              \\\"Torgersen\\\",\\n              35.9,\\n              16.6,\\n              190.0,\\n              3050.0,\\n              \\\"Female\\\"\\n            ],\\n            [\\n              \\\"Adelie\\\",\\n              \\\"Torgersen\\\",\\n              41.8,\\n              19.4,\\n              198.0,\\n              4450.0,\\n              \\\"Male\\\"\\n            ],\\n            [\\n              \\\"Adelie\\\",\\n              \\\"Torgersen\\\",\\n              33.5,\\n              19.0,\\n              190.0,\\n              3600.0,\\n              \\\"Female\\\"\\n            ],\\n            [\\n              \\\"Adelie\\\",\\n              \\\"Torgersen\\\",\\n              39.7,\\n              18.4,\\n              190.0,\\n              3900.0,\\n              \\\"Male\\\"\\n            ],\\n            [\\n              \\\"Adelie\\\",\\n              \\\"Torgersen\\\",\\n              39.6,\\n              17.2,\\n              196.0,\\n              3550.0,\\n              \\\"Female\\\"\\n            ],\\n            [\\n              \\\"Adelie\\\",\\n              \\\"Torgersen\\\",\\n              45.8,\\n              18.9,\\n              197.0,\\n              4150.0,\\n              \\\"Male\\\"\\n            ],\\n            [\\n              \\\"Adelie\\\",\\n              \\\"Torgersen\\\",\\n              35.5,\\n              17.5,\\n              190.0,\\n              3700.0,\\n              \\\"Female\\\"\\n            ],\\n            [\\n              \\\"Adelie\\\",\\n              \\\"Torgersen\\\",\\n              42.8,\\n              18.5,\\n              195.0,\\n              4250.0,\\n              \\\"Male\\\"\\n            ],\\n            [\\n              \\\"Adelie\\\",\\n              \\\"Torgersen\\\",\\n              40.9,\\n              16.8,\\n              191.0,\\n              3700.0,\\n              \\\"Female\\\"\\n            ],\\n            [\\n              \\\"Adelie\\\",\\n              \\\"Torgersen\\\",\\n              37.2,\\n              19.4,\\n              184.0,\\n              3900.0,\\n              \\\"Male\\\"\\n            ],\\n            [\\n              \\\"Adelie\\\",\\n              \\\"Torgersen\\\",\\n              36.2,\\n              16.1,\\n              187.0,\\n              3550.0,\\n              \\\"Female\\\"\\n            ],\\n            [\\n              \\\"Adelie\\\",\\n              \\\"Torgersen\\\",\\n              42.1,\\n              19.1,\\n              195.0,\\n              4000.0,\\n              \\\"Male\\\"\\n            ],\\n            [\\n              \\\"Adelie\\\",\\n              \\\"Torgersen\\\",\\n              34.6,\\n              17.2,\\n              189.0,\\n              3200.0,\\n              \\\"Female\\\"\\n            ],\\n            [\\n              \\\"Adelie\\\",\\n              \\\"Torgersen\\\",\\n              42.9,\\n              17.6,\\n              196.0,\\n              4700.0,\\n              \\\"Male\\\"\\n            ],\\n            [\\n              \\\"Adelie\\\",\\n              \\\"Torgersen\\\",\\n              36.7,\\n              18.8,\\n              187.0,\\n              3800.0,\\n              \\\"Female\\\"\\n            ],\\n            [\\n              \\\"Adelie\\\",\\n              \\\"Torgersen\\\",\\n              35.1,\\n              19.4,\\n              193.0,\\n              4200.0,\\n              \\\"Male\\\"\\n            ],\\n            [\\n              \\\"Adelie\\\",\\n              \\\"Dream\\\",\\n              37.3,\\n              17.8,\\n              191.0,\\n              3350.0,\\n              \\\"Female\\\"\\n            ],\\n            [\\n              \\\"Adelie\\\",\\n              \\\"Dream\\\",\\n              41.3,\\n              20.3,\\n              194.0,\\n              3550.0,\\n              \\\"Male\\\"\\n            ],\\n            [\\n              \\\"Adelie\\\",\\n              \\\"Dream\\\",\\n              36.3,\\n              19.5,\\n              190.0,\\n              3800.0,\\n              \\\"Male\\\"\\n            ],\\n            [\\n              \\\"Adelie\\\",\\n              \\\"Dream\\\",\\n              36.9,\\n              18.6,\\n              189.0,\\n              3500.0,\\n              \\\"Female\\\"\\n            ],\\n            [\\n              \\\"Adelie\\\",\\n              \\\"Dream\\\",\\n              38.3,\\n              19.2,\\n              189.0,\\n              3950.0,\\n              \\\"Male\\\"\\n            ],\\n            [\\n              \\\"Adelie\\\",\\n              \\\"Dream\\\",\\n              38.9,\\n              18.8,\\n              190.0,\\n              3600.0,\\n              \\\"Female\\\"\\n            ],\\n            [\\n              \\\"Adelie\\\",\\n              \\\"Dream\\\",\\n              35.7,\\n              18.0,\\n              202.0,\\n              3550.0,\\n              \\\"Female\\\"\\n            ],\\n            [\\n              \\\"Adelie\\\",\\n              \\\"Dream\\\",\\n              41.1,\\n              18.1,\\n              205.0,\\n              4300.0,\\n              \\\"Male\\\"\\n            ],\\n            [\\n              \\\"Adelie\\\",\\n              \\\"Dream\\\",\\n              34.0,\\n              17.1,\\n              185.0,\\n              3400.0,\\n              \\\"Female\\\"\\n            ],\\n            [\\n              \\\"Adelie\\\",\\n              \\\"Dream\\\",\\n              39.6,\\n              18.1,\\n              186.0,\\n              4450.0,\\n              \\\"Male\\\"\\n            ],\\n            [\\n              \\\"Adelie\\\",\\n              \\\"Dream\\\",\\n              36.2,\\n              17.3,\\n              187.0,\\n              3300.0,\\n              \\\"Female\\\"\\n            ],\\n            [\\n              \\\"Adelie\\\",\\n              \\\"Dream\\\",\\n              40.8,\\n              18.9,\\n              208.0,\\n              4300.0,\\n              \\\"Male\\\"\\n            ],\\n            [\\n              \\\"Adelie\\\",\\n              \\\"Dream\\\",\\n              38.1,\\n              18.6,\\n              190.0,\\n              3700.0,\\n              \\\"Female\\\"\\n            ],\\n            [\\n              \\\"Adelie\\\",\\n              \\\"Dream\\\",\\n              40.3,\\n              18.5,\\n              196.0,\\n              4350.0,\\n              \\\"Male\\\"\\n            ],\\n            [\\n              \\\"Adelie\\\",\\n              \\\"Dream\\\",\\n              33.1,\\n              16.1,\\n              178.0,\\n              2900.0,\\n              \\\"Female\\\"\\n            ],\\n            [\\n              \\\"Adelie\\\",\\n              \\\"Dream\\\",\\n              43.2,\\n              18.5,\\n              192.0,\\n              4100.0,\\n              \\\"Male\\\"\\n            ],\\n            [\\n              \\\"Adelie\\\",\\n              \\\"Biscoe\\\",\\n              35.0,\\n              17.9,\\n              192.0,\\n              3725.0,\\n              \\\"Female\\\"\\n            ],\\n            [\\n              \\\"Adelie\\\",\\n              \\\"Biscoe\\\",\\n              41.0,\\n              20.0,\\n              203.0,\\n              4725.0,\\n              \\\"Male\\\"\\n            ],\\n            [\\n              \\\"Adelie\\\",\\n              \\\"Biscoe\\\",\\n              37.7,\\n              16.0,\\n              183.0,\\n              3075.0,\\n              \\\"Female\\\"\\n            ],\\n            [\\n              \\\"Adelie\\\",\\n              \\\"Biscoe\\\",\\n              37.8,\\n              20.0,\\n              190.0,\\n              4250.0,\\n              \\\"Male\\\"\\n            ],\\n            [\\n              \\\"Adelie\\\",\\n              \\\"Biscoe\\\",\\n              37.9,\\n              18.6,\\n              193.0,\\n              2925.0,\\n              \\\"Female\\\"\\n            ],\\n            [\\n              \\\"Adelie\\\",\\n              \\\"Biscoe\\\",\\n              39.7,\\n              18.9,\\n              184.0,\\n              3550.0,\\n              \\\"Male\\\"\\n            ],\\n            [\\n              \\\"Adelie\\\",\\n              \\\"Biscoe\\\",\\n              38.6,\\n              17.2,\\n              199.0,\\n              3750.0,\\n              \\\"Female\\\"\\n            ],\\n            [\\n              \\\"Adelie\\\",\\n              \\\"Biscoe\\\",\\n              38.2,\\n              20.0,\\n              190.0,\\n              3900.0,\\n              \\\"Male\\\"\\n            ],\\n            [\\n              \\\"Adelie\\\",\\n              \\\"Biscoe\\\",\\n              38.1,\\n              17.0,\\n              181.0,\\n              3175.0,\\n              \\\"Female\\\"\\n            ],\\n            [\\n              \\\"Adelie\\\",\\n              \\\"Biscoe\\\",\\n              43.2,\\n              19.0,\\n              197.0,\\n              4775.0,\\n              \\\"Male\\\"\\n            ],\\n            [\\n              \\\"Adelie\\\",\\n              \\\"Biscoe\\\",\\n              38.1,\\n              16.5,\\n              198.0,\\n              3825.0,\\n              \\\"Female\\\"\\n            ],\\n            [\\n              \\\"Adelie\\\",\\n              \\\"Biscoe\\\",\\n              45.6,\\n              20.3,\\n              191.0,\\n              4600.0,\\n              \\\"Male\\\"\\n            ],\\n            [\\n              \\\"Adelie\\\",\\n              \\\"Biscoe\\\",\\n              39.7,\\n              17.7,\\n              193.0,\\n              3200.0,\\n              \\\"Female\\\"\\n            ],\\n            [\\n              \\\"Adelie\\\",\\n              \\\"Biscoe\\\",\\n              42.2,\\n              19.5,\\n              197.0,\\n              4275.0,\\n              \\\"Male\\\"\\n            ],\\n            [\\n              \\\"Adelie\\\",\\n              \\\"Biscoe\\\",\\n              39.6,\\n              20.7,\\n              191.0,\\n              3900.0,\\n              \\\"Female\\\"\\n            ],\\n            [\\n              \\\"Adelie\\\",\\n              \\\"Biscoe\\\",\\n              42.7,\\n              18.3,\\n              196.0,\\n              4075.0,\\n              \\\"Male\\\"\\n            ],\\n            [\\n              \\\"Adelie\\\",\\n              \\\"Torgersen\\\",\\n              38.6,\\n              17.0,\\n              188.0,\\n              2900.0,\\n              \\\"Female\\\"\\n            ],\\n            [\\n              \\\"Adelie\\\",\\n              \\\"Torgersen\\\",\\n              37.3,\\n              20.5,\\n              199.0,\\n              3775.0,\\n              \\\"Male\\\"\\n            ],\\n            [\\n              \\\"Adelie\\\",\\n              \\\"Torgersen\\\",\\n              35.7,\\n              17.0,\\n              189.0,\\n              3350.0,\\n              \\\"Female\\\"\\n            ],\\n            [\\n              \\\"Adelie\\\",\\n              \\\"Torgersen\\\",\\n              41.1,\\n              18.6,\\n              189.0,\\n              3325.0,\\n              \\\"Male\\\"\\n            ],\\n            [\\n              \\\"Adelie\\\",\\n              \\\"Torgersen\\\",\\n              36.2,\\n              17.2,\\n              187.0,\\n              3150.0,\\n              \\\"Female\\\"\\n            ],\\n            [\\n              \\\"Adelie\\\",\\n              \\\"Torgersen\\\",\\n              37.7,\\n              19.8,\\n              198.0,\\n              3500.0,\\n              \\\"Male\\\"\\n            ],\\n            [\\n              \\\"Adelie\\\",\\n              \\\"Torgersen\\\",\\n              40.2,\\n              17.0,\\n              176.0,\\n              3450.0,\\n              \\\"Female\\\"\\n            ],\\n            [\\n              \\\"Adelie\\\",\\n              \\\"Torgersen\\\",\\n              41.4,\\n              18.5,\\n              202.0,\\n              3875.0,\\n              \\\"Male\\\"\\n            ],\\n            [\\n              \\\"Adelie\\\",\\n              \\\"Torgersen\\\",\\n              35.2,\\n              15.9,\\n              186.0,\\n              3050.0,\\n              \\\"Female\\\"\\n            ],\\n            [\\n              \\\"Adelie\\\",\\n              \\\"Torgersen\\\",\\n              40.6,\\n              19.0,\\n              199.0,\\n              4000.0,\\n              \\\"Male\\\"\\n            ],\\n            [\\n              \\\"Adelie\\\",\\n              \\\"Torgersen\\\",\\n              38.8,\\n              17.6,\\n              191.0,\\n              3275.0,\\n              \\\"Female\\\"\\n            ],\\n            [\\n              \\\"Adelie\\\",\\n              \\\"Torgersen\\\",\\n              41.5,\\n              18.3,\\n              195.0,\\n              4300.0,\\n              \\\"Male\\\"\\n            ],\\n            [\\n              \\\"Adelie\\\",\\n              \\\"Torgersen\\\",\\n              39.0,\\n              17.1,\\n              191.0,\\n              3050.0,\\n              \\\"Female\\\"\\n            ],\\n            [\\n              \\\"Adelie\\\",\\n              \\\"Torgersen\\\",\\n              44.1,\\n              18.0,\\n              210.0,\\n              4000.0,\\n              \\\"Male\\\"\\n            ],\\n            [\\n              \\\"Adelie\\\",\\n              \\\"Torgersen\\\",\\n              38.5,\\n              17.9,\\n              190.0,\\n              3325.0,\\n              \\\"Female\\\"\\n            ],\\n            [\\n              \\\"Adelie\\\",\\n              \\\"Torgersen\\\",\\n              43.1,\\n              19.2,\\n              197.0,\\n              3500.0,\\n              \\\"Male\\\"\\n            ],\\n            [\\n              \\\"Adelie\\\",\\n              \\\"Dream\\\",\\n              36.8,\\n              18.5,\\n              193.0,\\n              3500.0,\\n              \\\"Female\\\"\\n            ],\\n            [\\n              \\\"Adelie\\\",\\n              \\\"Dream\\\",\\n              37.5,\\n              18.5,\\n              199.0,\\n              4475.0,\\n              \\\"Male\\\"\\n            ],\\n            [\\n              \\\"Adelie\\\",\\n              \\\"Dream\\\",\\n              38.1,\\n              17.6,\\n              187.0,\\n              3425.0,\\n              \\\"Female\\\"\\n            ],\\n            [\\n              \\\"Adelie\\\",\\n              \\\"Dream\\\",\\n              41.1,\\n              17.5,\\n              190.0,\\n              3900.0,\\n              \\\"Male\\\"\\n            ],\\n            [\\n              \\\"Adelie\\\",\\n              \\\"Dream\\\",\\n              35.6,\\n              17.5,\\n              191.0,\\n              3175.0,\\n              \\\"Female\\\"\\n            ],\\n            [\\n              \\\"Adelie\\\",\\n              \\\"Dream\\\",\\n              40.2,\\n              20.1,\\n              200.0,\\n              3975.0,\\n              \\\"Male\\\"\\n            ],\\n            [\\n              \\\"Adelie\\\",\\n              \\\"Dream\\\",\\n              37.0,\\n              16.5,\\n              185.0,\\n              3400.0,\\n              \\\"Female\\\"\\n            ],\\n            [\\n              \\\"Adelie\\\",\\n              \\\"Dream\\\",\\n              39.7,\\n              17.9,\\n              193.0,\\n              4250.0,\\n              \\\"Male\\\"\\n            ],\\n            [\\n              \\\"Adelie\\\",\\n              \\\"Dream\\\",\\n              40.2,\\n              17.1,\\n              193.0,\\n              3400.0,\\n              \\\"Female\\\"\\n            ],\\n            [\\n              \\\"Adelie\\\",\\n              \\\"Dream\\\",\\n              40.6,\\n              17.2,\\n              187.0,\\n              3475.0,\\n              \\\"Male\\\"\\n            ],\\n            [\\n              \\\"Adelie\\\",\\n              \\\"Dream\\\",\\n              32.1,\\n              15.5,\\n              188.0,\\n              3050.0,\\n              \\\"Female\\\"\\n            ],\\n            [\\n              \\\"Adelie\\\",\\n              \\\"Dream\\\",\\n              40.7,\\n              17.0,\\n              190.0,\\n              3725.0,\\n              \\\"Male\\\"\\n            ],\\n            [\\n              \\\"Adelie\\\",\\n              \\\"Dream\\\",\\n              37.3,\\n              16.8,\\n              192.0,\\n              3000.0,\\n              \\\"Female\\\"\\n            ],\\n            [\\n              \\\"Adelie\\\",\\n              \\\"Dream\\\",\\n              39.0,\\n              18.7,\\n              185.0,\\n              3650.0,\\n              \\\"Male\\\"\\n            ],\\n            [\\n              \\\"Adelie\\\",\\n              \\\"Dream\\\",\\n              39.2,\\n              18.6,\\n              190.0,\\n              4250.0,\\n              \\\"Male\\\"\\n            ],\\n            [\\n              \\\"Adelie\\\",\\n              \\\"Dream\\\",\\n              36.6,\\n              18.4,\\n              184.0,\\n              3475.0,\\n              \\\"Female\\\"\\n            ],\\n            [\\n              \\\"Adelie\\\",\\n              \\\"Dream\\\",\\n              36.0,\\n              17.8,\\n              195.0,\\n              3450.0,\\n              \\\"Female\\\"\\n            ],\\n            [\\n              \\\"Adelie\\\",\\n              \\\"Dream\\\",\\n              37.8,\\n              18.1,\\n              193.0,\\n              3750.0,\\n              \\\"Male\\\"\\n            ],\\n            [\\n              \\\"Adelie\\\",\\n              \\\"Dream\\\",\\n              36.0,\\n              17.1,\\n              187.0,\\n              3700.0,\\n              \\\"Female\\\"\\n            ],\\n            [\\n              \\\"Adelie\\\",\\n              \\\"Dream\\\",\\n              41.5,\\n              18.5,\\n              201.0,\\n              4000.0,\\n              \\\"Male\\\"\\n            ],\\n            [\\n              \\\"Chinstrap\\\",\\n              \\\"Dream\\\",\\n              46.5,\\n              17.9,\\n              192.0,\\n              3500.0,\\n              \\\"Female\\\"\\n            ],\\n            [\\n              \\\"Chinstrap\\\",\\n              \\\"Dream\\\",\\n              50.0,\\n              19.5,\\n              196.0,\\n              3900.0,\\n              \\\"Male\\\"\\n            ],\\n            [\\n              \\\"Chinstrap\\\",\\n              \\\"Dream\\\",\\n              51.3,\\n              19.2,\\n              193.0,\\n              3650.0,\\n              \\\"Male\\\"\\n            ],\\n            [\\n              \\\"Chinstrap\\\",\\n              \\\"Dream\\\",\\n              45.4,\\n              18.7,\\n              188.0,\\n              3525.0,\\n              \\\"Female\\\"\\n            ],\\n            [\\n              \\\"Chinstrap\\\",\\n              \\\"Dream\\\",\\n              52.7,\\n              19.8,\\n              197.0,\\n              3725.0,\\n              \\\"Male\\\"\\n            ],\\n            [\\n              \\\"Chinstrap\\\",\\n              \\\"Dream\\\",\\n              45.2,\\n              17.8,\\n              198.0,\\n              3950.0,\\n              \\\"Female\\\"\\n            ],\\n            [\\n              \\\"Chinstrap\\\",\\n              \\\"Dream\\\",\\n              46.1,\\n              18.2,\\n              178.0,\\n              3250.0,\\n              \\\"Female\\\"\\n            ],\\n            [\\n              \\\"Chinstrap\\\",\\n              \\\"Dream\\\",\\n              51.3,\\n              18.2,\\n              197.0,\\n              3750.0,\\n              \\\"Male\\\"\\n            ],\\n            [\\n              \\\"Chinstrap\\\",\\n              \\\"Dream\\\",\\n              46.0,\\n              18.9,\\n              195.0,\\n              4150.0,\\n              \\\"Female\\\"\\n            ],\\n            [\\n              \\\"Chinstrap\\\",\\n              \\\"Dream\\\",\\n              51.3,\\n              19.9,\\n              198.0,\\n              3700.0,\\n              \\\"Male\\\"\\n            ],\\n            [\\n              \\\"Chinstrap\\\",\\n              \\\"Dream\\\",\\n              46.6,\\n              17.8,\\n              193.0,\\n              3800.0,\\n              \\\"Female\\\"\\n            ],\\n            [\\n              \\\"Chinstrap\\\",\\n              \\\"Dream\\\",\\n              51.7,\\n              20.3,\\n              194.0,\\n              3775.0,\\n              \\\"Male\\\"\\n            ],\\n            [\\n              \\\"Chinstrap\\\",\\n              \\\"Dream\\\",\\n              47.0,\\n              17.3,\\n              185.0,\\n              3700.0,\\n              \\\"Female\\\"\\n            ],\\n            [\\n              \\\"Chinstrap\\\",\\n              \\\"Dream\\\",\\n              52.0,\\n              18.1,\\n              201.0,\\n              4050.0,\\n              \\\"Male\\\"\\n            ],\\n            [\\n              \\\"Chinstrap\\\",\\n              \\\"Dream\\\",\\n              45.9,\\n              17.1,\\n              190.0,\\n              3575.0,\\n              \\\"Female\\\"\\n            ],\\n            [\\n              \\\"Chinstrap\\\",\\n              \\\"Dream\\\",\\n              50.5,\\n              19.6,\\n              201.0,\\n              4050.0,\\n              \\\"Male\\\"\\n            ],\\n            [\\n              \\\"Chinstrap\\\",\\n              \\\"Dream\\\",\\n              50.3,\\n              20.0,\\n              197.0,\\n              3300.0,\\n              \\\"Male\\\"\\n            ],\\n            [\\n              \\\"Chinstrap\\\",\\n              \\\"Dream\\\",\\n              58.0,\\n              17.8,\\n              181.0,\\n              3700.0,\\n              \\\"Female\\\"\\n            ],\\n            [\\n              \\\"Chinstrap\\\",\\n              \\\"Dream\\\",\\n              46.4,\\n              18.6,\\n              190.0,\\n              3450.0,\\n              \\\"Female\\\"\\n            ],\\n            [\\n              \\\"Chinstrap\\\",\\n              \\\"Dream\\\",\\n              49.2,\\n              18.2,\\n              195.0,\\n              4400.0,\\n              \\\"Male\\\"\\n            ],\\n            [\\n              \\\"Chinstrap\\\",\\n              \\\"Dream\\\",\\n              42.4,\\n              17.3,\\n              181.0,\\n              3600.0,\\n              \\\"Female\\\"\\n            ],\\n            [\\n              \\\"Chinstrap\\\",\\n              \\\"Dream\\\",\\n              48.5,\\n              17.5,\\n              191.0,\\n              3400.0,\\n              \\\"Male\\\"\\n            ],\\n            [\\n              \\\"Chinstrap\\\",\\n              \\\"Dream\\\",\\n              43.2,\\n              16.6,\\n              187.0,\\n              2900.0,\\n              \\\"Female\\\"\\n            ],\\n            [\\n              \\\"Chinstrap\\\",\\n              \\\"Dream\\\",\\n              50.6,\\n              19.4,\\n              193.0,\\n              3800.0,\\n              \\\"Male\\\"\\n            ],\\n            [\\n              \\\"Chinstrap\\\",\\n              \\\"Dream\\\",\\n              46.7,\\n              17.9,\\n              195.0,\\n              3300.0,\\n              \\\"Female\\\"\\n            ],\\n            [\\n              \\\"Chinstrap\\\",\\n              \\\"Dream\\\",\\n              52.0,\\n              19.0,\\n              197.0,\\n              4150.0,\\n              \\\"Male\\\"\\n            ],\\n            [\\n              \\\"Chinstrap\\\",\\n              \\\"Dream\\\",\\n              50.5,\\n              18.4,\\n              200.0,\\n              3400.0,\\n              \\\"Female\\\"\\n            ],\\n            [\\n              \\\"Chinstrap\\\",\\n              \\\"Dream\\\",\\n              49.5,\\n              19.0,\\n              200.0,\\n              3800.0,\\n              \\\"Male\\\"\\n            ],\\n            [\\n              \\\"Chinstrap\\\",\\n              \\\"Dream\\\",\\n              46.4,\\n              17.8,\\n              191.0,\\n              3700.0,\\n              \\\"Female\\\"\\n            ],\\n            [\\n              \\\"Chinstrap\\\",\\n              \\\"Dream\\\",\\n              52.8,\\n              20.0,\\n              205.0,\\n              4550.0,\\n              \\\"Male\\\"\\n            ],\\n            [\\n              \\\"Chinstrap\\\",\\n              \\\"Dream\\\",\\n              40.9,\\n              16.6,\\n              187.0,\\n              3200.0,\\n              \\\"Female\\\"\\n            ],\\n            [\\n              \\\"Chinstrap\\\",\\n              \\\"Dream\\\",\\n              54.2,\\n              20.8,\\n              201.0,\\n              4300.0,\\n              \\\"Male\\\"\\n            ],\\n            [\\n              \\\"Chinstrap\\\",\\n              \\\"Dream\\\",\\n              42.5,\\n              16.7,\\n              187.0,\\n              3350.0,\\n              \\\"Female\\\"\\n            ],\\n            [\\n              \\\"Chinstrap\\\",\\n              \\\"Dream\\\",\\n              51.0,\\n              18.8,\\n              203.0,\\n              4100.0,\\n              \\\"Male\\\"\\n            ],\\n            [\\n              \\\"Chinstrap\\\",\\n              \\\"Dream\\\",\\n              49.7,\\n              18.6,\\n              195.0,\\n              3600.0,\\n              \\\"Male\\\"\\n            ],\\n            [\\n              \\\"Chinstrap\\\",\\n              \\\"Dream\\\",\\n              47.5,\\n              16.8,\\n              199.0,\\n              3900.0,\\n              \\\"Female\\\"\\n            ],\\n            [\\n              \\\"Chinstrap\\\",\\n              \\\"Dream\\\",\\n              47.6,\\n              18.3,\\n              195.0,\\n              3850.0,\\n              \\\"Female\\\"\\n            ],\\n            [\\n              \\\"Chinstrap\\\",\\n              \\\"Dream\\\",\\n              52.0,\\n              20.7,\\n              210.0,\\n              4800.0,\\n              \\\"Male\\\"\\n            ],\\n            [\\n              \\\"Chinstrap\\\",\\n              \\\"Dream\\\",\\n              46.9,\\n              16.6,\\n              192.0,\\n              2700.0,\\n              \\\"Female\\\"\\n            ],\\n            [\\n              \\\"Chinstrap\\\",\\n              \\\"Dream\\\",\\n              53.5,\\n              19.9,\\n              205.0,\\n              4500.0,\\n              \\\"Male\\\"\\n            ],\\n            [\\n              \\\"Chinstrap\\\",\\n              \\\"Dream\\\",\\n              49.0,\\n              19.5,\\n              210.0,\\n              3950.0,\\n              \\\"Male\\\"\\n            ],\\n            [\\n              \\\"Chinstrap\\\",\\n              \\\"Dream\\\",\\n              46.2,\\n              17.5,\\n              187.0,\\n              3650.0,\\n              \\\"Female\\\"\\n            ],\\n            [\\n              \\\"Chinstrap\\\",\\n              \\\"Dream\\\",\\n              50.9,\\n              19.1,\\n              196.0,\\n              3550.0,\\n              \\\"Male\\\"\\n            ],\\n            [\\n              \\\"Chinstrap\\\",\\n              \\\"Dream\\\",\\n              45.5,\\n              17.0,\\n              196.0,\\n              3500.0,\\n              \\\"Female\\\"\\n            ],\\n            [\\n              \\\"Chinstrap\\\",\\n              \\\"Dream\\\",\\n              50.9,\\n              17.9,\\n              196.0,\\n              3675.0,\\n              \\\"Female\\\"\\n            ],\\n            [\\n              \\\"Chinstrap\\\",\\n              \\\"Dream\\\",\\n              50.8,\\n              18.5,\\n              201.0,\\n              4450.0,\\n              \\\"Male\\\"\\n            ],\\n            [\\n              \\\"Chinstrap\\\",\\n              \\\"Dream\\\",\\n              50.1,\\n              17.9,\\n              190.0,\\n              3400.0,\\n              \\\"Female\\\"\\n            ],\\n            [\\n              \\\"Chinstrap\\\",\\n              \\\"Dream\\\",\\n              49.0,\\n              19.6,\\n              212.0,\\n              4300.0,\\n              \\\"Male\\\"\\n            ],\\n            [\\n              \\\"Chinstrap\\\",\\n              \\\"Dream\\\",\\n              51.5,\\n              18.7,\\n              187.0,\\n              3250.0,\\n              \\\"Male\\\"\\n            ],\\n            [\\n              \\\"Chinstrap\\\",\\n              \\\"Dream\\\",\\n              49.8,\\n              17.3,\\n              198.0,\\n              3675.0,\\n              \\\"Female\\\"\\n            ],\\n            [\\n              \\\"Chinstrap\\\",\\n              \\\"Dream\\\",\\n              48.1,\\n              16.4,\\n              199.0,\\n              3325.0,\\n              \\\"Female\\\"\\n            ],\\n            [\\n              \\\"Chinstrap\\\",\\n              \\\"Dream\\\",\\n              51.4,\\n              19.0,\\n              201.0,\\n              3950.0,\\n              \\\"Male\\\"\\n            ],\\n            [\\n              \\\"Chinstrap\\\",\\n              \\\"Dream\\\",\\n              45.7,\\n              17.3,\\n              193.0,\\n              3600.0,\\n              \\\"Female\\\"\\n            ],\\n            [\\n              \\\"Chinstrap\\\",\\n              \\\"Dream\\\",\\n              50.7,\\n              19.7,\\n              203.0,\\n              4050.0,\\n              \\\"Male\\\"\\n            ],\\n            [\\n              \\\"Chinstrap\\\",\\n              \\\"Dream\\\",\\n              42.5,\\n              17.3,\\n              187.0,\\n              3350.0,\\n              \\\"Female\\\"\\n            ],\\n            [\\n              \\\"Chinstrap\\\",\\n              \\\"Dream\\\",\\n              52.2,\\n              18.8,\\n              197.0,\\n              3450.0,\\n              \\\"Male\\\"\\n            ],\\n            [\\n              \\\"Chinstrap\\\",\\n              \\\"Dream\\\",\\n              45.2,\\n              16.6,\\n              191.0,\\n              3250.0,\\n              \\\"Female\\\"\\n            ],\\n            [\\n              \\\"Chinstrap\\\",\\n              \\\"Dream\\\",\\n              49.3,\\n              19.9,\\n              203.0,\\n              4050.0,\\n              \\\"Male\\\"\\n            ],\\n            [\\n              \\\"Chinstrap\\\",\\n              \\\"Dream\\\",\\n              50.2,\\n              18.8,\\n              202.0,\\n              3800.0,\\n              \\\"Male\\\"\\n            ],\\n            [\\n              \\\"Chinstrap\\\",\\n              \\\"Dream\\\",\\n              45.6,\\n              19.4,\\n              194.0,\\n              3525.0,\\n              \\\"Female\\\"\\n            ],\\n            [\\n              \\\"Chinstrap\\\",\\n              \\\"Dream\\\",\\n              51.9,\\n              19.5,\\n              206.0,\\n              3950.0,\\n              \\\"Male\\\"\\n            ],\\n            [\\n              \\\"Chinstrap\\\",\\n              \\\"Dream\\\",\\n              46.8,\\n              16.5,\\n              189.0,\\n              3650.0,\\n              \\\"Female\\\"\\n            ],\\n            [\\n              \\\"Chinstrap\\\",\\n              \\\"Dream\\\",\\n              45.7,\\n              17.0,\\n              195.0,\\n              3650.0,\\n              \\\"Female\\\"\\n            ],\\n            [\\n              \\\"Chinstrap\\\",\\n              \\\"Dream\\\",\\n              55.8,\\n              19.8,\\n              207.0,\\n              4000.0,\\n              \\\"Male\\\"\\n            ],\\n            [\\n              \\\"Chinstrap\\\",\\n              \\\"Dream\\\",\\n              43.5,\\n              18.1,\\n              202.0,\\n              3400.0,\\n              \\\"Female\\\"\\n            ],\\n            [\\n              \\\"Chinstrap\\\",\\n              \\\"Dream\\\",\\n              49.6,\\n              18.2,\\n              193.0,\\n              3775.0,\\n              \\\"Male\\\"\\n            ],\\n            [\\n              \\\"Chinstrap\\\",\\n              \\\"Dream\\\",\\n              50.8,\\n              19.0,\\n              210.0,\\n              4100.0,\\n              \\\"Male\\\"\\n            ],\\n            [\\n              \\\"Chinstrap\\\",\\n              \\\"Dream\\\",\\n              50.2,\\n              18.7,\\n              198.0,\\n              3775.0,\\n              \\\"Female\\\"\\n            ],\\n            [\\n              \\\"Gentoo\\\",\\n              \\\"Biscoe\\\",\\n              46.1,\\n              13.2,\\n              211.0,\\n              4500.0,\\n              \\\"Female\\\"\\n            ],\\n            [\\n              \\\"Gentoo\\\",\\n              \\\"Biscoe\\\",\\n              50.0,\\n              16.3,\\n              230.0,\\n              5700.0,\\n              \\\"Male\\\"\\n            ],\\n            [\\n              \\\"Gentoo\\\",\\n              \\\"Biscoe\\\",\\n              48.7,\\n              14.1,\\n              210.0,\\n              4450.0,\\n              \\\"Female\\\"\\n            ],\\n            [\\n              \\\"Gentoo\\\",\\n              \\\"Biscoe\\\",\\n              50.0,\\n              15.2,\\n              218.0,\\n              5700.0,\\n              \\\"Male\\\"\\n            ],\\n            [\\n              \\\"Gentoo\\\",\\n              \\\"Biscoe\\\",\\n              47.6,\\n              14.5,\\n              215.0,\\n              5400.0,\\n              \\\"Male\\\"\\n            ],\\n            [\\n              \\\"Gentoo\\\",\\n              \\\"Biscoe\\\",\\n              46.5,\\n              13.5,\\n              210.0,\\n              4550.0,\\n              \\\"Female\\\"\\n            ],\\n            [\\n              \\\"Gentoo\\\",\\n              \\\"Biscoe\\\",\\n              45.4,\\n              14.6,\\n              211.0,\\n              4800.0,\\n              \\\"Female\\\"\\n            ],\\n            [\\n              \\\"Gentoo\\\",\\n              \\\"Biscoe\\\",\\n              46.7,\\n              15.3,\\n              219.0,\\n              5200.0,\\n              \\\"Male\\\"\\n            ],\\n            [\\n              \\\"Gentoo\\\",\\n              \\\"Biscoe\\\",\\n              43.3,\\n              13.4,\\n              209.0,\\n              4400.0,\\n              \\\"Female\\\"\\n            ],\\n            [\\n              \\\"Gentoo\\\",\\n              \\\"Biscoe\\\",\\n              46.8,\\n              15.4,\\n              215.0,\\n              5150.0,\\n              \\\"Male\\\"\\n            ],\\n            [\\n              \\\"Gentoo\\\",\\n              \\\"Biscoe\\\",\\n              40.9,\\n              13.7,\\n              214.0,\\n              4650.0,\\n              \\\"Female\\\"\\n            ],\\n            [\\n              \\\"Gentoo\\\",\\n              \\\"Biscoe\\\",\\n              49.0,\\n              16.1,\\n              216.0,\\n              5550.0,\\n              \\\"Male\\\"\\n            ],\\n            [\\n              \\\"Gentoo\\\",\\n              \\\"Biscoe\\\",\\n              45.5,\\n              13.7,\\n              214.0,\\n              4650.0,\\n              \\\"Female\\\"\\n            ],\\n            [\\n              \\\"Gentoo\\\",\\n              \\\"Biscoe\\\",\\n              48.4,\\n              14.6,\\n              213.0,\\n              5850.0,\\n              \\\"Male\\\"\\n            ],\\n            [\\n              \\\"Gentoo\\\",\\n              \\\"Biscoe\\\",\\n              45.8,\\n              14.6,\\n              210.0,\\n              4200.0,\\n              \\\"Female\\\"\\n            ],\\n            [\\n              \\\"Gentoo\\\",\\n              \\\"Biscoe\\\",\\n              49.3,\\n              15.7,\\n              217.0,\\n              5850.0,\\n              \\\"Male\\\"\\n            ],\\n            [\\n              \\\"Gentoo\\\",\\n              \\\"Biscoe\\\",\\n              42.0,\\n              13.5,\\n              210.0,\\n              4150.0,\\n              \\\"Female\\\"\\n            ],\\n            [\\n              \\\"Gentoo\\\",\\n              \\\"Biscoe\\\",\\n              49.2,\\n              15.2,\\n              221.0,\\n              6300.0,\\n              \\\"Male\\\"\\n            ],\\n            [\\n              \\\"Gentoo\\\",\\n              \\\"Biscoe\\\",\\n              46.2,\\n              14.5,\\n              209.0,\\n              4800.0,\\n              \\\"Female\\\"\\n            ],\\n            [\\n              \\\"Gentoo\\\",\\n              \\\"Biscoe\\\",\\n              48.7,\\n              15.1,\\n              222.0,\\n              5350.0,\\n              \\\"Male\\\"\\n            ],\\n            [\\n              \\\"Gentoo\\\",\\n              \\\"Biscoe\\\",\\n              50.2,\\n              14.3,\\n              218.0,\\n              5700.0,\\n              \\\"Male\\\"\\n            ],\\n            [\\n              \\\"Gentoo\\\",\\n              \\\"Biscoe\\\",\\n              45.1,\\n              14.5,\\n              215.0,\\n              5000.0,\\n              \\\"Female\\\"\\n            ],\\n            [\\n              \\\"Gentoo\\\",\\n              \\\"Biscoe\\\",\\n              46.5,\\n              14.5,\\n              213.0,\\n              4400.0,\\n              \\\"Female\\\"\\n            ],\\n            [\\n              \\\"Gentoo\\\",\\n              \\\"Biscoe\\\",\\n              46.3,\\n              15.8,\\n              215.0,\\n              5050.0,\\n              \\\"Male\\\"\\n            ],\\n            [\\n              \\\"Gentoo\\\",\\n              \\\"Biscoe\\\",\\n              42.9,\\n              13.1,\\n              215.0,\\n              5000.0,\\n              \\\"Female\\\"\\n            ],\\n            [\\n              \\\"Gentoo\\\",\\n              \\\"Biscoe\\\",\\n              46.1,\\n              15.1,\\n              215.0,\\n              5100.0,\\n              \\\"Male\\\"\\n            ],\\n            [\\n              \\\"Gentoo\\\",\\n              \\\"Biscoe\\\",\\n              47.8,\\n              15.0,\\n              215.0,\\n              5650.0,\\n              \\\"Male\\\"\\n            ],\\n            [\\n              \\\"Gentoo\\\",\\n              \\\"Biscoe\\\",\\n              48.2,\\n              14.3,\\n              210.0,\\n              4600.0,\\n              \\\"Female\\\"\\n            ],\\n            [\\n              \\\"Gentoo\\\",\\n              \\\"Biscoe\\\",\\n              50.0,\\n              15.3,\\n              220.0,\\n              5550.0,\\n              \\\"Male\\\"\\n            ],\\n            [\\n              \\\"Gentoo\\\",\\n              \\\"Biscoe\\\",\\n              47.3,\\n              15.3,\\n              222.0,\\n              5250.0,\\n              \\\"Male\\\"\\n            ],\\n            [\\n              \\\"Gentoo\\\",\\n              \\\"Biscoe\\\",\\n              42.8,\\n              14.2,\\n              209.0,\\n              4700.0,\\n              \\\"Female\\\"\\n            ],\\n            [\\n              \\\"Gentoo\\\",\\n              \\\"Biscoe\\\",\\n              45.1,\\n              14.5,\\n              207.0,\\n              5050.0,\\n              \\\"Female\\\"\\n            ],\\n            [\\n              \\\"Gentoo\\\",\\n              \\\"Biscoe\\\",\\n              59.6,\\n              17.0,\\n              230.0,\\n              6050.0,\\n              \\\"Male\\\"\\n            ],\\n            [\\n              \\\"Gentoo\\\",\\n              \\\"Biscoe\\\",\\n              49.1,\\n              14.8,\\n              220.0,\\n              5150.0,\\n              \\\"Female\\\"\\n            ],\\n            [\\n              \\\"Gentoo\\\",\\n              \\\"Biscoe\\\",\\n              48.4,\\n              16.3,\\n              220.0,\\n              5400.0,\\n              \\\"Male\\\"\\n            ],\\n            [\\n              \\\"Gentoo\\\",\\n              \\\"Biscoe\\\",\\n              42.6,\\n              13.7,\\n              213.0,\\n              4950.0,\\n              \\\"Female\\\"\\n            ],\\n            [\\n              \\\"Gentoo\\\",\\n              \\\"Biscoe\\\",\\n              44.4,\\n              17.3,\\n              219.0,\\n              5250.0,\\n              \\\"Male\\\"\\n            ],\\n            [\\n              \\\"Gentoo\\\",\\n              \\\"Biscoe\\\",\\n              44.0,\\n              13.6,\\n              208.0,\\n              4350.0,\\n              \\\"Female\\\"\\n            ],\\n            [\\n              \\\"Gentoo\\\",\\n              \\\"Biscoe\\\",\\n              48.7,\\n              15.7,\\n              208.0,\\n              5350.0,\\n              \\\"Male\\\"\\n            ],\\n            [\\n              \\\"Gentoo\\\",\\n              \\\"Biscoe\\\",\\n              42.7,\\n              13.7,\\n              208.0,\\n              3950.0,\\n              \\\"Female\\\"\\n            ],\\n            [\\n              \\\"Gentoo\\\",\\n              \\\"Biscoe\\\",\\n              49.6,\\n              16.0,\\n              225.0,\\n              5700.0,\\n              \\\"Male\\\"\\n            ],\\n            [\\n              \\\"Gentoo\\\",\\n              \\\"Biscoe\\\",\\n              45.3,\\n              13.7,\\n              210.0,\\n              4300.0,\\n              \\\"Female\\\"\\n            ],\\n            [\\n              \\\"Gentoo\\\",\\n              \\\"Biscoe\\\",\\n              49.6,\\n              15.0,\\n              216.0,\\n              4750.0,\\n              \\\"Male\\\"\\n            ],\\n            [\\n              \\\"Gentoo\\\",\\n              \\\"Biscoe\\\",\\n              50.5,\\n              15.9,\\n              222.0,\\n              5550.0,\\n              \\\"Male\\\"\\n            ],\\n            [\\n              \\\"Gentoo\\\",\\n              \\\"Biscoe\\\",\\n              43.6,\\n              13.9,\\n              217.0,\\n              4900.0,\\n              \\\"Female\\\"\\n            ],\\n            [\\n              \\\"Gentoo\\\",\\n              \\\"Biscoe\\\",\\n              45.5,\\n              13.9,\\n              210.0,\\n              4200.0,\\n              \\\"Female\\\"\\n            ],\\n            [\\n              \\\"Gentoo\\\",\\n              \\\"Biscoe\\\",\\n              50.5,\\n              15.9,\\n              225.0,\\n              5400.0,\\n              \\\"Male\\\"\\n            ],\\n            [\\n              \\\"Gentoo\\\",\\n              \\\"Biscoe\\\",\\n              44.9,\\n              13.3,\\n              213.0,\\n              5100.0,\\n              \\\"Female\\\"\\n            ],\\n            [\\n              \\\"Gentoo\\\",\\n              \\\"Biscoe\\\",\\n              45.2,\\n              15.8,\\n              215.0,\\n              5300.0,\\n              \\\"Male\\\"\\n            ],\\n            [\\n              \\\"Gentoo\\\",\\n              \\\"Biscoe\\\",\\n              46.6,\\n              14.2,\\n              210.0,\\n              4850.0,\\n              \\\"Female\\\"\\n            ],\\n            [\\n              \\\"Gentoo\\\",\\n              \\\"Biscoe\\\",\\n              48.5,\\n              14.1,\\n              220.0,\\n              5300.0,\\n              \\\"Male\\\"\\n            ],\\n            [\\n              \\\"Gentoo\\\",\\n              \\\"Biscoe\\\",\\n              45.1,\\n              14.4,\\n              210.0,\\n              4400.0,\\n              \\\"Female\\\"\\n            ],\\n            [\\n              \\\"Gentoo\\\",\\n              \\\"Biscoe\\\",\\n              50.1,\\n              15.0,\\n              225.0,\\n              5000.0,\\n              \\\"Male\\\"\\n            ],\\n            [\\n              \\\"Gentoo\\\",\\n              \\\"Biscoe\\\",\\n              46.5,\\n              14.4,\\n              217.0,\\n              4900.0,\\n              \\\"Female\\\"\\n            ],\\n            [\\n              \\\"Gentoo\\\",\\n              \\\"Biscoe\\\",\\n              45.0,\\n              15.4,\\n              220.0,\\n              5050.0,\\n              \\\"Male\\\"\\n            ],\\n            [\\n              \\\"Gentoo\\\",\\n              \\\"Biscoe\\\",\\n              43.8,\\n              13.9,\\n              208.0,\\n              4300.0,\\n              \\\"Female\\\"\\n            ],\\n            [\\n              \\\"Gentoo\\\",\\n              \\\"Biscoe\\\",\\n              45.5,\\n              15.0,\\n              220.0,\\n              5000.0,\\n              \\\"Male\\\"\\n            ],\\n            [\\n              \\\"Gentoo\\\",\\n              \\\"Biscoe\\\",\\n              43.2,\\n              14.5,\\n              208.0,\\n              4450.0,\\n              \\\"Female\\\"\\n            ],\\n            [\\n              \\\"Gentoo\\\",\\n              \\\"Biscoe\\\",\\n              50.4,\\n              15.3,\\n              224.0,\\n              5550.0,\\n              \\\"Male\\\"\\n            ],\\n            [\\n              \\\"Gentoo\\\",\\n              \\\"Biscoe\\\",\\n              45.3,\\n              13.8,\\n              208.0,\\n              4200.0,\\n              \\\"Female\\\"\\n            ],\\n            [\\n              \\\"Gentoo\\\",\\n              \\\"Biscoe\\\",\\n              46.2,\\n              14.9,\\n              221.0,\\n              5300.0,\\n              \\\"Male\\\"\\n            ],\\n            [\\n              \\\"Gentoo\\\",\\n              \\\"Biscoe\\\",\\n              45.7,\\n              13.9,\\n              214.0,\\n              4400.0,\\n              \\\"Female\\\"\\n            ],\\n            [\\n              \\\"Gentoo\\\",\\n              \\\"Biscoe\\\",\\n              54.3,\\n              15.7,\\n              231.0,\\n              5650.0,\\n              \\\"Male\\\"\\n            ],\\n            [\\n              \\\"Gentoo\\\",\\n              \\\"Biscoe\\\",\\n              45.8,\\n              14.2,\\n              219.0,\\n              4700.0,\\n              \\\"Female\\\"\\n            ],\\n            [\\n              \\\"Gentoo\\\",\\n              \\\"Biscoe\\\",\\n              49.8,\\n              16.8,\\n              230.0,\\n              5700.0,\\n              \\\"Male\\\"\\n            ],\\n            [\\n              \\\"Gentoo\\\",\\n              \\\"Biscoe\\\",\\n              49.5,\\n              16.2,\\n              229.0,\\n              5800.0,\\n              \\\"Male\\\"\\n            ],\\n            [\\n              \\\"Gentoo\\\",\\n              \\\"Biscoe\\\",\\n              43.5,\\n              14.2,\\n              220.0,\\n              4700.0,\\n              \\\"Female\\\"\\n            ],\\n            [\\n              \\\"Gentoo\\\",\\n              \\\"Biscoe\\\",\\n              50.7,\\n              15.0,\\n              223.0,\\n              5550.0,\\n              \\\"Male\\\"\\n            ],\\n            [\\n              \\\"Gentoo\\\",\\n              \\\"Biscoe\\\",\\n              47.7,\\n              15.0,\\n              216.0,\\n              4750.0,\\n              \\\"Female\\\"\\n            ],\\n            [\\n              \\\"Gentoo\\\",\\n              \\\"Biscoe\\\",\\n              46.4,\\n              15.6,\\n              221.0,\\n              5000.0,\\n              \\\"Male\\\"\\n            ],\\n            [\\n              \\\"Gentoo\\\",\\n              \\\"Biscoe\\\",\\n              48.2,\\n              15.6,\\n              221.0,\\n              5100.0,\\n              \\\"Male\\\"\\n            ],\\n            [\\n              \\\"Gentoo\\\",\\n              \\\"Biscoe\\\",\\n              46.5,\\n              14.8,\\n              217.0,\\n              5200.0,\\n              \\\"Female\\\"\\n            ],\\n            [\\n              \\\"Gentoo\\\",\\n              \\\"Biscoe\\\",\\n              46.4,\\n              15.0,\\n              216.0,\\n              4700.0,\\n              \\\"Female\\\"\\n            ],\\n            [\\n              \\\"Gentoo\\\",\\n              \\\"Biscoe\\\",\\n              48.6,\\n              16.0,\\n              230.0,\\n              5800.0,\\n              \\\"Male\\\"\\n            ],\\n            [\\n              \\\"Gentoo\\\",\\n              \\\"Biscoe\\\",\\n              47.5,\\n              14.2,\\n              209.0,\\n              4600.0,\\n              \\\"Female\\\"\\n            ],\\n            [\\n              \\\"Gentoo\\\",\\n              \\\"Biscoe\\\",\\n              51.1,\\n              16.3,\\n              220.0,\\n              6000.0,\\n              \\\"Male\\\"\\n            ],\\n            [\\n              \\\"Gentoo\\\",\\n              \\\"Biscoe\\\",\\n              45.2,\\n              13.8,\\n              215.0,\\n              4750.0,\\n              \\\"Female\\\"\\n            ],\\n            [\\n              \\\"Gentoo\\\",\\n              \\\"Biscoe\\\",\\n              45.2,\\n              16.4,\\n              223.0,\\n              5950.0,\\n              \\\"Male\\\"\\n            ],\\n            [\\n              \\\"Gentoo\\\",\\n              \\\"Biscoe\\\",\\n              49.1,\\n              14.5,\\n              212.0,\\n              4625.0,\\n              \\\"Female\\\"\\n            ],\\n            [\\n              \\\"Gentoo\\\",\\n              \\\"Biscoe\\\",\\n              52.5,\\n              15.6,\\n              221.0,\\n              5450.0,\\n              \\\"Male\\\"\\n            ],\\n            [\\n              \\\"Gentoo\\\",\\n              \\\"Biscoe\\\",\\n              47.4,\\n              14.6,\\n              212.0,\\n              4725.0,\\n              \\\"Female\\\"\\n            ],\\n            [\\n              \\\"Gentoo\\\",\\n              \\\"Biscoe\\\",\\n              50.0,\\n              15.9,\\n              224.0,\\n              5350.0,\\n              \\\"Male\\\"\\n            ],\\n            [\\n              \\\"Gentoo\\\",\\n              \\\"Biscoe\\\",\\n              44.9,\\n              13.8,\\n              212.0,\\n              4750.0,\\n              \\\"Female\\\"\\n            ],\\n            [\\n              \\\"Gentoo\\\",\\n              \\\"Biscoe\\\",\\n              50.8,\\n              17.3,\\n              228.0,\\n              5600.0,\\n              \\\"Male\\\"\\n            ],\\n            [\\n              \\\"Gentoo\\\",\\n              \\\"Biscoe\\\",\\n              43.4,\\n              14.4,\\n              218.0,\\n              4600.0,\\n              \\\"Female\\\"\\n            ],\\n            [\\n              \\\"Gentoo\\\",\\n              \\\"Biscoe\\\",\\n              51.3,\\n              14.2,\\n              218.0,\\n              5300.0,\\n              \\\"Male\\\"\\n            ],\\n            [\\n              \\\"Gentoo\\\",\\n              \\\"Biscoe\\\",\\n              47.5,\\n              14.0,\\n              212.0,\\n              4875.0,\\n              \\\"Female\\\"\\n            ],\\n            [\\n              \\\"Gentoo\\\",\\n              \\\"Biscoe\\\",\\n              52.1,\\n              17.0,\\n              230.0,\\n              5550.0,\\n              \\\"Male\\\"\\n            ],\\n            [\\n              \\\"Gentoo\\\",\\n              \\\"Biscoe\\\",\\n              47.5,\\n              15.0,\\n              218.0,\\n              4950.0,\\n              \\\"Female\\\"\\n            ],\\n            [\\n              \\\"Gentoo\\\",\\n              \\\"Biscoe\\\",\\n              52.2,\\n              17.1,\\n              228.0,\\n              5400.0,\\n              \\\"Male\\\"\\n            ],\\n            [\\n              \\\"Gentoo\\\",\\n              \\\"Biscoe\\\",\\n              45.5,\\n              14.5,\\n              212.0,\\n              4750.0,\\n              \\\"Female\\\"\\n            ],\\n            [\\n              \\\"Gentoo\\\",\\n              \\\"Biscoe\\\",\\n              49.5,\\n              16.1,\\n              224.0,\\n              5650.0,\\n              \\\"Male\\\"\\n            ],\\n            [\\n              \\\"Gentoo\\\",\\n              \\\"Biscoe\\\",\\n              44.5,\\n              14.7,\\n              214.0,\\n              4850.0,\\n              \\\"Female\\\"\\n            ],\\n            [\\n              \\\"Gentoo\\\",\\n              \\\"Biscoe\\\",\\n              50.8,\\n              15.7,\\n              226.0,\\n              5200.0,\\n              \\\"Male\\\"\\n            ],\\n            [\\n              \\\"Gentoo\\\",\\n              \\\"Biscoe\\\",\\n              49.4,\\n              15.8,\\n              216.0,\\n              4925.0,\\n              \\\"Male\\\"\\n            ],\\n            [\\n              \\\"Gentoo\\\",\\n              \\\"Biscoe\\\",\\n              46.9,\\n              14.6,\\n              222.0,\\n              4875.0,\\n              \\\"Female\\\"\\n            ],\\n            [\\n              \\\"Gentoo\\\",\\n              \\\"Biscoe\\\",\\n              48.4,\\n              14.4,\\n              203.0,\\n              4625.0,\\n              \\\"Female\\\"\\n            ],\\n            [\\n              \\\"Gentoo\\\",\\n              \\\"Biscoe\\\",\\n              51.1,\\n              16.5,\\n              225.0,\\n              5250.0,\\n              \\\"Male\\\"\\n            ],\\n            [\\n              \\\"Gentoo\\\",\\n              \\\"Biscoe\\\",\\n              48.5,\\n              15.0,\\n              219.0,\\n              4850.0,\\n              \\\"Female\\\"\\n            ],\\n            [\\n              \\\"Gentoo\\\",\\n              \\\"Biscoe\\\",\\n              55.9,\\n              17.0,\\n              228.0,\\n              5600.0,\\n              \\\"Male\\\"\\n            ],\\n            [\\n              \\\"Gentoo\\\",\\n              \\\"Biscoe\\\",\\n              47.2,\\n              15.5,\\n              215.0,\\n              4975.0,\\n              \\\"Female\\\"\\n            ],\\n            [\\n              \\\"Gentoo\\\",\\n              \\\"Biscoe\\\",\\n              49.1,\\n              15.0,\\n              228.0,\\n              5500.0,\\n              \\\"Male\\\"\\n            ],\\n            [\\n              \\\"Gentoo\\\",\\n              \\\"Biscoe\\\",\\n              46.8,\\n              16.1,\\n              215.0,\\n              5500.0,\\n              \\\"Male\\\"\\n            ],\\n            [\\n              \\\"Gentoo\\\",\\n              \\\"Biscoe\\\",\\n              41.7,\\n              14.7,\\n              210.0,\\n              4700.0,\\n              \\\"Female\\\"\\n            ],\\n            [\\n              \\\"Gentoo\\\",\\n              \\\"Biscoe\\\",\\n              53.4,\\n              15.8,\\n              219.0,\\n              5500.0,\\n              \\\"Male\\\"\\n            ],\\n            [\\n              \\\"Gentoo\\\",\\n              \\\"Biscoe\\\",\\n              43.3,\\n              14.0,\\n              208.0,\\n              4575.0,\\n              \\\"Female\\\"\\n            ],\\n            [\\n              \\\"Gentoo\\\",\\n              \\\"Biscoe\\\",\\n              48.1,\\n              15.1,\\n              209.0,\\n              5500.0,\\n              \\\"Male\\\"\\n            ],\\n            [\\n              \\\"Gentoo\\\",\\n              \\\"Biscoe\\\",\\n              50.5,\\n              15.2,\\n              216.0,\\n              5000.0,\\n              \\\"Female\\\"\\n            ],\\n            [\\n              \\\"Gentoo\\\",\\n              \\\"Biscoe\\\",\\n              49.8,\\n              15.9,\\n              229.0,\\n              5950.0,\\n              \\\"Male\\\"\\n            ],\\n            [\\n              \\\"Gentoo\\\",\\n              \\\"Biscoe\\\",\\n              43.5,\\n              15.2,\\n              213.0,\\n              4650.0,\\n              \\\"Female\\\"\\n            ],\\n            [\\n              \\\"Gentoo\\\",\\n              \\\"Biscoe\\\",\\n              51.5,\\n              16.3,\\n              230.0,\\n              5500.0,\\n              \\\"Male\\\"\\n            ],\\n            [\\n              \\\"Gentoo\\\",\\n              \\\"Biscoe\\\",\\n              46.2,\\n              14.1,\\n              217.0,\\n              4375.0,\\n              \\\"Female\\\"\\n            ],\\n            [\\n              \\\"Gentoo\\\",\\n              \\\"Biscoe\\\",\\n              55.1,\\n              16.0,\\n              230.0,\\n              5850.0,\\n              \\\"Male\\\"\\n            ],\\n            [\\n              \\\"Gentoo\\\",\\n              \\\"Biscoe\\\",\\n              48.8,\\n              16.2,\\n              222.0,\\n              6000.0,\\n              \\\"Male\\\"\\n            ],\\n            [\\n              \\\"Gentoo\\\",\\n              \\\"Biscoe\\\",\\n              47.2,\\n              13.7,\\n              214.0,\\n              4925.0,\\n              \\\"Female\\\"\\n            ],\\n            [\\n              \\\"Gentoo\\\",\\n              \\\"Biscoe\\\",\\n              46.8,\\n              14.3,\\n              215.0,\\n              4850.0,\\n              \\\"Female\\\"\\n            ],\\n            [\\n              \\\"Gentoo\\\",\\n              \\\"Biscoe\\\",\\n              50.4,\\n              15.7,\\n              222.0,\\n              5750.0,\\n              \\\"Male\\\"\\n            ],\\n            [\\n              \\\"Gentoo\\\",\\n              \\\"Biscoe\\\",\\n              45.2,\\n              14.8,\\n              212.0,\\n              5200.0,\\n              \\\"Female\\\"\\n            ],\\n            [\\n              \\\"Gentoo\\\",\\n              \\\"Biscoe\\\",\\n              49.9,\\n              16.1,\\n              213.0,\\n              5400.0,\\n              \\\"Male\\\"\\n            ]\\n          ]\\n        },\\n        \\\"rhs\\\": {\\n          \\\"type\\\": \\\"DataFrameGroupBy\\\",\\n          \\\"columns\\\": {\\n            \\\"names\\\": [\\n              null\\n            ],\\n            \\\"labels\\\": [\\n              \\\"species\\\",\\n              \\\"island\\\",\\n              \\\"bill_length_mm\\\",\\n              \\\"bill_depth_mm\\\",\\n              \\\"flipper_length_mm\\\",\\n              \\\"body_mass_g\\\",\\n              \\\"sex\\\"\\n            ]\\n          },\\n          \\\"index\\\": {\\n            \\\"names\\\": [\\n              null\\n            ],\\n            \\\"labels\\\": [\\n              0,\\n              1,\\n              2,\\n              4,\\n              5,\\n              6,\\n              7,\\n              12,\\n              13,\\n              14,\\n              15,\\n              16,\\n              17,\\n              18,\\n              19,\\n              20,\\n              21,\\n              22,\\n              23,\\n              24,\\n              25,\\n              26,\\n              27,\\n              28,\\n              29,\\n              30,\\n              31,\\n              32,\\n              33,\\n              34,\\n              35,\\n              36,\\n              37,\\n              38,\\n              39,\\n              40,\\n              41,\\n              42,\\n              43,\\n              44,\\n              45,\\n              46,\\n              48,\\n              49,\\n              50,\\n              51,\\n              52,\\n              53,\\n              54,\\n              55,\\n              56,\\n              57,\\n              58,\\n              59,\\n              60,\\n              61,\\n              62,\\n              63,\\n              64,\\n              65,\\n              66,\\n              67,\\n              68,\\n              69,\\n              70,\\n              71,\\n              72,\\n              73,\\n              74,\\n              75,\\n              76,\\n              77,\\n              78,\\n              79,\\n              80,\\n              81,\\n              82,\\n              83,\\n              84,\\n              85,\\n              86,\\n              87,\\n              88,\\n              89,\\n              90,\\n              91,\\n              92,\\n              93,\\n              94,\\n              95,\\n              96,\\n              97,\\n              98,\\n              99,\\n              100,\\n              101,\\n              102,\\n              103,\\n              104,\\n              105,\\n              106,\\n              107,\\n              108,\\n              109,\\n              110,\\n              111,\\n              112,\\n              113,\\n              114,\\n              115,\\n              116,\\n              117,\\n              118,\\n              119,\\n              120,\\n              121,\\n              122,\\n              123,\\n              124,\\n              125,\\n              126,\\n              127,\\n              128,\\n              129,\\n              130,\\n              131,\\n              132,\\n              133,\\n              134,\\n              135,\\n              136,\\n              137,\\n              138,\\n              139,\\n              140,\\n              141,\\n              142,\\n              143,\\n              144,\\n              145,\\n              146,\\n              147,\\n              148,\\n              149,\\n              150,\\n              151,\\n              152,\\n              153,\\n              154,\\n              155,\\n              156,\\n              157,\\n              158,\\n              159,\\n              160,\\n              161,\\n              162,\\n              163,\\n              164,\\n              165,\\n              166,\\n              167,\\n              168,\\n              169,\\n              170,\\n              171,\\n              172,\\n              173,\\n              174,\\n              175,\\n              176,\\n              177,\\n              178,\\n              179,\\n              180,\\n              181,\\n              182,\\n              183,\\n              184,\\n              185,\\n              186,\\n              187,\\n              188,\\n              189,\\n              190,\\n              191,\\n              192,\\n              193,\\n              194,\\n              195,\\n              196,\\n              197,\\n              198,\\n              199,\\n              200,\\n              201,\\n              202,\\n              203,\\n              204,\\n              205,\\n              206,\\n              207,\\n              208,\\n              209,\\n              210,\\n              211,\\n              212,\\n              213,\\n              214,\\n              215,\\n              216,\\n              217,\\n              218,\\n              219,\\n              220,\\n              221,\\n              222,\\n              223,\\n              224,\\n              225,\\n              226,\\n              227,\\n              228,\\n              229,\\n              230,\\n              231,\\n              232,\\n              233,\\n              234,\\n              235,\\n              236,\\n              237,\\n              238,\\n              239,\\n              240,\\n              241,\\n              242,\\n              243,\\n              244,\\n              245,\\n              247,\\n              248,\\n              249,\\n              250,\\n              251,\\n              252,\\n              253,\\n              254,\\n              255,\\n              256,\\n              257,\\n              258,\\n              259,\\n              260,\\n              261,\\n              262,\\n              263,\\n              264,\\n              265,\\n              266,\\n              267,\\n              268,\\n              269,\\n              270,\\n              271,\\n              272,\\n              273,\\n              274,\\n              275,\\n              276,\\n              277,\\n              278,\\n              279,\\n              280,\\n              281,\\n              282,\\n              283,\\n              284,\\n              285,\\n              287,\\n              288,\\n              289,\\n              290,\\n              291,\\n              292,\\n              293,\\n              294,\\n              295,\\n              296,\\n              297,\\n              298,\\n              299,\\n              300,\\n              301,\\n              302,\\n              303,\\n              304,\\n              305,\\n              306,\\n              307,\\n              308,\\n              309,\\n              310,\\n              311,\\n              312,\\n              313,\\n              314,\\n              315,\\n              316,\\n              317,\\n              318,\\n              319,\\n              320,\\n              321,\\n              322,\\n              323,\\n              325,\\n              326,\\n              327,\\n              328,\\n              329,\\n              330,\\n              331,\\n              332,\\n              333,\\n              334,\\n              335,\\n              337,\\n              338,\\n              340,\\n              341,\\n              342,\\n              343\\n            ]\\n          },\\n          \\\"data\\\": [\\n            [\\n              \\\"Adelie\\\",\\n              \\\"Torgersen\\\",\\n              39.1,\\n              18.7,\\n              181.0,\\n              3750.0,\\n              \\\"Male\\\"\\n            ],\\n            [\\n              \\\"Adelie\\\",\\n              \\\"Torgersen\\\",\\n              39.5,\\n              17.4,\\n              186.0,\\n              3800.0,\\n              \\\"Female\\\"\\n            ],\\n            [\\n              \\\"Adelie\\\",\\n              \\\"Torgersen\\\",\\n              40.3,\\n              18.0,\\n              195.0,\\n              3250.0,\\n              \\\"Female\\\"\\n            ],\\n            [\\n              \\\"Adelie\\\",\\n              \\\"Torgersen\\\",\\n              36.7,\\n              19.3,\\n              193.0,\\n              3450.0,\\n              \\\"Female\\\"\\n            ],\\n            [\\n              \\\"Adelie\\\",\\n              \\\"Torgersen\\\",\\n              39.3,\\n              20.6,\\n              190.0,\\n              3650.0,\\n              \\\"Male\\\"\\n            ],\\n            [\\n              \\\"Adelie\\\",\\n              \\\"Torgersen\\\",\\n              38.9,\\n              17.8,\\n              181.0,\\n              3625.0,\\n              \\\"Female\\\"\\n            ],\\n            [\\n              \\\"Adelie\\\",\\n              \\\"Torgersen\\\",\\n              39.2,\\n              19.6,\\n              195.0,\\n              4675.0,\\n              \\\"Male\\\"\\n            ],\\n            [\\n              \\\"Adelie\\\",\\n              \\\"Torgersen\\\",\\n              41.1,\\n              17.6,\\n              182.0,\\n              3200.0,\\n              \\\"Female\\\"\\n            ],\\n            [\\n              \\\"Adelie\\\",\\n              \\\"Torgersen\\\",\\n              38.6,\\n              21.2,\\n              191.0,\\n              3800.0,\\n              \\\"Male\\\"\\n            ],\\n            [\\n              \\\"Adelie\\\",\\n              \\\"Torgersen\\\",\\n              34.6,\\n              21.1,\\n              198.0,\\n              4400.0,\\n              \\\"Male\\\"\\n            ],\\n            [\\n              \\\"Adelie\\\",\\n              \\\"Torgersen\\\",\\n              36.6,\\n              17.8,\\n              185.0,\\n              3700.0,\\n              \\\"Female\\\"\\n            ],\\n            [\\n              \\\"Adelie\\\",\\n              \\\"Torgersen\\\",\\n              38.7,\\n              19.0,\\n              195.0,\\n              3450.0,\\n              \\\"Female\\\"\\n            ],\\n            [\\n              \\\"Adelie\\\",\\n              \\\"Torgersen\\\",\\n              42.5,\\n              20.7,\\n              197.0,\\n              4500.0,\\n              \\\"Male\\\"\\n            ],\\n            [\\n              \\\"Adelie\\\",\\n              \\\"Torgersen\\\",\\n              34.4,\\n              18.4,\\n              184.0,\\n              3325.0,\\n              \\\"Female\\\"\\n            ],\\n            [\\n              \\\"Adelie\\\",\\n              \\\"Torgersen\\\",\\n              46.0,\\n              21.5,\\n              194.0,\\n              4200.0,\\n              \\\"Male\\\"\\n            ],\\n            [\\n              \\\"Adelie\\\",\\n              \\\"Biscoe\\\",\\n              37.8,\\n              18.3,\\n              174.0,\\n              3400.0,\\n              \\\"Female\\\"\\n            ],\\n            [\\n              \\\"Adelie\\\",\\n              \\\"Biscoe\\\",\\n              37.7,\\n              18.7,\\n              180.0,\\n              3600.0,\\n              \\\"Male\\\"\\n            ],\\n            [\\n              \\\"Adelie\\\",\\n              \\\"Biscoe\\\",\\n              35.9,\\n              19.2,\\n              189.0,\\n              3800.0,\\n              \\\"Female\\\"\\n            ],\\n            [\\n              \\\"Adelie\\\",\\n              \\\"Biscoe\\\",\\n              38.2,\\n              18.1,\\n              185.0,\\n              3950.0,\\n              \\\"Male\\\"\\n            ],\\n            [\\n              \\\"Adelie\\\",\\n              \\\"Biscoe\\\",\\n              38.8,\\n              17.2,\\n              180.0,\\n              3800.0,\\n              \\\"Male\\\"\\n            ],\\n            [\\n              \\\"Adelie\\\",\\n              \\\"Biscoe\\\",\\n              35.3,\\n              18.9,\\n              187.0,\\n              3800.0,\\n              \\\"Female\\\"\\n            ],\\n            [\\n              \\\"Adelie\\\",\\n              \\\"Biscoe\\\",\\n              40.6,\\n              18.6,\\n              183.0,\\n              3550.0,\\n              \\\"Male\\\"\\n            ],\\n            [\\n              \\\"Adelie\\\",\\n              \\\"Biscoe\\\",\\n              40.5,\\n              17.9,\\n              187.0,\\n              3200.0,\\n              \\\"Female\\\"\\n            ],\\n            [\\n              \\\"Adelie\\\",\\n              \\\"Biscoe\\\",\\n              37.9,\\n              18.6,\\n              172.0,\\n              3150.0,\\n              \\\"Female\\\"\\n            ],\\n            [\\n              \\\"Adelie\\\",\\n              \\\"Biscoe\\\",\\n              40.5,\\n              18.9,\\n              180.0,\\n              3950.0,\\n              \\\"Male\\\"\\n            ],\\n            [\\n              \\\"Adelie\\\",\\n              \\\"Dream\\\",\\n              39.5,\\n              16.7,\\n              178.0,\\n              3250.0,\\n              \\\"Female\\\"\\n            ],\\n            [\\n              \\\"Adelie\\\",\\n              \\\"Dream\\\",\\n              37.2,\\n              18.1,\\n              178.0,\\n              3900.0,\\n              \\\"Male\\\"\\n            ],\\n            [\\n              \\\"Adelie\\\",\\n              \\\"Dream\\\",\\n              39.5,\\n              17.8,\\n              188.0,\\n              3300.0,\\n              \\\"Female\\\"\\n            ],\\n            [\\n              \\\"Adelie\\\",\\n              \\\"Dream\\\",\\n              40.9,\\n              18.9,\\n              184.0,\\n              3900.0,\\n              \\\"Male\\\"\\n            ],\\n            [\\n              \\\"Adelie\\\",\\n              \\\"Dream\\\",\\n              36.4,\\n              17.0,\\n              195.0,\\n              3325.0,\\n              \\\"Female\\\"\\n            ],\\n            [\\n              \\\"Adelie\\\",\\n              \\\"Dream\\\",\\n              39.2,\\n              21.1,\\n              196.0,\\n              4150.0,\\n              \\\"Male\\\"\\n            ],\\n            [\\n              \\\"Adelie\\\",\\n              \\\"Dream\\\",\\n              38.8,\\n              20.0,\\n              190.0,\\n              3950.0,\\n              \\\"Male\\\"\\n            ],\\n            [\\n              \\\"Adelie\\\",\\n              \\\"Dream\\\",\\n              42.2,\\n              18.5,\\n              180.0,\\n              3550.0,\\n              \\\"Female\\\"\\n            ],\\n            [\\n              \\\"Adelie\\\",\\n              \\\"Dream\\\",\\n              37.6,\\n              19.3,\\n              181.0,\\n              3300.0,\\n              \\\"Female\\\"\\n            ],\\n            [\\n              \\\"Adelie\\\",\\n              \\\"Dream\\\",\\n              39.8,\\n              19.1,\\n              184.0,\\n              4650.0,\\n              \\\"Male\\\"\\n            ],\\n            [\\n              \\\"Adelie\\\",\\n              \\\"Dream\\\",\\n              36.5,\\n              18.0,\\n              182.0,\\n              3150.0,\\n              \\\"Female\\\"\\n            ],\\n            [\\n              \\\"Adelie\\\",\\n              \\\"Dream\\\",\\n              40.8,\\n              18.4,\\n              195.0,\\n              3900.0,\\n              \\\"Male\\\"\\n            ],\\n            [\\n              \\\"Adelie\\\",\\n              \\\"Dream\\\",\\n              36.0,\\n              18.5,\\n              186.0,\\n              3100.0,\\n              \\\"Female\\\"\\n            ],\\n            [\\n              \\\"Adelie\\\",\\n              \\\"Dream\\\",\\n              44.1,\\n              19.7,\\n              196.0,\\n              4400.0,\\n              \\\"Male\\\"\\n            ],\\n            [\\n              \\\"Adelie\\\",\\n              \\\"Dream\\\",\\n              37.0,\\n              16.9,\\n              185.0,\\n              3000.0,\\n              \\\"Female\\\"\\n            ],\\n            [\\n              \\\"Adelie\\\",\\n              \\\"Dream\\\",\\n              39.6,\\n              18.8,\\n              190.0,\\n              4600.0,\\n              \\\"Male\\\"\\n            ],\\n            [\\n              \\\"Adelie\\\",\\n              \\\"Dream\\\",\\n              41.1,\\n              19.0,\\n              182.0,\\n              3425.0,\\n              \\\"Male\\\"\\n            ],\\n            [\\n              \\\"Adelie\\\",\\n              \\\"Dream\\\",\\n              36.0,\\n              17.9,\\n              190.0,\\n              3450.0,\\n              \\\"Female\\\"\\n            ],\\n            [\\n              \\\"Adelie\\\",\\n              \\\"Dream\\\",\\n              42.3,\\n              21.2,\\n              191.0,\\n              4150.0,\\n              \\\"Male\\\"\\n            ],\\n            [\\n              \\\"Adelie\\\",\\n              \\\"Biscoe\\\",\\n              39.6,\\n              17.7,\\n              186.0,\\n              3500.0,\\n              \\\"Female\\\"\\n            ],\\n            [\\n              \\\"Adelie\\\",\\n              \\\"Biscoe\\\",\\n              40.1,\\n              18.9,\\n              188.0,\\n              4300.0,\\n              \\\"Male\\\"\\n            ],\\n            [\\n              \\\"Adelie\\\",\\n              \\\"Biscoe\\\",\\n              35.0,\\n              17.9,\\n              190.0,\\n              3450.0,\\n              \\\"Female\\\"\\n            ],\\n            [\\n              \\\"Adelie\\\",\\n              \\\"Biscoe\\\",\\n              42.0,\\n              19.5,\\n              200.0,\\n              4050.0,\\n              \\\"Male\\\"\\n            ],\\n            [\\n              \\\"Adelie\\\",\\n              \\\"Biscoe\\\",\\n              34.5,\\n              18.1,\\n              187.0,\\n              2900.0,\\n              \\\"Female\\\"\\n            ],\\n            [\\n              \\\"Adelie\\\",\\n              \\\"Biscoe\\\",\\n              41.4,\\n              18.6,\\n              191.0,\\n              3700.0,\\n              \\\"Male\\\"\\n            ],\\n            [\\n              \\\"Adelie\\\",\\n              \\\"Biscoe\\\",\\n              39.0,\\n              17.5,\\n              186.0,\\n              3550.0,\\n              \\\"Female\\\"\\n            ],\\n            [\\n              \\\"Adelie\\\",\\n              \\\"Biscoe\\\",\\n              40.6,\\n              18.8,\\n              193.0,\\n              3800.0,\\n              \\\"Male\\\"\\n            ],\\n            [\\n              \\\"Adelie\\\",\\n              \\\"Biscoe\\\",\\n              36.5,\\n              16.6,\\n              181.0,\\n              2850.0,\\n              \\\"Female\\\"\\n            ],\\n            [\\n              \\\"Adelie\\\",\\n              \\\"Biscoe\\\",\\n              37.6,\\n              19.1,\\n              194.0,\\n              3750.0,\\n              \\\"Male\\\"\\n            ],\\n            [\\n              \\\"Adelie\\\",\\n              \\\"Biscoe\\\",\\n              35.7,\\n              16.9,\\n              185.0,\\n              3150.0,\\n              \\\"Female\\\"\\n            ],\\n            [\\n              \\\"Adelie\\\",\\n              \\\"Biscoe\\\",\\n              41.3,\\n              21.1,\\n              195.0,\\n              4400.0,\\n              \\\"Male\\\"\\n            ],\\n            [\\n              \\\"Adelie\\\",\\n              \\\"Biscoe\\\",\\n              37.6,\\n              17.0,\\n              185.0,\\n              3600.0,\\n              \\\"Female\\\"\\n            ],\\n            [\\n              \\\"Adelie\\\",\\n              \\\"Biscoe\\\",\\n              41.1,\\n              18.2,\\n              192.0,\\n              4050.0,\\n              \\\"Male\\\"\\n            ],\\n            [\\n              \\\"Adelie\\\",\\n              \\\"Biscoe\\\",\\n              36.4,\\n              17.1,\\n              184.0,\\n              2850.0,\\n              \\\"Female\\\"\\n            ],\\n            [\\n              \\\"Adelie\\\",\\n              \\\"Biscoe\\\",\\n              41.6,\\n              18.0,\\n              192.0,\\n              3950.0,\\n              \\\"Male\\\"\\n            ],\\n            [\\n              \\\"Adelie\\\",\\n              \\\"Biscoe\\\",\\n              35.5,\\n              16.2,\\n              195.0,\\n              3350.0,\\n              \\\"Female\\\"\\n            ],\\n            [\\n              \\\"Adelie\\\",\\n              \\\"Biscoe\\\",\\n              41.1,\\n              19.1,\\n              188.0,\\n              4100.0,\\n              \\\"Male\\\"\\n            ],\\n            [\\n              \\\"Adelie\\\",\\n              \\\"Torgersen\\\",\\n              35.9,\\n              16.6,\\n              190.0,\\n              3050.0,\\n              \\\"Female\\\"\\n            ],\\n            [\\n              \\\"Adelie\\\",\\n              \\\"Torgersen\\\",\\n              41.8,\\n              19.4,\\n              198.0,\\n              4450.0,\\n              \\\"Male\\\"\\n            ],\\n            [\\n              \\\"Adelie\\\",\\n              \\\"Torgersen\\\",\\n              33.5,\\n              19.0,\\n              190.0,\\n              3600.0,\\n              \\\"Female\\\"\\n            ],\\n            [\\n              \\\"Adelie\\\",\\n              \\\"Torgersen\\\",\\n              39.7,\\n              18.4,\\n              190.0,\\n              3900.0,\\n              \\\"Male\\\"\\n            ],\\n            [\\n              \\\"Adelie\\\",\\n              \\\"Torgersen\\\",\\n              39.6,\\n              17.2,\\n              196.0,\\n              3550.0,\\n              \\\"Female\\\"\\n            ],\\n            [\\n              \\\"Adelie\\\",\\n              \\\"Torgersen\\\",\\n              45.8,\\n              18.9,\\n              197.0,\\n              4150.0,\\n              \\\"Male\\\"\\n            ],\\n            [\\n              \\\"Adelie\\\",\\n              \\\"Torgersen\\\",\\n              35.5,\\n              17.5,\\n              190.0,\\n              3700.0,\\n              \\\"Female\\\"\\n            ],\\n            [\\n              \\\"Adelie\\\",\\n              \\\"Torgersen\\\",\\n              42.8,\\n              18.5,\\n              195.0,\\n              4250.0,\\n              \\\"Male\\\"\\n            ],\\n            [\\n              \\\"Adelie\\\",\\n              \\\"Torgersen\\\",\\n              40.9,\\n              16.8,\\n              191.0,\\n              3700.0,\\n              \\\"Female\\\"\\n            ],\\n            [\\n              \\\"Adelie\\\",\\n              \\\"Torgersen\\\",\\n              37.2,\\n              19.4,\\n              184.0,\\n              3900.0,\\n              \\\"Male\\\"\\n            ],\\n            [\\n              \\\"Adelie\\\",\\n              \\\"Torgersen\\\",\\n              36.2,\\n              16.1,\\n              187.0,\\n              3550.0,\\n              \\\"Female\\\"\\n            ],\\n            [\\n              \\\"Adelie\\\",\\n              \\\"Torgersen\\\",\\n              42.1,\\n              19.1,\\n              195.0,\\n              4000.0,\\n              \\\"Male\\\"\\n            ],\\n            [\\n              \\\"Adelie\\\",\\n              \\\"Torgersen\\\",\\n              34.6,\\n              17.2,\\n              189.0,\\n              3200.0,\\n              \\\"Female\\\"\\n            ],\\n            [\\n              \\\"Adelie\\\",\\n              \\\"Torgersen\\\",\\n              42.9,\\n              17.6,\\n              196.0,\\n              4700.0,\\n              \\\"Male\\\"\\n            ],\\n            [\\n              \\\"Adelie\\\",\\n              \\\"Torgersen\\\",\\n              36.7,\\n              18.8,\\n              187.0,\\n              3800.0,\\n              \\\"Female\\\"\\n            ],\\n            [\\n              \\\"Adelie\\\",\\n              \\\"Torgersen\\\",\\n              35.1,\\n              19.4,\\n              193.0,\\n              4200.0,\\n              \\\"Male\\\"\\n            ],\\n            [\\n              \\\"Adelie\\\",\\n              \\\"Dream\\\",\\n              37.3,\\n              17.8,\\n              191.0,\\n              3350.0,\\n              \\\"Female\\\"\\n            ],\\n            [\\n              \\\"Adelie\\\",\\n              \\\"Dream\\\",\\n              41.3,\\n              20.3,\\n              194.0,\\n              3550.0,\\n              \\\"Male\\\"\\n            ],\\n            [\\n              \\\"Adelie\\\",\\n              \\\"Dream\\\",\\n              36.3,\\n              19.5,\\n              190.0,\\n              3800.0,\\n              \\\"Male\\\"\\n            ],\\n            [\\n              \\\"Adelie\\\",\\n              \\\"Dream\\\",\\n              36.9,\\n              18.6,\\n              189.0,\\n              3500.0,\\n              \\\"Female\\\"\\n            ],\\n            [\\n              \\\"Adelie\\\",\\n              \\\"Dream\\\",\\n              38.3,\\n              19.2,\\n              189.0,\\n              3950.0,\\n              \\\"Male\\\"\\n            ],\\n            [\\n              \\\"Adelie\\\",\\n              \\\"Dream\\\",\\n              38.9,\\n              18.8,\\n              190.0,\\n              3600.0,\\n              \\\"Female\\\"\\n            ],\\n            [\\n              \\\"Adelie\\\",\\n              \\\"Dream\\\",\\n              35.7,\\n              18.0,\\n              202.0,\\n              3550.0,\\n              \\\"Female\\\"\\n            ],\\n            [\\n              \\\"Adelie\\\",\\n              \\\"Dream\\\",\\n              41.1,\\n              18.1,\\n              205.0,\\n              4300.0,\\n              \\\"Male\\\"\\n            ],\\n            [\\n              \\\"Adelie\\\",\\n              \\\"Dream\\\",\\n              34.0,\\n              17.1,\\n              185.0,\\n              3400.0,\\n              \\\"Female\\\"\\n            ],\\n            [\\n              \\\"Adelie\\\",\\n              \\\"Dream\\\",\\n              39.6,\\n              18.1,\\n              186.0,\\n              4450.0,\\n              \\\"Male\\\"\\n            ],\\n            [\\n              \\\"Adelie\\\",\\n              \\\"Dream\\\",\\n              36.2,\\n              17.3,\\n              187.0,\\n              3300.0,\\n              \\\"Female\\\"\\n            ],\\n            [\\n              \\\"Adelie\\\",\\n              \\\"Dream\\\",\\n              40.8,\\n              18.9,\\n              208.0,\\n              4300.0,\\n              \\\"Male\\\"\\n            ],\\n            [\\n              \\\"Adelie\\\",\\n              \\\"Dream\\\",\\n              38.1,\\n              18.6,\\n              190.0,\\n              3700.0,\\n              \\\"Female\\\"\\n            ],\\n            [\\n              \\\"Adelie\\\",\\n              \\\"Dream\\\",\\n              40.3,\\n              18.5,\\n              196.0,\\n              4350.0,\\n              \\\"Male\\\"\\n            ],\\n            [\\n              \\\"Adelie\\\",\\n              \\\"Dream\\\",\\n              33.1,\\n              16.1,\\n              178.0,\\n              2900.0,\\n              \\\"Female\\\"\\n            ],\\n            [\\n              \\\"Adelie\\\",\\n              \\\"Dream\\\",\\n              43.2,\\n              18.5,\\n              192.0,\\n              4100.0,\\n              \\\"Male\\\"\\n            ],\\n            [\\n              \\\"Adelie\\\",\\n              \\\"Biscoe\\\",\\n              35.0,\\n              17.9,\\n              192.0,\\n              3725.0,\\n              \\\"Female\\\"\\n            ],\\n            [\\n              \\\"Adelie\\\",\\n              \\\"Biscoe\\\",\\n              41.0,\\n              20.0,\\n              203.0,\\n              4725.0,\\n              \\\"Male\\\"\\n            ],\\n            [\\n              \\\"Adelie\\\",\\n              \\\"Biscoe\\\",\\n              37.7,\\n              16.0,\\n              183.0,\\n              3075.0,\\n              \\\"Female\\\"\\n            ],\\n            [\\n              \\\"Adelie\\\",\\n              \\\"Biscoe\\\",\\n              37.8,\\n              20.0,\\n              190.0,\\n              4250.0,\\n              \\\"Male\\\"\\n            ],\\n            [\\n              \\\"Adelie\\\",\\n              \\\"Biscoe\\\",\\n              37.9,\\n              18.6,\\n              193.0,\\n              2925.0,\\n              \\\"Female\\\"\\n            ],\\n            [\\n              \\\"Adelie\\\",\\n              \\\"Biscoe\\\",\\n              39.7,\\n              18.9,\\n              184.0,\\n              3550.0,\\n              \\\"Male\\\"\\n            ],\\n            [\\n              \\\"Adelie\\\",\\n              \\\"Biscoe\\\",\\n              38.6,\\n              17.2,\\n              199.0,\\n              3750.0,\\n              \\\"Female\\\"\\n            ],\\n            [\\n              \\\"Adelie\\\",\\n              \\\"Biscoe\\\",\\n              38.2,\\n              20.0,\\n              190.0,\\n              3900.0,\\n              \\\"Male\\\"\\n            ],\\n            [\\n              \\\"Adelie\\\",\\n              \\\"Biscoe\\\",\\n              38.1,\\n              17.0,\\n              181.0,\\n              3175.0,\\n              \\\"Female\\\"\\n            ],\\n            [\\n              \\\"Adelie\\\",\\n              \\\"Biscoe\\\",\\n              43.2,\\n              19.0,\\n              197.0,\\n              4775.0,\\n              \\\"Male\\\"\\n            ],\\n            [\\n              \\\"Adelie\\\",\\n              \\\"Biscoe\\\",\\n              38.1,\\n              16.5,\\n              198.0,\\n              3825.0,\\n              \\\"Female\\\"\\n            ],\\n            [\\n              \\\"Adelie\\\",\\n              \\\"Biscoe\\\",\\n              45.6,\\n              20.3,\\n              191.0,\\n              4600.0,\\n              \\\"Male\\\"\\n            ],\\n            [\\n              \\\"Adelie\\\",\\n              \\\"Biscoe\\\",\\n              39.7,\\n              17.7,\\n              193.0,\\n              3200.0,\\n              \\\"Female\\\"\\n            ],\\n            [\\n              \\\"Adelie\\\",\\n              \\\"Biscoe\\\",\\n              42.2,\\n              19.5,\\n              197.0,\\n              4275.0,\\n              \\\"Male\\\"\\n            ],\\n            [\\n              \\\"Adelie\\\",\\n              \\\"Biscoe\\\",\\n              39.6,\\n              20.7,\\n              191.0,\\n              3900.0,\\n              \\\"Female\\\"\\n            ],\\n            [\\n              \\\"Adelie\\\",\\n              \\\"Biscoe\\\",\\n              42.7,\\n              18.3,\\n              196.0,\\n              4075.0,\\n              \\\"Male\\\"\\n            ],\\n            [\\n              \\\"Adelie\\\",\\n              \\\"Torgersen\\\",\\n              38.6,\\n              17.0,\\n              188.0,\\n              2900.0,\\n              \\\"Female\\\"\\n            ],\\n            [\\n              \\\"Adelie\\\",\\n              \\\"Torgersen\\\",\\n              37.3,\\n              20.5,\\n              199.0,\\n              3775.0,\\n              \\\"Male\\\"\\n            ],\\n            [\\n              \\\"Adelie\\\",\\n              \\\"Torgersen\\\",\\n              35.7,\\n              17.0,\\n              189.0,\\n              3350.0,\\n              \\\"Female\\\"\\n            ],\\n            [\\n              \\\"Adelie\\\",\\n              \\\"Torgersen\\\",\\n              41.1,\\n              18.6,\\n              189.0,\\n              3325.0,\\n              \\\"Male\\\"\\n            ],\\n            [\\n              \\\"Adelie\\\",\\n              \\\"Torgersen\\\",\\n              36.2,\\n              17.2,\\n              187.0,\\n              3150.0,\\n              \\\"Female\\\"\\n            ],\\n            [\\n              \\\"Adelie\\\",\\n              \\\"Torgersen\\\",\\n              37.7,\\n              19.8,\\n              198.0,\\n              3500.0,\\n              \\\"Male\\\"\\n            ],\\n            [\\n              \\\"Adelie\\\",\\n              \\\"Torgersen\\\",\\n              40.2,\\n              17.0,\\n              176.0,\\n              3450.0,\\n              \\\"Female\\\"\\n            ],\\n            [\\n              \\\"Adelie\\\",\\n              \\\"Torgersen\\\",\\n              41.4,\\n              18.5,\\n              202.0,\\n              3875.0,\\n              \\\"Male\\\"\\n            ],\\n            [\\n              \\\"Adelie\\\",\\n              \\\"Torgersen\\\",\\n              35.2,\\n              15.9,\\n              186.0,\\n              3050.0,\\n              \\\"Female\\\"\\n            ],\\n            [\\n              \\\"Adelie\\\",\\n              \\\"Torgersen\\\",\\n              40.6,\\n              19.0,\\n              199.0,\\n              4000.0,\\n              \\\"Male\\\"\\n            ],\\n            [\\n              \\\"Adelie\\\",\\n              \\\"Torgersen\\\",\\n              38.8,\\n              17.6,\\n              191.0,\\n              3275.0,\\n              \\\"Female\\\"\\n            ],\\n            [\\n              \\\"Adelie\\\",\\n              \\\"Torgersen\\\",\\n              41.5,\\n              18.3,\\n              195.0,\\n              4300.0,\\n              \\\"Male\\\"\\n            ],\\n            [\\n              \\\"Adelie\\\",\\n              \\\"Torgersen\\\",\\n              39.0,\\n              17.1,\\n              191.0,\\n              3050.0,\\n              \\\"Female\\\"\\n            ],\\n            [\\n              \\\"Adelie\\\",\\n              \\\"Torgersen\\\",\\n              44.1,\\n              18.0,\\n              210.0,\\n              4000.0,\\n              \\\"Male\\\"\\n            ],\\n            [\\n              \\\"Adelie\\\",\\n              \\\"Torgersen\\\",\\n              38.5,\\n              17.9,\\n              190.0,\\n              3325.0,\\n              \\\"Female\\\"\\n            ],\\n            [\\n              \\\"Adelie\\\",\\n              \\\"Torgersen\\\",\\n              43.1,\\n              19.2,\\n              197.0,\\n              3500.0,\\n              \\\"Male\\\"\\n            ],\\n            [\\n              \\\"Adelie\\\",\\n              \\\"Dream\\\",\\n              36.8,\\n              18.5,\\n              193.0,\\n              3500.0,\\n              \\\"Female\\\"\\n            ],\\n            [\\n              \\\"Adelie\\\",\\n              \\\"Dream\\\",\\n              37.5,\\n              18.5,\\n              199.0,\\n              4475.0,\\n              \\\"Male\\\"\\n            ],\\n            [\\n              \\\"Adelie\\\",\\n              \\\"Dream\\\",\\n              38.1,\\n              17.6,\\n              187.0,\\n              3425.0,\\n              \\\"Female\\\"\\n            ],\\n            [\\n              \\\"Adelie\\\",\\n              \\\"Dream\\\",\\n              41.1,\\n              17.5,\\n              190.0,\\n              3900.0,\\n              \\\"Male\\\"\\n            ],\\n            [\\n              \\\"Adelie\\\",\\n              \\\"Dream\\\",\\n              35.6,\\n              17.5,\\n              191.0,\\n              3175.0,\\n              \\\"Female\\\"\\n            ],\\n            [\\n              \\\"Adelie\\\",\\n              \\\"Dream\\\",\\n              40.2,\\n              20.1,\\n              200.0,\\n              3975.0,\\n              \\\"Male\\\"\\n            ],\\n            [\\n              \\\"Adelie\\\",\\n              \\\"Dream\\\",\\n              37.0,\\n              16.5,\\n              185.0,\\n              3400.0,\\n              \\\"Female\\\"\\n            ],\\n            [\\n              \\\"Adelie\\\",\\n              \\\"Dream\\\",\\n              39.7,\\n              17.9,\\n              193.0,\\n              4250.0,\\n              \\\"Male\\\"\\n            ],\\n            [\\n              \\\"Adelie\\\",\\n              \\\"Dream\\\",\\n              40.2,\\n              17.1,\\n              193.0,\\n              3400.0,\\n              \\\"Female\\\"\\n            ],\\n            [\\n              \\\"Adelie\\\",\\n              \\\"Dream\\\",\\n              40.6,\\n              17.2,\\n              187.0,\\n              3475.0,\\n              \\\"Male\\\"\\n            ],\\n            [\\n              \\\"Adelie\\\",\\n              \\\"Dream\\\",\\n              32.1,\\n              15.5,\\n              188.0,\\n              3050.0,\\n              \\\"Female\\\"\\n            ],\\n            [\\n              \\\"Adelie\\\",\\n              \\\"Dream\\\",\\n              40.7,\\n              17.0,\\n              190.0,\\n              3725.0,\\n              \\\"Male\\\"\\n            ],\\n            [\\n              \\\"Adelie\\\",\\n              \\\"Dream\\\",\\n              37.3,\\n              16.8,\\n              192.0,\\n              3000.0,\\n              \\\"Female\\\"\\n            ],\\n            [\\n              \\\"Adelie\\\",\\n              \\\"Dream\\\",\\n              39.0,\\n              18.7,\\n              185.0,\\n              3650.0,\\n              \\\"Male\\\"\\n            ],\\n            [\\n              \\\"Adelie\\\",\\n              \\\"Dream\\\",\\n              39.2,\\n              18.6,\\n              190.0,\\n              4250.0,\\n              \\\"Male\\\"\\n            ],\\n            [\\n              \\\"Adelie\\\",\\n              \\\"Dream\\\",\\n              36.6,\\n              18.4,\\n              184.0,\\n              3475.0,\\n              \\\"Female\\\"\\n            ],\\n            [\\n              \\\"Adelie\\\",\\n              \\\"Dream\\\",\\n              36.0,\\n              17.8,\\n              195.0,\\n              3450.0,\\n              \\\"Female\\\"\\n            ],\\n            [\\n              \\\"Adelie\\\",\\n              \\\"Dream\\\",\\n              37.8,\\n              18.1,\\n              193.0,\\n              3750.0,\\n              \\\"Male\\\"\\n            ],\\n            [\\n              \\\"Adelie\\\",\\n              \\\"Dream\\\",\\n              36.0,\\n              17.1,\\n              187.0,\\n              3700.0,\\n              \\\"Female\\\"\\n            ],\\n            [\\n              \\\"Adelie\\\",\\n              \\\"Dream\\\",\\n              41.5,\\n              18.5,\\n              201.0,\\n              4000.0,\\n              \\\"Male\\\"\\n            ],\\n            [\\n              \\\"Chinstrap\\\",\\n              \\\"Dream\\\",\\n              46.5,\\n              17.9,\\n              192.0,\\n              3500.0,\\n              \\\"Female\\\"\\n            ],\\n            [\\n              \\\"Chinstrap\\\",\\n              \\\"Dream\\\",\\n              50.0,\\n              19.5,\\n              196.0,\\n              3900.0,\\n              \\\"Male\\\"\\n            ],\\n            [\\n              \\\"Chinstrap\\\",\\n              \\\"Dream\\\",\\n              51.3,\\n              19.2,\\n              193.0,\\n              3650.0,\\n              \\\"Male\\\"\\n            ],\\n            [\\n              \\\"Chinstrap\\\",\\n              \\\"Dream\\\",\\n              45.4,\\n              18.7,\\n              188.0,\\n              3525.0,\\n              \\\"Female\\\"\\n            ],\\n            [\\n              \\\"Chinstrap\\\",\\n              \\\"Dream\\\",\\n              52.7,\\n              19.8,\\n              197.0,\\n              3725.0,\\n              \\\"Male\\\"\\n            ],\\n            [\\n              \\\"Chinstrap\\\",\\n              \\\"Dream\\\",\\n              45.2,\\n              17.8,\\n              198.0,\\n              3950.0,\\n              \\\"Female\\\"\\n            ],\\n            [\\n              \\\"Chinstrap\\\",\\n              \\\"Dream\\\",\\n              46.1,\\n              18.2,\\n              178.0,\\n              3250.0,\\n              \\\"Female\\\"\\n            ],\\n            [\\n              \\\"Chinstrap\\\",\\n              \\\"Dream\\\",\\n              51.3,\\n              18.2,\\n              197.0,\\n              3750.0,\\n              \\\"Male\\\"\\n            ],\\n            [\\n              \\\"Chinstrap\\\",\\n              \\\"Dream\\\",\\n              46.0,\\n              18.9,\\n              195.0,\\n              4150.0,\\n              \\\"Female\\\"\\n            ],\\n            [\\n              \\\"Chinstrap\\\",\\n              \\\"Dream\\\",\\n              51.3,\\n              19.9,\\n              198.0,\\n              3700.0,\\n              \\\"Male\\\"\\n            ],\\n            [\\n              \\\"Chinstrap\\\",\\n              \\\"Dream\\\",\\n              46.6,\\n              17.8,\\n              193.0,\\n              3800.0,\\n              \\\"Female\\\"\\n            ],\\n            [\\n              \\\"Chinstrap\\\",\\n              \\\"Dream\\\",\\n              51.7,\\n              20.3,\\n              194.0,\\n              3775.0,\\n              \\\"Male\\\"\\n            ],\\n            [\\n              \\\"Chinstrap\\\",\\n              \\\"Dream\\\",\\n              47.0,\\n              17.3,\\n              185.0,\\n              3700.0,\\n              \\\"Female\\\"\\n            ],\\n            [\\n              \\\"Chinstrap\\\",\\n              \\\"Dream\\\",\\n              52.0,\\n              18.1,\\n              201.0,\\n              4050.0,\\n              \\\"Male\\\"\\n            ],\\n            [\\n              \\\"Chinstrap\\\",\\n              \\\"Dream\\\",\\n              45.9,\\n              17.1,\\n              190.0,\\n              3575.0,\\n              \\\"Female\\\"\\n            ],\\n            [\\n              \\\"Chinstrap\\\",\\n              \\\"Dream\\\",\\n              50.5,\\n              19.6,\\n              201.0,\\n              4050.0,\\n              \\\"Male\\\"\\n            ],\\n            [\\n              \\\"Chinstrap\\\",\\n              \\\"Dream\\\",\\n              50.3,\\n              20.0,\\n              197.0,\\n              3300.0,\\n              \\\"Male\\\"\\n            ],\\n            [\\n              \\\"Chinstrap\\\",\\n              \\\"Dream\\\",\\n              58.0,\\n              17.8,\\n              181.0,\\n              3700.0,\\n              \\\"Female\\\"\\n            ],\\n            [\\n              \\\"Chinstrap\\\",\\n              \\\"Dream\\\",\\n              46.4,\\n              18.6,\\n              190.0,\\n              3450.0,\\n              \\\"Female\\\"\\n            ],\\n            [\\n              \\\"Chinstrap\\\",\\n              \\\"Dream\\\",\\n              49.2,\\n              18.2,\\n              195.0,\\n              4400.0,\\n              \\\"Male\\\"\\n            ],\\n            [\\n              \\\"Chinstrap\\\",\\n              \\\"Dream\\\",\\n              42.4,\\n              17.3,\\n              181.0,\\n              3600.0,\\n              \\\"Female\\\"\\n            ],\\n            [\\n              \\\"Chinstrap\\\",\\n              \\\"Dream\\\",\\n              48.5,\\n              17.5,\\n              191.0,\\n              3400.0,\\n              \\\"Male\\\"\\n            ],\\n            [\\n              \\\"Chinstrap\\\",\\n              \\\"Dream\\\",\\n              43.2,\\n              16.6,\\n              187.0,\\n              2900.0,\\n              \\\"Female\\\"\\n            ],\\n            [\\n              \\\"Chinstrap\\\",\\n              \\\"Dream\\\",\\n              50.6,\\n              19.4,\\n              193.0,\\n              3800.0,\\n              \\\"Male\\\"\\n            ],\\n            [\\n              \\\"Chinstrap\\\",\\n              \\\"Dream\\\",\\n              46.7,\\n              17.9,\\n              195.0,\\n              3300.0,\\n              \\\"Female\\\"\\n            ],\\n            [\\n              \\\"Chinstrap\\\",\\n              \\\"Dream\\\",\\n              52.0,\\n              19.0,\\n              197.0,\\n              4150.0,\\n              \\\"Male\\\"\\n            ],\\n            [\\n              \\\"Chinstrap\\\",\\n              \\\"Dream\\\",\\n              50.5,\\n              18.4,\\n              200.0,\\n              3400.0,\\n              \\\"Female\\\"\\n            ],\\n            [\\n              \\\"Chinstrap\\\",\\n              \\\"Dream\\\",\\n              49.5,\\n              19.0,\\n              200.0,\\n              3800.0,\\n              \\\"Male\\\"\\n            ],\\n            [\\n              \\\"Chinstrap\\\",\\n              \\\"Dream\\\",\\n              46.4,\\n              17.8,\\n              191.0,\\n              3700.0,\\n              \\\"Female\\\"\\n            ],\\n            [\\n              \\\"Chinstrap\\\",\\n              \\\"Dream\\\",\\n              52.8,\\n              20.0,\\n              205.0,\\n              4550.0,\\n              \\\"Male\\\"\\n            ],\\n            [\\n              \\\"Chinstrap\\\",\\n              \\\"Dream\\\",\\n              40.9,\\n              16.6,\\n              187.0,\\n              3200.0,\\n              \\\"Female\\\"\\n            ],\\n            [\\n              \\\"Chinstrap\\\",\\n              \\\"Dream\\\",\\n              54.2,\\n              20.8,\\n              201.0,\\n              4300.0,\\n              \\\"Male\\\"\\n            ],\\n            [\\n              \\\"Chinstrap\\\",\\n              \\\"Dream\\\",\\n              42.5,\\n              16.7,\\n              187.0,\\n              3350.0,\\n              \\\"Female\\\"\\n            ],\\n            [\\n              \\\"Chinstrap\\\",\\n              \\\"Dream\\\",\\n              51.0,\\n              18.8,\\n              203.0,\\n              4100.0,\\n              \\\"Male\\\"\\n            ],\\n            [\\n              \\\"Chinstrap\\\",\\n              \\\"Dream\\\",\\n              49.7,\\n              18.6,\\n              195.0,\\n              3600.0,\\n              \\\"Male\\\"\\n            ],\\n            [\\n              \\\"Chinstrap\\\",\\n              \\\"Dream\\\",\\n              47.5,\\n              16.8,\\n              199.0,\\n              3900.0,\\n              \\\"Female\\\"\\n            ],\\n            [\\n              \\\"Chinstrap\\\",\\n              \\\"Dream\\\",\\n              47.6,\\n              18.3,\\n              195.0,\\n              3850.0,\\n              \\\"Female\\\"\\n            ],\\n            [\\n              \\\"Chinstrap\\\",\\n              \\\"Dream\\\",\\n              52.0,\\n              20.7,\\n              210.0,\\n              4800.0,\\n              \\\"Male\\\"\\n            ],\\n            [\\n              \\\"Chinstrap\\\",\\n              \\\"Dream\\\",\\n              46.9,\\n              16.6,\\n              192.0,\\n              2700.0,\\n              \\\"Female\\\"\\n            ],\\n            [\\n              \\\"Chinstrap\\\",\\n              \\\"Dream\\\",\\n              53.5,\\n              19.9,\\n              205.0,\\n              4500.0,\\n              \\\"Male\\\"\\n            ],\\n            [\\n              \\\"Chinstrap\\\",\\n              \\\"Dream\\\",\\n              49.0,\\n              19.5,\\n              210.0,\\n              3950.0,\\n              \\\"Male\\\"\\n            ],\\n            [\\n              \\\"Chinstrap\\\",\\n              \\\"Dream\\\",\\n              46.2,\\n              17.5,\\n              187.0,\\n              3650.0,\\n              \\\"Female\\\"\\n            ],\\n            [\\n              \\\"Chinstrap\\\",\\n              \\\"Dream\\\",\\n              50.9,\\n              19.1,\\n              196.0,\\n              3550.0,\\n              \\\"Male\\\"\\n            ],\\n            [\\n              \\\"Chinstrap\\\",\\n              \\\"Dream\\\",\\n              45.5,\\n              17.0,\\n              196.0,\\n              3500.0,\\n              \\\"Female\\\"\\n            ],\\n            [\\n              \\\"Chinstrap\\\",\\n              \\\"Dream\\\",\\n              50.9,\\n              17.9,\\n              196.0,\\n              3675.0,\\n              \\\"Female\\\"\\n            ],\\n            [\\n              \\\"Chinstrap\\\",\\n              \\\"Dream\\\",\\n              50.8,\\n              18.5,\\n              201.0,\\n              4450.0,\\n              \\\"Male\\\"\\n            ],\\n            [\\n              \\\"Chinstrap\\\",\\n              \\\"Dream\\\",\\n              50.1,\\n              17.9,\\n              190.0,\\n              3400.0,\\n              \\\"Female\\\"\\n            ],\\n            [\\n              \\\"Chinstrap\\\",\\n              \\\"Dream\\\",\\n              49.0,\\n              19.6,\\n              212.0,\\n              4300.0,\\n              \\\"Male\\\"\\n            ],\\n            [\\n              \\\"Chinstrap\\\",\\n              \\\"Dream\\\",\\n              51.5,\\n              18.7,\\n              187.0,\\n              3250.0,\\n              \\\"Male\\\"\\n            ],\\n            [\\n              \\\"Chinstrap\\\",\\n              \\\"Dream\\\",\\n              49.8,\\n              17.3,\\n              198.0,\\n              3675.0,\\n              \\\"Female\\\"\\n            ],\\n            [\\n              \\\"Chinstrap\\\",\\n              \\\"Dream\\\",\\n              48.1,\\n              16.4,\\n              199.0,\\n              3325.0,\\n              \\\"Female\\\"\\n            ],\\n            [\\n              \\\"Chinstrap\\\",\\n              \\\"Dream\\\",\\n              51.4,\\n              19.0,\\n              201.0,\\n              3950.0,\\n              \\\"Male\\\"\\n            ],\\n            [\\n              \\\"Chinstrap\\\",\\n              \\\"Dream\\\",\\n              45.7,\\n              17.3,\\n              193.0,\\n              3600.0,\\n              \\\"Female\\\"\\n            ],\\n            [\\n              \\\"Chinstrap\\\",\\n              \\\"Dream\\\",\\n              50.7,\\n              19.7,\\n              203.0,\\n              4050.0,\\n              \\\"Male\\\"\\n            ],\\n            [\\n              \\\"Chinstrap\\\",\\n              \\\"Dream\\\",\\n              42.5,\\n              17.3,\\n              187.0,\\n              3350.0,\\n              \\\"Female\\\"\\n            ],\\n            [\\n              \\\"Chinstrap\\\",\\n              \\\"Dream\\\",\\n              52.2,\\n              18.8,\\n              197.0,\\n              3450.0,\\n              \\\"Male\\\"\\n            ],\\n            [\\n              \\\"Chinstrap\\\",\\n              \\\"Dream\\\",\\n              45.2,\\n              16.6,\\n              191.0,\\n              3250.0,\\n              \\\"Female\\\"\\n            ],\\n            [\\n              \\\"Chinstrap\\\",\\n              \\\"Dream\\\",\\n              49.3,\\n              19.9,\\n              203.0,\\n              4050.0,\\n              \\\"Male\\\"\\n            ],\\n            [\\n              \\\"Chinstrap\\\",\\n              \\\"Dream\\\",\\n              50.2,\\n              18.8,\\n              202.0,\\n              3800.0,\\n              \\\"Male\\\"\\n            ],\\n            [\\n              \\\"Chinstrap\\\",\\n              \\\"Dream\\\",\\n              45.6,\\n              19.4,\\n              194.0,\\n              3525.0,\\n              \\\"Female\\\"\\n            ],\\n            [\\n              \\\"Chinstrap\\\",\\n              \\\"Dream\\\",\\n              51.9,\\n              19.5,\\n              206.0,\\n              3950.0,\\n              \\\"Male\\\"\\n            ],\\n            [\\n              \\\"Chinstrap\\\",\\n              \\\"Dream\\\",\\n              46.8,\\n              16.5,\\n              189.0,\\n              3650.0,\\n              \\\"Female\\\"\\n            ],\\n            [\\n              \\\"Chinstrap\\\",\\n              \\\"Dream\\\",\\n              45.7,\\n              17.0,\\n              195.0,\\n              3650.0,\\n              \\\"Female\\\"\\n            ],\\n            [\\n              \\\"Chinstrap\\\",\\n              \\\"Dream\\\",\\n              55.8,\\n              19.8,\\n              207.0,\\n              4000.0,\\n              \\\"Male\\\"\\n            ],\\n            [\\n              \\\"Chinstrap\\\",\\n              \\\"Dream\\\",\\n              43.5,\\n              18.1,\\n              202.0,\\n              3400.0,\\n              \\\"Female\\\"\\n            ],\\n            [\\n              \\\"Chinstrap\\\",\\n              \\\"Dream\\\",\\n              49.6,\\n              18.2,\\n              193.0,\\n              3775.0,\\n              \\\"Male\\\"\\n            ],\\n            [\\n              \\\"Chinstrap\\\",\\n              \\\"Dream\\\",\\n              50.8,\\n              19.0,\\n              210.0,\\n              4100.0,\\n              \\\"Male\\\"\\n            ],\\n            [\\n              \\\"Chinstrap\\\",\\n              \\\"Dream\\\",\\n              50.2,\\n              18.7,\\n              198.0,\\n              3775.0,\\n              \\\"Female\\\"\\n            ],\\n            [\\n              \\\"Gentoo\\\",\\n              \\\"Biscoe\\\",\\n              46.1,\\n              13.2,\\n              211.0,\\n              4500.0,\\n              \\\"Female\\\"\\n            ],\\n            [\\n              \\\"Gentoo\\\",\\n              \\\"Biscoe\\\",\\n              50.0,\\n              16.3,\\n              230.0,\\n              5700.0,\\n              \\\"Male\\\"\\n            ],\\n            [\\n              \\\"Gentoo\\\",\\n              \\\"Biscoe\\\",\\n              48.7,\\n              14.1,\\n              210.0,\\n              4450.0,\\n              \\\"Female\\\"\\n            ],\\n            [\\n              \\\"Gentoo\\\",\\n              \\\"Biscoe\\\",\\n              50.0,\\n              15.2,\\n              218.0,\\n              5700.0,\\n              \\\"Male\\\"\\n            ],\\n            [\\n              \\\"Gentoo\\\",\\n              \\\"Biscoe\\\",\\n              47.6,\\n              14.5,\\n              215.0,\\n              5400.0,\\n              \\\"Male\\\"\\n            ],\\n            [\\n              \\\"Gentoo\\\",\\n              \\\"Biscoe\\\",\\n              46.5,\\n              13.5,\\n              210.0,\\n              4550.0,\\n              \\\"Female\\\"\\n            ],\\n            [\\n              \\\"Gentoo\\\",\\n              \\\"Biscoe\\\",\\n              45.4,\\n              14.6,\\n              211.0,\\n              4800.0,\\n              \\\"Female\\\"\\n            ],\\n            [\\n              \\\"Gentoo\\\",\\n              \\\"Biscoe\\\",\\n              46.7,\\n              15.3,\\n              219.0,\\n              5200.0,\\n              \\\"Male\\\"\\n            ],\\n            [\\n              \\\"Gentoo\\\",\\n              \\\"Biscoe\\\",\\n              43.3,\\n              13.4,\\n              209.0,\\n              4400.0,\\n              \\\"Female\\\"\\n            ],\\n            [\\n              \\\"Gentoo\\\",\\n              \\\"Biscoe\\\",\\n              46.8,\\n              15.4,\\n              215.0,\\n              5150.0,\\n              \\\"Male\\\"\\n            ],\\n            [\\n              \\\"Gentoo\\\",\\n              \\\"Biscoe\\\",\\n              40.9,\\n              13.7,\\n              214.0,\\n              4650.0,\\n              \\\"Female\\\"\\n            ],\\n            [\\n              \\\"Gentoo\\\",\\n              \\\"Biscoe\\\",\\n              49.0,\\n              16.1,\\n              216.0,\\n              5550.0,\\n              \\\"Male\\\"\\n            ],\\n            [\\n              \\\"Gentoo\\\",\\n              \\\"Biscoe\\\",\\n              45.5,\\n              13.7,\\n              214.0,\\n              4650.0,\\n              \\\"Female\\\"\\n            ],\\n            [\\n              \\\"Gentoo\\\",\\n              \\\"Biscoe\\\",\\n              48.4,\\n              14.6,\\n              213.0,\\n              5850.0,\\n              \\\"Male\\\"\\n            ],\\n            [\\n              \\\"Gentoo\\\",\\n              \\\"Biscoe\\\",\\n              45.8,\\n              14.6,\\n              210.0,\\n              4200.0,\\n              \\\"Female\\\"\\n            ],\\n            [\\n              \\\"Gentoo\\\",\\n              \\\"Biscoe\\\",\\n              49.3,\\n              15.7,\\n              217.0,\\n              5850.0,\\n              \\\"Male\\\"\\n            ],\\n            [\\n              \\\"Gentoo\\\",\\n              \\\"Biscoe\\\",\\n              42.0,\\n              13.5,\\n              210.0,\\n              4150.0,\\n              \\\"Female\\\"\\n            ],\\n            [\\n              \\\"Gentoo\\\",\\n              \\\"Biscoe\\\",\\n              49.2,\\n              15.2,\\n              221.0,\\n              6300.0,\\n              \\\"Male\\\"\\n            ],\\n            [\\n              \\\"Gentoo\\\",\\n              \\\"Biscoe\\\",\\n              46.2,\\n              14.5,\\n              209.0,\\n              4800.0,\\n              \\\"Female\\\"\\n            ],\\n            [\\n              \\\"Gentoo\\\",\\n              \\\"Biscoe\\\",\\n              48.7,\\n              15.1,\\n              222.0,\\n              5350.0,\\n              \\\"Male\\\"\\n            ],\\n            [\\n              \\\"Gentoo\\\",\\n              \\\"Biscoe\\\",\\n              50.2,\\n              14.3,\\n              218.0,\\n              5700.0,\\n              \\\"Male\\\"\\n            ],\\n            [\\n              \\\"Gentoo\\\",\\n              \\\"Biscoe\\\",\\n              45.1,\\n              14.5,\\n              215.0,\\n              5000.0,\\n              \\\"Female\\\"\\n            ],\\n            [\\n              \\\"Gentoo\\\",\\n              \\\"Biscoe\\\",\\n              46.5,\\n              14.5,\\n              213.0,\\n              4400.0,\\n              \\\"Female\\\"\\n            ],\\n            [\\n              \\\"Gentoo\\\",\\n              \\\"Biscoe\\\",\\n              46.3,\\n              15.8,\\n              215.0,\\n              5050.0,\\n              \\\"Male\\\"\\n            ],\\n            [\\n              \\\"Gentoo\\\",\\n              \\\"Biscoe\\\",\\n              42.9,\\n              13.1,\\n              215.0,\\n              5000.0,\\n              \\\"Female\\\"\\n            ],\\n            [\\n              \\\"Gentoo\\\",\\n              \\\"Biscoe\\\",\\n              46.1,\\n              15.1,\\n              215.0,\\n              5100.0,\\n              \\\"Male\\\"\\n            ],\\n            [\\n              \\\"Gentoo\\\",\\n              \\\"Biscoe\\\",\\n              47.8,\\n              15.0,\\n              215.0,\\n              5650.0,\\n              \\\"Male\\\"\\n            ],\\n            [\\n              \\\"Gentoo\\\",\\n              \\\"Biscoe\\\",\\n              48.2,\\n              14.3,\\n              210.0,\\n              4600.0,\\n              \\\"Female\\\"\\n            ],\\n            [\\n              \\\"Gentoo\\\",\\n              \\\"Biscoe\\\",\\n              50.0,\\n              15.3,\\n              220.0,\\n              5550.0,\\n              \\\"Male\\\"\\n            ],\\n            [\\n              \\\"Gentoo\\\",\\n              \\\"Biscoe\\\",\\n              47.3,\\n              15.3,\\n              222.0,\\n              5250.0,\\n              \\\"Male\\\"\\n            ],\\n            [\\n              \\\"Gentoo\\\",\\n              \\\"Biscoe\\\",\\n              42.8,\\n              14.2,\\n              209.0,\\n              4700.0,\\n              \\\"Female\\\"\\n            ],\\n            [\\n              \\\"Gentoo\\\",\\n              \\\"Biscoe\\\",\\n              45.1,\\n              14.5,\\n              207.0,\\n              5050.0,\\n              \\\"Female\\\"\\n            ],\\n            [\\n              \\\"Gentoo\\\",\\n              \\\"Biscoe\\\",\\n              59.6,\\n              17.0,\\n              230.0,\\n              6050.0,\\n              \\\"Male\\\"\\n            ],\\n            [\\n              \\\"Gentoo\\\",\\n              \\\"Biscoe\\\",\\n              49.1,\\n              14.8,\\n              220.0,\\n              5150.0,\\n              \\\"Female\\\"\\n            ],\\n            [\\n              \\\"Gentoo\\\",\\n              \\\"Biscoe\\\",\\n              48.4,\\n              16.3,\\n              220.0,\\n              5400.0,\\n              \\\"Male\\\"\\n            ],\\n            [\\n              \\\"Gentoo\\\",\\n              \\\"Biscoe\\\",\\n              42.6,\\n              13.7,\\n              213.0,\\n              4950.0,\\n              \\\"Female\\\"\\n            ],\\n            [\\n              \\\"Gentoo\\\",\\n              \\\"Biscoe\\\",\\n              44.4,\\n              17.3,\\n              219.0,\\n              5250.0,\\n              \\\"Male\\\"\\n            ],\\n            [\\n              \\\"Gentoo\\\",\\n              \\\"Biscoe\\\",\\n              44.0,\\n              13.6,\\n              208.0,\\n              4350.0,\\n              \\\"Female\\\"\\n            ],\\n            [\\n              \\\"Gentoo\\\",\\n              \\\"Biscoe\\\",\\n              48.7,\\n              15.7,\\n              208.0,\\n              5350.0,\\n              \\\"Male\\\"\\n            ],\\n            [\\n              \\\"Gentoo\\\",\\n              \\\"Biscoe\\\",\\n              42.7,\\n              13.7,\\n              208.0,\\n              3950.0,\\n              \\\"Female\\\"\\n            ],\\n            [\\n              \\\"Gentoo\\\",\\n              \\\"Biscoe\\\",\\n              49.6,\\n              16.0,\\n              225.0,\\n              5700.0,\\n              \\\"Male\\\"\\n            ],\\n            [\\n              \\\"Gentoo\\\",\\n              \\\"Biscoe\\\",\\n              45.3,\\n              13.7,\\n              210.0,\\n              4300.0,\\n              \\\"Female\\\"\\n            ],\\n            [\\n              \\\"Gentoo\\\",\\n              \\\"Biscoe\\\",\\n              49.6,\\n              15.0,\\n              216.0,\\n              4750.0,\\n              \\\"Male\\\"\\n            ],\\n            [\\n              \\\"Gentoo\\\",\\n              \\\"Biscoe\\\",\\n              50.5,\\n              15.9,\\n              222.0,\\n              5550.0,\\n              \\\"Male\\\"\\n            ],\\n            [\\n              \\\"Gentoo\\\",\\n              \\\"Biscoe\\\",\\n              43.6,\\n              13.9,\\n              217.0,\\n              4900.0,\\n              \\\"Female\\\"\\n            ],\\n            [\\n              \\\"Gentoo\\\",\\n              \\\"Biscoe\\\",\\n              45.5,\\n              13.9,\\n              210.0,\\n              4200.0,\\n              \\\"Female\\\"\\n            ],\\n            [\\n              \\\"Gentoo\\\",\\n              \\\"Biscoe\\\",\\n              50.5,\\n              15.9,\\n              225.0,\\n              5400.0,\\n              \\\"Male\\\"\\n            ],\\n            [\\n              \\\"Gentoo\\\",\\n              \\\"Biscoe\\\",\\n              44.9,\\n              13.3,\\n              213.0,\\n              5100.0,\\n              \\\"Female\\\"\\n            ],\\n            [\\n              \\\"Gentoo\\\",\\n              \\\"Biscoe\\\",\\n              45.2,\\n              15.8,\\n              215.0,\\n              5300.0,\\n              \\\"Male\\\"\\n            ],\\n            [\\n              \\\"Gentoo\\\",\\n              \\\"Biscoe\\\",\\n              46.6,\\n              14.2,\\n              210.0,\\n              4850.0,\\n              \\\"Female\\\"\\n            ],\\n            [\\n              \\\"Gentoo\\\",\\n              \\\"Biscoe\\\",\\n              48.5,\\n              14.1,\\n              220.0,\\n              5300.0,\\n              \\\"Male\\\"\\n            ],\\n            [\\n              \\\"Gentoo\\\",\\n              \\\"Biscoe\\\",\\n              45.1,\\n              14.4,\\n              210.0,\\n              4400.0,\\n              \\\"Female\\\"\\n            ],\\n            [\\n              \\\"Gentoo\\\",\\n              \\\"Biscoe\\\",\\n              50.1,\\n              15.0,\\n              225.0,\\n              5000.0,\\n              \\\"Male\\\"\\n            ],\\n            [\\n              \\\"Gentoo\\\",\\n              \\\"Biscoe\\\",\\n              46.5,\\n              14.4,\\n              217.0,\\n              4900.0,\\n              \\\"Female\\\"\\n            ],\\n            [\\n              \\\"Gentoo\\\",\\n              \\\"Biscoe\\\",\\n              45.0,\\n              15.4,\\n              220.0,\\n              5050.0,\\n              \\\"Male\\\"\\n            ],\\n            [\\n              \\\"Gentoo\\\",\\n              \\\"Biscoe\\\",\\n              43.8,\\n              13.9,\\n              208.0,\\n              4300.0,\\n              \\\"Female\\\"\\n            ],\\n            [\\n              \\\"Gentoo\\\",\\n              \\\"Biscoe\\\",\\n              45.5,\\n              15.0,\\n              220.0,\\n              5000.0,\\n              \\\"Male\\\"\\n            ],\\n            [\\n              \\\"Gentoo\\\",\\n              \\\"Biscoe\\\",\\n              43.2,\\n              14.5,\\n              208.0,\\n              4450.0,\\n              \\\"Female\\\"\\n            ],\\n            [\\n              \\\"Gentoo\\\",\\n              \\\"Biscoe\\\",\\n              50.4,\\n              15.3,\\n              224.0,\\n              5550.0,\\n              \\\"Male\\\"\\n            ],\\n            [\\n              \\\"Gentoo\\\",\\n              \\\"Biscoe\\\",\\n              45.3,\\n              13.8,\\n              208.0,\\n              4200.0,\\n              \\\"Female\\\"\\n            ],\\n            [\\n              \\\"Gentoo\\\",\\n              \\\"Biscoe\\\",\\n              46.2,\\n              14.9,\\n              221.0,\\n              5300.0,\\n              \\\"Male\\\"\\n            ],\\n            [\\n              \\\"Gentoo\\\",\\n              \\\"Biscoe\\\",\\n              45.7,\\n              13.9,\\n              214.0,\\n              4400.0,\\n              \\\"Female\\\"\\n            ],\\n            [\\n              \\\"Gentoo\\\",\\n              \\\"Biscoe\\\",\\n              54.3,\\n              15.7,\\n              231.0,\\n              5650.0,\\n              \\\"Male\\\"\\n            ],\\n            [\\n              \\\"Gentoo\\\",\\n              \\\"Biscoe\\\",\\n              45.8,\\n              14.2,\\n              219.0,\\n              4700.0,\\n              \\\"Female\\\"\\n            ],\\n            [\\n              \\\"Gentoo\\\",\\n              \\\"Biscoe\\\",\\n              49.8,\\n              16.8,\\n              230.0,\\n              5700.0,\\n              \\\"Male\\\"\\n            ],\\n            [\\n              \\\"Gentoo\\\",\\n              \\\"Biscoe\\\",\\n              49.5,\\n              16.2,\\n              229.0,\\n              5800.0,\\n              \\\"Male\\\"\\n            ],\\n            [\\n              \\\"Gentoo\\\",\\n              \\\"Biscoe\\\",\\n              43.5,\\n              14.2,\\n              220.0,\\n              4700.0,\\n              \\\"Female\\\"\\n            ],\\n            [\\n              \\\"Gentoo\\\",\\n              \\\"Biscoe\\\",\\n              50.7,\\n              15.0,\\n              223.0,\\n              5550.0,\\n              \\\"Male\\\"\\n            ],\\n            [\\n              \\\"Gentoo\\\",\\n              \\\"Biscoe\\\",\\n              47.7,\\n              15.0,\\n              216.0,\\n              4750.0,\\n              \\\"Female\\\"\\n            ],\\n            [\\n              \\\"Gentoo\\\",\\n              \\\"Biscoe\\\",\\n              46.4,\\n              15.6,\\n              221.0,\\n              5000.0,\\n              \\\"Male\\\"\\n            ],\\n            [\\n              \\\"Gentoo\\\",\\n              \\\"Biscoe\\\",\\n              48.2,\\n              15.6,\\n              221.0,\\n              5100.0,\\n              \\\"Male\\\"\\n            ],\\n            [\\n              \\\"Gentoo\\\",\\n              \\\"Biscoe\\\",\\n              46.5,\\n              14.8,\\n              217.0,\\n              5200.0,\\n              \\\"Female\\\"\\n            ],\\n            [\\n              \\\"Gentoo\\\",\\n              \\\"Biscoe\\\",\\n              46.4,\\n              15.0,\\n              216.0,\\n              4700.0,\\n              \\\"Female\\\"\\n            ],\\n            [\\n              \\\"Gentoo\\\",\\n              \\\"Biscoe\\\",\\n              48.6,\\n              16.0,\\n              230.0,\\n              5800.0,\\n              \\\"Male\\\"\\n            ],\\n            [\\n              \\\"Gentoo\\\",\\n              \\\"Biscoe\\\",\\n              47.5,\\n              14.2,\\n              209.0,\\n              4600.0,\\n              \\\"Female\\\"\\n            ],\\n            [\\n              \\\"Gentoo\\\",\\n              \\\"Biscoe\\\",\\n              51.1,\\n              16.3,\\n              220.0,\\n              6000.0,\\n              \\\"Male\\\"\\n            ],\\n            [\\n              \\\"Gentoo\\\",\\n              \\\"Biscoe\\\",\\n              45.2,\\n              13.8,\\n              215.0,\\n              4750.0,\\n              \\\"Female\\\"\\n            ],\\n            [\\n              \\\"Gentoo\\\",\\n              \\\"Biscoe\\\",\\n              45.2,\\n              16.4,\\n              223.0,\\n              5950.0,\\n              \\\"Male\\\"\\n            ],\\n            [\\n              \\\"Gentoo\\\",\\n              \\\"Biscoe\\\",\\n              49.1,\\n              14.5,\\n              212.0,\\n              4625.0,\\n              \\\"Female\\\"\\n            ],\\n            [\\n              \\\"Gentoo\\\",\\n              \\\"Biscoe\\\",\\n              52.5,\\n              15.6,\\n              221.0,\\n              5450.0,\\n              \\\"Male\\\"\\n            ],\\n            [\\n              \\\"Gentoo\\\",\\n              \\\"Biscoe\\\",\\n              47.4,\\n              14.6,\\n              212.0,\\n              4725.0,\\n              \\\"Female\\\"\\n            ],\\n            [\\n              \\\"Gentoo\\\",\\n              \\\"Biscoe\\\",\\n              50.0,\\n              15.9,\\n              224.0,\\n              5350.0,\\n              \\\"Male\\\"\\n            ],\\n            [\\n              \\\"Gentoo\\\",\\n              \\\"Biscoe\\\",\\n              44.9,\\n              13.8,\\n              212.0,\\n              4750.0,\\n              \\\"Female\\\"\\n            ],\\n            [\\n              \\\"Gentoo\\\",\\n              \\\"Biscoe\\\",\\n              50.8,\\n              17.3,\\n              228.0,\\n              5600.0,\\n              \\\"Male\\\"\\n            ],\\n            [\\n              \\\"Gentoo\\\",\\n              \\\"Biscoe\\\",\\n              43.4,\\n              14.4,\\n              218.0,\\n              4600.0,\\n              \\\"Female\\\"\\n            ],\\n            [\\n              \\\"Gentoo\\\",\\n              \\\"Biscoe\\\",\\n              51.3,\\n              14.2,\\n              218.0,\\n              5300.0,\\n              \\\"Male\\\"\\n            ],\\n            [\\n              \\\"Gentoo\\\",\\n              \\\"Biscoe\\\",\\n              47.5,\\n              14.0,\\n              212.0,\\n              4875.0,\\n              \\\"Female\\\"\\n            ],\\n            [\\n              \\\"Gentoo\\\",\\n              \\\"Biscoe\\\",\\n              52.1,\\n              17.0,\\n              230.0,\\n              5550.0,\\n              \\\"Male\\\"\\n            ],\\n            [\\n              \\\"Gentoo\\\",\\n              \\\"Biscoe\\\",\\n              47.5,\\n              15.0,\\n              218.0,\\n              4950.0,\\n              \\\"Female\\\"\\n            ],\\n            [\\n              \\\"Gentoo\\\",\\n              \\\"Biscoe\\\",\\n              52.2,\\n              17.1,\\n              228.0,\\n              5400.0,\\n              \\\"Male\\\"\\n            ],\\n            [\\n              \\\"Gentoo\\\",\\n              \\\"Biscoe\\\",\\n              45.5,\\n              14.5,\\n              212.0,\\n              4750.0,\\n              \\\"Female\\\"\\n            ],\\n            [\\n              \\\"Gentoo\\\",\\n              \\\"Biscoe\\\",\\n              49.5,\\n              16.1,\\n              224.0,\\n              5650.0,\\n              \\\"Male\\\"\\n            ],\\n            [\\n              \\\"Gentoo\\\",\\n              \\\"Biscoe\\\",\\n              44.5,\\n              14.7,\\n              214.0,\\n              4850.0,\\n              \\\"Female\\\"\\n            ],\\n            [\\n              \\\"Gentoo\\\",\\n              \\\"Biscoe\\\",\\n              50.8,\\n              15.7,\\n              226.0,\\n              5200.0,\\n              \\\"Male\\\"\\n            ],\\n            [\\n              \\\"Gentoo\\\",\\n              \\\"Biscoe\\\",\\n              49.4,\\n              15.8,\\n              216.0,\\n              4925.0,\\n              \\\"Male\\\"\\n            ],\\n            [\\n              \\\"Gentoo\\\",\\n              \\\"Biscoe\\\",\\n              46.9,\\n              14.6,\\n              222.0,\\n              4875.0,\\n              \\\"Female\\\"\\n            ],\\n            [\\n              \\\"Gentoo\\\",\\n              \\\"Biscoe\\\",\\n              48.4,\\n              14.4,\\n              203.0,\\n              4625.0,\\n              \\\"Female\\\"\\n            ],\\n            [\\n              \\\"Gentoo\\\",\\n              \\\"Biscoe\\\",\\n              51.1,\\n              16.5,\\n              225.0,\\n              5250.0,\\n              \\\"Male\\\"\\n            ],\\n            [\\n              \\\"Gentoo\\\",\\n              \\\"Biscoe\\\",\\n              48.5,\\n              15.0,\\n              219.0,\\n              4850.0,\\n              \\\"Female\\\"\\n            ],\\n            [\\n              \\\"Gentoo\\\",\\n              \\\"Biscoe\\\",\\n              55.9,\\n              17.0,\\n              228.0,\\n              5600.0,\\n              \\\"Male\\\"\\n            ],\\n            [\\n              \\\"Gentoo\\\",\\n              \\\"Biscoe\\\",\\n              47.2,\\n              15.5,\\n              215.0,\\n              4975.0,\\n              \\\"Female\\\"\\n            ],\\n            [\\n              \\\"Gentoo\\\",\\n              \\\"Biscoe\\\",\\n              49.1,\\n              15.0,\\n              228.0,\\n              5500.0,\\n              \\\"Male\\\"\\n            ],\\n            [\\n              \\\"Gentoo\\\",\\n              \\\"Biscoe\\\",\\n              46.8,\\n              16.1,\\n              215.0,\\n              5500.0,\\n              \\\"Male\\\"\\n            ],\\n            [\\n              \\\"Gentoo\\\",\\n              \\\"Biscoe\\\",\\n              41.7,\\n              14.7,\\n              210.0,\\n              4700.0,\\n              \\\"Female\\\"\\n            ],\\n            [\\n              \\\"Gentoo\\\",\\n              \\\"Biscoe\\\",\\n              53.4,\\n              15.8,\\n              219.0,\\n              5500.0,\\n              \\\"Male\\\"\\n            ],\\n            [\\n              \\\"Gentoo\\\",\\n              \\\"Biscoe\\\",\\n              43.3,\\n              14.0,\\n              208.0,\\n              4575.0,\\n              \\\"Female\\\"\\n            ],\\n            [\\n              \\\"Gentoo\\\",\\n              \\\"Biscoe\\\",\\n              48.1,\\n              15.1,\\n              209.0,\\n              5500.0,\\n              \\\"Male\\\"\\n            ],\\n            [\\n              \\\"Gentoo\\\",\\n              \\\"Biscoe\\\",\\n              50.5,\\n              15.2,\\n              216.0,\\n              5000.0,\\n              \\\"Female\\\"\\n            ],\\n            [\\n              \\\"Gentoo\\\",\\n              \\\"Biscoe\\\",\\n              49.8,\\n              15.9,\\n              229.0,\\n              5950.0,\\n              \\\"Male\\\"\\n            ],\\n            [\\n              \\\"Gentoo\\\",\\n              \\\"Biscoe\\\",\\n              43.5,\\n              15.2,\\n              213.0,\\n              4650.0,\\n              \\\"Female\\\"\\n            ],\\n            [\\n              \\\"Gentoo\\\",\\n              \\\"Biscoe\\\",\\n              51.5,\\n              16.3,\\n              230.0,\\n              5500.0,\\n              \\\"Male\\\"\\n            ],\\n            [\\n              \\\"Gentoo\\\",\\n              \\\"Biscoe\\\",\\n              46.2,\\n              14.1,\\n              217.0,\\n              4375.0,\\n              \\\"Female\\\"\\n            ],\\n            [\\n              \\\"Gentoo\\\",\\n              \\\"Biscoe\\\",\\n              55.1,\\n              16.0,\\n              230.0,\\n              5850.0,\\n              \\\"Male\\\"\\n            ],\\n            [\\n              \\\"Gentoo\\\",\\n              \\\"Biscoe\\\",\\n              48.8,\\n              16.2,\\n              222.0,\\n              6000.0,\\n              \\\"Male\\\"\\n            ],\\n            [\\n              \\\"Gentoo\\\",\\n              \\\"Biscoe\\\",\\n              47.2,\\n              13.7,\\n              214.0,\\n              4925.0,\\n              \\\"Female\\\"\\n            ],\\n            [\\n              \\\"Gentoo\\\",\\n              \\\"Biscoe\\\",\\n              46.8,\\n              14.3,\\n              215.0,\\n              4850.0,\\n              \\\"Female\\\"\\n            ],\\n            [\\n              \\\"Gentoo\\\",\\n              \\\"Biscoe\\\",\\n              50.4,\\n              15.7,\\n              222.0,\\n              5750.0,\\n              \\\"Male\\\"\\n            ],\\n            [\\n              \\\"Gentoo\\\",\\n              \\\"Biscoe\\\",\\n              45.2,\\n              14.8,\\n              212.0,\\n              5200.0,\\n              \\\"Female\\\"\\n            ],\\n            [\\n              \\\"Gentoo\\\",\\n              \\\"Biscoe\\\",\\n              49.9,\\n              16.1,\\n              213.0,\\n              5400.0,\\n              \\\"Male\\\"\\n            ]\\n          ],\\n          \\\"group_data\\\": {\\n            \\\"columns\\\": [\\n              \\\"species\\\"\\n            ],\\n            \\\"groups\\\": [\\n              {\\n                \\\"name\\\": [\\n                  \\\"Adelie\\\"\\n                ],\\n                \\\"labels\\\": [\\n                  0,\\n                  1,\\n                  2,\\n                  4,\\n                  5,\\n                  6,\\n                  7,\\n                  12,\\n                  13,\\n                  14,\\n                  15,\\n                  16,\\n                  17,\\n                  18,\\n                  19,\\n                  20,\\n                  21,\\n                  22,\\n                  23,\\n                  24,\\n                  25,\\n                  26,\\n                  27,\\n                  28,\\n                  29,\\n                  30,\\n                  31,\\n                  32,\\n                  33,\\n                  34,\\n                  35,\\n                  36,\\n                  37,\\n                  38,\\n                  39,\\n                  40,\\n                  41,\\n                  42,\\n                  43,\\n                  44,\\n                  45,\\n                  46,\\n                  48,\\n                  49,\\n                  50,\\n                  51,\\n                  52,\\n                  53,\\n                  54,\\n                  55,\\n                  56,\\n                  57,\\n                  58,\\n                  59,\\n                  60,\\n                  61,\\n                  62,\\n                  63,\\n                  64,\\n                  65,\\n                  66,\\n                  67,\\n                  68,\\n                  69,\\n                  70,\\n                  71,\\n                  72,\\n                  73,\\n                  74,\\n                  75,\\n                  76,\\n                  77,\\n                  78,\\n                  79,\\n                  80,\\n                  81,\\n                  82,\\n                  83,\\n                  84,\\n                  85,\\n                  86,\\n                  87,\\n                  88,\\n                  89,\\n                  90,\\n                  91,\\n                  92,\\n                  93,\\n                  94,\\n                  95,\\n                  96,\\n                  97,\\n                  98,\\n                  99,\\n                  100,\\n                  101,\\n                  102,\\n                  103,\\n                  104,\\n                  105,\\n                  106,\\n                  107,\\n                  108,\\n                  109,\\n                  110,\\n                  111,\\n                  112,\\n                  113,\\n                  114,\\n                  115,\\n                  116,\\n                  117,\\n                  118,\\n                  119,\\n                  120,\\n                  121,\\n                  122,\\n                  123,\\n                  124,\\n                  125,\\n                  126,\\n                  127,\\n                  128,\\n                  129,\\n                  130,\\n                  131,\\n                  132,\\n                  133,\\n                  134,\\n                  135,\\n                  136,\\n                  137,\\n                  138,\\n                  139,\\n                  140,\\n                  141,\\n                  142,\\n                  143,\\n                  144,\\n                  145,\\n                  146,\\n                  147,\\n                  148,\\n                  149,\\n                  150,\\n                  151\\n                ]\\n              },\\n              {\\n                \\\"name\\\": [\\n                  \\\"Chinstrap\\\"\\n                ],\\n                \\\"labels\\\": [\\n                  152,\\n                  153,\\n                  154,\\n                  155,\\n                  156,\\n                  157,\\n                  158,\\n                  159,\\n                  160,\\n                  161,\\n                  162,\\n                  163,\\n                  164,\\n                  165,\\n                  166,\\n                  167,\\n                  168,\\n                  169,\\n                  170,\\n                  171,\\n                  172,\\n                  173,\\n                  174,\\n                  175,\\n                  176,\\n                  177,\\n                  178,\\n                  179,\\n                  180,\\n                  181,\\n                  182,\\n                  183,\\n                  184,\\n                  185,\\n                  186,\\n                  187,\\n                  188,\\n                  189,\\n                  190,\\n                  191,\\n                  192,\\n                  193,\\n                  194,\\n                  195,\\n                  196,\\n                  197,\\n                  198,\\n                  199,\\n                  200,\\n                  201,\\n                  202,\\n                  203,\\n                  204,\\n                  205,\\n                  206,\\n                  207,\\n                  208,\\n                  209,\\n                  210,\\n                  211,\\n                  212,\\n                  213,\\n                  214,\\n                  215,\\n                  216,\\n                  217,\\n                  218,\\n                  219\\n                ]\\n              },\\n              {\\n                \\\"name\\\": [\\n                  \\\"Gentoo\\\"\\n                ],\\n                \\\"labels\\\": [\\n                  220,\\n                  221,\\n                  222,\\n                  223,\\n                  224,\\n                  225,\\n                  226,\\n                  227,\\n                  228,\\n                  229,\\n                  230,\\n                  231,\\n                  232,\\n                  233,\\n                  234,\\n                  235,\\n                  236,\\n                  237,\\n                  238,\\n                  239,\\n                  240,\\n                  241,\\n                  242,\\n                  243,\\n                  244,\\n                  245,\\n                  247,\\n                  248,\\n                  249,\\n                  250,\\n                  251,\\n                  252,\\n                  253,\\n                  254,\\n                  255,\\n                  256,\\n                  257,\\n                  258,\\n                  259,\\n                  260,\\n                  261,\\n                  262,\\n                  263,\\n                  264,\\n                  265,\\n                  266,\\n                  267,\\n                  268,\\n                  269,\\n                  270,\\n                  271,\\n                  272,\\n                  273,\\n                  274,\\n                  275,\\n                  276,\\n                  277,\\n                  278,\\n                  279,\\n                  280,\\n                  281,\\n                  282,\\n                  283,\\n                  284,\\n                  285,\\n                  287,\\n                  288,\\n                  289,\\n                  290,\\n                  291,\\n                  292,\\n                  293,\\n                  294,\\n                  295,\\n                  296,\\n                  297,\\n                  298,\\n                  299,\\n                  300,\\n                  301,\\n                  302,\\n                  303,\\n                  304,\\n                  305,\\n                  306,\\n                  307,\\n                  308,\\n                  309,\\n                  310,\\n                  311,\\n                  312,\\n                  313,\\n                  314,\\n                  315,\\n                  316,\\n                  317,\\n                  318,\\n                  319,\\n                  320,\\n                  321,\\n                  322,\\n                  323,\\n                  325,\\n                  326,\\n                  327,\\n                  328,\\n                  329,\\n                  330,\\n                  331,\\n                  332,\\n                  333,\\n                  334,\\n                  335,\\n                  337,\\n                  338,\\n                  340,\\n                  341,\\n                  342,\\n                  343\\n                ]\\n              }\\n            ]\\n          }\\n        }\\n      }\\n    },\\n    {\\n      \\\"type\\\": \\\"Subscript\\\",\\n      \\\"code_step\\\": \\\"penguins.groupby('species')['body_mass_g'].mean()\\\",\\n      \\\"fragment\\\": {\\n        \\\"start\\\": {\\n          \\\"line\\\": 0,\\n          \\\"ch\\\": 27\\n        },\\n        \\\"end\\\": {\\n          \\\"line\\\": 0,\\n          \\\"ch\\\": 42\\n        }\\n      },\\n      \\\"marks\\\": [\\n        {\\n          \\\"type\\\": \\\"map\\\",\\n          \\\"from\\\": {\\n            \\\"type\\\": \\\"axis\\\",\\n            \\\"anchor\\\": \\\"lhs\\\",\\n            \\\"select\\\": \\\"column\\\",\\n            \\\"label\\\": \\\"body_mass_g\\\"\\n          },\\n          \\\"to\\\": {\\n            \\\"type\\\": \\\"series\\\",\\n            \\\"anchor\\\": \\\"rhs\\\",\\n            \\\"label\\\": \\\"pandas.Series\\\"\\n          }\\n        }\\n      ],\\n      \\\"data\\\": {\\n        \\\"lhs\\\": \\\"prev_rhs\\\",\\n        \\\"rhs\\\": {\\n          \\\"type\\\": \\\"SeriesGroupBy\\\",\\n          \\\"index\\\": {\\n            \\\"names\\\": [\\n              null\\n            ],\\n            \\\"labels\\\": [\\n              0,\\n              1,\\n              2,\\n              4,\\n              5,\\n              6,\\n              7,\\n              12,\\n              13,\\n              14,\\n              15,\\n              16,\\n              17,\\n              18,\\n              19,\\n              20,\\n              21,\\n              22,\\n              23,\\n              24,\\n              25,\\n              26,\\n              27,\\n              28,\\n              29,\\n              30,\\n              31,\\n              32,\\n              33,\\n              34,\\n              35,\\n              36,\\n              37,\\n              38,\\n              39,\\n              40,\\n              41,\\n              42,\\n              43,\\n              44,\\n              45,\\n              46,\\n              48,\\n              49,\\n              50,\\n              51,\\n              52,\\n              53,\\n              54,\\n              55,\\n              56,\\n              57,\\n              58,\\n              59,\\n              60,\\n              61,\\n              62,\\n              63,\\n              64,\\n              65,\\n              66,\\n              67,\\n              68,\\n              69,\\n              70,\\n              71,\\n              72,\\n              73,\\n              74,\\n              75,\\n              76,\\n              77,\\n              78,\\n              79,\\n              80,\\n              81,\\n              82,\\n              83,\\n              84,\\n              85,\\n              86,\\n              87,\\n              88,\\n              89,\\n              90,\\n              91,\\n              92,\\n              93,\\n              94,\\n              95,\\n              96,\\n              97,\\n              98,\\n              99,\\n              100,\\n              101,\\n              102,\\n              103,\\n              104,\\n              105,\\n              106,\\n              107,\\n              108,\\n              109,\\n              110,\\n              111,\\n              112,\\n              113,\\n              114,\\n              115,\\n              116,\\n              117,\\n              118,\\n              119,\\n              120,\\n              121,\\n              122,\\n              123,\\n              124,\\n              125,\\n              126,\\n              127,\\n              128,\\n              129,\\n              130,\\n              131,\\n              132,\\n              133,\\n              134,\\n              135,\\n              136,\\n              137,\\n              138,\\n              139,\\n              140,\\n              141,\\n              142,\\n              143,\\n              144,\\n              145,\\n              146,\\n              147,\\n              148,\\n              149,\\n              150,\\n              151,\\n              152,\\n              153,\\n              154,\\n              155,\\n              156,\\n              157,\\n              158,\\n              159,\\n              160,\\n              161,\\n              162,\\n              163,\\n              164,\\n              165,\\n              166,\\n              167,\\n              168,\\n              169,\\n              170,\\n              171,\\n              172,\\n              173,\\n              174,\\n              175,\\n              176,\\n              177,\\n              178,\\n              179,\\n              180,\\n              181,\\n              182,\\n              183,\\n              184,\\n              185,\\n              186,\\n              187,\\n              188,\\n              189,\\n              190,\\n              191,\\n              192,\\n              193,\\n              194,\\n              195,\\n              196,\\n              197,\\n              198,\\n              199,\\n              200,\\n              201,\\n              202,\\n              203,\\n              204,\\n              205,\\n              206,\\n              207,\\n              208,\\n              209,\\n              210,\\n              211,\\n              212,\\n              213,\\n              214,\\n              215,\\n              216,\\n              217,\\n              218,\\n              219,\\n              220,\\n              221,\\n              222,\\n              223,\\n              224,\\n              225,\\n              226,\\n              227,\\n              228,\\n              229,\\n              230,\\n              231,\\n              232,\\n              233,\\n              234,\\n              235,\\n              236,\\n              237,\\n              238,\\n              239,\\n              240,\\n              241,\\n              242,\\n              243,\\n              244,\\n              245,\\n              247,\\n              248,\\n              249,\\n              250,\\n              251,\\n              252,\\n              253,\\n              254,\\n              255,\\n              256,\\n              257,\\n              258,\\n              259,\\n              260,\\n              261,\\n              262,\\n              263,\\n              264,\\n              265,\\n              266,\\n              267,\\n              268,\\n              269,\\n              270,\\n              271,\\n              272,\\n              273,\\n              274,\\n              275,\\n              276,\\n              277,\\n              278,\\n              279,\\n              280,\\n              281,\\n              282,\\n              283,\\n              284,\\n              285,\\n              287,\\n              288,\\n              289,\\n              290,\\n              291,\\n              292,\\n              293,\\n              294,\\n              295,\\n              296,\\n              297,\\n              298,\\n              299,\\n              300,\\n              301,\\n              302,\\n              303,\\n              304,\\n              305,\\n              306,\\n              307,\\n              308,\\n              309,\\n              310,\\n              311,\\n              312,\\n              313,\\n              314,\\n              315,\\n              316,\\n              317,\\n              318,\\n              319,\\n              320,\\n              321,\\n              322,\\n              323,\\n              325,\\n              326,\\n              327,\\n              328,\\n              329,\\n              330,\\n              331,\\n              332,\\n              333,\\n              334,\\n              335,\\n              337,\\n              338,\\n              340,\\n              341,\\n              342,\\n              343\\n            ]\\n          },\\n          \\\"data\\\": [\\n            3750.0,\\n            3800.0,\\n            3250.0,\\n            3450.0,\\n            3650.0,\\n            3625.0,\\n            4675.0,\\n            3200.0,\\n            3800.0,\\n            4400.0,\\n            3700.0,\\n            3450.0,\\n            4500.0,\\n            3325.0,\\n            4200.0,\\n            3400.0,\\n            3600.0,\\n            3800.0,\\n            3950.0,\\n            3800.0,\\n            3800.0,\\n            3550.0,\\n            3200.0,\\n            3150.0,\\n            3950.0,\\n            3250.0,\\n            3900.0,\\n            3300.0,\\n            3900.0,\\n            3325.0,\\n            4150.0,\\n            3950.0,\\n            3550.0,\\n            3300.0,\\n            4650.0,\\n            3150.0,\\n            3900.0,\\n            3100.0,\\n            4400.0,\\n            3000.0,\\n            4600.0,\\n            3425.0,\\n            3450.0,\\n            4150.0,\\n            3500.0,\\n            4300.0,\\n            3450.0,\\n            4050.0,\\n            2900.0,\\n            3700.0,\\n            3550.0,\\n            3800.0,\\n            2850.0,\\n            3750.0,\\n            3150.0,\\n            4400.0,\\n            3600.0,\\n            4050.0,\\n            2850.0,\\n            3950.0,\\n            3350.0,\\n            4100.0,\\n            3050.0,\\n            4450.0,\\n            3600.0,\\n            3900.0,\\n            3550.0,\\n            4150.0,\\n            3700.0,\\n            4250.0,\\n            3700.0,\\n            3900.0,\\n            3550.0,\\n            4000.0,\\n            3200.0,\\n            4700.0,\\n            3800.0,\\n            4200.0,\\n            3350.0,\\n            3550.0,\\n            3800.0,\\n            3500.0,\\n            3950.0,\\n            3600.0,\\n            3550.0,\\n            4300.0,\\n            3400.0,\\n            4450.0,\\n            3300.0,\\n            4300.0,\\n            3700.0,\\n            4350.0,\\n            2900.0,\\n            4100.0,\\n            3725.0,\\n            4725.0,\\n            3075.0,\\n            4250.0,\\n            2925.0,\\n            3550.0,\\n            3750.0,\\n            3900.0,\\n            3175.0,\\n            4775.0,\\n            3825.0,\\n            4600.0,\\n            3200.0,\\n            4275.0,\\n            3900.0,\\n            4075.0,\\n            2900.0,\\n            3775.0,\\n            3350.0,\\n            3325.0,\\n            3150.0,\\n            3500.0,\\n            3450.0,\\n            3875.0,\\n            3050.0,\\n            4000.0,\\n            3275.0,\\n            4300.0,\\n            3050.0,\\n            4000.0,\\n            3325.0,\\n            3500.0,\\n            3500.0,\\n            4475.0,\\n            3425.0,\\n            3900.0,\\n            3175.0,\\n            3975.0,\\n            3400.0,\\n            4250.0,\\n            3400.0,\\n            3475.0,\\n            3050.0,\\n            3725.0,\\n            3000.0,\\n            3650.0,\\n            4250.0,\\n            3475.0,\\n            3450.0,\\n            3750.0,\\n            3700.0,\\n            4000.0,\\n            3500.0,\\n            3900.0,\\n            3650.0,\\n            3525.0,\\n            3725.0,\\n            3950.0,\\n            3250.0,\\n            3750.0,\\n            4150.0,\\n            3700.0,\\n            3800.0,\\n            3775.0,\\n            3700.0,\\n            4050.0,\\n            3575.0,\\n            4050.0,\\n            3300.0,\\n            3700.0,\\n            3450.0,\\n            4400.0,\\n            3600.0,\\n            3400.0,\\n            2900.0,\\n            3800.0,\\n            3300.0,\\n            4150.0,\\n            3400.0,\\n            3800.0,\\n            3700.0,\\n            4550.0,\\n            3200.0,\\n            4300.0,\\n            3350.0,\\n            4100.0,\\n            3600.0,\\n            3900.0,\\n            3850.0,\\n            4800.0,\\n            2700.0,\\n            4500.0,\\n            3950.0,\\n            3650.0,\\n            3550.0,\\n            3500.0,\\n            3675.0,\\n            4450.0,\\n            3400.0,\\n            4300.0,\\n            3250.0,\\n            3675.0,\\n            3325.0,\\n            3950.0,\\n            3600.0,\\n            4050.0,\\n            3350.0,\\n            3450.0,\\n            3250.0,\\n            4050.0,\\n            3800.0,\\n            3525.0,\\n            3950.0,\\n            3650.0,\\n            3650.0,\\n            4000.0,\\n            3400.0,\\n            3775.0,\\n            4100.0,\\n            3775.0,\\n            4500.0,\\n            5700.0,\\n            4450.0,\\n            5700.0,\\n            5400.0,\\n            4550.0,\\n            4800.0,\\n            5200.0,\\n            4400.0,\\n            5150.0,\\n            4650.0,\\n            5550.0,\\n            4650.0,\\n            5850.0,\\n            4200.0,\\n            5850.0,\\n            4150.0,\\n            6300.0,\\n            4800.0,\\n            5350.0,\\n            5700.0,\\n            5000.0,\\n            4400.0,\\n            5050.0,\\n            5000.0,\\n            5100.0,\\n            5650.0,\\n            4600.0,\\n            5550.0,\\n            5250.0,\\n            4700.0,\\n            5050.0,\\n            6050.0,\\n            5150.0,\\n            5400.0,\\n            4950.0,\\n            5250.0,\\n            4350.0,\\n            5350.0,\\n            3950.0,\\n            5700.0,\\n            4300.0,\\n            4750.0,\\n            5550.0,\\n            4900.0,\\n            4200.0,\\n            5400.0,\\n            5100.0,\\n            5300.0,\\n            4850.0,\\n            5300.0,\\n            4400.0,\\n            5000.0,\\n            4900.0,\\n            5050.0,\\n            4300.0,\\n            5000.0,\\n            4450.0,\\n            5550.0,\\n            4200.0,\\n            5300.0,\\n            4400.0,\\n            5650.0,\\n            4700.0,\\n            5700.0,\\n            5800.0,\\n            4700.0,\\n            5550.0,\\n            4750.0,\\n            5000.0,\\n            5100.0,\\n            5200.0,\\n            4700.0,\\n            5800.0,\\n            4600.0,\\n            6000.0,\\n            4750.0,\\n            5950.0,\\n            4625.0,\\n            5450.0,\\n            4725.0,\\n            5350.0,\\n            4750.0,\\n            5600.0,\\n            4600.0,\\n            5300.0,\\n            4875.0,\\n            5550.0,\\n            4950.0,\\n            5400.0,\\n            4750.0,\\n            5650.0,\\n            4850.0,\\n            5200.0,\\n            4925.0,\\n            4875.0,\\n            4625.0,\\n            5250.0,\\n            4850.0,\\n            5600.0,\\n            4975.0,\\n            5500.0,\\n            5500.0,\\n            4700.0,\\n            5500.0,\\n            4575.0,\\n            5500.0,\\n            5000.0,\\n            5950.0,\\n            4650.0,\\n            5500.0,\\n            4375.0,\\n            5850.0,\\n            6000.0,\\n            4925.0,\\n            4850.0,\\n            5750.0,\\n            5200.0,\\n            5400.0\\n          ],\\n          \\\"group_data\\\": {\\n            \\\"columns\\\": [\\n              \\\"species\\\"\\n            ],\\n            \\\"groups\\\": [\\n              {\\n                \\\"name\\\": [\\n                  \\\"Adelie\\\"\\n                ],\\n                \\\"labels\\\": [\\n                  0,\\n                  1,\\n                  2,\\n                  4,\\n                  5,\\n                  6,\\n                  7,\\n                  12,\\n                  13,\\n                  14,\\n                  15,\\n                  16,\\n                  17,\\n                  18,\\n                  19,\\n                  20,\\n                  21,\\n                  22,\\n                  23,\\n                  24,\\n                  25,\\n                  26,\\n                  27,\\n                  28,\\n                  29,\\n                  30,\\n                  31,\\n                  32,\\n                  33,\\n                  34,\\n                  35,\\n                  36,\\n                  37,\\n                  38,\\n                  39,\\n                  40,\\n                  41,\\n                  42,\\n                  43,\\n                  44,\\n                  45,\\n                  46,\\n                  48,\\n                  49,\\n                  50,\\n                  51,\\n                  52,\\n                  53,\\n                  54,\\n                  55,\\n                  56,\\n                  57,\\n                  58,\\n                  59,\\n                  60,\\n                  61,\\n                  62,\\n                  63,\\n                  64,\\n                  65,\\n                  66,\\n                  67,\\n                  68,\\n                  69,\\n                  70,\\n                  71,\\n                  72,\\n                  73,\\n                  74,\\n                  75,\\n                  76,\\n                  77,\\n                  78,\\n                  79,\\n                  80,\\n                  81,\\n                  82,\\n                  83,\\n                  84,\\n                  85,\\n                  86,\\n                  87,\\n                  88,\\n                  89,\\n                  90,\\n                  91,\\n                  92,\\n                  93,\\n                  94,\\n                  95,\\n                  96,\\n                  97,\\n                  98,\\n                  99,\\n                  100,\\n                  101,\\n                  102,\\n                  103,\\n                  104,\\n                  105,\\n                  106,\\n                  107,\\n                  108,\\n                  109,\\n                  110,\\n                  111,\\n                  112,\\n                  113,\\n                  114,\\n                  115,\\n                  116,\\n                  117,\\n                  118,\\n                  119,\\n                  120,\\n                  121,\\n                  122,\\n                  123,\\n                  124,\\n                  125,\\n                  126,\\n                  127,\\n                  128,\\n                  129,\\n                  130,\\n                  131,\\n                  132,\\n                  133,\\n                  134,\\n                  135,\\n                  136,\\n                  137,\\n                  138,\\n                  139,\\n                  140,\\n                  141,\\n                  142,\\n                  143,\\n                  144,\\n                  145,\\n                  146,\\n                  147,\\n                  148,\\n                  149,\\n                  150,\\n                  151\\n                ]\\n              },\\n              {\\n                \\\"name\\\": [\\n                  \\\"Chinstrap\\\"\\n                ],\\n                \\\"labels\\\": [\\n                  152,\\n                  153,\\n                  154,\\n                  155,\\n                  156,\\n                  157,\\n                  158,\\n                  159,\\n                  160,\\n                  161,\\n                  162,\\n                  163,\\n                  164,\\n                  165,\\n                  166,\\n                  167,\\n                  168,\\n                  169,\\n                  170,\\n                  171,\\n                  172,\\n                  173,\\n                  174,\\n                  175,\\n                  176,\\n                  177,\\n                  178,\\n                  179,\\n                  180,\\n                  181,\\n                  182,\\n                  183,\\n                  184,\\n                  185,\\n                  186,\\n                  187,\\n                  188,\\n                  189,\\n                  190,\\n                  191,\\n                  192,\\n                  193,\\n                  194,\\n                  195,\\n                  196,\\n                  197,\\n                  198,\\n                  199,\\n                  200,\\n                  201,\\n                  202,\\n                  203,\\n                  204,\\n                  205,\\n                  206,\\n                  207,\\n                  208,\\n                  209,\\n                  210,\\n                  211,\\n                  212,\\n                  213,\\n                  214,\\n                  215,\\n                  216,\\n                  217,\\n                  218,\\n                  219\\n                ]\\n              },\\n              {\\n                \\\"name\\\": [\\n                  \\\"Gentoo\\\"\\n                ],\\n                \\\"labels\\\": [\\n                  220,\\n                  221,\\n                  222,\\n                  223,\\n                  224,\\n                  225,\\n                  226,\\n                  227,\\n                  228,\\n                  229,\\n                  230,\\n                  231,\\n                  232,\\n                  233,\\n                  234,\\n                  235,\\n                  236,\\n                  237,\\n                  238,\\n                  239,\\n                  240,\\n                  241,\\n                  242,\\n                  243,\\n                  244,\\n                  245,\\n                  247,\\n                  248,\\n                  249,\\n                  250,\\n                  251,\\n                  252,\\n                  253,\\n                  254,\\n                  255,\\n                  256,\\n                  257,\\n                  258,\\n                  259,\\n                  260,\\n                  261,\\n                  262,\\n                  263,\\n                  264,\\n                  265,\\n                  266,\\n                  267,\\n                  268,\\n                  269,\\n                  270,\\n                  271,\\n                  272,\\n                  273,\\n                  274,\\n                  275,\\n                  276,\\n                  277,\\n                  278,\\n                  279,\\n                  280,\\n                  281,\\n                  282,\\n                  283,\\n                  284,\\n                  285,\\n                  287,\\n                  288,\\n                  289,\\n                  290,\\n                  291,\\n                  292,\\n                  293,\\n                  294,\\n                  295,\\n                  296,\\n                  297,\\n                  298,\\n                  299,\\n                  300,\\n                  301,\\n                  302,\\n                  303,\\n                  304,\\n                  305,\\n                  306,\\n                  307,\\n                  308,\\n                  309,\\n                  310,\\n                  311,\\n                  312,\\n                  313,\\n                  314,\\n                  315,\\n                  316,\\n                  317,\\n                  318,\\n                  319,\\n                  320,\\n                  321,\\n                  322,\\n                  323,\\n                  325,\\n                  326,\\n                  327,\\n                  328,\\n                  329,\\n                  330,\\n                  331,\\n                  332,\\n                  333,\\n                  334,\\n                  335,\\n                  337,\\n                  338,\\n                  340,\\n                  341,\\n                  342,\\n                  343\\n                ]\\n              }\\n            ]\\n          }\\n        }\\n      }\\n    },\\n    {\\n      \\\"type\\\": \\\"AggCall\\\",\\n      \\\"code_step\\\": \\\"penguins.groupby('species')['body_mass_g'].mean()\\\",\\n      \\\"fragment\\\": {\\n        \\\"start\\\": {\\n          \\\"line\\\": 0,\\n          \\\"ch\\\": 42\\n        },\\n        \\\"end\\\": {\\n          \\\"line\\\": 0,\\n          \\\"ch\\\": 49\\n        }\\n      },\\n      \\\"marks\\\": [\\n        {\\n          \\\"type\\\": \\\"map\\\",\\n          \\\"from\\\": {\\n            \\\"type\\\": \\\"axis\\\",\\n            \\\"anchor\\\": \\\"lhs\\\",\\n            \\\"select\\\": \\\"row\\\",\\n            \\\"label\\\": 0\\n          },\\n          \\\"to\\\": {\\n            \\\"type\\\": \\\"axis\\\",\\n            \\\"anchor\\\": \\\"rhs\\\",\\n            \\\"select\\\": \\\"row\\\",\\n            \\\"label\\\": \\\"Adelie\\\"\\n          }\\n        },\\n        {\\n          \\\"type\\\": \\\"map\\\",\\n          \\\"from\\\": {\\n            \\\"type\\\": \\\"axis\\\",\\n            \\\"anchor\\\": \\\"lhs\\\",\\n            \\\"select\\\": \\\"row\\\",\\n            \\\"label\\\": 1\\n          },\\n          \\\"to\\\": {\\n            \\\"type\\\": \\\"axis\\\",\\n            \\\"anchor\\\": \\\"rhs\\\",\\n            \\\"select\\\": \\\"row\\\",\\n            \\\"label\\\": \\\"Adelie\\\"\\n          }\\n        },\\n        {\\n          \\\"type\\\": \\\"map\\\",\\n          \\\"from\\\": {\\n            \\\"type\\\": \\\"axis\\\",\\n            \\\"anchor\\\": \\\"lhs\\\",\\n            \\\"select\\\": \\\"row\\\",\\n            \\\"label\\\": 2\\n          },\\n          \\\"to\\\": {\\n            \\\"type\\\": \\\"axis\\\",\\n            \\\"anchor\\\": \\\"rhs\\\",\\n            \\\"select\\\": \\\"row\\\",\\n            \\\"label\\\": \\\"Adelie\\\"\\n          }\\n        },\\n        {\\n          \\\"type\\\": \\\"map\\\",\\n          \\\"from\\\": {\\n            \\\"type\\\": \\\"axis\\\",\\n            \\\"anchor\\\": \\\"lhs\\\",\\n            \\\"select\\\": \\\"row\\\",\\n            \\\"label\\\": 4\\n          },\\n          \\\"to\\\": {\\n            \\\"type\\\": \\\"axis\\\",\\n            \\\"anchor\\\": \\\"rhs\\\",\\n            \\\"select\\\": \\\"row\\\",\\n            \\\"label\\\": \\\"Adelie\\\"\\n          }\\n        },\\n        {\\n          \\\"type\\\": \\\"map\\\",\\n          \\\"from\\\": {\\n            \\\"type\\\": \\\"axis\\\",\\n            \\\"anchor\\\": \\\"lhs\\\",\\n            \\\"select\\\": \\\"row\\\",\\n            \\\"label\\\": 5\\n          },\\n          \\\"to\\\": {\\n            \\\"type\\\": \\\"axis\\\",\\n            \\\"anchor\\\": \\\"rhs\\\",\\n            \\\"select\\\": \\\"row\\\",\\n            \\\"label\\\": \\\"Adelie\\\"\\n          }\\n        },\\n        {\\n          \\\"type\\\": \\\"map\\\",\\n          \\\"from\\\": {\\n            \\\"type\\\": \\\"axis\\\",\\n            \\\"anchor\\\": \\\"lhs\\\",\\n            \\\"select\\\": \\\"row\\\",\\n            \\\"label\\\": 6\\n          },\\n          \\\"to\\\": {\\n            \\\"type\\\": \\\"axis\\\",\\n            \\\"anchor\\\": \\\"rhs\\\",\\n            \\\"select\\\": \\\"row\\\",\\n            \\\"label\\\": \\\"Adelie\\\"\\n          }\\n        },\\n        {\\n          \\\"type\\\": \\\"map\\\",\\n          \\\"from\\\": {\\n            \\\"type\\\": \\\"axis\\\",\\n            \\\"anchor\\\": \\\"lhs\\\",\\n            \\\"select\\\": \\\"row\\\",\\n            \\\"label\\\": 7\\n          },\\n          \\\"to\\\": {\\n            \\\"type\\\": \\\"axis\\\",\\n            \\\"anchor\\\": \\\"rhs\\\",\\n            \\\"select\\\": \\\"row\\\",\\n            \\\"label\\\": \\\"Adelie\\\"\\n          }\\n        },\\n        {\\n          \\\"type\\\": \\\"map\\\",\\n          \\\"from\\\": {\\n            \\\"type\\\": \\\"axis\\\",\\n            \\\"anchor\\\": \\\"lhs\\\",\\n            \\\"select\\\": \\\"row\\\",\\n            \\\"label\\\": 12\\n          },\\n          \\\"to\\\": {\\n            \\\"type\\\": \\\"axis\\\",\\n            \\\"anchor\\\": \\\"rhs\\\",\\n            \\\"select\\\": \\\"row\\\",\\n            \\\"label\\\": \\\"Adelie\\\"\\n          }\\n        },\\n        {\\n          \\\"type\\\": \\\"map\\\",\\n          \\\"from\\\": {\\n            \\\"type\\\": \\\"axis\\\",\\n            \\\"anchor\\\": \\\"lhs\\\",\\n            \\\"select\\\": \\\"row\\\",\\n            \\\"label\\\": 13\\n          },\\n          \\\"to\\\": {\\n            \\\"type\\\": \\\"axis\\\",\\n            \\\"anchor\\\": \\\"rhs\\\",\\n            \\\"select\\\": \\\"row\\\",\\n            \\\"label\\\": \\\"Adelie\\\"\\n          }\\n        },\\n        {\\n          \\\"type\\\": \\\"map\\\",\\n          \\\"from\\\": {\\n            \\\"type\\\": \\\"axis\\\",\\n            \\\"anchor\\\": \\\"lhs\\\",\\n            \\\"select\\\": \\\"row\\\",\\n            \\\"label\\\": 14\\n          },\\n          \\\"to\\\": {\\n            \\\"type\\\": \\\"axis\\\",\\n            \\\"anchor\\\": \\\"rhs\\\",\\n            \\\"select\\\": \\\"row\\\",\\n            \\\"label\\\": \\\"Adelie\\\"\\n          }\\n        },\\n        {\\n          \\\"type\\\": \\\"map\\\",\\n          \\\"from\\\": {\\n            \\\"type\\\": \\\"axis\\\",\\n            \\\"anchor\\\": \\\"lhs\\\",\\n            \\\"select\\\": \\\"row\\\",\\n            \\\"label\\\": 15\\n          },\\n          \\\"to\\\": {\\n            \\\"type\\\": \\\"axis\\\",\\n            \\\"anchor\\\": \\\"rhs\\\",\\n            \\\"select\\\": \\\"row\\\",\\n            \\\"label\\\": \\\"Adelie\\\"\\n          }\\n        },\\n        {\\n          \\\"type\\\": \\\"map\\\",\\n          \\\"from\\\": {\\n            \\\"type\\\": \\\"axis\\\",\\n            \\\"anchor\\\": \\\"lhs\\\",\\n            \\\"select\\\": \\\"row\\\",\\n            \\\"label\\\": 16\\n          },\\n          \\\"to\\\": {\\n            \\\"type\\\": \\\"axis\\\",\\n            \\\"anchor\\\": \\\"rhs\\\",\\n            \\\"select\\\": \\\"row\\\",\\n            \\\"label\\\": \\\"Adelie\\\"\\n          }\\n        },\\n        {\\n          \\\"type\\\": \\\"map\\\",\\n          \\\"from\\\": {\\n            \\\"type\\\": \\\"axis\\\",\\n            \\\"anchor\\\": \\\"lhs\\\",\\n            \\\"select\\\": \\\"row\\\",\\n            \\\"label\\\": 17\\n          },\\n          \\\"to\\\": {\\n            \\\"type\\\": \\\"axis\\\",\\n            \\\"anchor\\\": \\\"rhs\\\",\\n            \\\"select\\\": \\\"row\\\",\\n            \\\"label\\\": \\\"Adelie\\\"\\n          }\\n        },\\n        {\\n          \\\"type\\\": \\\"map\\\",\\n          \\\"from\\\": {\\n            \\\"type\\\": \\\"axis\\\",\\n            \\\"anchor\\\": \\\"lhs\\\",\\n            \\\"select\\\": \\\"row\\\",\\n            \\\"label\\\": 18\\n          },\\n          \\\"to\\\": {\\n            \\\"type\\\": \\\"axis\\\",\\n            \\\"anchor\\\": \\\"rhs\\\",\\n            \\\"select\\\": \\\"row\\\",\\n            \\\"label\\\": \\\"Adelie\\\"\\n          }\\n        },\\n        {\\n          \\\"type\\\": \\\"map\\\",\\n          \\\"from\\\": {\\n            \\\"type\\\": \\\"axis\\\",\\n            \\\"anchor\\\": \\\"lhs\\\",\\n            \\\"select\\\": \\\"row\\\",\\n            \\\"label\\\": 19\\n          },\\n          \\\"to\\\": {\\n            \\\"type\\\": \\\"axis\\\",\\n            \\\"anchor\\\": \\\"rhs\\\",\\n            \\\"select\\\": \\\"row\\\",\\n            \\\"label\\\": \\\"Adelie\\\"\\n          }\\n        },\\n        {\\n          \\\"type\\\": \\\"map\\\",\\n          \\\"from\\\": {\\n            \\\"type\\\": \\\"axis\\\",\\n            \\\"anchor\\\": \\\"lhs\\\",\\n            \\\"select\\\": \\\"row\\\",\\n            \\\"label\\\": 20\\n          },\\n          \\\"to\\\": {\\n            \\\"type\\\": \\\"axis\\\",\\n            \\\"anchor\\\": \\\"rhs\\\",\\n            \\\"select\\\": \\\"row\\\",\\n            \\\"label\\\": \\\"Adelie\\\"\\n          }\\n        },\\n        {\\n          \\\"type\\\": \\\"map\\\",\\n          \\\"from\\\": {\\n            \\\"type\\\": \\\"axis\\\",\\n            \\\"anchor\\\": \\\"lhs\\\",\\n            \\\"select\\\": \\\"row\\\",\\n            \\\"label\\\": 21\\n          },\\n          \\\"to\\\": {\\n            \\\"type\\\": \\\"axis\\\",\\n            \\\"anchor\\\": \\\"rhs\\\",\\n            \\\"select\\\": \\\"row\\\",\\n            \\\"label\\\": \\\"Adelie\\\"\\n          }\\n        },\\n        {\\n          \\\"type\\\": \\\"map\\\",\\n          \\\"from\\\": {\\n            \\\"type\\\": \\\"axis\\\",\\n            \\\"anchor\\\": \\\"lhs\\\",\\n            \\\"select\\\": \\\"row\\\",\\n            \\\"label\\\": 22\\n          },\\n          \\\"to\\\": {\\n            \\\"type\\\": \\\"axis\\\",\\n            \\\"anchor\\\": \\\"rhs\\\",\\n            \\\"select\\\": \\\"row\\\",\\n            \\\"label\\\": \\\"Adelie\\\"\\n          }\\n        },\\n        {\\n          \\\"type\\\": \\\"map\\\",\\n          \\\"from\\\": {\\n            \\\"type\\\": \\\"axis\\\",\\n            \\\"anchor\\\": \\\"lhs\\\",\\n            \\\"select\\\": \\\"row\\\",\\n            \\\"label\\\": 23\\n          },\\n          \\\"to\\\": {\\n            \\\"type\\\": \\\"axis\\\",\\n            \\\"anchor\\\": \\\"rhs\\\",\\n            \\\"select\\\": \\\"row\\\",\\n            \\\"label\\\": \\\"Adelie\\\"\\n          }\\n        },\\n        {\\n          \\\"type\\\": \\\"map\\\",\\n          \\\"from\\\": {\\n            \\\"type\\\": \\\"axis\\\",\\n            \\\"anchor\\\": \\\"lhs\\\",\\n            \\\"select\\\": \\\"row\\\",\\n            \\\"label\\\": 24\\n          },\\n          \\\"to\\\": {\\n            \\\"type\\\": \\\"axis\\\",\\n            \\\"anchor\\\": \\\"rhs\\\",\\n            \\\"select\\\": \\\"row\\\",\\n            \\\"label\\\": \\\"Adelie\\\"\\n          }\\n        },\\n        {\\n          \\\"type\\\": \\\"map\\\",\\n          \\\"from\\\": {\\n            \\\"type\\\": \\\"axis\\\",\\n            \\\"anchor\\\": \\\"lhs\\\",\\n            \\\"select\\\": \\\"row\\\",\\n            \\\"label\\\": 25\\n          },\\n          \\\"to\\\": {\\n            \\\"type\\\": \\\"axis\\\",\\n            \\\"anchor\\\": \\\"rhs\\\",\\n            \\\"select\\\": \\\"row\\\",\\n            \\\"label\\\": \\\"Adelie\\\"\\n          }\\n        },\\n        {\\n          \\\"type\\\": \\\"map\\\",\\n          \\\"from\\\": {\\n            \\\"type\\\": \\\"axis\\\",\\n            \\\"anchor\\\": \\\"lhs\\\",\\n            \\\"select\\\": \\\"row\\\",\\n            \\\"label\\\": 26\\n          },\\n          \\\"to\\\": {\\n            \\\"type\\\": \\\"axis\\\",\\n            \\\"anchor\\\": \\\"rhs\\\",\\n            \\\"select\\\": \\\"row\\\",\\n            \\\"label\\\": \\\"Adelie\\\"\\n          }\\n        },\\n        {\\n          \\\"type\\\": \\\"map\\\",\\n          \\\"from\\\": {\\n            \\\"type\\\": \\\"axis\\\",\\n            \\\"anchor\\\": \\\"lhs\\\",\\n            \\\"select\\\": \\\"row\\\",\\n            \\\"label\\\": 27\\n          },\\n          \\\"to\\\": {\\n            \\\"type\\\": \\\"axis\\\",\\n            \\\"anchor\\\": \\\"rhs\\\",\\n            \\\"select\\\": \\\"row\\\",\\n            \\\"label\\\": \\\"Adelie\\\"\\n          }\\n        },\\n        {\\n          \\\"type\\\": \\\"map\\\",\\n          \\\"from\\\": {\\n            \\\"type\\\": \\\"axis\\\",\\n            \\\"anchor\\\": \\\"lhs\\\",\\n            \\\"select\\\": \\\"row\\\",\\n            \\\"label\\\": 28\\n          },\\n          \\\"to\\\": {\\n            \\\"type\\\": \\\"axis\\\",\\n            \\\"anchor\\\": \\\"rhs\\\",\\n            \\\"select\\\": \\\"row\\\",\\n            \\\"label\\\": \\\"Adelie\\\"\\n          }\\n        },\\n        {\\n          \\\"type\\\": \\\"map\\\",\\n          \\\"from\\\": {\\n            \\\"type\\\": \\\"axis\\\",\\n            \\\"anchor\\\": \\\"lhs\\\",\\n            \\\"select\\\": \\\"row\\\",\\n            \\\"label\\\": 29\\n          },\\n          \\\"to\\\": {\\n            \\\"type\\\": \\\"axis\\\",\\n            \\\"anchor\\\": \\\"rhs\\\",\\n            \\\"select\\\": \\\"row\\\",\\n            \\\"label\\\": \\\"Adelie\\\"\\n          }\\n        },\\n        {\\n          \\\"type\\\": \\\"map\\\",\\n          \\\"from\\\": {\\n            \\\"type\\\": \\\"axis\\\",\\n            \\\"anchor\\\": \\\"lhs\\\",\\n            \\\"select\\\": \\\"row\\\",\\n            \\\"label\\\": 30\\n          },\\n          \\\"to\\\": {\\n            \\\"type\\\": \\\"axis\\\",\\n            \\\"anchor\\\": \\\"rhs\\\",\\n            \\\"select\\\": \\\"row\\\",\\n            \\\"label\\\": \\\"Adelie\\\"\\n          }\\n        },\\n        {\\n          \\\"type\\\": \\\"map\\\",\\n          \\\"from\\\": {\\n            \\\"type\\\": \\\"axis\\\",\\n            \\\"anchor\\\": \\\"lhs\\\",\\n            \\\"select\\\": \\\"row\\\",\\n            \\\"label\\\": 31\\n          },\\n          \\\"to\\\": {\\n            \\\"type\\\": \\\"axis\\\",\\n            \\\"anchor\\\": \\\"rhs\\\",\\n            \\\"select\\\": \\\"row\\\",\\n            \\\"label\\\": \\\"Adelie\\\"\\n          }\\n        },\\n        {\\n          \\\"type\\\": \\\"map\\\",\\n          \\\"from\\\": {\\n            \\\"type\\\": \\\"axis\\\",\\n            \\\"anchor\\\": \\\"lhs\\\",\\n            \\\"select\\\": \\\"row\\\",\\n            \\\"label\\\": 32\\n          },\\n          \\\"to\\\": {\\n            \\\"type\\\": \\\"axis\\\",\\n            \\\"anchor\\\": \\\"rhs\\\",\\n            \\\"select\\\": \\\"row\\\",\\n            \\\"label\\\": \\\"Adelie\\\"\\n          }\\n        },\\n        {\\n          \\\"type\\\": \\\"map\\\",\\n          \\\"from\\\": {\\n            \\\"type\\\": \\\"axis\\\",\\n            \\\"anchor\\\": \\\"lhs\\\",\\n            \\\"select\\\": \\\"row\\\",\\n            \\\"label\\\": 33\\n          },\\n          \\\"to\\\": {\\n            \\\"type\\\": \\\"axis\\\",\\n            \\\"anchor\\\": \\\"rhs\\\",\\n            \\\"select\\\": \\\"row\\\",\\n            \\\"label\\\": \\\"Adelie\\\"\\n          }\\n        },\\n        {\\n          \\\"type\\\": \\\"map\\\",\\n          \\\"from\\\": {\\n            \\\"type\\\": \\\"axis\\\",\\n            \\\"anchor\\\": \\\"lhs\\\",\\n            \\\"select\\\": \\\"row\\\",\\n            \\\"label\\\": 34\\n          },\\n          \\\"to\\\": {\\n            \\\"type\\\": \\\"axis\\\",\\n            \\\"anchor\\\": \\\"rhs\\\",\\n            \\\"select\\\": \\\"row\\\",\\n            \\\"label\\\": \\\"Adelie\\\"\\n          }\\n        },\\n        {\\n          \\\"type\\\": \\\"map\\\",\\n          \\\"from\\\": {\\n            \\\"type\\\": \\\"axis\\\",\\n            \\\"anchor\\\": \\\"lhs\\\",\\n            \\\"select\\\": \\\"row\\\",\\n            \\\"label\\\": 35\\n          },\\n          \\\"to\\\": {\\n            \\\"type\\\": \\\"axis\\\",\\n            \\\"anchor\\\": \\\"rhs\\\",\\n            \\\"select\\\": \\\"row\\\",\\n            \\\"label\\\": \\\"Adelie\\\"\\n          }\\n        },\\n        {\\n          \\\"type\\\": \\\"map\\\",\\n          \\\"from\\\": {\\n            \\\"type\\\": \\\"axis\\\",\\n            \\\"anchor\\\": \\\"lhs\\\",\\n            \\\"select\\\": \\\"row\\\",\\n            \\\"label\\\": 36\\n          },\\n          \\\"to\\\": {\\n            \\\"type\\\": \\\"axis\\\",\\n            \\\"anchor\\\": \\\"rhs\\\",\\n            \\\"select\\\": \\\"row\\\",\\n            \\\"label\\\": \\\"Adelie\\\"\\n          }\\n        },\\n        {\\n          \\\"type\\\": \\\"map\\\",\\n          \\\"from\\\": {\\n            \\\"type\\\": \\\"axis\\\",\\n            \\\"anchor\\\": \\\"lhs\\\",\\n            \\\"select\\\": \\\"row\\\",\\n            \\\"label\\\": 37\\n          },\\n          \\\"to\\\": {\\n            \\\"type\\\": \\\"axis\\\",\\n            \\\"anchor\\\": \\\"rhs\\\",\\n            \\\"select\\\": \\\"row\\\",\\n            \\\"label\\\": \\\"Adelie\\\"\\n          }\\n        },\\n        {\\n          \\\"type\\\": \\\"map\\\",\\n          \\\"from\\\": {\\n            \\\"type\\\": \\\"axis\\\",\\n            \\\"anchor\\\": \\\"lhs\\\",\\n            \\\"select\\\": \\\"row\\\",\\n            \\\"label\\\": 38\\n          },\\n          \\\"to\\\": {\\n            \\\"type\\\": \\\"axis\\\",\\n            \\\"anchor\\\": \\\"rhs\\\",\\n            \\\"select\\\": \\\"row\\\",\\n            \\\"label\\\": \\\"Adelie\\\"\\n          }\\n        },\\n        {\\n          \\\"type\\\": \\\"map\\\",\\n          \\\"from\\\": {\\n            \\\"type\\\": \\\"axis\\\",\\n            \\\"anchor\\\": \\\"lhs\\\",\\n            \\\"select\\\": \\\"row\\\",\\n            \\\"label\\\": 39\\n          },\\n          \\\"to\\\": {\\n            \\\"type\\\": \\\"axis\\\",\\n            \\\"anchor\\\": \\\"rhs\\\",\\n            \\\"select\\\": \\\"row\\\",\\n            \\\"label\\\": \\\"Adelie\\\"\\n          }\\n        },\\n        {\\n          \\\"type\\\": \\\"map\\\",\\n          \\\"from\\\": {\\n            \\\"type\\\": \\\"axis\\\",\\n            \\\"anchor\\\": \\\"lhs\\\",\\n            \\\"select\\\": \\\"row\\\",\\n            \\\"label\\\": 40\\n          },\\n          \\\"to\\\": {\\n            \\\"type\\\": \\\"axis\\\",\\n            \\\"anchor\\\": \\\"rhs\\\",\\n            \\\"select\\\": \\\"row\\\",\\n            \\\"label\\\": \\\"Adelie\\\"\\n          }\\n        },\\n        {\\n          \\\"type\\\": \\\"map\\\",\\n          \\\"from\\\": {\\n            \\\"type\\\": \\\"axis\\\",\\n            \\\"anchor\\\": \\\"lhs\\\",\\n            \\\"select\\\": \\\"row\\\",\\n            \\\"label\\\": 41\\n          },\\n          \\\"to\\\": {\\n            \\\"type\\\": \\\"axis\\\",\\n            \\\"anchor\\\": \\\"rhs\\\",\\n            \\\"select\\\": \\\"row\\\",\\n            \\\"label\\\": \\\"Adelie\\\"\\n          }\\n        },\\n        {\\n          \\\"type\\\": \\\"map\\\",\\n          \\\"from\\\": {\\n            \\\"type\\\": \\\"axis\\\",\\n            \\\"anchor\\\": \\\"lhs\\\",\\n            \\\"select\\\": \\\"row\\\",\\n            \\\"label\\\": 42\\n          },\\n          \\\"to\\\": {\\n            \\\"type\\\": \\\"axis\\\",\\n            \\\"anchor\\\": \\\"rhs\\\",\\n            \\\"select\\\": \\\"row\\\",\\n            \\\"label\\\": \\\"Adelie\\\"\\n          }\\n        },\\n        {\\n          \\\"type\\\": \\\"map\\\",\\n          \\\"from\\\": {\\n            \\\"type\\\": \\\"axis\\\",\\n            \\\"anchor\\\": \\\"lhs\\\",\\n            \\\"select\\\": \\\"row\\\",\\n            \\\"label\\\": 43\\n          },\\n          \\\"to\\\": {\\n            \\\"type\\\": \\\"axis\\\",\\n            \\\"anchor\\\": \\\"rhs\\\",\\n            \\\"select\\\": \\\"row\\\",\\n            \\\"label\\\": \\\"Adelie\\\"\\n          }\\n        },\\n        {\\n          \\\"type\\\": \\\"map\\\",\\n          \\\"from\\\": {\\n            \\\"type\\\": \\\"axis\\\",\\n            \\\"anchor\\\": \\\"lhs\\\",\\n            \\\"select\\\": \\\"row\\\",\\n            \\\"label\\\": 44\\n          },\\n          \\\"to\\\": {\\n            \\\"type\\\": \\\"axis\\\",\\n            \\\"anchor\\\": \\\"rhs\\\",\\n            \\\"select\\\": \\\"row\\\",\\n            \\\"label\\\": \\\"Adelie\\\"\\n          }\\n        },\\n        {\\n          \\\"type\\\": \\\"map\\\",\\n          \\\"from\\\": {\\n            \\\"type\\\": \\\"axis\\\",\\n            \\\"anchor\\\": \\\"lhs\\\",\\n            \\\"select\\\": \\\"row\\\",\\n            \\\"label\\\": 45\\n          },\\n          \\\"to\\\": {\\n            \\\"type\\\": \\\"axis\\\",\\n            \\\"anchor\\\": \\\"rhs\\\",\\n            \\\"select\\\": \\\"row\\\",\\n            \\\"label\\\": \\\"Adelie\\\"\\n          }\\n        },\\n        {\\n          \\\"type\\\": \\\"map\\\",\\n          \\\"from\\\": {\\n            \\\"type\\\": \\\"axis\\\",\\n            \\\"anchor\\\": \\\"lhs\\\",\\n            \\\"select\\\": \\\"row\\\",\\n            \\\"label\\\": 46\\n          },\\n          \\\"to\\\": {\\n            \\\"type\\\": \\\"axis\\\",\\n            \\\"anchor\\\": \\\"rhs\\\",\\n            \\\"select\\\": \\\"row\\\",\\n            \\\"label\\\": \\\"Adelie\\\"\\n          }\\n        },\\n        {\\n          \\\"type\\\": \\\"map\\\",\\n          \\\"from\\\": {\\n            \\\"type\\\": \\\"axis\\\",\\n            \\\"anchor\\\": \\\"lhs\\\",\\n            \\\"select\\\": \\\"row\\\",\\n            \\\"label\\\": 48\\n          },\\n          \\\"to\\\": {\\n            \\\"type\\\": \\\"axis\\\",\\n            \\\"anchor\\\": \\\"rhs\\\",\\n            \\\"select\\\": \\\"row\\\",\\n            \\\"label\\\": \\\"Adelie\\\"\\n          }\\n        },\\n        {\\n          \\\"type\\\": \\\"map\\\",\\n          \\\"from\\\": {\\n            \\\"type\\\": \\\"axis\\\",\\n            \\\"anchor\\\": \\\"lhs\\\",\\n            \\\"select\\\": \\\"row\\\",\\n            \\\"label\\\": 49\\n          },\\n          \\\"to\\\": {\\n            \\\"type\\\": \\\"axis\\\",\\n            \\\"anchor\\\": \\\"rhs\\\",\\n            \\\"select\\\": \\\"row\\\",\\n            \\\"label\\\": \\\"Adelie\\\"\\n          }\\n        },\\n        {\\n          \\\"type\\\": \\\"map\\\",\\n          \\\"from\\\": {\\n            \\\"type\\\": \\\"axis\\\",\\n            \\\"anchor\\\": \\\"lhs\\\",\\n            \\\"select\\\": \\\"row\\\",\\n            \\\"label\\\": 50\\n          },\\n          \\\"to\\\": {\\n            \\\"type\\\": \\\"axis\\\",\\n            \\\"anchor\\\": \\\"rhs\\\",\\n            \\\"select\\\": \\\"row\\\",\\n            \\\"label\\\": \\\"Adelie\\\"\\n          }\\n        },\\n        {\\n          \\\"type\\\": \\\"map\\\",\\n          \\\"from\\\": {\\n            \\\"type\\\": \\\"axis\\\",\\n            \\\"anchor\\\": \\\"lhs\\\",\\n            \\\"select\\\": \\\"row\\\",\\n            \\\"label\\\": 51\\n          },\\n          \\\"to\\\": {\\n            \\\"type\\\": \\\"axis\\\",\\n            \\\"anchor\\\": \\\"rhs\\\",\\n            \\\"select\\\": \\\"row\\\",\\n            \\\"label\\\": \\\"Adelie\\\"\\n          }\\n        },\\n        {\\n          \\\"type\\\": \\\"map\\\",\\n          \\\"from\\\": {\\n            \\\"type\\\": \\\"axis\\\",\\n            \\\"anchor\\\": \\\"lhs\\\",\\n            \\\"select\\\": \\\"row\\\",\\n            \\\"label\\\": 52\\n          },\\n          \\\"to\\\": {\\n            \\\"type\\\": \\\"axis\\\",\\n            \\\"anchor\\\": \\\"rhs\\\",\\n            \\\"select\\\": \\\"row\\\",\\n            \\\"label\\\": \\\"Adelie\\\"\\n          }\\n        },\\n        {\\n          \\\"type\\\": \\\"map\\\",\\n          \\\"from\\\": {\\n            \\\"type\\\": \\\"axis\\\",\\n            \\\"anchor\\\": \\\"lhs\\\",\\n            \\\"select\\\": \\\"row\\\",\\n            \\\"label\\\": 53\\n          },\\n          \\\"to\\\": {\\n            \\\"type\\\": \\\"axis\\\",\\n            \\\"anchor\\\": \\\"rhs\\\",\\n            \\\"select\\\": \\\"row\\\",\\n            \\\"label\\\": \\\"Adelie\\\"\\n          }\\n        },\\n        {\\n          \\\"type\\\": \\\"map\\\",\\n          \\\"from\\\": {\\n            \\\"type\\\": \\\"axis\\\",\\n            \\\"anchor\\\": \\\"lhs\\\",\\n            \\\"select\\\": \\\"row\\\",\\n            \\\"label\\\": 54\\n          },\\n          \\\"to\\\": {\\n            \\\"type\\\": \\\"axis\\\",\\n            \\\"anchor\\\": \\\"rhs\\\",\\n            \\\"select\\\": \\\"row\\\",\\n            \\\"label\\\": \\\"Adelie\\\"\\n          }\\n        },\\n        {\\n          \\\"type\\\": \\\"map\\\",\\n          \\\"from\\\": {\\n            \\\"type\\\": \\\"axis\\\",\\n            \\\"anchor\\\": \\\"lhs\\\",\\n            \\\"select\\\": \\\"row\\\",\\n            \\\"label\\\": 55\\n          },\\n          \\\"to\\\": {\\n            \\\"type\\\": \\\"axis\\\",\\n            \\\"anchor\\\": \\\"rhs\\\",\\n            \\\"select\\\": \\\"row\\\",\\n            \\\"label\\\": \\\"Adelie\\\"\\n          }\\n        },\\n        {\\n          \\\"type\\\": \\\"map\\\",\\n          \\\"from\\\": {\\n            \\\"type\\\": \\\"axis\\\",\\n            \\\"anchor\\\": \\\"lhs\\\",\\n            \\\"select\\\": \\\"row\\\",\\n            \\\"label\\\": 56\\n          },\\n          \\\"to\\\": {\\n            \\\"type\\\": \\\"axis\\\",\\n            \\\"anchor\\\": \\\"rhs\\\",\\n            \\\"select\\\": \\\"row\\\",\\n            \\\"label\\\": \\\"Adelie\\\"\\n          }\\n        },\\n        {\\n          \\\"type\\\": \\\"map\\\",\\n          \\\"from\\\": {\\n            \\\"type\\\": \\\"axis\\\",\\n            \\\"anchor\\\": \\\"lhs\\\",\\n            \\\"select\\\": \\\"row\\\",\\n            \\\"label\\\": 57\\n          },\\n          \\\"to\\\": {\\n            \\\"type\\\": \\\"axis\\\",\\n            \\\"anchor\\\": \\\"rhs\\\",\\n            \\\"select\\\": \\\"row\\\",\\n            \\\"label\\\": \\\"Adelie\\\"\\n          }\\n        },\\n        {\\n          \\\"type\\\": \\\"map\\\",\\n          \\\"from\\\": {\\n            \\\"type\\\": \\\"axis\\\",\\n            \\\"anchor\\\": \\\"lhs\\\",\\n            \\\"select\\\": \\\"row\\\",\\n            \\\"label\\\": 58\\n          },\\n          \\\"to\\\": {\\n            \\\"type\\\": \\\"axis\\\",\\n            \\\"anchor\\\": \\\"rhs\\\",\\n            \\\"select\\\": \\\"row\\\",\\n            \\\"label\\\": \\\"Adelie\\\"\\n          }\\n        },\\n        {\\n          \\\"type\\\": \\\"map\\\",\\n          \\\"from\\\": {\\n            \\\"type\\\": \\\"axis\\\",\\n            \\\"anchor\\\": \\\"lhs\\\",\\n            \\\"select\\\": \\\"row\\\",\\n            \\\"label\\\": 59\\n          },\\n          \\\"to\\\": {\\n            \\\"type\\\": \\\"axis\\\",\\n            \\\"anchor\\\": \\\"rhs\\\",\\n            \\\"select\\\": \\\"row\\\",\\n            \\\"label\\\": \\\"Adelie\\\"\\n          }\\n        },\\n        {\\n          \\\"type\\\": \\\"map\\\",\\n          \\\"from\\\": {\\n            \\\"type\\\": \\\"axis\\\",\\n            \\\"anchor\\\": \\\"lhs\\\",\\n            \\\"select\\\": \\\"row\\\",\\n            \\\"label\\\": 60\\n          },\\n          \\\"to\\\": {\\n            \\\"type\\\": \\\"axis\\\",\\n            \\\"anchor\\\": \\\"rhs\\\",\\n            \\\"select\\\": \\\"row\\\",\\n            \\\"label\\\": \\\"Adelie\\\"\\n          }\\n        },\\n        {\\n          \\\"type\\\": \\\"map\\\",\\n          \\\"from\\\": {\\n            \\\"type\\\": \\\"axis\\\",\\n            \\\"anchor\\\": \\\"lhs\\\",\\n            \\\"select\\\": \\\"row\\\",\\n            \\\"label\\\": 61\\n          },\\n          \\\"to\\\": {\\n            \\\"type\\\": \\\"axis\\\",\\n            \\\"anchor\\\": \\\"rhs\\\",\\n            \\\"select\\\": \\\"row\\\",\\n            \\\"label\\\": \\\"Adelie\\\"\\n          }\\n        },\\n        {\\n          \\\"type\\\": \\\"map\\\",\\n          \\\"from\\\": {\\n            \\\"type\\\": \\\"axis\\\",\\n            \\\"anchor\\\": \\\"lhs\\\",\\n            \\\"select\\\": \\\"row\\\",\\n            \\\"label\\\": 62\\n          },\\n          \\\"to\\\": {\\n            \\\"type\\\": \\\"axis\\\",\\n            \\\"anchor\\\": \\\"rhs\\\",\\n            \\\"select\\\": \\\"row\\\",\\n            \\\"label\\\": \\\"Adelie\\\"\\n          }\\n        },\\n        {\\n          \\\"type\\\": \\\"map\\\",\\n          \\\"from\\\": {\\n            \\\"type\\\": \\\"axis\\\",\\n            \\\"anchor\\\": \\\"lhs\\\",\\n            \\\"select\\\": \\\"row\\\",\\n            \\\"label\\\": 63\\n          },\\n          \\\"to\\\": {\\n            \\\"type\\\": \\\"axis\\\",\\n            \\\"anchor\\\": \\\"rhs\\\",\\n            \\\"select\\\": \\\"row\\\",\\n            \\\"label\\\": \\\"Adelie\\\"\\n          }\\n        },\\n        {\\n          \\\"type\\\": \\\"map\\\",\\n          \\\"from\\\": {\\n            \\\"type\\\": \\\"axis\\\",\\n            \\\"anchor\\\": \\\"lhs\\\",\\n            \\\"select\\\": \\\"row\\\",\\n            \\\"label\\\": 64\\n          },\\n          \\\"to\\\": {\\n            \\\"type\\\": \\\"axis\\\",\\n            \\\"anchor\\\": \\\"rhs\\\",\\n            \\\"select\\\": \\\"row\\\",\\n            \\\"label\\\": \\\"Adelie\\\"\\n          }\\n        },\\n        {\\n          \\\"type\\\": \\\"map\\\",\\n          \\\"from\\\": {\\n            \\\"type\\\": \\\"axis\\\",\\n            \\\"anchor\\\": \\\"lhs\\\",\\n            \\\"select\\\": \\\"row\\\",\\n            \\\"label\\\": 65\\n          },\\n          \\\"to\\\": {\\n            \\\"type\\\": \\\"axis\\\",\\n            \\\"anchor\\\": \\\"rhs\\\",\\n            \\\"select\\\": \\\"row\\\",\\n            \\\"label\\\": \\\"Adelie\\\"\\n          }\\n        },\\n        {\\n          \\\"type\\\": \\\"map\\\",\\n          \\\"from\\\": {\\n            \\\"type\\\": \\\"axis\\\",\\n            \\\"anchor\\\": \\\"lhs\\\",\\n            \\\"select\\\": \\\"row\\\",\\n            \\\"label\\\": 66\\n          },\\n          \\\"to\\\": {\\n            \\\"type\\\": \\\"axis\\\",\\n            \\\"anchor\\\": \\\"rhs\\\",\\n            \\\"select\\\": \\\"row\\\",\\n            \\\"label\\\": \\\"Adelie\\\"\\n          }\\n        },\\n        {\\n          \\\"type\\\": \\\"map\\\",\\n          \\\"from\\\": {\\n            \\\"type\\\": \\\"axis\\\",\\n            \\\"anchor\\\": \\\"lhs\\\",\\n            \\\"select\\\": \\\"row\\\",\\n            \\\"label\\\": 67\\n          },\\n          \\\"to\\\": {\\n            \\\"type\\\": \\\"axis\\\",\\n            \\\"anchor\\\": \\\"rhs\\\",\\n            \\\"select\\\": \\\"row\\\",\\n            \\\"label\\\": \\\"Adelie\\\"\\n          }\\n        },\\n        {\\n          \\\"type\\\": \\\"map\\\",\\n          \\\"from\\\": {\\n            \\\"type\\\": \\\"axis\\\",\\n            \\\"anchor\\\": \\\"lhs\\\",\\n            \\\"select\\\": \\\"row\\\",\\n            \\\"label\\\": 68\\n          },\\n          \\\"to\\\": {\\n            \\\"type\\\": \\\"axis\\\",\\n            \\\"anchor\\\": \\\"rhs\\\",\\n            \\\"select\\\": \\\"row\\\",\\n            \\\"label\\\": \\\"Adelie\\\"\\n          }\\n        },\\n        {\\n          \\\"type\\\": \\\"map\\\",\\n          \\\"from\\\": {\\n            \\\"type\\\": \\\"axis\\\",\\n            \\\"anchor\\\": \\\"lhs\\\",\\n            \\\"select\\\": \\\"row\\\",\\n            \\\"label\\\": 69\\n          },\\n          \\\"to\\\": {\\n            \\\"type\\\": \\\"axis\\\",\\n            \\\"anchor\\\": \\\"rhs\\\",\\n            \\\"select\\\": \\\"row\\\",\\n            \\\"label\\\": \\\"Adelie\\\"\\n          }\\n        },\\n        {\\n          \\\"type\\\": \\\"map\\\",\\n          \\\"from\\\": {\\n            \\\"type\\\": \\\"axis\\\",\\n            \\\"anchor\\\": \\\"lhs\\\",\\n            \\\"select\\\": \\\"row\\\",\\n            \\\"label\\\": 70\\n          },\\n          \\\"to\\\": {\\n            \\\"type\\\": \\\"axis\\\",\\n            \\\"anchor\\\": \\\"rhs\\\",\\n            \\\"select\\\": \\\"row\\\",\\n            \\\"label\\\": \\\"Adelie\\\"\\n          }\\n        },\\n        {\\n          \\\"type\\\": \\\"map\\\",\\n          \\\"from\\\": {\\n            \\\"type\\\": \\\"axis\\\",\\n            \\\"anchor\\\": \\\"lhs\\\",\\n            \\\"select\\\": \\\"row\\\",\\n            \\\"label\\\": 71\\n          },\\n          \\\"to\\\": {\\n            \\\"type\\\": \\\"axis\\\",\\n            \\\"anchor\\\": \\\"rhs\\\",\\n            \\\"select\\\": \\\"row\\\",\\n            \\\"label\\\": \\\"Adelie\\\"\\n          }\\n        },\\n        {\\n          \\\"type\\\": \\\"map\\\",\\n          \\\"from\\\": {\\n            \\\"type\\\": \\\"axis\\\",\\n            \\\"anchor\\\": \\\"lhs\\\",\\n            \\\"select\\\": \\\"row\\\",\\n            \\\"label\\\": 72\\n          },\\n          \\\"to\\\": {\\n            \\\"type\\\": \\\"axis\\\",\\n            \\\"anchor\\\": \\\"rhs\\\",\\n            \\\"select\\\": \\\"row\\\",\\n            \\\"label\\\": \\\"Adelie\\\"\\n          }\\n        },\\n        {\\n          \\\"type\\\": \\\"map\\\",\\n          \\\"from\\\": {\\n            \\\"type\\\": \\\"axis\\\",\\n            \\\"anchor\\\": \\\"lhs\\\",\\n            \\\"select\\\": \\\"row\\\",\\n            \\\"label\\\": 73\\n          },\\n          \\\"to\\\": {\\n            \\\"type\\\": \\\"axis\\\",\\n            \\\"anchor\\\": \\\"rhs\\\",\\n            \\\"select\\\": \\\"row\\\",\\n            \\\"label\\\": \\\"Adelie\\\"\\n          }\\n        },\\n        {\\n          \\\"type\\\": \\\"map\\\",\\n          \\\"from\\\": {\\n            \\\"type\\\": \\\"axis\\\",\\n            \\\"anchor\\\": \\\"lhs\\\",\\n            \\\"select\\\": \\\"row\\\",\\n            \\\"label\\\": 74\\n          },\\n          \\\"to\\\": {\\n            \\\"type\\\": \\\"axis\\\",\\n            \\\"anchor\\\": \\\"rhs\\\",\\n            \\\"select\\\": \\\"row\\\",\\n            \\\"label\\\": \\\"Adelie\\\"\\n          }\\n        },\\n        {\\n          \\\"type\\\": \\\"map\\\",\\n          \\\"from\\\": {\\n            \\\"type\\\": \\\"axis\\\",\\n            \\\"anchor\\\": \\\"lhs\\\",\\n            \\\"select\\\": \\\"row\\\",\\n            \\\"label\\\": 75\\n          },\\n          \\\"to\\\": {\\n            \\\"type\\\": \\\"axis\\\",\\n            \\\"anchor\\\": \\\"rhs\\\",\\n            \\\"select\\\": \\\"row\\\",\\n            \\\"label\\\": \\\"Adelie\\\"\\n          }\\n        },\\n        {\\n          \\\"type\\\": \\\"map\\\",\\n          \\\"from\\\": {\\n            \\\"type\\\": \\\"axis\\\",\\n            \\\"anchor\\\": \\\"lhs\\\",\\n            \\\"select\\\": \\\"row\\\",\\n            \\\"label\\\": 76\\n          },\\n          \\\"to\\\": {\\n            \\\"type\\\": \\\"axis\\\",\\n            \\\"anchor\\\": \\\"rhs\\\",\\n            \\\"select\\\": \\\"row\\\",\\n            \\\"label\\\": \\\"Adelie\\\"\\n          }\\n        },\\n        {\\n          \\\"type\\\": \\\"map\\\",\\n          \\\"from\\\": {\\n            \\\"type\\\": \\\"axis\\\",\\n            \\\"anchor\\\": \\\"lhs\\\",\\n            \\\"select\\\": \\\"row\\\",\\n            \\\"label\\\": 77\\n          },\\n          \\\"to\\\": {\\n            \\\"type\\\": \\\"axis\\\",\\n            \\\"anchor\\\": \\\"rhs\\\",\\n            \\\"select\\\": \\\"row\\\",\\n            \\\"label\\\": \\\"Adelie\\\"\\n          }\\n        },\\n        {\\n          \\\"type\\\": \\\"map\\\",\\n          \\\"from\\\": {\\n            \\\"type\\\": \\\"axis\\\",\\n            \\\"anchor\\\": \\\"lhs\\\",\\n            \\\"select\\\": \\\"row\\\",\\n            \\\"label\\\": 78\\n          },\\n          \\\"to\\\": {\\n            \\\"type\\\": \\\"axis\\\",\\n            \\\"anchor\\\": \\\"rhs\\\",\\n            \\\"select\\\": \\\"row\\\",\\n            \\\"label\\\": \\\"Adelie\\\"\\n          }\\n        },\\n        {\\n          \\\"type\\\": \\\"map\\\",\\n          \\\"from\\\": {\\n            \\\"type\\\": \\\"axis\\\",\\n            \\\"anchor\\\": \\\"lhs\\\",\\n            \\\"select\\\": \\\"row\\\",\\n            \\\"label\\\": 79\\n          },\\n          \\\"to\\\": {\\n            \\\"type\\\": \\\"axis\\\",\\n            \\\"anchor\\\": \\\"rhs\\\",\\n            \\\"select\\\": \\\"row\\\",\\n            \\\"label\\\": \\\"Adelie\\\"\\n          }\\n        },\\n        {\\n          \\\"type\\\": \\\"map\\\",\\n          \\\"from\\\": {\\n            \\\"type\\\": \\\"axis\\\",\\n            \\\"anchor\\\": \\\"lhs\\\",\\n            \\\"select\\\": \\\"row\\\",\\n            \\\"label\\\": 80\\n          },\\n          \\\"to\\\": {\\n            \\\"type\\\": \\\"axis\\\",\\n            \\\"anchor\\\": \\\"rhs\\\",\\n            \\\"select\\\": \\\"row\\\",\\n            \\\"label\\\": \\\"Adelie\\\"\\n          }\\n        },\\n        {\\n          \\\"type\\\": \\\"map\\\",\\n          \\\"from\\\": {\\n            \\\"type\\\": \\\"axis\\\",\\n            \\\"anchor\\\": \\\"lhs\\\",\\n            \\\"select\\\": \\\"row\\\",\\n            \\\"label\\\": 81\\n          },\\n          \\\"to\\\": {\\n            \\\"type\\\": \\\"axis\\\",\\n            \\\"anchor\\\": \\\"rhs\\\",\\n            \\\"select\\\": \\\"row\\\",\\n            \\\"label\\\": \\\"Adelie\\\"\\n          }\\n        },\\n        {\\n          \\\"type\\\": \\\"map\\\",\\n          \\\"from\\\": {\\n            \\\"type\\\": \\\"axis\\\",\\n            \\\"anchor\\\": \\\"lhs\\\",\\n            \\\"select\\\": \\\"row\\\",\\n            \\\"label\\\": 82\\n          },\\n          \\\"to\\\": {\\n            \\\"type\\\": \\\"axis\\\",\\n            \\\"anchor\\\": \\\"rhs\\\",\\n            \\\"select\\\": \\\"row\\\",\\n            \\\"label\\\": \\\"Adelie\\\"\\n          }\\n        },\\n        {\\n          \\\"type\\\": \\\"map\\\",\\n          \\\"from\\\": {\\n            \\\"type\\\": \\\"axis\\\",\\n            \\\"anchor\\\": \\\"lhs\\\",\\n            \\\"select\\\": \\\"row\\\",\\n            \\\"label\\\": 83\\n          },\\n          \\\"to\\\": {\\n            \\\"type\\\": \\\"axis\\\",\\n            \\\"anchor\\\": \\\"rhs\\\",\\n            \\\"select\\\": \\\"row\\\",\\n            \\\"label\\\": \\\"Adelie\\\"\\n          }\\n        },\\n        {\\n          \\\"type\\\": \\\"map\\\",\\n          \\\"from\\\": {\\n            \\\"type\\\": \\\"axis\\\",\\n            \\\"anchor\\\": \\\"lhs\\\",\\n            \\\"select\\\": \\\"row\\\",\\n            \\\"label\\\": 84\\n          },\\n          \\\"to\\\": {\\n            \\\"type\\\": \\\"axis\\\",\\n            \\\"anchor\\\": \\\"rhs\\\",\\n            \\\"select\\\": \\\"row\\\",\\n            \\\"label\\\": \\\"Adelie\\\"\\n          }\\n        },\\n        {\\n          \\\"type\\\": \\\"map\\\",\\n          \\\"from\\\": {\\n            \\\"type\\\": \\\"axis\\\",\\n            \\\"anchor\\\": \\\"lhs\\\",\\n            \\\"select\\\": \\\"row\\\",\\n            \\\"label\\\": 85\\n          },\\n          \\\"to\\\": {\\n            \\\"type\\\": \\\"axis\\\",\\n            \\\"anchor\\\": \\\"rhs\\\",\\n            \\\"select\\\": \\\"row\\\",\\n            \\\"label\\\": \\\"Adelie\\\"\\n          }\\n        },\\n        {\\n          \\\"type\\\": \\\"map\\\",\\n          \\\"from\\\": {\\n            \\\"type\\\": \\\"axis\\\",\\n            \\\"anchor\\\": \\\"lhs\\\",\\n            \\\"select\\\": \\\"row\\\",\\n            \\\"label\\\": 86\\n          },\\n          \\\"to\\\": {\\n            \\\"type\\\": \\\"axis\\\",\\n            \\\"anchor\\\": \\\"rhs\\\",\\n            \\\"select\\\": \\\"row\\\",\\n            \\\"label\\\": \\\"Adelie\\\"\\n          }\\n        },\\n        {\\n          \\\"type\\\": \\\"map\\\",\\n          \\\"from\\\": {\\n            \\\"type\\\": \\\"axis\\\",\\n            \\\"anchor\\\": \\\"lhs\\\",\\n            \\\"select\\\": \\\"row\\\",\\n            \\\"label\\\": 87\\n          },\\n          \\\"to\\\": {\\n            \\\"type\\\": \\\"axis\\\",\\n            \\\"anchor\\\": \\\"rhs\\\",\\n            \\\"select\\\": \\\"row\\\",\\n            \\\"label\\\": \\\"Adelie\\\"\\n          }\\n        },\\n        {\\n          \\\"type\\\": \\\"map\\\",\\n          \\\"from\\\": {\\n            \\\"type\\\": \\\"axis\\\",\\n            \\\"anchor\\\": \\\"lhs\\\",\\n            \\\"select\\\": \\\"row\\\",\\n            \\\"label\\\": 88\\n          },\\n          \\\"to\\\": {\\n            \\\"type\\\": \\\"axis\\\",\\n            \\\"anchor\\\": \\\"rhs\\\",\\n            \\\"select\\\": \\\"row\\\",\\n            \\\"label\\\": \\\"Adelie\\\"\\n          }\\n        },\\n        {\\n          \\\"type\\\": \\\"map\\\",\\n          \\\"from\\\": {\\n            \\\"type\\\": \\\"axis\\\",\\n            \\\"anchor\\\": \\\"lhs\\\",\\n            \\\"select\\\": \\\"row\\\",\\n            \\\"label\\\": 89\\n          },\\n          \\\"to\\\": {\\n            \\\"type\\\": \\\"axis\\\",\\n            \\\"anchor\\\": \\\"rhs\\\",\\n            \\\"select\\\": \\\"row\\\",\\n            \\\"label\\\": \\\"Adelie\\\"\\n          }\\n        },\\n        {\\n          \\\"type\\\": \\\"map\\\",\\n          \\\"from\\\": {\\n            \\\"type\\\": \\\"axis\\\",\\n            \\\"anchor\\\": \\\"lhs\\\",\\n            \\\"select\\\": \\\"row\\\",\\n            \\\"label\\\": 90\\n          },\\n          \\\"to\\\": {\\n            \\\"type\\\": \\\"axis\\\",\\n            \\\"anchor\\\": \\\"rhs\\\",\\n            \\\"select\\\": \\\"row\\\",\\n            \\\"label\\\": \\\"Adelie\\\"\\n          }\\n        },\\n        {\\n          \\\"type\\\": \\\"map\\\",\\n          \\\"from\\\": {\\n            \\\"type\\\": \\\"axis\\\",\\n            \\\"anchor\\\": \\\"lhs\\\",\\n            \\\"select\\\": \\\"row\\\",\\n            \\\"label\\\": 91\\n          },\\n          \\\"to\\\": {\\n            \\\"type\\\": \\\"axis\\\",\\n            \\\"anchor\\\": \\\"rhs\\\",\\n            \\\"select\\\": \\\"row\\\",\\n            \\\"label\\\": \\\"Adelie\\\"\\n          }\\n        },\\n        {\\n          \\\"type\\\": \\\"map\\\",\\n          \\\"from\\\": {\\n            \\\"type\\\": \\\"axis\\\",\\n            \\\"anchor\\\": \\\"lhs\\\",\\n            \\\"select\\\": \\\"row\\\",\\n            \\\"label\\\": 92\\n          },\\n          \\\"to\\\": {\\n            \\\"type\\\": \\\"axis\\\",\\n            \\\"anchor\\\": \\\"rhs\\\",\\n            \\\"select\\\": \\\"row\\\",\\n            \\\"label\\\": \\\"Adelie\\\"\\n          }\\n        },\\n        {\\n          \\\"type\\\": \\\"map\\\",\\n          \\\"from\\\": {\\n            \\\"type\\\": \\\"axis\\\",\\n            \\\"anchor\\\": \\\"lhs\\\",\\n            \\\"select\\\": \\\"row\\\",\\n            \\\"label\\\": 93\\n          },\\n          \\\"to\\\": {\\n            \\\"type\\\": \\\"axis\\\",\\n            \\\"anchor\\\": \\\"rhs\\\",\\n            \\\"select\\\": \\\"row\\\",\\n            \\\"label\\\": \\\"Adelie\\\"\\n          }\\n        },\\n        {\\n          \\\"type\\\": \\\"map\\\",\\n          \\\"from\\\": {\\n            \\\"type\\\": \\\"axis\\\",\\n            \\\"anchor\\\": \\\"lhs\\\",\\n            \\\"select\\\": \\\"row\\\",\\n            \\\"label\\\": 94\\n          },\\n          \\\"to\\\": {\\n            \\\"type\\\": \\\"axis\\\",\\n            \\\"anchor\\\": \\\"rhs\\\",\\n            \\\"select\\\": \\\"row\\\",\\n            \\\"label\\\": \\\"Adelie\\\"\\n          }\\n        },\\n        {\\n          \\\"type\\\": \\\"map\\\",\\n          \\\"from\\\": {\\n            \\\"type\\\": \\\"axis\\\",\\n            \\\"anchor\\\": \\\"lhs\\\",\\n            \\\"select\\\": \\\"row\\\",\\n            \\\"label\\\": 95\\n          },\\n          \\\"to\\\": {\\n            \\\"type\\\": \\\"axis\\\",\\n            \\\"anchor\\\": \\\"rhs\\\",\\n            \\\"select\\\": \\\"row\\\",\\n            \\\"label\\\": \\\"Adelie\\\"\\n          }\\n        },\\n        {\\n          \\\"type\\\": \\\"map\\\",\\n          \\\"from\\\": {\\n            \\\"type\\\": \\\"axis\\\",\\n            \\\"anchor\\\": \\\"lhs\\\",\\n            \\\"select\\\": \\\"row\\\",\\n            \\\"label\\\": 96\\n          },\\n          \\\"to\\\": {\\n            \\\"type\\\": \\\"axis\\\",\\n            \\\"anchor\\\": \\\"rhs\\\",\\n            \\\"select\\\": \\\"row\\\",\\n            \\\"label\\\": \\\"Adelie\\\"\\n          }\\n        },\\n        {\\n          \\\"type\\\": \\\"map\\\",\\n          \\\"from\\\": {\\n            \\\"type\\\": \\\"axis\\\",\\n            \\\"anchor\\\": \\\"lhs\\\",\\n            \\\"select\\\": \\\"row\\\",\\n            \\\"label\\\": 97\\n          },\\n          \\\"to\\\": {\\n            \\\"type\\\": \\\"axis\\\",\\n            \\\"anchor\\\": \\\"rhs\\\",\\n            \\\"select\\\": \\\"row\\\",\\n            \\\"label\\\": \\\"Adelie\\\"\\n          }\\n        },\\n        {\\n          \\\"type\\\": \\\"map\\\",\\n          \\\"from\\\": {\\n            \\\"type\\\": \\\"axis\\\",\\n            \\\"anchor\\\": \\\"lhs\\\",\\n            \\\"select\\\": \\\"row\\\",\\n            \\\"label\\\": 98\\n          },\\n          \\\"to\\\": {\\n            \\\"type\\\": \\\"axis\\\",\\n            \\\"anchor\\\": \\\"rhs\\\",\\n            \\\"select\\\": \\\"row\\\",\\n            \\\"label\\\": \\\"Adelie\\\"\\n          }\\n        },\\n        {\\n          \\\"type\\\": \\\"map\\\",\\n          \\\"from\\\": {\\n            \\\"type\\\": \\\"axis\\\",\\n            \\\"anchor\\\": \\\"lhs\\\",\\n            \\\"select\\\": \\\"row\\\",\\n            \\\"label\\\": 99\\n          },\\n          \\\"to\\\": {\\n            \\\"type\\\": \\\"axis\\\",\\n            \\\"anchor\\\": \\\"rhs\\\",\\n            \\\"select\\\": \\\"row\\\",\\n            \\\"label\\\": \\\"Adelie\\\"\\n          }\\n        },\\n        {\\n          \\\"type\\\": \\\"map\\\",\\n          \\\"from\\\": {\\n            \\\"type\\\": \\\"axis\\\",\\n            \\\"anchor\\\": \\\"lhs\\\",\\n            \\\"select\\\": \\\"row\\\",\\n            \\\"label\\\": 100\\n          },\\n          \\\"to\\\": {\\n            \\\"type\\\": \\\"axis\\\",\\n            \\\"anchor\\\": \\\"rhs\\\",\\n            \\\"select\\\": \\\"row\\\",\\n            \\\"label\\\": \\\"Adelie\\\"\\n          }\\n        },\\n        {\\n          \\\"type\\\": \\\"map\\\",\\n          \\\"from\\\": {\\n            \\\"type\\\": \\\"axis\\\",\\n            \\\"anchor\\\": \\\"lhs\\\",\\n            \\\"select\\\": \\\"row\\\",\\n            \\\"label\\\": 101\\n          },\\n          \\\"to\\\": {\\n            \\\"type\\\": \\\"axis\\\",\\n            \\\"anchor\\\": \\\"rhs\\\",\\n            \\\"select\\\": \\\"row\\\",\\n            \\\"label\\\": \\\"Adelie\\\"\\n          }\\n        },\\n        {\\n          \\\"type\\\": \\\"map\\\",\\n          \\\"from\\\": {\\n            \\\"type\\\": \\\"axis\\\",\\n            \\\"anchor\\\": \\\"lhs\\\",\\n            \\\"select\\\": \\\"row\\\",\\n            \\\"label\\\": 102\\n          },\\n          \\\"to\\\": {\\n            \\\"type\\\": \\\"axis\\\",\\n            \\\"anchor\\\": \\\"rhs\\\",\\n            \\\"select\\\": \\\"row\\\",\\n            \\\"label\\\": \\\"Adelie\\\"\\n          }\\n        },\\n        {\\n          \\\"type\\\": \\\"map\\\",\\n          \\\"from\\\": {\\n            \\\"type\\\": \\\"axis\\\",\\n            \\\"anchor\\\": \\\"lhs\\\",\\n            \\\"select\\\": \\\"row\\\",\\n            \\\"label\\\": 103\\n          },\\n          \\\"to\\\": {\\n            \\\"type\\\": \\\"axis\\\",\\n            \\\"anchor\\\": \\\"rhs\\\",\\n            \\\"select\\\": \\\"row\\\",\\n            \\\"label\\\": \\\"Adelie\\\"\\n          }\\n        },\\n        {\\n          \\\"type\\\": \\\"map\\\",\\n          \\\"from\\\": {\\n            \\\"type\\\": \\\"axis\\\",\\n            \\\"anchor\\\": \\\"lhs\\\",\\n            \\\"select\\\": \\\"row\\\",\\n            \\\"label\\\": 104\\n          },\\n          \\\"to\\\": {\\n            \\\"type\\\": \\\"axis\\\",\\n            \\\"anchor\\\": \\\"rhs\\\",\\n            \\\"select\\\": \\\"row\\\",\\n            \\\"label\\\": \\\"Adelie\\\"\\n          }\\n        },\\n        {\\n          \\\"type\\\": \\\"map\\\",\\n          \\\"from\\\": {\\n            \\\"type\\\": \\\"axis\\\",\\n            \\\"anchor\\\": \\\"lhs\\\",\\n            \\\"select\\\": \\\"row\\\",\\n            \\\"label\\\": 105\\n          },\\n          \\\"to\\\": {\\n            \\\"type\\\": \\\"axis\\\",\\n            \\\"anchor\\\": \\\"rhs\\\",\\n            \\\"select\\\": \\\"row\\\",\\n            \\\"label\\\": \\\"Adelie\\\"\\n          }\\n        },\\n        {\\n          \\\"type\\\": \\\"map\\\",\\n          \\\"from\\\": {\\n            \\\"type\\\": \\\"axis\\\",\\n            \\\"anchor\\\": \\\"lhs\\\",\\n            \\\"select\\\": \\\"row\\\",\\n            \\\"label\\\": 106\\n          },\\n          \\\"to\\\": {\\n            \\\"type\\\": \\\"axis\\\",\\n            \\\"anchor\\\": \\\"rhs\\\",\\n            \\\"select\\\": \\\"row\\\",\\n            \\\"label\\\": \\\"Adelie\\\"\\n          }\\n        },\\n        {\\n          \\\"type\\\": \\\"map\\\",\\n          \\\"from\\\": {\\n            \\\"type\\\": \\\"axis\\\",\\n            \\\"anchor\\\": \\\"lhs\\\",\\n            \\\"select\\\": \\\"row\\\",\\n            \\\"label\\\": 107\\n          },\\n          \\\"to\\\": {\\n            \\\"type\\\": \\\"axis\\\",\\n            \\\"anchor\\\": \\\"rhs\\\",\\n            \\\"select\\\": \\\"row\\\",\\n            \\\"label\\\": \\\"Adelie\\\"\\n          }\\n        },\\n        {\\n          \\\"type\\\": \\\"map\\\",\\n          \\\"from\\\": {\\n            \\\"type\\\": \\\"axis\\\",\\n            \\\"anchor\\\": \\\"lhs\\\",\\n            \\\"select\\\": \\\"row\\\",\\n            \\\"label\\\": 108\\n          },\\n          \\\"to\\\": {\\n            \\\"type\\\": \\\"axis\\\",\\n            \\\"anchor\\\": \\\"rhs\\\",\\n            \\\"select\\\": \\\"row\\\",\\n            \\\"label\\\": \\\"Adelie\\\"\\n          }\\n        },\\n        {\\n          \\\"type\\\": \\\"map\\\",\\n          \\\"from\\\": {\\n            \\\"type\\\": \\\"axis\\\",\\n            \\\"anchor\\\": \\\"lhs\\\",\\n            \\\"select\\\": \\\"row\\\",\\n            \\\"label\\\": 109\\n          },\\n          \\\"to\\\": {\\n            \\\"type\\\": \\\"axis\\\",\\n            \\\"anchor\\\": \\\"rhs\\\",\\n            \\\"select\\\": \\\"row\\\",\\n            \\\"label\\\": \\\"Adelie\\\"\\n          }\\n        },\\n        {\\n          \\\"type\\\": \\\"map\\\",\\n          \\\"from\\\": {\\n            \\\"type\\\": \\\"axis\\\",\\n            \\\"anchor\\\": \\\"lhs\\\",\\n            \\\"select\\\": \\\"row\\\",\\n            \\\"label\\\": 110\\n          },\\n          \\\"to\\\": {\\n            \\\"type\\\": \\\"axis\\\",\\n            \\\"anchor\\\": \\\"rhs\\\",\\n            \\\"select\\\": \\\"row\\\",\\n            \\\"label\\\": \\\"Adelie\\\"\\n          }\\n        },\\n        {\\n          \\\"type\\\": \\\"map\\\",\\n          \\\"from\\\": {\\n            \\\"type\\\": \\\"axis\\\",\\n            \\\"anchor\\\": \\\"lhs\\\",\\n            \\\"select\\\": \\\"row\\\",\\n            \\\"label\\\": 111\\n          },\\n          \\\"to\\\": {\\n            \\\"type\\\": \\\"axis\\\",\\n            \\\"anchor\\\": \\\"rhs\\\",\\n            \\\"select\\\": \\\"row\\\",\\n            \\\"label\\\": \\\"Adelie\\\"\\n          }\\n        },\\n        {\\n          \\\"type\\\": \\\"map\\\",\\n          \\\"from\\\": {\\n            \\\"type\\\": \\\"axis\\\",\\n            \\\"anchor\\\": \\\"lhs\\\",\\n            \\\"select\\\": \\\"row\\\",\\n            \\\"label\\\": 112\\n          },\\n          \\\"to\\\": {\\n            \\\"type\\\": \\\"axis\\\",\\n            \\\"anchor\\\": \\\"rhs\\\",\\n            \\\"select\\\": \\\"row\\\",\\n            \\\"label\\\": \\\"Adelie\\\"\\n          }\\n        },\\n        {\\n          \\\"type\\\": \\\"map\\\",\\n          \\\"from\\\": {\\n            \\\"type\\\": \\\"axis\\\",\\n            \\\"anchor\\\": \\\"lhs\\\",\\n            \\\"select\\\": \\\"row\\\",\\n            \\\"label\\\": 113\\n          },\\n          \\\"to\\\": {\\n            \\\"type\\\": \\\"axis\\\",\\n            \\\"anchor\\\": \\\"rhs\\\",\\n            \\\"select\\\": \\\"row\\\",\\n            \\\"label\\\": \\\"Adelie\\\"\\n          }\\n        },\\n        {\\n          \\\"type\\\": \\\"map\\\",\\n          \\\"from\\\": {\\n            \\\"type\\\": \\\"axis\\\",\\n            \\\"anchor\\\": \\\"lhs\\\",\\n            \\\"select\\\": \\\"row\\\",\\n            \\\"label\\\": 114\\n          },\\n          \\\"to\\\": {\\n            \\\"type\\\": \\\"axis\\\",\\n            \\\"anchor\\\": \\\"rhs\\\",\\n            \\\"select\\\": \\\"row\\\",\\n            \\\"label\\\": \\\"Adelie\\\"\\n          }\\n        },\\n        {\\n          \\\"type\\\": \\\"map\\\",\\n          \\\"from\\\": {\\n            \\\"type\\\": \\\"axis\\\",\\n            \\\"anchor\\\": \\\"lhs\\\",\\n            \\\"select\\\": \\\"row\\\",\\n            \\\"label\\\": 115\\n          },\\n          \\\"to\\\": {\\n            \\\"type\\\": \\\"axis\\\",\\n            \\\"anchor\\\": \\\"rhs\\\",\\n            \\\"select\\\": \\\"row\\\",\\n            \\\"label\\\": \\\"Adelie\\\"\\n          }\\n        },\\n        {\\n          \\\"type\\\": \\\"map\\\",\\n          \\\"from\\\": {\\n            \\\"type\\\": \\\"axis\\\",\\n            \\\"anchor\\\": \\\"lhs\\\",\\n            \\\"select\\\": \\\"row\\\",\\n            \\\"label\\\": 116\\n          },\\n          \\\"to\\\": {\\n            \\\"type\\\": \\\"axis\\\",\\n            \\\"anchor\\\": \\\"rhs\\\",\\n            \\\"select\\\": \\\"row\\\",\\n            \\\"label\\\": \\\"Adelie\\\"\\n          }\\n        },\\n        {\\n          \\\"type\\\": \\\"map\\\",\\n          \\\"from\\\": {\\n            \\\"type\\\": \\\"axis\\\",\\n            \\\"anchor\\\": \\\"lhs\\\",\\n            \\\"select\\\": \\\"row\\\",\\n            \\\"label\\\": 117\\n          },\\n          \\\"to\\\": {\\n            \\\"type\\\": \\\"axis\\\",\\n            \\\"anchor\\\": \\\"rhs\\\",\\n            \\\"select\\\": \\\"row\\\",\\n            \\\"label\\\": \\\"Adelie\\\"\\n          }\\n        },\\n        {\\n          \\\"type\\\": \\\"map\\\",\\n          \\\"from\\\": {\\n            \\\"type\\\": \\\"axis\\\",\\n            \\\"anchor\\\": \\\"lhs\\\",\\n            \\\"select\\\": \\\"row\\\",\\n            \\\"label\\\": 118\\n          },\\n          \\\"to\\\": {\\n            \\\"type\\\": \\\"axis\\\",\\n            \\\"anchor\\\": \\\"rhs\\\",\\n            \\\"select\\\": \\\"row\\\",\\n            \\\"label\\\": \\\"Adelie\\\"\\n          }\\n        },\\n        {\\n          \\\"type\\\": \\\"map\\\",\\n          \\\"from\\\": {\\n            \\\"type\\\": \\\"axis\\\",\\n            \\\"anchor\\\": \\\"lhs\\\",\\n            \\\"select\\\": \\\"row\\\",\\n            \\\"label\\\": 119\\n          },\\n          \\\"to\\\": {\\n            \\\"type\\\": \\\"axis\\\",\\n            \\\"anchor\\\": \\\"rhs\\\",\\n            \\\"select\\\": \\\"row\\\",\\n            \\\"label\\\": \\\"Adelie\\\"\\n          }\\n        },\\n        {\\n          \\\"type\\\": \\\"map\\\",\\n          \\\"from\\\": {\\n            \\\"type\\\": \\\"axis\\\",\\n            \\\"anchor\\\": \\\"lhs\\\",\\n            \\\"select\\\": \\\"row\\\",\\n            \\\"label\\\": 120\\n          },\\n          \\\"to\\\": {\\n            \\\"type\\\": \\\"axis\\\",\\n            \\\"anchor\\\": \\\"rhs\\\",\\n            \\\"select\\\": \\\"row\\\",\\n            \\\"label\\\": \\\"Adelie\\\"\\n          }\\n        },\\n        {\\n          \\\"type\\\": \\\"map\\\",\\n          \\\"from\\\": {\\n            \\\"type\\\": \\\"axis\\\",\\n            \\\"anchor\\\": \\\"lhs\\\",\\n            \\\"select\\\": \\\"row\\\",\\n            \\\"label\\\": 121\\n          },\\n          \\\"to\\\": {\\n            \\\"type\\\": \\\"axis\\\",\\n            \\\"anchor\\\": \\\"rhs\\\",\\n            \\\"select\\\": \\\"row\\\",\\n            \\\"label\\\": \\\"Adelie\\\"\\n          }\\n        },\\n        {\\n          \\\"type\\\": \\\"map\\\",\\n          \\\"from\\\": {\\n            \\\"type\\\": \\\"axis\\\",\\n            \\\"anchor\\\": \\\"lhs\\\",\\n            \\\"select\\\": \\\"row\\\",\\n            \\\"label\\\": 122\\n          },\\n          \\\"to\\\": {\\n            \\\"type\\\": \\\"axis\\\",\\n            \\\"anchor\\\": \\\"rhs\\\",\\n            \\\"select\\\": \\\"row\\\",\\n            \\\"label\\\": \\\"Adelie\\\"\\n          }\\n        },\\n        {\\n          \\\"type\\\": \\\"map\\\",\\n          \\\"from\\\": {\\n            \\\"type\\\": \\\"axis\\\",\\n            \\\"anchor\\\": \\\"lhs\\\",\\n            \\\"select\\\": \\\"row\\\",\\n            \\\"label\\\": 123\\n          },\\n          \\\"to\\\": {\\n            \\\"type\\\": \\\"axis\\\",\\n            \\\"anchor\\\": \\\"rhs\\\",\\n            \\\"select\\\": \\\"row\\\",\\n            \\\"label\\\": \\\"Adelie\\\"\\n          }\\n        },\\n        {\\n          \\\"type\\\": \\\"map\\\",\\n          \\\"from\\\": {\\n            \\\"type\\\": \\\"axis\\\",\\n            \\\"anchor\\\": \\\"lhs\\\",\\n            \\\"select\\\": \\\"row\\\",\\n            \\\"label\\\": 124\\n          },\\n          \\\"to\\\": {\\n            \\\"type\\\": \\\"axis\\\",\\n            \\\"anchor\\\": \\\"rhs\\\",\\n            \\\"select\\\": \\\"row\\\",\\n            \\\"label\\\": \\\"Adelie\\\"\\n          }\\n        },\\n        {\\n          \\\"type\\\": \\\"map\\\",\\n          \\\"from\\\": {\\n            \\\"type\\\": \\\"axis\\\",\\n            \\\"anchor\\\": \\\"lhs\\\",\\n            \\\"select\\\": \\\"row\\\",\\n            \\\"label\\\": 125\\n          },\\n          \\\"to\\\": {\\n            \\\"type\\\": \\\"axis\\\",\\n            \\\"anchor\\\": \\\"rhs\\\",\\n            \\\"select\\\": \\\"row\\\",\\n            \\\"label\\\": \\\"Adelie\\\"\\n          }\\n        },\\n        {\\n          \\\"type\\\": \\\"map\\\",\\n          \\\"from\\\": {\\n            \\\"type\\\": \\\"axis\\\",\\n            \\\"anchor\\\": \\\"lhs\\\",\\n            \\\"select\\\": \\\"row\\\",\\n            \\\"label\\\": 126\\n          },\\n          \\\"to\\\": {\\n            \\\"type\\\": \\\"axis\\\",\\n            \\\"anchor\\\": \\\"rhs\\\",\\n            \\\"select\\\": \\\"row\\\",\\n            \\\"label\\\": \\\"Adelie\\\"\\n          }\\n        },\\n        {\\n          \\\"type\\\": \\\"map\\\",\\n          \\\"from\\\": {\\n            \\\"type\\\": \\\"axis\\\",\\n            \\\"anchor\\\": \\\"lhs\\\",\\n            \\\"select\\\": \\\"row\\\",\\n            \\\"label\\\": 127\\n          },\\n          \\\"to\\\": {\\n            \\\"type\\\": \\\"axis\\\",\\n            \\\"anchor\\\": \\\"rhs\\\",\\n            \\\"select\\\": \\\"row\\\",\\n            \\\"label\\\": \\\"Adelie\\\"\\n          }\\n        },\\n        {\\n          \\\"type\\\": \\\"map\\\",\\n          \\\"from\\\": {\\n            \\\"type\\\": \\\"axis\\\",\\n            \\\"anchor\\\": \\\"lhs\\\",\\n            \\\"select\\\": \\\"row\\\",\\n            \\\"label\\\": 128\\n          },\\n          \\\"to\\\": {\\n            \\\"type\\\": \\\"axis\\\",\\n            \\\"anchor\\\": \\\"rhs\\\",\\n            \\\"select\\\": \\\"row\\\",\\n            \\\"label\\\": \\\"Adelie\\\"\\n          }\\n        },\\n        {\\n          \\\"type\\\": \\\"map\\\",\\n          \\\"from\\\": {\\n            \\\"type\\\": \\\"axis\\\",\\n            \\\"anchor\\\": \\\"lhs\\\",\\n            \\\"select\\\": \\\"row\\\",\\n            \\\"label\\\": 129\\n          },\\n          \\\"to\\\": {\\n            \\\"type\\\": \\\"axis\\\",\\n            \\\"anchor\\\": \\\"rhs\\\",\\n            \\\"select\\\": \\\"row\\\",\\n            \\\"label\\\": \\\"Adelie\\\"\\n          }\\n        },\\n        {\\n          \\\"type\\\": \\\"map\\\",\\n          \\\"from\\\": {\\n            \\\"type\\\": \\\"axis\\\",\\n            \\\"anchor\\\": \\\"lhs\\\",\\n            \\\"select\\\": \\\"row\\\",\\n            \\\"label\\\": 130\\n          },\\n          \\\"to\\\": {\\n            \\\"type\\\": \\\"axis\\\",\\n            \\\"anchor\\\": \\\"rhs\\\",\\n            \\\"select\\\": \\\"row\\\",\\n            \\\"label\\\": \\\"Adelie\\\"\\n          }\\n        },\\n        {\\n          \\\"type\\\": \\\"map\\\",\\n          \\\"from\\\": {\\n            \\\"type\\\": \\\"axis\\\",\\n            \\\"anchor\\\": \\\"lhs\\\",\\n            \\\"select\\\": \\\"row\\\",\\n            \\\"label\\\": 131\\n          },\\n          \\\"to\\\": {\\n            \\\"type\\\": \\\"axis\\\",\\n            \\\"anchor\\\": \\\"rhs\\\",\\n            \\\"select\\\": \\\"row\\\",\\n            \\\"label\\\": \\\"Adelie\\\"\\n          }\\n        },\\n        {\\n          \\\"type\\\": \\\"map\\\",\\n          \\\"from\\\": {\\n            \\\"type\\\": \\\"axis\\\",\\n            \\\"anchor\\\": \\\"lhs\\\",\\n            \\\"select\\\": \\\"row\\\",\\n            \\\"label\\\": 132\\n          },\\n          \\\"to\\\": {\\n            \\\"type\\\": \\\"axis\\\",\\n            \\\"anchor\\\": \\\"rhs\\\",\\n            \\\"select\\\": \\\"row\\\",\\n            \\\"label\\\": \\\"Adelie\\\"\\n          }\\n        },\\n        {\\n          \\\"type\\\": \\\"map\\\",\\n          \\\"from\\\": {\\n            \\\"type\\\": \\\"axis\\\",\\n            \\\"anchor\\\": \\\"lhs\\\",\\n            \\\"select\\\": \\\"row\\\",\\n            \\\"label\\\": 133\\n          },\\n          \\\"to\\\": {\\n            \\\"type\\\": \\\"axis\\\",\\n            \\\"anchor\\\": \\\"rhs\\\",\\n            \\\"select\\\": \\\"row\\\",\\n            \\\"label\\\": \\\"Adelie\\\"\\n          }\\n        },\\n        {\\n          \\\"type\\\": \\\"map\\\",\\n          \\\"from\\\": {\\n            \\\"type\\\": \\\"axis\\\",\\n            \\\"anchor\\\": \\\"lhs\\\",\\n            \\\"select\\\": \\\"row\\\",\\n            \\\"label\\\": 134\\n          },\\n          \\\"to\\\": {\\n            \\\"type\\\": \\\"axis\\\",\\n            \\\"anchor\\\": \\\"rhs\\\",\\n            \\\"select\\\": \\\"row\\\",\\n            \\\"label\\\": \\\"Adelie\\\"\\n          }\\n        },\\n        {\\n          \\\"type\\\": \\\"map\\\",\\n          \\\"from\\\": {\\n            \\\"type\\\": \\\"axis\\\",\\n            \\\"anchor\\\": \\\"lhs\\\",\\n            \\\"select\\\": \\\"row\\\",\\n            \\\"label\\\": 135\\n          },\\n          \\\"to\\\": {\\n            \\\"type\\\": \\\"axis\\\",\\n            \\\"anchor\\\": \\\"rhs\\\",\\n            \\\"select\\\": \\\"row\\\",\\n            \\\"label\\\": \\\"Adelie\\\"\\n          }\\n        },\\n        {\\n          \\\"type\\\": \\\"map\\\",\\n          \\\"from\\\": {\\n            \\\"type\\\": \\\"axis\\\",\\n            \\\"anchor\\\": \\\"lhs\\\",\\n            \\\"select\\\": \\\"row\\\",\\n            \\\"label\\\": 136\\n          },\\n          \\\"to\\\": {\\n            \\\"type\\\": \\\"axis\\\",\\n            \\\"anchor\\\": \\\"rhs\\\",\\n            \\\"select\\\": \\\"row\\\",\\n            \\\"label\\\": \\\"Adelie\\\"\\n          }\\n        },\\n        {\\n          \\\"type\\\": \\\"map\\\",\\n          \\\"from\\\": {\\n            \\\"type\\\": \\\"axis\\\",\\n            \\\"anchor\\\": \\\"lhs\\\",\\n            \\\"select\\\": \\\"row\\\",\\n            \\\"label\\\": 137\\n          },\\n          \\\"to\\\": {\\n            \\\"type\\\": \\\"axis\\\",\\n            \\\"anchor\\\": \\\"rhs\\\",\\n            \\\"select\\\": \\\"row\\\",\\n            \\\"label\\\": \\\"Adelie\\\"\\n          }\\n        },\\n        {\\n          \\\"type\\\": \\\"map\\\",\\n          \\\"from\\\": {\\n            \\\"type\\\": \\\"axis\\\",\\n            \\\"anchor\\\": \\\"lhs\\\",\\n            \\\"select\\\": \\\"row\\\",\\n            \\\"label\\\": 138\\n          },\\n          \\\"to\\\": {\\n            \\\"type\\\": \\\"axis\\\",\\n            \\\"anchor\\\": \\\"rhs\\\",\\n            \\\"select\\\": \\\"row\\\",\\n            \\\"label\\\": \\\"Adelie\\\"\\n          }\\n        },\\n        {\\n          \\\"type\\\": \\\"map\\\",\\n          \\\"from\\\": {\\n            \\\"type\\\": \\\"axis\\\",\\n            \\\"anchor\\\": \\\"lhs\\\",\\n            \\\"select\\\": \\\"row\\\",\\n            \\\"label\\\": 139\\n          },\\n          \\\"to\\\": {\\n            \\\"type\\\": \\\"axis\\\",\\n            \\\"anchor\\\": \\\"rhs\\\",\\n            \\\"select\\\": \\\"row\\\",\\n            \\\"label\\\": \\\"Adelie\\\"\\n          }\\n        },\\n        {\\n          \\\"type\\\": \\\"map\\\",\\n          \\\"from\\\": {\\n            \\\"type\\\": \\\"axis\\\",\\n            \\\"anchor\\\": \\\"lhs\\\",\\n            \\\"select\\\": \\\"row\\\",\\n            \\\"label\\\": 140\\n          },\\n          \\\"to\\\": {\\n            \\\"type\\\": \\\"axis\\\",\\n            \\\"anchor\\\": \\\"rhs\\\",\\n            \\\"select\\\": \\\"row\\\",\\n            \\\"label\\\": \\\"Adelie\\\"\\n          }\\n        },\\n        {\\n          \\\"type\\\": \\\"map\\\",\\n          \\\"from\\\": {\\n            \\\"type\\\": \\\"axis\\\",\\n            \\\"anchor\\\": \\\"lhs\\\",\\n            \\\"select\\\": \\\"row\\\",\\n            \\\"label\\\": 141\\n          },\\n          \\\"to\\\": {\\n            \\\"type\\\": \\\"axis\\\",\\n            \\\"anchor\\\": \\\"rhs\\\",\\n            \\\"select\\\": \\\"row\\\",\\n            \\\"label\\\": \\\"Adelie\\\"\\n          }\\n        },\\n        {\\n          \\\"type\\\": \\\"map\\\",\\n          \\\"from\\\": {\\n            \\\"type\\\": \\\"axis\\\",\\n            \\\"anchor\\\": \\\"lhs\\\",\\n            \\\"select\\\": \\\"row\\\",\\n            \\\"label\\\": 142\\n          },\\n          \\\"to\\\": {\\n            \\\"type\\\": \\\"axis\\\",\\n            \\\"anchor\\\": \\\"rhs\\\",\\n            \\\"select\\\": \\\"row\\\",\\n            \\\"label\\\": \\\"Adelie\\\"\\n          }\\n        },\\n        {\\n          \\\"type\\\": \\\"map\\\",\\n          \\\"from\\\": {\\n            \\\"type\\\": \\\"axis\\\",\\n            \\\"anchor\\\": \\\"lhs\\\",\\n            \\\"select\\\": \\\"row\\\",\\n            \\\"label\\\": 143\\n          },\\n          \\\"to\\\": {\\n            \\\"type\\\": \\\"axis\\\",\\n            \\\"anchor\\\": \\\"rhs\\\",\\n            \\\"select\\\": \\\"row\\\",\\n            \\\"label\\\": \\\"Adelie\\\"\\n          }\\n        },\\n        {\\n          \\\"type\\\": \\\"map\\\",\\n          \\\"from\\\": {\\n            \\\"type\\\": \\\"axis\\\",\\n            \\\"anchor\\\": \\\"lhs\\\",\\n            \\\"select\\\": \\\"row\\\",\\n            \\\"label\\\": 144\\n          },\\n          \\\"to\\\": {\\n            \\\"type\\\": \\\"axis\\\",\\n            \\\"anchor\\\": \\\"rhs\\\",\\n            \\\"select\\\": \\\"row\\\",\\n            \\\"label\\\": \\\"Adelie\\\"\\n          }\\n        },\\n        {\\n          \\\"type\\\": \\\"map\\\",\\n          \\\"from\\\": {\\n            \\\"type\\\": \\\"axis\\\",\\n            \\\"anchor\\\": \\\"lhs\\\",\\n            \\\"select\\\": \\\"row\\\",\\n            \\\"label\\\": 145\\n          },\\n          \\\"to\\\": {\\n            \\\"type\\\": \\\"axis\\\",\\n            \\\"anchor\\\": \\\"rhs\\\",\\n            \\\"select\\\": \\\"row\\\",\\n            \\\"label\\\": \\\"Adelie\\\"\\n          }\\n        },\\n        {\\n          \\\"type\\\": \\\"map\\\",\\n          \\\"from\\\": {\\n            \\\"type\\\": \\\"axis\\\",\\n            \\\"anchor\\\": \\\"lhs\\\",\\n            \\\"select\\\": \\\"row\\\",\\n            \\\"label\\\": 146\\n          },\\n          \\\"to\\\": {\\n            \\\"type\\\": \\\"axis\\\",\\n            \\\"anchor\\\": \\\"rhs\\\",\\n            \\\"select\\\": \\\"row\\\",\\n            \\\"label\\\": \\\"Adelie\\\"\\n          }\\n        },\\n        {\\n          \\\"type\\\": \\\"map\\\",\\n          \\\"from\\\": {\\n            \\\"type\\\": \\\"axis\\\",\\n            \\\"anchor\\\": \\\"lhs\\\",\\n            \\\"select\\\": \\\"row\\\",\\n            \\\"label\\\": 147\\n          },\\n          \\\"to\\\": {\\n            \\\"type\\\": \\\"axis\\\",\\n            \\\"anchor\\\": \\\"rhs\\\",\\n            \\\"select\\\": \\\"row\\\",\\n            \\\"label\\\": \\\"Adelie\\\"\\n          }\\n        },\\n        {\\n          \\\"type\\\": \\\"map\\\",\\n          \\\"from\\\": {\\n            \\\"type\\\": \\\"axis\\\",\\n            \\\"anchor\\\": \\\"lhs\\\",\\n            \\\"select\\\": \\\"row\\\",\\n            \\\"label\\\": 148\\n          },\\n          \\\"to\\\": {\\n            \\\"type\\\": \\\"axis\\\",\\n            \\\"anchor\\\": \\\"rhs\\\",\\n            \\\"select\\\": \\\"row\\\",\\n            \\\"label\\\": \\\"Adelie\\\"\\n          }\\n        },\\n        {\\n          \\\"type\\\": \\\"map\\\",\\n          \\\"from\\\": {\\n            \\\"type\\\": \\\"axis\\\",\\n            \\\"anchor\\\": \\\"lhs\\\",\\n            \\\"select\\\": \\\"row\\\",\\n            \\\"label\\\": 149\\n          },\\n          \\\"to\\\": {\\n            \\\"type\\\": \\\"axis\\\",\\n            \\\"anchor\\\": \\\"rhs\\\",\\n            \\\"select\\\": \\\"row\\\",\\n            \\\"label\\\": \\\"Adelie\\\"\\n          }\\n        },\\n        {\\n          \\\"type\\\": \\\"map\\\",\\n          \\\"from\\\": {\\n            \\\"type\\\": \\\"axis\\\",\\n            \\\"anchor\\\": \\\"lhs\\\",\\n            \\\"select\\\": \\\"row\\\",\\n            \\\"label\\\": 150\\n          },\\n          \\\"to\\\": {\\n            \\\"type\\\": \\\"axis\\\",\\n            \\\"anchor\\\": \\\"rhs\\\",\\n            \\\"select\\\": \\\"row\\\",\\n            \\\"label\\\": \\\"Adelie\\\"\\n          }\\n        },\\n        {\\n          \\\"type\\\": \\\"map\\\",\\n          \\\"from\\\": {\\n            \\\"type\\\": \\\"axis\\\",\\n            \\\"anchor\\\": \\\"lhs\\\",\\n            \\\"select\\\": \\\"row\\\",\\n            \\\"label\\\": 151\\n          },\\n          \\\"to\\\": {\\n            \\\"type\\\": \\\"axis\\\",\\n            \\\"anchor\\\": \\\"rhs\\\",\\n            \\\"select\\\": \\\"row\\\",\\n            \\\"label\\\": \\\"Adelie\\\"\\n          }\\n        },\\n        {\\n          \\\"type\\\": \\\"map\\\",\\n          \\\"from\\\": {\\n            \\\"type\\\": \\\"axis\\\",\\n            \\\"anchor\\\": \\\"lhs\\\",\\n            \\\"select\\\": \\\"row\\\",\\n            \\\"label\\\": 152\\n          },\\n          \\\"to\\\": {\\n            \\\"type\\\": \\\"axis\\\",\\n            \\\"anchor\\\": \\\"rhs\\\",\\n            \\\"select\\\": \\\"row\\\",\\n            \\\"label\\\": \\\"Chinstrap\\\"\\n          }\\n        },\\n        {\\n          \\\"type\\\": \\\"map\\\",\\n          \\\"from\\\": {\\n            \\\"type\\\": \\\"axis\\\",\\n            \\\"anchor\\\": \\\"lhs\\\",\\n            \\\"select\\\": \\\"row\\\",\\n            \\\"label\\\": 153\\n          },\\n          \\\"to\\\": {\\n            \\\"type\\\": \\\"axis\\\",\\n            \\\"anchor\\\": \\\"rhs\\\",\\n            \\\"select\\\": \\\"row\\\",\\n            \\\"label\\\": \\\"Chinstrap\\\"\\n          }\\n        },\\n        {\\n          \\\"type\\\": \\\"map\\\",\\n          \\\"from\\\": {\\n            \\\"type\\\": \\\"axis\\\",\\n            \\\"anchor\\\": \\\"lhs\\\",\\n            \\\"select\\\": \\\"row\\\",\\n            \\\"label\\\": 154\\n          },\\n          \\\"to\\\": {\\n            \\\"type\\\": \\\"axis\\\",\\n            \\\"anchor\\\": \\\"rhs\\\",\\n            \\\"select\\\": \\\"row\\\",\\n            \\\"label\\\": \\\"Chinstrap\\\"\\n          }\\n        },\\n        {\\n          \\\"type\\\": \\\"map\\\",\\n          \\\"from\\\": {\\n            \\\"type\\\": \\\"axis\\\",\\n            \\\"anchor\\\": \\\"lhs\\\",\\n            \\\"select\\\": \\\"row\\\",\\n            \\\"label\\\": 155\\n          },\\n          \\\"to\\\": {\\n            \\\"type\\\": \\\"axis\\\",\\n            \\\"anchor\\\": \\\"rhs\\\",\\n            \\\"select\\\": \\\"row\\\",\\n            \\\"label\\\": \\\"Chinstrap\\\"\\n          }\\n        },\\n        {\\n          \\\"type\\\": \\\"map\\\",\\n          \\\"from\\\": {\\n            \\\"type\\\": \\\"axis\\\",\\n            \\\"anchor\\\": \\\"lhs\\\",\\n            \\\"select\\\": \\\"row\\\",\\n            \\\"label\\\": 156\\n          },\\n          \\\"to\\\": {\\n            \\\"type\\\": \\\"axis\\\",\\n            \\\"anchor\\\": \\\"rhs\\\",\\n            \\\"select\\\": \\\"row\\\",\\n            \\\"label\\\": \\\"Chinstrap\\\"\\n          }\\n        },\\n        {\\n          \\\"type\\\": \\\"map\\\",\\n          \\\"from\\\": {\\n            \\\"type\\\": \\\"axis\\\",\\n            \\\"anchor\\\": \\\"lhs\\\",\\n            \\\"select\\\": \\\"row\\\",\\n            \\\"label\\\": 157\\n          },\\n          \\\"to\\\": {\\n            \\\"type\\\": \\\"axis\\\",\\n            \\\"anchor\\\": \\\"rhs\\\",\\n            \\\"select\\\": \\\"row\\\",\\n            \\\"label\\\": \\\"Chinstrap\\\"\\n          }\\n        },\\n        {\\n          \\\"type\\\": \\\"map\\\",\\n          \\\"from\\\": {\\n            \\\"type\\\": \\\"axis\\\",\\n            \\\"anchor\\\": \\\"lhs\\\",\\n            \\\"select\\\": \\\"row\\\",\\n            \\\"label\\\": 158\\n          },\\n          \\\"to\\\": {\\n            \\\"type\\\": \\\"axis\\\",\\n            \\\"anchor\\\": \\\"rhs\\\",\\n            \\\"select\\\": \\\"row\\\",\\n            \\\"label\\\": \\\"Chinstrap\\\"\\n          }\\n        },\\n        {\\n          \\\"type\\\": \\\"map\\\",\\n          \\\"from\\\": {\\n            \\\"type\\\": \\\"axis\\\",\\n            \\\"anchor\\\": \\\"lhs\\\",\\n            \\\"select\\\": \\\"row\\\",\\n            \\\"label\\\": 159\\n          },\\n          \\\"to\\\": {\\n            \\\"type\\\": \\\"axis\\\",\\n            \\\"anchor\\\": \\\"rhs\\\",\\n            \\\"select\\\": \\\"row\\\",\\n            \\\"label\\\": \\\"Chinstrap\\\"\\n          }\\n        },\\n        {\\n          \\\"type\\\": \\\"map\\\",\\n          \\\"from\\\": {\\n            \\\"type\\\": \\\"axis\\\",\\n            \\\"anchor\\\": \\\"lhs\\\",\\n            \\\"select\\\": \\\"row\\\",\\n            \\\"label\\\": 160\\n          },\\n          \\\"to\\\": {\\n            \\\"type\\\": \\\"axis\\\",\\n            \\\"anchor\\\": \\\"rhs\\\",\\n            \\\"select\\\": \\\"row\\\",\\n            \\\"label\\\": \\\"Chinstrap\\\"\\n          }\\n        },\\n        {\\n          \\\"type\\\": \\\"map\\\",\\n          \\\"from\\\": {\\n            \\\"type\\\": \\\"axis\\\",\\n            \\\"anchor\\\": \\\"lhs\\\",\\n            \\\"select\\\": \\\"row\\\",\\n            \\\"label\\\": 161\\n          },\\n          \\\"to\\\": {\\n            \\\"type\\\": \\\"axis\\\",\\n            \\\"anchor\\\": \\\"rhs\\\",\\n            \\\"select\\\": \\\"row\\\",\\n            \\\"label\\\": \\\"Chinstrap\\\"\\n          }\\n        },\\n        {\\n          \\\"type\\\": \\\"map\\\",\\n          \\\"from\\\": {\\n            \\\"type\\\": \\\"axis\\\",\\n            \\\"anchor\\\": \\\"lhs\\\",\\n            \\\"select\\\": \\\"row\\\",\\n            \\\"label\\\": 162\\n          },\\n          \\\"to\\\": {\\n            \\\"type\\\": \\\"axis\\\",\\n            \\\"anchor\\\": \\\"rhs\\\",\\n            \\\"select\\\": \\\"row\\\",\\n            \\\"label\\\": \\\"Chinstrap\\\"\\n          }\\n        },\\n        {\\n          \\\"type\\\": \\\"map\\\",\\n          \\\"from\\\": {\\n            \\\"type\\\": \\\"axis\\\",\\n            \\\"anchor\\\": \\\"lhs\\\",\\n            \\\"select\\\": \\\"row\\\",\\n            \\\"label\\\": 163\\n          },\\n          \\\"to\\\": {\\n            \\\"type\\\": \\\"axis\\\",\\n            \\\"anchor\\\": \\\"rhs\\\",\\n            \\\"select\\\": \\\"row\\\",\\n            \\\"label\\\": \\\"Chinstrap\\\"\\n          }\\n        },\\n        {\\n          \\\"type\\\": \\\"map\\\",\\n          \\\"from\\\": {\\n            \\\"type\\\": \\\"axis\\\",\\n            \\\"anchor\\\": \\\"lhs\\\",\\n            \\\"select\\\": \\\"row\\\",\\n            \\\"label\\\": 164\\n          },\\n          \\\"to\\\": {\\n            \\\"type\\\": \\\"axis\\\",\\n            \\\"anchor\\\": \\\"rhs\\\",\\n            \\\"select\\\": \\\"row\\\",\\n            \\\"label\\\": \\\"Chinstrap\\\"\\n          }\\n        },\\n        {\\n          \\\"type\\\": \\\"map\\\",\\n          \\\"from\\\": {\\n            \\\"type\\\": \\\"axis\\\",\\n            \\\"anchor\\\": \\\"lhs\\\",\\n            \\\"select\\\": \\\"row\\\",\\n            \\\"label\\\": 165\\n          },\\n          \\\"to\\\": {\\n            \\\"type\\\": \\\"axis\\\",\\n            \\\"anchor\\\": \\\"rhs\\\",\\n            \\\"select\\\": \\\"row\\\",\\n            \\\"label\\\": \\\"Chinstrap\\\"\\n          }\\n        },\\n        {\\n          \\\"type\\\": \\\"map\\\",\\n          \\\"from\\\": {\\n            \\\"type\\\": \\\"axis\\\",\\n            \\\"anchor\\\": \\\"lhs\\\",\\n            \\\"select\\\": \\\"row\\\",\\n            \\\"label\\\": 166\\n          },\\n          \\\"to\\\": {\\n            \\\"type\\\": \\\"axis\\\",\\n            \\\"anchor\\\": \\\"rhs\\\",\\n            \\\"select\\\": \\\"row\\\",\\n            \\\"label\\\": \\\"Chinstrap\\\"\\n          }\\n        },\\n        {\\n          \\\"type\\\": \\\"map\\\",\\n          \\\"from\\\": {\\n            \\\"type\\\": \\\"axis\\\",\\n            \\\"anchor\\\": \\\"lhs\\\",\\n            \\\"select\\\": \\\"row\\\",\\n            \\\"label\\\": 167\\n          },\\n          \\\"to\\\": {\\n            \\\"type\\\": \\\"axis\\\",\\n            \\\"anchor\\\": \\\"rhs\\\",\\n            \\\"select\\\": \\\"row\\\",\\n            \\\"label\\\": \\\"Chinstrap\\\"\\n          }\\n        },\\n        {\\n          \\\"type\\\": \\\"map\\\",\\n          \\\"from\\\": {\\n            \\\"type\\\": \\\"axis\\\",\\n            \\\"anchor\\\": \\\"lhs\\\",\\n            \\\"select\\\": \\\"row\\\",\\n            \\\"label\\\": 168\\n          },\\n          \\\"to\\\": {\\n            \\\"type\\\": \\\"axis\\\",\\n            \\\"anchor\\\": \\\"rhs\\\",\\n            \\\"select\\\": \\\"row\\\",\\n            \\\"label\\\": \\\"Chinstrap\\\"\\n          }\\n        },\\n        {\\n          \\\"type\\\": \\\"map\\\",\\n          \\\"from\\\": {\\n            \\\"type\\\": \\\"axis\\\",\\n            \\\"anchor\\\": \\\"lhs\\\",\\n            \\\"select\\\": \\\"row\\\",\\n            \\\"label\\\": 169\\n          },\\n          \\\"to\\\": {\\n            \\\"type\\\": \\\"axis\\\",\\n            \\\"anchor\\\": \\\"rhs\\\",\\n            \\\"select\\\": \\\"row\\\",\\n            \\\"label\\\": \\\"Chinstrap\\\"\\n          }\\n        },\\n        {\\n          \\\"type\\\": \\\"map\\\",\\n          \\\"from\\\": {\\n            \\\"type\\\": \\\"axis\\\",\\n            \\\"anchor\\\": \\\"lhs\\\",\\n            \\\"select\\\": \\\"row\\\",\\n            \\\"label\\\": 170\\n          },\\n          \\\"to\\\": {\\n            \\\"type\\\": \\\"axis\\\",\\n            \\\"anchor\\\": \\\"rhs\\\",\\n            \\\"select\\\": \\\"row\\\",\\n            \\\"label\\\": \\\"Chinstrap\\\"\\n          }\\n        },\\n        {\\n          \\\"type\\\": \\\"map\\\",\\n          \\\"from\\\": {\\n            \\\"type\\\": \\\"axis\\\",\\n            \\\"anchor\\\": \\\"lhs\\\",\\n            \\\"select\\\": \\\"row\\\",\\n            \\\"label\\\": 171\\n          },\\n          \\\"to\\\": {\\n            \\\"type\\\": \\\"axis\\\",\\n            \\\"anchor\\\": \\\"rhs\\\",\\n            \\\"select\\\": \\\"row\\\",\\n            \\\"label\\\": \\\"Chinstrap\\\"\\n          }\\n        },\\n        {\\n          \\\"type\\\": \\\"map\\\",\\n          \\\"from\\\": {\\n            \\\"type\\\": \\\"axis\\\",\\n            \\\"anchor\\\": \\\"lhs\\\",\\n            \\\"select\\\": \\\"row\\\",\\n            \\\"label\\\": 172\\n          },\\n          \\\"to\\\": {\\n            \\\"type\\\": \\\"axis\\\",\\n            \\\"anchor\\\": \\\"rhs\\\",\\n            \\\"select\\\": \\\"row\\\",\\n            \\\"label\\\": \\\"Chinstrap\\\"\\n          }\\n        },\\n        {\\n          \\\"type\\\": \\\"map\\\",\\n          \\\"from\\\": {\\n            \\\"type\\\": \\\"axis\\\",\\n            \\\"anchor\\\": \\\"lhs\\\",\\n            \\\"select\\\": \\\"row\\\",\\n            \\\"label\\\": 173\\n          },\\n          \\\"to\\\": {\\n            \\\"type\\\": \\\"axis\\\",\\n            \\\"anchor\\\": \\\"rhs\\\",\\n            \\\"select\\\": \\\"row\\\",\\n            \\\"label\\\": \\\"Chinstrap\\\"\\n          }\\n        },\\n        {\\n          \\\"type\\\": \\\"map\\\",\\n          \\\"from\\\": {\\n            \\\"type\\\": \\\"axis\\\",\\n            \\\"anchor\\\": \\\"lhs\\\",\\n            \\\"select\\\": \\\"row\\\",\\n            \\\"label\\\": 174\\n          },\\n          \\\"to\\\": {\\n            \\\"type\\\": \\\"axis\\\",\\n            \\\"anchor\\\": \\\"rhs\\\",\\n            \\\"select\\\": \\\"row\\\",\\n            \\\"label\\\": \\\"Chinstrap\\\"\\n          }\\n        },\\n        {\\n          \\\"type\\\": \\\"map\\\",\\n          \\\"from\\\": {\\n            \\\"type\\\": \\\"axis\\\",\\n            \\\"anchor\\\": \\\"lhs\\\",\\n            \\\"select\\\": \\\"row\\\",\\n            \\\"label\\\": 175\\n          },\\n          \\\"to\\\": {\\n            \\\"type\\\": \\\"axis\\\",\\n            \\\"anchor\\\": \\\"rhs\\\",\\n            \\\"select\\\": \\\"row\\\",\\n            \\\"label\\\": \\\"Chinstrap\\\"\\n          }\\n        },\\n        {\\n          \\\"type\\\": \\\"map\\\",\\n          \\\"from\\\": {\\n            \\\"type\\\": \\\"axis\\\",\\n            \\\"anchor\\\": \\\"lhs\\\",\\n            \\\"select\\\": \\\"row\\\",\\n            \\\"label\\\": 176\\n          },\\n          \\\"to\\\": {\\n            \\\"type\\\": \\\"axis\\\",\\n            \\\"anchor\\\": \\\"rhs\\\",\\n            \\\"select\\\": \\\"row\\\",\\n            \\\"label\\\": \\\"Chinstrap\\\"\\n          }\\n        },\\n        {\\n          \\\"type\\\": \\\"map\\\",\\n          \\\"from\\\": {\\n            \\\"type\\\": \\\"axis\\\",\\n            \\\"anchor\\\": \\\"lhs\\\",\\n            \\\"select\\\": \\\"row\\\",\\n            \\\"label\\\": 177\\n          },\\n          \\\"to\\\": {\\n            \\\"type\\\": \\\"axis\\\",\\n            \\\"anchor\\\": \\\"rhs\\\",\\n            \\\"select\\\": \\\"row\\\",\\n            \\\"label\\\": \\\"Chinstrap\\\"\\n          }\\n        },\\n        {\\n          \\\"type\\\": \\\"map\\\",\\n          \\\"from\\\": {\\n            \\\"type\\\": \\\"axis\\\",\\n            \\\"anchor\\\": \\\"lhs\\\",\\n            \\\"select\\\": \\\"row\\\",\\n            \\\"label\\\": 178\\n          },\\n          \\\"to\\\": {\\n            \\\"type\\\": \\\"axis\\\",\\n            \\\"anchor\\\": \\\"rhs\\\",\\n            \\\"select\\\": \\\"row\\\",\\n            \\\"label\\\": \\\"Chinstrap\\\"\\n          }\\n        },\\n        {\\n          \\\"type\\\": \\\"map\\\",\\n          \\\"from\\\": {\\n            \\\"type\\\": \\\"axis\\\",\\n            \\\"anchor\\\": \\\"lhs\\\",\\n            \\\"select\\\": \\\"row\\\",\\n            \\\"label\\\": 179\\n          },\\n          \\\"to\\\": {\\n            \\\"type\\\": \\\"axis\\\",\\n            \\\"anchor\\\": \\\"rhs\\\",\\n            \\\"select\\\": \\\"row\\\",\\n            \\\"label\\\": \\\"Chinstrap\\\"\\n          }\\n        },\\n        {\\n          \\\"type\\\": \\\"map\\\",\\n          \\\"from\\\": {\\n            \\\"type\\\": \\\"axis\\\",\\n            \\\"anchor\\\": \\\"lhs\\\",\\n            \\\"select\\\": \\\"row\\\",\\n            \\\"label\\\": 180\\n          },\\n          \\\"to\\\": {\\n            \\\"type\\\": \\\"axis\\\",\\n            \\\"anchor\\\": \\\"rhs\\\",\\n            \\\"select\\\": \\\"row\\\",\\n            \\\"label\\\": \\\"Chinstrap\\\"\\n          }\\n        },\\n        {\\n          \\\"type\\\": \\\"map\\\",\\n          \\\"from\\\": {\\n            \\\"type\\\": \\\"axis\\\",\\n            \\\"anchor\\\": \\\"lhs\\\",\\n            \\\"select\\\": \\\"row\\\",\\n            \\\"label\\\": 181\\n          },\\n          \\\"to\\\": {\\n            \\\"type\\\": \\\"axis\\\",\\n            \\\"anchor\\\": \\\"rhs\\\",\\n            \\\"select\\\": \\\"row\\\",\\n            \\\"label\\\": \\\"Chinstrap\\\"\\n          }\\n        },\\n        {\\n          \\\"type\\\": \\\"map\\\",\\n          \\\"from\\\": {\\n            \\\"type\\\": \\\"axis\\\",\\n            \\\"anchor\\\": \\\"lhs\\\",\\n            \\\"select\\\": \\\"row\\\",\\n            \\\"label\\\": 182\\n          },\\n          \\\"to\\\": {\\n            \\\"type\\\": \\\"axis\\\",\\n            \\\"anchor\\\": \\\"rhs\\\",\\n            \\\"select\\\": \\\"row\\\",\\n            \\\"label\\\": \\\"Chinstrap\\\"\\n          }\\n        },\\n        {\\n          \\\"type\\\": \\\"map\\\",\\n          \\\"from\\\": {\\n            \\\"type\\\": \\\"axis\\\",\\n            \\\"anchor\\\": \\\"lhs\\\",\\n            \\\"select\\\": \\\"row\\\",\\n            \\\"label\\\": 183\\n          },\\n          \\\"to\\\": {\\n            \\\"type\\\": \\\"axis\\\",\\n            \\\"anchor\\\": \\\"rhs\\\",\\n            \\\"select\\\": \\\"row\\\",\\n            \\\"label\\\": \\\"Chinstrap\\\"\\n          }\\n        },\\n        {\\n          \\\"type\\\": \\\"map\\\",\\n          \\\"from\\\": {\\n            \\\"type\\\": \\\"axis\\\",\\n            \\\"anchor\\\": \\\"lhs\\\",\\n            \\\"select\\\": \\\"row\\\",\\n            \\\"label\\\": 184\\n          },\\n          \\\"to\\\": {\\n            \\\"type\\\": \\\"axis\\\",\\n            \\\"anchor\\\": \\\"rhs\\\",\\n            \\\"select\\\": \\\"row\\\",\\n            \\\"label\\\": \\\"Chinstrap\\\"\\n          }\\n        },\\n        {\\n          \\\"type\\\": \\\"map\\\",\\n          \\\"from\\\": {\\n            \\\"type\\\": \\\"axis\\\",\\n            \\\"anchor\\\": \\\"lhs\\\",\\n            \\\"select\\\": \\\"row\\\",\\n            \\\"label\\\": 185\\n          },\\n          \\\"to\\\": {\\n            \\\"type\\\": \\\"axis\\\",\\n            \\\"anchor\\\": \\\"rhs\\\",\\n            \\\"select\\\": \\\"row\\\",\\n            \\\"label\\\": \\\"Chinstrap\\\"\\n          }\\n        },\\n        {\\n          \\\"type\\\": \\\"map\\\",\\n          \\\"from\\\": {\\n            \\\"type\\\": \\\"axis\\\",\\n            \\\"anchor\\\": \\\"lhs\\\",\\n            \\\"select\\\": \\\"row\\\",\\n            \\\"label\\\": 186\\n          },\\n          \\\"to\\\": {\\n            \\\"type\\\": \\\"axis\\\",\\n            \\\"anchor\\\": \\\"rhs\\\",\\n            \\\"select\\\": \\\"row\\\",\\n            \\\"label\\\": \\\"Chinstrap\\\"\\n          }\\n        },\\n        {\\n          \\\"type\\\": \\\"map\\\",\\n          \\\"from\\\": {\\n            \\\"type\\\": \\\"axis\\\",\\n            \\\"anchor\\\": \\\"lhs\\\",\\n            \\\"select\\\": \\\"row\\\",\\n            \\\"label\\\": 187\\n          },\\n          \\\"to\\\": {\\n            \\\"type\\\": \\\"axis\\\",\\n            \\\"anchor\\\": \\\"rhs\\\",\\n            \\\"select\\\": \\\"row\\\",\\n            \\\"label\\\": \\\"Chinstrap\\\"\\n          }\\n        },\\n        {\\n          \\\"type\\\": \\\"map\\\",\\n          \\\"from\\\": {\\n            \\\"type\\\": \\\"axis\\\",\\n            \\\"anchor\\\": \\\"lhs\\\",\\n            \\\"select\\\": \\\"row\\\",\\n            \\\"label\\\": 188\\n          },\\n          \\\"to\\\": {\\n            \\\"type\\\": \\\"axis\\\",\\n            \\\"anchor\\\": \\\"rhs\\\",\\n            \\\"select\\\": \\\"row\\\",\\n            \\\"label\\\": \\\"Chinstrap\\\"\\n          }\\n        },\\n        {\\n          \\\"type\\\": \\\"map\\\",\\n          \\\"from\\\": {\\n            \\\"type\\\": \\\"axis\\\",\\n            \\\"anchor\\\": \\\"lhs\\\",\\n            \\\"select\\\": \\\"row\\\",\\n            \\\"label\\\": 189\\n          },\\n          \\\"to\\\": {\\n            \\\"type\\\": \\\"axis\\\",\\n            \\\"anchor\\\": \\\"rhs\\\",\\n            \\\"select\\\": \\\"row\\\",\\n            \\\"label\\\": \\\"Chinstrap\\\"\\n          }\\n        },\\n        {\\n          \\\"type\\\": \\\"map\\\",\\n          \\\"from\\\": {\\n            \\\"type\\\": \\\"axis\\\",\\n            \\\"anchor\\\": \\\"lhs\\\",\\n            \\\"select\\\": \\\"row\\\",\\n            \\\"label\\\": 190\\n          },\\n          \\\"to\\\": {\\n            \\\"type\\\": \\\"axis\\\",\\n            \\\"anchor\\\": \\\"rhs\\\",\\n            \\\"select\\\": \\\"row\\\",\\n            \\\"label\\\": \\\"Chinstrap\\\"\\n          }\\n        },\\n        {\\n          \\\"type\\\": \\\"map\\\",\\n          \\\"from\\\": {\\n            \\\"type\\\": \\\"axis\\\",\\n            \\\"anchor\\\": \\\"lhs\\\",\\n            \\\"select\\\": \\\"row\\\",\\n            \\\"label\\\": 191\\n          },\\n          \\\"to\\\": {\\n            \\\"type\\\": \\\"axis\\\",\\n            \\\"anchor\\\": \\\"rhs\\\",\\n            \\\"select\\\": \\\"row\\\",\\n            \\\"label\\\": \\\"Chinstrap\\\"\\n          }\\n        },\\n        {\\n          \\\"type\\\": \\\"map\\\",\\n          \\\"from\\\": {\\n            \\\"type\\\": \\\"axis\\\",\\n            \\\"anchor\\\": \\\"lhs\\\",\\n            \\\"select\\\": \\\"row\\\",\\n            \\\"label\\\": 192\\n          },\\n          \\\"to\\\": {\\n            \\\"type\\\": \\\"axis\\\",\\n            \\\"anchor\\\": \\\"rhs\\\",\\n            \\\"select\\\": \\\"row\\\",\\n            \\\"label\\\": \\\"Chinstrap\\\"\\n          }\\n        },\\n        {\\n          \\\"type\\\": \\\"map\\\",\\n          \\\"from\\\": {\\n            \\\"type\\\": \\\"axis\\\",\\n            \\\"anchor\\\": \\\"lhs\\\",\\n            \\\"select\\\": \\\"row\\\",\\n            \\\"label\\\": 193\\n          },\\n          \\\"to\\\": {\\n            \\\"type\\\": \\\"axis\\\",\\n            \\\"anchor\\\": \\\"rhs\\\",\\n            \\\"select\\\": \\\"row\\\",\\n            \\\"label\\\": \\\"Chinstrap\\\"\\n          }\\n        },\\n        {\\n          \\\"type\\\": \\\"map\\\",\\n          \\\"from\\\": {\\n            \\\"type\\\": \\\"axis\\\",\\n            \\\"anchor\\\": \\\"lhs\\\",\\n            \\\"select\\\": \\\"row\\\",\\n            \\\"label\\\": 194\\n          },\\n          \\\"to\\\": {\\n            \\\"type\\\": \\\"axis\\\",\\n            \\\"anchor\\\": \\\"rhs\\\",\\n            \\\"select\\\": \\\"row\\\",\\n            \\\"label\\\": \\\"Chinstrap\\\"\\n          }\\n        },\\n        {\\n          \\\"type\\\": \\\"map\\\",\\n          \\\"from\\\": {\\n            \\\"type\\\": \\\"axis\\\",\\n            \\\"anchor\\\": \\\"lhs\\\",\\n            \\\"select\\\": \\\"row\\\",\\n            \\\"label\\\": 195\\n          },\\n          \\\"to\\\": {\\n            \\\"type\\\": \\\"axis\\\",\\n            \\\"anchor\\\": \\\"rhs\\\",\\n            \\\"select\\\": \\\"row\\\",\\n            \\\"label\\\": \\\"Chinstrap\\\"\\n          }\\n        },\\n        {\\n          \\\"type\\\": \\\"map\\\",\\n          \\\"from\\\": {\\n            \\\"type\\\": \\\"axis\\\",\\n            \\\"anchor\\\": \\\"lhs\\\",\\n            \\\"select\\\": \\\"row\\\",\\n            \\\"label\\\": 196\\n          },\\n          \\\"to\\\": {\\n            \\\"type\\\": \\\"axis\\\",\\n            \\\"anchor\\\": \\\"rhs\\\",\\n            \\\"select\\\": \\\"row\\\",\\n            \\\"label\\\": \\\"Chinstrap\\\"\\n          }\\n        },\\n        {\\n          \\\"type\\\": \\\"map\\\",\\n          \\\"from\\\": {\\n            \\\"type\\\": \\\"axis\\\",\\n            \\\"anchor\\\": \\\"lhs\\\",\\n            \\\"select\\\": \\\"row\\\",\\n            \\\"label\\\": 197\\n          },\\n          \\\"to\\\": {\\n            \\\"type\\\": \\\"axis\\\",\\n            \\\"anchor\\\": \\\"rhs\\\",\\n            \\\"select\\\": \\\"row\\\",\\n            \\\"label\\\": \\\"Chinstrap\\\"\\n          }\\n        },\\n        {\\n          \\\"type\\\": \\\"map\\\",\\n          \\\"from\\\": {\\n            \\\"type\\\": \\\"axis\\\",\\n            \\\"anchor\\\": \\\"lhs\\\",\\n            \\\"select\\\": \\\"row\\\",\\n            \\\"label\\\": 198\\n          },\\n          \\\"to\\\": {\\n            \\\"type\\\": \\\"axis\\\",\\n            \\\"anchor\\\": \\\"rhs\\\",\\n            \\\"select\\\": \\\"row\\\",\\n            \\\"label\\\": \\\"Chinstrap\\\"\\n          }\\n        },\\n        {\\n          \\\"type\\\": \\\"map\\\",\\n          \\\"from\\\": {\\n            \\\"type\\\": \\\"axis\\\",\\n            \\\"anchor\\\": \\\"lhs\\\",\\n            \\\"select\\\": \\\"row\\\",\\n            \\\"label\\\": 199\\n          },\\n          \\\"to\\\": {\\n            \\\"type\\\": \\\"axis\\\",\\n            \\\"anchor\\\": \\\"rhs\\\",\\n            \\\"select\\\": \\\"row\\\",\\n            \\\"label\\\": \\\"Chinstrap\\\"\\n          }\\n        },\\n        {\\n          \\\"type\\\": \\\"map\\\",\\n          \\\"from\\\": {\\n            \\\"type\\\": \\\"axis\\\",\\n            \\\"anchor\\\": \\\"lhs\\\",\\n            \\\"select\\\": \\\"row\\\",\\n            \\\"label\\\": 200\\n          },\\n          \\\"to\\\": {\\n            \\\"type\\\": \\\"axis\\\",\\n            \\\"anchor\\\": \\\"rhs\\\",\\n            \\\"select\\\": \\\"row\\\",\\n            \\\"label\\\": \\\"Chinstrap\\\"\\n          }\\n        },\\n        {\\n          \\\"type\\\": \\\"map\\\",\\n          \\\"from\\\": {\\n            \\\"type\\\": \\\"axis\\\",\\n            \\\"anchor\\\": \\\"lhs\\\",\\n            \\\"select\\\": \\\"row\\\",\\n            \\\"label\\\": 201\\n          },\\n          \\\"to\\\": {\\n            \\\"type\\\": \\\"axis\\\",\\n            \\\"anchor\\\": \\\"rhs\\\",\\n            \\\"select\\\": \\\"row\\\",\\n            \\\"label\\\": \\\"Chinstrap\\\"\\n          }\\n        },\\n        {\\n          \\\"type\\\": \\\"map\\\",\\n          \\\"from\\\": {\\n            \\\"type\\\": \\\"axis\\\",\\n            \\\"anchor\\\": \\\"lhs\\\",\\n            \\\"select\\\": \\\"row\\\",\\n            \\\"label\\\": 202\\n          },\\n          \\\"to\\\": {\\n            \\\"type\\\": \\\"axis\\\",\\n            \\\"anchor\\\": \\\"rhs\\\",\\n            \\\"select\\\": \\\"row\\\",\\n            \\\"label\\\": \\\"Chinstrap\\\"\\n          }\\n        },\\n        {\\n          \\\"type\\\": \\\"map\\\",\\n          \\\"from\\\": {\\n            \\\"type\\\": \\\"axis\\\",\\n            \\\"anchor\\\": \\\"lhs\\\",\\n            \\\"select\\\": \\\"row\\\",\\n            \\\"label\\\": 203\\n          },\\n          \\\"to\\\": {\\n            \\\"type\\\": \\\"axis\\\",\\n            \\\"anchor\\\": \\\"rhs\\\",\\n            \\\"select\\\": \\\"row\\\",\\n            \\\"label\\\": \\\"Chinstrap\\\"\\n          }\\n        },\\n        {\\n          \\\"type\\\": \\\"map\\\",\\n          \\\"from\\\": {\\n            \\\"type\\\": \\\"axis\\\",\\n            \\\"anchor\\\": \\\"lhs\\\",\\n            \\\"select\\\": \\\"row\\\",\\n            \\\"label\\\": 204\\n          },\\n          \\\"to\\\": {\\n            \\\"type\\\": \\\"axis\\\",\\n            \\\"anchor\\\": \\\"rhs\\\",\\n            \\\"select\\\": \\\"row\\\",\\n            \\\"label\\\": \\\"Chinstrap\\\"\\n          }\\n        },\\n        {\\n          \\\"type\\\": \\\"map\\\",\\n          \\\"from\\\": {\\n            \\\"type\\\": \\\"axis\\\",\\n            \\\"anchor\\\": \\\"lhs\\\",\\n            \\\"select\\\": \\\"row\\\",\\n            \\\"label\\\": 205\\n          },\\n          \\\"to\\\": {\\n            \\\"type\\\": \\\"axis\\\",\\n            \\\"anchor\\\": \\\"rhs\\\",\\n            \\\"select\\\": \\\"row\\\",\\n            \\\"label\\\": \\\"Chinstrap\\\"\\n          }\\n        },\\n        {\\n          \\\"type\\\": \\\"map\\\",\\n          \\\"from\\\": {\\n            \\\"type\\\": \\\"axis\\\",\\n            \\\"anchor\\\": \\\"lhs\\\",\\n            \\\"select\\\": \\\"row\\\",\\n            \\\"label\\\": 206\\n          },\\n          \\\"to\\\": {\\n            \\\"type\\\": \\\"axis\\\",\\n            \\\"anchor\\\": \\\"rhs\\\",\\n            \\\"select\\\": \\\"row\\\",\\n            \\\"label\\\": \\\"Chinstrap\\\"\\n          }\\n        },\\n        {\\n          \\\"type\\\": \\\"map\\\",\\n          \\\"from\\\": {\\n            \\\"type\\\": \\\"axis\\\",\\n            \\\"anchor\\\": \\\"lhs\\\",\\n            \\\"select\\\": \\\"row\\\",\\n            \\\"label\\\": 207\\n          },\\n          \\\"to\\\": {\\n            \\\"type\\\": \\\"axis\\\",\\n            \\\"anchor\\\": \\\"rhs\\\",\\n            \\\"select\\\": \\\"row\\\",\\n            \\\"label\\\": \\\"Chinstrap\\\"\\n          }\\n        },\\n        {\\n          \\\"type\\\": \\\"map\\\",\\n          \\\"from\\\": {\\n            \\\"type\\\": \\\"axis\\\",\\n            \\\"anchor\\\": \\\"lhs\\\",\\n            \\\"select\\\": \\\"row\\\",\\n            \\\"label\\\": 208\\n          },\\n          \\\"to\\\": {\\n            \\\"type\\\": \\\"axis\\\",\\n            \\\"anchor\\\": \\\"rhs\\\",\\n            \\\"select\\\": \\\"row\\\",\\n            \\\"label\\\": \\\"Chinstrap\\\"\\n          }\\n        },\\n        {\\n          \\\"type\\\": \\\"map\\\",\\n          \\\"from\\\": {\\n            \\\"type\\\": \\\"axis\\\",\\n            \\\"anchor\\\": \\\"lhs\\\",\\n            \\\"select\\\": \\\"row\\\",\\n            \\\"label\\\": 209\\n          },\\n          \\\"to\\\": {\\n            \\\"type\\\": \\\"axis\\\",\\n            \\\"anchor\\\": \\\"rhs\\\",\\n            \\\"select\\\": \\\"row\\\",\\n            \\\"label\\\": \\\"Chinstrap\\\"\\n          }\\n        },\\n        {\\n          \\\"type\\\": \\\"map\\\",\\n          \\\"from\\\": {\\n            \\\"type\\\": \\\"axis\\\",\\n            \\\"anchor\\\": \\\"lhs\\\",\\n            \\\"select\\\": \\\"row\\\",\\n            \\\"label\\\": 210\\n          },\\n          \\\"to\\\": {\\n            \\\"type\\\": \\\"axis\\\",\\n            \\\"anchor\\\": \\\"rhs\\\",\\n            \\\"select\\\": \\\"row\\\",\\n            \\\"label\\\": \\\"Chinstrap\\\"\\n          }\\n        },\\n        {\\n          \\\"type\\\": \\\"map\\\",\\n          \\\"from\\\": {\\n            \\\"type\\\": \\\"axis\\\",\\n            \\\"anchor\\\": \\\"lhs\\\",\\n            \\\"select\\\": \\\"row\\\",\\n            \\\"label\\\": 211\\n          },\\n          \\\"to\\\": {\\n            \\\"type\\\": \\\"axis\\\",\\n            \\\"anchor\\\": \\\"rhs\\\",\\n            \\\"select\\\": \\\"row\\\",\\n            \\\"label\\\": \\\"Chinstrap\\\"\\n          }\\n        },\\n        {\\n          \\\"type\\\": \\\"map\\\",\\n          \\\"from\\\": {\\n            \\\"type\\\": \\\"axis\\\",\\n            \\\"anchor\\\": \\\"lhs\\\",\\n            \\\"select\\\": \\\"row\\\",\\n            \\\"label\\\": 212\\n          },\\n          \\\"to\\\": {\\n            \\\"type\\\": \\\"axis\\\",\\n            \\\"anchor\\\": \\\"rhs\\\",\\n            \\\"select\\\": \\\"row\\\",\\n            \\\"label\\\": \\\"Chinstrap\\\"\\n          }\\n        },\\n        {\\n          \\\"type\\\": \\\"map\\\",\\n          \\\"from\\\": {\\n            \\\"type\\\": \\\"axis\\\",\\n            \\\"anchor\\\": \\\"lhs\\\",\\n            \\\"select\\\": \\\"row\\\",\\n            \\\"label\\\": 213\\n          },\\n          \\\"to\\\": {\\n            \\\"type\\\": \\\"axis\\\",\\n            \\\"anchor\\\": \\\"rhs\\\",\\n            \\\"select\\\": \\\"row\\\",\\n            \\\"label\\\": \\\"Chinstrap\\\"\\n          }\\n        },\\n        {\\n          \\\"type\\\": \\\"map\\\",\\n          \\\"from\\\": {\\n            \\\"type\\\": \\\"axis\\\",\\n            \\\"anchor\\\": \\\"lhs\\\",\\n            \\\"select\\\": \\\"row\\\",\\n            \\\"label\\\": 214\\n          },\\n          \\\"to\\\": {\\n            \\\"type\\\": \\\"axis\\\",\\n            \\\"anchor\\\": \\\"rhs\\\",\\n            \\\"select\\\": \\\"row\\\",\\n            \\\"label\\\": \\\"Chinstrap\\\"\\n          }\\n        },\\n        {\\n          \\\"type\\\": \\\"map\\\",\\n          \\\"from\\\": {\\n            \\\"type\\\": \\\"axis\\\",\\n            \\\"anchor\\\": \\\"lhs\\\",\\n            \\\"select\\\": \\\"row\\\",\\n            \\\"label\\\": 215\\n          },\\n          \\\"to\\\": {\\n            \\\"type\\\": \\\"axis\\\",\\n            \\\"anchor\\\": \\\"rhs\\\",\\n            \\\"select\\\": \\\"row\\\",\\n            \\\"label\\\": \\\"Chinstrap\\\"\\n          }\\n        },\\n        {\\n          \\\"type\\\": \\\"map\\\",\\n          \\\"from\\\": {\\n            \\\"type\\\": \\\"axis\\\",\\n            \\\"anchor\\\": \\\"lhs\\\",\\n            \\\"select\\\": \\\"row\\\",\\n            \\\"label\\\": 216\\n          },\\n          \\\"to\\\": {\\n            \\\"type\\\": \\\"axis\\\",\\n            \\\"anchor\\\": \\\"rhs\\\",\\n            \\\"select\\\": \\\"row\\\",\\n            \\\"label\\\": \\\"Chinstrap\\\"\\n          }\\n        },\\n        {\\n          \\\"type\\\": \\\"map\\\",\\n          \\\"from\\\": {\\n            \\\"type\\\": \\\"axis\\\",\\n            \\\"anchor\\\": \\\"lhs\\\",\\n            \\\"select\\\": \\\"row\\\",\\n            \\\"label\\\": 217\\n          },\\n          \\\"to\\\": {\\n            \\\"type\\\": \\\"axis\\\",\\n            \\\"anchor\\\": \\\"rhs\\\",\\n            \\\"select\\\": \\\"row\\\",\\n            \\\"label\\\": \\\"Chinstrap\\\"\\n          }\\n        },\\n        {\\n          \\\"type\\\": \\\"map\\\",\\n          \\\"from\\\": {\\n            \\\"type\\\": \\\"axis\\\",\\n            \\\"anchor\\\": \\\"lhs\\\",\\n            \\\"select\\\": \\\"row\\\",\\n            \\\"label\\\": 218\\n          },\\n          \\\"to\\\": {\\n            \\\"type\\\": \\\"axis\\\",\\n            \\\"anchor\\\": \\\"rhs\\\",\\n            \\\"select\\\": \\\"row\\\",\\n            \\\"label\\\": \\\"Chinstrap\\\"\\n          }\\n        },\\n        {\\n          \\\"type\\\": \\\"map\\\",\\n          \\\"from\\\": {\\n            \\\"type\\\": \\\"axis\\\",\\n            \\\"anchor\\\": \\\"lhs\\\",\\n            \\\"select\\\": \\\"row\\\",\\n            \\\"label\\\": 219\\n          },\\n          \\\"to\\\": {\\n            \\\"type\\\": \\\"axis\\\",\\n            \\\"anchor\\\": \\\"rhs\\\",\\n            \\\"select\\\": \\\"row\\\",\\n            \\\"label\\\": \\\"Chinstrap\\\"\\n          }\\n        },\\n        {\\n          \\\"type\\\": \\\"map\\\",\\n          \\\"from\\\": {\\n            \\\"type\\\": \\\"axis\\\",\\n            \\\"anchor\\\": \\\"lhs\\\",\\n            \\\"select\\\": \\\"row\\\",\\n            \\\"label\\\": 220\\n          },\\n          \\\"to\\\": {\\n            \\\"type\\\": \\\"axis\\\",\\n            \\\"anchor\\\": \\\"rhs\\\",\\n            \\\"select\\\": \\\"row\\\",\\n            \\\"label\\\": \\\"Gentoo\\\"\\n          }\\n        },\\n        {\\n          \\\"type\\\": \\\"map\\\",\\n          \\\"from\\\": {\\n            \\\"type\\\": \\\"axis\\\",\\n            \\\"anchor\\\": \\\"lhs\\\",\\n            \\\"select\\\": \\\"row\\\",\\n            \\\"label\\\": 221\\n          },\\n          \\\"to\\\": {\\n            \\\"type\\\": \\\"axis\\\",\\n            \\\"anchor\\\": \\\"rhs\\\",\\n            \\\"select\\\": \\\"row\\\",\\n            \\\"label\\\": \\\"Gentoo\\\"\\n          }\\n        },\\n        {\\n          \\\"type\\\": \\\"map\\\",\\n          \\\"from\\\": {\\n            \\\"type\\\": \\\"axis\\\",\\n            \\\"anchor\\\": \\\"lhs\\\",\\n            \\\"select\\\": \\\"row\\\",\\n            \\\"label\\\": 222\\n          },\\n          \\\"to\\\": {\\n            \\\"type\\\": \\\"axis\\\",\\n            \\\"anchor\\\": \\\"rhs\\\",\\n            \\\"select\\\": \\\"row\\\",\\n            \\\"label\\\": \\\"Gentoo\\\"\\n          }\\n        },\\n        {\\n          \\\"type\\\": \\\"map\\\",\\n          \\\"from\\\": {\\n            \\\"type\\\": \\\"axis\\\",\\n            \\\"anchor\\\": \\\"lhs\\\",\\n            \\\"select\\\": \\\"row\\\",\\n            \\\"label\\\": 223\\n          },\\n          \\\"to\\\": {\\n            \\\"type\\\": \\\"axis\\\",\\n            \\\"anchor\\\": \\\"rhs\\\",\\n            \\\"select\\\": \\\"row\\\",\\n            \\\"label\\\": \\\"Gentoo\\\"\\n          }\\n        },\\n        {\\n          \\\"type\\\": \\\"map\\\",\\n          \\\"from\\\": {\\n            \\\"type\\\": \\\"axis\\\",\\n            \\\"anchor\\\": \\\"lhs\\\",\\n            \\\"select\\\": \\\"row\\\",\\n            \\\"label\\\": 224\\n          },\\n          \\\"to\\\": {\\n            \\\"type\\\": \\\"axis\\\",\\n            \\\"anchor\\\": \\\"rhs\\\",\\n            \\\"select\\\": \\\"row\\\",\\n            \\\"label\\\": \\\"Gentoo\\\"\\n          }\\n        },\\n        {\\n          \\\"type\\\": \\\"map\\\",\\n          \\\"from\\\": {\\n            \\\"type\\\": \\\"axis\\\",\\n            \\\"anchor\\\": \\\"lhs\\\",\\n            \\\"select\\\": \\\"row\\\",\\n            \\\"label\\\": 225\\n          },\\n          \\\"to\\\": {\\n            \\\"type\\\": \\\"axis\\\",\\n            \\\"anchor\\\": \\\"rhs\\\",\\n            \\\"select\\\": \\\"row\\\",\\n            \\\"label\\\": \\\"Gentoo\\\"\\n          }\\n        },\\n        {\\n          \\\"type\\\": \\\"map\\\",\\n          \\\"from\\\": {\\n            \\\"type\\\": \\\"axis\\\",\\n            \\\"anchor\\\": \\\"lhs\\\",\\n            \\\"select\\\": \\\"row\\\",\\n            \\\"label\\\": 226\\n          },\\n          \\\"to\\\": {\\n            \\\"type\\\": \\\"axis\\\",\\n            \\\"anchor\\\": \\\"rhs\\\",\\n            \\\"select\\\": \\\"row\\\",\\n            \\\"label\\\": \\\"Gentoo\\\"\\n          }\\n        },\\n        {\\n          \\\"type\\\": \\\"map\\\",\\n          \\\"from\\\": {\\n            \\\"type\\\": \\\"axis\\\",\\n            \\\"anchor\\\": \\\"lhs\\\",\\n            \\\"select\\\": \\\"row\\\",\\n            \\\"label\\\": 227\\n          },\\n          \\\"to\\\": {\\n            \\\"type\\\": \\\"axis\\\",\\n            \\\"anchor\\\": \\\"rhs\\\",\\n            \\\"select\\\": \\\"row\\\",\\n            \\\"label\\\": \\\"Gentoo\\\"\\n          }\\n        },\\n        {\\n          \\\"type\\\": \\\"map\\\",\\n          \\\"from\\\": {\\n            \\\"type\\\": \\\"axis\\\",\\n            \\\"anchor\\\": \\\"lhs\\\",\\n            \\\"select\\\": \\\"row\\\",\\n            \\\"label\\\": 228\\n          },\\n          \\\"to\\\": {\\n            \\\"type\\\": \\\"axis\\\",\\n            \\\"anchor\\\": \\\"rhs\\\",\\n            \\\"select\\\": \\\"row\\\",\\n            \\\"label\\\": \\\"Gentoo\\\"\\n          }\\n        },\\n        {\\n          \\\"type\\\": \\\"map\\\",\\n          \\\"from\\\": {\\n            \\\"type\\\": \\\"axis\\\",\\n            \\\"anchor\\\": \\\"lhs\\\",\\n            \\\"select\\\": \\\"row\\\",\\n            \\\"label\\\": 229\\n          },\\n          \\\"to\\\": {\\n            \\\"type\\\": \\\"axis\\\",\\n            \\\"anchor\\\": \\\"rhs\\\",\\n            \\\"select\\\": \\\"row\\\",\\n            \\\"label\\\": \\\"Gentoo\\\"\\n          }\\n        },\\n        {\\n          \\\"type\\\": \\\"map\\\",\\n          \\\"from\\\": {\\n            \\\"type\\\": \\\"axis\\\",\\n            \\\"anchor\\\": \\\"lhs\\\",\\n            \\\"select\\\": \\\"row\\\",\\n            \\\"label\\\": 230\\n          },\\n          \\\"to\\\": {\\n            \\\"type\\\": \\\"axis\\\",\\n            \\\"anchor\\\": \\\"rhs\\\",\\n            \\\"select\\\": \\\"row\\\",\\n            \\\"label\\\": \\\"Gentoo\\\"\\n          }\\n        },\\n        {\\n          \\\"type\\\": \\\"map\\\",\\n          \\\"from\\\": {\\n            \\\"type\\\": \\\"axis\\\",\\n            \\\"anchor\\\": \\\"lhs\\\",\\n            \\\"select\\\": \\\"row\\\",\\n            \\\"label\\\": 231\\n          },\\n          \\\"to\\\": {\\n            \\\"type\\\": \\\"axis\\\",\\n            \\\"anchor\\\": \\\"rhs\\\",\\n            \\\"select\\\": \\\"row\\\",\\n            \\\"label\\\": \\\"Gentoo\\\"\\n          }\\n        },\\n        {\\n          \\\"type\\\": \\\"map\\\",\\n          \\\"from\\\": {\\n            \\\"type\\\": \\\"axis\\\",\\n            \\\"anchor\\\": \\\"lhs\\\",\\n            \\\"select\\\": \\\"row\\\",\\n            \\\"label\\\": 232\\n          },\\n          \\\"to\\\": {\\n            \\\"type\\\": \\\"axis\\\",\\n            \\\"anchor\\\": \\\"rhs\\\",\\n            \\\"select\\\": \\\"row\\\",\\n            \\\"label\\\": \\\"Gentoo\\\"\\n          }\\n        },\\n        {\\n          \\\"type\\\": \\\"map\\\",\\n          \\\"from\\\": {\\n            \\\"type\\\": \\\"axis\\\",\\n            \\\"anchor\\\": \\\"lhs\\\",\\n            \\\"select\\\": \\\"row\\\",\\n            \\\"label\\\": 233\\n          },\\n          \\\"to\\\": {\\n            \\\"type\\\": \\\"axis\\\",\\n            \\\"anchor\\\": \\\"rhs\\\",\\n            \\\"select\\\": \\\"row\\\",\\n            \\\"label\\\": \\\"Gentoo\\\"\\n          }\\n        },\\n        {\\n          \\\"type\\\": \\\"map\\\",\\n          \\\"from\\\": {\\n            \\\"type\\\": \\\"axis\\\",\\n            \\\"anchor\\\": \\\"lhs\\\",\\n            \\\"select\\\": \\\"row\\\",\\n            \\\"label\\\": 234\\n          },\\n          \\\"to\\\": {\\n            \\\"type\\\": \\\"axis\\\",\\n            \\\"anchor\\\": \\\"rhs\\\",\\n            \\\"select\\\": \\\"row\\\",\\n            \\\"label\\\": \\\"Gentoo\\\"\\n          }\\n        },\\n        {\\n          \\\"type\\\": \\\"map\\\",\\n          \\\"from\\\": {\\n            \\\"type\\\": \\\"axis\\\",\\n            \\\"anchor\\\": \\\"lhs\\\",\\n            \\\"select\\\": \\\"row\\\",\\n            \\\"label\\\": 235\\n          },\\n          \\\"to\\\": {\\n            \\\"type\\\": \\\"axis\\\",\\n            \\\"anchor\\\": \\\"rhs\\\",\\n            \\\"select\\\": \\\"row\\\",\\n            \\\"label\\\": \\\"Gentoo\\\"\\n          }\\n        },\\n        {\\n          \\\"type\\\": \\\"map\\\",\\n          \\\"from\\\": {\\n            \\\"type\\\": \\\"axis\\\",\\n            \\\"anchor\\\": \\\"lhs\\\",\\n            \\\"select\\\": \\\"row\\\",\\n            \\\"label\\\": 236\\n          },\\n          \\\"to\\\": {\\n            \\\"type\\\": \\\"axis\\\",\\n            \\\"anchor\\\": \\\"rhs\\\",\\n            \\\"select\\\": \\\"row\\\",\\n            \\\"label\\\": \\\"Gentoo\\\"\\n          }\\n        },\\n        {\\n          \\\"type\\\": \\\"map\\\",\\n          \\\"from\\\": {\\n            \\\"type\\\": \\\"axis\\\",\\n            \\\"anchor\\\": \\\"lhs\\\",\\n            \\\"select\\\": \\\"row\\\",\\n            \\\"label\\\": 237\\n          },\\n          \\\"to\\\": {\\n            \\\"type\\\": \\\"axis\\\",\\n            \\\"anchor\\\": \\\"rhs\\\",\\n            \\\"select\\\": \\\"row\\\",\\n            \\\"label\\\": \\\"Gentoo\\\"\\n          }\\n        },\\n        {\\n          \\\"type\\\": \\\"map\\\",\\n          \\\"from\\\": {\\n            \\\"type\\\": \\\"axis\\\",\\n            \\\"anchor\\\": \\\"lhs\\\",\\n            \\\"select\\\": \\\"row\\\",\\n            \\\"label\\\": 238\\n          },\\n          \\\"to\\\": {\\n            \\\"type\\\": \\\"axis\\\",\\n            \\\"anchor\\\": \\\"rhs\\\",\\n            \\\"select\\\": \\\"row\\\",\\n            \\\"label\\\": \\\"Gentoo\\\"\\n          }\\n        },\\n        {\\n          \\\"type\\\": \\\"map\\\",\\n          \\\"from\\\": {\\n            \\\"type\\\": \\\"axis\\\",\\n            \\\"anchor\\\": \\\"lhs\\\",\\n            \\\"select\\\": \\\"row\\\",\\n            \\\"label\\\": 239\\n          },\\n          \\\"to\\\": {\\n            \\\"type\\\": \\\"axis\\\",\\n            \\\"anchor\\\": \\\"rhs\\\",\\n            \\\"select\\\": \\\"row\\\",\\n            \\\"label\\\": \\\"Gentoo\\\"\\n          }\\n        },\\n        {\\n          \\\"type\\\": \\\"map\\\",\\n          \\\"from\\\": {\\n            \\\"type\\\": \\\"axis\\\",\\n            \\\"anchor\\\": \\\"lhs\\\",\\n            \\\"select\\\": \\\"row\\\",\\n            \\\"label\\\": 240\\n          },\\n          \\\"to\\\": {\\n            \\\"type\\\": \\\"axis\\\",\\n            \\\"anchor\\\": \\\"rhs\\\",\\n            \\\"select\\\": \\\"row\\\",\\n            \\\"label\\\": \\\"Gentoo\\\"\\n          }\\n        },\\n        {\\n          \\\"type\\\": \\\"map\\\",\\n          \\\"from\\\": {\\n            \\\"type\\\": \\\"axis\\\",\\n            \\\"anchor\\\": \\\"lhs\\\",\\n            \\\"select\\\": \\\"row\\\",\\n            \\\"label\\\": 241\\n          },\\n          \\\"to\\\": {\\n            \\\"type\\\": \\\"axis\\\",\\n            \\\"anchor\\\": \\\"rhs\\\",\\n            \\\"select\\\": \\\"row\\\",\\n            \\\"label\\\": \\\"Gentoo\\\"\\n          }\\n        },\\n        {\\n          \\\"type\\\": \\\"map\\\",\\n          \\\"from\\\": {\\n            \\\"type\\\": \\\"axis\\\",\\n            \\\"anchor\\\": \\\"lhs\\\",\\n            \\\"select\\\": \\\"row\\\",\\n            \\\"label\\\": 242\\n          },\\n          \\\"to\\\": {\\n            \\\"type\\\": \\\"axis\\\",\\n            \\\"anchor\\\": \\\"rhs\\\",\\n            \\\"select\\\": \\\"row\\\",\\n            \\\"label\\\": \\\"Gentoo\\\"\\n          }\\n        },\\n        {\\n          \\\"type\\\": \\\"map\\\",\\n          \\\"from\\\": {\\n            \\\"type\\\": \\\"axis\\\",\\n            \\\"anchor\\\": \\\"lhs\\\",\\n            \\\"select\\\": \\\"row\\\",\\n            \\\"label\\\": 243\\n          },\\n          \\\"to\\\": {\\n            \\\"type\\\": \\\"axis\\\",\\n            \\\"anchor\\\": \\\"rhs\\\",\\n            \\\"select\\\": \\\"row\\\",\\n            \\\"label\\\": \\\"Gentoo\\\"\\n          }\\n        },\\n        {\\n          \\\"type\\\": \\\"map\\\",\\n          \\\"from\\\": {\\n            \\\"type\\\": \\\"axis\\\",\\n            \\\"anchor\\\": \\\"lhs\\\",\\n            \\\"select\\\": \\\"row\\\",\\n            \\\"label\\\": 244\\n          },\\n          \\\"to\\\": {\\n            \\\"type\\\": \\\"axis\\\",\\n            \\\"anchor\\\": \\\"rhs\\\",\\n            \\\"select\\\": \\\"row\\\",\\n            \\\"label\\\": \\\"Gentoo\\\"\\n          }\\n        },\\n        {\\n          \\\"type\\\": \\\"map\\\",\\n          \\\"from\\\": {\\n            \\\"type\\\": \\\"axis\\\",\\n            \\\"anchor\\\": \\\"lhs\\\",\\n            \\\"select\\\": \\\"row\\\",\\n            \\\"label\\\": 245\\n          },\\n          \\\"to\\\": {\\n            \\\"type\\\": \\\"axis\\\",\\n            \\\"anchor\\\": \\\"rhs\\\",\\n            \\\"select\\\": \\\"row\\\",\\n            \\\"label\\\": \\\"Gentoo\\\"\\n          }\\n        },\\n        {\\n          \\\"type\\\": \\\"map\\\",\\n          \\\"from\\\": {\\n            \\\"type\\\": \\\"axis\\\",\\n            \\\"anchor\\\": \\\"lhs\\\",\\n            \\\"select\\\": \\\"row\\\",\\n            \\\"label\\\": 247\\n          },\\n          \\\"to\\\": {\\n            \\\"type\\\": \\\"axis\\\",\\n            \\\"anchor\\\": \\\"rhs\\\",\\n            \\\"select\\\": \\\"row\\\",\\n            \\\"label\\\": \\\"Gentoo\\\"\\n          }\\n        },\\n        {\\n          \\\"type\\\": \\\"map\\\",\\n          \\\"from\\\": {\\n            \\\"type\\\": \\\"axis\\\",\\n            \\\"anchor\\\": \\\"lhs\\\",\\n            \\\"select\\\": \\\"row\\\",\\n            \\\"label\\\": 248\\n          },\\n          \\\"to\\\": {\\n            \\\"type\\\": \\\"axis\\\",\\n            \\\"anchor\\\": \\\"rhs\\\",\\n            \\\"select\\\": \\\"row\\\",\\n            \\\"label\\\": \\\"Gentoo\\\"\\n          }\\n        },\\n        {\\n          \\\"type\\\": \\\"map\\\",\\n          \\\"from\\\": {\\n            \\\"type\\\": \\\"axis\\\",\\n            \\\"anchor\\\": \\\"lhs\\\",\\n            \\\"select\\\": \\\"row\\\",\\n            \\\"label\\\": 249\\n          },\\n          \\\"to\\\": {\\n            \\\"type\\\": \\\"axis\\\",\\n            \\\"anchor\\\": \\\"rhs\\\",\\n            \\\"select\\\": \\\"row\\\",\\n            \\\"label\\\": \\\"Gentoo\\\"\\n          }\\n        },\\n        {\\n          \\\"type\\\": \\\"map\\\",\\n          \\\"from\\\": {\\n            \\\"type\\\": \\\"axis\\\",\\n            \\\"anchor\\\": \\\"lhs\\\",\\n            \\\"select\\\": \\\"row\\\",\\n            \\\"label\\\": 250\\n          },\\n          \\\"to\\\": {\\n            \\\"type\\\": \\\"axis\\\",\\n            \\\"anchor\\\": \\\"rhs\\\",\\n            \\\"select\\\": \\\"row\\\",\\n            \\\"label\\\": \\\"Gentoo\\\"\\n          }\\n        },\\n        {\\n          \\\"type\\\": \\\"map\\\",\\n          \\\"from\\\": {\\n            \\\"type\\\": \\\"axis\\\",\\n            \\\"anchor\\\": \\\"lhs\\\",\\n            \\\"select\\\": \\\"row\\\",\\n            \\\"label\\\": 251\\n          },\\n          \\\"to\\\": {\\n            \\\"type\\\": \\\"axis\\\",\\n            \\\"anchor\\\": \\\"rhs\\\",\\n            \\\"select\\\": \\\"row\\\",\\n            \\\"label\\\": \\\"Gentoo\\\"\\n          }\\n        },\\n        {\\n          \\\"type\\\": \\\"map\\\",\\n          \\\"from\\\": {\\n            \\\"type\\\": \\\"axis\\\",\\n            \\\"anchor\\\": \\\"lhs\\\",\\n            \\\"select\\\": \\\"row\\\",\\n            \\\"label\\\": 252\\n          },\\n          \\\"to\\\": {\\n            \\\"type\\\": \\\"axis\\\",\\n            \\\"anchor\\\": \\\"rhs\\\",\\n            \\\"select\\\": \\\"row\\\",\\n            \\\"label\\\": \\\"Gentoo\\\"\\n          }\\n        },\\n        {\\n          \\\"type\\\": \\\"map\\\",\\n          \\\"from\\\": {\\n            \\\"type\\\": \\\"axis\\\",\\n            \\\"anchor\\\": \\\"lhs\\\",\\n            \\\"select\\\": \\\"row\\\",\\n            \\\"label\\\": 253\\n          },\\n          \\\"to\\\": {\\n            \\\"type\\\": \\\"axis\\\",\\n            \\\"anchor\\\": \\\"rhs\\\",\\n            \\\"select\\\": \\\"row\\\",\\n            \\\"label\\\": \\\"Gentoo\\\"\\n          }\\n        },\\n        {\\n          \\\"type\\\": \\\"map\\\",\\n          \\\"from\\\": {\\n            \\\"type\\\": \\\"axis\\\",\\n            \\\"anchor\\\": \\\"lhs\\\",\\n            \\\"select\\\": \\\"row\\\",\\n            \\\"label\\\": 254\\n          },\\n          \\\"to\\\": {\\n            \\\"type\\\": \\\"axis\\\",\\n            \\\"anchor\\\": \\\"rhs\\\",\\n            \\\"select\\\": \\\"row\\\",\\n            \\\"label\\\": \\\"Gentoo\\\"\\n          }\\n        },\\n        {\\n          \\\"type\\\": \\\"map\\\",\\n          \\\"from\\\": {\\n            \\\"type\\\": \\\"axis\\\",\\n            \\\"anchor\\\": \\\"lhs\\\",\\n            \\\"select\\\": \\\"row\\\",\\n            \\\"label\\\": 255\\n          },\\n          \\\"to\\\": {\\n            \\\"type\\\": \\\"axis\\\",\\n            \\\"anchor\\\": \\\"rhs\\\",\\n            \\\"select\\\": \\\"row\\\",\\n            \\\"label\\\": \\\"Gentoo\\\"\\n          }\\n        },\\n        {\\n          \\\"type\\\": \\\"map\\\",\\n          \\\"from\\\": {\\n            \\\"type\\\": \\\"axis\\\",\\n            \\\"anchor\\\": \\\"lhs\\\",\\n            \\\"select\\\": \\\"row\\\",\\n            \\\"label\\\": 256\\n          },\\n          \\\"to\\\": {\\n            \\\"type\\\": \\\"axis\\\",\\n            \\\"anchor\\\": \\\"rhs\\\",\\n            \\\"select\\\": \\\"row\\\",\\n            \\\"label\\\": \\\"Gentoo\\\"\\n          }\\n        },\\n        {\\n          \\\"type\\\": \\\"map\\\",\\n          \\\"from\\\": {\\n            \\\"type\\\": \\\"axis\\\",\\n            \\\"anchor\\\": \\\"lhs\\\",\\n            \\\"select\\\": \\\"row\\\",\\n            \\\"label\\\": 257\\n          },\\n          \\\"to\\\": {\\n            \\\"type\\\": \\\"axis\\\",\\n            \\\"anchor\\\": \\\"rhs\\\",\\n            \\\"select\\\": \\\"row\\\",\\n            \\\"label\\\": \\\"Gentoo\\\"\\n          }\\n        },\\n        {\\n          \\\"type\\\": \\\"map\\\",\\n          \\\"from\\\": {\\n            \\\"type\\\": \\\"axis\\\",\\n            \\\"anchor\\\": \\\"lhs\\\",\\n            \\\"select\\\": \\\"row\\\",\\n            \\\"label\\\": 258\\n          },\\n          \\\"to\\\": {\\n            \\\"type\\\": \\\"axis\\\",\\n            \\\"anchor\\\": \\\"rhs\\\",\\n            \\\"select\\\": \\\"row\\\",\\n            \\\"label\\\": \\\"Gentoo\\\"\\n          }\\n        },\\n        {\\n          \\\"type\\\": \\\"map\\\",\\n          \\\"from\\\": {\\n            \\\"type\\\": \\\"axis\\\",\\n            \\\"anchor\\\": \\\"lhs\\\",\\n            \\\"select\\\": \\\"row\\\",\\n            \\\"label\\\": 259\\n          },\\n          \\\"to\\\": {\\n            \\\"type\\\": \\\"axis\\\",\\n            \\\"anchor\\\": \\\"rhs\\\",\\n            \\\"select\\\": \\\"row\\\",\\n            \\\"label\\\": \\\"Gentoo\\\"\\n          }\\n        },\\n        {\\n          \\\"type\\\": \\\"map\\\",\\n          \\\"from\\\": {\\n            \\\"type\\\": \\\"axis\\\",\\n            \\\"anchor\\\": \\\"lhs\\\",\\n            \\\"select\\\": \\\"row\\\",\\n            \\\"label\\\": 260\\n          },\\n          \\\"to\\\": {\\n            \\\"type\\\": \\\"axis\\\",\\n            \\\"anchor\\\": \\\"rhs\\\",\\n            \\\"select\\\": \\\"row\\\",\\n            \\\"label\\\": \\\"Gentoo\\\"\\n          }\\n        },\\n        {\\n          \\\"type\\\": \\\"map\\\",\\n          \\\"from\\\": {\\n            \\\"type\\\": \\\"axis\\\",\\n            \\\"anchor\\\": \\\"lhs\\\",\\n            \\\"select\\\": \\\"row\\\",\\n            \\\"label\\\": 261\\n          },\\n          \\\"to\\\": {\\n            \\\"type\\\": \\\"axis\\\",\\n            \\\"anchor\\\": \\\"rhs\\\",\\n            \\\"select\\\": \\\"row\\\",\\n            \\\"label\\\": \\\"Gentoo\\\"\\n          }\\n        },\\n        {\\n          \\\"type\\\": \\\"map\\\",\\n          \\\"from\\\": {\\n            \\\"type\\\": \\\"axis\\\",\\n            \\\"anchor\\\": \\\"lhs\\\",\\n            \\\"select\\\": \\\"row\\\",\\n            \\\"label\\\": 262\\n          },\\n          \\\"to\\\": {\\n            \\\"type\\\": \\\"axis\\\",\\n            \\\"anchor\\\": \\\"rhs\\\",\\n            \\\"select\\\": \\\"row\\\",\\n            \\\"label\\\": \\\"Gentoo\\\"\\n          }\\n        },\\n        {\\n          \\\"type\\\": \\\"map\\\",\\n          \\\"from\\\": {\\n            \\\"type\\\": \\\"axis\\\",\\n            \\\"anchor\\\": \\\"lhs\\\",\\n            \\\"select\\\": \\\"row\\\",\\n            \\\"label\\\": 263\\n          },\\n          \\\"to\\\": {\\n            \\\"type\\\": \\\"axis\\\",\\n            \\\"anchor\\\": \\\"rhs\\\",\\n            \\\"select\\\": \\\"row\\\",\\n            \\\"label\\\": \\\"Gentoo\\\"\\n          }\\n        },\\n        {\\n          \\\"type\\\": \\\"map\\\",\\n          \\\"from\\\": {\\n            \\\"type\\\": \\\"axis\\\",\\n            \\\"anchor\\\": \\\"lhs\\\",\\n            \\\"select\\\": \\\"row\\\",\\n            \\\"label\\\": 264\\n          },\\n          \\\"to\\\": {\\n            \\\"type\\\": \\\"axis\\\",\\n            \\\"anchor\\\": \\\"rhs\\\",\\n            \\\"select\\\": \\\"row\\\",\\n            \\\"label\\\": \\\"Gentoo\\\"\\n          }\\n        },\\n        {\\n          \\\"type\\\": \\\"map\\\",\\n          \\\"from\\\": {\\n            \\\"type\\\": \\\"axis\\\",\\n            \\\"anchor\\\": \\\"lhs\\\",\\n            \\\"select\\\": \\\"row\\\",\\n            \\\"label\\\": 265\\n          },\\n          \\\"to\\\": {\\n            \\\"type\\\": \\\"axis\\\",\\n            \\\"anchor\\\": \\\"rhs\\\",\\n            \\\"select\\\": \\\"row\\\",\\n            \\\"label\\\": \\\"Gentoo\\\"\\n          }\\n        },\\n        {\\n          \\\"type\\\": \\\"map\\\",\\n          \\\"from\\\": {\\n            \\\"type\\\": \\\"axis\\\",\\n            \\\"anchor\\\": \\\"lhs\\\",\\n            \\\"select\\\": \\\"row\\\",\\n            \\\"label\\\": 266\\n          },\\n          \\\"to\\\": {\\n            \\\"type\\\": \\\"axis\\\",\\n            \\\"anchor\\\": \\\"rhs\\\",\\n            \\\"select\\\": \\\"row\\\",\\n            \\\"label\\\": \\\"Gentoo\\\"\\n          }\\n        },\\n        {\\n          \\\"type\\\": \\\"map\\\",\\n          \\\"from\\\": {\\n            \\\"type\\\": \\\"axis\\\",\\n            \\\"anchor\\\": \\\"lhs\\\",\\n            \\\"select\\\": \\\"row\\\",\\n            \\\"label\\\": 267\\n          },\\n          \\\"to\\\": {\\n            \\\"type\\\": \\\"axis\\\",\\n            \\\"anchor\\\": \\\"rhs\\\",\\n            \\\"select\\\": \\\"row\\\",\\n            \\\"label\\\": \\\"Gentoo\\\"\\n          }\\n        },\\n        {\\n          \\\"type\\\": \\\"map\\\",\\n          \\\"from\\\": {\\n            \\\"type\\\": \\\"axis\\\",\\n            \\\"anchor\\\": \\\"lhs\\\",\\n            \\\"select\\\": \\\"row\\\",\\n            \\\"label\\\": 268\\n          },\\n          \\\"to\\\": {\\n            \\\"type\\\": \\\"axis\\\",\\n            \\\"anchor\\\": \\\"rhs\\\",\\n            \\\"select\\\": \\\"row\\\",\\n            \\\"label\\\": \\\"Gentoo\\\"\\n          }\\n        },\\n        {\\n          \\\"type\\\": \\\"map\\\",\\n          \\\"from\\\": {\\n            \\\"type\\\": \\\"axis\\\",\\n            \\\"anchor\\\": \\\"lhs\\\",\\n            \\\"select\\\": \\\"row\\\",\\n            \\\"label\\\": 269\\n          },\\n          \\\"to\\\": {\\n            \\\"type\\\": \\\"axis\\\",\\n            \\\"anchor\\\": \\\"rhs\\\",\\n            \\\"select\\\": \\\"row\\\",\\n            \\\"label\\\": \\\"Gentoo\\\"\\n          }\\n        },\\n        {\\n          \\\"type\\\": \\\"map\\\",\\n          \\\"from\\\": {\\n            \\\"type\\\": \\\"axis\\\",\\n            \\\"anchor\\\": \\\"lhs\\\",\\n            \\\"select\\\": \\\"row\\\",\\n            \\\"label\\\": 270\\n          },\\n          \\\"to\\\": {\\n            \\\"type\\\": \\\"axis\\\",\\n            \\\"anchor\\\": \\\"rhs\\\",\\n            \\\"select\\\": \\\"row\\\",\\n            \\\"label\\\": \\\"Gentoo\\\"\\n          }\\n        },\\n        {\\n          \\\"type\\\": \\\"map\\\",\\n          \\\"from\\\": {\\n            \\\"type\\\": \\\"axis\\\",\\n            \\\"anchor\\\": \\\"lhs\\\",\\n            \\\"select\\\": \\\"row\\\",\\n            \\\"label\\\": 271\\n          },\\n          \\\"to\\\": {\\n            \\\"type\\\": \\\"axis\\\",\\n            \\\"anchor\\\": \\\"rhs\\\",\\n            \\\"select\\\": \\\"row\\\",\\n            \\\"label\\\": \\\"Gentoo\\\"\\n          }\\n        },\\n        {\\n          \\\"type\\\": \\\"map\\\",\\n          \\\"from\\\": {\\n            \\\"type\\\": \\\"axis\\\",\\n            \\\"anchor\\\": \\\"lhs\\\",\\n            \\\"select\\\": \\\"row\\\",\\n            \\\"label\\\": 272\\n          },\\n          \\\"to\\\": {\\n            \\\"type\\\": \\\"axis\\\",\\n            \\\"anchor\\\": \\\"rhs\\\",\\n            \\\"select\\\": \\\"row\\\",\\n            \\\"label\\\": \\\"Gentoo\\\"\\n          }\\n        },\\n        {\\n          \\\"type\\\": \\\"map\\\",\\n          \\\"from\\\": {\\n            \\\"type\\\": \\\"axis\\\",\\n            \\\"anchor\\\": \\\"lhs\\\",\\n            \\\"select\\\": \\\"row\\\",\\n            \\\"label\\\": 273\\n          },\\n          \\\"to\\\": {\\n            \\\"type\\\": \\\"axis\\\",\\n            \\\"anchor\\\": \\\"rhs\\\",\\n            \\\"select\\\": \\\"row\\\",\\n            \\\"label\\\": \\\"Gentoo\\\"\\n          }\\n        },\\n        {\\n          \\\"type\\\": \\\"map\\\",\\n          \\\"from\\\": {\\n            \\\"type\\\": \\\"axis\\\",\\n            \\\"anchor\\\": \\\"lhs\\\",\\n            \\\"select\\\": \\\"row\\\",\\n            \\\"label\\\": 274\\n          },\\n          \\\"to\\\": {\\n            \\\"type\\\": \\\"axis\\\",\\n            \\\"anchor\\\": \\\"rhs\\\",\\n            \\\"select\\\": \\\"row\\\",\\n            \\\"label\\\": \\\"Gentoo\\\"\\n          }\\n        },\\n        {\\n          \\\"type\\\": \\\"map\\\",\\n          \\\"from\\\": {\\n            \\\"type\\\": \\\"axis\\\",\\n            \\\"anchor\\\": \\\"lhs\\\",\\n            \\\"select\\\": \\\"row\\\",\\n            \\\"label\\\": 275\\n          },\\n          \\\"to\\\": {\\n            \\\"type\\\": \\\"axis\\\",\\n            \\\"anchor\\\": \\\"rhs\\\",\\n            \\\"select\\\": \\\"row\\\",\\n            \\\"label\\\": \\\"Gentoo\\\"\\n          }\\n        },\\n        {\\n          \\\"type\\\": \\\"map\\\",\\n          \\\"from\\\": {\\n            \\\"type\\\": \\\"axis\\\",\\n            \\\"anchor\\\": \\\"lhs\\\",\\n            \\\"select\\\": \\\"row\\\",\\n            \\\"label\\\": 276\\n          },\\n          \\\"to\\\": {\\n            \\\"type\\\": \\\"axis\\\",\\n            \\\"anchor\\\": \\\"rhs\\\",\\n            \\\"select\\\": \\\"row\\\",\\n            \\\"label\\\": \\\"Gentoo\\\"\\n          }\\n        },\\n        {\\n          \\\"type\\\": \\\"map\\\",\\n          \\\"from\\\": {\\n            \\\"type\\\": \\\"axis\\\",\\n            \\\"anchor\\\": \\\"lhs\\\",\\n            \\\"select\\\": \\\"row\\\",\\n            \\\"label\\\": 277\\n          },\\n          \\\"to\\\": {\\n            \\\"type\\\": \\\"axis\\\",\\n            \\\"anchor\\\": \\\"rhs\\\",\\n            \\\"select\\\": \\\"row\\\",\\n            \\\"label\\\": \\\"Gentoo\\\"\\n          }\\n        },\\n        {\\n          \\\"type\\\": \\\"map\\\",\\n          \\\"from\\\": {\\n            \\\"type\\\": \\\"axis\\\",\\n            \\\"anchor\\\": \\\"lhs\\\",\\n            \\\"select\\\": \\\"row\\\",\\n            \\\"label\\\": 278\\n          },\\n          \\\"to\\\": {\\n            \\\"type\\\": \\\"axis\\\",\\n            \\\"anchor\\\": \\\"rhs\\\",\\n            \\\"select\\\": \\\"row\\\",\\n            \\\"label\\\": \\\"Gentoo\\\"\\n          }\\n        },\\n        {\\n          \\\"type\\\": \\\"map\\\",\\n          \\\"from\\\": {\\n            \\\"type\\\": \\\"axis\\\",\\n            \\\"anchor\\\": \\\"lhs\\\",\\n            \\\"select\\\": \\\"row\\\",\\n            \\\"label\\\": 279\\n          },\\n          \\\"to\\\": {\\n            \\\"type\\\": \\\"axis\\\",\\n            \\\"anchor\\\": \\\"rhs\\\",\\n            \\\"select\\\": \\\"row\\\",\\n            \\\"label\\\": \\\"Gentoo\\\"\\n          }\\n        },\\n        {\\n          \\\"type\\\": \\\"map\\\",\\n          \\\"from\\\": {\\n            \\\"type\\\": \\\"axis\\\",\\n            \\\"anchor\\\": \\\"lhs\\\",\\n            \\\"select\\\": \\\"row\\\",\\n            \\\"label\\\": 280\\n          },\\n          \\\"to\\\": {\\n            \\\"type\\\": \\\"axis\\\",\\n            \\\"anchor\\\": \\\"rhs\\\",\\n            \\\"select\\\": \\\"row\\\",\\n            \\\"label\\\": \\\"Gentoo\\\"\\n          }\\n        },\\n        {\\n          \\\"type\\\": \\\"map\\\",\\n          \\\"from\\\": {\\n            \\\"type\\\": \\\"axis\\\",\\n            \\\"anchor\\\": \\\"lhs\\\",\\n            \\\"select\\\": \\\"row\\\",\\n            \\\"label\\\": 281\\n          },\\n          \\\"to\\\": {\\n            \\\"type\\\": \\\"axis\\\",\\n            \\\"anchor\\\": \\\"rhs\\\",\\n            \\\"select\\\": \\\"row\\\",\\n            \\\"label\\\": \\\"Gentoo\\\"\\n          }\\n        },\\n        {\\n          \\\"type\\\": \\\"map\\\",\\n          \\\"from\\\": {\\n            \\\"type\\\": \\\"axis\\\",\\n            \\\"anchor\\\": \\\"lhs\\\",\\n            \\\"select\\\": \\\"row\\\",\\n            \\\"label\\\": 282\\n          },\\n          \\\"to\\\": {\\n            \\\"type\\\": \\\"axis\\\",\\n            \\\"anchor\\\": \\\"rhs\\\",\\n            \\\"select\\\": \\\"row\\\",\\n            \\\"label\\\": \\\"Gentoo\\\"\\n          }\\n        },\\n        {\\n          \\\"type\\\": \\\"map\\\",\\n          \\\"from\\\": {\\n            \\\"type\\\": \\\"axis\\\",\\n            \\\"anchor\\\": \\\"lhs\\\",\\n            \\\"select\\\": \\\"row\\\",\\n            \\\"label\\\": 283\\n          },\\n          \\\"to\\\": {\\n            \\\"type\\\": \\\"axis\\\",\\n            \\\"anchor\\\": \\\"rhs\\\",\\n            \\\"select\\\": \\\"row\\\",\\n            \\\"label\\\": \\\"Gentoo\\\"\\n          }\\n        },\\n        {\\n          \\\"type\\\": \\\"map\\\",\\n          \\\"from\\\": {\\n            \\\"type\\\": \\\"axis\\\",\\n            \\\"anchor\\\": \\\"lhs\\\",\\n            \\\"select\\\": \\\"row\\\",\\n            \\\"label\\\": 284\\n          },\\n          \\\"to\\\": {\\n            \\\"type\\\": \\\"axis\\\",\\n            \\\"anchor\\\": \\\"rhs\\\",\\n            \\\"select\\\": \\\"row\\\",\\n            \\\"label\\\": \\\"Gentoo\\\"\\n          }\\n        },\\n        {\\n          \\\"type\\\": \\\"map\\\",\\n          \\\"from\\\": {\\n            \\\"type\\\": \\\"axis\\\",\\n            \\\"anchor\\\": \\\"lhs\\\",\\n            \\\"select\\\": \\\"row\\\",\\n            \\\"label\\\": 285\\n          },\\n          \\\"to\\\": {\\n            \\\"type\\\": \\\"axis\\\",\\n            \\\"anchor\\\": \\\"rhs\\\",\\n            \\\"select\\\": \\\"row\\\",\\n            \\\"label\\\": \\\"Gentoo\\\"\\n          }\\n        },\\n        {\\n          \\\"type\\\": \\\"map\\\",\\n          \\\"from\\\": {\\n            \\\"type\\\": \\\"axis\\\",\\n            \\\"anchor\\\": \\\"lhs\\\",\\n            \\\"select\\\": \\\"row\\\",\\n            \\\"label\\\": 287\\n          },\\n          \\\"to\\\": {\\n            \\\"type\\\": \\\"axis\\\",\\n            \\\"anchor\\\": \\\"rhs\\\",\\n            \\\"select\\\": \\\"row\\\",\\n            \\\"label\\\": \\\"Gentoo\\\"\\n          }\\n        },\\n        {\\n          \\\"type\\\": \\\"map\\\",\\n          \\\"from\\\": {\\n            \\\"type\\\": \\\"axis\\\",\\n            \\\"anchor\\\": \\\"lhs\\\",\\n            \\\"select\\\": \\\"row\\\",\\n            \\\"label\\\": 288\\n          },\\n          \\\"to\\\": {\\n            \\\"type\\\": \\\"axis\\\",\\n            \\\"anchor\\\": \\\"rhs\\\",\\n            \\\"select\\\": \\\"row\\\",\\n            \\\"label\\\": \\\"Gentoo\\\"\\n          }\\n        },\\n        {\\n          \\\"type\\\": \\\"map\\\",\\n          \\\"from\\\": {\\n            \\\"type\\\": \\\"axis\\\",\\n            \\\"anchor\\\": \\\"lhs\\\",\\n            \\\"select\\\": \\\"row\\\",\\n            \\\"label\\\": 289\\n          },\\n          \\\"to\\\": {\\n            \\\"type\\\": \\\"axis\\\",\\n            \\\"anchor\\\": \\\"rhs\\\",\\n            \\\"select\\\": \\\"row\\\",\\n            \\\"label\\\": \\\"Gentoo\\\"\\n          }\\n        },\\n        {\\n          \\\"type\\\": \\\"map\\\",\\n          \\\"from\\\": {\\n            \\\"type\\\": \\\"axis\\\",\\n            \\\"anchor\\\": \\\"lhs\\\",\\n            \\\"select\\\": \\\"row\\\",\\n            \\\"label\\\": 290\\n          },\\n          \\\"to\\\": {\\n            \\\"type\\\": \\\"axis\\\",\\n            \\\"anchor\\\": \\\"rhs\\\",\\n            \\\"select\\\": \\\"row\\\",\\n            \\\"label\\\": \\\"Gentoo\\\"\\n          }\\n        },\\n        {\\n          \\\"type\\\": \\\"map\\\",\\n          \\\"from\\\": {\\n            \\\"type\\\": \\\"axis\\\",\\n            \\\"anchor\\\": \\\"lhs\\\",\\n            \\\"select\\\": \\\"row\\\",\\n            \\\"label\\\": 291\\n          },\\n          \\\"to\\\": {\\n            \\\"type\\\": \\\"axis\\\",\\n            \\\"anchor\\\": \\\"rhs\\\",\\n            \\\"select\\\": \\\"row\\\",\\n            \\\"label\\\": \\\"Gentoo\\\"\\n          }\\n        },\\n        {\\n          \\\"type\\\": \\\"map\\\",\\n          \\\"from\\\": {\\n            \\\"type\\\": \\\"axis\\\",\\n            \\\"anchor\\\": \\\"lhs\\\",\\n            \\\"select\\\": \\\"row\\\",\\n            \\\"label\\\": 292\\n          },\\n          \\\"to\\\": {\\n            \\\"type\\\": \\\"axis\\\",\\n            \\\"anchor\\\": \\\"rhs\\\",\\n            \\\"select\\\": \\\"row\\\",\\n            \\\"label\\\": \\\"Gentoo\\\"\\n          }\\n        },\\n        {\\n          \\\"type\\\": \\\"map\\\",\\n          \\\"from\\\": {\\n            \\\"type\\\": \\\"axis\\\",\\n            \\\"anchor\\\": \\\"lhs\\\",\\n            \\\"select\\\": \\\"row\\\",\\n            \\\"label\\\": 293\\n          },\\n          \\\"to\\\": {\\n            \\\"type\\\": \\\"axis\\\",\\n            \\\"anchor\\\": \\\"rhs\\\",\\n            \\\"select\\\": \\\"row\\\",\\n            \\\"label\\\": \\\"Gentoo\\\"\\n          }\\n        },\\n        {\\n          \\\"type\\\": \\\"map\\\",\\n          \\\"from\\\": {\\n            \\\"type\\\": \\\"axis\\\",\\n            \\\"anchor\\\": \\\"lhs\\\",\\n            \\\"select\\\": \\\"row\\\",\\n            \\\"label\\\": 294\\n          },\\n          \\\"to\\\": {\\n            \\\"type\\\": \\\"axis\\\",\\n            \\\"anchor\\\": \\\"rhs\\\",\\n            \\\"select\\\": \\\"row\\\",\\n            \\\"label\\\": \\\"Gentoo\\\"\\n          }\\n        },\\n        {\\n          \\\"type\\\": \\\"map\\\",\\n          \\\"from\\\": {\\n            \\\"type\\\": \\\"axis\\\",\\n            \\\"anchor\\\": \\\"lhs\\\",\\n            \\\"select\\\": \\\"row\\\",\\n            \\\"label\\\": 295\\n          },\\n          \\\"to\\\": {\\n            \\\"type\\\": \\\"axis\\\",\\n            \\\"anchor\\\": \\\"rhs\\\",\\n            \\\"select\\\": \\\"row\\\",\\n            \\\"label\\\": \\\"Gentoo\\\"\\n          }\\n        },\\n        {\\n          \\\"type\\\": \\\"map\\\",\\n          \\\"from\\\": {\\n            \\\"type\\\": \\\"axis\\\",\\n            \\\"anchor\\\": \\\"lhs\\\",\\n            \\\"select\\\": \\\"row\\\",\\n            \\\"label\\\": 296\\n          },\\n          \\\"to\\\": {\\n            \\\"type\\\": \\\"axis\\\",\\n            \\\"anchor\\\": \\\"rhs\\\",\\n            \\\"select\\\": \\\"row\\\",\\n            \\\"label\\\": \\\"Gentoo\\\"\\n          }\\n        },\\n        {\\n          \\\"type\\\": \\\"map\\\",\\n          \\\"from\\\": {\\n            \\\"type\\\": \\\"axis\\\",\\n            \\\"anchor\\\": \\\"lhs\\\",\\n            \\\"select\\\": \\\"row\\\",\\n            \\\"label\\\": 297\\n          },\\n          \\\"to\\\": {\\n            \\\"type\\\": \\\"axis\\\",\\n            \\\"anchor\\\": \\\"rhs\\\",\\n            \\\"select\\\": \\\"row\\\",\\n            \\\"label\\\": \\\"Gentoo\\\"\\n          }\\n        },\\n        {\\n          \\\"type\\\": \\\"map\\\",\\n          \\\"from\\\": {\\n            \\\"type\\\": \\\"axis\\\",\\n            \\\"anchor\\\": \\\"lhs\\\",\\n            \\\"select\\\": \\\"row\\\",\\n            \\\"label\\\": 298\\n          },\\n          \\\"to\\\": {\\n            \\\"type\\\": \\\"axis\\\",\\n            \\\"anchor\\\": \\\"rhs\\\",\\n            \\\"select\\\": \\\"row\\\",\\n            \\\"label\\\": \\\"Gentoo\\\"\\n          }\\n        },\\n        {\\n          \\\"type\\\": \\\"map\\\",\\n          \\\"from\\\": {\\n            \\\"type\\\": \\\"axis\\\",\\n            \\\"anchor\\\": \\\"lhs\\\",\\n            \\\"select\\\": \\\"row\\\",\\n            \\\"label\\\": 299\\n          },\\n          \\\"to\\\": {\\n            \\\"type\\\": \\\"axis\\\",\\n            \\\"anchor\\\": \\\"rhs\\\",\\n            \\\"select\\\": \\\"row\\\",\\n            \\\"label\\\": \\\"Gentoo\\\"\\n          }\\n        },\\n        {\\n          \\\"type\\\": \\\"map\\\",\\n          \\\"from\\\": {\\n            \\\"type\\\": \\\"axis\\\",\\n            \\\"anchor\\\": \\\"lhs\\\",\\n            \\\"select\\\": \\\"row\\\",\\n            \\\"label\\\": 300\\n          },\\n          \\\"to\\\": {\\n            \\\"type\\\": \\\"axis\\\",\\n            \\\"anchor\\\": \\\"rhs\\\",\\n            \\\"select\\\": \\\"row\\\",\\n            \\\"label\\\": \\\"Gentoo\\\"\\n          }\\n        },\\n        {\\n          \\\"type\\\": \\\"map\\\",\\n          \\\"from\\\": {\\n            \\\"type\\\": \\\"axis\\\",\\n            \\\"anchor\\\": \\\"lhs\\\",\\n            \\\"select\\\": \\\"row\\\",\\n            \\\"label\\\": 301\\n          },\\n          \\\"to\\\": {\\n            \\\"type\\\": \\\"axis\\\",\\n            \\\"anchor\\\": \\\"rhs\\\",\\n            \\\"select\\\": \\\"row\\\",\\n            \\\"label\\\": \\\"Gentoo\\\"\\n          }\\n        },\\n        {\\n          \\\"type\\\": \\\"map\\\",\\n          \\\"from\\\": {\\n            \\\"type\\\": \\\"axis\\\",\\n            \\\"anchor\\\": \\\"lhs\\\",\\n            \\\"select\\\": \\\"row\\\",\\n            \\\"label\\\": 302\\n          },\\n          \\\"to\\\": {\\n            \\\"type\\\": \\\"axis\\\",\\n            \\\"anchor\\\": \\\"rhs\\\",\\n            \\\"select\\\": \\\"row\\\",\\n            \\\"label\\\": \\\"Gentoo\\\"\\n          }\\n        },\\n        {\\n          \\\"type\\\": \\\"map\\\",\\n          \\\"from\\\": {\\n            \\\"type\\\": \\\"axis\\\",\\n            \\\"anchor\\\": \\\"lhs\\\",\\n            \\\"select\\\": \\\"row\\\",\\n            \\\"label\\\": 303\\n          },\\n          \\\"to\\\": {\\n            \\\"type\\\": \\\"axis\\\",\\n            \\\"anchor\\\": \\\"rhs\\\",\\n            \\\"select\\\": \\\"row\\\",\\n            \\\"label\\\": \\\"Gentoo\\\"\\n          }\\n        },\\n        {\\n          \\\"type\\\": \\\"map\\\",\\n          \\\"from\\\": {\\n            \\\"type\\\": \\\"axis\\\",\\n            \\\"anchor\\\": \\\"lhs\\\",\\n            \\\"select\\\": \\\"row\\\",\\n            \\\"label\\\": 304\\n          },\\n          \\\"to\\\": {\\n            \\\"type\\\": \\\"axis\\\",\\n            \\\"anchor\\\": \\\"rhs\\\",\\n            \\\"select\\\": \\\"row\\\",\\n            \\\"label\\\": \\\"Gentoo\\\"\\n          }\\n        },\\n        {\\n          \\\"type\\\": \\\"map\\\",\\n          \\\"from\\\": {\\n            \\\"type\\\": \\\"axis\\\",\\n            \\\"anchor\\\": \\\"lhs\\\",\\n            \\\"select\\\": \\\"row\\\",\\n            \\\"label\\\": 305\\n          },\\n          \\\"to\\\": {\\n            \\\"type\\\": \\\"axis\\\",\\n            \\\"anchor\\\": \\\"rhs\\\",\\n            \\\"select\\\": \\\"row\\\",\\n            \\\"label\\\": \\\"Gentoo\\\"\\n          }\\n        },\\n        {\\n          \\\"type\\\": \\\"map\\\",\\n          \\\"from\\\": {\\n            \\\"type\\\": \\\"axis\\\",\\n            \\\"anchor\\\": \\\"lhs\\\",\\n            \\\"select\\\": \\\"row\\\",\\n            \\\"label\\\": 306\\n          },\\n          \\\"to\\\": {\\n            \\\"type\\\": \\\"axis\\\",\\n            \\\"anchor\\\": \\\"rhs\\\",\\n            \\\"select\\\": \\\"row\\\",\\n            \\\"label\\\": \\\"Gentoo\\\"\\n          }\\n        },\\n        {\\n          \\\"type\\\": \\\"map\\\",\\n          \\\"from\\\": {\\n            \\\"type\\\": \\\"axis\\\",\\n            \\\"anchor\\\": \\\"lhs\\\",\\n            \\\"select\\\": \\\"row\\\",\\n            \\\"label\\\": 307\\n          },\\n          \\\"to\\\": {\\n            \\\"type\\\": \\\"axis\\\",\\n            \\\"anchor\\\": \\\"rhs\\\",\\n            \\\"select\\\": \\\"row\\\",\\n            \\\"label\\\": \\\"Gentoo\\\"\\n          }\\n        },\\n        {\\n          \\\"type\\\": \\\"map\\\",\\n          \\\"from\\\": {\\n            \\\"type\\\": \\\"axis\\\",\\n            \\\"anchor\\\": \\\"lhs\\\",\\n            \\\"select\\\": \\\"row\\\",\\n            \\\"label\\\": 308\\n          },\\n          \\\"to\\\": {\\n            \\\"type\\\": \\\"axis\\\",\\n            \\\"anchor\\\": \\\"rhs\\\",\\n            \\\"select\\\": \\\"row\\\",\\n            \\\"label\\\": \\\"Gentoo\\\"\\n          }\\n        },\\n        {\\n          \\\"type\\\": \\\"map\\\",\\n          \\\"from\\\": {\\n            \\\"type\\\": \\\"axis\\\",\\n            \\\"anchor\\\": \\\"lhs\\\",\\n            \\\"select\\\": \\\"row\\\",\\n            \\\"label\\\": 309\\n          },\\n          \\\"to\\\": {\\n            \\\"type\\\": \\\"axis\\\",\\n            \\\"anchor\\\": \\\"rhs\\\",\\n            \\\"select\\\": \\\"row\\\",\\n            \\\"label\\\": \\\"Gentoo\\\"\\n          }\\n        },\\n        {\\n          \\\"type\\\": \\\"map\\\",\\n          \\\"from\\\": {\\n            \\\"type\\\": \\\"axis\\\",\\n            \\\"anchor\\\": \\\"lhs\\\",\\n            \\\"select\\\": \\\"row\\\",\\n            \\\"label\\\": 310\\n          },\\n          \\\"to\\\": {\\n            \\\"type\\\": \\\"axis\\\",\\n            \\\"anchor\\\": \\\"rhs\\\",\\n            \\\"select\\\": \\\"row\\\",\\n            \\\"label\\\": \\\"Gentoo\\\"\\n          }\\n        },\\n        {\\n          \\\"type\\\": \\\"map\\\",\\n          \\\"from\\\": {\\n            \\\"type\\\": \\\"axis\\\",\\n            \\\"anchor\\\": \\\"lhs\\\",\\n            \\\"select\\\": \\\"row\\\",\\n            \\\"label\\\": 311\\n          },\\n          \\\"to\\\": {\\n            \\\"type\\\": \\\"axis\\\",\\n            \\\"anchor\\\": \\\"rhs\\\",\\n            \\\"select\\\": \\\"row\\\",\\n            \\\"label\\\": \\\"Gentoo\\\"\\n          }\\n        },\\n        {\\n          \\\"type\\\": \\\"map\\\",\\n          \\\"from\\\": {\\n            \\\"type\\\": \\\"axis\\\",\\n            \\\"anchor\\\": \\\"lhs\\\",\\n            \\\"select\\\": \\\"row\\\",\\n            \\\"label\\\": 312\\n          },\\n          \\\"to\\\": {\\n            \\\"type\\\": \\\"axis\\\",\\n            \\\"anchor\\\": \\\"rhs\\\",\\n            \\\"select\\\": \\\"row\\\",\\n            \\\"label\\\": \\\"Gentoo\\\"\\n          }\\n        },\\n        {\\n          \\\"type\\\": \\\"map\\\",\\n          \\\"from\\\": {\\n            \\\"type\\\": \\\"axis\\\",\\n            \\\"anchor\\\": \\\"lhs\\\",\\n            \\\"select\\\": \\\"row\\\",\\n            \\\"label\\\": 313\\n          },\\n          \\\"to\\\": {\\n            \\\"type\\\": \\\"axis\\\",\\n            \\\"anchor\\\": \\\"rhs\\\",\\n            \\\"select\\\": \\\"row\\\",\\n            \\\"label\\\": \\\"Gentoo\\\"\\n          }\\n        },\\n        {\\n          \\\"type\\\": \\\"map\\\",\\n          \\\"from\\\": {\\n            \\\"type\\\": \\\"axis\\\",\\n            \\\"anchor\\\": \\\"lhs\\\",\\n            \\\"select\\\": \\\"row\\\",\\n            \\\"label\\\": 314\\n          },\\n          \\\"to\\\": {\\n            \\\"type\\\": \\\"axis\\\",\\n            \\\"anchor\\\": \\\"rhs\\\",\\n            \\\"select\\\": \\\"row\\\",\\n            \\\"label\\\": \\\"Gentoo\\\"\\n          }\\n        },\\n        {\\n          \\\"type\\\": \\\"map\\\",\\n          \\\"from\\\": {\\n            \\\"type\\\": \\\"axis\\\",\\n            \\\"anchor\\\": \\\"lhs\\\",\\n            \\\"select\\\": \\\"row\\\",\\n            \\\"label\\\": 315\\n          },\\n          \\\"to\\\": {\\n            \\\"type\\\": \\\"axis\\\",\\n            \\\"anchor\\\": \\\"rhs\\\",\\n            \\\"select\\\": \\\"row\\\",\\n            \\\"label\\\": \\\"Gentoo\\\"\\n          }\\n        },\\n        {\\n          \\\"type\\\": \\\"map\\\",\\n          \\\"from\\\": {\\n            \\\"type\\\": \\\"axis\\\",\\n            \\\"anchor\\\": \\\"lhs\\\",\\n            \\\"select\\\": \\\"row\\\",\\n            \\\"label\\\": 316\\n          },\\n          \\\"to\\\": {\\n            \\\"type\\\": \\\"axis\\\",\\n            \\\"anchor\\\": \\\"rhs\\\",\\n            \\\"select\\\": \\\"row\\\",\\n            \\\"label\\\": \\\"Gentoo\\\"\\n          }\\n        },\\n        {\\n          \\\"type\\\": \\\"map\\\",\\n          \\\"from\\\": {\\n            \\\"type\\\": \\\"axis\\\",\\n            \\\"anchor\\\": \\\"lhs\\\",\\n            \\\"select\\\": \\\"row\\\",\\n            \\\"label\\\": 317\\n          },\\n          \\\"to\\\": {\\n            \\\"type\\\": \\\"axis\\\",\\n            \\\"anchor\\\": \\\"rhs\\\",\\n            \\\"select\\\": \\\"row\\\",\\n            \\\"label\\\": \\\"Gentoo\\\"\\n          }\\n        },\\n        {\\n          \\\"type\\\": \\\"map\\\",\\n          \\\"from\\\": {\\n            \\\"type\\\": \\\"axis\\\",\\n            \\\"anchor\\\": \\\"lhs\\\",\\n            \\\"select\\\": \\\"row\\\",\\n            \\\"label\\\": 318\\n          },\\n          \\\"to\\\": {\\n            \\\"type\\\": \\\"axis\\\",\\n            \\\"anchor\\\": \\\"rhs\\\",\\n            \\\"select\\\": \\\"row\\\",\\n            \\\"label\\\": \\\"Gentoo\\\"\\n          }\\n        },\\n        {\\n          \\\"type\\\": \\\"map\\\",\\n          \\\"from\\\": {\\n            \\\"type\\\": \\\"axis\\\",\\n            \\\"anchor\\\": \\\"lhs\\\",\\n            \\\"select\\\": \\\"row\\\",\\n            \\\"label\\\": 319\\n          },\\n          \\\"to\\\": {\\n            \\\"type\\\": \\\"axis\\\",\\n            \\\"anchor\\\": \\\"rhs\\\",\\n            \\\"select\\\": \\\"row\\\",\\n            \\\"label\\\": \\\"Gentoo\\\"\\n          }\\n        },\\n        {\\n          \\\"type\\\": \\\"map\\\",\\n          \\\"from\\\": {\\n            \\\"type\\\": \\\"axis\\\",\\n            \\\"anchor\\\": \\\"lhs\\\",\\n            \\\"select\\\": \\\"row\\\",\\n            \\\"label\\\": 320\\n          },\\n          \\\"to\\\": {\\n            \\\"type\\\": \\\"axis\\\",\\n            \\\"anchor\\\": \\\"rhs\\\",\\n            \\\"select\\\": \\\"row\\\",\\n            \\\"label\\\": \\\"Gentoo\\\"\\n          }\\n        },\\n        {\\n          \\\"type\\\": \\\"map\\\",\\n          \\\"from\\\": {\\n            \\\"type\\\": \\\"axis\\\",\\n            \\\"anchor\\\": \\\"lhs\\\",\\n            \\\"select\\\": \\\"row\\\",\\n            \\\"label\\\": 321\\n          },\\n          \\\"to\\\": {\\n            \\\"type\\\": \\\"axis\\\",\\n            \\\"anchor\\\": \\\"rhs\\\",\\n            \\\"select\\\": \\\"row\\\",\\n            \\\"label\\\": \\\"Gentoo\\\"\\n          }\\n        },\\n        {\\n          \\\"type\\\": \\\"map\\\",\\n          \\\"from\\\": {\\n            \\\"type\\\": \\\"axis\\\",\\n            \\\"anchor\\\": \\\"lhs\\\",\\n            \\\"select\\\": \\\"row\\\",\\n            \\\"label\\\": 322\\n          },\\n          \\\"to\\\": {\\n            \\\"type\\\": \\\"axis\\\",\\n            \\\"anchor\\\": \\\"rhs\\\",\\n            \\\"select\\\": \\\"row\\\",\\n            \\\"label\\\": \\\"Gentoo\\\"\\n          }\\n        },\\n        {\\n          \\\"type\\\": \\\"map\\\",\\n          \\\"from\\\": {\\n            \\\"type\\\": \\\"axis\\\",\\n            \\\"anchor\\\": \\\"lhs\\\",\\n            \\\"select\\\": \\\"row\\\",\\n            \\\"label\\\": 323\\n          },\\n          \\\"to\\\": {\\n            \\\"type\\\": \\\"axis\\\",\\n            \\\"anchor\\\": \\\"rhs\\\",\\n            \\\"select\\\": \\\"row\\\",\\n            \\\"label\\\": \\\"Gentoo\\\"\\n          }\\n        },\\n        {\\n          \\\"type\\\": \\\"map\\\",\\n          \\\"from\\\": {\\n            \\\"type\\\": \\\"axis\\\",\\n            \\\"anchor\\\": \\\"lhs\\\",\\n            \\\"select\\\": \\\"row\\\",\\n            \\\"label\\\": 325\\n          },\\n          \\\"to\\\": {\\n            \\\"type\\\": \\\"axis\\\",\\n            \\\"anchor\\\": \\\"rhs\\\",\\n            \\\"select\\\": \\\"row\\\",\\n            \\\"label\\\": \\\"Gentoo\\\"\\n          }\\n        },\\n        {\\n          \\\"type\\\": \\\"map\\\",\\n          \\\"from\\\": {\\n            \\\"type\\\": \\\"axis\\\",\\n            \\\"anchor\\\": \\\"lhs\\\",\\n            \\\"select\\\": \\\"row\\\",\\n            \\\"label\\\": 326\\n          },\\n          \\\"to\\\": {\\n            \\\"type\\\": \\\"axis\\\",\\n            \\\"anchor\\\": \\\"rhs\\\",\\n            \\\"select\\\": \\\"row\\\",\\n            \\\"label\\\": \\\"Gentoo\\\"\\n          }\\n        },\\n        {\\n          \\\"type\\\": \\\"map\\\",\\n          \\\"from\\\": {\\n            \\\"type\\\": \\\"axis\\\",\\n            \\\"anchor\\\": \\\"lhs\\\",\\n            \\\"select\\\": \\\"row\\\",\\n            \\\"label\\\": 327\\n          },\\n          \\\"to\\\": {\\n            \\\"type\\\": \\\"axis\\\",\\n            \\\"anchor\\\": \\\"rhs\\\",\\n            \\\"select\\\": \\\"row\\\",\\n            \\\"label\\\": \\\"Gentoo\\\"\\n          }\\n        },\\n        {\\n          \\\"type\\\": \\\"map\\\",\\n          \\\"from\\\": {\\n            \\\"type\\\": \\\"axis\\\",\\n            \\\"anchor\\\": \\\"lhs\\\",\\n            \\\"select\\\": \\\"row\\\",\\n            \\\"label\\\": 328\\n          },\\n          \\\"to\\\": {\\n            \\\"type\\\": \\\"axis\\\",\\n            \\\"anchor\\\": \\\"rhs\\\",\\n            \\\"select\\\": \\\"row\\\",\\n            \\\"label\\\": \\\"Gentoo\\\"\\n          }\\n        },\\n        {\\n          \\\"type\\\": \\\"map\\\",\\n          \\\"from\\\": {\\n            \\\"type\\\": \\\"axis\\\",\\n            \\\"anchor\\\": \\\"lhs\\\",\\n            \\\"select\\\": \\\"row\\\",\\n            \\\"label\\\": 329\\n          },\\n          \\\"to\\\": {\\n            \\\"type\\\": \\\"axis\\\",\\n            \\\"anchor\\\": \\\"rhs\\\",\\n            \\\"select\\\": \\\"row\\\",\\n            \\\"label\\\": \\\"Gentoo\\\"\\n          }\\n        },\\n        {\\n          \\\"type\\\": \\\"map\\\",\\n          \\\"from\\\": {\\n            \\\"type\\\": \\\"axis\\\",\\n            \\\"anchor\\\": \\\"lhs\\\",\\n            \\\"select\\\": \\\"row\\\",\\n            \\\"label\\\": 330\\n          },\\n          \\\"to\\\": {\\n            \\\"type\\\": \\\"axis\\\",\\n            \\\"anchor\\\": \\\"rhs\\\",\\n            \\\"select\\\": \\\"row\\\",\\n            \\\"label\\\": \\\"Gentoo\\\"\\n          }\\n        },\\n        {\\n          \\\"type\\\": \\\"map\\\",\\n          \\\"from\\\": {\\n            \\\"type\\\": \\\"axis\\\",\\n            \\\"anchor\\\": \\\"lhs\\\",\\n            \\\"select\\\": \\\"row\\\",\\n            \\\"label\\\": 331\\n          },\\n          \\\"to\\\": {\\n            \\\"type\\\": \\\"axis\\\",\\n            \\\"anchor\\\": \\\"rhs\\\",\\n            \\\"select\\\": \\\"row\\\",\\n            \\\"label\\\": \\\"Gentoo\\\"\\n          }\\n        },\\n        {\\n          \\\"type\\\": \\\"map\\\",\\n          \\\"from\\\": {\\n            \\\"type\\\": \\\"axis\\\",\\n            \\\"anchor\\\": \\\"lhs\\\",\\n            \\\"select\\\": \\\"row\\\",\\n            \\\"label\\\": 332\\n          },\\n          \\\"to\\\": {\\n            \\\"type\\\": \\\"axis\\\",\\n            \\\"anchor\\\": \\\"rhs\\\",\\n            \\\"select\\\": \\\"row\\\",\\n            \\\"label\\\": \\\"Gentoo\\\"\\n          }\\n        },\\n        {\\n          \\\"type\\\": \\\"map\\\",\\n          \\\"from\\\": {\\n            \\\"type\\\": \\\"axis\\\",\\n            \\\"anchor\\\": \\\"lhs\\\",\\n            \\\"select\\\": \\\"row\\\",\\n            \\\"label\\\": 333\\n          },\\n          \\\"to\\\": {\\n            \\\"type\\\": \\\"axis\\\",\\n            \\\"anchor\\\": \\\"rhs\\\",\\n            \\\"select\\\": \\\"row\\\",\\n            \\\"label\\\": \\\"Gentoo\\\"\\n          }\\n        },\\n        {\\n          \\\"type\\\": \\\"map\\\",\\n          \\\"from\\\": {\\n            \\\"type\\\": \\\"axis\\\",\\n            \\\"anchor\\\": \\\"lhs\\\",\\n            \\\"select\\\": \\\"row\\\",\\n            \\\"label\\\": 334\\n          },\\n          \\\"to\\\": {\\n            \\\"type\\\": \\\"axis\\\",\\n            \\\"anchor\\\": \\\"rhs\\\",\\n            \\\"select\\\": \\\"row\\\",\\n            \\\"label\\\": \\\"Gentoo\\\"\\n          }\\n        },\\n        {\\n          \\\"type\\\": \\\"map\\\",\\n          \\\"from\\\": {\\n            \\\"type\\\": \\\"axis\\\",\\n            \\\"anchor\\\": \\\"lhs\\\",\\n            \\\"select\\\": \\\"row\\\",\\n            \\\"label\\\": 335\\n          },\\n          \\\"to\\\": {\\n            \\\"type\\\": \\\"axis\\\",\\n            \\\"anchor\\\": \\\"rhs\\\",\\n            \\\"select\\\": \\\"row\\\",\\n            \\\"label\\\": \\\"Gentoo\\\"\\n          }\\n        },\\n        {\\n          \\\"type\\\": \\\"map\\\",\\n          \\\"from\\\": {\\n            \\\"type\\\": \\\"axis\\\",\\n            \\\"anchor\\\": \\\"lhs\\\",\\n            \\\"select\\\": \\\"row\\\",\\n            \\\"label\\\": 337\\n          },\\n          \\\"to\\\": {\\n            \\\"type\\\": \\\"axis\\\",\\n            \\\"anchor\\\": \\\"rhs\\\",\\n            \\\"select\\\": \\\"row\\\",\\n            \\\"label\\\": \\\"Gentoo\\\"\\n          }\\n        },\\n        {\\n          \\\"type\\\": \\\"map\\\",\\n          \\\"from\\\": {\\n            \\\"type\\\": \\\"axis\\\",\\n            \\\"anchor\\\": \\\"lhs\\\",\\n            \\\"select\\\": \\\"row\\\",\\n            \\\"label\\\": 338\\n          },\\n          \\\"to\\\": {\\n            \\\"type\\\": \\\"axis\\\",\\n            \\\"anchor\\\": \\\"rhs\\\",\\n            \\\"select\\\": \\\"row\\\",\\n            \\\"label\\\": \\\"Gentoo\\\"\\n          }\\n        },\\n        {\\n          \\\"type\\\": \\\"map\\\",\\n          \\\"from\\\": {\\n            \\\"type\\\": \\\"axis\\\",\\n            \\\"anchor\\\": \\\"lhs\\\",\\n            \\\"select\\\": \\\"row\\\",\\n            \\\"label\\\": 340\\n          },\\n          \\\"to\\\": {\\n            \\\"type\\\": \\\"axis\\\",\\n            \\\"anchor\\\": \\\"rhs\\\",\\n            \\\"select\\\": \\\"row\\\",\\n            \\\"label\\\": \\\"Gentoo\\\"\\n          }\\n        },\\n        {\\n          \\\"type\\\": \\\"map\\\",\\n          \\\"from\\\": {\\n            \\\"type\\\": \\\"axis\\\",\\n            \\\"anchor\\\": \\\"lhs\\\",\\n            \\\"select\\\": \\\"row\\\",\\n            \\\"label\\\": 341\\n          },\\n          \\\"to\\\": {\\n            \\\"type\\\": \\\"axis\\\",\\n            \\\"anchor\\\": \\\"rhs\\\",\\n            \\\"select\\\": \\\"row\\\",\\n            \\\"label\\\": \\\"Gentoo\\\"\\n          }\\n        },\\n        {\\n          \\\"type\\\": \\\"map\\\",\\n          \\\"from\\\": {\\n            \\\"type\\\": \\\"axis\\\",\\n            \\\"anchor\\\": \\\"lhs\\\",\\n            \\\"select\\\": \\\"row\\\",\\n            \\\"label\\\": 342\\n          },\\n          \\\"to\\\": {\\n            \\\"type\\\": \\\"axis\\\",\\n            \\\"anchor\\\": \\\"rhs\\\",\\n            \\\"select\\\": \\\"row\\\",\\n            \\\"label\\\": \\\"Gentoo\\\"\\n          }\\n        },\\n        {\\n          \\\"type\\\": \\\"map\\\",\\n          \\\"from\\\": {\\n            \\\"type\\\": \\\"axis\\\",\\n            \\\"anchor\\\": \\\"lhs\\\",\\n            \\\"select\\\": \\\"row\\\",\\n            \\\"label\\\": 343\\n          },\\n          \\\"to\\\": {\\n            \\\"type\\\": \\\"axis\\\",\\n            \\\"anchor\\\": \\\"rhs\\\",\\n            \\\"select\\\": \\\"row\\\",\\n            \\\"label\\\": \\\"Gentoo\\\"\\n          }\\n        }\\n      ],\\n      \\\"data\\\": {\\n        \\\"lhs\\\": \\\"prev_rhs\\\",\\n        \\\"rhs\\\": {\\n          \\\"type\\\": \\\"Series\\\",\\n          \\\"index\\\": {\\n            \\\"names\\\": [\\n              \\\"species\\\"\\n            ],\\n            \\\"labels\\\": [\\n              \\\"Adelie\\\",\\n              \\\"Chinstrap\\\",\\n              \\\"Gentoo\\\"\\n            ]\\n          },\\n          \\\"data\\\": [\\n            3706.1643835616437,\\n            3733.0882352941176,\\n            5092.436974789916\\n          ]\\n        }\\n      }\\n    }\\n  ]\\n}\", {\"nohover\": true, \"maxDisplayRows\": 7, \"maxDisplayCols\": 8, \"colorPalette\": [\"#e41a1c\", \"#377eb8\", \"#4daf4a\", \"#984ea3\", \"#ff7f00\", \"#a65628\", \"#f781bf\", \"#999999\"]});\n",
       "</script>\n"
      ],
      "text/plain": [
       "<IPython.core.display.HTML object>"
      ]
     },
     "metadata": {},
     "output_type": "display_data"
    }
   ],
   "source": [
    "%%pt\n",
    "\n",
    "penguins.groupby('species')['body_mass_g'].mean()"
   ]
  },
  {
   "cell_type": "markdown",
   "id": "2f8d0708",
   "metadata": {
    "slideshow": {
     "slide_type": "slide"
    }
   },
   "source": [
    "### \"Split-apply-combine\" paradigm\n",
    "\n",
    "The `groupby` method involves three steps: **split**, **apply**, and **combine**. This is the same terminology that the [`pandas` documentation](https://pandas.pydata.org/docs/user_guide/groupby.html) uses.\n",
    "\n",
    "<center><img src=\"imgs/image_0.png\" width=40%></center>\n",
    "\n",
    "- **Split** breaks up and \"groups\" the rows of a DataFrame according to the specified **key**. There is one \"group\" for every unique value of the key.\n",
    "\n",
    "- **Apply** uses a function (e.g. aggregation, transformation, filtration) within the individual groups.\n",
    "\n",
    "- **Combine** stitches the results of these operations into an output DataFrame.\n",
    "\n",
    "- The split-apply-combine pattern can be **parallelized** to work on multiple computers or threads, by sending computations for each group to different processors."
   ]
  },
  {
   "cell_type": "markdown",
   "id": "cce87043",
   "metadata": {
    "slideshow": {
     "slide_type": "slide"
    }
   },
   "source": [
    "### More examples\n",
    "\n",
    "Before we dive into the internals, let's look at a few more examples."
   ]
  },
  {
   "cell_type": "code",
   "execution_count": 15,
   "id": "c369de12",
   "metadata": {
    "scrolled": true
   },
   "outputs": [
    {
     "data": {
      "text/html": [
       "<div>\n",
       "<style scoped>\n",
       "    .dataframe tbody tr th:only-of-type {\n",
       "        vertical-align: middle;\n",
       "    }\n",
       "\n",
       "    .dataframe tbody tr th {\n",
       "        vertical-align: top;\n",
       "    }\n",
       "\n",
       "    .dataframe thead th {\n",
       "        text-align: right;\n",
       "    }\n",
       "</style>\n",
       "<table border=\"1\" class=\"dataframe\">\n",
       "  <thead>\n",
       "    <tr style=\"text-align: right;\">\n",
       "      <th></th>\n",
       "      <th>species</th>\n",
       "      <th>island</th>\n",
       "      <th>bill_length_mm</th>\n",
       "      <th>bill_depth_mm</th>\n",
       "      <th>flipper_length_mm</th>\n",
       "      <th>body_mass_g</th>\n",
       "      <th>sex</th>\n",
       "    </tr>\n",
       "  </thead>\n",
       "  <tbody>\n",
       "    <tr>\n",
       "      <th>0</th>\n",
       "      <td>Adelie</td>\n",
       "      <td>Torgersen</td>\n",
       "      <td>39.1</td>\n",
       "      <td>18.7</td>\n",
       "      <td>181.0</td>\n",
       "      <td>3750.0</td>\n",
       "      <td>Male</td>\n",
       "    </tr>\n",
       "    <tr>\n",
       "      <th>1</th>\n",
       "      <td>Adelie</td>\n",
       "      <td>Torgersen</td>\n",
       "      <td>39.5</td>\n",
       "      <td>17.4</td>\n",
       "      <td>186.0</td>\n",
       "      <td>3800.0</td>\n",
       "      <td>Female</td>\n",
       "    </tr>\n",
       "    <tr>\n",
       "      <th>2</th>\n",
       "      <td>Adelie</td>\n",
       "      <td>Torgersen</td>\n",
       "      <td>40.3</td>\n",
       "      <td>18.0</td>\n",
       "      <td>195.0</td>\n",
       "      <td>3250.0</td>\n",
       "      <td>Female</td>\n",
       "    </tr>\n",
       "    <tr>\n",
       "      <th>4</th>\n",
       "      <td>Adelie</td>\n",
       "      <td>Torgersen</td>\n",
       "      <td>36.7</td>\n",
       "      <td>19.3</td>\n",
       "      <td>193.0</td>\n",
       "      <td>3450.0</td>\n",
       "      <td>Female</td>\n",
       "    </tr>\n",
       "    <tr>\n",
       "      <th>5</th>\n",
       "      <td>Adelie</td>\n",
       "      <td>Torgersen</td>\n",
       "      <td>39.3</td>\n",
       "      <td>20.6</td>\n",
       "      <td>190.0</td>\n",
       "      <td>3650.0</td>\n",
       "      <td>Male</td>\n",
       "    </tr>\n",
       "  </tbody>\n",
       "</table>\n",
       "</div>"
      ],
      "text/plain": [
       "  species     island  bill_length_mm  bill_depth_mm  flipper_length_mm  \\\n",
       "0  Adelie  Torgersen            39.1           18.7              181.0   \n",
       "1  Adelie  Torgersen            39.5           17.4              186.0   \n",
       "2  Adelie  Torgersen            40.3           18.0              195.0   \n",
       "4  Adelie  Torgersen            36.7           19.3              193.0   \n",
       "5  Adelie  Torgersen            39.3           20.6              190.0   \n",
       "\n",
       "   body_mass_g     sex  \n",
       "0       3750.0    Male  \n",
       "1       3800.0  Female  \n",
       "2       3250.0  Female  \n",
       "4       3450.0  Female  \n",
       "5       3650.0    Male  "
      ]
     },
     "execution_count": 15,
     "metadata": {},
     "output_type": "execute_result"
    }
   ],
   "source": [
    "penguins.head()"
   ]
  },
  {
   "cell_type": "code",
   "execution_count": 16,
   "id": "1dc38e42",
   "metadata": {},
   "outputs": [
    {
     "data": {
      "text/plain": [
       "(333, 7)"
      ]
     },
     "execution_count": 16,
     "metadata": {},
     "output_type": "execute_result"
    }
   ],
   "source": [
    "penguins.shape"
   ]
  },
  {
   "cell_type": "markdown",
   "id": "59eb0a68",
   "metadata": {
    "slideshow": {
     "slide_type": "slide"
    }
   },
   "source": [
    "Which `'species'` has the highest median `'bill_length_mm'`?"
   ]
  },
  {
   "cell_type": "code",
   "execution_count": 17,
   "id": "54ddf7bc",
   "metadata": {},
   "outputs": [
    {
     "data": {
      "text/plain": [
       "'Chinstrap'"
      ]
     },
     "execution_count": 17,
     "metadata": {},
     "output_type": "execute_result"
    }
   ],
   "source": [
    "(penguins\n",
    " .groupby('species')\n",
    " .median()\n",
    " ['bill_length_mm']\n",
    " .idxmax()\n",
    ")"
   ]
  },
  {
   "cell_type": "markdown",
   "id": "87e5021c",
   "metadata": {
    "slideshow": {
     "slide_type": "slide"
    }
   },
   "source": [
    "What proportion of penguins of each `'species'` live on `'Dream'` island?"
   ]
  },
  {
   "cell_type": "code",
   "execution_count": 18,
   "id": "1df4b98e",
   "metadata": {},
   "outputs": [
    {
     "data": {
      "text/plain": [
       "species\n",
       "Adelie       0.38\n",
       "Chinstrap    1.00\n",
       "Gentoo       0.00\n",
       "Name: on_dream, dtype: float64"
      ]
     },
     "execution_count": 18,
     "metadata": {},
     "output_type": "execute_result"
    }
   ],
   "source": [
    "(penguins\n",
    " .assign(on_dream = penguins['island'] == 'Dream')\n",
    " .groupby('species')\n",
    " .mean()['on_dream']\n",
    ")"
   ]
  },
  {
   "cell_type": "markdown",
   "id": "c6bfa96e",
   "metadata": {
    "slideshow": {
     "slide_type": "slide"
    }
   },
   "source": [
    "## `DataFrameGroupBy` objects and aggregation"
   ]
  },
  {
   "cell_type": "markdown",
   "id": "6d6e2cd3",
   "metadata": {
    "slideshow": {
     "slide_type": "slide"
    }
   },
   "source": [
    "### `DataFrameGroupBy` objects\n",
    "\n",
    "We've just evaluated a few expressions of the following form."
   ]
  },
  {
   "cell_type": "code",
   "execution_count": 19,
   "id": "14ede341",
   "metadata": {},
   "outputs": [
    {
     "data": {
      "text/html": [
       "<div>\n",
       "<style scoped>\n",
       "    .dataframe tbody tr th:only-of-type {\n",
       "        vertical-align: middle;\n",
       "    }\n",
       "\n",
       "    .dataframe tbody tr th {\n",
       "        vertical-align: top;\n",
       "    }\n",
       "\n",
       "    .dataframe thead th {\n",
       "        text-align: right;\n",
       "    }\n",
       "</style>\n",
       "<table border=\"1\" class=\"dataframe\">\n",
       "  <thead>\n",
       "    <tr style=\"text-align: right;\">\n",
       "      <th></th>\n",
       "      <th>bill_length_mm</th>\n",
       "      <th>bill_depth_mm</th>\n",
       "      <th>flipper_length_mm</th>\n",
       "      <th>body_mass_g</th>\n",
       "    </tr>\n",
       "    <tr>\n",
       "      <th>species</th>\n",
       "      <th></th>\n",
       "      <th></th>\n",
       "      <th></th>\n",
       "      <th></th>\n",
       "    </tr>\n",
       "  </thead>\n",
       "  <tbody>\n",
       "    <tr>\n",
       "      <th>Adelie</th>\n",
       "      <td>38.82</td>\n",
       "      <td>18.35</td>\n",
       "      <td>190.10</td>\n",
       "      <td>3706.16</td>\n",
       "    </tr>\n",
       "    <tr>\n",
       "      <th>Chinstrap</th>\n",
       "      <td>48.83</td>\n",
       "      <td>18.42</td>\n",
       "      <td>195.82</td>\n",
       "      <td>3733.09</td>\n",
       "    </tr>\n",
       "    <tr>\n",
       "      <th>Gentoo</th>\n",
       "      <td>47.57</td>\n",
       "      <td>15.00</td>\n",
       "      <td>217.24</td>\n",
       "      <td>5092.44</td>\n",
       "    </tr>\n",
       "  </tbody>\n",
       "</table>\n",
       "</div>"
      ],
      "text/plain": [
       "           bill_length_mm  bill_depth_mm  flipper_length_mm  body_mass_g\n",
       "species                                                                 \n",
       "Adelie              38.82          18.35             190.10      3706.16\n",
       "Chinstrap           48.83          18.42             195.82      3733.09\n",
       "Gentoo              47.57          15.00             217.24      5092.44"
      ]
     },
     "execution_count": 19,
     "metadata": {},
     "output_type": "execute_result"
    }
   ],
   "source": [
    "penguins.groupby('species').mean()"
   ]
  },
  {
   "cell_type": "markdown",
   "id": "95ee51b5",
   "metadata": {
    "slideshow": {
     "slide_type": "fragment"
    }
   },
   "source": [
    "There are two method calls in the expression above: `.groupby('species')` and `.mean()`. What happens if we remove the latter?"
   ]
  },
  {
   "cell_type": "code",
   "execution_count": 20,
   "id": "16bdc987",
   "metadata": {},
   "outputs": [
    {
     "data": {
      "text/plain": [
       "<pandas.core.groupby.generic.DataFrameGroupBy object at 0x7fb8c011e070>"
      ]
     },
     "execution_count": 20,
     "metadata": {},
     "output_type": "execute_result"
    }
   ],
   "source": [
    "penguins.groupby('species')"
   ]
  },
  {
   "cell_type": "markdown",
   "id": "092a96d6",
   "metadata": {
    "slideshow": {
     "slide_type": "slide"
    }
   },
   "source": [
    "### Peeking under the hood\n",
    "\n",
    "If `df` is a DataFrame, then `df.groupby(key)` returns a `DataFrameGroupBy` object.\n",
    "\n",
    "This object represents the \"split\" in \"split-apply-combine\"."
   ]
  },
  {
   "cell_type": "code",
   "execution_count": 21,
   "id": "b6c3ecfa",
   "metadata": {},
   "outputs": [
    {
     "data": {
      "text/plain": [
       "<pandas.core.groupby.generic.DataFrameGroupBy object at 0x7fb8c00ed640>"
      ]
     },
     "execution_count": 21,
     "metadata": {},
     "output_type": "execute_result"
    }
   ],
   "source": [
    "# Simplified table for demostration:\n",
    "penguins_small = penguins.iloc[[0, 1, 150, 151, 251, 300, 301], [0, 5, 6]]\n",
    "\n",
    "# Creates one group for each unique value in the species column.\n",
    "penguin_groups = penguins_small.groupby('species')\n",
    "penguin_groups"
   ]
  },
  {
   "cell_type": "code",
   "execution_count": 22,
   "id": "ae7fd384",
   "metadata": {},
   "outputs": [
    {
     "data": {
      "text/html": [
       "\n",
       "<div class=\"pt-viz\" id=\"pt-viz-1\"></div>\n",
       "<script>\n",
       "drawWsv('#pt-viz-1', \"{\\n  \\\"code\\\": \\\"penguin_groups\\\\n\\\",\\n  \\\"explanation\\\": [\\n    {\\n      \\\"type\\\": \\\"StartOfChain\\\",\\n      \\\"code_step\\\": \\\"penguin_groups\\\",\\n      \\\"fragment\\\": {\\n        \\\"start\\\": {\\n          \\\"line\\\": 0,\\n          \\\"ch\\\": 0\\n        },\\n        \\\"end\\\": {\\n          \\\"line\\\": 0,\\n          \\\"ch\\\": 14\\n        }\\n      },\\n      \\\"marks\\\": [],\\n      \\\"data\\\": {\\n        \\\"lhs\\\": {\\n          \\\"type\\\": \\\"DataFrameGroupBy\\\",\\n          \\\"columns\\\": {\\n            \\\"names\\\": [\\n              null\\n            ],\\n            \\\"labels\\\": [\\n              \\\"species\\\",\\n              \\\"body_mass_g\\\",\\n              \\\"sex\\\"\\n            ]\\n          },\\n          \\\"index\\\": {\\n            \\\"names\\\": [\\n              null\\n            ],\\n            \\\"labels\\\": [\\n              0,\\n              1,\\n              156,\\n              157,\\n              258,\\n              308,\\n              309\\n            ]\\n          },\\n          \\\"data\\\": [\\n            [\\n              \\\"Adelie\\\",\\n              3750.0,\\n              \\\"Male\\\"\\n            ],\\n            [\\n              \\\"Adelie\\\",\\n              3800.0,\\n              \\\"Female\\\"\\n            ],\\n            [\\n              \\\"Chinstrap\\\",\\n              3725.0,\\n              \\\"Male\\\"\\n            ],\\n            [\\n              \\\"Chinstrap\\\",\\n              3950.0,\\n              \\\"Female\\\"\\n            ],\\n            [\\n              \\\"Gentoo\\\",\\n              4350.0,\\n              \\\"Female\\\"\\n            ],\\n            [\\n              \\\"Gentoo\\\",\\n              4875.0,\\n              \\\"Female\\\"\\n            ],\\n            [\\n              \\\"Gentoo\\\",\\n              5550.0,\\n              \\\"Male\\\"\\n            ]\\n          ],\\n          \\\"group_data\\\": {\\n            \\\"columns\\\": [\\n              \\\"species\\\"\\n            ],\\n            \\\"groups\\\": [\\n              {\\n                \\\"name\\\": [\\n                  \\\"Adelie\\\"\\n                ],\\n                \\\"labels\\\": [\\n                  0,\\n                  1\\n                ]\\n              },\\n              {\\n                \\\"name\\\": [\\n                  \\\"Chinstrap\\\"\\n                ],\\n                \\\"labels\\\": [\\n                  156,\\n                  157\\n                ]\\n              },\\n              {\\n                \\\"name\\\": [\\n                  \\\"Gentoo\\\"\\n                ],\\n                \\\"labels\\\": [\\n                  258,\\n                  308,\\n                  309\\n                ]\\n              }\\n            ]\\n          }\\n        },\\n        \\\"rhs\\\": \\\"no_rhs\\\"\\n      }\\n    }\\n  ]\\n}\", {\"nohover\": true, \"maxDisplayRows\": 7, \"maxDisplayCols\": 8, \"colorPalette\": [\"#e41a1c\", \"#377eb8\", \"#4daf4a\", \"#984ea3\", \"#ff7f00\", \"#a65628\", \"#f781bf\", \"#999999\"]});\n",
       "</script>\n"
      ],
      "text/plain": [
       "<IPython.core.display.HTML object>"
      ]
     },
     "metadata": {},
     "output_type": "display_data"
    }
   ],
   "source": [
    "%%pt\n",
    "penguin_groups"
   ]
  },
  {
   "cell_type": "markdown",
   "id": "beae456a",
   "metadata": {
    "slideshow": {
     "slide_type": "slide"
    }
   },
   "source": [
    "`DataFrameGroupBy` objects have a `groups` attribute, which is a dictionary in which the keys are group names and the values are lists of row labels."
   ]
  },
  {
   "cell_type": "code",
   "execution_count": 23,
   "id": "1526d3ff",
   "metadata": {},
   "outputs": [
    {
     "data": {
      "text/plain": [
       "{'Adelie': [0, 1], 'Chinstrap': [156, 157], 'Gentoo': [258, 308, 309]}"
      ]
     },
     "execution_count": 23,
     "metadata": {},
     "output_type": "execute_result"
    }
   ],
   "source": [
    "penguin_groups.groups"
   ]
  },
  {
   "cell_type": "markdown",
   "id": "f2d52d95",
   "metadata": {
    "slideshow": {
     "slide_type": "slide"
    }
   },
   "source": [
    "`DataFrameGroupBy` objects also have a `get_group(key)` method, which returns a DataFrame with only the values for the given key."
   ]
  },
  {
   "cell_type": "code",
   "execution_count": 24,
   "id": "5a8bcea7",
   "metadata": {},
   "outputs": [
    {
     "data": {
      "text/html": [
       "<div>\n",
       "<style scoped>\n",
       "    .dataframe tbody tr th:only-of-type {\n",
       "        vertical-align: middle;\n",
       "    }\n",
       "\n",
       "    .dataframe tbody tr th {\n",
       "        vertical-align: top;\n",
       "    }\n",
       "\n",
       "    .dataframe thead th {\n",
       "        text-align: right;\n",
       "    }\n",
       "</style>\n",
       "<table border=\"1\" class=\"dataframe\">\n",
       "  <thead>\n",
       "    <tr style=\"text-align: right;\">\n",
       "      <th></th>\n",
       "      <th>species</th>\n",
       "      <th>body_mass_g</th>\n",
       "      <th>sex</th>\n",
       "    </tr>\n",
       "  </thead>\n",
       "  <tbody>\n",
       "    <tr>\n",
       "      <th>156</th>\n",
       "      <td>Chinstrap</td>\n",
       "      <td>3725.0</td>\n",
       "      <td>Male</td>\n",
       "    </tr>\n",
       "    <tr>\n",
       "      <th>157</th>\n",
       "      <td>Chinstrap</td>\n",
       "      <td>3950.0</td>\n",
       "      <td>Female</td>\n",
       "    </tr>\n",
       "  </tbody>\n",
       "</table>\n",
       "</div>"
      ],
      "text/plain": [
       "       species  body_mass_g     sex\n",
       "156  Chinstrap       3725.0    Male\n",
       "157  Chinstrap       3950.0  Female"
      ]
     },
     "execution_count": 24,
     "metadata": {},
     "output_type": "execute_result"
    }
   ],
   "source": [
    "penguin_groups.get_group('Chinstrap')"
   ]
  },
  {
   "cell_type": "code",
   "execution_count": 25,
   "id": "6c3f0700",
   "metadata": {},
   "outputs": [
    {
     "data": {
      "text/html": [
       "<div>\n",
       "<style scoped>\n",
       "    .dataframe tbody tr th:only-of-type {\n",
       "        vertical-align: middle;\n",
       "    }\n",
       "\n",
       "    .dataframe tbody tr th {\n",
       "        vertical-align: top;\n",
       "    }\n",
       "\n",
       "    .dataframe thead th {\n",
       "        text-align: right;\n",
       "    }\n",
       "</style>\n",
       "<table border=\"1\" class=\"dataframe\">\n",
       "  <thead>\n",
       "    <tr style=\"text-align: right;\">\n",
       "      <th></th>\n",
       "      <th>species</th>\n",
       "      <th>body_mass_g</th>\n",
       "      <th>sex</th>\n",
       "    </tr>\n",
       "  </thead>\n",
       "  <tbody>\n",
       "    <tr>\n",
       "      <th>156</th>\n",
       "      <td>Chinstrap</td>\n",
       "      <td>3725.0</td>\n",
       "      <td>Male</td>\n",
       "    </tr>\n",
       "    <tr>\n",
       "      <th>157</th>\n",
       "      <td>Chinstrap</td>\n",
       "      <td>3950.0</td>\n",
       "      <td>Female</td>\n",
       "    </tr>\n",
       "  </tbody>\n",
       "</table>\n",
       "</div>"
      ],
      "text/plain": [
       "       species  body_mass_g     sex\n",
       "156  Chinstrap       3725.0    Male\n",
       "157  Chinstrap       3950.0  Female"
      ]
     },
     "execution_count": 25,
     "metadata": {},
     "output_type": "execute_result"
    }
   ],
   "source": [
    "# Same as the above!\n",
    "penguins_small.query('species == \"Chinstrap\"')"
   ]
  },
  {
   "cell_type": "markdown",
   "id": "b9472556",
   "metadata": {
    "slideshow": {
     "slide_type": "fragment"
    }
   },
   "source": [
    "We usually don't use these attributes and methods, but they're useful in understanding how `groupby` works under the hood."
   ]
  },
  {
   "cell_type": "markdown",
   "id": "178de68f",
   "metadata": {
    "slideshow": {
     "slide_type": "slide"
    }
   },
   "source": [
    "### Aggregation\n",
    "\n",
    "- Once we create a `DataFrameGroupBy` object, we need to **apply** some function to each group, and **combine** the results.\n",
    "\n",
    "- The most common operation we apply to each group is an **aggregation**.\n",
    "    - Aggregation refers to the process of reducing many values to one.\n",
    "\n",
    "- To perform an aggregation, use an aggregation method on the `DataFrameGroupBy` object, e.g. `.mean()`, `.max()`, or `.median()`."
   ]
  },
  {
   "cell_type": "markdown",
   "id": "45789d69",
   "metadata": {
    "slideshow": {
     "slide_type": "slide"
    }
   },
   "source": [
    "Let's look at some examples."
   ]
  },
  {
   "cell_type": "code",
   "execution_count": 26,
   "id": "ecf032ef",
   "metadata": {
    "scrolled": true,
    "slideshow": {
     "slide_type": "-"
    }
   },
   "outputs": [
    {
     "data": {
      "text/html": [
       "<div>\n",
       "<style scoped>\n",
       "    .dataframe tbody tr th:only-of-type {\n",
       "        vertical-align: middle;\n",
       "    }\n",
       "\n",
       "    .dataframe tbody tr th {\n",
       "        vertical-align: top;\n",
       "    }\n",
       "\n",
       "    .dataframe thead th {\n",
       "        text-align: right;\n",
       "    }\n",
       "</style>\n",
       "<table border=\"1\" class=\"dataframe\">\n",
       "  <thead>\n",
       "    <tr style=\"text-align: right;\">\n",
       "      <th></th>\n",
       "      <th>species</th>\n",
       "      <th>body_mass_g</th>\n",
       "      <th>sex</th>\n",
       "    </tr>\n",
       "  </thead>\n",
       "  <tbody>\n",
       "    <tr>\n",
       "      <th>0</th>\n",
       "      <td>Adelie</td>\n",
       "      <td>3750.0</td>\n",
       "      <td>Male</td>\n",
       "    </tr>\n",
       "    <tr>\n",
       "      <th>1</th>\n",
       "      <td>Adelie</td>\n",
       "      <td>3800.0</td>\n",
       "      <td>Female</td>\n",
       "    </tr>\n",
       "    <tr>\n",
       "      <th>156</th>\n",
       "      <td>Chinstrap</td>\n",
       "      <td>3725.0</td>\n",
       "      <td>Male</td>\n",
       "    </tr>\n",
       "    <tr>\n",
       "      <th>157</th>\n",
       "      <td>Chinstrap</td>\n",
       "      <td>3950.0</td>\n",
       "      <td>Female</td>\n",
       "    </tr>\n",
       "    <tr>\n",
       "      <th>258</th>\n",
       "      <td>Gentoo</td>\n",
       "      <td>4350.0</td>\n",
       "      <td>Female</td>\n",
       "    </tr>\n",
       "    <tr>\n",
       "      <th>308</th>\n",
       "      <td>Gentoo</td>\n",
       "      <td>4875.0</td>\n",
       "      <td>Female</td>\n",
       "    </tr>\n",
       "    <tr>\n",
       "      <th>309</th>\n",
       "      <td>Gentoo</td>\n",
       "      <td>5550.0</td>\n",
       "      <td>Male</td>\n",
       "    </tr>\n",
       "  </tbody>\n",
       "</table>\n",
       "</div>"
      ],
      "text/plain": [
       "       species  body_mass_g     sex\n",
       "0       Adelie       3750.0    Male\n",
       "1       Adelie       3800.0  Female\n",
       "156  Chinstrap       3725.0    Male\n",
       "157  Chinstrap       3950.0  Female\n",
       "258     Gentoo       4350.0  Female\n",
       "308     Gentoo       4875.0  Female\n",
       "309     Gentoo       5550.0    Male"
      ]
     },
     "execution_count": 26,
     "metadata": {},
     "output_type": "execute_result"
    }
   ],
   "source": [
    "penguins_small"
   ]
  },
  {
   "cell_type": "code",
   "execution_count": 27,
   "id": "5f9c1d82",
   "metadata": {},
   "outputs": [
    {
     "data": {
      "text/html": [
       "<div>\n",
       "<style scoped>\n",
       "    .dataframe tbody tr th:only-of-type {\n",
       "        vertical-align: middle;\n",
       "    }\n",
       "\n",
       "    .dataframe tbody tr th {\n",
       "        vertical-align: top;\n",
       "    }\n",
       "\n",
       "    .dataframe thead th {\n",
       "        text-align: right;\n",
       "    }\n",
       "</style>\n",
       "<table border=\"1\" class=\"dataframe\">\n",
       "  <thead>\n",
       "    <tr style=\"text-align: right;\">\n",
       "      <th></th>\n",
       "      <th>body_mass_g</th>\n",
       "    </tr>\n",
       "    <tr>\n",
       "      <th>species</th>\n",
       "      <th></th>\n",
       "    </tr>\n",
       "  </thead>\n",
       "  <tbody>\n",
       "    <tr>\n",
       "      <th>Adelie</th>\n",
       "      <td>3775.0</td>\n",
       "    </tr>\n",
       "    <tr>\n",
       "      <th>Chinstrap</th>\n",
       "      <td>3837.5</td>\n",
       "    </tr>\n",
       "    <tr>\n",
       "      <th>Gentoo</th>\n",
       "      <td>4925.0</td>\n",
       "    </tr>\n",
       "  </tbody>\n",
       "</table>\n",
       "</div>"
      ],
      "text/plain": [
       "           body_mass_g\n",
       "species               \n",
       "Adelie          3775.0\n",
       "Chinstrap       3837.5\n",
       "Gentoo          4925.0"
      ]
     },
     "execution_count": 27,
     "metadata": {},
     "output_type": "execute_result"
    }
   ],
   "source": [
    "penguins_small.groupby('species').mean()"
   ]
  },
  {
   "cell_type": "code",
   "execution_count": 28,
   "id": "d9901725",
   "metadata": {},
   "outputs": [
    {
     "data": {
      "text/html": [
       "<div>\n",
       "<style scoped>\n",
       "    .dataframe tbody tr th:only-of-type {\n",
       "        vertical-align: middle;\n",
       "    }\n",
       "\n",
       "    .dataframe tbody tr th {\n",
       "        vertical-align: top;\n",
       "    }\n",
       "\n",
       "    .dataframe thead th {\n",
       "        text-align: right;\n",
       "    }\n",
       "</style>\n",
       "<table border=\"1\" class=\"dataframe\">\n",
       "  <thead>\n",
       "    <tr style=\"text-align: right;\">\n",
       "      <th></th>\n",
       "      <th>body_mass_g</th>\n",
       "    </tr>\n",
       "    <tr>\n",
       "      <th>species</th>\n",
       "      <th></th>\n",
       "    </tr>\n",
       "  </thead>\n",
       "  <tbody>\n",
       "    <tr>\n",
       "      <th>Adelie</th>\n",
       "      <td>7550.0</td>\n",
       "    </tr>\n",
       "    <tr>\n",
       "      <th>Chinstrap</th>\n",
       "      <td>7675.0</td>\n",
       "    </tr>\n",
       "    <tr>\n",
       "      <th>Gentoo</th>\n",
       "      <td>14775.0</td>\n",
       "    </tr>\n",
       "  </tbody>\n",
       "</table>\n",
       "</div>"
      ],
      "text/plain": [
       "           body_mass_g\n",
       "species               \n",
       "Adelie          7550.0\n",
       "Chinstrap       7675.0\n",
       "Gentoo         14775.0"
      ]
     },
     "execution_count": 28,
     "metadata": {},
     "output_type": "execute_result"
    }
   ],
   "source": [
    "penguins_small.groupby('species').sum()"
   ]
  },
  {
   "cell_type": "code",
   "execution_count": 29,
   "id": "239f8d70",
   "metadata": {},
   "outputs": [
    {
     "data": {
      "text/html": [
       "<div>\n",
       "<style scoped>\n",
       "    .dataframe tbody tr th:only-of-type {\n",
       "        vertical-align: middle;\n",
       "    }\n",
       "\n",
       "    .dataframe tbody tr th {\n",
       "        vertical-align: top;\n",
       "    }\n",
       "\n",
       "    .dataframe thead th {\n",
       "        text-align: right;\n",
       "    }\n",
       "</style>\n",
       "<table border=\"1\" class=\"dataframe\">\n",
       "  <thead>\n",
       "    <tr style=\"text-align: right;\">\n",
       "      <th></th>\n",
       "      <th>body_mass_g</th>\n",
       "      <th>sex</th>\n",
       "    </tr>\n",
       "    <tr>\n",
       "      <th>species</th>\n",
       "      <th></th>\n",
       "      <th></th>\n",
       "    </tr>\n",
       "  </thead>\n",
       "  <tbody>\n",
       "    <tr>\n",
       "      <th>Adelie</th>\n",
       "      <td>3800.0</td>\n",
       "      <td>Female</td>\n",
       "    </tr>\n",
       "    <tr>\n",
       "      <th>Chinstrap</th>\n",
       "      <td>3950.0</td>\n",
       "      <td>Female</td>\n",
       "    </tr>\n",
       "    <tr>\n",
       "      <th>Gentoo</th>\n",
       "      <td>5550.0</td>\n",
       "      <td>Male</td>\n",
       "    </tr>\n",
       "  </tbody>\n",
       "</table>\n",
       "</div>"
      ],
      "text/plain": [
       "           body_mass_g     sex\n",
       "species                       \n",
       "Adelie          3800.0  Female\n",
       "Chinstrap       3950.0  Female\n",
       "Gentoo          5550.0    Male"
      ]
     },
     "execution_count": 29,
     "metadata": {},
     "output_type": "execute_result"
    }
   ],
   "source": [
    "penguins_small.groupby('species').last()"
   ]
  },
  {
   "cell_type": "code",
   "execution_count": 30,
   "id": "dfcfcbf3",
   "metadata": {
    "scrolled": true
   },
   "outputs": [
    {
     "data": {
      "text/html": [
       "<div>\n",
       "<style scoped>\n",
       "    .dataframe tbody tr th:only-of-type {\n",
       "        vertical-align: middle;\n",
       "    }\n",
       "\n",
       "    .dataframe tbody tr th {\n",
       "        vertical-align: top;\n",
       "    }\n",
       "\n",
       "    .dataframe thead th {\n",
       "        text-align: right;\n",
       "    }\n",
       "</style>\n",
       "<table border=\"1\" class=\"dataframe\">\n",
       "  <thead>\n",
       "    <tr style=\"text-align: right;\">\n",
       "      <th></th>\n",
       "      <th>body_mass_g</th>\n",
       "      <th>sex</th>\n",
       "    </tr>\n",
       "    <tr>\n",
       "      <th>species</th>\n",
       "      <th></th>\n",
       "      <th></th>\n",
       "    </tr>\n",
       "  </thead>\n",
       "  <tbody>\n",
       "    <tr>\n",
       "      <th>Adelie</th>\n",
       "      <td>3800.0</td>\n",
       "      <td>Male</td>\n",
       "    </tr>\n",
       "    <tr>\n",
       "      <th>Chinstrap</th>\n",
       "      <td>3950.0</td>\n",
       "      <td>Male</td>\n",
       "    </tr>\n",
       "    <tr>\n",
       "      <th>Gentoo</th>\n",
       "      <td>5550.0</td>\n",
       "      <td>Male</td>\n",
       "    </tr>\n",
       "  </tbody>\n",
       "</table>\n",
       "</div>"
      ],
      "text/plain": [
       "           body_mass_g   sex\n",
       "species                     \n",
       "Adelie          3800.0  Male\n",
       "Chinstrap       3950.0  Male\n",
       "Gentoo          5550.0  Male"
      ]
     },
     "execution_count": 30,
     "metadata": {},
     "output_type": "execute_result"
    }
   ],
   "source": [
    "penguins_small.groupby('species').max()"
   ]
  },
  {
   "cell_type": "markdown",
   "id": "c7abccbe",
   "metadata": {
    "slideshow": {
     "slide_type": "slide"
    }
   },
   "source": [
    "### Column independence\n",
    "\n",
    "Within each group, the aggregation method is applied to **each column independently**."
   ]
  },
  {
   "cell_type": "code",
   "execution_count": 31,
   "id": "0712c4fe",
   "metadata": {},
   "outputs": [
    {
     "data": {
      "text/html": [
       "<div>\n",
       "<style scoped>\n",
       "    .dataframe tbody tr th:only-of-type {\n",
       "        vertical-align: middle;\n",
       "    }\n",
       "\n",
       "    .dataframe tbody tr th {\n",
       "        vertical-align: top;\n",
       "    }\n",
       "\n",
       "    .dataframe thead th {\n",
       "        text-align: right;\n",
       "    }\n",
       "</style>\n",
       "<table border=\"1\" class=\"dataframe\">\n",
       "  <thead>\n",
       "    <tr style=\"text-align: right;\">\n",
       "      <th></th>\n",
       "      <th>body_mass_g</th>\n",
       "      <th>sex</th>\n",
       "    </tr>\n",
       "    <tr>\n",
       "      <th>species</th>\n",
       "      <th></th>\n",
       "      <th></th>\n",
       "    </tr>\n",
       "  </thead>\n",
       "  <tbody>\n",
       "    <tr>\n",
       "      <th>Adelie</th>\n",
       "      <td>3800.0</td>\n",
       "      <td>Male</td>\n",
       "    </tr>\n",
       "    <tr>\n",
       "      <th>Chinstrap</th>\n",
       "      <td>3950.0</td>\n",
       "      <td>Male</td>\n",
       "    </tr>\n",
       "    <tr>\n",
       "      <th>Gentoo</th>\n",
       "      <td>5550.0</td>\n",
       "      <td>Male</td>\n",
       "    </tr>\n",
       "  </tbody>\n",
       "</table>\n",
       "</div>"
      ],
      "text/plain": [
       "           body_mass_g   sex\n",
       "species                     \n",
       "Adelie          3800.0  Male\n",
       "Chinstrap       3950.0  Male\n",
       "Gentoo          5550.0  Male"
      ]
     },
     "execution_count": 31,
     "metadata": {},
     "output_type": "execute_result"
    }
   ],
   "source": [
    "penguins_small.groupby('species').max()"
   ]
  },
  {
   "cell_type": "markdown",
   "id": "aea963e9",
   "metadata": {
    "slideshow": {
     "slide_type": "fragment"
    }
   },
   "source": [
    "It **is not** telling us that there is a male `'Adelie'` penguin with a `'body_mass_g'` of `3800.0`!"
   ]
  },
  {
   "cell_type": "code",
   "execution_count": 32,
   "id": "2b7bffd6",
   "metadata": {},
   "outputs": [
    {
     "data": {
      "text/html": [
       "<div>\n",
       "<style scoped>\n",
       "    .dataframe tbody tr th:only-of-type {\n",
       "        vertical-align: middle;\n",
       "    }\n",
       "\n",
       "    .dataframe tbody tr th {\n",
       "        vertical-align: top;\n",
       "    }\n",
       "\n",
       "    .dataframe thead th {\n",
       "        text-align: right;\n",
       "    }\n",
       "</style>\n",
       "<table border=\"1\" class=\"dataframe\">\n",
       "  <thead>\n",
       "    <tr style=\"text-align: right;\">\n",
       "      <th></th>\n",
       "      <th>species</th>\n",
       "      <th>body_mass_g</th>\n",
       "      <th>sex</th>\n",
       "    </tr>\n",
       "  </thead>\n",
       "  <tbody>\n",
       "    <tr>\n",
       "      <th>1</th>\n",
       "      <td>Adelie</td>\n",
       "      <td>3800.0</td>\n",
       "      <td>Female</td>\n",
       "    </tr>\n",
       "  </tbody>\n",
       "</table>\n",
       "</div>"
      ],
      "text/plain": [
       "  species  body_mass_g     sex\n",
       "1  Adelie       3800.0  Female"
      ]
     },
     "execution_count": 32,
     "metadata": {},
     "output_type": "execute_result"
    }
   ],
   "source": [
    "# This penguin is Female!\n",
    "penguins_small.loc[(penguins['species'] == 'Adelie') & (penguins['body_mass_g'] == 3800.0)]"
   ]
  },
  {
   "cell_type": "markdown",
   "id": "48cd6d1d",
   "metadata": {
    "slideshow": {
     "slide_type": "slide"
    }
   },
   "source": [
    "### Discussion Question\n",
    "\n",
    "Find the species and weights of the heaviest `Male` and `Female` penguins."
   ]
  },
  {
   "cell_type": "code",
   "execution_count": 33,
   "id": "3e81490e",
   "metadata": {},
   "outputs": [],
   "source": [
    "# Fill in this cell"
   ]
  },
  {
   "cell_type": "markdown",
   "id": "bd3d1b61",
   "metadata": {
    "slideshow": {
     "slide_type": "slide"
    }
   },
   "source": [
    "### Column selection and performance implications\n",
    "\n",
    "- By default, the aggregator will be applied to **all** columns that it can be applied to.\n",
    "    - `max` and `min` are defined on strings, while `median` and `mean` are not.\n",
    "\n",
    "- If we only care about one column, we can select that column before aggregating **to save time**.\n",
    "    - `DataFrameGroupBy` objects support `[]` notation, just like `DataFrame`s."
   ]
  },
  {
   "cell_type": "code",
   "execution_count": 34,
   "id": "1847d896",
   "metadata": {
    "slideshow": {
     "slide_type": "fragment"
    }
   },
   "outputs": [
    {
     "data": {
      "text/html": [
       "<div>\n",
       "<style scoped>\n",
       "    .dataframe tbody tr th:only-of-type {\n",
       "        vertical-align: middle;\n",
       "    }\n",
       "\n",
       "    .dataframe tbody tr th {\n",
       "        vertical-align: top;\n",
       "    }\n",
       "\n",
       "    .dataframe thead th {\n",
       "        text-align: right;\n",
       "    }\n",
       "</style>\n",
       "<table border=\"1\" class=\"dataframe\">\n",
       "  <thead>\n",
       "    <tr style=\"text-align: right;\">\n",
       "      <th></th>\n",
       "      <th>bill_length_mm</th>\n",
       "      <th>bill_depth_mm</th>\n",
       "      <th>flipper_length_mm</th>\n",
       "      <th>body_mass_g</th>\n",
       "    </tr>\n",
       "    <tr>\n",
       "      <th>species</th>\n",
       "      <th></th>\n",
       "      <th></th>\n",
       "      <th></th>\n",
       "      <th></th>\n",
       "    </tr>\n",
       "  </thead>\n",
       "  <tbody>\n",
       "    <tr>\n",
       "      <th>Adelie</th>\n",
       "      <td>38.82</td>\n",
       "      <td>18.35</td>\n",
       "      <td>190.10</td>\n",
       "      <td>3706.16</td>\n",
       "    </tr>\n",
       "    <tr>\n",
       "      <th>Chinstrap</th>\n",
       "      <td>48.83</td>\n",
       "      <td>18.42</td>\n",
       "      <td>195.82</td>\n",
       "      <td>3733.09</td>\n",
       "    </tr>\n",
       "    <tr>\n",
       "      <th>Gentoo</th>\n",
       "      <td>47.57</td>\n",
       "      <td>15.00</td>\n",
       "      <td>217.24</td>\n",
       "      <td>5092.44</td>\n",
       "    </tr>\n",
       "  </tbody>\n",
       "</table>\n",
       "</div>"
      ],
      "text/plain": [
       "           bill_length_mm  bill_depth_mm  flipper_length_mm  body_mass_g\n",
       "species                                                                 \n",
       "Adelie              38.82          18.35             190.10      3706.16\n",
       "Chinstrap           48.83          18.42             195.82      3733.09\n",
       "Gentoo              47.57          15.00             217.24      5092.44"
      ]
     },
     "execution_count": 34,
     "metadata": {},
     "output_type": "execute_result"
    }
   ],
   "source": [
    "# Back to the big penguins dataset\n",
    "penguins.groupby('species').mean()"
   ]
  },
  {
   "cell_type": "code",
   "execution_count": 35,
   "id": "dc7face1",
   "metadata": {},
   "outputs": [
    {
     "data": {
      "text/plain": [
       "species\n",
       "Adelie       38.82\n",
       "Chinstrap    48.83\n",
       "Gentoo       47.57\n",
       "Name: bill_length_mm, dtype: float64"
      ]
     },
     "execution_count": 35,
     "metadata": {},
     "output_type": "execute_result"
    }
   ],
   "source": [
    "# Works, but involves wasted effort since the other columns had to be aggregated for no reason.\n",
    "penguins.groupby('species').mean()['bill_length_mm']"
   ]
  },
  {
   "cell_type": "code",
   "execution_count": 36,
   "id": "5f1b1394",
   "metadata": {},
   "outputs": [
    {
     "data": {
      "text/plain": [
       "<pandas.core.groupby.generic.SeriesGroupBy object at 0x7fb8d46c14f0>"
      ]
     },
     "execution_count": 36,
     "metadata": {},
     "output_type": "execute_result"
    }
   ],
   "source": [
    "# This is a SeriesGroupBy object!\n",
    "penguins.groupby('species')['bill_length_mm']"
   ]
  },
  {
   "cell_type": "code",
   "execution_count": 37,
   "id": "75185169",
   "metadata": {},
   "outputs": [
    {
     "data": {
      "text/plain": [
       "species\n",
       "Adelie       38.82\n",
       "Chinstrap    48.83\n",
       "Gentoo       47.57\n",
       "Name: bill_length_mm, dtype: float64"
      ]
     },
     "execution_count": 37,
     "metadata": {},
     "output_type": "execute_result"
    }
   ],
   "source": [
    "# Saves time!\n",
    "penguins.groupby('species')['bill_length_mm'].mean()"
   ]
  },
  {
   "cell_type": "markdown",
   "id": "632f5ff4",
   "metadata": {
    "slideshow": {
     "slide_type": "slide"
    }
   },
   "source": [
    "To demonstrate that the former is slower than the latter, we can use `%%timeit`. For reference, we'll also include our earlier `for`-loop-based solution."
   ]
  },
  {
   "cell_type": "code",
   "execution_count": 38,
   "id": "dc92adda",
   "metadata": {},
   "outputs": [
    {
     "name": "stdout",
     "output_type": "stream",
     "text": [
      "359 µs ± 1.94 µs per loop (mean ± std. dev. of 7 runs, 1,000 loops each)\n"
     ]
    }
   ],
   "source": [
    "%%timeit\n",
    "penguins.groupby('species').mean()['bill_length_mm']"
   ]
  },
  {
   "cell_type": "code",
   "execution_count": 39,
   "id": "2bb5cc3e",
   "metadata": {},
   "outputs": [
    {
     "name": "stdout",
     "output_type": "stream",
     "text": [
      "137 µs ± 659 ns per loop (mean ± std. dev. of 7 runs, 10,000 loops each)\n"
     ]
    }
   ],
   "source": [
    "%%timeit\n",
    "penguins.groupby('species')['bill_length_mm'].mean()"
   ]
  },
  {
   "cell_type": "code",
   "execution_count": 40,
   "id": "fc3f9090",
   "metadata": {},
   "outputs": [
    {
     "name": "stdout",
     "output_type": "stream",
     "text": [
      "981 µs ± 1.88 µs per loop (mean ± std. dev. of 7 runs, 1,000 loops each)\n"
     ]
    }
   ],
   "source": [
    "%%timeit\n",
    "species_map = pd.Series([], dtype=float)\n",
    "\n",
    "for species in penguins['species'].unique():\n",
    "    species_only = penguins.loc[penguins['species'] == species]\n",
    "    species_map.loc[species] = species_only['body_mass_g'].mean()\n",
    "    \n",
    "species_map"
   ]
  },
  {
   "cell_type": "markdown",
   "id": "d2a190d3",
   "metadata": {
    "slideshow": {
     "slide_type": "slide"
    }
   },
   "source": [
    "### Takeaways\n",
    "\n",
    "- It's important to understand _what_ each piece of your code evaluates to – in the first two timed examples, the code is almost identical, but the performance is quite different.\n",
    "\n",
    "                # Slower\n",
    "                penguins.groupby('species').mean()['bill_length_mm']\n",
    "\n",
    "                # Faster\n",
    "                penguins.groupby('species')['bill_length_mm'].mean()\n",
    "\n",
    "- The `groupby` method is much quicker than `for`-looping over the DataFrame in Python. It can often produce results using just a **single, fast pass** over the data, updating the sum, mean, count, min, or other aggregate for each group along the way."
   ]
  },
  {
   "cell_type": "markdown",
   "id": "cc94fa49",
   "metadata": {
    "slideshow": {
     "slide_type": "slide"
    }
   },
   "source": [
    "### Beyond default aggregation methods\n",
    "\n",
    "- There are many built-in aggregation methods.\n",
    "- What if you want to apply different aggregation methods to different columns?\n",
    "- What if the aggregation method you want to use doesn't already exist in `pandas`?"
   ]
  },
  {
   "cell_type": "markdown",
   "id": "d50e51cf",
   "metadata": {
    "slideshow": {
     "slide_type": "slide"
    }
   },
   "source": [
    "### The `aggregate` method\n",
    "\n",
    "- The `DataFrameGroupBy` object has a general `aggregate` method, which aggregates using one or more operations.\n",
    "    - Remember, aggregation refers to the process of reducing many values to one.\n",
    "- There are many ways of using `aggregate`; refer to [the documentation](https://pandas.pydata.org/pandas-docs/stable/reference/api/pandas.core.groupby.DataFrameGroupBy.aggregate.html) for a comprehensive list.\n",
    "- Example arguments:\n",
    "    - A single function.\n",
    "    - A list of functions.\n",
    "    - A dictionary mapping column names to functions.\n",
    "- Per [the documentation](https://pandas.pydata.org/pandas-docs/stable/reference/api/pandas.DataFrame.agg.html), `agg` is an alias for `aggregate`."
   ]
  },
  {
   "cell_type": "markdown",
   "id": "dc402b8b",
   "metadata": {
    "slideshow": {
     "slide_type": "slide"
    }
   },
   "source": [
    "### Example\n",
    "\n",
    "How many penguins are there of each `'species'`, and what is the mean `'body_mass_g'` of each species?"
   ]
  },
  {
   "cell_type": "code",
   "execution_count": 41,
   "id": "8f425d5e",
   "metadata": {},
   "outputs": [
    {
     "data": {
      "text/html": [
       "<div>\n",
       "<style scoped>\n",
       "    .dataframe tbody tr th:only-of-type {\n",
       "        vertical-align: middle;\n",
       "    }\n",
       "\n",
       "    .dataframe tbody tr th {\n",
       "        vertical-align: top;\n",
       "    }\n",
       "\n",
       "    .dataframe thead th {\n",
       "        text-align: right;\n",
       "    }\n",
       "</style>\n",
       "<table border=\"1\" class=\"dataframe\">\n",
       "  <thead>\n",
       "    <tr style=\"text-align: right;\">\n",
       "      <th></th>\n",
       "      <th>count</th>\n",
       "      <th>mean</th>\n",
       "    </tr>\n",
       "    <tr>\n",
       "      <th>species</th>\n",
       "      <th></th>\n",
       "      <th></th>\n",
       "    </tr>\n",
       "  </thead>\n",
       "  <tbody>\n",
       "    <tr>\n",
       "      <th>Adelie</th>\n",
       "      <td>146</td>\n",
       "      <td>3706.16</td>\n",
       "    </tr>\n",
       "    <tr>\n",
       "      <th>Chinstrap</th>\n",
       "      <td>68</td>\n",
       "      <td>3733.09</td>\n",
       "    </tr>\n",
       "    <tr>\n",
       "      <th>Gentoo</th>\n",
       "      <td>119</td>\n",
       "      <td>5092.44</td>\n",
       "    </tr>\n",
       "  </tbody>\n",
       "</table>\n",
       "</div>"
      ],
      "text/plain": [
       "           count     mean\n",
       "species                  \n",
       "Adelie       146  3706.16\n",
       "Chinstrap     68  3733.09\n",
       "Gentoo       119  5092.44"
      ]
     },
     "execution_count": 41,
     "metadata": {},
     "output_type": "execute_result"
    }
   ],
   "source": [
    "(penguins\n",
    " .groupby('species')\n",
    " ['body_mass_g']\n",
    " .aggregate(['count', 'mean'])\n",
    ")"
   ]
  },
  {
   "cell_type": "markdown",
   "id": "9bc3326a",
   "metadata": {},
   "source": [
    "Note what happens when we don't select a column before aggregating."
   ]
  },
  {
   "cell_type": "code",
   "execution_count": 42,
   "id": "153a1977",
   "metadata": {},
   "outputs": [
    {
     "data": {
      "text/html": [
       "<div>\n",
       "<style scoped>\n",
       "    .dataframe tbody tr th:only-of-type {\n",
       "        vertical-align: middle;\n",
       "    }\n",
       "\n",
       "    .dataframe tbody tr th {\n",
       "        vertical-align: top;\n",
       "    }\n",
       "\n",
       "    .dataframe thead tr th {\n",
       "        text-align: left;\n",
       "    }\n",
       "\n",
       "    .dataframe thead tr:last-of-type th {\n",
       "        text-align: right;\n",
       "    }\n",
       "</style>\n",
       "<table border=\"1\" class=\"dataframe\">\n",
       "  <thead>\n",
       "    <tr>\n",
       "      <th></th>\n",
       "      <th colspan=\"2\" halign=\"left\">bill_length_mm</th>\n",
       "      <th colspan=\"2\" halign=\"left\">bill_depth_mm</th>\n",
       "      <th colspan=\"2\" halign=\"left\">flipper_length_mm</th>\n",
       "      <th colspan=\"2\" halign=\"left\">body_mass_g</th>\n",
       "    </tr>\n",
       "    <tr>\n",
       "      <th></th>\n",
       "      <th>count</th>\n",
       "      <th>mean</th>\n",
       "      <th>count</th>\n",
       "      <th>mean</th>\n",
       "      <th>count</th>\n",
       "      <th>mean</th>\n",
       "      <th>count</th>\n",
       "      <th>mean</th>\n",
       "    </tr>\n",
       "    <tr>\n",
       "      <th>species</th>\n",
       "      <th></th>\n",
       "      <th></th>\n",
       "      <th></th>\n",
       "      <th></th>\n",
       "      <th></th>\n",
       "      <th></th>\n",
       "      <th></th>\n",
       "      <th></th>\n",
       "    </tr>\n",
       "  </thead>\n",
       "  <tbody>\n",
       "    <tr>\n",
       "      <th>Adelie</th>\n",
       "      <td>146</td>\n",
       "      <td>38.82</td>\n",
       "      <td>146</td>\n",
       "      <td>18.35</td>\n",
       "      <td>146</td>\n",
       "      <td>190.10</td>\n",
       "      <td>146</td>\n",
       "      <td>3706.16</td>\n",
       "    </tr>\n",
       "    <tr>\n",
       "      <th>Chinstrap</th>\n",
       "      <td>68</td>\n",
       "      <td>48.83</td>\n",
       "      <td>68</td>\n",
       "      <td>18.42</td>\n",
       "      <td>68</td>\n",
       "      <td>195.82</td>\n",
       "      <td>68</td>\n",
       "      <td>3733.09</td>\n",
       "    </tr>\n",
       "    <tr>\n",
       "      <th>Gentoo</th>\n",
       "      <td>119</td>\n",
       "      <td>47.57</td>\n",
       "      <td>119</td>\n",
       "      <td>15.00</td>\n",
       "      <td>119</td>\n",
       "      <td>217.24</td>\n",
       "      <td>119</td>\n",
       "      <td>5092.44</td>\n",
       "    </tr>\n",
       "  </tbody>\n",
       "</table>\n",
       "</div>"
      ],
      "text/plain": [
       "          bill_length_mm        bill_depth_mm        flipper_length_mm  \\\n",
       "                   count   mean         count   mean             count   \n",
       "species                                                                  \n",
       "Adelie               146  38.82           146  18.35               146   \n",
       "Chinstrap             68  48.83            68  18.42                68   \n",
       "Gentoo               119  47.57           119  15.00               119   \n",
       "\n",
       "                  body_mass_g           \n",
       "             mean       count     mean  \n",
       "species                                 \n",
       "Adelie     190.10         146  3706.16  \n",
       "Chinstrap  195.82          68  3733.09  \n",
       "Gentoo     217.24         119  5092.44  "
      ]
     },
     "execution_count": 42,
     "metadata": {},
     "output_type": "execute_result"
    }
   ],
   "source": [
    "(penguins\n",
    " .groupby('species')\n",
    " .aggregate(['count', 'mean'])\n",
    ")"
   ]
  },
  {
   "cell_type": "markdown",
   "id": "ec2fe848",
   "metadata": {
    "slideshow": {
     "slide_type": "slide"
    }
   },
   "source": [
    "### Example\n",
    "\n",
    "What is the maximum `'bill_length_mm'` of each species, and which `'island'`s is each `'species'` found on?"
   ]
  },
  {
   "cell_type": "code",
   "execution_count": 43,
   "id": "f274f133",
   "metadata": {},
   "outputs": [
    {
     "data": {
      "text/html": [
       "<div>\n",
       "<style scoped>\n",
       "    .dataframe tbody tr th:only-of-type {\n",
       "        vertical-align: middle;\n",
       "    }\n",
       "\n",
       "    .dataframe tbody tr th {\n",
       "        vertical-align: top;\n",
       "    }\n",
       "\n",
       "    .dataframe thead th {\n",
       "        text-align: right;\n",
       "    }\n",
       "</style>\n",
       "<table border=\"1\" class=\"dataframe\">\n",
       "  <thead>\n",
       "    <tr style=\"text-align: right;\">\n",
       "      <th></th>\n",
       "      <th>bill_length_mm</th>\n",
       "      <th>island</th>\n",
       "    </tr>\n",
       "    <tr>\n",
       "      <th>species</th>\n",
       "      <th></th>\n",
       "      <th></th>\n",
       "    </tr>\n",
       "  </thead>\n",
       "  <tbody>\n",
       "    <tr>\n",
       "      <th>Adelie</th>\n",
       "      <td>46.0</td>\n",
       "      <td>3</td>\n",
       "    </tr>\n",
       "    <tr>\n",
       "      <th>Chinstrap</th>\n",
       "      <td>58.0</td>\n",
       "      <td>1</td>\n",
       "    </tr>\n",
       "    <tr>\n",
       "      <th>Gentoo</th>\n",
       "      <td>59.6</td>\n",
       "      <td>1</td>\n",
       "    </tr>\n",
       "  </tbody>\n",
       "</table>\n",
       "</div>"
      ],
      "text/plain": [
       "           bill_length_mm  island\n",
       "species                          \n",
       "Adelie               46.0       3\n",
       "Chinstrap            58.0       1\n",
       "Gentoo               59.6       1"
      ]
     },
     "execution_count": 43,
     "metadata": {},
     "output_type": "execute_result"
    }
   ],
   "source": [
    "(penguins\n",
    " .groupby('species')\n",
    " .aggregate({'bill_length_mm': 'max', 'island': 'nunique'})\n",
    ")"
   ]
  },
  {
   "cell_type": "markdown",
   "id": "ab8a7443",
   "metadata": {
    "slideshow": {
     "slide_type": "slide"
    }
   },
   "source": [
    "### Example\n",
    "\n",
    "What is the **interquartile range** of the `'body_mass_g'` of each `'species'`?"
   ]
  },
  {
   "cell_type": "code",
   "execution_count": 44,
   "id": "1a969c21",
   "metadata": {},
   "outputs": [
    {
     "data": {
      "text/plain": [
       "species\n",
       "Adelie       637.5\n",
       "Chinstrap    462.5\n",
       "Gentoo       800.0\n",
       "Name: body_mass_g, dtype: float64"
      ]
     },
     "execution_count": 44,
     "metadata": {},
     "output_type": "execute_result"
    }
   ],
   "source": [
    "# The function for .agg takes in a pd.Series as its argument and returns a scalar \n",
    "def iqr(series):\n",
    "    return np.percentile(series, 75) - np.percentile(series, 25)\n",
    "\n",
    "(penguins\n",
    " .groupby('species')\n",
    " ['body_mass_g']\n",
    " .agg(iqr)\n",
    ")"
   ]
  },
  {
   "cell_type": "markdown",
   "id": "d6c726b3",
   "metadata": {
    "slideshow": {
     "slide_type": "slide"
    }
   },
   "source": [
    "## Other `DataFrameGroupBy` methods"
   ]
  },
  {
   "cell_type": "markdown",
   "id": "478cae01",
   "metadata": {
    "slideshow": {
     "slide_type": "slide"
    }
   },
   "source": [
    "### Split-apply-combine, revisited\n",
    "\n",
    "When we introduced the split-apply-combine pattern, the \"apply\" step involved **aggregation** – our final DataFrame had one row for each group.\n",
    "\n",
    "<center><img src=\"imgs/image_0.png\" width=40%></center>\n",
    "\n",
    "Instead of aggregating during the apply step, we could instead perform a:\n",
    "\n",
    "- **Transformation**, in which we perform operations to every value within each group.\n",
    "\n",
    "- **Filtration**, in which we keep only the groups that satisfy some condition."
   ]
  },
  {
   "cell_type": "markdown",
   "id": "f57a9d0b",
   "metadata": {
    "slideshow": {
     "slide_type": "slide"
    }
   },
   "source": [
    "### Transformations\n",
    "\n",
    "- Suppose we want to convert the `'body_mass_g'` column to to z-scores (i.e. standard units):\n",
    "\n",
    "$$z(x_i) = \\frac{x_i - \\text{mean of } x}{\\text{SD of } x}$$"
   ]
  },
  {
   "cell_type": "code",
   "execution_count": 45,
   "id": "bc70cbb6",
   "metadata": {},
   "outputs": [],
   "source": [
    "def z_score(x):\n",
    "    return (x - x.mean()) / x.std(ddof=0)"
   ]
  },
  {
   "cell_type": "code",
   "execution_count": 46,
   "id": "2d600ae5",
   "metadata": {},
   "outputs": [
    {
     "data": {
      "text/plain": [
       "0     -0.57\n",
       "1     -0.51\n",
       "2     -1.19\n",
       "4     -0.94\n",
       "       ... \n",
       "340    0.80\n",
       "341    1.92\n",
       "342    1.23\n",
       "343    1.48\n",
       "Name: body_mass_g, Length: 333, dtype: float64"
      ]
     },
     "execution_count": 46,
     "metadata": {},
     "output_type": "execute_result"
    }
   ],
   "source": [
    "z_score(penguins['body_mass_g'])"
   ]
  },
  {
   "cell_type": "markdown",
   "id": "5a85c12f",
   "metadata": {
    "slideshow": {
     "slide_type": "slide"
    }
   },
   "source": [
    "### Transformations within groups\n",
    "\n",
    "- Now, what if we wanted the z-score within each group?\n",
    "\n",
    "- To do so, we can use the `transform` method on a `DataFrameGroupBy` object. The `transform` method takes in a function, which itself takes in a Series and returns a new Series.\n",
    "\n",
    "- A transformation produces a DataFrame or Series of the same size – it is **not** an aggregation!"
   ]
  },
  {
   "cell_type": "code",
   "execution_count": 47,
   "id": "504c68cc",
   "metadata": {},
   "outputs": [
    {
     "data": {
      "text/plain": [
       "0      0.10\n",
       "1      0.21\n",
       "2     -1.00\n",
       "4     -0.56\n",
       "       ... \n",
       "340   -0.49\n",
       "341    1.32\n",
       "342    0.22\n",
       "343    0.62\n",
       "Name: body_mass_g, Length: 333, dtype: float64"
      ]
     },
     "execution_count": 47,
     "metadata": {},
     "output_type": "execute_result"
    }
   ],
   "source": [
    "z_mass = (penguins\n",
    "          .groupby('species')\n",
    "          ['body_mass_g']\n",
    "          .transform(z_score))\n",
    "z_mass"
   ]
  },
  {
   "cell_type": "code",
   "execution_count": 48,
   "id": "499fd16f",
   "metadata": {
    "slideshow": {
     "slide_type": "slide"
    }
   },
   "outputs": [
    {
     "data": {
      "text/html": [
       "<div>\n",
       "<style scoped>\n",
       "    .dataframe tbody tr th:only-of-type {\n",
       "        vertical-align: middle;\n",
       "    }\n",
       "\n",
       "    .dataframe tbody tr th {\n",
       "        vertical-align: top;\n",
       "    }\n",
       "\n",
       "    .dataframe thead th {\n",
       "        text-align: right;\n",
       "    }\n",
       "</style>\n",
       "<table border=\"1\" class=\"dataframe\">\n",
       "  <thead>\n",
       "    <tr style=\"text-align: right;\">\n",
       "      <th></th>\n",
       "      <th>species</th>\n",
       "      <th>island</th>\n",
       "      <th>bill_length_mm</th>\n",
       "      <th>bill_depth_mm</th>\n",
       "      <th>flipper_length_mm</th>\n",
       "      <th>body_mass_g</th>\n",
       "      <th>sex</th>\n",
       "      <th>z_mass</th>\n",
       "    </tr>\n",
       "  </thead>\n",
       "  <tbody>\n",
       "    <tr>\n",
       "      <th>0</th>\n",
       "      <td>Adelie</td>\n",
       "      <td>Torgersen</td>\n",
       "      <td>39.1</td>\n",
       "      <td>18.7</td>\n",
       "      <td>181.0</td>\n",
       "      <td>3750.0</td>\n",
       "      <td>Male</td>\n",
       "      <td>0.10</td>\n",
       "    </tr>\n",
       "    <tr>\n",
       "      <th>1</th>\n",
       "      <td>Adelie</td>\n",
       "      <td>Torgersen</td>\n",
       "      <td>39.5</td>\n",
       "      <td>17.4</td>\n",
       "      <td>186.0</td>\n",
       "      <td>3800.0</td>\n",
       "      <td>Female</td>\n",
       "      <td>0.21</td>\n",
       "    </tr>\n",
       "    <tr>\n",
       "      <th>2</th>\n",
       "      <td>Adelie</td>\n",
       "      <td>Torgersen</td>\n",
       "      <td>40.3</td>\n",
       "      <td>18.0</td>\n",
       "      <td>195.0</td>\n",
       "      <td>3250.0</td>\n",
       "      <td>Female</td>\n",
       "      <td>-1.00</td>\n",
       "    </tr>\n",
       "    <tr>\n",
       "      <th>4</th>\n",
       "      <td>Adelie</td>\n",
       "      <td>Torgersen</td>\n",
       "      <td>36.7</td>\n",
       "      <td>19.3</td>\n",
       "      <td>193.0</td>\n",
       "      <td>3450.0</td>\n",
       "      <td>Female</td>\n",
       "      <td>-0.56</td>\n",
       "    </tr>\n",
       "    <tr>\n",
       "      <th>...</th>\n",
       "      <td>...</td>\n",
       "      <td>...</td>\n",
       "      <td>...</td>\n",
       "      <td>...</td>\n",
       "      <td>...</td>\n",
       "      <td>...</td>\n",
       "      <td>...</td>\n",
       "      <td>...</td>\n",
       "    </tr>\n",
       "    <tr>\n",
       "      <th>340</th>\n",
       "      <td>Gentoo</td>\n",
       "      <td>Biscoe</td>\n",
       "      <td>46.8</td>\n",
       "      <td>14.3</td>\n",
       "      <td>215.0</td>\n",
       "      <td>4850.0</td>\n",
       "      <td>Female</td>\n",
       "      <td>-0.49</td>\n",
       "    </tr>\n",
       "    <tr>\n",
       "      <th>341</th>\n",
       "      <td>Gentoo</td>\n",
       "      <td>Biscoe</td>\n",
       "      <td>50.4</td>\n",
       "      <td>15.7</td>\n",
       "      <td>222.0</td>\n",
       "      <td>5750.0</td>\n",
       "      <td>Male</td>\n",
       "      <td>1.32</td>\n",
       "    </tr>\n",
       "    <tr>\n",
       "      <th>342</th>\n",
       "      <td>Gentoo</td>\n",
       "      <td>Biscoe</td>\n",
       "      <td>45.2</td>\n",
       "      <td>14.8</td>\n",
       "      <td>212.0</td>\n",
       "      <td>5200.0</td>\n",
       "      <td>Female</td>\n",
       "      <td>0.22</td>\n",
       "    </tr>\n",
       "    <tr>\n",
       "      <th>343</th>\n",
       "      <td>Gentoo</td>\n",
       "      <td>Biscoe</td>\n",
       "      <td>49.9</td>\n",
       "      <td>16.1</td>\n",
       "      <td>213.0</td>\n",
       "      <td>5400.0</td>\n",
       "      <td>Male</td>\n",
       "      <td>0.62</td>\n",
       "    </tr>\n",
       "  </tbody>\n",
       "</table>\n",
       "<p>333 rows × 8 columns</p>\n",
       "</div>"
      ],
      "text/plain": [
       "    species     island  bill_length_mm  bill_depth_mm  flipper_length_mm  \\\n",
       "0    Adelie  Torgersen            39.1           18.7              181.0   \n",
       "1    Adelie  Torgersen            39.5           17.4              186.0   \n",
       "2    Adelie  Torgersen            40.3           18.0              195.0   \n",
       "4    Adelie  Torgersen            36.7           19.3              193.0   \n",
       "..      ...        ...             ...            ...                ...   \n",
       "340  Gentoo     Biscoe            46.8           14.3              215.0   \n",
       "341  Gentoo     Biscoe            50.4           15.7              222.0   \n",
       "342  Gentoo     Biscoe            45.2           14.8              212.0   \n",
       "343  Gentoo     Biscoe            49.9           16.1              213.0   \n",
       "\n",
       "     body_mass_g     sex  z_mass  \n",
       "0         3750.0    Male    0.10  \n",
       "1         3800.0  Female    0.21  \n",
       "2         3250.0  Female   -1.00  \n",
       "4         3450.0  Female   -0.56  \n",
       "..           ...     ...     ...  \n",
       "340       4850.0  Female   -0.49  \n",
       "341       5750.0    Male    1.32  \n",
       "342       5200.0  Female    0.22  \n",
       "343       5400.0    Male    0.62  \n",
       "\n",
       "[333 rows x 8 columns]"
      ]
     },
     "execution_count": 48,
     "metadata": {},
     "output_type": "execute_result"
    }
   ],
   "source": [
    "penguins.assign(z_mass=z_mass)"
   ]
  },
  {
   "cell_type": "markdown",
   "id": "17ace31a",
   "metadata": {
    "slideshow": {
     "slide_type": "fragment"
    }
   },
   "source": [
    "Note that below, penguin 340 has a larger `'body_mass_g'` than penguin 0, but a lower `'z_mass'`. \n",
    "- Penguin 0 has an above average `'body_mass_g'` among `'Adelie'` penguins.\n",
    "- Penguin 340 has a below average `'body_mass_g'` among `'Gentoo'` penguins. Remember from earlier that the average `'body_mass_g'` of `'Gentoo'` penguins is much higher than for other species."
   ]
  },
  {
   "cell_type": "markdown",
   "id": "2ff3bc14",
   "metadata": {
    "slideshow": {
     "slide_type": "slide"
    }
   },
   "source": [
    "### Filtering Groups\n",
    "\n",
    "- To keep only the groups that satisfy a particular condition, use the `filter` method on a `DataFrameGroupBy` object.\n",
    "\n",
    "- The `filter` method takes in a function, which itself takes in a DataFrame/Series and return a single Boolean. The result is a new DataFrame/Series with only the groups for which the filter function returned `True`.\n",
    "\n",
    "For example, suppose we want only the `'species'` whose average `'bill_length_mm'` is above 39."
   ]
  },
  {
   "cell_type": "code",
   "execution_count": 49,
   "id": "447eeb69",
   "metadata": {},
   "outputs": [
    {
     "data": {
      "text/html": [
       "<div>\n",
       "<style scoped>\n",
       "    .dataframe tbody tr th:only-of-type {\n",
       "        vertical-align: middle;\n",
       "    }\n",
       "\n",
       "    .dataframe tbody tr th {\n",
       "        vertical-align: top;\n",
       "    }\n",
       "\n",
       "    .dataframe thead th {\n",
       "        text-align: right;\n",
       "    }\n",
       "</style>\n",
       "<table border=\"1\" class=\"dataframe\">\n",
       "  <thead>\n",
       "    <tr style=\"text-align: right;\">\n",
       "      <th></th>\n",
       "      <th>species</th>\n",
       "      <th>island</th>\n",
       "      <th>bill_length_mm</th>\n",
       "      <th>bill_depth_mm</th>\n",
       "      <th>flipper_length_mm</th>\n",
       "      <th>body_mass_g</th>\n",
       "      <th>sex</th>\n",
       "    </tr>\n",
       "  </thead>\n",
       "  <tbody>\n",
       "    <tr>\n",
       "      <th>152</th>\n",
       "      <td>Chinstrap</td>\n",
       "      <td>Dream</td>\n",
       "      <td>46.5</td>\n",
       "      <td>17.9</td>\n",
       "      <td>192.0</td>\n",
       "      <td>3500.0</td>\n",
       "      <td>Female</td>\n",
       "    </tr>\n",
       "    <tr>\n",
       "      <th>153</th>\n",
       "      <td>Chinstrap</td>\n",
       "      <td>Dream</td>\n",
       "      <td>50.0</td>\n",
       "      <td>19.5</td>\n",
       "      <td>196.0</td>\n",
       "      <td>3900.0</td>\n",
       "      <td>Male</td>\n",
       "    </tr>\n",
       "    <tr>\n",
       "      <th>154</th>\n",
       "      <td>Chinstrap</td>\n",
       "      <td>Dream</td>\n",
       "      <td>51.3</td>\n",
       "      <td>19.2</td>\n",
       "      <td>193.0</td>\n",
       "      <td>3650.0</td>\n",
       "      <td>Male</td>\n",
       "    </tr>\n",
       "    <tr>\n",
       "      <th>155</th>\n",
       "      <td>Chinstrap</td>\n",
       "      <td>Dream</td>\n",
       "      <td>45.4</td>\n",
       "      <td>18.7</td>\n",
       "      <td>188.0</td>\n",
       "      <td>3525.0</td>\n",
       "      <td>Female</td>\n",
       "    </tr>\n",
       "    <tr>\n",
       "      <th>...</th>\n",
       "      <td>...</td>\n",
       "      <td>...</td>\n",
       "      <td>...</td>\n",
       "      <td>...</td>\n",
       "      <td>...</td>\n",
       "      <td>...</td>\n",
       "      <td>...</td>\n",
       "    </tr>\n",
       "    <tr>\n",
       "      <th>340</th>\n",
       "      <td>Gentoo</td>\n",
       "      <td>Biscoe</td>\n",
       "      <td>46.8</td>\n",
       "      <td>14.3</td>\n",
       "      <td>215.0</td>\n",
       "      <td>4850.0</td>\n",
       "      <td>Female</td>\n",
       "    </tr>\n",
       "    <tr>\n",
       "      <th>341</th>\n",
       "      <td>Gentoo</td>\n",
       "      <td>Biscoe</td>\n",
       "      <td>50.4</td>\n",
       "      <td>15.7</td>\n",
       "      <td>222.0</td>\n",
       "      <td>5750.0</td>\n",
       "      <td>Male</td>\n",
       "    </tr>\n",
       "    <tr>\n",
       "      <th>342</th>\n",
       "      <td>Gentoo</td>\n",
       "      <td>Biscoe</td>\n",
       "      <td>45.2</td>\n",
       "      <td>14.8</td>\n",
       "      <td>212.0</td>\n",
       "      <td>5200.0</td>\n",
       "      <td>Female</td>\n",
       "    </tr>\n",
       "    <tr>\n",
       "      <th>343</th>\n",
       "      <td>Gentoo</td>\n",
       "      <td>Biscoe</td>\n",
       "      <td>49.9</td>\n",
       "      <td>16.1</td>\n",
       "      <td>213.0</td>\n",
       "      <td>5400.0</td>\n",
       "      <td>Male</td>\n",
       "    </tr>\n",
       "  </tbody>\n",
       "</table>\n",
       "<p>187 rows × 7 columns</p>\n",
       "</div>"
      ],
      "text/plain": [
       "       species  island  bill_length_mm  bill_depth_mm  flipper_length_mm  \\\n",
       "152  Chinstrap   Dream            46.5           17.9              192.0   \n",
       "153  Chinstrap   Dream            50.0           19.5              196.0   \n",
       "154  Chinstrap   Dream            51.3           19.2              193.0   \n",
       "155  Chinstrap   Dream            45.4           18.7              188.0   \n",
       "..         ...     ...             ...            ...                ...   \n",
       "340     Gentoo  Biscoe            46.8           14.3              215.0   \n",
       "341     Gentoo  Biscoe            50.4           15.7              222.0   \n",
       "342     Gentoo  Biscoe            45.2           14.8              212.0   \n",
       "343     Gentoo  Biscoe            49.9           16.1              213.0   \n",
       "\n",
       "     body_mass_g     sex  \n",
       "152       3500.0  Female  \n",
       "153       3900.0    Male  \n",
       "154       3650.0    Male  \n",
       "155       3525.0  Female  \n",
       "..           ...     ...  \n",
       "340       4850.0  Female  \n",
       "341       5750.0    Male  \n",
       "342       5200.0  Female  \n",
       "343       5400.0    Male  \n",
       "\n",
       "[187 rows x 7 columns]"
      ]
     },
     "execution_count": 49,
     "metadata": {},
     "output_type": "execute_result"
    }
   ],
   "source": [
    "(penguins\n",
    " .groupby('species')\n",
    " .filter(lambda df: df['bill_length_mm'].mean() > 39)\n",
    ")"
   ]
  },
  {
   "cell_type": "markdown",
   "id": "a372cbf2",
   "metadata": {
    "slideshow": {
     "slide_type": "fragment"
    }
   },
   "source": [
    "No more `'Adelie'`s!"
   ]
  },
  {
   "cell_type": "markdown",
   "id": "e3d21c74",
   "metadata": {
    "slideshow": {
     "slide_type": "slide"
    }
   },
   "source": [
    "Or, as another example, suppose we only want `'species'` with at least 100 penguins:"
   ]
  },
  {
   "cell_type": "code",
   "execution_count": 50,
   "id": "a88db646",
   "metadata": {},
   "outputs": [
    {
     "data": {
      "text/html": [
       "<div>\n",
       "<style scoped>\n",
       "    .dataframe tbody tr th:only-of-type {\n",
       "        vertical-align: middle;\n",
       "    }\n",
       "\n",
       "    .dataframe tbody tr th {\n",
       "        vertical-align: top;\n",
       "    }\n",
       "\n",
       "    .dataframe thead th {\n",
       "        text-align: right;\n",
       "    }\n",
       "</style>\n",
       "<table border=\"1\" class=\"dataframe\">\n",
       "  <thead>\n",
       "    <tr style=\"text-align: right;\">\n",
       "      <th></th>\n",
       "      <th>species</th>\n",
       "      <th>island</th>\n",
       "      <th>bill_length_mm</th>\n",
       "      <th>bill_depth_mm</th>\n",
       "      <th>flipper_length_mm</th>\n",
       "      <th>body_mass_g</th>\n",
       "      <th>sex</th>\n",
       "    </tr>\n",
       "  </thead>\n",
       "  <tbody>\n",
       "    <tr>\n",
       "      <th>0</th>\n",
       "      <td>Adelie</td>\n",
       "      <td>Torgersen</td>\n",
       "      <td>39.1</td>\n",
       "      <td>18.7</td>\n",
       "      <td>181.0</td>\n",
       "      <td>3750.0</td>\n",
       "      <td>Male</td>\n",
       "    </tr>\n",
       "    <tr>\n",
       "      <th>1</th>\n",
       "      <td>Adelie</td>\n",
       "      <td>Torgersen</td>\n",
       "      <td>39.5</td>\n",
       "      <td>17.4</td>\n",
       "      <td>186.0</td>\n",
       "      <td>3800.0</td>\n",
       "      <td>Female</td>\n",
       "    </tr>\n",
       "    <tr>\n",
       "      <th>2</th>\n",
       "      <td>Adelie</td>\n",
       "      <td>Torgersen</td>\n",
       "      <td>40.3</td>\n",
       "      <td>18.0</td>\n",
       "      <td>195.0</td>\n",
       "      <td>3250.0</td>\n",
       "      <td>Female</td>\n",
       "    </tr>\n",
       "    <tr>\n",
       "      <th>4</th>\n",
       "      <td>Adelie</td>\n",
       "      <td>Torgersen</td>\n",
       "      <td>36.7</td>\n",
       "      <td>19.3</td>\n",
       "      <td>193.0</td>\n",
       "      <td>3450.0</td>\n",
       "      <td>Female</td>\n",
       "    </tr>\n",
       "    <tr>\n",
       "      <th>...</th>\n",
       "      <td>...</td>\n",
       "      <td>...</td>\n",
       "      <td>...</td>\n",
       "      <td>...</td>\n",
       "      <td>...</td>\n",
       "      <td>...</td>\n",
       "      <td>...</td>\n",
       "    </tr>\n",
       "    <tr>\n",
       "      <th>340</th>\n",
       "      <td>Gentoo</td>\n",
       "      <td>Biscoe</td>\n",
       "      <td>46.8</td>\n",
       "      <td>14.3</td>\n",
       "      <td>215.0</td>\n",
       "      <td>4850.0</td>\n",
       "      <td>Female</td>\n",
       "    </tr>\n",
       "    <tr>\n",
       "      <th>341</th>\n",
       "      <td>Gentoo</td>\n",
       "      <td>Biscoe</td>\n",
       "      <td>50.4</td>\n",
       "      <td>15.7</td>\n",
       "      <td>222.0</td>\n",
       "      <td>5750.0</td>\n",
       "      <td>Male</td>\n",
       "    </tr>\n",
       "    <tr>\n",
       "      <th>342</th>\n",
       "      <td>Gentoo</td>\n",
       "      <td>Biscoe</td>\n",
       "      <td>45.2</td>\n",
       "      <td>14.8</td>\n",
       "      <td>212.0</td>\n",
       "      <td>5200.0</td>\n",
       "      <td>Female</td>\n",
       "    </tr>\n",
       "    <tr>\n",
       "      <th>343</th>\n",
       "      <td>Gentoo</td>\n",
       "      <td>Biscoe</td>\n",
       "      <td>49.9</td>\n",
       "      <td>16.1</td>\n",
       "      <td>213.0</td>\n",
       "      <td>5400.0</td>\n",
       "      <td>Male</td>\n",
       "    </tr>\n",
       "  </tbody>\n",
       "</table>\n",
       "<p>265 rows × 7 columns</p>\n",
       "</div>"
      ],
      "text/plain": [
       "    species     island  bill_length_mm  bill_depth_mm  flipper_length_mm  \\\n",
       "0    Adelie  Torgersen            39.1           18.7              181.0   \n",
       "1    Adelie  Torgersen            39.5           17.4              186.0   \n",
       "2    Adelie  Torgersen            40.3           18.0              195.0   \n",
       "4    Adelie  Torgersen            36.7           19.3              193.0   \n",
       "..      ...        ...             ...            ...                ...   \n",
       "340  Gentoo     Biscoe            46.8           14.3              215.0   \n",
       "341  Gentoo     Biscoe            50.4           15.7              222.0   \n",
       "342  Gentoo     Biscoe            45.2           14.8              212.0   \n",
       "343  Gentoo     Biscoe            49.9           16.1              213.0   \n",
       "\n",
       "     body_mass_g     sex  \n",
       "0         3750.0    Male  \n",
       "1         3800.0  Female  \n",
       "2         3250.0  Female  \n",
       "4         3450.0  Female  \n",
       "..           ...     ...  \n",
       "340       4850.0  Female  \n",
       "341       5750.0    Male  \n",
       "342       5200.0  Female  \n",
       "343       5400.0    Male  \n",
       "\n",
       "[265 rows x 7 columns]"
      ]
     },
     "execution_count": 50,
     "metadata": {},
     "output_type": "execute_result"
    }
   ],
   "source": [
    "penguins.groupby('species').filter(lambda df: df.shape[0] > 100)"
   ]
  },
  {
   "cell_type": "markdown",
   "id": "4891c387",
   "metadata": {
    "slideshow": {
     "slide_type": "fragment"
    }
   },
   "source": [
    "No more `'Chinstrap'`s!"
   ]
  },
  {
   "cell_type": "markdown",
   "id": "8e376960",
   "metadata": {
    "slideshow": {
     "slide_type": "slide"
    }
   },
   "source": [
    "### Grouping with multiple columns\n",
    "\n",
    "When we group with multiple columns, one group is created for **every unique combination** of elements in the specified columns."
   ]
  },
  {
   "cell_type": "code",
   "execution_count": 51,
   "id": "a87917b8",
   "metadata": {},
   "outputs": [
    {
     "data": {
      "text/html": [
       "<div>\n",
       "<style scoped>\n",
       "    .dataframe tbody tr th:only-of-type {\n",
       "        vertical-align: middle;\n",
       "    }\n",
       "\n",
       "    .dataframe tbody tr th {\n",
       "        vertical-align: top;\n",
       "    }\n",
       "\n",
       "    .dataframe thead th {\n",
       "        text-align: right;\n",
       "    }\n",
       "</style>\n",
       "<table border=\"1\" class=\"dataframe\">\n",
       "  <thead>\n",
       "    <tr style=\"text-align: right;\">\n",
       "      <th></th>\n",
       "      <th></th>\n",
       "      <th>bill_length_mm</th>\n",
       "      <th>bill_depth_mm</th>\n",
       "      <th>flipper_length_mm</th>\n",
       "      <th>body_mass_g</th>\n",
       "    </tr>\n",
       "    <tr>\n",
       "      <th>species</th>\n",
       "      <th>island</th>\n",
       "      <th></th>\n",
       "      <th></th>\n",
       "      <th></th>\n",
       "      <th></th>\n",
       "    </tr>\n",
       "  </thead>\n",
       "  <tbody>\n",
       "    <tr>\n",
       "      <th rowspan=\"3\" valign=\"top\">Adelie</th>\n",
       "      <th>Biscoe</th>\n",
       "      <td>38.98</td>\n",
       "      <td>18.37</td>\n",
       "      <td>188.80</td>\n",
       "      <td>3709.66</td>\n",
       "    </tr>\n",
       "    <tr>\n",
       "      <th>Dream</th>\n",
       "      <td>38.52</td>\n",
       "      <td>18.24</td>\n",
       "      <td>189.93</td>\n",
       "      <td>3701.36</td>\n",
       "    </tr>\n",
       "    <tr>\n",
       "      <th>Torgersen</th>\n",
       "      <td>39.04</td>\n",
       "      <td>18.45</td>\n",
       "      <td>191.53</td>\n",
       "      <td>3708.51</td>\n",
       "    </tr>\n",
       "    <tr>\n",
       "      <th>Chinstrap</th>\n",
       "      <th>Dream</th>\n",
       "      <td>48.83</td>\n",
       "      <td>18.42</td>\n",
       "      <td>195.82</td>\n",
       "      <td>3733.09</td>\n",
       "    </tr>\n",
       "    <tr>\n",
       "      <th>Gentoo</th>\n",
       "      <th>Biscoe</th>\n",
       "      <td>47.57</td>\n",
       "      <td>15.00</td>\n",
       "      <td>217.24</td>\n",
       "      <td>5092.44</td>\n",
       "    </tr>\n",
       "  </tbody>\n",
       "</table>\n",
       "</div>"
      ],
      "text/plain": [
       "                     bill_length_mm  bill_depth_mm  flipper_length_mm  \\\n",
       "species   island                                                        \n",
       "Adelie    Biscoe              38.98          18.37             188.80   \n",
       "          Dream               38.52          18.24             189.93   \n",
       "          Torgersen           39.04          18.45             191.53   \n",
       "Chinstrap Dream               48.83          18.42             195.82   \n",
       "Gentoo    Biscoe              47.57          15.00             217.24   \n",
       "\n",
       "                     body_mass_g  \n",
       "species   island                  \n",
       "Adelie    Biscoe         3709.66  \n",
       "          Dream          3701.36  \n",
       "          Torgersen      3708.51  \n",
       "Chinstrap Dream          3733.09  \n",
       "Gentoo    Biscoe         5092.44  "
      ]
     },
     "execution_count": 51,
     "metadata": {},
     "output_type": "execute_result"
    }
   ],
   "source": [
    "species_and_island = penguins.groupby(['species', 'island']).mean()\n",
    "species_and_island"
   ]
  },
  {
   "cell_type": "markdown",
   "id": "db94be88",
   "metadata": {
    "slideshow": {
     "slide_type": "slide"
    }
   },
   "source": [
    "### Grouping and indexes\n",
    "\n",
    "- The `groupby` method creates an index based on the specified columns.\n",
    "- When grouping by multiple columns, the resulting DataFrame has a `MultiIndex`.\n",
    "- Advice: When working with a `MultiIndex`, use `reset_index` or set `as_index=False` in `groupby`."
   ]
  },
  {
   "cell_type": "code",
   "execution_count": 52,
   "id": "7ade0a51",
   "metadata": {},
   "outputs": [
    {
     "data": {
      "text/html": [
       "<div>\n",
       "<style scoped>\n",
       "    .dataframe tbody tr th:only-of-type {\n",
       "        vertical-align: middle;\n",
       "    }\n",
       "\n",
       "    .dataframe tbody tr th {\n",
       "        vertical-align: top;\n",
       "    }\n",
       "\n",
       "    .dataframe thead th {\n",
       "        text-align: right;\n",
       "    }\n",
       "</style>\n",
       "<table border=\"1\" class=\"dataframe\">\n",
       "  <thead>\n",
       "    <tr style=\"text-align: right;\">\n",
       "      <th></th>\n",
       "      <th></th>\n",
       "      <th>bill_length_mm</th>\n",
       "      <th>bill_depth_mm</th>\n",
       "      <th>flipper_length_mm</th>\n",
       "      <th>body_mass_g</th>\n",
       "    </tr>\n",
       "    <tr>\n",
       "      <th>species</th>\n",
       "      <th>island</th>\n",
       "      <th></th>\n",
       "      <th></th>\n",
       "      <th></th>\n",
       "      <th></th>\n",
       "    </tr>\n",
       "  </thead>\n",
       "  <tbody>\n",
       "    <tr>\n",
       "      <th rowspan=\"3\" valign=\"top\">Adelie</th>\n",
       "      <th>Biscoe</th>\n",
       "      <td>38.98</td>\n",
       "      <td>18.37</td>\n",
       "      <td>188.80</td>\n",
       "      <td>3709.66</td>\n",
       "    </tr>\n",
       "    <tr>\n",
       "      <th>Dream</th>\n",
       "      <td>38.52</td>\n",
       "      <td>18.24</td>\n",
       "      <td>189.93</td>\n",
       "      <td>3701.36</td>\n",
       "    </tr>\n",
       "    <tr>\n",
       "      <th>Torgersen</th>\n",
       "      <td>39.04</td>\n",
       "      <td>18.45</td>\n",
       "      <td>191.53</td>\n",
       "      <td>3708.51</td>\n",
       "    </tr>\n",
       "    <tr>\n",
       "      <th>Chinstrap</th>\n",
       "      <th>Dream</th>\n",
       "      <td>48.83</td>\n",
       "      <td>18.42</td>\n",
       "      <td>195.82</td>\n",
       "      <td>3733.09</td>\n",
       "    </tr>\n",
       "    <tr>\n",
       "      <th>Gentoo</th>\n",
       "      <th>Biscoe</th>\n",
       "      <td>47.57</td>\n",
       "      <td>15.00</td>\n",
       "      <td>217.24</td>\n",
       "      <td>5092.44</td>\n",
       "    </tr>\n",
       "  </tbody>\n",
       "</table>\n",
       "</div>"
      ],
      "text/plain": [
       "                     bill_length_mm  bill_depth_mm  flipper_length_mm  \\\n",
       "species   island                                                        \n",
       "Adelie    Biscoe              38.98          18.37             188.80   \n",
       "          Dream               38.52          18.24             189.93   \n",
       "          Torgersen           39.04          18.45             191.53   \n",
       "Chinstrap Dream               48.83          18.42             195.82   \n",
       "Gentoo    Biscoe              47.57          15.00             217.24   \n",
       "\n",
       "                     body_mass_g  \n",
       "species   island                  \n",
       "Adelie    Biscoe         3709.66  \n",
       "          Dream          3701.36  \n",
       "          Torgersen      3708.51  \n",
       "Chinstrap Dream          3733.09  \n",
       "Gentoo    Biscoe         5092.44  "
      ]
     },
     "execution_count": 52,
     "metadata": {},
     "output_type": "execute_result"
    }
   ],
   "source": [
    "species_and_island"
   ]
  },
  {
   "cell_type": "code",
   "execution_count": 53,
   "id": "771e57f5",
   "metadata": {},
   "outputs": [
    {
     "data": {
      "text/plain": [
       "species    island   \n",
       "Adelie     Biscoe       3709.66\n",
       "           Dream        3701.36\n",
       "           Torgersen    3708.51\n",
       "Chinstrap  Dream        3733.09\n",
       "Gentoo     Biscoe       5092.44\n",
       "Name: body_mass_g, dtype: float64"
      ]
     },
     "execution_count": 53,
     "metadata": {},
     "output_type": "execute_result"
    }
   ],
   "source": [
    "species_and_island['body_mass_g']"
   ]
  },
  {
   "cell_type": "code",
   "execution_count": 54,
   "id": "bb58b9eb",
   "metadata": {},
   "outputs": [
    {
     "data": {
      "text/html": [
       "<div>\n",
       "<style scoped>\n",
       "    .dataframe tbody tr th:only-of-type {\n",
       "        vertical-align: middle;\n",
       "    }\n",
       "\n",
       "    .dataframe tbody tr th {\n",
       "        vertical-align: top;\n",
       "    }\n",
       "\n",
       "    .dataframe thead th {\n",
       "        text-align: right;\n",
       "    }\n",
       "</style>\n",
       "<table border=\"1\" class=\"dataframe\">\n",
       "  <thead>\n",
       "    <tr style=\"text-align: right;\">\n",
       "      <th></th>\n",
       "      <th>bill_length_mm</th>\n",
       "      <th>bill_depth_mm</th>\n",
       "      <th>flipper_length_mm</th>\n",
       "      <th>body_mass_g</th>\n",
       "    </tr>\n",
       "    <tr>\n",
       "      <th>island</th>\n",
       "      <th></th>\n",
       "      <th></th>\n",
       "      <th></th>\n",
       "      <th></th>\n",
       "    </tr>\n",
       "  </thead>\n",
       "  <tbody>\n",
       "    <tr>\n",
       "      <th>Biscoe</th>\n",
       "      <td>38.98</td>\n",
       "      <td>18.37</td>\n",
       "      <td>188.80</td>\n",
       "      <td>3709.66</td>\n",
       "    </tr>\n",
       "    <tr>\n",
       "      <th>Dream</th>\n",
       "      <td>38.52</td>\n",
       "      <td>18.24</td>\n",
       "      <td>189.93</td>\n",
       "      <td>3701.36</td>\n",
       "    </tr>\n",
       "    <tr>\n",
       "      <th>Torgersen</th>\n",
       "      <td>39.04</td>\n",
       "      <td>18.45</td>\n",
       "      <td>191.53</td>\n",
       "      <td>3708.51</td>\n",
       "    </tr>\n",
       "  </tbody>\n",
       "</table>\n",
       "</div>"
      ],
      "text/plain": [
       "           bill_length_mm  bill_depth_mm  flipper_length_mm  body_mass_g\n",
       "island                                                                  \n",
       "Biscoe              38.98          18.37             188.80      3709.66\n",
       "Dream               38.52          18.24             189.93      3701.36\n",
       "Torgersen           39.04          18.45             191.53      3708.51"
      ]
     },
     "execution_count": 54,
     "metadata": {},
     "output_type": "execute_result"
    }
   ],
   "source": [
    "species_and_island.loc['Adelie']"
   ]
  },
  {
   "cell_type": "code",
   "execution_count": 55,
   "id": "4bc553eb",
   "metadata": {},
   "outputs": [
    {
     "data": {
      "text/plain": [
       "bill_length_mm         39.04\n",
       "bill_depth_mm          18.45\n",
       "flipper_length_mm     191.53\n",
       "body_mass_g          3708.51\n",
       "Name: (Adelie, Torgersen), dtype: float64"
      ]
     },
     "execution_count": 55,
     "metadata": {},
     "output_type": "execute_result"
    }
   ],
   "source": [
    "species_and_island.loc[('Adelie', 'Torgersen')]"
   ]
  },
  {
   "cell_type": "code",
   "execution_count": 56,
   "id": "ca4039ed",
   "metadata": {},
   "outputs": [
    {
     "data": {
      "text/html": [
       "<div>\n",
       "<style scoped>\n",
       "    .dataframe tbody tr th:only-of-type {\n",
       "        vertical-align: middle;\n",
       "    }\n",
       "\n",
       "    .dataframe tbody tr th {\n",
       "        vertical-align: top;\n",
       "    }\n",
       "\n",
       "    .dataframe thead th {\n",
       "        text-align: right;\n",
       "    }\n",
       "</style>\n",
       "<table border=\"1\" class=\"dataframe\">\n",
       "  <thead>\n",
       "    <tr style=\"text-align: right;\">\n",
       "      <th></th>\n",
       "      <th>species</th>\n",
       "      <th>island</th>\n",
       "      <th>bill_length_mm</th>\n",
       "      <th>bill_depth_mm</th>\n",
       "      <th>flipper_length_mm</th>\n",
       "      <th>body_mass_g</th>\n",
       "    </tr>\n",
       "  </thead>\n",
       "  <tbody>\n",
       "    <tr>\n",
       "      <th>0</th>\n",
       "      <td>Adelie</td>\n",
       "      <td>Biscoe</td>\n",
       "      <td>38.98</td>\n",
       "      <td>18.37</td>\n",
       "      <td>188.80</td>\n",
       "      <td>3709.66</td>\n",
       "    </tr>\n",
       "    <tr>\n",
       "      <th>1</th>\n",
       "      <td>Adelie</td>\n",
       "      <td>Dream</td>\n",
       "      <td>38.52</td>\n",
       "      <td>18.24</td>\n",
       "      <td>189.93</td>\n",
       "      <td>3701.36</td>\n",
       "    </tr>\n",
       "    <tr>\n",
       "      <th>2</th>\n",
       "      <td>Adelie</td>\n",
       "      <td>Torgersen</td>\n",
       "      <td>39.04</td>\n",
       "      <td>18.45</td>\n",
       "      <td>191.53</td>\n",
       "      <td>3708.51</td>\n",
       "    </tr>\n",
       "    <tr>\n",
       "      <th>3</th>\n",
       "      <td>Chinstrap</td>\n",
       "      <td>Dream</td>\n",
       "      <td>48.83</td>\n",
       "      <td>18.42</td>\n",
       "      <td>195.82</td>\n",
       "      <td>3733.09</td>\n",
       "    </tr>\n",
       "    <tr>\n",
       "      <th>4</th>\n",
       "      <td>Gentoo</td>\n",
       "      <td>Biscoe</td>\n",
       "      <td>47.57</td>\n",
       "      <td>15.00</td>\n",
       "      <td>217.24</td>\n",
       "      <td>5092.44</td>\n",
       "    </tr>\n",
       "  </tbody>\n",
       "</table>\n",
       "</div>"
      ],
      "text/plain": [
       "     species     island  bill_length_mm  bill_depth_mm  flipper_length_mm  \\\n",
       "0     Adelie     Biscoe           38.98          18.37             188.80   \n",
       "1     Adelie      Dream           38.52          18.24             189.93   \n",
       "2     Adelie  Torgersen           39.04          18.45             191.53   \n",
       "3  Chinstrap      Dream           48.83          18.42             195.82   \n",
       "4     Gentoo     Biscoe           47.57          15.00             217.24   \n",
       "\n",
       "   body_mass_g  \n",
       "0      3709.66  \n",
       "1      3701.36  \n",
       "2      3708.51  \n",
       "3      3733.09  \n",
       "4      5092.44  "
      ]
     },
     "execution_count": 56,
     "metadata": {},
     "output_type": "execute_result"
    }
   ],
   "source": [
    "species_and_island.reset_index()"
   ]
  },
  {
   "cell_type": "code",
   "execution_count": 57,
   "id": "8b35fbd1",
   "metadata": {},
   "outputs": [
    {
     "data": {
      "text/html": [
       "<div>\n",
       "<style scoped>\n",
       "    .dataframe tbody tr th:only-of-type {\n",
       "        vertical-align: middle;\n",
       "    }\n",
       "\n",
       "    .dataframe tbody tr th {\n",
       "        vertical-align: top;\n",
       "    }\n",
       "\n",
       "    .dataframe thead th {\n",
       "        text-align: right;\n",
       "    }\n",
       "</style>\n",
       "<table border=\"1\" class=\"dataframe\">\n",
       "  <thead>\n",
       "    <tr style=\"text-align: right;\">\n",
       "      <th></th>\n",
       "      <th>species</th>\n",
       "      <th>island</th>\n",
       "      <th>bill_length_mm</th>\n",
       "      <th>bill_depth_mm</th>\n",
       "      <th>flipper_length_mm</th>\n",
       "      <th>body_mass_g</th>\n",
       "    </tr>\n",
       "  </thead>\n",
       "  <tbody>\n",
       "    <tr>\n",
       "      <th>0</th>\n",
       "      <td>Adelie</td>\n",
       "      <td>Biscoe</td>\n",
       "      <td>38.98</td>\n",
       "      <td>18.37</td>\n",
       "      <td>188.80</td>\n",
       "      <td>3709.66</td>\n",
       "    </tr>\n",
       "    <tr>\n",
       "      <th>1</th>\n",
       "      <td>Adelie</td>\n",
       "      <td>Dream</td>\n",
       "      <td>38.52</td>\n",
       "      <td>18.24</td>\n",
       "      <td>189.93</td>\n",
       "      <td>3701.36</td>\n",
       "    </tr>\n",
       "    <tr>\n",
       "      <th>2</th>\n",
       "      <td>Adelie</td>\n",
       "      <td>Torgersen</td>\n",
       "      <td>39.04</td>\n",
       "      <td>18.45</td>\n",
       "      <td>191.53</td>\n",
       "      <td>3708.51</td>\n",
       "    </tr>\n",
       "    <tr>\n",
       "      <th>3</th>\n",
       "      <td>Chinstrap</td>\n",
       "      <td>Dream</td>\n",
       "      <td>48.83</td>\n",
       "      <td>18.42</td>\n",
       "      <td>195.82</td>\n",
       "      <td>3733.09</td>\n",
       "    </tr>\n",
       "    <tr>\n",
       "      <th>4</th>\n",
       "      <td>Gentoo</td>\n",
       "      <td>Biscoe</td>\n",
       "      <td>47.57</td>\n",
       "      <td>15.00</td>\n",
       "      <td>217.24</td>\n",
       "      <td>5092.44</td>\n",
       "    </tr>\n",
       "  </tbody>\n",
       "</table>\n",
       "</div>"
      ],
      "text/plain": [
       "     species     island  bill_length_mm  bill_depth_mm  flipper_length_mm  \\\n",
       "0     Adelie     Biscoe           38.98          18.37             188.80   \n",
       "1     Adelie      Dream           38.52          18.24             189.93   \n",
       "2     Adelie  Torgersen           39.04          18.45             191.53   \n",
       "3  Chinstrap      Dream           48.83          18.42             195.82   \n",
       "4     Gentoo     Biscoe           47.57          15.00             217.24   \n",
       "\n",
       "   body_mass_g  \n",
       "0      3709.66  \n",
       "1      3701.36  \n",
       "2      3708.51  \n",
       "3      3733.09  \n",
       "4      5092.44  "
      ]
     },
     "execution_count": 57,
     "metadata": {},
     "output_type": "execute_result"
    }
   ],
   "source": [
    "penguins.groupby(['species', 'island'], as_index=False).mean()"
   ]
  },
  {
   "cell_type": "markdown",
   "id": "2e9f025f",
   "metadata": {
    "slideshow": {
     "slide_type": "slide"
    }
   },
   "source": [
    "## Discussion: Checking your knowledge\n",
    "\n",
    "Find the most popular male and female baby name for each year in the dataset. Exclude years where there were fewer than 1 million births recorded."
   ]
  },
  {
   "cell_type": "code",
   "execution_count": 58,
   "id": "73e04e4b",
   "metadata": {},
   "outputs": [
    {
     "data": {
      "text/html": [
       "<div>\n",
       "<style scoped>\n",
       "    .dataframe tbody tr th:only-of-type {\n",
       "        vertical-align: middle;\n",
       "    }\n",
       "\n",
       "    .dataframe tbody tr th {\n",
       "        vertical-align: top;\n",
       "    }\n",
       "\n",
       "    .dataframe thead th {\n",
       "        text-align: right;\n",
       "    }\n",
       "</style>\n",
       "<table border=\"1\" class=\"dataframe\">\n",
       "  <thead>\n",
       "    <tr style=\"text-align: right;\">\n",
       "      <th></th>\n",
       "      <th>Name</th>\n",
       "      <th>Sex</th>\n",
       "      <th>Count</th>\n",
       "      <th>Year</th>\n",
       "    </tr>\n",
       "  </thead>\n",
       "  <tbody>\n",
       "    <tr>\n",
       "      <th>0</th>\n",
       "      <td>Liam</td>\n",
       "      <td>M</td>\n",
       "      <td>20456</td>\n",
       "      <td>2022</td>\n",
       "    </tr>\n",
       "    <tr>\n",
       "      <th>1</th>\n",
       "      <td>Noah</td>\n",
       "      <td>M</td>\n",
       "      <td>18621</td>\n",
       "      <td>2022</td>\n",
       "    </tr>\n",
       "    <tr>\n",
       "      <th>2</th>\n",
       "      <td>Olivia</td>\n",
       "      <td>F</td>\n",
       "      <td>16573</td>\n",
       "      <td>2022</td>\n",
       "    </tr>\n",
       "    <tr>\n",
       "      <th>3</th>\n",
       "      <td>Oliver</td>\n",
       "      <td>M</td>\n",
       "      <td>15076</td>\n",
       "      <td>2022</td>\n",
       "    </tr>\n",
       "    <tr>\n",
       "      <th>...</th>\n",
       "      <td>...</td>\n",
       "      <td>...</td>\n",
       "      <td>...</td>\n",
       "      <td>...</td>\n",
       "    </tr>\n",
       "    <tr>\n",
       "      <th>2085154</th>\n",
       "      <td>Worthy</td>\n",
       "      <td>M</td>\n",
       "      <td>5</td>\n",
       "      <td>1880</td>\n",
       "    </tr>\n",
       "    <tr>\n",
       "      <th>2085155</th>\n",
       "      <td>Wright</td>\n",
       "      <td>M</td>\n",
       "      <td>5</td>\n",
       "      <td>1880</td>\n",
       "    </tr>\n",
       "    <tr>\n",
       "      <th>2085156</th>\n",
       "      <td>York</td>\n",
       "      <td>M</td>\n",
       "      <td>5</td>\n",
       "      <td>1880</td>\n",
       "    </tr>\n",
       "    <tr>\n",
       "      <th>2085157</th>\n",
       "      <td>Zachariah</td>\n",
       "      <td>M</td>\n",
       "      <td>5</td>\n",
       "      <td>1880</td>\n",
       "    </tr>\n",
       "  </tbody>\n",
       "</table>\n",
       "<p>2085158 rows × 4 columns</p>\n",
       "</div>"
      ],
      "text/plain": [
       "              Name Sex  Count  Year\n",
       "0             Liam   M  20456  2022\n",
       "1             Noah   M  18621  2022\n",
       "2           Olivia   F  16573  2022\n",
       "3           Oliver   M  15076  2022\n",
       "...            ...  ..    ...   ...\n",
       "2085154     Worthy   M      5  1880\n",
       "2085155     Wright   M      5  1880\n",
       "2085156       York   M      5  1880\n",
       "2085157  Zachariah   M      5  1880\n",
       "\n",
       "[2085158 rows x 4 columns]"
      ]
     },
     "execution_count": 58,
     "metadata": {},
     "output_type": "execute_result"
    }
   ],
   "source": [
    "baby = pd.read_csv('data/baby.csv')\n",
    "baby"
   ]
  },
  {
   "cell_type": "code",
   "execution_count": 59,
   "id": "dcabd1d5",
   "metadata": {},
   "outputs": [],
   "source": [
    "# Fill me in"
   ]
  },
  {
   "cell_type": "markdown",
   "id": "191b9073",
   "metadata": {
    "slideshow": {
     "slide_type": "slide"
    }
   },
   "source": [
    "## Pivot Tables: An extension of grouping\n",
    "\n",
    "Pivot tables are a compact way to display tables for humans to read:\n",
    "\n",
    "<table border=\"1\" class=\"dataframe\">\n",
    "  <thead>\n",
    "    <tr style=\"text-align: right;\">\n",
    "      <th>Sex</th>\n",
    "      <th>F</th>\n",
    "      <th>M</th>\n",
    "    </tr>\n",
    "    <tr>\n",
    "      <th>Year</th>\n",
    "      <th></th>\n",
    "      <th></th>\n",
    "    </tr>\n",
    "  </thead>\n",
    "  <tbody>\n",
    "    <tr>\n",
    "      <th>2018</th>\n",
    "      <td>1698373</td>\n",
    "      <td>1813377</td>\n",
    "    </tr>\n",
    "    <tr>\n",
    "      <th>2019</th>\n",
    "      <td>1675139</td>\n",
    "      <td>1790682</td>\n",
    "    </tr>\n",
    "    <tr>\n",
    "      <th>2020</th>\n",
    "      <td>1612393</td>\n",
    "      <td>1721588</td>\n",
    "    </tr>\n",
    "    <tr>\n",
    "      <th>2021</th>\n",
    "      <td>1635800</td>\n",
    "      <td>1743913</td>\n",
    "    </tr>\n",
    "    <tr>\n",
    "      <th>2022</th>\n",
    "      <td>1628730</td>\n",
    "      <td>1733166</td>\n",
    "    </tr>\n",
    "  </tbody>\n",
    "</table>"
   ]
  },
  {
   "cell_type": "markdown",
   "id": "064305ac",
   "metadata": {
    "slideshow": {
     "slide_type": "fragment"
    }
   },
   "source": [
    "- Notice that each value in the table is a sum over the counts, split by year and sex.\n",
    "- You can think of pivot tables as grouping using two columns, then \"pivoting\" one of the group keys into columns"
   ]
  },
  {
   "cell_type": "markdown",
   "id": "3b6c0de2",
   "metadata": {
    "slideshow": {
     "slide_type": "slide"
    }
   },
   "source": [
    "### `pivot_table`\n",
    "\n",
    "The `pivot_table` DataFrame method aggregates a DataFrame using two columns. To use it:\n",
    "\n",
    "```py\n",
    "df.pivot_table(index=index_col,\n",
    "               columns=columns_col,\n",
    "               values=values_col,\n",
    "               aggfunc=func)\n",
    "```\n",
    "The resulting DataFrame will have:\n",
    "- One row for every unique value in `index_col`.\n",
    "- One column for every unique value in `columns_col`.\n",
    "- Values determined by applying `func` on values in `values_col`."
   ]
  },
  {
   "cell_type": "code",
   "execution_count": 60,
   "id": "1d891326",
   "metadata": {},
   "outputs": [],
   "source": [
    "last_5_years = baby.query('Year >= 2018')"
   ]
  },
  {
   "cell_type": "code",
   "execution_count": 61,
   "id": "fcb474ed",
   "metadata": {
    "slideshow": {
     "slide_type": ""
    }
   },
   "outputs": [
    {
     "data": {
      "text/html": [
       "<div>\n",
       "<style scoped>\n",
       "    .dataframe tbody tr th:only-of-type {\n",
       "        vertical-align: middle;\n",
       "    }\n",
       "\n",
       "    .dataframe tbody tr th {\n",
       "        vertical-align: top;\n",
       "    }\n",
       "\n",
       "    .dataframe thead th {\n",
       "        text-align: right;\n",
       "    }\n",
       "</style>\n",
       "<table border=\"1\" class=\"dataframe\">\n",
       "  <thead>\n",
       "    <tr style=\"text-align: right;\">\n",
       "      <th>Sex</th>\n",
       "      <th>F</th>\n",
       "      <th>M</th>\n",
       "    </tr>\n",
       "    <tr>\n",
       "      <th>Year</th>\n",
       "      <th></th>\n",
       "      <th></th>\n",
       "    </tr>\n",
       "  </thead>\n",
       "  <tbody>\n",
       "    <tr>\n",
       "      <th>2018</th>\n",
       "      <td>1698373</td>\n",
       "      <td>1813377</td>\n",
       "    </tr>\n",
       "    <tr>\n",
       "      <th>2019</th>\n",
       "      <td>1675139</td>\n",
       "      <td>1790682</td>\n",
       "    </tr>\n",
       "    <tr>\n",
       "      <th>2020</th>\n",
       "      <td>1612393</td>\n",
       "      <td>1721588</td>\n",
       "    </tr>\n",
       "    <tr>\n",
       "      <th>2021</th>\n",
       "      <td>1635800</td>\n",
       "      <td>1743913</td>\n",
       "    </tr>\n",
       "    <tr>\n",
       "      <th>2022</th>\n",
       "      <td>1628730</td>\n",
       "      <td>1733166</td>\n",
       "    </tr>\n",
       "  </tbody>\n",
       "</table>\n",
       "</div>"
      ],
      "text/plain": [
       "Sex         F        M\n",
       "Year                  \n",
       "2018  1698373  1813377\n",
       "2019  1675139  1790682\n",
       "2020  1612393  1721588\n",
       "2021  1635800  1743913\n",
       "2022  1628730  1733166"
      ]
     },
     "execution_count": 61,
     "metadata": {},
     "output_type": "execute_result"
    }
   ],
   "source": [
    "last_5_years.pivot_table(\n",
    "    index='Year',\n",
    "    columns='Sex',\n",
    "    values='Count',\n",
    "    aggfunc='sum',\n",
    ")"
   ]
  },
  {
   "cell_type": "code",
   "execution_count": 62,
   "id": "8e77809b",
   "metadata": {},
   "outputs": [
    {
     "data": {
      "text/html": [
       "<div>\n",
       "<style scoped>\n",
       "    .dataframe tbody tr th:only-of-type {\n",
       "        vertical-align: middle;\n",
       "    }\n",
       "\n",
       "    .dataframe tbody tr th {\n",
       "        vertical-align: top;\n",
       "    }\n",
       "\n",
       "    .dataframe thead th {\n",
       "        text-align: right;\n",
       "    }\n",
       "</style>\n",
       "<table border=\"1\" class=\"dataframe\">\n",
       "  <thead>\n",
       "    <tr style=\"text-align: right;\">\n",
       "      <th>Sex</th>\n",
       "      <th>F</th>\n",
       "      <th>M</th>\n",
       "    </tr>\n",
       "    <tr>\n",
       "      <th>Year</th>\n",
       "      <th></th>\n",
       "      <th></th>\n",
       "    </tr>\n",
       "  </thead>\n",
       "  <tbody>\n",
       "    <tr>\n",
       "      <th>2018</th>\n",
       "      <td>1698373</td>\n",
       "      <td>1813377</td>\n",
       "    </tr>\n",
       "    <tr>\n",
       "      <th>2019</th>\n",
       "      <td>1675139</td>\n",
       "      <td>1790682</td>\n",
       "    </tr>\n",
       "    <tr>\n",
       "      <th>2020</th>\n",
       "      <td>1612393</td>\n",
       "      <td>1721588</td>\n",
       "    </tr>\n",
       "    <tr>\n",
       "      <th>2021</th>\n",
       "      <td>1635800</td>\n",
       "      <td>1743913</td>\n",
       "    </tr>\n",
       "    <tr>\n",
       "      <th>2022</th>\n",
       "      <td>1628730</td>\n",
       "      <td>1733166</td>\n",
       "    </tr>\n",
       "  </tbody>\n",
       "</table>\n",
       "</div>"
      ],
      "text/plain": [
       "Sex         F        M\n",
       "Year                  \n",
       "2018  1698373  1813377\n",
       "2019  1675139  1790682\n",
       "2020  1612393  1721588\n",
       "2021  1635800  1743913\n",
       "2022  1628730  1733166"
      ]
     },
     "execution_count": 62,
     "metadata": {},
     "output_type": "execute_result"
    }
   ],
   "source": [
    "# Look at the similarity to the snippet above\n",
    "(last_5_years\n",
    " .groupby(['Year', 'Sex'])\n",
    " ['Count']\n",
    " .sum()\n",
    " .unstack('Sex')\n",
    ")"
   ]
  },
  {
   "cell_type": "markdown",
   "id": "5668bc16",
   "metadata": {
    "slideshow": {
     "slide_type": "slide"
    }
   },
   "source": [
    "### Example:\n",
    "\n",
    "Find the number of penguins per island and species."
   ]
  },
  {
   "cell_type": "code",
   "execution_count": 63,
   "id": "099f7869",
   "metadata": {},
   "outputs": [
    {
     "data": {
      "text/html": [
       "<div>\n",
       "<style scoped>\n",
       "    .dataframe tbody tr th:only-of-type {\n",
       "        vertical-align: middle;\n",
       "    }\n",
       "\n",
       "    .dataframe tbody tr th {\n",
       "        vertical-align: top;\n",
       "    }\n",
       "\n",
       "    .dataframe thead th {\n",
       "        text-align: right;\n",
       "    }\n",
       "</style>\n",
       "<table border=\"1\" class=\"dataframe\">\n",
       "  <thead>\n",
       "    <tr style=\"text-align: right;\">\n",
       "      <th>island</th>\n",
       "      <th>Biscoe</th>\n",
       "      <th>Dream</th>\n",
       "      <th>Torgersen</th>\n",
       "    </tr>\n",
       "    <tr>\n",
       "      <th>species</th>\n",
       "      <th></th>\n",
       "      <th></th>\n",
       "      <th></th>\n",
       "    </tr>\n",
       "  </thead>\n",
       "  <tbody>\n",
       "    <tr>\n",
       "      <th>Adelie</th>\n",
       "      <td>44.0</td>\n",
       "      <td>55.0</td>\n",
       "      <td>47.0</td>\n",
       "    </tr>\n",
       "    <tr>\n",
       "      <th>Chinstrap</th>\n",
       "      <td>NaN</td>\n",
       "      <td>68.0</td>\n",
       "      <td>NaN</td>\n",
       "    </tr>\n",
       "    <tr>\n",
       "      <th>Gentoo</th>\n",
       "      <td>119.0</td>\n",
       "      <td>NaN</td>\n",
       "      <td>NaN</td>\n",
       "    </tr>\n",
       "  </tbody>\n",
       "</table>\n",
       "</div>"
      ],
      "text/plain": [
       "island     Biscoe  Dream  Torgersen\n",
       "species                            \n",
       "Adelie       44.0   55.0       47.0\n",
       "Chinstrap     NaN   68.0        NaN\n",
       "Gentoo      119.0    NaN        NaN"
      ]
     },
     "execution_count": 63,
     "metadata": {},
     "output_type": "execute_result"
    }
   ],
   "source": [
    "penguins.pivot_table(\n",
    "    index='species', \n",
    "    columns='island', \n",
    "    values='bill_length_mm', # Choice of column here doesn't actually matter\n",
    "    aggfunc='count',\n",
    ")"
   ]
  },
  {
   "cell_type": "markdown",
   "id": "b3f69a47",
   "metadata": {
    "slideshow": {
     "slide_type": "fragment"
    }
   },
   "source": [
    "Note that there is a `NaN` at the intersection of `'Biscoe'` and `'Chinstrap'`, because there were no Chinstrap penguins on Biscoe Island.\n",
    "\n",
    "We can either use the `fillna` method afterwards or the `fill_value` argument to fill in `NaN`s."
   ]
  },
  {
   "cell_type": "code",
   "execution_count": 64,
   "id": "0867a074",
   "metadata": {},
   "outputs": [
    {
     "data": {
      "text/html": [
       "<div>\n",
       "<style scoped>\n",
       "    .dataframe tbody tr th:only-of-type {\n",
       "        vertical-align: middle;\n",
       "    }\n",
       "\n",
       "    .dataframe tbody tr th {\n",
       "        vertical-align: top;\n",
       "    }\n",
       "\n",
       "    .dataframe thead th {\n",
       "        text-align: right;\n",
       "    }\n",
       "</style>\n",
       "<table border=\"1\" class=\"dataframe\">\n",
       "  <thead>\n",
       "    <tr style=\"text-align: right;\">\n",
       "      <th>island</th>\n",
       "      <th>Biscoe</th>\n",
       "      <th>Dream</th>\n",
       "      <th>Torgersen</th>\n",
       "    </tr>\n",
       "    <tr>\n",
       "      <th>species</th>\n",
       "      <th></th>\n",
       "      <th></th>\n",
       "      <th></th>\n",
       "    </tr>\n",
       "  </thead>\n",
       "  <tbody>\n",
       "    <tr>\n",
       "      <th>Adelie</th>\n",
       "      <td>44</td>\n",
       "      <td>55</td>\n",
       "      <td>47</td>\n",
       "    </tr>\n",
       "    <tr>\n",
       "      <th>Chinstrap</th>\n",
       "      <td>0</td>\n",
       "      <td>68</td>\n",
       "      <td>0</td>\n",
       "    </tr>\n",
       "    <tr>\n",
       "      <th>Gentoo</th>\n",
       "      <td>119</td>\n",
       "      <td>0</td>\n",
       "      <td>0</td>\n",
       "    </tr>\n",
       "  </tbody>\n",
       "</table>\n",
       "</div>"
      ],
      "text/plain": [
       "island     Biscoe  Dream  Torgersen\n",
       "species                            \n",
       "Adelie         44     55         47\n",
       "Chinstrap       0     68          0\n",
       "Gentoo        119      0          0"
      ]
     },
     "execution_count": 64,
     "metadata": {},
     "output_type": "execute_result"
    }
   ],
   "source": [
    "penguins.pivot_table(\n",
    "    index='species', \n",
    "    columns='island', \n",
    "    values='bill_length_mm', \n",
    "    aggfunc='count',\n",
    "    fill_value=0,\n",
    ")"
   ]
  },
  {
   "cell_type": "markdown",
   "id": "5795da71",
   "metadata": {
    "slideshow": {
     "slide_type": "slide"
    }
   },
   "source": [
    "### Granularity, revisited\n",
    "\n",
    "Take another look at the pivot table from the previous cell. Each row of the original `penguins` represented a single penguin, and each column represented features of the penguins.\n",
    "\n",
    "What is the granularity of this table?"
   ]
  },
  {
   "cell_type": "code",
   "execution_count": 65,
   "id": "665f8bb3",
   "metadata": {},
   "outputs": [
    {
     "data": {
      "text/html": [
       "<div>\n",
       "<style scoped>\n",
       "    .dataframe tbody tr th:only-of-type {\n",
       "        vertical-align: middle;\n",
       "    }\n",
       "\n",
       "    .dataframe tbody tr th {\n",
       "        vertical-align: top;\n",
       "    }\n",
       "\n",
       "    .dataframe thead th {\n",
       "        text-align: right;\n",
       "    }\n",
       "</style>\n",
       "<table border=\"1\" class=\"dataframe\">\n",
       "  <thead>\n",
       "    <tr style=\"text-align: right;\">\n",
       "      <th>island</th>\n",
       "      <th>Biscoe</th>\n",
       "      <th>Dream</th>\n",
       "      <th>Torgersen</th>\n",
       "    </tr>\n",
       "    <tr>\n",
       "      <th>species</th>\n",
       "      <th></th>\n",
       "      <th></th>\n",
       "      <th></th>\n",
       "    </tr>\n",
       "  </thead>\n",
       "  <tbody>\n",
       "    <tr>\n",
       "      <th>Adelie</th>\n",
       "      <td>44</td>\n",
       "      <td>55</td>\n",
       "      <td>47</td>\n",
       "    </tr>\n",
       "    <tr>\n",
       "      <th>Chinstrap</th>\n",
       "      <td>0</td>\n",
       "      <td>68</td>\n",
       "      <td>0</td>\n",
       "    </tr>\n",
       "    <tr>\n",
       "      <th>Gentoo</th>\n",
       "      <td>119</td>\n",
       "      <td>0</td>\n",
       "      <td>0</td>\n",
       "    </tr>\n",
       "  </tbody>\n",
       "</table>\n",
       "</div>"
      ],
      "text/plain": [
       "island     Biscoe  Dream  Torgersen\n",
       "species                            \n",
       "Adelie         44     55         47\n",
       "Chinstrap       0     68          0\n",
       "Gentoo        119      0          0"
      ]
     },
     "execution_count": 65,
     "metadata": {},
     "output_type": "execute_result"
    }
   ],
   "source": [
    "penguins.pivot_table(\n",
    "    index='species', \n",
    "    columns='island', \n",
    "    values='bill_length_mm', \n",
    "    aggfunc='count',\n",
    "    fill_value=0,\n",
    ")"
   ]
  },
  {
   "cell_type": "markdown",
   "id": "8e56de78",
   "metadata": {
    "slideshow": {
     "slide_type": "slide"
    }
   },
   "source": [
    "### Reshaping\n",
    "\n",
    "- `pivot_table` reshapes DataFrames from \"long\" to \"wide\".\n",
    "- Other DataFrame reshaping methods:\n",
    "    - `melt`: Un-pivots a DataFrame. Very useful in data cleaning.\n",
    "    - `pivot`: Like `pivot_table`, but doesn't do aggregation.\n",
    "    - `stack`: Pivots multi-level columns to multi-indices.\n",
    "    - `unstack`: Pivots multi-indices to columns.\n",
    "    - Google and the documentation are your friends!"
   ]
  },
  {
   "cell_type": "markdown",
   "id": "8508a69b",
   "metadata": {
    "slideshow": {
     "slide_type": "slide"
    }
   },
   "source": [
    "## Distributions"
   ]
  },
  {
   "cell_type": "markdown",
   "id": "244a4c6f",
   "metadata": {
    "slideshow": {
     "slide_type": "slide"
    }
   },
   "source": [
    "### Joint distribution\n",
    "\n",
    "When using `aggfunc='count'`, a pivot table describes the **joint distribution** of two categorical variables. This is also called a **contingency table**."
   ]
  },
  {
   "cell_type": "code",
   "execution_count": 66,
   "id": "657cb701",
   "metadata": {},
   "outputs": [
    {
     "data": {
      "text/html": [
       "<div>\n",
       "<style scoped>\n",
       "    .dataframe tbody tr th:only-of-type {\n",
       "        vertical-align: middle;\n",
       "    }\n",
       "\n",
       "    .dataframe tbody tr th {\n",
       "        vertical-align: top;\n",
       "    }\n",
       "\n",
       "    .dataframe thead th {\n",
       "        text-align: right;\n",
       "    }\n",
       "</style>\n",
       "<table border=\"1\" class=\"dataframe\">\n",
       "  <thead>\n",
       "    <tr style=\"text-align: right;\">\n",
       "      <th>sex</th>\n",
       "      <th>Female</th>\n",
       "      <th>Male</th>\n",
       "    </tr>\n",
       "    <tr>\n",
       "      <th>species</th>\n",
       "      <th></th>\n",
       "      <th></th>\n",
       "    </tr>\n",
       "  </thead>\n",
       "  <tbody>\n",
       "    <tr>\n",
       "      <th>Adelie</th>\n",
       "      <td>73</td>\n",
       "      <td>73</td>\n",
       "    </tr>\n",
       "    <tr>\n",
       "      <th>Chinstrap</th>\n",
       "      <td>34</td>\n",
       "      <td>34</td>\n",
       "    </tr>\n",
       "    <tr>\n",
       "      <th>Gentoo</th>\n",
       "      <td>58</td>\n",
       "      <td>61</td>\n",
       "    </tr>\n",
       "  </tbody>\n",
       "</table>\n",
       "</div>"
      ],
      "text/plain": [
       "sex        Female  Male\n",
       "species                \n",
       "Adelie         73    73\n",
       "Chinstrap      34    34\n",
       "Gentoo         58    61"
      ]
     },
     "execution_count": 66,
     "metadata": {},
     "output_type": "execute_result"
    }
   ],
   "source": [
    "counts = penguins.pivot_table(\n",
    "    index='species', \n",
    "    columns='sex', \n",
    "    values='body_mass_g', \n",
    "    aggfunc='count', \n",
    "    fill_value=0\n",
    ")\n",
    "counts"
   ]
  },
  {
   "cell_type": "markdown",
   "id": "125b3d37",
   "metadata": {
    "slideshow": {
     "slide_type": "fragment"
    }
   },
   "source": [
    "We can normalize the DataFrame by dividing by the total number of penguins. The resulting numbers can be interpreted as **probabilities** that a randomly selected penguin from the dataset belongs to a given combination of species and sex."
   ]
  },
  {
   "cell_type": "code",
   "execution_count": 67,
   "id": "ef27fe23",
   "metadata": {},
   "outputs": [
    {
     "data": {
      "text/html": [
       "<div>\n",
       "<style scoped>\n",
       "    .dataframe tbody tr th:only-of-type {\n",
       "        vertical-align: middle;\n",
       "    }\n",
       "\n",
       "    .dataframe tbody tr th {\n",
       "        vertical-align: top;\n",
       "    }\n",
       "\n",
       "    .dataframe thead th {\n",
       "        text-align: right;\n",
       "    }\n",
       "</style>\n",
       "<table border=\"1\" class=\"dataframe\">\n",
       "  <thead>\n",
       "    <tr style=\"text-align: right;\">\n",
       "      <th>sex</th>\n",
       "      <th>Female</th>\n",
       "      <th>Male</th>\n",
       "    </tr>\n",
       "    <tr>\n",
       "      <th>species</th>\n",
       "      <th></th>\n",
       "      <th></th>\n",
       "    </tr>\n",
       "  </thead>\n",
       "  <tbody>\n",
       "    <tr>\n",
       "      <th>Adelie</th>\n",
       "      <td>0.22</td>\n",
       "      <td>0.22</td>\n",
       "    </tr>\n",
       "    <tr>\n",
       "      <th>Chinstrap</th>\n",
       "      <td>0.10</td>\n",
       "      <td>0.10</td>\n",
       "    </tr>\n",
       "    <tr>\n",
       "      <th>Gentoo</th>\n",
       "      <td>0.17</td>\n",
       "      <td>0.18</td>\n",
       "    </tr>\n",
       "  </tbody>\n",
       "</table>\n",
       "</div>"
      ],
      "text/plain": [
       "sex        Female  Male\n",
       "species                \n",
       "Adelie       0.22  0.22\n",
       "Chinstrap    0.10  0.10\n",
       "Gentoo       0.17  0.18"
      ]
     },
     "execution_count": 67,
     "metadata": {},
     "output_type": "execute_result"
    }
   ],
   "source": [
    "joint = counts / counts.sum().sum()\n",
    "joint"
   ]
  },
  {
   "cell_type": "markdown",
   "id": "6bf70932",
   "metadata": {
    "slideshow": {
     "slide_type": "slide"
    }
   },
   "source": [
    "### Marginal probabilities\n",
    "\n",
    "If we sum over one of the axes, we can compute **marginal probabilities**, i.e. unconditional probabilities."
   ]
  },
  {
   "cell_type": "code",
   "execution_count": 68,
   "id": "3ae4e508",
   "metadata": {},
   "outputs": [
    {
     "data": {
      "text/html": [
       "<div>\n",
       "<style scoped>\n",
       "    .dataframe tbody tr th:only-of-type {\n",
       "        vertical-align: middle;\n",
       "    }\n",
       "\n",
       "    .dataframe tbody tr th {\n",
       "        vertical-align: top;\n",
       "    }\n",
       "\n",
       "    .dataframe thead th {\n",
       "        text-align: right;\n",
       "    }\n",
       "</style>\n",
       "<table border=\"1\" class=\"dataframe\">\n",
       "  <thead>\n",
       "    <tr style=\"text-align: right;\">\n",
       "      <th>sex</th>\n",
       "      <th>Female</th>\n",
       "      <th>Male</th>\n",
       "    </tr>\n",
       "    <tr>\n",
       "      <th>species</th>\n",
       "      <th></th>\n",
       "      <th></th>\n",
       "    </tr>\n",
       "  </thead>\n",
       "  <tbody>\n",
       "    <tr>\n",
       "      <th>Adelie</th>\n",
       "      <td>0.22</td>\n",
       "      <td>0.22</td>\n",
       "    </tr>\n",
       "    <tr>\n",
       "      <th>Chinstrap</th>\n",
       "      <td>0.10</td>\n",
       "      <td>0.10</td>\n",
       "    </tr>\n",
       "    <tr>\n",
       "      <th>Gentoo</th>\n",
       "      <td>0.17</td>\n",
       "      <td>0.18</td>\n",
       "    </tr>\n",
       "  </tbody>\n",
       "</table>\n",
       "</div>"
      ],
      "text/plain": [
       "sex        Female  Male\n",
       "species                \n",
       "Adelie       0.22  0.22\n",
       "Chinstrap    0.10  0.10\n",
       "Gentoo       0.17  0.18"
      ]
     },
     "execution_count": 68,
     "metadata": {},
     "output_type": "execute_result"
    }
   ],
   "source": [
    "joint"
   ]
  },
  {
   "cell_type": "code",
   "execution_count": 69,
   "id": "8539e9a6",
   "metadata": {},
   "outputs": [
    {
     "data": {
      "text/plain": [
       "sex\n",
       "Female    0.5\n",
       "Male      0.5\n",
       "dtype: float64"
      ]
     },
     "execution_count": 69,
     "metadata": {},
     "output_type": "execute_result"
    }
   ],
   "source": [
    "# Recall, joint.sum(axis=0) sums across the rows, which computes the sum of the **columns**.\n",
    "joint.sum(axis=0)"
   ]
  },
  {
   "cell_type": "code",
   "execution_count": 70,
   "id": "5f5a59a1",
   "metadata": {},
   "outputs": [
    {
     "data": {
      "text/plain": [
       "species\n",
       "Adelie       0.44\n",
       "Chinstrap    0.20\n",
       "Gentoo       0.36\n",
       "dtype: float64"
      ]
     },
     "execution_count": 70,
     "metadata": {},
     "output_type": "execute_result"
    }
   ],
   "source": [
    "joint.sum(axis=1)"
   ]
  },
  {
   "cell_type": "markdown",
   "id": "3abcbba0",
   "metadata": {},
   "source": [
    "For instance, the second Series tells us that a randomly selected penguin has a 0.36 chance of being of species `'Gentoo'`."
   ]
  },
  {
   "cell_type": "markdown",
   "id": "1fb270de",
   "metadata": {
    "slideshow": {
     "slide_type": "slide"
    }
   },
   "source": [
    "### Conditional probabilities\n",
    "\n",
    "Using `counts`, how might we compute conditional probabilities like $$P(\\text{species } = \\text{\"Adelie\"} \\mid \\text{sex } = \\text{\"Female\"})?$$"
   ]
  },
  {
   "cell_type": "code",
   "execution_count": 71,
   "id": "3ba45ff3",
   "metadata": {},
   "outputs": [
    {
     "data": {
      "text/html": [
       "<div>\n",
       "<style scoped>\n",
       "    .dataframe tbody tr th:only-of-type {\n",
       "        vertical-align: middle;\n",
       "    }\n",
       "\n",
       "    .dataframe tbody tr th {\n",
       "        vertical-align: top;\n",
       "    }\n",
       "\n",
       "    .dataframe thead th {\n",
       "        text-align: right;\n",
       "    }\n",
       "</style>\n",
       "<table border=\"1\" class=\"dataframe\">\n",
       "  <thead>\n",
       "    <tr style=\"text-align: right;\">\n",
       "      <th>sex</th>\n",
       "      <th>Female</th>\n",
       "      <th>Male</th>\n",
       "    </tr>\n",
       "    <tr>\n",
       "      <th>species</th>\n",
       "      <th></th>\n",
       "      <th></th>\n",
       "    </tr>\n",
       "  </thead>\n",
       "  <tbody>\n",
       "    <tr>\n",
       "      <th>Adelie</th>\n",
       "      <td>73</td>\n",
       "      <td>73</td>\n",
       "    </tr>\n",
       "    <tr>\n",
       "      <th>Chinstrap</th>\n",
       "      <td>34</td>\n",
       "      <td>34</td>\n",
       "    </tr>\n",
       "    <tr>\n",
       "      <th>Gentoo</th>\n",
       "      <td>58</td>\n",
       "      <td>61</td>\n",
       "    </tr>\n",
       "  </tbody>\n",
       "</table>\n",
       "</div>"
      ],
      "text/plain": [
       "sex        Female  Male\n",
       "species                \n",
       "Adelie         73    73\n",
       "Chinstrap      34    34\n",
       "Gentoo         58    61"
      ]
     },
     "execution_count": 71,
     "metadata": {},
     "output_type": "execute_result"
    }
   ],
   "source": [
    "counts"
   ]
  },
  {
   "cell_type": "markdown",
   "id": "43ad126b",
   "metadata": {
    "slideshow": {
     "slide_type": "fragment"
    }
   },
   "source": [
    "$$\\begin{align*}\n",
    "P(\\text{species} = c \\mid \\text{sex} = x) &= \\frac{P(\\text{species} = c \\text{ and } \\text{sex} = x)}{P(\\text{sex = }x)} \\\\\n",
    "&= \\frac{\\frac{\\# \\: (\\text{species } = \\: c \\text{ and } \\text{sex } = \\: x)}{N}}{\\frac{\\# \\: (\\text{sex } = \\: x)}{N}} \\\\\n",
    "&= \\frac{\\# \\: (\\text{species} = c \\text{ and } \\text{sex} = x)}{\\# \\: (\\text{sex} = x)}\n",
    "\\end{align*}$$"
   ]
  },
  {
   "cell_type": "markdown",
   "id": "ff143cc6",
   "metadata": {
    "slideshow": {
     "slide_type": "fragment"
    }
   },
   "source": [
    "**Answer**: To find conditional probabilities of **species given sex**, divide by **column sums**. To find conditional probabilities of **sex given species**, divide by **row sums**."
   ]
  },
  {
   "cell_type": "markdown",
   "id": "d373b71c",
   "metadata": {
    "slideshow": {
     "slide_type": "slide"
    }
   },
   "source": [
    "### Conditional probabilities\n",
    "\n",
    "To find conditional probabilities of **species given sex**, divide by **column sums**. To find conditional probabilities of **sex given species**, divide by **row sums**."
   ]
  },
  {
   "cell_type": "code",
   "execution_count": 72,
   "id": "13c67c6c",
   "metadata": {},
   "outputs": [
    {
     "data": {
      "text/html": [
       "<div>\n",
       "<style scoped>\n",
       "    .dataframe tbody tr th:only-of-type {\n",
       "        vertical-align: middle;\n",
       "    }\n",
       "\n",
       "    .dataframe tbody tr th {\n",
       "        vertical-align: top;\n",
       "    }\n",
       "\n",
       "    .dataframe thead th {\n",
       "        text-align: right;\n",
       "    }\n",
       "</style>\n",
       "<table border=\"1\" class=\"dataframe\">\n",
       "  <thead>\n",
       "    <tr style=\"text-align: right;\">\n",
       "      <th>sex</th>\n",
       "      <th>Female</th>\n",
       "      <th>Male</th>\n",
       "    </tr>\n",
       "    <tr>\n",
       "      <th>species</th>\n",
       "      <th></th>\n",
       "      <th></th>\n",
       "    </tr>\n",
       "  </thead>\n",
       "  <tbody>\n",
       "    <tr>\n",
       "      <th>Adelie</th>\n",
       "      <td>73</td>\n",
       "      <td>73</td>\n",
       "    </tr>\n",
       "    <tr>\n",
       "      <th>Chinstrap</th>\n",
       "      <td>34</td>\n",
       "      <td>34</td>\n",
       "    </tr>\n",
       "    <tr>\n",
       "      <th>Gentoo</th>\n",
       "      <td>58</td>\n",
       "      <td>61</td>\n",
       "    </tr>\n",
       "  </tbody>\n",
       "</table>\n",
       "</div>"
      ],
      "text/plain": [
       "sex        Female  Male\n",
       "species                \n",
       "Adelie         73    73\n",
       "Chinstrap      34    34\n",
       "Gentoo         58    61"
      ]
     },
     "execution_count": 72,
     "metadata": {},
     "output_type": "execute_result"
    }
   ],
   "source": [
    "counts"
   ]
  },
  {
   "cell_type": "code",
   "execution_count": 73,
   "id": "7e995c56",
   "metadata": {},
   "outputs": [
    {
     "data": {
      "text/plain": [
       "sex\n",
       "Female    165\n",
       "Male      168\n",
       "dtype: int64"
      ]
     },
     "execution_count": 73,
     "metadata": {},
     "output_type": "execute_result"
    }
   ],
   "source": [
    "counts.sum(axis=0)"
   ]
  },
  {
   "cell_type": "markdown",
   "id": "08bae3f5",
   "metadata": {
    "slideshow": {
     "slide_type": "slide"
    }
   },
   "source": [
    "The conditional distribution of **species given sex** is below. Note that in this new DataFrame, the `'Female'` and `'Male'` columns each sum to 1."
   ]
  },
  {
   "cell_type": "code",
   "execution_count": 74,
   "id": "ac092c84",
   "metadata": {},
   "outputs": [
    {
     "data": {
      "text/html": [
       "<div>\n",
       "<style scoped>\n",
       "    .dataframe tbody tr th:only-of-type {\n",
       "        vertical-align: middle;\n",
       "    }\n",
       "\n",
       "    .dataframe tbody tr th {\n",
       "        vertical-align: top;\n",
       "    }\n",
       "\n",
       "    .dataframe thead th {\n",
       "        text-align: right;\n",
       "    }\n",
       "</style>\n",
       "<table border=\"1\" class=\"dataframe\">\n",
       "  <thead>\n",
       "    <tr style=\"text-align: right;\">\n",
       "      <th>sex</th>\n",
       "      <th>Female</th>\n",
       "      <th>Male</th>\n",
       "    </tr>\n",
       "    <tr>\n",
       "      <th>species</th>\n",
       "      <th></th>\n",
       "      <th></th>\n",
       "    </tr>\n",
       "  </thead>\n",
       "  <tbody>\n",
       "    <tr>\n",
       "      <th>Adelie</th>\n",
       "      <td>0.44</td>\n",
       "      <td>0.43</td>\n",
       "    </tr>\n",
       "    <tr>\n",
       "      <th>Chinstrap</th>\n",
       "      <td>0.21</td>\n",
       "      <td>0.20</td>\n",
       "    </tr>\n",
       "    <tr>\n",
       "      <th>Gentoo</th>\n",
       "      <td>0.35</td>\n",
       "      <td>0.36</td>\n",
       "    </tr>\n",
       "  </tbody>\n",
       "</table>\n",
       "</div>"
      ],
      "text/plain": [
       "sex        Female  Male\n",
       "species                \n",
       "Adelie       0.44  0.43\n",
       "Chinstrap    0.21  0.20\n",
       "Gentoo       0.35  0.36"
      ]
     },
     "execution_count": 74,
     "metadata": {},
     "output_type": "execute_result"
    }
   ],
   "source": [
    "counts / counts.sum(axis=0)"
   ]
  },
  {
   "cell_type": "markdown",
   "id": "82ff00a4",
   "metadata": {},
   "source": [
    "For instance, the above DataFrame tells us that the probability that a randomly selected penguin is of species `'Adelie'` **given** that they are of sex `'Female'` is 0.442424."
   ]
  },
  {
   "cell_type": "markdown",
   "id": "d4991c0d",
   "metadata": {
    "slideshow": {
     "slide_type": "slide"
    }
   },
   "source": [
    "**Exercise**: Try and find the conditional distribution of **sex given species**."
   ]
  },
  {
   "cell_type": "code",
   "execution_count": null,
   "id": "2c51d196",
   "metadata": {},
   "outputs": [],
   "source": []
  },
  {
   "cell_type": "markdown",
   "id": "4ee6c875",
   "metadata": {
    "slideshow": {
     "slide_type": "slide"
    }
   },
   "source": [
    "## Simpson's paradox\n",
    "\n",
    "<center><img src=\"imgs/simpsons.png\" width=50%></center>"
   ]
  },
  {
   "cell_type": "markdown",
   "id": "a8a330c7",
   "metadata": {
    "slideshow": {
     "slide_type": "slide"
    }
   },
   "source": [
    "### Example: Grades\n",
    "\n",
    "- Two students, Lisa and Bart, just finished freshman year. They both took a different number of classes in Fall, Winter, and Spring.\n",
    "\n",
    "- Each quarter, Lisa had a higher GPA than Bart.\n",
    "\n",
    "- But Bart has a higher overall GPA.\n",
    "\n",
    "- How is this possible? 🤔"
   ]
  },
  {
   "cell_type": "markdown",
   "id": "ef31642c",
   "metadata": {
    "slideshow": {
     "slide_type": "slide"
    }
   },
   "source": [
    "Run this cell to create DataFrames that contain each students' grades."
   ]
  },
  {
   "cell_type": "code",
   "execution_count": 75,
   "id": "f859a42e",
   "metadata": {},
   "outputs": [],
   "source": [
    "lisa = pd.DataFrame([\n",
    "        [20, 46],\n",
    "        [18, 54],\n",
    "        [5, 20],\n",
    "    ],\n",
    "    columns=['Units', 'Grade Points Earned'], \n",
    "    index=['Fall', 'Winter', 'Spring'],\n",
    ")\n",
    "\n",
    "bart = pd.DataFrame([\n",
    "        [5, 10],\n",
    "        [5, 13.5],\n",
    "        [22, 81.4],\n",
    "    ],\n",
    "    columns=['Units', 'Grade Points Earned'], \n",
    "    index=['Fall', 'Winter', 'Spring'],\n",
    ")"
   ]
  },
  {
   "cell_type": "markdown",
   "id": "778dc50b",
   "metadata": {
    "slideshow": {
     "slide_type": "slide"
    }
   },
   "source": [
    "### Quarter-specific vs. overall GPAs\n",
    "\n",
    "**Note:** The number of \"grade points\" earned for a course is\n",
    "\n",
    "$$\\text{number of units} \\cdot \\text{grade (out of 4)}$$\n",
    "\n",
    "For instance, an A- in a 4 unit course earns $3.7 \\cdot 4 = 14.8$ grade points."
   ]
  },
  {
   "cell_type": "code",
   "execution_count": 76,
   "id": "f87166f7",
   "metadata": {},
   "outputs": [
    {
     "data": {
      "text/html": [
       "<div>\n",
       "<style scoped>\n",
       "    .dataframe tbody tr th:only-of-type {\n",
       "        vertical-align: middle;\n",
       "    }\n",
       "\n",
       "    .dataframe tbody tr th {\n",
       "        vertical-align: top;\n",
       "    }\n",
       "\n",
       "    .dataframe thead th {\n",
       "        text-align: right;\n",
       "    }\n",
       "</style>\n",
       "<table border=\"1\" class=\"dataframe\">\n",
       "  <thead>\n",
       "    <tr style=\"text-align: right;\">\n",
       "      <th></th>\n",
       "      <th>Units</th>\n",
       "      <th>Grade Points Earned</th>\n",
       "    </tr>\n",
       "  </thead>\n",
       "  <tbody>\n",
       "    <tr>\n",
       "      <th>Fall</th>\n",
       "      <td>20</td>\n",
       "      <td>46</td>\n",
       "    </tr>\n",
       "    <tr>\n",
       "      <th>Winter</th>\n",
       "      <td>18</td>\n",
       "      <td>54</td>\n",
       "    </tr>\n",
       "    <tr>\n",
       "      <th>Spring</th>\n",
       "      <td>5</td>\n",
       "      <td>20</td>\n",
       "    </tr>\n",
       "  </tbody>\n",
       "</table>\n",
       "</div>"
      ],
      "text/plain": [
       "        Units  Grade Points Earned\n",
       "Fall       20                   46\n",
       "Winter     18                   54\n",
       "Spring      5                   20"
      ]
     },
     "execution_count": 76,
     "metadata": {},
     "output_type": "execute_result"
    }
   ],
   "source": [
    "lisa"
   ]
  },
  {
   "cell_type": "code",
   "execution_count": 77,
   "id": "78a11ed3",
   "metadata": {},
   "outputs": [
    {
     "data": {
      "text/html": [
       "<div>\n",
       "<style scoped>\n",
       "    .dataframe tbody tr th:only-of-type {\n",
       "        vertical-align: middle;\n",
       "    }\n",
       "\n",
       "    .dataframe tbody tr th {\n",
       "        vertical-align: top;\n",
       "    }\n",
       "\n",
       "    .dataframe thead th {\n",
       "        text-align: right;\n",
       "    }\n",
       "</style>\n",
       "<table border=\"1\" class=\"dataframe\">\n",
       "  <thead>\n",
       "    <tr style=\"text-align: right;\">\n",
       "      <th></th>\n",
       "      <th>Units</th>\n",
       "      <th>Grade Points Earned</th>\n",
       "    </tr>\n",
       "  </thead>\n",
       "  <tbody>\n",
       "    <tr>\n",
       "      <th>Fall</th>\n",
       "      <td>5</td>\n",
       "      <td>10.0</td>\n",
       "    </tr>\n",
       "    <tr>\n",
       "      <th>Winter</th>\n",
       "      <td>5</td>\n",
       "      <td>13.5</td>\n",
       "    </tr>\n",
       "    <tr>\n",
       "      <th>Spring</th>\n",
       "      <td>22</td>\n",
       "      <td>81.4</td>\n",
       "    </tr>\n",
       "  </tbody>\n",
       "</table>\n",
       "</div>"
      ],
      "text/plain": [
       "        Units  Grade Points Earned\n",
       "Fall        5                 10.0\n",
       "Winter      5                 13.5\n",
       "Spring     22                 81.4"
      ]
     },
     "execution_count": 77,
     "metadata": {},
     "output_type": "execute_result"
    }
   ],
   "source": [
    "bart"
   ]
  },
  {
   "cell_type": "markdown",
   "id": "b9d1793e",
   "metadata": {
    "slideshow": {
     "slide_type": "fragment"
    }
   },
   "source": [
    "Lisa had a higher GPA in all three quarters:"
   ]
  },
  {
   "cell_type": "code",
   "execution_count": 78,
   "id": "f4e9fd96",
   "metadata": {},
   "outputs": [
    {
     "data": {
      "text/html": [
       "<div>\n",
       "<style scoped>\n",
       "    .dataframe tbody tr th:only-of-type {\n",
       "        vertical-align: middle;\n",
       "    }\n",
       "\n",
       "    .dataframe tbody tr th {\n",
       "        vertical-align: top;\n",
       "    }\n",
       "\n",
       "    .dataframe thead th {\n",
       "        text-align: right;\n",
       "    }\n",
       "</style>\n",
       "<table border=\"1\" class=\"dataframe\">\n",
       "  <thead>\n",
       "    <tr style=\"text-align: right;\">\n",
       "      <th></th>\n",
       "      <th>Lisa's Quarter GPA</th>\n",
       "      <th>Bart's Quarter GPA</th>\n",
       "    </tr>\n",
       "  </thead>\n",
       "  <tbody>\n",
       "    <tr>\n",
       "      <th>Fall</th>\n",
       "      <td>2.3</td>\n",
       "      <td>2.0</td>\n",
       "    </tr>\n",
       "    <tr>\n",
       "      <th>Winter</th>\n",
       "      <td>3.0</td>\n",
       "      <td>2.7</td>\n",
       "    </tr>\n",
       "    <tr>\n",
       "      <th>Spring</th>\n",
       "      <td>4.0</td>\n",
       "      <td>3.7</td>\n",
       "    </tr>\n",
       "  </tbody>\n",
       "</table>\n",
       "</div>"
      ],
      "text/plain": [
       "        Lisa's Quarter GPA  Bart's Quarter GPA\n",
       "Fall                   2.3                 2.0\n",
       "Winter                 3.0                 2.7\n",
       "Spring                 4.0                 3.7"
      ]
     },
     "execution_count": 78,
     "metadata": {},
     "output_type": "execute_result"
    }
   ],
   "source": [
    "quarterly_gpas = pd.DataFrame({\n",
    "    \"Lisa's Quarter GPA\": lisa['Grade Points Earned'] / lisa['Units'],\n",
    "    \"Bart's Quarter GPA\": bart['Grade Points Earned'] / bart['Units'],\n",
    "})\n",
    "\n",
    "quarterly_gpas"
   ]
  },
  {
   "cell_type": "markdown",
   "id": "67e78254",
   "metadata": {
    "slideshow": {
     "slide_type": "fragment"
    }
   },
   "source": [
    "But Lisa's overall GPA was less than Bart's overall GPA:"
   ]
  },
  {
   "cell_type": "code",
   "execution_count": 79,
   "id": "4cab9968",
   "metadata": {},
   "outputs": [
    {
     "data": {
      "text/plain": [
       "2.7906976744186047"
      ]
     },
     "execution_count": 79,
     "metadata": {},
     "output_type": "execute_result"
    }
   ],
   "source": [
    "tot = lisa.sum()\n",
    "tot['Grade Points Earned'] / tot['Units']"
   ]
  },
  {
   "cell_type": "code",
   "execution_count": 80,
   "id": "4f61bc0a",
   "metadata": {},
   "outputs": [
    {
     "data": {
      "text/plain": [
       "3.278125"
      ]
     },
     "execution_count": 80,
     "metadata": {},
     "output_type": "execute_result"
    }
   ],
   "source": [
    "tot = bart.sum()\n",
    "tot['Grade Points Earned'] / tot['Units']"
   ]
  },
  {
   "cell_type": "markdown",
   "id": "91f345d5",
   "metadata": {
    "slideshow": {
     "slide_type": "slide"
    }
   },
   "source": [
    "### What happened?"
   ]
  },
  {
   "cell_type": "code",
   "execution_count": 81,
   "id": "c1296389",
   "metadata": {},
   "outputs": [
    {
     "data": {
      "text/html": [
       "<div>\n",
       "<style scoped>\n",
       "    .dataframe tbody tr th:only-of-type {\n",
       "        vertical-align: middle;\n",
       "    }\n",
       "\n",
       "    .dataframe tbody tr th {\n",
       "        vertical-align: top;\n",
       "    }\n",
       "\n",
       "    .dataframe thead th {\n",
       "        text-align: right;\n",
       "    }\n",
       "</style>\n",
       "<table border=\"1\" class=\"dataframe\">\n",
       "  <thead>\n",
       "    <tr style=\"text-align: right;\">\n",
       "      <th></th>\n",
       "      <th>Lisa's Quarter GPA</th>\n",
       "      <th>Lisa_units</th>\n",
       "      <th>Bart's Quarter GPA</th>\n",
       "      <th>Bart_units</th>\n",
       "    </tr>\n",
       "  </thead>\n",
       "  <tbody>\n",
       "    <tr>\n",
       "      <th>Fall</th>\n",
       "      <td>2.3</td>\n",
       "      <td>20</td>\n",
       "      <td>2.0</td>\n",
       "      <td>5</td>\n",
       "    </tr>\n",
       "    <tr>\n",
       "      <th>Winter</th>\n",
       "      <td>3.0</td>\n",
       "      <td>18</td>\n",
       "      <td>2.7</td>\n",
       "      <td>5</td>\n",
       "    </tr>\n",
       "    <tr>\n",
       "      <th>Spring</th>\n",
       "      <td>4.0</td>\n",
       "      <td>5</td>\n",
       "      <td>3.7</td>\n",
       "      <td>22</td>\n",
       "    </tr>\n",
       "  </tbody>\n",
       "</table>\n",
       "</div>"
      ],
      "text/plain": [
       "        Lisa's Quarter GPA  Lisa_units  Bart's Quarter GPA  Bart_units\n",
       "Fall                   2.3          20                 2.0           5\n",
       "Winter                 3.0          18                 2.7           5\n",
       "Spring                 4.0           5                 3.7          22"
      ]
     },
     "execution_count": 81,
     "metadata": {},
     "output_type": "execute_result"
    }
   ],
   "source": [
    "(quarterly_gpas\n",
    " .assign(Lisa_units=lisa['Units'],\n",
    "         Bart_units=bart['Units']) \n",
    " .iloc[:, [0, 2, 1, 3]]\n",
    ")"
   ]
  },
  {
   "cell_type": "markdown",
   "id": "9097e730",
   "metadata": {
    "slideshow": {
     "slide_type": "fragment"
    }
   },
   "source": [
    "- When Lisa and Bart both performed poorly, Lisa took more units than Bart. **This brought down 📉 Lisa's overall average.**\n",
    "\n",
    "- When Lisa and Bart both performed well, Bart took more units than Annie. **This brought up 📈 Bart's overall average.**"
   ]
  },
  {
   "cell_type": "markdown",
   "id": "2fd844c7",
   "metadata": {
    "slideshow": {
     "slide_type": "slide"
    }
   },
   "source": [
    "### Simpson's paradox\n",
    "\n",
    "- Simpson's paradox occurs when **grouped data and ungrouped data show opposing trends**.\n",
    "    - It is named after Edward H. Simpson, not Lisa or Bart Simpson.\n",
    "\n",
    "- It is **purely arithmetic** – it is a consequence of weighted averages.\n",
    "\n",
    "- It often happens because there is a hidden factor (i.e. a **confounder**) within the data that influences results.\n",
    "\n",
    "- **Question:** What is the \"correct\" way to summarize your data? What if you had to act on these results?"
   ]
  },
  {
   "cell_type": "markdown",
   "id": "4f62c363",
   "metadata": {
    "slideshow": {
     "slide_type": "slide"
    }
   },
   "source": [
    "### Example: How Berkeley was _almost_ sued for gender discrimination (1973)\n",
    "\n",
    "What do you notice?\n",
    "\n",
    "<center><img src='imgs/berkeley.png' width=70%></center>"
   ]
  },
  {
   "cell_type": "code",
   "execution_count": 82,
   "id": "d0da5b55",
   "metadata": {
    "scrolled": false,
    "slideshow": {
     "slide_type": "slide"
    }
   },
   "outputs": [
    {
     "data": {
      "text/html": [
       "\n",
       "        <iframe\n",
       "            width=\"960\"\n",
       "            height=\"569\"\n",
       "            src=\"https://docs.google.com/presentation/d/e/2PACX-1vSbFSaxaYZ0NcgrgqZLvjhkjX-5MQzAITWAsEFZHnix3j1c0qN8Vd1rogTAQP7F7Nf5r-JWExnGey7h/embed?start=false\"\n",
       "            frameborder=\"0\"\n",
       "            allowfullscreen\n",
       "            \n",
       "        ></iframe>\n",
       "        "
      ],
      "text/plain": [
       "<IPython.lib.display.IFrame at 0x7fb8d0029040>"
      ]
     },
     "metadata": {},
     "output_type": "display_data"
    }
   ],
   "source": [
    "show_paradox_slides()"
   ]
  },
  {
   "cell_type": "markdown",
   "id": "0e443b86",
   "metadata": {
    "slideshow": {
     "slide_type": "slide"
    }
   },
   "source": [
    "### What happened?\n",
    "\n",
    "- The overall acceptance rate for women (30%) was lower than it was for men (45%).\n",
    "\n",
    "- However, most departments (A, B, D, F) had a higher acceptance rate for women.\n",
    "\n",
    "\n",
    "- Department A had a 62% acceptance rate for men and an 82% acceptance rate for women!\n",
    "    - 31% of men applied to Department A.\n",
    "    - 6% of women applied to Department A.\n",
    "\n",
    "- Department F had a 6% acceptance rate for men and a 7% acceptance rate for women!\n",
    "    - 14% of men applied to Department F.\n",
    "    - 19% of women applied to Department F.\n",
    "\n",
    "- **Conclusion:** Women tended to apply to departments with a lower acceptance rate; the data don't support the hypothesis that there was major gender discrimination against women."
   ]
  },
  {
   "cell_type": "markdown",
   "id": "06dd1143",
   "metadata": {
    "slideshow": {
     "slide_type": "slide"
    }
   },
   "source": [
    "### Caution!\n",
    "\n",
    "This doesn't mean that admissions are free from gender discrimination! \n",
    "\n",
    "From [Moss-Racusin et al., 2012, PNAS](https://www.pnas.org/doi/10.1073/pnas.1211286109) (cited 2600+ times):\n",
    "\n",
    "> In a randomized double-blind study (n = 127), **science faculty** from research-intensive universities **rated the application materials of a student—who was randomly assigned either a male or female** name—for a laboratory manager position. Faculty **participants rated the male applicant as significantly more competent and hireable than the (identical) female applicant**. These participants also selected a higher starting salary and offered more career mentoring to the male applicant. The gender of the faculty participants did not affect responses, such that female and male faculty were equally likely to exhibit bias against the female student."
   ]
  },
  {
   "cell_type": "markdown",
   "id": "c062e680",
   "metadata": {
    "slideshow": {
     "slide_type": "slide"
    }
   },
   "source": [
    "### But then...\n",
    "\n",
    "From [Williams and Ceci, 2015, PNAS](https://www.pnas.org/doi/10.1073/pnas.1418878112):\n",
    "\n",
    "> Here we report five hiring experiments in which faculty evaluated hypothetical female and male applicants, using systematically varied profiles disguising identical scholarship, for assistant professorships in biology, engineering, economics, and psychology. Contrary to prevailing assumptions, **men and women faculty members from all four fields preferred female applicants 2:1 over identically qualified males** with matching lifestyles (single, married, divorced), with the exception of male economists, who showed no gender preference."
   ]
  },
  {
   "cell_type": "markdown",
   "id": "6ca45cbb",
   "metadata": {
    "slideshow": {
     "slide_type": "slide"
    }
   },
   "source": [
    "### Do these conflict?\n",
    "\n",
    "Not necessarily. One explanation, from William and Ceci:\n",
    "\n",
    "> Instead, past studies have used ratings of students’ hirability for a range of posts that do not include tenure-track jobs, such as managing laboratories or performing math assignments for a company. However, hiring tenure-track faculty differs from hiring lower-level staff: it entails selecting among highly accomplished candidates, all of whom have completed Ph.D.s and amassed publications and strong letters of support. **Hiring bias may occur when applicants’ records are ambiguous, as was true in studies of hiring bias for lower-level staff posts, but such bias may not occur when records are clearly strong**, as is the case with tenure-track hiring."
   ]
  },
  {
   "cell_type": "markdown",
   "id": "805d73d6",
   "metadata": {
    "slideshow": {
     "slide_type": "slide"
    }
   },
   "source": [
    "### Do these conflict?\n",
    "\n",
    "From Witteman, et al, 2019, in *The Lancet*:\n",
    "\n",
    "> Thus, evidence of scientists favouring women comes exclusively from hypothetical scenarios, whereas evidence of scientists favouring men comes from hypothetical scenarios and real behaviour. This **might reflect academics' growing awareness of the social desirability of achieving gender balance, while real academic behaviour might not yet put such ideals into action**."
   ]
  },
  {
   "cell_type": "markdown",
   "id": "0de1b64a",
   "metadata": {
    "slideshow": {
     "slide_type": "slide"
    }
   },
   "source": [
    "### Example: Restaurant reviews and phone types\n",
    "\n",
    "* You are deciding whether to eat at Dirty Birds or The Loft.\n",
    "\n",
    "* Suppose Yelp shows ratings aggregated by phone type (Android vs. iPhone).\n",
    "\n",
    "|Phone Type|Stars for Dirty Birds|Stars for The Loft|\n",
    "|---|---|---|\n",
    "|Android|4.24|4.0|\n",
    "|iPhone|2.99|2.79|\n",
    "|**All**|**3.32**|**3.37**|\n",
    "\n",
    "\n",
    "* **Question**: Should you choose Dirty Birds or The Loft? \n",
    "\n",
    "\n",
    "* **Answer**: The type of phone you use likely has nothing to do with your taste in food – pick the restaurant that is rated higher overall.\n",
    "\n",
    "* Remember, Simpson's paradox is merely a property of weighted averages!"
   ]
  },
  {
   "cell_type": "markdown",
   "id": "1e2e46f5",
   "metadata": {
    "slideshow": {
     "slide_type": "slide"
    }
   },
   "source": [
    "### Takeaways\n",
    "\n",
    "Be skeptical of...\n",
    "\n",
    "- Aggregate statistics.\n",
    "- People misusing statistics to \"prove\" that discrimination doesn't exist.\n",
    "- Drawing conclusions from individual publications ($p$-hacking, publication bias, narrow focus, etc.).\n",
    "- Everything!\n",
    "\n",
    "**We need to apply domain knowledge and human judgement calls to decide what to do when Simpson's paradox is present.**"
   ]
  },
  {
   "cell_type": "markdown",
   "id": "0bda3331",
   "metadata": {
    "slideshow": {
     "slide_type": "slide"
    }
   },
   "source": [
    "### Really?\n",
    "\n",
    "To handle Simpson's paradox with rigor, we need some ideas from causal inference which we don't have time to cover in DSC 80. This video has a good example of how to approach Simpson's paradox, using a minimal amount of causal inference, if you're curious (not required for DSC 80)."
   ]
  },
  {
   "cell_type": "code",
   "execution_count": 83,
   "id": "ecce9e2a",
   "metadata": {},
   "outputs": [
    {
     "data": {
      "text/html": [
       "\n",
       "        <iframe\n",
       "            width=\"560\"\n",
       "            height=\"315\"\n",
       "            src=\"https://www.youtube-nocookie.com/embed/zeuW1Z2EtLs?si=l2Dl7P-5RCq3ODpo\"\n",
       "            frameborder=\"0\"\n",
       "            allowfullscreen\n",
       "            \n",
       "        ></iframe>\n",
       "        "
      ],
      "text/plain": [
       "<IPython.lib.display.IFrame at 0x7fb8f146fe20>"
      ]
     },
     "execution_count": 83,
     "metadata": {},
     "output_type": "execute_result"
    }
   ],
   "source": [
    "IFrame('https://www.youtube-nocookie.com/embed/zeuW1Z2EtLs?si=l2Dl7P-5RCq3ODpo',\n",
    "       width=560, height=315)"
   ]
  },
  {
   "cell_type": "markdown",
   "id": "25547cfa",
   "metadata": {
    "slideshow": {
     "slide_type": "slide"
    }
   },
   "source": [
    "### Further reading\n",
    "\n",
    "- [Gender Bias in Admission Statistics?](https://www.cantorsparadise.com/gender-bias-in-admission-statistics-eaabca650810)\n",
    "    - Contains a **great** visualization, but seems to be paywalled now.\n",
    "- [What is Simpson's Paradox?](https://statisticsbyjim.com/basics/simpsons-paradox/) "
   ]
  },
  {
   "cell_type": "markdown",
   "id": "5b500565",
   "metadata": {
    "slideshow": {
     "slide_type": "slide"
    }
   },
   "source": [
    "## Summary, next time\n",
    "\n",
    "- Grouping allows us to change the level of granularity in a DataFrame.\n",
    "- Grouping involves three steps – split, apply, and combine (or filter, or transform).\n",
    "- `pivot_table` aggregates data based on two categorical columns, and reshapes the result to be \"wide\" instead of \"long\".\n",
    "- Simpson's paradox occurs when grouped data and ungrouped data show opposing trends.\n",
    "    - It is a consequence of arithmetic.\n",
    "- Next time: Data cleaning! 🧼"
   ]
  }
 ],
 "metadata": {
  
  "kernelspec": {
   "display_name": "Python 3 (ipykernel)",
   "language": "python",
   "name": "python3"
  },
  "language_info": {
   "codemirror_mode": {
    "name": "ipython",
    "version": 3
   },
   "file_extension": ".py",
   "mimetype": "text/x-python",
   "name": "python",
   "nbconvert_exporter": "python",
   "pygments_lexer": "ipython3",
   "version": "3.8.18"
  },
  "livereveal": {
   "scroll": true
  },
  "rise": {
   "transition": "none"
  }
 },
 "nbformat": 4,
 "nbformat_minor": 5
}
